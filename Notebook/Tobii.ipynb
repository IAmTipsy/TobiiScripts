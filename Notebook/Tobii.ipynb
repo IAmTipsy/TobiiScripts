{
 "cells": [
  {
   "cell_type": "markdown",
   "metadata": {},
   "source": [
    "# Methods\n",
    "- Class **TobiiTsvObject**\n",
    "    - Takes a tsv file from the Tobii software\n",
    "    - tobii = TobiiTsvObject('ALL-DATA.tsv')\n",
    "    \n",
    "- Methods\n",
    "\n",
    "    1. getSaccadicData()\n",
    "        * **Outputs information on the saccadic data in the form of a dictionary with the path Participants->Images->Data:**\n",
    "        1. Amount of saccades for image for participant (int)\n",
    "        2. Mean duration of saccades for image for participant (float)\n",
    "        3. Mean saccade velocity for image for participant (float)\n",
    "        4. Saccade velocity peak for image for participant (float)\n"
   ]
  },
  {
   "cell_type": "code",
   "execution_count": 6,
   "metadata": {
    "collapsed": false
   },
   "outputs": [],
   "source": [
    "class TobiiTsvObject:\n",
    "    \n",
    "    # Variables\n",
    "    data = []\n",
    "    headers = []\n",
    "    \n",
    "    #init\n",
    "    def __init__(self, tsvPath):\n",
    "        self.data, self.headers = self.importTsv(tsvPath)\n",
    "    \n",
    "    #Init Methods\n",
    "    def importTsv(self, tsvPath):\n",
    "        import csv\n",
    "        tobiiData = []\n",
    "        with open(tsvPath,'rb') as tsvin:\n",
    "            tsvin = csv.reader(tsvin, delimiter='\\t')\n",
    "            count = 0\n",
    "            for row in tsvin:\n",
    "                tobiiData.append(row)\n",
    "        tobiiHeaders = []\n",
    "        count = 0\n",
    "        for header in tobiiData[0]:\n",
    "            tobiiHeaders.append(str(header))\n",
    "            print str(count) +\": \" + header\n",
    "            count += 1\n",
    "        return [tobiiData, tobiiHeaders]\n",
    "    \n",
    "    #Methods\n",
    "    # call AOIHitCount(HeaderIndex) to get a count of hits misses and total within the AOI\n",
    "    def AOIHitCount(self, HeaderIndex):\n",
    "        hit = []\n",
    "        for data in self.data[1:]:\n",
    "            hit.append(data[HeaderIndex])\n",
    "        hits = hit.count(\"1\")\n",
    "        miss = hit.count(\"0\")\n",
    "        total = hits + miss\n",
    "        return [hits, miss, total]\n",
    "    \n",
    "    def getSaccades(self, AOIList, time=500):\n",
    "        saccades = []            \n",
    "        # 45 46 47            \n",
    "        inputAOIs = AOIList\n",
    "        prevAOI = None\n",
    "        prevAOITime = 0\n",
    "        currentAOI = None\n",
    "        for row in tobii.data[1:]:\n",
    "            for AOI in AOIList:\n",
    "                if row[AOI] == \"1\":\n",
    "                    prevAOI = currentAOI\n",
    "                    currentAOI = tobii.headers[AOI]\n",
    "                    if currentAOI == prevAOI:\n",
    "                        prevAOITime = int(row[31])\n",
    "                    if (int(row[31]) - prevAOITime) < time and currentAOI != prevAOI and prevAOI != None:\n",
    "                        #print prevAOI[4:-4]+\"\\t->\\t\"+currentAOI[4:-4]\n",
    "                        saccades.append([prevAOI[4:-4], currentAOI[4:-4], int(row[31]) - prevAOITime])#prevAOITime, int(row[31])])\n",
    "        return saccades\n",
    "\n",
    "    def getParticipants(self):\n",
    "        participants = []\n",
    "        for row in tobii.data[1:]:\n",
    "            if row[4] not in participants:\n",
    "                participants.append(row[4])\n",
    "        return participants\n",
    "    \n",
    "    def getMediaRowForParticipants(self, participantsIn):\n",
    "        participants = {}\n",
    "        for participant in participantsIn:\n",
    "            media = {}\n",
    "            index = 1\n",
    "            for row in tobii.data[1:]:\n",
    "                if participant == row[4] and row[18] != \"\":\n",
    "                    if row[18] not in media:\n",
    "                        media[row[18]] = [index]\n",
    "                    else:\n",
    "                        media[row[18]].append(index)\n",
    "                index += 1\n",
    "            media2 = {}\n",
    "            for key in media.keys():\n",
    "                first = media[key][0]\n",
    "                last = media[key][-1]\n",
    "                media2[key] = [first, last]\n",
    "            participants[participant] = media2\n",
    "        return participants\n",
    "    \n",
    "    def getTotalSaccades(self, saccadeList):\n",
    "        return len(saccadeList)\n",
    "    \n",
    "    def getSaccadeDurationMean(self, durationDict):\n",
    "        dictSum = sum(durationDict.values())\n",
    "        dictLen = len(durationDict.values())\n",
    "        return float(dictSum) / float(dictLen)\n",
    "    \n",
    "    def getSaccadeVelocityMean(self, velocityDict):\n",
    "        velSum = sum(velocityDict.values())\n",
    "        velLen = len(velocityDict.values())\n",
    "        return float(velSum) / float(velLen)\n",
    "    \n",
    "    def getSaccadeVelocityPeak(self, velocityDict):\n",
    "        return max(velocityDict.values())\n",
    "    \n",
    "    def stringToFloat(self, string):\n",
    "        for idx in xrange(len(string)):\n",
    "            if string[idx] == \".\":\n",
    "                return float(string[:idx]) + float(string[idx:])\n",
    "        return \"ERROR\"\n",
    "    \n",
    "    def getSaccadicData(self):\n",
    "        participants = {}\n",
    "        xData = self.getMediaRowForParticipants(tobii.getParticipants())\n",
    "        for participant in xData:\n",
    "            participants[participant] = {}\n",
    "            for image in xData[participant]:\n",
    "                participants[participant][image] = []\n",
    "                fromRow = xData[participant][image][0]\n",
    "                toRow = xData[participant][image][1]\n",
    "        \n",
    "                indexTotal = 0\n",
    "                durationMean = 0\n",
    "                #durationPeak = 0\n",
    "                velocityMean = 0\n",
    "                velocityPeak = 0\n",
    "        \n",
    "                index = []\n",
    "                duration = {}\n",
    "                velocity = {}\n",
    "\n",
    "                prevSacIdx = None\n",
    "                currSacIdx = None\n",
    "                sacDurStart = 0\n",
    "                sacDurEnd = 0\n",
    "                for row in tobii.data[fromRow:toRow]:\n",
    "                    prevSacIdx = currSacIdx\n",
    "                    currSacIdx = row[36]\n",
    "                    if row[36] not in index and row[36] != \"\":\n",
    "                        index.append(row[36])\n",
    "            \n",
    "                    \n",
    "                    if currSacIdx != \"\" and currSacIdx!= None and prevSacIdx == \"\":\n",
    "                        sacDurStart = row[31]\n",
    "                    elif prevSacIdx != \"\" and currSacIdx == \"\":\n",
    "                        sacDurEnd = row[31]\n",
    "                        sacDur = int(sacDurEnd) - int(sacDurStart)\n",
    "                        duration[prevSacIdx] = sacDur\n",
    "        \n",
    "                        if row[41] != \"\":\n",
    "                            curAmp = str(row[41]).replace(\",\",\".\")\n",
    "                            curAmp = self.stringToFloat(curAmp)\n",
    "                            curDur = float(duration[prevSacIdx])/1000 #SECONDS\n",
    "        \n",
    "                            velocity[prevSacIdx] =  curAmp / curDur\n",
    "            \n",
    "                indexTotal = tobii.getTotalSaccades(index)\n",
    "                durationMean = self.getSaccadeDurationMean(duration)\n",
    "                velocityMean = self.getSaccadeVelocityMean(velocity)\n",
    "                velocityPeak = self.getSaccadeVelocityPeak(velocity)\n",
    "                participants[participant][image] = [indexTotal, durationMean, velocityMean, velocityPeak]\n",
    "        return participants"
   ]
  },
  {
   "cell_type": "code",
   "execution_count": 7,
   "metadata": {
    "collapsed": false
   },
   "outputs": [
    {
     "name": "stdout",
     "output_type": "stream",
     "text": [
      "0: ﻿ExportDate\n",
      "1: StudioVersionRec\n",
      "2: StudioProjectName\n",
      "3: StudioTestName\n",
      "4: ParticipantName\n",
      "5: [Q01]Value\n",
      "6: [mq1]Value\n",
      "7: [q2]Value\n",
      "8: [q2_2]Value\n",
      "9: [mq1_2]Value\n",
      "10: [q2_1]Value\n",
      "11: [mq1_1]Value\n",
      "12: RecordingName\n",
      "13: RecordingDate\n",
      "14: RecordingDuration\n",
      "15: RecordingResolution\n",
      "16: PresentationSequence\n",
      "17: FixationFilter\n",
      "18: MediaName\n",
      "19: MediaPosX (ADCSpx)\n",
      "20: MediaPosY (ADCSpx)\n",
      "21: MediaWidth\n",
      "22: MediaHeight\n",
      "23: SegmentName\n",
      "24: SegmentStart\n",
      "25: SegmentEnd\n",
      "26: SegmentDuration\n",
      "27: SceneName\n",
      "28: SceneSegmentStart\n",
      "29: SceneSegmentEnd\n",
      "30: SceneSegmentDuration\n",
      "31: RecordingTimestamp\n",
      "32: LocalTimeStamp\n",
      "33: EyeTrackerTimestamp\n",
      "34: MouseEvent\n",
      "35: FixationIndex\n",
      "36: SaccadeIndex\n",
      "37: GazeEventType\n",
      "38: GazeEventDuration\n",
      "39: FixationPointX (MCSpx)\n",
      "40: FixationPointY (MCSpx)\n",
      "41: SaccadicAmplitude\n",
      "42: AbsoluteSaccadicDirection\n",
      "43: RelativeSaccadicDirection\n",
      "44: AOI[m1bMessy-AOI]Hit\n",
      "45: AOI[m1bxnMessy]Hit\n",
      "46: AOI[m1boMessy]Hit\n",
      "47: AOI[m1bQuestion]Hit\n",
      "48: AOI[m1aNotMesyQuestion]Hit\n",
      "49: AOI[m1aNotMessy-AOI]Hit\n",
      "50: AOI[m1axnNotMessy]Hit\n",
      "51: AOI[m1aoNotMessy]Hit\n",
      "52: AOI[m4aquestionNotMessy]Hit\n",
      "53: AOI[m4aRNotMessy]Hit\n",
      "54: AOI[m4avNotMessy]Hit\n",
      "55: AOI[m4aAOINotMessy-AOI]Hit\n",
      "56: AOI[m4bQuestion]Hit\n",
      "57: AOI[m4brMessy]Hit\n",
      "58: AOI[m4bvMessy]Hit\n",
      "59: AOI[m4bAOIMessy-AOI]Hit\n",
      "60: GazePointIndex\n",
      "61: GazePointLeftX (ADCSpx)\n",
      "62: GazePointLeftY (ADCSpx)\n",
      "63: GazePointRightX (ADCSpx)\n",
      "64: GazePointRightY (ADCSpx)\n",
      "65: GazePointX (ADCSpx)\n",
      "66: GazePointY (ADCSpx)\n",
      "67: GazePointX (MCSpx)\n",
      "68: GazePointY (MCSpx)\n",
      "69: GazePointLeftX (ADCSmm)\n",
      "70: GazePointLeftY (ADCSmm)\n",
      "71: GazePointRightX (ADCSmm)\n",
      "72: GazePointRightY (ADCSmm)\n",
      "73: StrictAverageGazePointX (ADCSmm)\n",
      "74: StrictAverageGazePointY (ADCSmm)\n",
      "75: EyePosLeftX (ADCSmm)\n",
      "76: EyePosLeftY (ADCSmm)\n",
      "77: EyePosLeftZ (ADCSmm)\n",
      "78: EyePosRightX (ADCSmm)\n",
      "79: EyePosRightY (ADCSmm)\n",
      "80: EyePosRightZ (ADCSmm)\n",
      "81: CamLeftX\n",
      "82: CamLeftY\n",
      "83: CamRightX\n",
      "84: CamRightY\n",
      "85: DistanceLeft\n",
      "86: DistanceRight\n",
      "87: PupilLeft\n",
      "88: PupilRight\n",
      "89: ValidityLeft\n",
      "90: ValidityRight\n",
      "91: IRMarkerCount\n",
      "92: IRMarkerID\n",
      "93: PupilGlassesRight\n",
      "94: \n"
     ]
    }
   ],
   "source": [
    "tobii = TobiiTsvObject('ALL-DATA.tsv')\n",
    "#tobii = TobiiTsvObject(\"mettemodel3bothglobal.tsv\")"
   ]
  },
  {
   "cell_type": "code",
   "execution_count": 8,
   "metadata": {
    "collapsed": false
   },
   "outputs": [
    {
     "name": "stdout",
     "output_type": "stream",
     "text": [
      "{'P01': {'model4agq.png': [271, 404.1033210332103, 147.3972344782999, 2980.0], 'model1agq.png': [82, 910.6219512195122, 218.7807284440233, 4453.333333333333], 'model1bgq.png': [224, 67.12, 139.42686505646566, 1655.7142857142856], 'model4bgq.png': [335, 544.4791666666666, 128.52371959013118, 1581.0]}}\n"
     ]
    }
   ],
   "source": [
    "print tobii.getSaccadicData()"
   ]
  },
  {
   "cell_type": "code",
   "execution_count": 9,
   "metadata": {
    "collapsed": false
   },
   "outputs": [
    {
     "data": {
      "text/plain": [
       "[271, 404.1033210332103, 147.3972344782999, 2980.0]"
      ]
     },
     "execution_count": 9,
     "metadata": {},
     "output_type": "execute_result"
    }
   ],
   "source": [
    "[271, 404.1033210332103, 147.3972344782999, 2980.0]"
   ]
  },
  {
   "cell_type": "code",
   "execution_count": 5,
   "metadata": {
    "collapsed": false
   },
   "outputs": [
    {
     "data": {
      "text/plain": [
       "[335, 544.4791666666666, 128.52371959013118, 1581.0]"
      ]
     },
     "execution_count": 5,
     "metadata": {},
     "output_type": "execute_result"
    }
   ],
   "source": [
    "[335, 544.4791666666666, 128.52371959013118, 1581.0]"
   ]
  },
  {
   "cell_type": "code",
   "execution_count": null,
   "metadata": {
    "collapsed": true
   },
   "outputs": [],
   "source": []
  }
 ],
 "metadata": {
  "anaconda-cloud": {},
  "kernelspec": {
   "display_name": "Python [default]",
   "language": "python",
   "name": "python2"
  },
  "language_info": {
   "codemirror_mode": {
    "name": "ipython",
    "version": 2
   },
   "file_extension": ".py",
   "mimetype": "text/x-python",
   "name": "python",
   "nbconvert_exporter": "python",
   "pygments_lexer": "ipython2",
   "version": "2.7.12"
  }
 },
 "nbformat": 4,
 "nbformat_minor": 1
}
