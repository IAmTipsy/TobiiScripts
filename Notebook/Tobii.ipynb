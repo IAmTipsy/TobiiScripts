{
 "cells": [
  {
   "cell_type": "code",
   "execution_count": 19,
   "metadata": {
    "collapsed": false
   },
   "outputs": [],
   "source": [
    "import csv\n",
    "\n",
    "class TobiiTsvObject:\n",
    "    \n",
    "    # Variables\n",
    "    data = []\n",
    "    headers = []\n",
    "    \n",
    "    #init\n",
    "    def __init__(self, tsvPath):\n",
    "        self.data, self.headers = self.importTsv(tsvPath)\n",
    "    \n",
    "    #Init Methods\n",
    "    def importTsv(self, tsvPath):\n",
    "        tobiiData = []\n",
    "        with open(tsvPath,'rb') as tsvin:\n",
    "            tsvin = csv.reader(tsvin, delimiter='\\t')\n",
    "            count = 0\n",
    "            for row in tsvin:\n",
    "                tobiiData.append(row)\n",
    "        tobiiHeaders = []\n",
    "        count = 0\n",
    "        for header in tobiiData[0]:\n",
    "            tobiiHeaders.append(str(header))\n",
    "            print str(count) +\": \" + header\n",
    "            count += 1\n",
    "        return [tobiiData, tobiiHeaders]\n",
    "    \n",
    "    #Methods\n",
    "    # call AOIHitCount(HeaderIndex) to get a count of hits misses and total within the AOI\n",
    "    def AOIHitCount(self, HeaderIndex):\n",
    "        hit = []\n",
    "        for data in self.data[1:]:\n",
    "            hit.append(data[HeaderIndex])\n",
    "        hits = hit.count(\"1\")\n",
    "        miss = hit.count(\"0\")\n",
    "        total = hits + miss\n",
    "        return [hits, miss, total]\n",
    "    \n",
    "    def getSaccades(self, AOIList, time=500):\n",
    "        saccades = []            \n",
    "        # 45 46 47            \n",
    "        inputAOIs = AOIList\n",
    "        prevAOI = None\n",
    "        prevAOITime = 0\n",
    "        currentAOI = None\n",
    "        for row in tobii.data[1:]:\n",
    "            for AOI in AOIList:\n",
    "                if row[AOI] == \"1\":\n",
    "                    prevAOI = currentAOI\n",
    "                    currentAOI = tobii.headers[AOI]\n",
    "                    if currentAOI == prevAOI:\n",
    "                        prevAOITime = int(row[31])\n",
    "                    if (int(row[31]) - prevAOITime) < time and currentAOI != prevAOI and prevAOI != None:\n",
    "                        #print prevAOI[4:-4]+\"\\t->\\t\"+currentAOI[4:-4]\n",
    "                        saccades.append([prevAOI[4:-4], currentAOI[4:-4], int(row[31]) - prevAOITime])#prevAOITime, int(row[31])])\n",
    "        return saccades\n"
   ]
  },
  {
   "cell_type": "code",
   "execution_count": 21,
   "metadata": {
    "collapsed": false
   },
   "outputs": [
    {
     "name": "stdout",
     "output_type": "stream",
     "text": [
      "0: ﻿ExportDate\n",
      "1: StudioVersionRec\n",
      "2: StudioProjectName\n",
      "3: StudioTestName\n",
      "4: ParticipantName\n",
      "5: [Q01]Value\n",
      "6: [mq1]Value\n",
      "7: [q2]Value\n",
      "8: [q2_2]Value\n",
      "9: [mq1_2]Value\n",
      "10: [q2_1]Value\n",
      "11: [mq1_1]Value\n",
      "12: RecordingName\n",
      "13: RecordingDate\n",
      "14: RecordingDuration\n",
      "15: RecordingResolution\n",
      "16: PresentationSequence\n",
      "17: FixationFilter\n",
      "18: MediaName\n",
      "19: MediaPosX (ADCSpx)\n",
      "20: MediaPosY (ADCSpx)\n",
      "21: MediaWidth\n",
      "22: MediaHeight\n",
      "23: SegmentName\n",
      "24: SegmentStart\n",
      "25: SegmentEnd\n",
      "26: SegmentDuration\n",
      "27: SceneName\n",
      "28: SceneSegmentStart\n",
      "29: SceneSegmentEnd\n",
      "30: SceneSegmentDuration\n",
      "31: RecordingTimestamp\n",
      "32: LocalTimeStamp\n",
      "33: EyeTrackerTimestamp\n",
      "34: MouseEvent\n",
      "35: FixationIndex\n",
      "36: SaccadeIndex\n",
      "37: GazeEventType\n",
      "38: GazeEventDuration\n",
      "39: FixationPointX (MCSpx)\n",
      "40: FixationPointY (MCSpx)\n",
      "41: SaccadicAmplitude\n",
      "42: AbsoluteSaccadicDirection\n",
      "43: RelativeSaccadicDirection\n",
      "44: AOI[m1bMessy-AOI]Hit\n",
      "45: AOI[m1bxnMessy]Hit\n",
      "46: AOI[m1boMessy]Hit\n",
      "47: AOI[m1bQuestion]Hit\n",
      "48: AOI[m1aNotMesyQuestion]Hit\n",
      "49: AOI[m1aNotMessy-AOI]Hit\n",
      "50: AOI[m1axnNotMessy]Hit\n",
      "51: AOI[m1aoNotMessy]Hit\n",
      "52: AOI[m4aquestionNotMessy]Hit\n",
      "53: AOI[m4aRNotMessy]Hit\n",
      "54: AOI[m4avNotMessy]Hit\n",
      "55: AOI[m4aAOINotMessy-AOI]Hit\n",
      "56: AOI[m4bQuestion]Hit\n",
      "57: AOI[m4brMessy]Hit\n",
      "58: AOI[m4bvMessy]Hit\n",
      "59: AOI[m4bAOIMessy-AOI]Hit\n",
      "60: GazePointIndex\n",
      "61: GazePointLeftX (ADCSpx)\n",
      "62: GazePointLeftY (ADCSpx)\n",
      "63: GazePointRightX (ADCSpx)\n",
      "64: GazePointRightY (ADCSpx)\n",
      "65: GazePointX (ADCSpx)\n",
      "66: GazePointY (ADCSpx)\n",
      "67: GazePointX (MCSpx)\n",
      "68: GazePointY (MCSpx)\n",
      "69: GazePointLeftX (ADCSmm)\n",
      "70: GazePointLeftY (ADCSmm)\n",
      "71: GazePointRightX (ADCSmm)\n",
      "72: GazePointRightY (ADCSmm)\n",
      "73: StrictAverageGazePointX (ADCSmm)\n",
      "74: StrictAverageGazePointY (ADCSmm)\n",
      "75: EyePosLeftX (ADCSmm)\n",
      "76: EyePosLeftY (ADCSmm)\n",
      "77: EyePosLeftZ (ADCSmm)\n",
      "78: EyePosRightX (ADCSmm)\n",
      "79: EyePosRightY (ADCSmm)\n",
      "80: EyePosRightZ (ADCSmm)\n",
      "81: CamLeftX\n",
      "82: CamLeftY\n",
      "83: CamRightX\n",
      "84: CamRightY\n",
      "85: DistanceLeft\n",
      "86: DistanceRight\n",
      "87: PupilLeft\n",
      "88: PupilRight\n",
      "89: ValidityLeft\n",
      "90: ValidityRight\n",
      "91: IRMarkerCount\n",
      "92: IRMarkerID\n",
      "93: PupilGlassesRight\n",
      "94: \n"
     ]
    }
   ],
   "source": [
    "tobii = TobiiTsvObject('ALL-DATA.tsv')"
   ]
  },
  {
   "cell_type": "code",
   "execution_count": 22,
   "metadata": {
    "collapsed": false
   },
   "outputs": [
    {
     "data": {
      "text/plain": [
       "[788, 5588, 6376]"
      ]
     },
     "execution_count": 22,
     "metadata": {},
     "output_type": "execute_result"
    }
   ],
   "source": [
    "tobii.AOIHitCount(48)"
   ]
  },
  {
   "cell_type": "code",
   "execution_count": 30,
   "metadata": {
    "collapsed": false,
    "scrolled": false
   },
   "outputs": [
    {
     "data": {
      "text/plain": [
       "[['m1bMessy-AOI', 'm1bQuestion', 96],\n",
       " ['m1bQuestion', 'm1bMessy-AOI', 90],\n",
       " ['m1bMessy-AOI', 'm1bQuestion', 94],\n",
       " ['m1bQuestion', 'm1bMessy-AOI', 107],\n",
       " ['m1bMessy-AOI', 'm1bQuestion', 167],\n",
       " ['m1bQuestion', 'm1bMessy-AOI', 160]]"
      ]
     },
     "execution_count": 30,
     "metadata": {},
     "output_type": "execute_result"
    }
   ],
   "source": [
    "tobii.getSaccades([47,44])"
   ]
  },
  {
   "cell_type": "code",
   "execution_count": 176,
   "metadata": {
    "collapsed": false
   },
   "outputs": [],
   "source": [
    "#AOI seccades\n",
    "index = 0\n",
    "AOIIndex = []\n",
    "for row in tobii.headers:\n",
    "    if row[:3] == \"AOI\":\n",
    "        AOIIndex.append(index)\n",
    "    index += 1\n",
    "\n",
    "seccades = []\n",
    "    \n",
    "prevAOI = None\n",
    "currentAOI = None\n",
    "for row in tobii.data[1:]:\n",
    "    for AOIIdx in AOIIndex:\n",
    "        if row[AOIIdx] == \"1\":\n",
    "            currentAOI = tobii.headers[AOIIdx]\n",
    "            if prevAOI != None and prevAOI != currentAOI:\n",
    "                seccade = prevAOI+\"->\"+currentAOI\n",
    "                seccades.append(seccade)\n",
    "        else:\n",
    "            currentAOI = None\n",
    "    prevAOI = currentAOI\n",
    "    \n",
    "#print len(seccades)\n",
    "            \n",
    "saccades = []            \n",
    "# 45 46 47            \n",
    "inputAOIs = [45, 46, 47]\n",
    "prevAOI = None\n",
    "prevAOITime = 0\n",
    "currentAOI = None\n",
    "for row in tobii.data[1:]:\n",
    "    for AOI in inputAOIs:\n",
    "        if row[AOI] == \"1\":\n",
    "            prevAOI = currentAOI\n",
    "            currentAOI = tobii.headers[AOI]\n",
    "            if currentAOI == prevAOI:\n",
    "                prevAOITime = int(row[31])\n",
    "            if (int(row[31]) - prevAOITime) < 500 and currentAOI != prevAOI and prevAOI != None:\n",
    "                #print prevAOI[4:-4]+\"\\t->\\t\"+currentAOI[4:-4]\n",
    "                saccades.append([prevAOI[4:-4], currentAOI[4:-4], prevAOITime, int(row[31])])\n",
    "                \n",
    "\n",
    "   \n",
    "\n",
    "\n",
    "    "
   ]
  }
 ],
 "metadata": {
  "anaconda-cloud": {},
  "kernelspec": {
   "display_name": "Python [default]",
   "language": "python",
   "name": "python2"
  },
  "language_info": {
   "codemirror_mode": {
    "name": "ipython",
    "version": 2
   },
   "file_extension": ".py",
   "mimetype": "text/x-python",
   "name": "python",
   "nbconvert_exporter": "python",
   "pygments_lexer": "ipython2",
   "version": "2.7.12"
  }
 },
 "nbformat": 4,
 "nbformat_minor": 1
}
