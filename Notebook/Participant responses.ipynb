{
 "cells": [
  {
   "cell_type": "code",
   "execution_count": 1,
   "metadata": {
    "collapsed": true
   },
   "outputs": [],
   "source": [
    "import numpy as np"
   ]
  },
  {
   "cell_type": "code",
   "execution_count": 2,
   "metadata": {
    "collapsed": true
   },
   "outputs": [],
   "source": [
    "def CSVtoList(tsvFile):\n",
    "    import csv\n",
    "    #Create a container for the tsv\n",
    "    tsvList = []\n",
    "    #Open the .tsv file and append it to a python list\n",
    "    with open(tsvFile,'rb') as tsvIn:\n",
    "        tsvIn = csv.reader(tsvIn, delimiter=',')\n",
    "        for row in tsvIn:\n",
    "            tsvList.append(row)\n",
    "    return tsvList"
   ]
  },
  {
   "cell_type": "code",
   "execution_count": 3,
   "metadata": {},
   "outputs": [],
   "source": [
    "filePath = \"C:/Users/Simon/Documents/Skole/Master/participants/Participant Information.csv\"\n",
    "responses = CSVtoList(filePath)\n",
    "headers = responses[0]\n",
    "responses = responses[1:]"
   ]
  },
  {
   "cell_type": "code",
   "execution_count": 4,
   "metadata": {},
   "outputs": [
    {
     "name": "stdout",
     "output_type": "stream",
     "text": [
      "0 Timestamp\n",
      "1 Participant ID (Written by facilitator)\n",
      "2 What is your gender?\n",
      "3 What is your age?\n",
      "4 What is your native language?\n",
      "5 Do you wear optics?\n",
      "6 Are you left or right handed?\n",
      "7 Are you color blind?\n",
      "8 What is your current profession?\n",
      "9 If you have selected \"Other\" please specify which profession.\n",
      "10 How many years ago did you start process modeling?\n",
      "11 What was the first process modeling language you learned?\n",
      "12 What process modeling languages did you learn?\n",
      "13 Which process modeling language are you using mainly?\n",
      "14 How many process models have you analysed or read within the last 12 months? (A year has about 250 work days. In case you read one model per day, this would sum up to 250 models per year)\n",
      "15 How many process models have you created or edited within the last 12 months?\n",
      "16 How many activities did all these models have on average?\n",
      "17 How many work days of formal training on process modelling have you received within the last 12 months? (This includes e.g. University lectures, certification courses, training courses. 15 weeks of a 90 minutes university lecture is roughly 3 work days )\n",
      "18 How many work days of self education have you made the last 12 months? (Learning-by-doing, learning-on-the-fly, self-study of textbooks or specifications)\n",
      "19 Overall, I am very familiar with BPMN.\n",
      "20 I feel confident in understanding process models created with the BPMN.\n",
      "21 I feel competent in using the BPMN for process modelling.\n",
      "22 How many months ago did you start using BPMN?\n",
      "23 A business process consists of different tasks which have to be executed according to a pre-defined order to reach a specific goal.\n",
      "24 The tasks in a business process have to be executed in a linear sequence. This allows for the automated processing of data afterwards.\n",
      "25 Business processes are well structured processes and are based on the division of labor as for instance procurement and customer support of a company.\n",
      "26 For exclusive choices (XOR), exactly one of the alternative branches is activated.\n",
      "27 If two activities are modeled as being concurrent, then they must be executed at the sametime.\n",
      "28 Exclusive choices can be used to model repetition.\n",
      "29 In many process modeling languages, synchronization is modeled by an AND-join.\n",
      "30 If an activity is modeled to be part of a loop, then it is always executed at least once.\n"
     ]
    }
   ],
   "source": [
    "index = 0\n",
    "for header in headers:\n",
    "    print index, header\n",
    "    index += 1"
   ]
  },
  {
   "cell_type": "code",
   "execution_count": 5,
   "metadata": {},
   "outputs": [],
   "source": [
    "responses[-1][1] = \"p465b\"\n",
    "del responses[10] #delete chinese guy"
   ]
  },
  {
   "cell_type": "code",
   "execution_count": 6,
   "metadata": {
    "collapsed": true
   },
   "outputs": [],
   "source": [
    "del responses[3] #random guy which data does not work in the experiment"
   ]
  },
  {
   "cell_type": "code",
   "execution_count": 7,
   "metadata": {},
   "outputs": [],
   "source": [
    "responses[7][10] = 0.5\n",
    "responses[8][10] = 0.5"
   ]
  },
  {
   "cell_type": "code",
   "execution_count": 8,
   "metadata": {},
   "outputs": [
    {
     "name": "stdout",
     "output_type": "stream",
     "text": [
      "7\n",
      "20\n",
      "0\n",
      "0.5\n",
      ".25\n",
      "0\n",
      "3\n",
      "0.5\n",
      "0.5\n",
      "1\n",
      "1\n",
      "0\n",
      "3\n"
     ]
    }
   ],
   "source": [
    "for participant in responses:\n",
    "    print participant[10]"
   ]
  },
  {
   "cell_type": "code",
   "execution_count": 9,
   "metadata": {},
   "outputs": [
    {
     "name": "stdout",
     "output_type": "stream",
     "text": [
      "0 p665a\n",
      "1 p847b\n",
      "2 p786a\n",
      "3 p024a\n",
      "4 p741b\n",
      "5 p551a\n",
      "6 p338b\n",
      "7 p057a\n",
      "8 p768b\n",
      "9 p846a\n",
      "10 p876a\n",
      "11 p335b\n",
      "12 p465b\n"
     ]
    }
   ],
   "source": [
    "index = 0\n",
    "for participant in responses:\n",
    "    print index, participant[1]\n",
    "    index += 1"
   ]
  },
  {
   "cell_type": "code",
   "execution_count": 10,
   "metadata": {
    "scrolled": true
   },
   "outputs": [],
   "source": [
    "responsesA = []\n",
    "responsesB = []\n",
    "for participant in responses:\n",
    "    if participant[1][4] == \"a\":\n",
    "        responsesA.append(participant)\n",
    "    else:\n",
    "        responsesB.append(participant)"
   ]
  },
  {
   "cell_type": "code",
   "execution_count": 11,
   "metadata": {},
   "outputs": [],
   "source": [
    "responseList = [responsesA, responsesB]"
   ]
  },
  {
   "cell_type": "code",
   "execution_count": 12,
   "metadata": {},
   "outputs": [
    {
     "name": "stdout",
     "output_type": "stream",
     "text": [
      "21 26.77 42\n"
     ]
    }
   ],
   "source": [
    "ageList = []\n",
    "for participant in responses:\n",
    "    ageList.append(int(participant[3]))\n",
    "print min(ageList), \"%0.2f\" % (np.mean(ageList)), max(ageList)"
   ]
  },
  {
   "cell_type": "code",
   "execution_count": 13,
   "metadata": {},
   "outputs": [
    {
     "name": "stdout",
     "output_type": "stream",
     "text": [
      "2.82692307692\n"
     ]
    },
    {
     "data": {
      "image/png": "[encoded data removed]",
      "text/plain": [
       "<matplotlib.figure.Figure at 0x757d240>"
      ]
     },
     "metadata": {},
     "output_type": "display_data"
    }
   ],
   "source": [
    "experienceList = []\n",
    "for participant in responses:\n",
    "    experienceList.append(float(participant[10]))\n",
    "import matplotlib.pyplot as plt\n",
    "%matplotlib inline\n",
    "\n",
    "plt.hist(experienceList,20,)\n",
    "print np.mean(experienceList)"
   ]
  },
  {
   "cell_type": "code",
   "execution_count": 14,
   "metadata": {},
   "outputs": [
    {
     "name": "stdout",
     "output_type": "stream",
     "text": [
      "7\n",
      "0\n",
      "0.5\n",
      "0\n",
      "0.5\n",
      "1\n",
      "1\n",
      "7\n",
      "Group A - Mean experience: 1.42857142857\n",
      "20\n",
      ".25\n",
      "3\n",
      "0.5\n",
      "0\n",
      "3\n",
      "6\n",
      "Group B - Mean experience: 4.45833333333\n"
     ]
    }
   ],
   "source": [
    "\n",
    "group = \"Group A - Mean experience:\"\n",
    "for rList in responseList:\n",
    "    meanList = []\n",
    "    for participant in rList:\n",
    "        meanList.append(float(participant[10]))\n",
    "        print participant[10]\n",
    "    print len(meanList)\n",
    "    print str(group), np.mean(meanList)\n",
    "    group = \"Group B - Mean experience:\""
   ]
  },
  {
   "cell_type": "code",
   "execution_count": 15,
   "metadata": {
    "collapsed": true
   },
   "outputs": [],
   "source": [
    "def inputScore(inputString):\n",
    "    if inputString is \"Strongly disagree\":\n",
    "        return 1\n",
    "    elif inputString == \"Disagree\":\n",
    "        return 2\n",
    "    elif inputString == \"Somewhat disagree\":\n",
    "        return 3\n",
    "    elif inputString == \"Neutral\":\n",
    "        return 4\n",
    "    elif inputString == \"Somewhat agree\":\n",
    "        return 5\n",
    "    elif inputString == 'Agree':\n",
    "        return 6\n",
    "    elif inputString == \"Strongly agree\":\n",
    "        return 7\n",
    "    print \"Something is not right\""
   ]
  },
  {
   "cell_type": "code",
   "execution_count": 16,
   "metadata": {},
   "outputs": [],
   "source": [
    "def responseScore(responseInput):\n",
    "    score1 = []\n",
    "    score2 = []\n",
    "    score3 = []\n",
    "    for participant in responseInput:\n",
    "        participantAnswer1 = participant[19]\n",
    "        participantAnswer2 = participant[20]\n",
    "        participantAnswer3 = participant[21]\n",
    "        score1.append(inputScore(participantAnswer1))\n",
    "        score2.append(inputScore(participantAnswer2))\n",
    "        score3.append(inputScore(participantAnswer3))\n",
    "    return score1,score2,score3"
   ]
  },
  {
   "cell_type": "code",
   "execution_count": 17,
   "metadata": {
    "collapsed": true
   },
   "outputs": [],
   "source": [
    "familiarityA, confidentA, competentA = responseScore(responsesA)\n",
    "familiarityB, confidentB, competentB = responseScore(responsesB)"
   ]
  },
  {
   "cell_type": "code",
   "execution_count": 18,
   "metadata": {},
   "outputs": [],
   "source": [
    "foreknowledgeA = []\n",
    "for index in xrange(len(familiarityA)):\n",
    "    foreknowledgeA.append(np.mean([familiarityA[index],confidentA[index],competentA[index]]))\n",
    "    \n",
    "    \n",
    "foreknowledgeB = []\n",
    "for index in xrange(len(familiarityB)):\n",
    "    foreknowledgeB.append(np.mean([familiarityB[index],confidentB[index],competentB[index]]))\n",
    "\n",
    "foreknowledge = foreknowledgeA+foreknowledgeB"
   ]
  },
  {
   "cell_type": "code",
   "execution_count": 19,
   "metadata": {},
   "outputs": [
    {
     "name": "stdout",
     "output_type": "stream",
     "text": [
      "Variance\tMinimum\tMaximum\t\n",
      "1.17\t2.67\t7.0\n",
      "Group\tMean\tN\tStd. Deviation\tMedian\tStd. Error of Mean\n",
      "A\t6.10\t7\t0.73\t\t6.00\t0.79\n",
      "B\t5.39\t6\t1.28\t\t5.83\t1.41\n"
     ]
    }
   ],
   "source": [
    "print \"Variance\\tMinimum\\tMaximum\\t\"\n",
    "print \"%0.2f\" % (np.var(foreknowledge))+\"\\t\"+\"%0.2f\" % (min(foreknowledge))+\"\\t\"+str(max(foreknowledge))\n",
    "print \"Group\\tMean\\tN\\tStd. Deviation\\tMedian\\tStd. Error of Mean\"\n",
    "print \"A\\t\"+\"%0.2f\" % (np.mean(foreknowledgeA),)+\"\\t\"+str(len(foreknowledgeA))+\"\\t\"+\"%0.2f\" % (np.std(foreknowledgeA),)+\"\\t\\t\"+\"%0.2f\" % (np.median(foreknowledgeA),)+\"\\t%0.2f\" % (np.std(foreknowledgeA, ddof=1),)\n",
    "print \"B\\t\"+\"%0.2f\" % (np.mean(foreknowledgeB),)+\"\\t\"+str(len(foreknowledgeB))+\"\\t\"+\"%0.2f\" % (np.std(foreknowledgeB),)+\"\\t\\t\"+\"%0.2f\" % (np.median(foreknowledgeB),)+\"\\t%0.2f\" % (np.std(foreknowledgeB, ddof=1),)"
   ]
  },
  {
   "cell_type": "code",
   "execution_count": 20,
   "metadata": {},
   "outputs": [
    {
     "name": "stdout",
     "output_type": "stream",
     "text": [
      "(0.9224589467048645, 0.4887372553348541)\n",
      "(0.7877536416053772, 0.04547511041164398)\n"
     ]
    }
   ],
   "source": [
    "import scipy.stats as stats\n",
    "print stats.shapiro(foreknowledgeA)\n",
    "print stats.shapiro(foreknowledgeB)"
   ]
  },
  {
   "cell_type": "code",
   "execution_count": 21,
   "metadata": {},
   "outputs": [
    {
     "data": {
      "text/plain": [
       "MannwhitneyuResult(statistic=13.5, pvalue=0.15356471373217878)"
      ]
     },
     "execution_count": 21,
     "metadata": {},
     "output_type": "execute_result"
    }
   ],
   "source": [
    "stats.mannwhitneyu(foreknowledgeA, foreknowledgeB)"
   ]
  },
  {
   "cell_type": "code",
   "execution_count": 22,
   "metadata": {
    "collapsed": true
   },
   "outputs": [],
   "source": [
    "def CronbachAlpha(itemscores):\n",
    "    itemscores = np.asarray(itemscores)\n",
    "    itemvars = itemscores.var(axis=1, ddof=1)\n",
    "    tscores = itemscores.sum(axis=0)\n",
    "    nitems = len(itemscores)\n",
    "\n",
    "    return nitems / (nitems-1.) * (1 - itemvars.sum() / tscores.var(ddof=1))"
   ]
  },
  {
   "cell_type": "code",
   "execution_count": 23,
   "metadata": {},
   "outputs": [
    {
     "name": "stdout",
     "output_type": "stream",
     "text": [
      "0.910256410256\n",
      "0.962476547842\n"
     ]
    }
   ],
   "source": [
    "print CronbachAlpha([familiarityA, confidentA, competentA])\n",
    "print CronbachAlpha([familiarityB, confidentB, competentB])"
   ]
  },
  {
   "cell_type": "code",
   "execution_count": 24,
   "metadata": {},
   "outputs": [
    {
     "name": "stdout",
     "output_type": "stream",
     "text": [
      "0.929032258065\n"
     ]
    }
   ],
   "source": [
    "print CronbachAlpha([familiarityA[:-1], confidentA[:-1], competentA[:-1], familiarityB, confidentB, competentB])"
   ]
  },
  {
   "cell_type": "code",
   "execution_count": 25,
   "metadata": {},
   "outputs": [
    {
     "name": "stdout",
     "output_type": "stream",
     "text": [
      "0.777777777778\n"
     ]
    }
   ],
   "source": [
    "print CronbachAlpha([foreknowledgeA[:-1], foreknowledgeB])"
   ]
  },
  {
   "cell_type": "code",
   "execution_count": null,
   "metadata": {
    "collapsed": true
   },
   "outputs": [],
   "source": []
  },
  {
   "cell_type": "code",
   "execution_count": null,
   "metadata": {
    "collapsed": true
   },
   "outputs": [],
   "source": []
  },
  {
   "cell_type": "code",
   "execution_count": null,
   "metadata": {
    "collapsed": true
   },
   "outputs": [],
   "source": []
  }
 ],
 "metadata": {
  "anaconda-cloud": {},
  "kernelspec": {
   "display_name": "Python [default]",
   "language": "python",
   "name": "python2"
  },
  "language_info": {
   "codemirror_mode": {
    "name": "ipython",
    "version": 2
   },
   "file_extension": ".py",
   "mimetype": "text/x-python",
   "name": "python",
   "nbconvert_exporter": "python",
   "pygments_lexer": "ipython2",
   "version": "2.7.13"
  }
 },
 "nbformat": 4,
 "nbformat_minor": 1
}
