{
 "cells": [
  {
   "cell_type": "code",
   "execution_count": 1,
   "metadata": {
    "collapsed": true
   },
   "outputs": [],
   "source": [
    "import numpy as np\n",
    "import scipy.stats as stats"
   ]
  },
  {
   "cell_type": "code",
   "execution_count": 2,
   "metadata": {
    "collapsed": true
   },
   "outputs": [],
   "source": [
    "def TSVtoList(tsvFile):\n",
    "    import csv\n",
    "    #Create a container for the tsv\n",
    "    tsvList = []\n",
    "    #Open the .tsv file and append it to a python list\n",
    "    with open(tsvFile,'rb') as tsvIn:\n",
    "        tsvIn = csv.reader(tsvIn, delimiter='\\t')\n",
    "        for row in tsvIn:\n",
    "            tsvList.append(row)\n",
    "    return tsvList"
   ]
  },
  {
   "cell_type": "code",
   "execution_count": 3,
   "metadata": {
    "collapsed": true
   },
   "outputs": [],
   "source": [
    "def ExcludeNonImageRows(tsvList):\n",
    "    index = []\n",
    "    currentIndex = 1\n",
    "    mediaNameIndex = GetIndexForHeader(\"MediaName\")\n",
    "    for row in tsvList[1:]:\n",
    "        if row[mediaNameIndex] == \"\":\n",
    "            index.append(currentIndex)\n",
    "        currentIndex += 1\n",
    "    for row in reversed(index):\n",
    "        del tsvList[row]\n",
    "    return tsvList[1:]"
   ]
  },
  {
   "cell_type": "code",
   "execution_count": 4,
   "metadata": {
    "collapsed": true
   },
   "outputs": [],
   "source": [
    "def ExcludeNonAOIRows(tsvList):\n",
    "    saveRow = False\n",
    "    returnList = []\n",
    "    for row in tsvList:\n",
    "        #print row[GetIndexForHeader(\"FixationIndex\")], row[GetIndexForHeader(\"SaccadeIndex\")]\n",
    "        FixationIndexIndex = GetIndexForHeader(\"FixationIndex\")\n",
    "        AOIHeader = GetIndexForHeader(\"AOI[AOI]Hit\")\n",
    "        questionNumber = row[GetIndexForHeader(\"MediaName\")]\n",
    "        aORb = questionNumber[2]\n",
    "        questionNumber = int(questionNumber[-6:-4])\n",
    "        if aORb == \"A\":\n",
    "            AOIHeader = AOIHeader + (2*(questionNumber-1))\n",
    "        elif aORb == \"B\":\n",
    "            AOIHeader = AOIHeader + (24*2) +(2*(questionNumber-1))\n",
    "            \n",
    "        if row[AOIHeader] == \"1\":\n",
    "            saveRow = True\n",
    "        if row[FixationIndexIndex] != \"\" and row[AOIHeader] == \"0\":\n",
    "            saveRow = False\n",
    "            \n",
    "        if saveRow is True:\n",
    "            returnList.append(row) \n",
    "    return returnList"
   ]
  },
  {
   "cell_type": "code",
   "execution_count": 5,
   "metadata": {
    "collapsed": true
   },
   "outputs": [],
   "source": [
    "def DivideIntoSeparateImageLists(tsvList):\n",
    "    imageDictionary = {}\n",
    "    mediaNameIndex = GetIndexForHeader(\"MediaName\")\n",
    "    for row in tsvList[1:]:\n",
    "        if row[113] not in imageDictionary:\n",
    "            imageDictionary[row[mediaNameIndex]] = [row]\n",
    "        else:\n",
    "            imageDictionary[row[mediaNameIndex]].append(row)\n",
    "    return imageDictionary"
   ]
  },
  {
   "cell_type": "code",
   "execution_count": 6,
   "metadata": {
    "collapsed": true
   },
   "outputs": [],
   "source": [
    "def CalculateDurationForImage(dataList):\n",
    "    RecordingTimestampIndex = GetIndexForHeader(\"RecordingTimestamp\")\n",
    "    start =  float(dataList[0][RecordingTimestampIndex])\n",
    "    end = float(dataList[-1][RecordingTimestampIndex])\n",
    "    duration = end - start\n",
    "    #Convert to seconds\n",
    "    duration = duration / 1000\n",
    "    return duration"
   ]
  },
  {
   "cell_type": "code",
   "execution_count": 7,
   "metadata": {
    "collapsed": true
   },
   "outputs": [],
   "source": [
    "def CalculateAmountOfFixations(dataList):\n",
    "    #index = 0\n",
    "    FixationIndexIndex = GetIndexForHeader(\"FixationIndex\")\n",
    "    #for row in dataList:\n",
    "        #if dataList[index][FixationIndexIndex] is not \"\":\n",
    "            #break\n",
    "        #index += 1\n",
    "    #start = int(dataList[index][FixationIndexIndex])\n",
    "    #index = -1\n",
    "    #for row in reversed(dataList):\n",
    "        #if dataList[index][FixationIndexIndex] is not \"\":\n",
    "            #break\n",
    "        #index -= 1\n",
    "    #end = int(dataList[index][FixationIndexIndex])\n",
    "    #amount = end - start\n",
    "    \n",
    "    amountList = []\n",
    "    \n",
    "    for row in dataList:\n",
    "        if row[FixationIndexIndex] not in amountList:\n",
    "            amountList.append(row[FixationIndexIndex])\n",
    "    amount = len(amountList)\n",
    "    return amount"
   ]
  },
  {
   "cell_type": "code",
   "execution_count": 8,
   "metadata": {
    "collapsed": true
   },
   "outputs": [],
   "source": [
    "def CalculateFixationPrecision(dataList):\n",
    "    notedFixations = []\n",
    "    count = 0\n",
    "    FixationIndexIndex = GetIndexForHeader(\"FixationIndex\")\n",
    "    AOIHeader = GetIndexForHeader(\"AOI[Polygon]Hit\")\n",
    "    questionNumber = dataList[1][GetIndexForHeader(\"MediaName\")]\n",
    "    aORb = questionNumber[2]\n",
    "    questionNumber = int(questionNumber[-6:-4])\n",
    "    if aORb == \"A\":\n",
    "        AOIHeader = AOIHeader + (2*(questionNumber-1))\n",
    "    elif aORb == \"B\":\n",
    "        AOIHeader = AOIHeader + (24*2) +(2*(questionNumber-1))\n",
    "    for row in dataList:\n",
    "        if row[AOIHeader] == \"1\":\n",
    "            if row[FixationIndexIndex] not in notedFixations:\n",
    "                notedFixations.append(row[FixationIndexIndex])\n",
    "                count += 1\n",
    "    return count"
   ]
  },
  {
   "cell_type": "code",
   "execution_count": 9,
   "metadata": {
    "collapsed": true
   },
   "outputs": [],
   "source": [
    "def CalculateFixationDuration(dataList):\n",
    "    index = 0\n",
    "    FixationIndexIndex = GetIndexForHeader(\"FixationIndex\")\n",
    "    RecordingTimestampIndex = GetIndexForHeader(\"RecordingTimestamp\")\n",
    "    prev = \"0\"\n",
    "    current = \"0\"\n",
    "    start = 0\n",
    "    end = 0\n",
    "    fixationDurations = []\n",
    "    for row in dataList:\n",
    "        prev = current\n",
    "        current = row[FixationIndexIndex]\n",
    "        #print row[FixationIndexIndex], row[GetIndexForHeader(\"SaccadeIndex\")]\n",
    "        if prev is \"\" and current is not \"\":\n",
    "            start = row[RecordingTimestampIndex]\n",
    "        elif prev is not \"\" and current is \"\":\n",
    "            end = row[RecordingTimestampIndex]\n",
    "            duration = int(end) - int(start)\n",
    "            duration = float(duration) / 1000\n",
    "            fixationDurations.append(duration)\n",
    "    return fixationDurations"
   ]
  },
  {
   "cell_type": "code",
   "execution_count": 10,
   "metadata": {
    "collapsed": true
   },
   "outputs": [],
   "source": [
    "def CalculateAmountOfFixationsPerSecond(duration, amountOfFixations):\n",
    "    duration = float(duration)\n",
    "    amountOfFixations = float(amountOfFixations)\n",
    "    fixationsPerSecond = amountOfFixations/duration\n",
    "    return fixationsPerSecond"
   ]
  },
  {
   "cell_type": "code",
   "execution_count": 11,
   "metadata": {
    "collapsed": true
   },
   "outputs": [],
   "source": [
    "def CalculateAmountOfSaccades(dataList):\n",
    "    #saccadeList = []\n",
    "    SaccadeIndexIndex = GetIndexForHeader(\"SaccadeIndex\")\n",
    "    #for row in dataList:\n",
    "        #if row[145] is not \"\":\n",
    "            #saccadeList.append(row[SaccadeIndexIndex])\n",
    "    #start = int(min(saccadeList))\n",
    "    #end = int(max(saccadeList))\n",
    "    #amountOfSaccades = end - start\n",
    "    \n",
    "    amountList = []\n",
    "    \n",
    "    for row in dataList:\n",
    "        if row[SaccadeIndexIndex] not in amountList:\n",
    "            amountList.append(row[SaccadeIndexIndex])\n",
    "    \n",
    "    amountOfSaccades = len(amountList)\n",
    "    \n",
    "    return amountOfSaccades"
   ]
  },
  {
   "cell_type": "code",
   "execution_count": 12,
   "metadata": {
    "collapsed": true
   },
   "outputs": [],
   "source": [
    "def CalculateDurationOfSaccades(dataList):\n",
    "    saccadeDurationList = []\n",
    "    tempSaccadeDurationList = []\n",
    "    RecordingTimestampIndex = GetIndexForHeader(\"RecordingTimestamp\")\n",
    "    SaccadeIndexIndex = GetIndexForHeader(\"SaccadeIndex\")\n",
    "    for row in dataList:\n",
    "        if row[SaccadeIndexIndex] is not \"\":\n",
    "            tempSaccadeDurationList.append(int(row[RecordingTimestampIndex]))\n",
    "        else:\n",
    "            if len(tempSaccadeDurationList) is not 0:\n",
    "                saccadeStart = tempSaccadeDurationList[0]\n",
    "                saccadeEnd = tempSaccadeDurationList[-1]\n",
    "                saccadeDuration = saccadeEnd - saccadeStart\n",
    "                saccadeDurationList.append(saccadeDuration)\n",
    "                tempSaccadeDurationList = []\n",
    "    if len(tempSaccadeDurationList) is not 0:\n",
    "        sacadeStart = tempSaccadeDurationList[0]\n",
    "        saccadeEnd = tempSaccadeDurationList[-1]\n",
    "        saccadeDuration = saccadeEnd - saccadeStart\n",
    "        saccadeDurationList.append(saccadeDuration)\n",
    "        \n",
    "    return saccadeDurationList"
   ]
  },
  {
   "cell_type": "code",
   "execution_count": 13,
   "metadata": {
    "collapsed": true
   },
   "outputs": [],
   "source": [
    "def CalculateVelocityOfSaccades(dataList):\n",
    "    listOfVelocities = []\n",
    "    startIndex = 0\n",
    "    SaccadicAmplitudeIndex = GetIndexForHeader(\"SaccadicAmplitude\")\n",
    "    if dataList[0][SaccadicAmplitudeIndex] is not \"\":\n",
    "        for row in dataList:\n",
    "            if row[SaccadicAmplitudeIndex] is \"\":\n",
    "                break\n",
    "            else:\n",
    "                startIndex += 1\n",
    "    previous = \"\"\n",
    "    current = \"\"\n",
    "    for row in dataList[startIndex:]:\n",
    "        previous = current\n",
    "        current = row[SaccadicAmplitudeIndex]\n",
    "        if previous is \"\" and current is not \"\":\n",
    "            #convert number because it uses comma and needs to use punctuation\n",
    "            number = float(row[SaccadicAmplitudeIndex].replace(',','.'))\n",
    "            listOfVelocities.append(number)\n",
    "    return listOfVelocities"
   ]
  },
  {
   "cell_type": "code",
   "execution_count": 14,
   "metadata": {
    "collapsed": true
   },
   "outputs": [],
   "source": [
    "def CalculatePupilDilation(dataList):\n",
    "    pupilLeft = []\n",
    "    pupilRight = []\n",
    "    PupilLeftIndex = GetIndexForHeader(\"PupilLeft\")\n",
    "    for row in dataList:\n",
    "        print row\n",
    "        pupilLeft.append(float(row[PupilLeftIndex].replace(',','.')))\n",
    "        pupilRight.append(float(row[PupilLeftIndex + 1].replace(',','.')))\n",
    "    return pupilLeft, pupilRight"
   ]
  },
  {
   "cell_type": "code",
   "execution_count": 15,
   "metadata": {
    "collapsed": true
   },
   "outputs": [],
   "source": [
    "def GetIndexForHeader(name):\n",
    "    indexForHeader = dataHeaders.index(name)\n",
    "    return indexForHeader"
   ]
  },
  {
   "cell_type": "code",
   "execution_count": 16,
   "metadata": {
    "collapsed": true
   },
   "outputs": [],
   "source": [
    "def CalculateAccuracy(dataList):\n",
    "    print dataList[0]"
   ]
  },
  {
   "cell_type": "code",
   "execution_count": 17,
   "metadata": {},
   "outputs": [
    {
     "ename": "IOError",
     "evalue": "[Errno 2] No such file or directory: 'C:/Users/Simon/Documents/Skole/Master/participants/processed/p764b@pupil@study_data_processed.tsv'",
     "output_type": "error",
     "traceback": [
      "\u001b[1;31m\u001b[0m",
      "\u001b[1;31mIOError\u001b[0mTraceback (most recent call last)",
      "\u001b[1;32m<ipython-input-17-2bef2a5476bf>\u001b[0m in \u001b[0;36m<module>\u001b[1;34m()\u001b[0m\n\u001b[0;32m      1\u001b[0m \u001b[0mfilePath\u001b[0m \u001b[1;33m=\u001b[0m \u001b[1;34m\"C:/Users/Simon/Documents/Skole/Master/participants/processed/p764b@pupil@study_data_processed.tsv\"\u001b[0m\u001b[1;33m\u001b[0m\u001b[0m\n\u001b[0;32m      2\u001b[0m \u001b[1;33m\u001b[0m\u001b[0m\n\u001b[1;32m----> 3\u001b[1;33m \u001b[0mdataList\u001b[0m \u001b[1;33m=\u001b[0m \u001b[0mTSVtoList\u001b[0m\u001b[1;33m(\u001b[0m\u001b[0mfilePath\u001b[0m\u001b[1;33m)\u001b[0m\u001b[1;33m\u001b[0m\u001b[0m\n\u001b[0m\u001b[0;32m      4\u001b[0m \u001b[1;33m\u001b[0m\u001b[0m\n\u001b[0;32m      5\u001b[0m \u001b[0mdataHeaders\u001b[0m \u001b[1;33m=\u001b[0m \u001b[0mdataList\u001b[0m\u001b[1;33m[\u001b[0m\u001b[1;36m0\u001b[0m\u001b[1;33m]\u001b[0m\u001b[1;33m\u001b[0m\u001b[0m\n",
      "\u001b[1;32m<ipython-input-2-40fac2306870>\u001b[0m in \u001b[0;36mTSVtoList\u001b[1;34m(tsvFile)\u001b[0m\n\u001b[0;32m      4\u001b[0m     \u001b[0mtsvList\u001b[0m \u001b[1;33m=\u001b[0m \u001b[1;33m[\u001b[0m\u001b[1;33m]\u001b[0m\u001b[1;33m\u001b[0m\u001b[0m\n\u001b[0;32m      5\u001b[0m     \u001b[1;31m#Open the .tsv file and append it to a python list\u001b[0m\u001b[1;33m\u001b[0m\u001b[1;33m\u001b[0m\u001b[0m\n\u001b[1;32m----> 6\u001b[1;33m     \u001b[1;32mwith\u001b[0m \u001b[0mopen\u001b[0m\u001b[1;33m(\u001b[0m\u001b[0mtsvFile\u001b[0m\u001b[1;33m,\u001b[0m\u001b[1;34m'rb'\u001b[0m\u001b[1;33m)\u001b[0m \u001b[1;32mas\u001b[0m \u001b[0mtsvIn\u001b[0m\u001b[1;33m:\u001b[0m\u001b[1;33m\u001b[0m\u001b[0m\n\u001b[0m\u001b[0;32m      7\u001b[0m         \u001b[0mtsvIn\u001b[0m \u001b[1;33m=\u001b[0m \u001b[0mcsv\u001b[0m\u001b[1;33m.\u001b[0m\u001b[0mreader\u001b[0m\u001b[1;33m(\u001b[0m\u001b[0mtsvIn\u001b[0m\u001b[1;33m,\u001b[0m \u001b[0mdelimiter\u001b[0m\u001b[1;33m=\u001b[0m\u001b[1;34m'\\t'\u001b[0m\u001b[1;33m)\u001b[0m\u001b[1;33m\u001b[0m\u001b[0m\n\u001b[0;32m      8\u001b[0m         \u001b[1;32mfor\u001b[0m \u001b[0mrow\u001b[0m \u001b[1;32min\u001b[0m \u001b[0mtsvIn\u001b[0m\u001b[1;33m:\u001b[0m\u001b[1;33m\u001b[0m\u001b[0m\n",
      "\u001b[1;31mIOError\u001b[0m: [Errno 2] No such file or directory: 'C:/Users/Simon/Documents/Skole/Master/participants/processed/p764b@pupil@study_data_processed.tsv'"
     ]
    }
   ],
   "source": [
    "filePath = \"C:/Users/Simon/Documents/Skole/Master/participants/processed/p764b@pupil@study_data_processed.tsv\"\n",
    "\n",
    "dataList = TSVtoList(filePath)\n",
    "\n",
    "dataHeaders = dataList[0]\n",
    "\n",
    "dataList = ExcludeNonImageRows(dataList)\n",
    "\n",
    "dataDictionary = DivideIntoSeparateImageLists(dataList)\n",
    "\n",
    "print(dataDictionary.keys())"
   ]
  },
  {
   "cell_type": "code",
   "execution_count": 18,
   "metadata": {},
   "outputs": [
    {
     "ename": "NameError",
     "evalue": "name 'dataHeaders' is not defined",
     "output_type": "error",
     "traceback": [
      "\u001b[1;31m\u001b[0m",
      "\u001b[1;31mNameError\u001b[0mTraceback (most recent call last)",
      "\u001b[1;32m<ipython-input-18-0e862058454f>\u001b[0m in \u001b[0;36m<module>\u001b[1;34m()\u001b[0m\n\u001b[0;32m      1\u001b[0m \u001b[0mindex\u001b[0m \u001b[1;33m=\u001b[0m \u001b[1;36m0\u001b[0m\u001b[1;33m\u001b[0m\u001b[0m\n\u001b[1;32m----> 2\u001b[1;33m \u001b[1;32mfor\u001b[0m \u001b[0mheader\u001b[0m \u001b[1;32min\u001b[0m \u001b[0mdataHeaders\u001b[0m\u001b[1;33m:\u001b[0m\u001b[1;33m\u001b[0m\u001b[0m\n\u001b[0m\u001b[0;32m      3\u001b[0m     \u001b[1;32mprint\u001b[0m \u001b[0mstr\u001b[0m\u001b[1;33m(\u001b[0m\u001b[0mindex\u001b[0m\u001b[1;33m)\u001b[0m \u001b[1;33m+\u001b[0m \u001b[1;34m\": \"\u001b[0m \u001b[1;33m+\u001b[0m \u001b[0mheader\u001b[0m\u001b[1;33m\u001b[0m\u001b[0m\n\u001b[0;32m      4\u001b[0m     \u001b[0mindex\u001b[0m \u001b[1;33m+=\u001b[0m \u001b[1;36m1\u001b[0m\u001b[1;33m\u001b[0m\u001b[0m\n",
      "\u001b[1;31mNameError\u001b[0m: name 'dataHeaders' is not defined"
     ]
    }
   ],
   "source": [
    "index = 0\n",
    "for header in dataHeaders:\n",
    "    print str(index) + \": \" + header\n",
    "    index += 1 "
   ]
  },
  {
   "cell_type": "code",
   "execution_count": 19,
   "metadata": {},
   "outputs": [
    {
     "ename": "NameError",
     "evalue": "name 'dataDictionary' is not defined",
     "output_type": "error",
     "traceback": [
      "\u001b[1;31m\u001b[0m",
      "\u001b[1;31mNameError\u001b[0mTraceback (most recent call last)",
      "\u001b[1;32m<ipython-input-19-05d70317c91b>\u001b[0m in \u001b[0;36m<module>\u001b[1;34m()\u001b[0m\n\u001b[1;32m----> 1\u001b[1;33m \u001b[0mduration\u001b[0m \u001b[1;33m=\u001b[0m \u001b[0mCalculateDurationForImage\u001b[0m\u001b[1;33m(\u001b[0m\u001b[0mdataDictionary\u001b[0m\u001b[1;33m[\u001b[0m\u001b[1;34m\"M4A-Q24.png\"\u001b[0m\u001b[1;33m]\u001b[0m\u001b[1;33m)\u001b[0m\u001b[1;33m\u001b[0m\u001b[0m\n\u001b[0m\u001b[0;32m      2\u001b[0m \u001b[1;32mprint\u001b[0m \u001b[0mduration\u001b[0m\u001b[1;33m\u001b[0m\u001b[0m\n",
      "\u001b[1;31mNameError\u001b[0m: name 'dataDictionary' is not defined"
     ]
    }
   ],
   "source": [
    "duration = CalculateDurationForImage(dataDictionary[\"M4A-Q24.png\"])\n",
    "print duration"
   ]
  },
  {
   "cell_type": "code",
   "execution_count": 20,
   "metadata": {},
   "outputs": [
    {
     "ename": "NameError",
     "evalue": "name 'dataDictionary' is not defined",
     "output_type": "error",
     "traceback": [
      "\u001b[1;31m\u001b[0m",
      "\u001b[1;31mNameError\u001b[0mTraceback (most recent call last)",
      "\u001b[1;32m<ipython-input-20-f0050c544f67>\u001b[0m in \u001b[0;36m<module>\u001b[1;34m()\u001b[0m\n\u001b[1;32m----> 1\u001b[1;33m \u001b[0mamountOfFixations\u001b[0m \u001b[1;33m=\u001b[0m \u001b[0mCalculateAmountOfFixations\u001b[0m\u001b[1;33m(\u001b[0m\u001b[0mdataDictionary\u001b[0m\u001b[1;33m[\u001b[0m\u001b[1;34m\"M4A-Q24.png\"\u001b[0m\u001b[1;33m]\u001b[0m\u001b[1;33m)\u001b[0m\u001b[1;33m\u001b[0m\u001b[0m\n\u001b[0m\u001b[0;32m      2\u001b[0m \u001b[1;32mprint\u001b[0m \u001b[0mamountOfFixations\u001b[0m\u001b[1;33m\u001b[0m\u001b[0m\n",
      "\u001b[1;31mNameError\u001b[0m: name 'dataDictionary' is not defined"
     ]
    }
   ],
   "source": [
    "amountOfFixations = CalculateAmountOfFixations(dataDictionary[\"M4A-Q24.png\"])\n",
    "print amountOfFixations"
   ]
  },
  {
   "cell_type": "code",
   "execution_count": 21,
   "metadata": {},
   "outputs": [
    {
     "ename": "NameError",
     "evalue": "name 'dataDictionary' is not defined",
     "output_type": "error",
     "traceback": [
      "\u001b[1;31m\u001b[0m",
      "\u001b[1;31mNameError\u001b[0mTraceback (most recent call last)",
      "\u001b[1;32m<ipython-input-21-4a39bce0a366>\u001b[0m in \u001b[0;36m<module>\u001b[1;34m()\u001b[0m\n\u001b[1;32m----> 1\u001b[1;33m \u001b[0mfixationDuration\u001b[0m \u001b[1;33m=\u001b[0m \u001b[0mCalculateFixationDuration\u001b[0m\u001b[1;33m(\u001b[0m\u001b[0mdataDictionary\u001b[0m\u001b[1;33m[\u001b[0m\u001b[1;34m\"M4A-Q24.png\"\u001b[0m\u001b[1;33m]\u001b[0m\u001b[1;33m)\u001b[0m\u001b[1;33m\u001b[0m\u001b[0m\n\u001b[0m\u001b[0;32m      2\u001b[0m \u001b[1;32mprint\u001b[0m \u001b[0mnp\u001b[0m\u001b[1;33m.\u001b[0m\u001b[0mmean\u001b[0m\u001b[1;33m(\u001b[0m\u001b[0mfixationDuration\u001b[0m\u001b[1;33m)\u001b[0m\u001b[1;33m\u001b[0m\u001b[0m\n",
      "\u001b[1;31mNameError\u001b[0m: name 'dataDictionary' is not defined"
     ]
    }
   ],
   "source": [
    "fixationDuration = CalculateFixationDuration(dataDictionary[\"M4A-Q24.png\"])\n",
    "print np.mean(fixationDuration)"
   ]
  },
  {
   "cell_type": "code",
   "execution_count": 22,
   "metadata": {},
   "outputs": [
    {
     "ename": "NameError",
     "evalue": "name 'duration' is not defined",
     "output_type": "error",
     "traceback": [
      "\u001b[1;31m\u001b[0m",
      "\u001b[1;31mNameError\u001b[0mTraceback (most recent call last)",
      "\u001b[1;32m<ipython-input-22-03506ded2519>\u001b[0m in \u001b[0;36m<module>\u001b[1;34m()\u001b[0m\n\u001b[1;32m----> 1\u001b[1;33m \u001b[0mfixationsPerSecond\u001b[0m \u001b[1;33m=\u001b[0m \u001b[0mCalculateAmountOfFixationsPerSecond\u001b[0m\u001b[1;33m(\u001b[0m\u001b[0mduration\u001b[0m\u001b[1;33m,\u001b[0m \u001b[0mamountOfFixations\u001b[0m\u001b[1;33m)\u001b[0m\u001b[1;33m\u001b[0m\u001b[0m\n\u001b[0m\u001b[0;32m      2\u001b[0m \u001b[1;32mprint\u001b[0m \u001b[0mfixationsPerSecond\u001b[0m\u001b[1;33m\u001b[0m\u001b[0m\n",
      "\u001b[1;31mNameError\u001b[0m: name 'duration' is not defined"
     ]
    }
   ],
   "source": [
    "fixationsPerSecond = CalculateAmountOfFixationsPerSecond(duration, amountOfFixations)\n",
    "print fixationsPerSecond"
   ]
  },
  {
   "cell_type": "code",
   "execution_count": 23,
   "metadata": {},
   "outputs": [
    {
     "ename": "NameError",
     "evalue": "name 'dataDictionary' is not defined",
     "output_type": "error",
     "traceback": [
      "\u001b[1;31m\u001b[0m",
      "\u001b[1;31mNameError\u001b[0mTraceback (most recent call last)",
      "\u001b[1;32m<ipython-input-23-5f864e9e4c2a>\u001b[0m in \u001b[0;36m<module>\u001b[1;34m()\u001b[0m\n\u001b[1;32m----> 1\u001b[1;33m \u001b[0mamountOfSaccades\u001b[0m \u001b[1;33m=\u001b[0m \u001b[0mCalculateAmountOfSaccades\u001b[0m\u001b[1;33m(\u001b[0m\u001b[0mdataDictionary\u001b[0m\u001b[1;33m[\u001b[0m\u001b[1;34m\"M4A-Q24.png\"\u001b[0m\u001b[1;33m]\u001b[0m\u001b[1;33m)\u001b[0m\u001b[1;33m\u001b[0m\u001b[0m\n\u001b[0m\u001b[0;32m      2\u001b[0m \u001b[1;32mprint\u001b[0m \u001b[0mamountOfSaccades\u001b[0m\u001b[1;33m\u001b[0m\u001b[0m\n",
      "\u001b[1;31mNameError\u001b[0m: name 'dataDictionary' is not defined"
     ]
    }
   ],
   "source": [
    "amountOfSaccades = CalculateAmountOfSaccades(dataDictionary[\"M4A-Q24.png\"])\n",
    "print amountOfSaccades"
   ]
  },
  {
   "cell_type": "code",
   "execution_count": 24,
   "metadata": {},
   "outputs": [
    {
     "ename": "NameError",
     "evalue": "name 'dataDictionary' is not defined",
     "output_type": "error",
     "traceback": [
      "\u001b[1;31m\u001b[0m",
      "\u001b[1;31mNameError\u001b[0mTraceback (most recent call last)",
      "\u001b[1;32m<ipython-input-24-8ac39b719b9e>\u001b[0m in \u001b[0;36m<module>\u001b[1;34m()\u001b[0m\n\u001b[1;32m----> 1\u001b[1;33m \u001b[0msaccadeDurationList\u001b[0m \u001b[1;33m=\u001b[0m \u001b[0mCalculateDurationOfSaccades\u001b[0m\u001b[1;33m(\u001b[0m\u001b[0mdataDictionary\u001b[0m\u001b[1;33m[\u001b[0m\u001b[1;34m\"M4A-Q24.png\"\u001b[0m\u001b[1;33m]\u001b[0m\u001b[1;33m)\u001b[0m\u001b[1;33m\u001b[0m\u001b[0m\n\u001b[0m\u001b[0;32m      2\u001b[0m \u001b[1;32mprint\u001b[0m \u001b[0mnp\u001b[0m\u001b[1;33m.\u001b[0m\u001b[0mmean\u001b[0m\u001b[1;33m(\u001b[0m\u001b[0msaccadeDurationList\u001b[0m\u001b[1;33m)\u001b[0m\u001b[1;33m\u001b[0m\u001b[0m\n",
      "\u001b[1;31mNameError\u001b[0m: name 'dataDictionary' is not defined"
     ]
    }
   ],
   "source": [
    "saccadeDurationList = CalculateDurationOfSaccades(dataDictionary[\"M4A-Q24.png\"])\n",
    "print np.mean(saccadeDurationList)"
   ]
  },
  {
   "cell_type": "code",
   "execution_count": 25,
   "metadata": {},
   "outputs": [
    {
     "name": "stdout",
     "output_type": "stream",
     "text": [
      "01\n"
     ]
    }
   ],
   "source": [
    "strTest = \"M1A-Q01.png\"\n",
    "print strTest[-6:-4]"
   ]
  },
  {
   "cell_type": "code",
   "execution_count": 26,
   "metadata": {},
   "outputs": [
    {
     "ename": "NameError",
     "evalue": "name 'dataDictionary' is not defined",
     "output_type": "error",
     "traceback": [
      "\u001b[1;31m\u001b[0m",
      "\u001b[1;31mNameError\u001b[0mTraceback (most recent call last)",
      "\u001b[1;32m<ipython-input-26-c999708fe57c>\u001b[0m in \u001b[0;36m<module>\u001b[1;34m()\u001b[0m\n\u001b[1;32m----> 1\u001b[1;33m \u001b[0msaccadeVelocityList\u001b[0m \u001b[1;33m=\u001b[0m \u001b[0mCalculateVelocityOfSaccades\u001b[0m\u001b[1;33m(\u001b[0m\u001b[0mdataDictionary\u001b[0m\u001b[1;33m[\u001b[0m\u001b[1;34m\"M4A-Q24.png\"\u001b[0m\u001b[1;33m]\u001b[0m\u001b[1;33m)\u001b[0m\u001b[1;33m\u001b[0m\u001b[0m\n\u001b[0m\u001b[0;32m      2\u001b[0m \u001b[1;32mprint\u001b[0m \u001b[0mnp\u001b[0m\u001b[1;33m.\u001b[0m\u001b[0mmean\u001b[0m\u001b[1;33m(\u001b[0m\u001b[0msaccadeVelocityList\u001b[0m\u001b[1;33m)\u001b[0m\u001b[1;33m\u001b[0m\u001b[0m\n",
      "\u001b[1;31mNameError\u001b[0m: name 'dataDictionary' is not defined"
     ]
    }
   ],
   "source": [
    "saccadeVelocityList = CalculateVelocityOfSaccades(dataDictionary[\"M4A-Q24.png\"])\n",
    "print np.mean(saccadeVelocityList)"
   ]
  },
  {
   "cell_type": "code",
   "execution_count": 27,
   "metadata": {},
   "outputs": [
    {
     "ename": "NameError",
     "evalue": "name 'dataDictionary' is not defined",
     "output_type": "error",
     "traceback": [
      "\u001b[1;31m\u001b[0m",
      "\u001b[1;31mNameError\u001b[0mTraceback (most recent call last)",
      "\u001b[1;32m<ipython-input-27-48ce5e233f9c>\u001b[0m in \u001b[0;36m<module>\u001b[1;34m()\u001b[0m\n\u001b[0;32m      1\u001b[0m \u001b[1;32mimport\u001b[0m \u001b[0mnumpy\u001b[0m \u001b[1;32mas\u001b[0m \u001b[0mnp\u001b[0m\u001b[1;33m\u001b[0m\u001b[0m\n\u001b[1;32m----> 2\u001b[1;33m \u001b[0mpupilDilationLeftList\u001b[0m\u001b[1;33m,\u001b[0m \u001b[0mpupilDilationRightList\u001b[0m \u001b[1;33m=\u001b[0m \u001b[0mCalculatePupilDilation\u001b[0m\u001b[1;33m(\u001b[0m\u001b[0mdataDictionary\u001b[0m\u001b[1;33m[\u001b[0m\u001b[1;34m\"M4A-Q24.png\"\u001b[0m\u001b[1;33m]\u001b[0m\u001b[1;33m)\u001b[0m\u001b[1;33m\u001b[0m\u001b[0m\n\u001b[0m\u001b[0;32m      3\u001b[0m \u001b[1;32mprint\u001b[0m \u001b[0mnp\u001b[0m\u001b[1;33m.\u001b[0m\u001b[0mmean\u001b[0m\u001b[1;33m(\u001b[0m\u001b[0mpupilDilationLeftList\u001b[0m\u001b[1;33m)\u001b[0m\u001b[1;33m,\u001b[0m \u001b[0mnp\u001b[0m\u001b[1;33m.\u001b[0m\u001b[0mvar\u001b[0m\u001b[1;33m(\u001b[0m\u001b[0mpupilDilationLeftList\u001b[0m\u001b[1;33m)\u001b[0m\u001b[1;33m,\u001b[0m \u001b[0mnp\u001b[0m\u001b[1;33m.\u001b[0m\u001b[0mstd\u001b[0m\u001b[1;33m(\u001b[0m\u001b[0mpupilDilationLeftList\u001b[0m\u001b[1;33m)\u001b[0m\u001b[1;33m\u001b[0m\u001b[0m\n\u001b[0;32m      4\u001b[0m \u001b[1;32mprint\u001b[0m \u001b[0mnp\u001b[0m\u001b[1;33m.\u001b[0m\u001b[0mmean\u001b[0m\u001b[1;33m(\u001b[0m\u001b[0mpupilDilationRightList\u001b[0m\u001b[1;33m)\u001b[0m\u001b[1;33m,\u001b[0m \u001b[0mnp\u001b[0m\u001b[1;33m.\u001b[0m\u001b[0mvar\u001b[0m\u001b[1;33m(\u001b[0m\u001b[0mpupilDilationRightList\u001b[0m\u001b[1;33m)\u001b[0m\u001b[1;33m,\u001b[0m \u001b[0mnp\u001b[0m\u001b[1;33m.\u001b[0m\u001b[0mstd\u001b[0m\u001b[1;33m(\u001b[0m\u001b[0mpupilDilationRightList\u001b[0m\u001b[1;33m)\u001b[0m\u001b[1;33m\u001b[0m\u001b[0m\n",
      "\u001b[1;31mNameError\u001b[0m: name 'dataDictionary' is not defined"
     ]
    }
   ],
   "source": [
    "import numpy as np\n",
    "pupilDilationLeftList, pupilDilationRightList = CalculatePupilDilation(dataDictionary[\"M4A-Q24.png\"])\n",
    "print np.mean(pupilDilationLeftList), np.var(pupilDilationLeftList), np.std(pupilDilationLeftList)\n",
    "print np.mean(pupilDilationRightList), np.var(pupilDilationRightList), np.std(pupilDilationRightList)"
   ]
  },
  {
   "cell_type": "code",
   "execution_count": null,
   "metadata": {
    "collapsed": true
   },
   "outputs": [],
   "source": []
  },
  {
   "cell_type": "code",
   "execution_count": 28,
   "metadata": {},
   "outputs": [
    {
     "name": "stdout",
     "output_type": "stream",
     "text": [
      "p665a p665a.tsv\n",
      "195789\n",
      "129138\n",
      "p786a pilot test A_Rec 02.tsv\n",
      "263727\n",
      "189164\n",
      "p024a pilot test A_Rec 03.tsv\n",
      "189448\n",
      "117773\n",
      "p551a pilot test A_Rec 04.tsv\n",
      "228009\n",
      "175424\n",
      "p057a pilot test A_Rec 05.tsv\n",
      "235470\n",
      "150788\n",
      "p846a pilot test A_Rec 06.tsv\n",
      "232937\n",
      "176538\n",
      "p876a pilot test A_Rec 07.tsv\n",
      "243874\n",
      "187988\n",
      "p335b pilot test B_p335b.tsv\n",
      "150095\n",
      "104375\n",
      "p465 pilot test B_p465b.tsv\n",
      "158666\n",
      "109597\n",
      "p847b pilot test B_Rec 01.tsv\n",
      "163474\n",
      "117347\n",
      "p741b pilot test B_Rec 03.tsv\n",
      "119719\n",
      "87482\n",
      "p338b pilot test B_Rec 04.tsv\n",
      "161954\n",
      "97067\n",
      "p768b pilot test B_Rec 05.tsv\n",
      "202555\n",
      "145065\n"
     ]
    }
   ],
   "source": [
    "import os\n",
    "\n",
    "#Variables to hold the data\n",
    "data = {}\n",
    "dataHeaders = []\n",
    "\n",
    "filePath = \"C:/Users/Simon/Documents/Skole/Master/participants/processed/\"\n",
    "filePath = \"C:/Users/Simon/Downloads/xxx/\"\n",
    "\n",
    "#filePath = \"/Users/SMC/Documents/Skole/MasterThesis/finaltest/\"\n",
    "\n",
    "#fileList = os.listdir(filePath)\n",
    "#fileList = fileList[1:]\n",
    "\n",
    "for participant in os.listdir(filePath):\n",
    "    #participantshort = participant[:5]\n",
    "    \n",
    "    newPath = filePath + participant\n",
    "    \n",
    "    dataList = TSVtoList(newPath)\n",
    "\n",
    "    dataHeaders = dataList[0]\n",
    "    \n",
    "    participantshort = dataList[1][GetIndexForHeader(\"ParticipantName\")]\n",
    "    print participantshort, participant\n",
    "\n",
    "    dataListExcluded = ExcludeNonImageRows(dataList)\n",
    "    print len(dataListExcluded)\n",
    "    dataListExcluded = ExcludeNonAOIRows(dataListExcluded)\n",
    "    print len(dataListExcluded)\n",
    "    dataList = dataList[1:]\n",
    "\n",
    "    dataDictionary = DivideIntoSeparateImageLists(dataListExcluded)\n",
    "    \n",
    "    aORb = participantshort[-1]\n",
    "    dataList = dataList[-1]\n",
    "    \n",
    "    answerKey = {\"M1X-Q01\":\"True\",\n",
    "                \"M1X-Q02\":\"True\",\n",
    "                \"M1X-Q03\":\"True\",\n",
    "                \"M1X-Q04\":\"False\",\n",
    "                \"M1X-Q05\":\"False\",\n",
    "                \"M1X-Q06\":\"False\",\n",
    "                \"M2X-Q07\":\"False\",\n",
    "                \"M2X-Q08\":\"True\",\n",
    "                \"M2X-Q09\":\"True\",\n",
    "                \"M2X-Q10\":\"False\",\n",
    "                \"M2X-Q11\":\"False\",\n",
    "                \"M2X-Q12\":\"False\",\n",
    "                \"M3X-Q13\":\"True\",\n",
    "                \"M3X-Q14\":\"False\",\n",
    "                \"M3X-Q15\":\"True\",\n",
    "                \"M3X-Q16\":\"False\",\n",
    "                \"M3X-Q17\":\"True\",\n",
    "                \"M3X-Q18\":\"False\",\n",
    "                \"M4X-Q19\":\"True\",\n",
    "                \"M4X-Q20\":\"False\",\n",
    "                \"M4X-Q21\":\"True\",\n",
    "                \"M4X-Q22\":\"False\",\n",
    "                \"M4X-Q23\":\"True\",\n",
    "                \"M4X-Q24\":\"False\"}\n",
    "    \n",
    "    for image in dataDictionary:\n",
    "        if image not in data:\n",
    "            data[image] = {}\n",
    "            data[image][\"duration\"] = []\n",
    "            data[image][\"accuracy\"] = []\n",
    "            data[image][\"amountOfFixations\"] = []\n",
    "            data[image][\"fixationDuration\"] = []\n",
    "            data[image][\"fixationsPerSecond\"] = []\n",
    "            data[image][\"amountOfSaccades\"] = []\n",
    "            data[image][\"saccadeDurationList\"] = []\n",
    "            data[image][\"saccadeVelocityList\"] = []\n",
    "            data[image][\"pupilDilationLeftList\"] = []\n",
    "            data[image][\"pupilDilationRightList\"] = []\n",
    "            data[image][\"pupilDilationMean\"] = []\n",
    "            data[image][\"fixationPrecision\"] = []\n",
    "        duration = CalculateDurationForImage(dataDictionary[image])\n",
    "        data[image][\"duration\"].append(duration)\n",
    "        amountOfFixations = CalculateAmountOfFixations(dataDictionary[image])\n",
    "        data[image][\"amountOfFixations\"].append(amountOfFixations)\n",
    "        fixationDuration = CalculateFixationDuration(dataDictionary[image])\n",
    "        data[image][\"fixationDuration\"].append(np.mean(fixationDuration))\n",
    "        fixationsPerSecond = CalculateAmountOfFixationsPerSecond(duration, amountOfFixations)\n",
    "        data[image][\"fixationsPerSecond\"].append(fixationsPerSecond)\n",
    "        amountOfSaccades = CalculateAmountOfSaccades(dataDictionary[image])\n",
    "        data[image][\"amountOfSaccades\"].append(amountOfSaccades)\n",
    "        #saccadeDurationList = CalculateDurationOfSaccades(dataDictionary[image])\n",
    "        #data[image][\"saccadeDurationList\"].append(saccadeDurationList)\n",
    "        saccadeVelocityList = CalculateVelocityOfSaccades(dataDictionary[image])\n",
    "        data[image][\"saccadeVelocityList\"].append(np.mean(saccadeVelocityList))\n",
    "        #pupilDilationLeftList, pupilDilationRightList = CalculatePupilDilation(dataDictionary[image])\n",
    "        #data[image][\"pupilDilationLeftList\"].append(np.std(pupilDilationLeftList))\n",
    "        #data[image][\"pupilDilationRightList\"].append(np.std(pupilDilationRightList))\n",
    "        #data[image][\"pupilDilationMean\"].append(np.mean([np.std(pupilDilationLeftList),np.std(pupilDilationRightList)]))\n",
    "        fixationPrecision = CalculateFixationPrecision(dataDictionary[image])\n",
    "        #print fixationPrecision, amountOfFixations, image\n",
    "        try:\n",
    "            fixationPrecision = float(fixationPrecision) / float(amountOfFixations) * 100\n",
    "            data[image][\"fixationPrecision\"].append(fixationPrecision)\n",
    "        except:\n",
    "            print \"Devision by zero\"\n",
    "        \n",
    "        imageShort = image[:-4]\n",
    "        if imageShort[0] != \"T\":\n",
    "            answer = dataList[GetIndexForHeader(\"[\"+imageShort+\"]Value\")]\n",
    "            if answer[0] == \" \":\n",
    "                answer = answer[1:]\n",
    "            pre = imageShort[:2]\n",
    "            post = imageShort[-4:]\n",
    "            if answerKey[pre+\"X\"+post] == answer:\n",
    "                data[image][\"accuracy\"].append(1)\n",
    "            else:\n",
    "                data[image][\"accuracy\"].append(0)\n"
   ]
  },
  {
   "cell_type": "code",
   "execution_count": 29,
   "metadata": {},
   "outputs": [
    {
     "data": {
      "text/plain": [
       "{'accuracy': [1, 1, 1, 1, 0, 1, 0],\n",
       " 'amountOfFixations': [35, 50, 57, 32, 92, 50, 57],\n",
       " 'amountOfSaccades': [35, 67, 60, 44, 197, 56, 64],\n",
       " 'duration': [18.379, 27.641, 34.395, 20.537, 43.841, 26.973, 30.899],\n",
       " 'fixationDuration': [25.465176470588236,\n",
       "  21.663145833333335,\n",
       "  15.10588888888889,\n",
       "  30.446290322580648,\n",
       "  11.389786516853931,\n",
       "  20.133458333333333,\n",
       "  18.264454545454548],\n",
       " 'fixationPrecision': [80.0,\n",
       "  80.0,\n",
       "  85.96491228070175,\n",
       "  71.875,\n",
       "  32.608695652173914,\n",
       "  30.0,\n",
       "  68.42105263157895],\n",
       " 'fixationsPerSecond': [1.9043473529571793,\n",
       "  1.8089070583553417,\n",
       "  1.6572176188399474,\n",
       "  1.5581633149924528,\n",
       "  2.0984922789169955,\n",
       "  1.8537055574092611,\n",
       "  1.8447198938476972],\n",
       " 'pupilDilationLeftList': [],\n",
       " 'pupilDilationMean': [],\n",
       " 'pupilDilationRightList': [],\n",
       " 'saccadeDurationList': [],\n",
       " 'saccadeVelocityList': [3.5333333333333332,\n",
       "  4.0685416666666665,\n",
       "  3.8327777777777783,\n",
       "  3.1933333333333342,\n",
       "  5.1885393258426973,\n",
       "  3.6083333333333329,\n",
       "  3.8456363636363635]}"
      ]
     },
     "execution_count": 29,
     "metadata": {},
     "output_type": "execute_result"
    }
   ],
   "source": [
    "data[\"M4A-Q24.png\"]"
   ]
  },
  {
   "cell_type": "code",
   "execution_count": 30,
   "metadata": {},
   "outputs": [
    {
     "name": "stdout",
     "output_type": "stream",
     "text": [
      "0 ﻿ExportDate 16-06-2017\n",
      "1 StudioVersionRec 3.4.5\n",
      "2 StudioProjectName pilot test 1\n",
      "3 StudioTestName pilot test B\n",
      "4 ParticipantName p768b\n",
      "5 [M1BE-Q1]Value  Very high mental effort\n",
      "6 [M1BE-Q2]Value  Neither high nor low mental effort\n",
      "7 [M1BE-Q3]Value  High mental effort\n",
      "8 [M1BE-Q4]Value  High mental effort\n",
      "9 [M1BE-Q5]Value  High mental effort\n",
      "10 [M1BE-Q6]Value  Neither high nor low mental effort\n",
      "11 [M1B-Q01]Value True\n",
      "12 [M1B-Q02]Value True\n",
      "13 [M1B-Q03]Value True\n",
      "14 [M1B-Q04]Value  False\n",
      "15 [M1B-Q05]Value  False\n",
      "16 [M1B-Q06]Value  False\n",
      "17 [M2BE-Q10]Value  Neither high nor low mental effort\n",
      "18 [M2BE-Q11]Value  Low mental effort\n",
      "19 [M2BE-Q12]Value  Neither high nor low mental effort\n",
      "20 [M2BE-Q7]Value  Low mental effort\n",
      "21 [M2BE-Q8]Value  Low mental effort\n",
      "22 [M2BE-Q9]Value  Very low mental effort\n",
      "23 [M2B-Q07]Value  False\n",
      "24 [M2B-Q08]Value True\n",
      "25 [M2B-Q09]Value True\n",
      "26 [M2B-Q10]Value  False\n",
      "27 [M2B-Q11]Value True\n",
      "28 [M2B-Q12]Value  False\n",
      "29 [M3BE-Q13]Value  Neither high nor low mental effort\n",
      "30 [M3BE-Q14]Value  Neither high nor low mental effort\n",
      "31 [M3BE-Q15]Value  Low mental effort\n",
      "32 [M3BE-Q16]Value  High mental effort\n",
      "33 [M3BE-Q17]Value  Neither high nor low mental effort\n",
      "34 [M3BE-Q18]Value  High mental effort\n",
      "35 [M3B-Q13]Value True\n",
      "36 [M3B-Q14]Value  False\n",
      "37 [M3B-Q15]Value True\n",
      "38 [M3B-Q16]Value True\n",
      "39 [M3B-Q17]Value True\n",
      "40 [M3B-Q18]Value  False\n",
      "41 [M4BE-Q19]Value  High mental effort\n",
      "42 [M4BE-Q20]Value  Low mental effort\n",
      "43 [M4BE-Q21]Value  High mental effort\n",
      "44 [M4BE-Q22]Value  High mental effort\n",
      "45 [M4BE-Q23]Value  Neither high nor low mental effort\n",
      "46 [M4BE-Q24]Value  Neither high nor low mental effort\n",
      "47 [M4B-Q19]Value True\n",
      "48 [M4B-Q20]Value  False\n",
      "49 [M4B-Q21]Value  False\n",
      "50 [M4B-Q22]Value  False\n",
      "51 [M4B-Q23]Value  False\n",
      "52 [M4B-Q24]Value  False\n",
      "53 [TUTB-Q01]Value True\n",
      "54 [TUTB-Q02]Value True\n",
      "55 [TUTB-Q03]Value True\n",
      "56 [TUTA-Q01]Value True\n",
      "57 [TUTA-Q02]Value True\n",
      "58 [TUTA-Q03]Value True\n",
      "59 [M1A-Q01]Value True\n",
      "60 [M1AE-Q1]Value Extremly low mental effort\n",
      "61 [M1A-Q02]Value True\n",
      "62 [M1AE-Q2]Value Extremly low mental effort\n",
      "63 [M1A-Q03]Value True\n",
      "64 [M1AE-Q3]Value Extremly low mental effort\n",
      "65 [M1A-Q04]Value True\n",
      "66 [M1AE-Q4]Value Extremly low mental effort\n",
      "67 [M1A-Q05]Value True\n",
      "68 [M1AE-Q5]Value Extremly low mental effort\n",
      "69 [M1A-Q06]Value True\n",
      "70 [M1AE-Q6]Value Extremly low mental effort\n",
      "71 [M2A-Q07]Value True\n",
      "72 [M2AE-Q7]Value Extremly low mental effort\n",
      "73 [M2A-Q08]Value True\n",
      "74 [M2AE-Q8]Value Extremly low mental effort\n",
      "75 [M2A-Q09]Value True\n",
      "76 [M2AE-Q9]Value Extremly low mental effort\n",
      "77 [M2A-Q10]Value True\n",
      "78 [M2AE-Q10]Value Extremly low mental effort\n",
      "79 [M2A-Q11]Value True\n",
      "80 [M2AE-Q11]Value Extremly low mental effort\n",
      "81 [M2A-Q12]Value True\n",
      "82 [M2AE-Q12]Value Extremly low mental effort\n",
      "83 [M3A-Q13]Value True\n",
      "84 [M3AE-Q13]Value Extremly low mental effort\n",
      "85 [M3A-Q14]Value True\n",
      "86 [M3AE-Q14]Value Extremly low mental effort\n",
      "87 [M3A-Q15]Value True\n",
      "88 [M3AE-Q15]Value Extremly low mental effort\n",
      "89 [M3A-Q16]Value True\n",
      "90 [M3AE-Q16]Value Extremly low mental effort\n",
      "91 [M3A-Q17]Value True\n",
      "92 [M3AE-Q17]Value Extremly low mental effort\n",
      "93 [M3A-Q18]Value True\n",
      "94 [M3AE-Q18]Value Extremly low mental effort\n",
      "95 [M4A-Q19]Value True\n",
      "96 [M4AE-Q19]Value Extremly low mental effort\n",
      "97 [M4A-Q20]Value True\n",
      "98 [M4AE-Q20]Value Extremly low mental effort\n",
      "99 [M4A-Q21]Value True\n",
      "100 [M4AE-Q21]Value Extremly low mental effort\n",
      "101 [M4A-Q22]Value True\n",
      "102 [M4AE-Q22]Value Extremly low mental effort\n",
      "103 [M4A-Q23]Value True\n",
      "104 [M4AE-Q23]Value Extremly low mental effort\n",
      "105 [M4A-Q24]Value True\n",
      "106 [M4AE-Q24]Value Extremly low mental effort\n",
      "107 RecordingName Rec 05\n",
      "108 RecordingDate 26-04-2017\n",
      "109 RecordingDuration 856821\n",
      "110 RecordingResolution 1920 x 1200\n",
      "111 PresentationSequence \n",
      "112 FixationFilter I-VT filter\n",
      "113 MediaName M1B-Q01.png\n",
      "114 MediaPosX (ADCSpx) 0\n",
      "115 MediaPosY (ADCSpx) 0\n",
      "116 MediaWidth 1920\n",
      "117 MediaHeight 1200\n",
      "118 SegmentName \n",
      "119 SegmentStart \n",
      "120 SegmentEnd \n",
      "121 SegmentDuration \n",
      "122 SceneName \n",
      "123 SceneSegmentStart \n",
      "124 SceneSegmentEnd \n",
      "125 SceneSegmentDuration \n",
      "126 RecordingTimestamp 62589\n",
      "127 LocalTimeStamp 19:50:41.336\n",
      "128 EyeTrackerTimestamp 1493214779616161\n",
      "129 MouseEventIndex \n",
      "130 MouseEvent \n",
      "131 MouseEventX (ADCSpx) \n",
      "132 MouseEventY (ADCSpx) \n",
      "133 MouseEventX (MCSpx) \n",
      "134 MouseEventY (MCSpx) \n",
      "135 KeyPressEventIndex \n",
      "136 KeyPressEvent \n",
      "137 StudioEventIndex \n",
      "138 StudioEvent \n",
      "139 StudioEventData \n",
      "140 ExternalEventIndex \n",
      "141 ExternalEvent \n",
      "142 ExternalEventValue \n",
      "143 EventMarkerValue 0\n",
      "144 FixationIndex 231\n",
      "145 SaccadeIndex \n",
      "146 GazeEventType Fixation\n",
      "147 GazeEventDuration 147\n",
      "148 FixationPointX (MCSpx) 607\n",
      "149 FixationPointY (MCSpx) 583\n",
      "150 SaccadicAmplitude 7,64\n",
      "151 AbsoluteSaccadicDirection 96,07\n",
      "152 RelativeSaccadicDirection 274,65\n",
      "153 AOI[AOI]Hit \n",
      "154 AOI[Polygon]Hit \n",
      "155 AOI[AOI]Hit \n",
      "156 AOI[Polygon]Hit \n",
      "157 AOI[AOI]Hit \n",
      "158 AOI[Polygon]Hit \n",
      "159 AOI[AOI]Hit \n",
      "160 AOI[Polygon]Hit \n",
      "161 AOI[AOI]Hit \n",
      "162 AOI[Polygon]Hit \n",
      "163 AOI[AOI]Hit \n",
      "164 AOI[Polygon 2]Hit \n",
      "165 AOI[AOI]Hit \n",
      "166 AOI[Rectangle]Hit \n",
      "167 AOI[AOI]Hit \n",
      "168 AOI[Polygon]Hit \n",
      "169 AOI[AOI]Hit \n",
      "170 AOI[Polygon]Hit \n",
      "171 AOI[AOI]Hit \n",
      "172 AOI[Polygon]Hit \n",
      "173 AOI[AOI]Hit \n",
      "174 AOI[Polygon]Hit \n",
      "175 AOI[AOI]Hit \n",
      "176 AOI[Polygon]Hit \n",
      "177 AOI[AOI]Hit \n",
      "178 AOI[Polygon]Hit \n",
      "179 AOI[AOI]Hit \n",
      "180 AOI[Polygon]Hit \n",
      "181 AOI[AOI]Hit \n",
      "182 AOI[Polygon]Hit \n",
      "183 AOI[AOI]Hit \n",
      "184 AOI[Polygon]Hit \n",
      "185 AOI[AOI]Hit \n",
      "186 AOI[Polygon]Hit \n",
      "187 AOI[AOI]Hit \n",
      "188 AOI[Polygon]Hit \n",
      "189 AOI[AOI]Hit \n",
      "190 AOI[Polygon]Hit \n",
      "191 AOI[AOI]Hit \n",
      "192 AOI[Polygon]Hit \n",
      "193 AOI[AOI]Hit \n",
      "194 AOI[Polygon]Hit \n",
      "195 AOI[AOI]Hit \n",
      "196 AOI[Polygon]Hit \n",
      "197 AOI[AOI]Hit \n",
      "198 AOI[Polygon]Hit \n",
      "199 AOI[AOI]Hit \n",
      "200 AOI[Polygon]Hit \n",
      "201 AOI[AOI]Hit 1\n",
      "202 AOI[Polygon]Hit 0\n",
      "203 AOI[AOI]Hit \n",
      "204 AOI[Polygon]Hit \n",
      "205 AOI[AOI]Hit \n",
      "206 AOI[Polygon]Hit \n",
      "207 AOI[AOI]Hit \n",
      "208 AOI[Polygon]Hit \n",
      "209 AOI[AOI]Hit \n",
      "210 AOI[Polygon]Hit \n",
      "211 AOI[AOI]Hit \n",
      "212 AOI[Polygon]Hit \n",
      "213 AOI[AOI]Hit \n",
      "214 AOI[Polygon]Hit \n",
      "215 AOI[AOI]Hit \n",
      "216 AOI[Polygon]Hit \n",
      "217 AOI[AOI]Hit \n",
      "218 AOI[Polygon]Hit \n",
      "219 AOI[AOI]Hit \n",
      "220 AOI[Polygon]Hit \n",
      "221 AOI[AOI]Hit \n",
      "222 AOI[Polygon 2]Hit \n",
      "223 AOI[AOI]Hit \n",
      "224 AOI[Polygon]Hit \n",
      "225 AOI[AOI]Hit \n",
      "226 AOI[Polygon]Hit \n",
      "227 AOI[AOI]Hit \n",
      "228 AOI[Polygon]Hit \n",
      "229 AOI[AOI]Hit \n",
      "230 AOI[Polygon]Hit \n",
      "231 AOI[AOI]Hit \n",
      "232 AOI[Polygon]Hit \n",
      "233 AOI[AOI]Hit \n",
      "234 AOI[Polygon]Hit \n",
      "235 AOI[AOI]Hit \n",
      "236 AOI[Polygon]Hit \n",
      "237 AOI[AOI]Hit \n",
      "238 AOI[Polygon]Hit \n",
      "239 AOI[AOI]Hit \n",
      "240 AOI[Polygon]Hit \n",
      "241 AOI[AOI]Hit \n",
      "242 AOI[Polygon]Hit \n",
      "243 AOI[AOI]Hit \n",
      "244 AOI[Polygon]Hit \n",
      "245 AOI[AOI]Hit \n",
      "246 AOI[Polygon]Hit \n",
      "247 AOI[AOI]Hit \n",
      "248 AOI[Polygon]Hit \n",
      "249 GazePointIndex 18779\n",
      "250 GazePointLeftX (ADCSpx) 599\n",
      "251 GazePointLeftY (ADCSpx) 561\n",
      "252 GazePointRightX (ADCSpx) 616\n",
      "253 GazePointRightY (ADCSpx) 582\n",
      "254 GazePointX (ADCSpx) 607\n",
      "255 GazePointY (ADCSpx) 571\n",
      "256 GazePointX (MCSpx) 607\n",
      "257 GazePointY (MCSpx) 571\n",
      "258 GazePointLeftX (ADCSmm) 160,30\n",
      "259 GazePointLeftY (ADCSmm) 154,41\n",
      "260 GazePointRightX (ADCSmm) 164,93\n",
      "261 GazePointRightY (ADCSmm) 149,43\n",
      "262 StrictAverageGazePointX (ADCSmm) 162,62\n",
      "263 StrictAverageGazePointY (ADCSmm) 151,92\n",
      "264 EyePosLeftX (ADCSmm) 204,90\n",
      "265 EyePosLeftY (ADCSmm) 193,43\n",
      "266 EyePosLeftZ (ADCSmm) 535,27\n",
      "267 EyePosRightX (ADCSmm) 270,05\n",
      "268 EyePosRightY (ADCSmm) 192,43\n",
      "269 EyePosRightZ (ADCSmm) 532,87\n",
      "270 CamLeftX \n",
      "271 CamLeftY \n",
      "272 CamRightX \n",
      "273 CamRightY \n",
      "274 DistanceLeft 572,41\n",
      "275 DistanceRight 572,41\n",
      "276 PupilLeft 3,46\n",
      "277 PupilRight 3,24\n",
      "278 ValidityLeft 0\n",
      "279 ValidityRight 0\n",
      "280 IRMarkerCount \n",
      "281 IRMarkerID \n",
      "282 PupilGlassesRight \n",
      "283  \n"
     ]
    }
   ],
   "source": [
    "index = 0\n",
    "for row in dataHeaders:\n",
    "    print index, row, dataDictionary[\"M1B-Q01.png\"][1][index]\n",
    "    index += 1"
   ]
  },
  {
   "cell_type": "code",
   "execution_count": 31,
   "metadata": {},
   "outputs": [
    {
     "data": {
      "text/plain": [
       "153"
      ]
     },
     "execution_count": 31,
     "metadata": {},
     "output_type": "execute_result"
    }
   ],
   "source": [
    "GetIndexForHeader(\"AOI[AOI]Hit\")"
   ]
  },
  {
   "cell_type": "code",
   "execution_count": 32,
   "metadata": {},
   "outputs": [
    {
     "ename": "KeyError",
     "evalue": "'M1A-Q01.png'",
     "output_type": "error",
     "traceback": [
      "\u001b[1;31m\u001b[0m",
      "\u001b[1;31mKeyError\u001b[0mTraceback (most recent call last)",
      "\u001b[1;32m<ipython-input-32-e222ffda412a>\u001b[0m in \u001b[0;36m<module>\u001b[1;34m()\u001b[0m\n\u001b[1;32m----> 1\u001b[1;33m \u001b[1;32mfor\u001b[0m \u001b[0mrow\u001b[0m \u001b[1;32min\u001b[0m \u001b[0mdataDictionary\u001b[0m\u001b[1;33m[\u001b[0m\u001b[1;34m\"M1A-Q01.png\"\u001b[0m\u001b[1;33m]\u001b[0m\u001b[1;33m:\u001b[0m\u001b[1;33m\u001b[0m\u001b[0m\n\u001b[0m\u001b[0;32m      2\u001b[0m     \u001b[1;32mprint\u001b[0m \u001b[0mrow\u001b[0m\u001b[1;33m[\u001b[0m\u001b[0mGetIndexForHeader\u001b[0m\u001b[1;33m(\u001b[0m\u001b[1;34m\"FixationIndex\"\u001b[0m\u001b[1;33m)\u001b[0m\u001b[1;33m]\u001b[0m\u001b[1;33m,\u001b[0m \u001b[0mrow\u001b[0m\u001b[1;33m[\u001b[0m\u001b[0mGetIndexForHeader\u001b[0m\u001b[1;33m(\u001b[0m\u001b[1;34m\"SaccadeIndex\"\u001b[0m\u001b[1;33m)\u001b[0m\u001b[1;33m]\u001b[0m\u001b[1;33m,\u001b[0m \u001b[0mrow\u001b[0m\u001b[1;33m[\u001b[0m\u001b[0mGetIndexForHeader\u001b[0m\u001b[1;33m(\u001b[0m\u001b[1;34m\"AOI[AOI]Hit\"\u001b[0m\u001b[1;33m)\u001b[0m\u001b[1;33m]\u001b[0m\u001b[1;33m\u001b[0m\u001b[0m\n",
      "\u001b[1;31mKeyError\u001b[0m: 'M1A-Q01.png'"
     ]
    }
   ],
   "source": [
    "for row in dataDictionary[\"M1A-Q01.png\"]:\n",
    "    print row[GetIndexForHeader(\"FixationIndex\")], row[GetIndexForHeader(\"SaccadeIndex\")], row[GetIndexForHeader(\"AOI[AOI]Hit\")]"
   ]
  },
  {
   "cell_type": "code",
   "execution_count": 33,
   "metadata": {},
   "outputs": [
    {
     "ename": "KeyError",
     "evalue": "'TUTX-Q01.png'",
     "output_type": "error",
     "traceback": [
      "\u001b[1;31m\u001b[0m",
      "\u001b[1;31mKeyError\u001b[0mTraceback (most recent call last)",
      "\u001b[1;32m<ipython-input-33-f044c54430bc>\u001b[0m in \u001b[0;36m<module>\u001b[1;34m()\u001b[0m\n\u001b[0;32m      1\u001b[0m \u001b[0mmeasure\u001b[0m \u001b[1;33m=\u001b[0m \u001b[1;34m\"pupilDilationMean\"\u001b[0m\u001b[1;33m\u001b[0m\u001b[0m\n\u001b[1;32m----> 2\u001b[1;33m \u001b[0mTUT\u001b[0m \u001b[1;33m=\u001b[0m \u001b[0mdata\u001b[0m\u001b[1;33m[\u001b[0m\u001b[1;34m\"TUTX-Q01.png\"\u001b[0m\u001b[1;33m]\u001b[0m\u001b[1;33m[\u001b[0m\u001b[0mmeasure\u001b[0m\u001b[1;33m]\u001b[0m \u001b[1;33m+\u001b[0m \u001b[0mdata\u001b[0m\u001b[1;33m[\u001b[0m\u001b[1;34m\"TUTX-Q02.png\"\u001b[0m\u001b[1;33m]\u001b[0m\u001b[1;33m[\u001b[0m\u001b[0mmeasure\u001b[0m\u001b[1;33m]\u001b[0m \u001b[1;33m+\u001b[0m \u001b[0mdata\u001b[0m\u001b[1;33m[\u001b[0m\u001b[1;34m\"TUTX-Q03.png\"\u001b[0m\u001b[1;33m]\u001b[0m\u001b[1;33m[\u001b[0m\u001b[0mmeasure\u001b[0m\u001b[1;33m]\u001b[0m\u001b[1;33m\u001b[0m\u001b[0m\n\u001b[0m\u001b[0;32m      3\u001b[0m \u001b[0mtutMean\u001b[0m \u001b[1;33m=\u001b[0m \u001b[0mnp\u001b[0m\u001b[1;33m.\u001b[0m\u001b[0mmean\u001b[0m\u001b[1;33m(\u001b[0m\u001b[0mTUT\u001b[0m\u001b[1;33m)\u001b[0m\u001b[1;33m\u001b[0m\u001b[0m\n\u001b[0;32m      4\u001b[0m \u001b[1;33m\u001b[0m\u001b[0m\n\u001b[0;32m      5\u001b[0m \u001b[1;32mfor\u001b[0m \u001b[0mimage\u001b[0m \u001b[1;32min\u001b[0m \u001b[0mdata\u001b[0m\u001b[1;33m.\u001b[0m\u001b[0mkeys\u001b[0m\u001b[1;33m(\u001b[0m\u001b[1;33m)\u001b[0m\u001b[1;33m:\u001b[0m\u001b[1;33m\u001b[0m\u001b[0m\n",
      "\u001b[1;31mKeyError\u001b[0m: 'TUTX-Q01.png'"
     ]
    }
   ],
   "source": [
    "measure = \"pupilDilationMean\"\n",
    "TUT = data[\"TUTX-Q01.png\"][measure] + data[\"TUTX-Q02.png\"][measure] + data[\"TUTX-Q03.png\"][measure]\n",
    "tutMean = np.mean(TUT)\n",
    "\n",
    "for image in data.keys():\n",
    "    data[image][\"pupilDilationDiff\"] = []\n",
    "    for index in xrange(len(data[image][\"pupilDilationMean\"])):\n",
    "        data[image][\"pupilDilationDiff\"].append(float(data[image][\"pupilDilationMean\"][index])-float(TUT[index]))"
   ]
  },
  {
   "cell_type": "code",
   "execution_count": 34,
   "metadata": {},
   "outputs": [
    {
     "name": "stdout",
     "output_type": "stream",
     "text": [
      "[43.333333333333336, 28.57142857142857, 14.516129032258066, 54.54545454545454, 42.42424242424242, 72.0]\n"
     ]
    }
   ],
   "source": [
    "from pylab import *\n",
    "import matplotlib.pyplot as plt\n",
    "print data['M2B-Q11.png'][\"fixationPrecision\"]"
   ]
  },
  {
   "cell_type": "code",
   "execution_count": 35,
   "metadata": {},
   "outputs": [
    {
     "name": "stdout",
     "output_type": "stream",
     "text": [
      "[12.424, 11.288, 12.402, 27.54, 26.959, 17.056, 20.801, 23.53, 17.685, 13.302, 31.432, 21.615, 23.568, 66.829, 31.229, 31.118, 15.67, 18.279, 37.39, 13.887, 18.285, 33.111, 51.548, 33.891, 47.069, 64.504, 29.666, 48.576, 38.481, 47.214, 41.395, 35.805, 40.542, 35.813, 28.774, 18.547, 47.003, 48.491, 28.191, 43.362, 49.03, 16.509]\n"
     ]
    }
   ],
   "source": [
    "def getModelData(model, measure, localAndGlobal=\"Both\"):\n",
    "    multiplier = int(model[1])\n",
    "    aORb = model[2]\n",
    "    end = 6 * multiplier\n",
    "    start = end - 5\n",
    "    if localAndGlobal is \"Local\":\n",
    "        end = end - 3\n",
    "    elif localAndGlobal is \"Global\":\n",
    "        start = start + 3\n",
    "    prefix = model +\"-\"\n",
    "    questions = []\n",
    "    for index in range(start, end+1):\n",
    "        question = index\n",
    "        question = \"%02d\" % (question,)\n",
    "        question = \"Q\"+question\n",
    "        questions.append(question)\n",
    "    \n",
    "    collecter = []\n",
    "    for question in questions:\n",
    "        collecter += data[prefix+question+\".png\"][measure]\n",
    "    \n",
    "    return collecter\n",
    "\n",
    "print getModelData(\"M1A\", \"duration\")\n",
    "%matplotlib inline"
   ]
  },
  {
   "cell_type": "code",
   "execution_count": 36,
   "metadata": {},
   "outputs": [
    {
     "data": {
      "image/png": "[encoded data removed]",
      "text/plain": [
       "<matplotlib.figure.Figure at 0xbb1d1e48>"
      ]
     },
     "metadata": {},
     "output_type": "display_data"
    },
    {
     "data": {
      "image/png": "[encoded data removed]",
      "text/plain": [
       "<matplotlib.figure.Figure at 0xf192b4e0>"
      ]
     },
     "metadata": {},
     "output_type": "display_data"
    },
    {
     "data": {
      "image/png": "[encoded data removed]",
      "text/plain": [
       "<matplotlib.figure.Figure at 0x159fc278>"
      ]
     },
     "metadata": {},
     "output_type": "display_data"
    },
    {
     "data": {
      "image/png": "[encoded data removed]",
      "text/plain": [
       "<matplotlib.figure.Figure at 0x33846ba8>"
      ]
     },
     "metadata": {},
     "output_type": "display_data"
    }
   ],
   "source": [
    "%matplotlib inline\n",
    "measure = \"duration\"\n",
    "M1A = data[\"M1A-Q01.png\"][measure] + data[\"M1A-Q02.png\"][measure] + data[\"M1A-Q03.png\"][measure] +data[\"M1A-Q04.png\"][measure] +data[\"M1A-Q05.png\"][measure] +data[\"M1A-Q06.png\"][measure]\n",
    "M1B = data[\"M1B-Q01.png\"][measure] + data[\"M1B-Q02.png\"][measure] + data[\"M1B-Q03.png\"][measure] +data[\"M1B-Q04.png\"][measure] +data[\"M1B-Q05.png\"][measure] +data[\"M1B-Q06.png\"][measure]\n",
    "M2A = data[\"M2A-Q07.png\"][measure] + data[\"M2A-Q08.png\"][measure] + data[\"M2A-Q09.png\"][measure] +data[\"M2A-Q10.png\"][measure] +data[\"M2A-Q11.png\"][measure] +data[\"M2A-Q12.png\"][measure]\n",
    "M2B = data[\"M2B-Q07.png\"][measure] + data[\"M2B-Q08.png\"][measure] + data[\"M2B-Q09.png\"][measure] +data[\"M2B-Q10.png\"][measure] +data[\"M2B-Q11.png\"][measure] +data[\"M2B-Q12.png\"][measure]\n",
    "M3A = data[\"M3A-Q13.png\"][measure] + data[\"M3A-Q14.png\"][measure] + data[\"M3A-Q15.png\"][measure] +data[\"M3A-Q16.png\"][measure] +data[\"M3A-Q17.png\"][measure] +data[\"M3A-Q18.png\"][measure]\n",
    "M3B = data[\"M3B-Q13.png\"][measure] + data[\"M3B-Q14.png\"][measure] + data[\"M3B-Q15.png\"][measure] +data[\"M3B-Q16.png\"][measure] +data[\"M3B-Q17.png\"][measure] +data[\"M3B-Q18.png\"][measure]\n",
    "M4A = data[\"M4A-Q19.png\"][measure] + data[\"M4A-Q20.png\"][measure] + data[\"M4A-Q21.png\"][measure] +data[\"M4A-Q22.png\"][measure] +data[\"M4A-Q23.png\"][measure] +data[\"M4A-Q24.png\"][measure]\n",
    "M4B = data[\"M4B-Q19.png\"][measure] + data[\"M4B-Q20.png\"][measure] + data[\"M4B-Q21.png\"][measure] +data[\"M4B-Q22.png\"][measure] +data[\"M4B-Q23.png\"][measure] +data[\"M4B-Q24.png\"][measure]\n",
    "\n",
    "\n",
    "\n",
    "\n",
    "\n",
    "def boxplot(figureSubtitle, ylabel, MA, MB):\n",
    "    fig = plt.figure(figsize=(9,6))\n",
    "    #fig.suptitle(figureSubtitle, fontsize=14, fontweight='bold')\n",
    "\n",
    "    ax1A = fig.add_subplot(121)\n",
    "    ax1A.set_ylabel(ylabel)\n",
    "    ax1A.set_xlabel(\"Group A\")\n",
    "    ax1A.tick_params(axis=\"x\", which=\"both\", bottom=\"off\", top=\"off\", labelbottom=\"off\")\n",
    "    bp1A = ax1A.boxplot(MA)\n",
    "\n",
    "    ax1B = fig.add_subplot(122, sharey = ax1A)\n",
    "    ax1B.set_ylabel(ylabel)\n",
    "    ax1B.set_xlabel(\"Group B\")\n",
    "    ax1B.tick_params(axis=\"x\", which=\"both\", bottom=\"off\", top=\"off\", labelbottom=\"off\")\n",
    "    bp1B = ax1B.boxplot(MB)\n",
    "    \n",
    "    return fig\n",
    "db = \"DurationBoxplot\"    \n",
    "m1 = boxplot(\"Model 1 duration\", \"Time (sec)\", M1A, M1B)\n",
    "m1.savefig(\"M1\"+db)\n",
    "m2 = boxplot(\"Model 2 duration\", \"Time (sec)\", M2A, M2B)\n",
    "m2.savefig(\"M2\"+db)\n",
    "m3 = boxplot(\"Model 3 duration\", \"Time (sec)\", M3A, M3B)\n",
    "m3.savefig(\"M3\"+db)\n",
    "m4 = boxplot(\"Model 4 duration\", \"Time (sec)\", M4A, M4B)\n",
    "m4.savefig(\"M4\"+db)"
   ]
  },
  {
   "cell_type": "code",
   "execution_count": 37,
   "metadata": {},
   "outputs": [
    {
     "data": {
      "image/png": "[encoded data removed]",
      "text/plain": [
       "<matplotlib.figure.Figure at 0x14e5e5898>"
      ]
     },
     "metadata": {},
     "output_type": "display_data"
    },
    {
     "data": {
      "image/png": "[encoded data removed]",
      "text/plain": [
       "<matplotlib.figure.Figure at 0x14273ed68>"
      ]
     },
     "metadata": {},
     "output_type": "display_data"
    },
    {
     "data": {
      "image/png": "[encoded data removed]",
      "text/plain": [
       "<matplotlib.figure.Figure at 0xd51fcf28>"
      ]
     },
     "metadata": {},
     "output_type": "display_data"
    },
    {
     "data": {
      "image/png": "[encoded data removed]",
      "text/plain": [
       "<matplotlib.figure.Figure at 0x19295b38>"
      ]
     },
     "metadata": {},
     "output_type": "display_data"
    }
   ],
   "source": [
    "measure = \"amountOfFixations\"\n",
    "M1A = data[\"M1A-Q01.png\"][measure] + data[\"M1A-Q02.png\"][measure] + data[\"M1A-Q03.png\"][measure] +data[\"M1A-Q04.png\"][measure] +data[\"M1A-Q05.png\"][measure] +data[\"M1A-Q06.png\"][measure]\n",
    "M1B = data[\"M1B-Q01.png\"][measure] + data[\"M1B-Q02.png\"][measure] + data[\"M1B-Q03.png\"][measure] +data[\"M1B-Q04.png\"][measure] +data[\"M1B-Q05.png\"][measure] +data[\"M1B-Q06.png\"][measure]\n",
    "M2A = data[\"M2A-Q07.png\"][measure] + data[\"M2A-Q08.png\"][measure] + data[\"M2A-Q09.png\"][measure] +data[\"M2A-Q10.png\"][measure] +data[\"M2A-Q11.png\"][measure] +data[\"M2A-Q12.png\"][measure]\n",
    "M2B = data[\"M2B-Q07.png\"][measure] + data[\"M2B-Q08.png\"][measure] + data[\"M2B-Q09.png\"][measure] +data[\"M2B-Q10.png\"][measure] +data[\"M2B-Q11.png\"][measure] +data[\"M2B-Q12.png\"][measure]\n",
    "M3A = data[\"M3A-Q13.png\"][measure] + data[\"M3A-Q14.png\"][measure] + data[\"M3A-Q15.png\"][measure] +data[\"M3A-Q16.png\"][measure] +data[\"M3A-Q17.png\"][measure] +data[\"M3A-Q18.png\"][measure]\n",
    "M3B = data[\"M3B-Q13.png\"][measure] + data[\"M3B-Q14.png\"][measure] + data[\"M3B-Q15.png\"][measure] +data[\"M3B-Q16.png\"][measure] +data[\"M3B-Q17.png\"][measure] +data[\"M3B-Q18.png\"][measure]\n",
    "M4A = data[\"M4A-Q19.png\"][measure] + data[\"M4A-Q20.png\"][measure] + data[\"M4A-Q21.png\"][measure] +data[\"M4A-Q22.png\"][measure] +data[\"M4A-Q23.png\"][measure] +data[\"M4A-Q24.png\"][measure]\n",
    "M4B = data[\"M4B-Q19.png\"][measure] + data[\"M4B-Q20.png\"][measure] + data[\"M4B-Q21.png\"][measure] +data[\"M4B-Q22.png\"][measure] +data[\"M4B-Q23.png\"][measure] +data[\"M4B-Q24.png\"][measure]\n",
    "\n",
    "\n",
    "db = \"amountOfFixationsBoxplot\"    \n",
    "m1 = boxplot(\"Model 1 fixation amount\", \"Fixations\", M1A, M1B)\n",
    "m1.savefig(\"M1\"+db)\n",
    "m2 = boxplot(\"Model 2 fixation amount\", \"Fixations\", M2A, M2B)\n",
    "m2.savefig(\"M2\"+db)\n",
    "m3 = boxplot(\"Model 3 fixation amount\", \"Fixations\", M3A, M3B)\n",
    "m3.savefig(\"M3\"+db)\n",
    "m4 = boxplot(\"Model 4 fixation amount\", \"Fixations\", M4A, M4B)\n",
    "m4.savefig(\"M4\"+db)"
   ]
  },
  {
   "cell_type": "code",
   "execution_count": 38,
   "metadata": {},
   "outputs": [
    {
     "data": {
      "image/png": "[encoded data removed]",
      "text/plain": [
       "<matplotlib.figure.Figure at 0x150a59710>"
      ]
     },
     "metadata": {},
     "output_type": "display_data"
    },
    {
     "data": {
      "image/png": "[encoded data removed]",
      "text/plain": [
       "<matplotlib.figure.Figure at 0x5676d048>"
      ]
     },
     "metadata": {},
     "output_type": "display_data"
    },
    {
     "data": {
      "image/png": "[encoded data removed]",
      "text/plain": [
       "<matplotlib.figure.Figure at 0xd419ac8>"
      ]
     },
     "metadata": {},
     "output_type": "display_data"
    },
    {
     "data": {
      "image/png": "[encoded data removed]",
      "text/plain": [
       "<matplotlib.figure.Figure at 0xfe85c048>"
      ]
     },
     "metadata": {},
     "output_type": "display_data"
    }
   ],
   "source": [
    "measure = \"fixationsPerSecond\"\n",
    "M1A = data[\"M1A-Q01.png\"][measure] + data[\"M1A-Q02.png\"][measure] + data[\"M1A-Q03.png\"][measure] +data[\"M1A-Q04.png\"][measure] +data[\"M1A-Q05.png\"][measure] +data[\"M1A-Q06.png\"][measure]\n",
    "M1B = data[\"M1B-Q01.png\"][measure] + data[\"M1B-Q02.png\"][measure] + data[\"M1B-Q03.png\"][measure] +data[\"M1B-Q04.png\"][measure] +data[\"M1B-Q05.png\"][measure] +data[\"M1B-Q06.png\"][measure]\n",
    "M2A = data[\"M2A-Q07.png\"][measure] + data[\"M2A-Q08.png\"][measure] + data[\"M2A-Q09.png\"][measure] +data[\"M2A-Q10.png\"][measure] +data[\"M2A-Q11.png\"][measure] +data[\"M2A-Q12.png\"][measure]\n",
    "M2B = data[\"M2B-Q07.png\"][measure] + data[\"M2B-Q08.png\"][measure] + data[\"M2B-Q09.png\"][measure] +data[\"M2B-Q10.png\"][measure] +data[\"M2B-Q11.png\"][measure] +data[\"M2B-Q12.png\"][measure]\n",
    "M3A = data[\"M3A-Q13.png\"][measure] + data[\"M3A-Q14.png\"][measure] + data[\"M3A-Q15.png\"][measure] +data[\"M3A-Q16.png\"][measure] +data[\"M3A-Q17.png\"][measure] +data[\"M3A-Q18.png\"][measure]\n",
    "M3B = data[\"M3B-Q13.png\"][measure] + data[\"M3B-Q14.png\"][measure] + data[\"M3B-Q15.png\"][measure] +data[\"M3B-Q16.png\"][measure] +data[\"M3B-Q17.png\"][measure] +data[\"M3B-Q18.png\"][measure]\n",
    "M4A = data[\"M4A-Q19.png\"][measure] + data[\"M4A-Q20.png\"][measure] + data[\"M4A-Q21.png\"][measure] +data[\"M4A-Q22.png\"][measure] +data[\"M4A-Q23.png\"][measure] +data[\"M4A-Q24.png\"][measure]\n",
    "M4B = data[\"M4B-Q19.png\"][measure] + data[\"M4B-Q20.png\"][measure] + data[\"M4B-Q21.png\"][measure] +data[\"M4B-Q22.png\"][measure] +data[\"M4B-Q23.png\"][measure] +data[\"M4B-Q24.png\"][measure]\n",
    "\n",
    "\n",
    "db = \"fixationsPerSecondBoxplot\"    \n",
    "m1 = boxplot(\"Model 1 fixations per second\", \"Fixations (sec)\", M1A, M1B)\n",
    "m1.savefig(\"M1\"+db)\n",
    "m2 = boxplot(\"Model 2 fixations per second\", \"Fixations (sec)\", M2A, M2B)\n",
    "m2.savefig(\"M2\"+db)\n",
    "m3 = boxplot(\"Model 3 fixations per second\", \"Fixations (sec)\", M3A, M3B)\n",
    "m3.savefig(\"M3\"+db)\n",
    "m4 = boxplot(\"Model 4 fixations per second\", \"Fixations (sec)\", M4A, M4B)\n",
    "m4.savefig(\"M4\"+db)"
   ]
  },
  {
   "cell_type": "code",
   "execution_count": 39,
   "metadata": {},
   "outputs": [
    {
     "data": {
      "image/png": "[encoded data removed]",
      "text/plain": [
       "<matplotlib.figure.Figure at 0x150a50550>"
      ]
     },
     "metadata": {},
     "output_type": "display_data"
    },
    {
     "data": {
      "image/png": "[encoded data removed]",
      "text/plain": [
       "<matplotlib.figure.Figure at 0xd1aea58>"
      ]
     },
     "metadata": {},
     "output_type": "display_data"
    },
    {
     "data": {
      "image/png": "[encoded data removed]",
      "text/plain": [
       "<matplotlib.figure.Figure at 0x11d4c8588>"
      ]
     },
     "metadata": {},
     "output_type": "display_data"
    },
    {
     "data": {
      "image/png": "[encoded data removed]",
      "text/plain": [
       "<matplotlib.figure.Figure at 0xb6bfe550>"
      ]
     },
     "metadata": {},
     "output_type": "display_data"
    }
   ],
   "source": [
    "measure = \"amountOfSaccades\"\n",
    "M1A = data[\"M1A-Q01.png\"][measure] + data[\"M1A-Q02.png\"][measure] + data[\"M1A-Q03.png\"][measure] +data[\"M1A-Q04.png\"][measure] +data[\"M1A-Q05.png\"][measure] +data[\"M1A-Q06.png\"][measure]\n",
    "M1B = data[\"M1B-Q01.png\"][measure] + data[\"M1B-Q02.png\"][measure] + data[\"M1B-Q03.png\"][measure] +data[\"M1B-Q04.png\"][measure] +data[\"M1B-Q05.png\"][measure] +data[\"M1B-Q06.png\"][measure]\n",
    "M2A = data[\"M2A-Q07.png\"][measure] + data[\"M2A-Q08.png\"][measure] + data[\"M2A-Q09.png\"][measure] +data[\"M2A-Q10.png\"][measure] +data[\"M2A-Q11.png\"][measure] +data[\"M2A-Q12.png\"][measure]\n",
    "M2B = data[\"M2B-Q07.png\"][measure] + data[\"M2B-Q08.png\"][measure] + data[\"M2B-Q09.png\"][measure] +data[\"M2B-Q10.png\"][measure] +data[\"M2B-Q11.png\"][measure] +data[\"M2B-Q12.png\"][measure]\n",
    "M3A = data[\"M3A-Q13.png\"][measure] + data[\"M3A-Q14.png\"][measure] + data[\"M3A-Q15.png\"][measure] +data[\"M3A-Q16.png\"][measure] +data[\"M3A-Q17.png\"][measure] +data[\"M3A-Q18.png\"][measure]\n",
    "M3B = data[\"M3B-Q13.png\"][measure] + data[\"M3B-Q14.png\"][measure] + data[\"M3B-Q15.png\"][measure] +data[\"M3B-Q16.png\"][measure] +data[\"M3B-Q17.png\"][measure] +data[\"M3B-Q18.png\"][measure]\n",
    "M4A = data[\"M4A-Q19.png\"][measure] + data[\"M4A-Q20.png\"][measure] + data[\"M4A-Q21.png\"][measure] +data[\"M4A-Q22.png\"][measure] +data[\"M4A-Q23.png\"][measure] +data[\"M4A-Q24.png\"][measure]\n",
    "M4B = data[\"M4B-Q19.png\"][measure] + data[\"M4B-Q20.png\"][measure] + data[\"M4B-Q21.png\"][measure] +data[\"M4B-Q22.png\"][measure] +data[\"M4B-Q23.png\"][measure] +data[\"M4B-Q24.png\"][measure]\n",
    "\n",
    "\n",
    "db = \"amountOfSaccadesBoxplot\"    \n",
    "m1 = boxplot(\"Model 1 amount of saccades\", \"Saccades\", M1A, M1B)\n",
    "m1.savefig(\"M1\"+db)\n",
    "m2 = boxplot(\"Model 2 amount of saccades\", \"Saccades\", M2A, M2B)\n",
    "m2.savefig(\"M2\"+db)\n",
    "m3 = boxplot(\"Model 3 amount of saccades\", \"Saccades\", M3A, M3B)\n",
    "m3.savefig(\"M3\"+db)\n",
    "m4 = boxplot(\"Model 4 amount of saccades\", \"Saccades\", M4A, M4B)\n",
    "m4.savefig(\"M4\"+db)"
   ]
  },
  {
   "cell_type": "code",
   "execution_count": 40,
   "metadata": {},
   "outputs": [
    {
     "data": {
      "image/png": "[encoded data removed]",
      "text/plain": [
       "<matplotlib.figure.Figure at 0x138479400>"
      ]
     },
     "metadata": {},
     "output_type": "display_data"
    },
    {
     "data": {
      "image/png": "[encoded data removed]",
      "text/plain": [
       "<matplotlib.figure.Figure at 0x142734a90>"
      ]
     },
     "metadata": {},
     "output_type": "display_data"
    },
    {
     "data": {
      "image/png": "[encoded data removed]",
      "text/plain": [
       "<matplotlib.figure.Figure at 0x2c4d0390>"
      ]
     },
     "metadata": {},
     "output_type": "display_data"
    },
    {
     "data": {
      "image/png": "[encoded data removed]",
      "text/plain": [
       "<matplotlib.figure.Figure at 0xc253e1d0>"
      ]
     },
     "metadata": {},
     "output_type": "display_data"
    }
   ],
   "source": [
    "measure = \"fixationDuration\"\n",
    "M1A = data[\"M1A-Q01.png\"][measure] + data[\"M1A-Q02.png\"][measure] + data[\"M1A-Q03.png\"][measure] +data[\"M1A-Q04.png\"][measure] +data[\"M1A-Q05.png\"][measure] +data[\"M1A-Q06.png\"][measure]\n",
    "M1B = data[\"M1B-Q01.png\"][measure] + data[\"M1B-Q02.png\"][measure] + data[\"M1B-Q03.png\"][measure] +data[\"M1B-Q04.png\"][measure] +data[\"M1B-Q05.png\"][measure] +data[\"M1B-Q06.png\"][measure]\n",
    "M2A = data[\"M2A-Q07.png\"][measure] + data[\"M2A-Q08.png\"][measure] + data[\"M2A-Q09.png\"][measure] +data[\"M2A-Q10.png\"][measure] +data[\"M2A-Q11.png\"][measure] +data[\"M2A-Q12.png\"][measure]\n",
    "M2B = data[\"M2B-Q07.png\"][measure] + data[\"M2B-Q08.png\"][measure] + data[\"M2B-Q09.png\"][measure] +data[\"M2B-Q10.png\"][measure] +data[\"M2B-Q11.png\"][measure] +data[\"M2B-Q12.png\"][measure]\n",
    "M3A = data[\"M3A-Q13.png\"][measure] + data[\"M3A-Q14.png\"][measure] + data[\"M3A-Q15.png\"][measure] +data[\"M3A-Q16.png\"][measure] +data[\"M3A-Q17.png\"][measure] +data[\"M3A-Q18.png\"][measure]\n",
    "M3B = data[\"M3B-Q13.png\"][measure] + data[\"M3B-Q14.png\"][measure] + data[\"M3B-Q15.png\"][measure] +data[\"M3B-Q16.png\"][measure] +data[\"M3B-Q17.png\"][measure] +data[\"M3B-Q18.png\"][measure]\n",
    "M4A = data[\"M4A-Q19.png\"][measure] + data[\"M4A-Q20.png\"][measure] + data[\"M4A-Q21.png\"][measure] +data[\"M4A-Q22.png\"][measure] +data[\"M4A-Q23.png\"][measure] +data[\"M4A-Q24.png\"][measure]\n",
    "M4B = data[\"M4B-Q19.png\"][measure] + data[\"M4B-Q20.png\"][measure] + data[\"M4B-Q21.png\"][measure] +data[\"M4B-Q22.png\"][measure] +data[\"M4B-Q23.png\"][measure] +data[\"M4B-Q24.png\"][measure]\n",
    "\n",
    "\n",
    "db = \"fixationDurationBoxplot\"    \n",
    "m1 = boxplot(\"Model 1 fixation duration\", \"Duration (sec)\", M1A, M1B)\n",
    "m1.savefig(\"M1\"+db)\n",
    "m2 = boxplot(\"Model 2 fixation duration\", \"Duration (sec)\", M2A, M2B)\n",
    "m2.savefig(\"M2\"+db)\n",
    "m3 = boxplot(\"Model 3 fixation duration\", \"Duration (sec)\", M3A, M3B)\n",
    "m3.savefig(\"M3\"+db)\n",
    "m4 = boxplot(\"Model 4 fixation duration\", \"Duration (sec)\", M4A, M4B)\n",
    "m4.savefig(\"M4\"+db)"
   ]
  },
  {
   "cell_type": "code",
   "execution_count": 43,
   "metadata": {},
   "outputs": [
    {
     "data": {
      "image/png": "[encoded data removed]",
      "text/plain": [
       "<matplotlib.figure.Figure at 0x109d78908>"
      ]
     },
     "metadata": {},
     "output_type": "display_data"
    },
    {
     "data": {
      "image/png": "[encoded data removed]",
      "text/plain": [
       "<matplotlib.figure.Figure at 0xbdf33da0>"
      ]
     },
     "metadata": {},
     "output_type": "display_data"
    },
    {
     "data": {
      "image/png": "[encoded data removed]",
      "text/plain": [
       "<matplotlib.figure.Figure at 0x2764f8d0>"
      ]
     },
     "metadata": {},
     "output_type": "display_data"
    },
    {
     "data": {
      "image/png": "[encoded data removed]",
      "text/plain": [
       "<matplotlib.figure.Figure at 0x3b91d630>"
      ]
     },
     "metadata": {},
     "output_type": "display_data"
    }
   ],
   "source": [
    "measure = \"fixationPrecision\"\n",
    "M1A = data[\"M1A-Q01.png\"][measure] + data[\"M1A-Q02.png\"][measure] + data[\"M1A-Q03.png\"][measure] +data[\"M1A-Q04.png\"][measure] +data[\"M1A-Q05.png\"][measure] +data[\"M1A-Q06.png\"][measure]\n",
    "M1B = data[\"M1B-Q01.png\"][measure] + data[\"M1B-Q02.png\"][measure] + data[\"M1B-Q03.png\"][measure] +data[\"M1B-Q04.png\"][measure] +data[\"M1B-Q05.png\"][measure] +data[\"M1B-Q06.png\"][measure]\n",
    "M2A = data[\"M2A-Q07.png\"][measure] + data[\"M2A-Q08.png\"][measure] + data[\"M2A-Q09.png\"][measure] +data[\"M2A-Q10.png\"][measure] +data[\"M2A-Q11.png\"][measure] +data[\"M2A-Q12.png\"][measure]\n",
    "M2B = data[\"M2B-Q07.png\"][measure] + data[\"M2B-Q08.png\"][measure] + data[\"M2B-Q09.png\"][measure] +data[\"M2B-Q10.png\"][measure] +data[\"M2B-Q11.png\"][measure] +data[\"M2B-Q12.png\"][measure]\n",
    "M3A = data[\"M3A-Q13.png\"][measure] + data[\"M3A-Q14.png\"][measure] + data[\"M3A-Q15.png\"][measure] +data[\"M3A-Q16.png\"][measure] +data[\"M3A-Q17.png\"][measure] +data[\"M3A-Q18.png\"][measure]\n",
    "M3B = data[\"M3B-Q13.png\"][measure] + data[\"M3B-Q14.png\"][measure] + data[\"M3B-Q15.png\"][measure] +data[\"M3B-Q16.png\"][measure] +data[\"M3B-Q17.png\"][measure] +data[\"M3B-Q18.png\"][measure]\n",
    "M4A = data[\"M4A-Q19.png\"][measure] + data[\"M4A-Q20.png\"][measure] + data[\"M4A-Q21.png\"][measure] +data[\"M4A-Q22.png\"][measure] +data[\"M4A-Q23.png\"][measure] +data[\"M4A-Q24.png\"][measure]\n",
    "M4B = data[\"M4B-Q19.png\"][measure] + data[\"M4B-Q20.png\"][measure] + data[\"M4B-Q21.png\"][measure] +data[\"M4B-Q22.png\"][measure] +data[\"M4B-Q23.png\"][measure] +data[\"M4B-Q24.png\"][measure]\n",
    "\n",
    "\n",
    "db = \"fixationDurationBoxplot\"    \n",
    "m1 = boxplot(\"Model 1 fixation duration\", \"Duration (sec)\", M1A, M1B)\n",
    "m1.savefig(\"M1\"+db)\n",
    "m2 = boxplot(\"Model 2 fixation duration\", \"Duration (sec)\", M2A, M2B)\n",
    "m2.savefig(\"M2\"+db)\n",
    "m3 = boxplot(\"Model 3 fixation duration\", \"Duration (sec)\", M3A, M3B)\n",
    "m3.savefig(\"M3\"+db)\n",
    "m4 = boxplot(\"Model 4 fixation duration\", \"Duration (sec)\", M4A, M4B)\n",
    "m4.savefig(\"M4\"+db)"
   ]
  },
  {
   "cell_type": "code",
   "execution_count": 41,
   "metadata": {},
   "outputs": [
    {
     "data": {
      "image/png": "[encoded data removed]",
      "text/plain": [
       "<matplotlib.figure.Figure at 0xa6477710>"
      ]
     },
     "metadata": {},
     "output_type": "display_data"
    },
    {
     "data": {
      "image/png": "[encoded data removed]",
      "text/plain": [
       "<matplotlib.figure.Figure at 0x36b02ac8>"
      ]
     },
     "metadata": {},
     "output_type": "display_data"
    },
    {
     "data": {
      "image/png": "[encoded data removed]",
      "text/plain": [
       "<matplotlib.figure.Figure at 0x867f8b70>"
      ]
     },
     "metadata": {},
     "output_type": "display_data"
    },
    {
     "data": {
      "image/png": "[encoded data removed]",
      "text/plain": [
       "<matplotlib.figure.Figure at 0xfe83c400>"
      ]
     },
     "metadata": {},
     "output_type": "display_data"
    }
   ],
   "source": [
    "measure = \"saccadeVelocityList\"\n",
    "M1A = data[\"M1A-Q01.png\"][measure] + data[\"M1A-Q02.png\"][measure] + data[\"M1A-Q03.png\"][measure] +data[\"M1A-Q04.png\"][measure] +data[\"M1A-Q05.png\"][measure] +data[\"M1A-Q06.png\"][measure]\n",
    "M1B = data[\"M1B-Q01.png\"][measure] + data[\"M1B-Q02.png\"][measure] + data[\"M1B-Q03.png\"][measure] +data[\"M1B-Q04.png\"][measure] +data[\"M1B-Q05.png\"][measure] +data[\"M1B-Q06.png\"][measure]\n",
    "M2A = data[\"M2A-Q07.png\"][measure] + data[\"M2A-Q08.png\"][measure] + data[\"M2A-Q09.png\"][measure] +data[\"M2A-Q10.png\"][measure] +data[\"M2A-Q11.png\"][measure] +data[\"M2A-Q12.png\"][measure]\n",
    "M2B = data[\"M2B-Q07.png\"][measure] + data[\"M2B-Q08.png\"][measure] + data[\"M2B-Q09.png\"][measure] +data[\"M2B-Q10.png\"][measure] +data[\"M2B-Q11.png\"][measure] +data[\"M2B-Q12.png\"][measure]\n",
    "M3A = data[\"M3A-Q13.png\"][measure] + data[\"M3A-Q14.png\"][measure] + data[\"M3A-Q15.png\"][measure] +data[\"M3A-Q16.png\"][measure] +data[\"M3A-Q17.png\"][measure] +data[\"M3A-Q18.png\"][measure]\n",
    "M3B = data[\"M3B-Q13.png\"][measure] + data[\"M3B-Q14.png\"][measure] + data[\"M3B-Q15.png\"][measure] +data[\"M3B-Q16.png\"][measure] +data[\"M3B-Q17.png\"][measure] +data[\"M3B-Q18.png\"][measure]\n",
    "M4A = data[\"M4A-Q19.png\"][measure] + data[\"M4A-Q20.png\"][measure] + data[\"M4A-Q21.png\"][measure] +data[\"M4A-Q22.png\"][measure] +data[\"M4A-Q23.png\"][measure] +data[\"M4A-Q24.png\"][measure]\n",
    "M4B = data[\"M4B-Q19.png\"][measure] + data[\"M4B-Q20.png\"][measure] + data[\"M4B-Q21.png\"][measure] +data[\"M4B-Q22.png\"][measure] +data[\"M4B-Q23.png\"][measure] +data[\"M4B-Q24.png\"][measure]\n",
    "\n",
    "\n",
    "db = \"saccadeVelocityBoxplot\"    \n",
    "m1 = boxplot(\"Model 1 saccade velocity\", \"Velocity\", M1A, M1B)\n",
    "m1.savefig(\"M1\"+db)\n",
    "m2 = boxplot(\"Model 2 saccade velocity\", \"Velocity\", M2A, M2B)\n",
    "m2.savefig(\"M2\"+db)\n",
    "m3 = boxplot(\"Model 3 saccade velocity\", \"Velocity\", M3A, M3B)\n",
    "m3.savefig(\"M3\"+db)\n",
    "m4 = boxplot(\"Model 4 saccade velocity\", \"Velocity\", M4A, M4B)\n",
    "m4.savefig(\"M4\"+db)"
   ]
  },
  {
   "cell_type": "code",
   "execution_count": 42,
   "metadata": {},
   "outputs": [
    {
     "ename": "IndexError",
     "evalue": "list index out of range",
     "output_type": "error",
     "traceback": [
      "\u001b[1;31m\u001b[0m",
      "\u001b[1;31mIndexError\u001b[0mTraceback (most recent call last)",
      "\u001b[1;32m<ipython-input-42-31258c9657a3>\u001b[0m in \u001b[0;36m<module>\u001b[1;34m()\u001b[0m\n\u001b[0;32m     11\u001b[0m \u001b[1;33m\u001b[0m\u001b[0m\n\u001b[0;32m     12\u001b[0m \u001b[0mdb\u001b[0m \u001b[1;33m=\u001b[0m \u001b[1;34m\"pupilDilationLeftListBoxplot\"\u001b[0m\u001b[1;33m\u001b[0m\u001b[0m\n\u001b[1;32m---> 13\u001b[1;33m \u001b[0mm1\u001b[0m \u001b[1;33m=\u001b[0m \u001b[0mboxplot\u001b[0m\u001b[1;33m(\u001b[0m\u001b[1;34m\"Model 1 pupil dilation (left eye)\"\u001b[0m\u001b[1;33m,\u001b[0m \u001b[1;34m\"Dilation (std)\"\u001b[0m\u001b[1;33m,\u001b[0m \u001b[0mM1A\u001b[0m\u001b[1;33m,\u001b[0m \u001b[0mM1B\u001b[0m\u001b[1;33m)\u001b[0m\u001b[1;33m\u001b[0m\u001b[0m\n\u001b[0m\u001b[0;32m     14\u001b[0m \u001b[0mm1\u001b[0m\u001b[1;33m.\u001b[0m\u001b[0msavefig\u001b[0m\u001b[1;33m(\u001b[0m\u001b[1;34m\"M1\"\u001b[0m\u001b[1;33m+\u001b[0m\u001b[0mdb\u001b[0m\u001b[1;33m)\u001b[0m\u001b[1;33m\u001b[0m\u001b[0m\n\u001b[0;32m     15\u001b[0m \u001b[0mm2\u001b[0m \u001b[1;33m=\u001b[0m \u001b[0mboxplot\u001b[0m\u001b[1;33m(\u001b[0m\u001b[1;34m\"Model 2 pupil dilation (left eye)\"\u001b[0m\u001b[1;33m,\u001b[0m \u001b[1;34m\"Dilation (std)\"\u001b[0m\u001b[1;33m,\u001b[0m \u001b[0mM2A\u001b[0m\u001b[1;33m,\u001b[0m \u001b[0mM2B\u001b[0m\u001b[1;33m)\u001b[0m\u001b[1;33m\u001b[0m\u001b[0m\n",
      "\u001b[1;32m<ipython-input-36-84813b72592a>\u001b[0m in \u001b[0;36mboxplot\u001b[1;34m(figureSubtitle, ylabel, MA, MB)\u001b[0m\n\u001b[0;32m     22\u001b[0m     \u001b[0max1A\u001b[0m\u001b[1;33m.\u001b[0m\u001b[0mset_xlabel\u001b[0m\u001b[1;33m(\u001b[0m\u001b[1;34m\"Group A\"\u001b[0m\u001b[1;33m)\u001b[0m\u001b[1;33m\u001b[0m\u001b[0m\n\u001b[0;32m     23\u001b[0m     \u001b[0max1A\u001b[0m\u001b[1;33m.\u001b[0m\u001b[0mtick_params\u001b[0m\u001b[1;33m(\u001b[0m\u001b[0maxis\u001b[0m\u001b[1;33m=\u001b[0m\u001b[1;34m\"x\"\u001b[0m\u001b[1;33m,\u001b[0m \u001b[0mwhich\u001b[0m\u001b[1;33m=\u001b[0m\u001b[1;34m\"both\"\u001b[0m\u001b[1;33m,\u001b[0m \u001b[0mbottom\u001b[0m\u001b[1;33m=\u001b[0m\u001b[1;34m\"off\"\u001b[0m\u001b[1;33m,\u001b[0m \u001b[0mtop\u001b[0m\u001b[1;33m=\u001b[0m\u001b[1;34m\"off\"\u001b[0m\u001b[1;33m,\u001b[0m \u001b[0mlabelbottom\u001b[0m\u001b[1;33m=\u001b[0m\u001b[1;34m\"off\"\u001b[0m\u001b[1;33m)\u001b[0m\u001b[1;33m\u001b[0m\u001b[0m\n\u001b[1;32m---> 24\u001b[1;33m     \u001b[0mbp1A\u001b[0m \u001b[1;33m=\u001b[0m \u001b[0max1A\u001b[0m\u001b[1;33m.\u001b[0m\u001b[0mboxplot\u001b[0m\u001b[1;33m(\u001b[0m\u001b[0mMA\u001b[0m\u001b[1;33m)\u001b[0m\u001b[1;33m\u001b[0m\u001b[0m\n\u001b[0m\u001b[0;32m     25\u001b[0m \u001b[1;33m\u001b[0m\u001b[0m\n\u001b[0;32m     26\u001b[0m     \u001b[0max1B\u001b[0m \u001b[1;33m=\u001b[0m \u001b[0mfig\u001b[0m\u001b[1;33m.\u001b[0m\u001b[0madd_subplot\u001b[0m\u001b[1;33m(\u001b[0m\u001b[1;36m122\u001b[0m\u001b[1;33m,\u001b[0m \u001b[0msharey\u001b[0m \u001b[1;33m=\u001b[0m \u001b[0max1A\u001b[0m\u001b[1;33m)\u001b[0m\u001b[1;33m\u001b[0m\u001b[0m\n",
      "\u001b[1;32mC:\\Users\\Simon\\Anaconda2\\lib\\site-packages\\matplotlib\\__init__.pyc\u001b[0m in \u001b[0;36minner\u001b[1;34m(ax, *args, **kwargs)\u001b[0m\n\u001b[0;32m   1895\u001b[0m                     warnings.warn(msg % (label_namer, func.__name__),\n\u001b[0;32m   1896\u001b[0m                                   RuntimeWarning, stacklevel=2)\n\u001b[1;32m-> 1897\u001b[1;33m             \u001b[1;32mreturn\u001b[0m \u001b[0mfunc\u001b[0m\u001b[1;33m(\u001b[0m\u001b[0max\u001b[0m\u001b[1;33m,\u001b[0m \u001b[1;33m*\u001b[0m\u001b[0margs\u001b[0m\u001b[1;33m,\u001b[0m \u001b[1;33m**\u001b[0m\u001b[0mkwargs\u001b[0m\u001b[1;33m)\u001b[0m\u001b[1;33m\u001b[0m\u001b[0m\n\u001b[0m\u001b[0;32m   1898\u001b[0m         \u001b[0mpre_doc\u001b[0m \u001b[1;33m=\u001b[0m \u001b[0minner\u001b[0m\u001b[1;33m.\u001b[0m\u001b[0m__doc__\u001b[0m\u001b[1;33m\u001b[0m\u001b[0m\n\u001b[0;32m   1899\u001b[0m         \u001b[1;32mif\u001b[0m \u001b[0mpre_doc\u001b[0m \u001b[1;32mis\u001b[0m \u001b[0mNone\u001b[0m\u001b[1;33m:\u001b[0m\u001b[1;33m\u001b[0m\u001b[0m\n",
      "\u001b[1;32mC:\\Users\\Simon\\Anaconda2\\lib\\site-packages\\matplotlib\\axes\\_axes.pyc\u001b[0m in \u001b[0;36mboxplot\u001b[1;34m(self, x, notch, sym, vert, whis, positions, widths, patch_artist, bootstrap, usermedians, conf_intervals, meanline, showmeans, showcaps, showbox, showfliers, boxprops, labels, flierprops, medianprops, meanprops, capprops, whiskerprops, manage_xticks, autorange, zorder)\u001b[0m\n\u001b[0;32m   3272\u001b[0m             \u001b[0mbootstrap\u001b[0m \u001b[1;33m=\u001b[0m \u001b[0mrcParams\u001b[0m\u001b[1;33m[\u001b[0m\u001b[1;34m'boxplot.bootstrap'\u001b[0m\u001b[1;33m]\u001b[0m\u001b[1;33m\u001b[0m\u001b[0m\n\u001b[0;32m   3273\u001b[0m         bxpstats = cbook.boxplot_stats(x, whis=whis, bootstrap=bootstrap,\n\u001b[1;32m-> 3274\u001b[1;33m                                        labels=labels, autorange=autorange)\n\u001b[0m\u001b[0;32m   3275\u001b[0m         \u001b[1;32mif\u001b[0m \u001b[0mnotch\u001b[0m \u001b[1;32mis\u001b[0m \u001b[0mNone\u001b[0m\u001b[1;33m:\u001b[0m\u001b[1;33m\u001b[0m\u001b[0m\n\u001b[0;32m   3276\u001b[0m             \u001b[0mnotch\u001b[0m \u001b[1;33m=\u001b[0m \u001b[0mrcParams\u001b[0m\u001b[1;33m[\u001b[0m\u001b[1;34m'boxplot.notch'\u001b[0m\u001b[1;33m]\u001b[0m\u001b[1;33m\u001b[0m\u001b[0m\n",
      "\u001b[1;32mC:\\Users\\Simon\\Anaconda2\\lib\\site-packages\\matplotlib\\cbook.pyc\u001b[0m in \u001b[0;36mboxplot_stats\u001b[1;34m(X, whis, bootstrap, labels, autorange)\u001b[0m\n\u001b[0;32m   1992\u001b[0m \u001b[1;33m\u001b[0m\u001b[0m\n\u001b[0;32m   1993\u001b[0m     \u001b[1;31m# convert X to a list of lists\u001b[0m\u001b[1;33m\u001b[0m\u001b[1;33m\u001b[0m\u001b[0m\n\u001b[1;32m-> 1994\u001b[1;33m     \u001b[0mX\u001b[0m \u001b[1;33m=\u001b[0m \u001b[0m_reshape_2D\u001b[0m\u001b[1;33m(\u001b[0m\u001b[0mX\u001b[0m\u001b[1;33m)\u001b[0m\u001b[1;33m\u001b[0m\u001b[0m\n\u001b[0m\u001b[0;32m   1995\u001b[0m \u001b[1;33m\u001b[0m\u001b[0m\n\u001b[0;32m   1996\u001b[0m     \u001b[0mncols\u001b[0m \u001b[1;33m=\u001b[0m \u001b[0mlen\u001b[0m\u001b[1;33m(\u001b[0m\u001b[0mX\u001b[0m\u001b[1;33m)\u001b[0m\u001b[1;33m\u001b[0m\u001b[0m\n",
      "\u001b[1;32mC:\\Users\\Simon\\Anaconda2\\lib\\site-packages\\matplotlib\\cbook.pyc\u001b[0m in \u001b[0;36m_reshape_2D\u001b[1;34m(X)\u001b[0m\n\u001b[0;32m   2257\u001b[0m             \u001b[1;32mraise\u001b[0m \u001b[0mValueError\u001b[0m\u001b[1;33m(\u001b[0m\u001b[1;34m\"input `X` must have 2 or fewer dimensions\"\u001b[0m\u001b[1;33m)\u001b[0m\u001b[1;33m\u001b[0m\u001b[0m\n\u001b[0;32m   2258\u001b[0m \u001b[1;33m\u001b[0m\u001b[0m\n\u001b[1;32m-> 2259\u001b[1;33m     \u001b[1;32mif\u001b[0m \u001b[1;32mnot\u001b[0m \u001b[0mhasattr\u001b[0m\u001b[1;33m(\u001b[0m\u001b[0mX\u001b[0m\u001b[1;33m[\u001b[0m\u001b[1;36m0\u001b[0m\u001b[1;33m]\u001b[0m\u001b[1;33m,\u001b[0m \u001b[1;34m'__len__'\u001b[0m\u001b[1;33m)\u001b[0m\u001b[1;33m:\u001b[0m\u001b[1;33m\u001b[0m\u001b[0m\n\u001b[0m\u001b[0;32m   2260\u001b[0m         \u001b[0mX\u001b[0m \u001b[1;33m=\u001b[0m \u001b[1;33m[\u001b[0m\u001b[0mX\u001b[0m\u001b[1;33m]\u001b[0m\u001b[1;33m\u001b[0m\u001b[0m\n\u001b[0;32m   2261\u001b[0m     \u001b[1;32melse\u001b[0m\u001b[1;33m:\u001b[0m\u001b[1;33m\u001b[0m\u001b[0m\n",
      "\u001b[1;31mIndexError\u001b[0m: list index out of range"
     ]
    },
    {
     "data": {
      "image/png": "[encoded data removed]",
      "text/plain": [
       "<matplotlib.figure.Figure at 0xd3242630>"
      ]
     },
     "metadata": {},
     "output_type": "display_data"
    }
   ],
   "source": [
    "measure = \"pupilDilationLeftList\"\n",
    "M1A = data[\"M1A-Q01.png\"][measure] + data[\"M1A-Q02.png\"][measure] + data[\"M1A-Q03.png\"][measure] +data[\"M1A-Q04.png\"][measure] +data[\"M1A-Q05.png\"][measure] +data[\"M1A-Q06.png\"][measure]\n",
    "M1B = data[\"M1B-Q01.png\"][measure] + data[\"M1B-Q02.png\"][measure] + data[\"M1B-Q03.png\"][measure] +data[\"M1B-Q04.png\"][measure] +data[\"M1B-Q05.png\"][measure] +data[\"M1B-Q06.png\"][measure]\n",
    "M2A = data[\"M2A-Q07.png\"][measure] + data[\"M2A-Q08.png\"][measure] + data[\"M2A-Q09.png\"][measure] +data[\"M2A-Q10.png\"][measure] +data[\"M2A-Q11.png\"][measure] +data[\"M2A-Q12.png\"][measure]\n",
    "M2B = data[\"M2B-Q07.png\"][measure] + data[\"M2B-Q08.png\"][measure] + data[\"M2B-Q09.png\"][measure] +data[\"M2B-Q10.png\"][measure] +data[\"M2B-Q11.png\"][measure] +data[\"M2B-Q12.png\"][measure]\n",
    "M3A = data[\"M3A-Q13.png\"][measure] + data[\"M3A-Q14.png\"][measure] + data[\"M3A-Q15.png\"][measure] +data[\"M3A-Q16.png\"][measure] +data[\"M3A-Q17.png\"][measure] +data[\"M3A-Q18.png\"][measure]\n",
    "M3B = data[\"M3B-Q13.png\"][measure] + data[\"M3B-Q14.png\"][measure] + data[\"M3B-Q15.png\"][measure] +data[\"M3B-Q16.png\"][measure] +data[\"M3B-Q17.png\"][measure] +data[\"M3B-Q18.png\"][measure]\n",
    "M4A = data[\"M4A-Q19.png\"][measure] + data[\"M4A-Q20.png\"][measure] + data[\"M4A-Q21.png\"][measure] +data[\"M4A-Q22.png\"][measure] +data[\"M4A-Q23.png\"][measure] +data[\"M4A-Q24.png\"][measure]\n",
    "M4B = data[\"M4B-Q19.png\"][measure] + data[\"M4B-Q20.png\"][measure] + data[\"M4B-Q21.png\"][measure] +data[\"M4B-Q22.png\"][measure] +data[\"M4B-Q23.png\"][measure] +data[\"M4B-Q24.png\"][measure]\n",
    "\n",
    "\n",
    "db = \"pupilDilationLeftListBoxplot\"    \n",
    "m1 = boxplot(\"Model 1 pupil dilation (left eye)\", \"Dilation (std)\", M1A, M1B)\n",
    "m1.savefig(\"M1\"+db)\n",
    "m2 = boxplot(\"Model 2 pupil dilation (left eye)\", \"Dilation (std)\", M2A, M2B)\n",
    "m2.savefig(\"M2\"+db)\n",
    "m3 = boxplot(\"Model 3 pupil dilation (left eye)\", \"Dilation (std)\", M3A, M3B)\n",
    "m3.savefig(\"M3\"+db)\n",
    "m4 = boxplot(\"Model 4 pupil dilation (left eye)\", \"Dilation (std)\", M4A, M4B)\n",
    "m4.savefig(\"M4\"+db)"
   ]
  },
  {
   "cell_type": "code",
   "execution_count": null,
   "metadata": {
    "collapsed": true
   },
   "outputs": [],
   "source": [
    "measure = \"pupilDilationRightList\"\n",
    "M1A = data[\"M1A-Q01.png\"][measure] + data[\"M1A-Q02.png\"][measure] + data[\"M1A-Q03.png\"][measure] +data[\"M1A-Q04.png\"][measure] +data[\"M1A-Q05.png\"][measure] +data[\"M1A-Q06.png\"][measure]\n",
    "M1B = data[\"M1B-Q01.png\"][measure] + data[\"M1B-Q02.png\"][measure] + data[\"M1B-Q03.png\"][measure] +data[\"M1B-Q04.png\"][measure] +data[\"M1B-Q05.png\"][measure] +data[\"M1B-Q06.png\"][measure]\n",
    "M2A = data[\"M2A-Q07.png\"][measure] + data[\"M2A-Q08.png\"][measure] + data[\"M2A-Q09.png\"][measure] +data[\"M2A-Q10.png\"][measure] +data[\"M2A-Q11.png\"][measure] +data[\"M2A-Q12.png\"][measure]\n",
    "M2B = data[\"M2B-Q07.png\"][measure] + data[\"M2B-Q08.png\"][measure] + data[\"M2B-Q09.png\"][measure] +data[\"M2B-Q10.png\"][measure] +data[\"M2B-Q11.png\"][measure] +data[\"M2B-Q12.png\"][measure]\n",
    "M3A = data[\"M3A-Q13.png\"][measure] + data[\"M3A-Q14.png\"][measure] + data[\"M3A-Q15.png\"][measure] +data[\"M3A-Q16.png\"][measure] +data[\"M3A-Q17.png\"][measure] +data[\"M3A-Q18.png\"][measure]\n",
    "M3B = data[\"M3B-Q13.png\"][measure] + data[\"M3B-Q14.png\"][measure] + data[\"M3B-Q15.png\"][measure] +data[\"M3B-Q16.png\"][measure] +data[\"M3B-Q17.png\"][measure] +data[\"M3B-Q18.png\"][measure]\n",
    "M4A = data[\"M4A-Q19.png\"][measure] + data[\"M4A-Q20.png\"][measure] + data[\"M4A-Q21.png\"][measure] +data[\"M4A-Q22.png\"][measure] +data[\"M4A-Q23.png\"][measure] +data[\"M4A-Q24.png\"][measure]\n",
    "M4B = data[\"M4B-Q19.png\"][measure] + data[\"M4B-Q20.png\"][measure] + data[\"M4B-Q21.png\"][measure] +data[\"M4B-Q22.png\"][measure] +data[\"M4B-Q23.png\"][measure] +data[\"M4B-Q24.png\"][measure]\n",
    "\n",
    "\n",
    "db = \"pupilDilationRightListBoxplot\"    \n",
    "m1 = boxplot(\"Model 1 pupil dilation (right eye)\", \"Dilation (std)\", M1A, M1B)\n",
    "m1.savefig(\"M1\"+db)\n",
    "m2 = boxplot(\"Model 2 pupil dilation (right eye)\", \"Dilation (std)\", M2A, M2B)\n",
    "m2.savefig(\"M2\"+db)\n",
    "m3 = boxplot(\"Model 3 pupil dilation (right eye)\", \"Dilation (std)\", M3A, M3B)\n",
    "m3.savefig(\"M3\"+db)\n",
    "m4 = boxplot(\"Model 4 pupil dilation (right eye)\", \"Dilation (std)\", M4A, M4B)\n",
    "m4.savefig(\"M4\"+db)"
   ]
  },
  {
   "cell_type": "code",
   "execution_count": null,
   "metadata": {
    "collapsed": true
   },
   "outputs": [],
   "source": [
    "measure = \"pupilDilationMean\"\n",
    "M1A = data[\"M1A-Q01.png\"][measure] + data[\"M1A-Q02.png\"][measure] + data[\"M1A-Q03.png\"][measure] +data[\"M1A-Q04.png\"][measure] +data[\"M1A-Q05.png\"][measure] +data[\"M1A-Q06.png\"][measure]\n",
    "M1B = data[\"M1B-Q01.png\"][measure] + data[\"M1B-Q02.png\"][measure] + data[\"M1B-Q03.png\"][measure] +data[\"M1B-Q04.png\"][measure] +data[\"M1B-Q05.png\"][measure] +data[\"M1B-Q06.png\"][measure]\n",
    "M2A = data[\"M2A-Q07.png\"][measure] + data[\"M2A-Q08.png\"][measure] + data[\"M2A-Q09.png\"][measure] +data[\"M2A-Q10.png\"][measure] +data[\"M2A-Q11.png\"][measure] +data[\"M2A-Q12.png\"][measure]\n",
    "M2B = data[\"M2B-Q07.png\"][measure] + data[\"M2B-Q08.png\"][measure] + data[\"M2B-Q09.png\"][measure] +data[\"M2B-Q10.png\"][measure] +data[\"M2B-Q11.png\"][measure] +data[\"M2B-Q12.png\"][measure]\n",
    "M3A = data[\"M3A-Q13.png\"][measure] + data[\"M3A-Q14.png\"][measure] + data[\"M3A-Q15.png\"][measure] +data[\"M3A-Q16.png\"][measure] +data[\"M3A-Q17.png\"][measure] +data[\"M3A-Q18.png\"][measure]\n",
    "M3B = data[\"M3B-Q13.png\"][measure] + data[\"M3B-Q14.png\"][measure] + data[\"M3B-Q15.png\"][measure] +data[\"M3B-Q16.png\"][measure] +data[\"M3B-Q17.png\"][measure] +data[\"M3B-Q18.png\"][measure]\n",
    "M4A = data[\"M4A-Q19.png\"][measure] + data[\"M4A-Q20.png\"][measure] + data[\"M4A-Q21.png\"][measure] +data[\"M4A-Q22.png\"][measure] +data[\"M4A-Q23.png\"][measure] +data[\"M4A-Q24.png\"][measure]\n",
    "M4B = data[\"M4B-Q19.png\"][measure] + data[\"M4B-Q20.png\"][measure] + data[\"M4B-Q21.png\"][measure] +data[\"M4B-Q22.png\"][measure] +data[\"M4B-Q23.png\"][measure] +data[\"M4B-Q24.png\"][measure]\n",
    "\n",
    "\n",
    "db = \"pupilDilationMeanBoxplot\"    \n",
    "m1 = boxplot(\"Model 1 pupil dilation\", \"Dilation (std)\", M1A, M1B)\n",
    "m1.savefig(\"M1\"+db)\n",
    "m2 = boxplot(\"Model 2 pupil dilation\", \"Dilation (std)\", M2A, M2B)\n",
    "m2.savefig(\"M2\"+db)\n",
    "m3 = boxplot(\"Model 3 pupil dilation\", \"Dilation (std)\", M3A, M3B)\n",
    "m3.savefig(\"M3\"+db)\n",
    "m4 = boxplot(\"Model 4 pupil dilation\", \"Dilation (std)\", M4A, M4B)\n",
    "m4.savefig(\"M4\"+db)"
   ]
  },
  {
   "cell_type": "code",
   "execution_count": null,
   "metadata": {
    "collapsed": true
   },
   "outputs": [],
   "source": [
    "measure = \"pupilDilationDiff\"\n",
    "M1A = data[\"M1A-Q01.png\"][measure] + data[\"M1A-Q02.png\"][measure] + data[\"M1A-Q03.png\"][measure] +data[\"M1A-Q04.png\"][measure] +data[\"M1A-Q05.png\"][measure] +data[\"M1A-Q06.png\"][measure]\n",
    "M1B = data[\"M1B-Q01.png\"][measure] + data[\"M1B-Q02.png\"][measure] + data[\"M1B-Q03.png\"][measure] +data[\"M1B-Q04.png\"][measure] +data[\"M1B-Q05.png\"][measure] +data[\"M1B-Q06.png\"][measure]\n",
    "M2A = data[\"M2A-Q07.png\"][measure] + data[\"M2A-Q08.png\"][measure] + data[\"M2A-Q09.png\"][measure] +data[\"M2A-Q10.png\"][measure] +data[\"M2A-Q11.png\"][measure] +data[\"M2A-Q12.png\"][measure]\n",
    "M2B = data[\"M2B-Q07.png\"][measure] + data[\"M2B-Q08.png\"][measure] + data[\"M2B-Q09.png\"][measure] +data[\"M2B-Q10.png\"][measure] +data[\"M2B-Q11.png\"][measure] +data[\"M2B-Q12.png\"][measure]\n",
    "M3A = data[\"M3A-Q13.png\"][measure] + data[\"M3A-Q14.png\"][measure] + data[\"M3A-Q15.png\"][measure] +data[\"M3A-Q16.png\"][measure] +data[\"M3A-Q17.png\"][measure] +data[\"M3A-Q18.png\"][measure]\n",
    "M3B = data[\"M3B-Q13.png\"][measure] + data[\"M3B-Q14.png\"][measure] + data[\"M3B-Q15.png\"][measure] +data[\"M3B-Q16.png\"][measure] +data[\"M3B-Q17.png\"][measure] +data[\"M3B-Q18.png\"][measure]\n",
    "M4A = data[\"M4A-Q19.png\"][measure] + data[\"M4A-Q20.png\"][measure] + data[\"M4A-Q21.png\"][measure] +data[\"M4A-Q22.png\"][measure] +data[\"M4A-Q23.png\"][measure] +data[\"M4A-Q24.png\"][measure]\n",
    "M4B = data[\"M4B-Q19.png\"][measure] + data[\"M4B-Q20.png\"][measure] + data[\"M4B-Q21.png\"][measure] +data[\"M4B-Q22.png\"][measure] +data[\"M4B-Q23.png\"][measure] +data[\"M4B-Q24.png\"][measure]\n",
    "\n",
    "\n",
    "db = \"pupilDilationDiffBoxplot\"    \n",
    "m1 = boxplot(\"Model 1 pupil dilation\", \"Dilation difference\", M1A, M1B)\n",
    "m1.savefig(\"M1\"+db)\n",
    "m2 = boxplot(\"Model 2 pupil dilation\", \"Dilation difference\", M2A, M2B)\n",
    "m2.savefig(\"M2\"+db)\n",
    "m3 = boxplot(\"Model 3 pupil dilation\", \"Dilation difference\", M3A, M3B)\n",
    "m3.savefig(\"M3\"+db)\n",
    "m4 = boxplot(\"Model 4 pupil dilation\", \"Dilation difference\", M4A, M4B)\n",
    "m4.savefig(\"M4\"+db)"
   ]
  },
  {
   "cell_type": "code",
   "execution_count": 146,
   "metadata": {},
   "outputs": [
    {
     "data": {
      "image/png": "[encoded data removed]",
      "text/plain": [
       "<matplotlib.figure.Figure at 0x174912080>"
      ]
     },
     "metadata": {},
     "output_type": "display_data"
    },
    {
     "data": {
      "image/png": "[encoded data removed]",
      "text/plain": [
       "<matplotlib.figure.Figure at 0x86adf748>"
      ]
     },
     "metadata": {},
     "output_type": "display_data"
    },
    {
     "data": {
      "image/png": "[encoded data removed]",
      "text/plain": [
       "<matplotlib.figure.Figure at 0x613e5588>"
      ]
     },
     "metadata": {},
     "output_type": "display_data"
    },
    {
     "data": {
      "image/png": "[encoded data removed]",
      "text/plain": [
       "<matplotlib.figure.Figure at 0x1876fe208>"
      ]
     },
     "metadata": {},
     "output_type": "display_data"
    }
   ],
   "source": [
    "measure = \"fixationPrecision\"\n",
    "M1A = data[\"M1A-Q01.png\"][measure] + data[\"M1A-Q02.png\"][measure] + data[\"M1A-Q03.png\"][measure] +data[\"M1A-Q04.png\"][measure] +data[\"M1A-Q05.png\"][measure] +data[\"M1A-Q06.png\"][measure]\n",
    "M1B = data[\"M1B-Q01.png\"][measure] + data[\"M1B-Q02.png\"][measure] + data[\"M1B-Q03.png\"][measure] +data[\"M1B-Q04.png\"][measure] +data[\"M1B-Q05.png\"][measure] +data[\"M1B-Q06.png\"][measure]\n",
    "M2A = data[\"M2A-Q07.png\"][measure] + data[\"M2A-Q08.png\"][measure] + data[\"M2A-Q09.png\"][measure] +data[\"M2A-Q10.png\"][measure] +data[\"M2A-Q11.png\"][measure] +data[\"M2A-Q12.png\"][measure]\n",
    "M2B = data[\"M2B-Q07.png\"][measure] + data[\"M2B-Q08.png\"][measure] + data[\"M2B-Q09.png\"][measure] +data[\"M2B-Q10.png\"][measure] +data[\"M2B-Q11.png\"][measure] +data[\"M2B-Q12.png\"][measure]\n",
    "M3A = data[\"M3A-Q13.png\"][measure] + data[\"M3A-Q14.png\"][measure] + data[\"M3A-Q15.png\"][measure] +data[\"M3A-Q16.png\"][measure] +data[\"M3A-Q17.png\"][measure] +data[\"M3A-Q18.png\"][measure]\n",
    "M3B = data[\"M3B-Q13.png\"][measure] + data[\"M3B-Q14.png\"][measure] + data[\"M3B-Q15.png\"][measure] +data[\"M3B-Q16.png\"][measure] +data[\"M3B-Q17.png\"][measure] +data[\"M3B-Q18.png\"][measure]\n",
    "M4A = data[\"M4A-Q19.png\"][measure] + data[\"M4A-Q20.png\"][measure] + data[\"M4A-Q21.png\"][measure] +data[\"M4A-Q22.png\"][measure] +data[\"M4A-Q23.png\"][measure] +data[\"M4A-Q24.png\"][measure]\n",
    "M4B = data[\"M4B-Q19.png\"][measure] + data[\"M4B-Q20.png\"][measure] + data[\"M4B-Q21.png\"][measure] +data[\"M4B-Q22.png\"][measure] +data[\"M4B-Q23.png\"][measure] +data[\"M4B-Q24.png\"][measure]\n",
    "\n",
    "\n",
    "db = \"fixationPrecisionBoxplot\"    \n",
    "m1 = boxplot(\"Model 1 Fixation Precision\", \"Fixation Precision (%)\", M1A, M1B)\n",
    "m1.savefig(\"M1\"+db)\n",
    "m2 = boxplot(\"Model 2 Fixation Precision\", \"Fixation Precision (%)\", M2A, M2B)\n",
    "m2.savefig(\"M2\"+db)\n",
    "m3 = boxplot(\"Model 3 Fixation Precision\", \"Fixation Precision (%)\", M3A, M3B)\n",
    "m3.savefig(\"M3\"+db)\n",
    "m4 = boxplot(\"Model 4 Fixation Precision\", \"Fixation Precision (%)\", M4A, M4B)\n",
    "m4.savefig(\"M4\"+db)"
   ]
  },
  {
   "cell_type": "code",
   "execution_count": 87,
   "metadata": {},
   "outputs": [
    {
     "ename": "ImportError",
     "evalue": "No module named sem",
     "output_type": "error",
     "traceback": [
      "\u001b[1;31m\u001b[0m",
      "\u001b[1;31mImportError\u001b[0mTraceback (most recent call last)",
      "\u001b[1;32m<ipython-input-87-3922fbd8114e>\u001b[0m in \u001b[0;36m<module>\u001b[1;34m()\u001b[0m\n\u001b[1;32m----> 1\u001b[1;33m \u001b[1;32mimport\u001b[0m \u001b[0mscipy\u001b[0m\u001b[1;33m.\u001b[0m\u001b[0mstats\u001b[0m\u001b[1;33m.\u001b[0m\u001b[0msem\u001b[0m \u001b[1;32mas\u001b[0m \u001b[0msem\u001b[0m\u001b[1;33m\u001b[0m\u001b[0m\n\u001b[0m",
      "\u001b[1;31mImportError\u001b[0m: No module named sem"
     ]
    }
   ],
   "source": []
  },
  {
   "cell_type": "code",
   "execution_count": 96,
   "metadata": {},
   "outputs": [
    {
     "name": "stdout",
     "output_type": "stream",
     "text": [
      "78\n",
      "fixationsPerSecond\t|Mean\t\t|Std. Error of Mean\t|Standard diviation\n",
      "Messy direction \t|2.62049292461\t|0.0573824276468\t|0.503528759063\t1.53830163185\t3.95341382626\n",
      "Non messy direction \t|2.65266949126\t|0.0596731046152\t|0.523629367883\t1.20787534726\t3.87622363839\n",
      "Messy visibility \t|2.57636878863\t|0.0421377606338\t|0.369757348926\t1.48901211748\t3.59020852221\n",
      "Non messy visibility \t|2.6238503562\t|0.0631287160113\t|0.553952234821\t1.4835461248\t3.95577644792\n"
     ]
    }
   ],
   "source": [
    "measure = \"fixationsPerSecond\"\n",
    "M1A = data[\"M1A-Q01.png\"][measure] + data[\"M1A-Q02.png\"][measure] + data[\"M1A-Q03.png\"][measure] +data[\"M1A-Q04.png\"][measure] +data[\"M1A-Q05.png\"][measure] +data[\"M1A-Q06.png\"][measure]\n",
    "M1B = data[\"M1B-Q01.png\"][measure] + data[\"M1B-Q02.png\"][measure] + data[\"M1B-Q03.png\"][measure] +data[\"M1B-Q04.png\"][measure] +data[\"M1B-Q05.png\"][measure] +data[\"M1B-Q06.png\"][measure]\n",
    "M2A = data[\"M2A-Q07.png\"][measure] + data[\"M2A-Q08.png\"][measure] + data[\"M2A-Q09.png\"][measure] +data[\"M2A-Q10.png\"][measure] +data[\"M2A-Q11.png\"][measure] +data[\"M2A-Q12.png\"][measure]\n",
    "M2B = data[\"M2B-Q07.png\"][measure] + data[\"M2B-Q08.png\"][measure] + data[\"M2B-Q09.png\"][measure] +data[\"M2B-Q10.png\"][measure] +data[\"M2B-Q11.png\"][measure] +data[\"M2B-Q12.png\"][measure]\n",
    "M3A = data[\"M3A-Q13.png\"][measure] + data[\"M3A-Q14.png\"][measure] + data[\"M3A-Q15.png\"][measure] +data[\"M3A-Q16.png\"][measure] +data[\"M3A-Q17.png\"][measure] +data[\"M3A-Q18.png\"][measure]\n",
    "M3B = data[\"M3B-Q13.png\"][measure] + data[\"M3B-Q14.png\"][measure] + data[\"M3B-Q15.png\"][measure] +data[\"M3B-Q16.png\"][measure] +data[\"M3B-Q17.png\"][measure] +data[\"M3B-Q18.png\"][measure]\n",
    "M4A = data[\"M4A-Q19.png\"][measure] + data[\"M4A-Q20.png\"][measure] + data[\"M4A-Q21.png\"][measure] +data[\"M4A-Q22.png\"][measure] +data[\"M4A-Q23.png\"][measure] +data[\"M4A-Q24.png\"][measure]\n",
    "M4B = data[\"M4B-Q19.png\"][measure] + data[\"M4B-Q20.png\"][measure] + data[\"M4B-Q21.png\"][measure] +data[\"M4B-Q22.png\"][measure] +data[\"M4B-Q23.png\"][measure] +data[\"M4B-Q24.png\"][measure]\n",
    "\n",
    "messyDirection = M1B + M3A\n",
    "nonMessyDirection = M1A + M3B\n",
    "messyVisibility = M2A + M4B\n",
    "nonMessyVisibility = M2B + M4A\n",
    "\n",
    "print len(messyDirection)\n",
    "print measure + \"\\t|Mean\\t\\t|Std. Error of Mean\\t|Standard diviation\"\n",
    "print \"Messy direction \\t|\" + str(np.mean(messyDirection)) + \"\\t|\" + str(stats.sem(messyDirection)) + \"\\t|\" + str(np.std(messyDirection)) + \"\\t\" + str(min(messyDirection)) + \"\\t\" + str(max(messyDirection))\n",
    "print \"Non messy direction \\t|\" + str(np.mean(nonMessyDirection)) + \"\\t|\" + str(stats.sem(nonMessyDirection)) + \"\\t|\" + str(np.std(nonMessyDirection)) + \"\\t\" + str(min(nonMessyDirection)) + \"\\t\" + str(max(nonMessyDirection))\n",
    "print \"Messy visibility \\t|\" + str(np.mean(messyVisibility)) + \"\\t|\" + str(stats.sem(messyVisibility)) + \"\\t|\" + str(np.std(messyVisibility)) + \"\\t\" + str(min(messyVisibility)) + \"\\t\" + str(max(messyVisibility))\n",
    "print \"Non messy visibility \\t|\" + str(np.mean(nonMessyVisibility)) + \"\\t|\" + str(stats.sem(nonMessyVisibility)) + \"\\t|\" + str(np.std(nonMessyVisibility)) + \"\\t\" + str(min(nonMessyVisibility)) + \"\\t\" + str(max(nonMessyVisibility))"
   ]
  },
  {
   "cell_type": "code",
   "execution_count": 99,
   "metadata": {},
   "outputs": [
    {
     "name": "stdout",
     "output_type": "stream",
     "text": [
      "78\n",
      "fixationDuration\t|Mean\t\t|Std. Error of Mean\t|Standard diviation\n",
      "Messy direction \t|7.86993393585\t|0.788391548776\t|6.91810776383\t0.604255952381\t29.6464444444\n",
      "Non messy direction \t|8.07447071842\t|0.953803510887\t|8.3695918406\t0.765142857143\t52.8528888889\n",
      "Messy visibility \t|10.9606386668\t|0.950717457357\t|8.34251183078\t2.1864125\t43.7795714286\n",
      "Non messy visibility \t|14.4619270226\t|0.851944827856\t|7.47578552446\t4.18637662338\t37.6933529412\n"
     ]
    }
   ],
   "source": [
    "measure = \"fixationDuration\"\n",
    "M1A = data[\"M1A-Q01.png\"][measure] + data[\"M1A-Q02.png\"][measure] + data[\"M1A-Q03.png\"][measure] +data[\"M1A-Q04.png\"][measure] +data[\"M1A-Q05.png\"][measure] +data[\"M1A-Q06.png\"][measure]\n",
    "M1B = data[\"M1B-Q01.png\"][measure] + data[\"M1B-Q02.png\"][measure] + data[\"M1B-Q03.png\"][measure] +data[\"M1B-Q04.png\"][measure] +data[\"M1B-Q05.png\"][measure] +data[\"M1B-Q06.png\"][measure]\n",
    "M2A = data[\"M2A-Q07.png\"][measure] + data[\"M2A-Q08.png\"][measure] + data[\"M2A-Q09.png\"][measure] +data[\"M2A-Q10.png\"][measure] +data[\"M2A-Q11.png\"][measure] +data[\"M2A-Q12.png\"][measure]\n",
    "M2B = data[\"M2B-Q07.png\"][measure] + data[\"M2B-Q08.png\"][measure] + data[\"M2B-Q09.png\"][measure] +data[\"M2B-Q10.png\"][measure] +data[\"M2B-Q11.png\"][measure] +data[\"M2B-Q12.png\"][measure]\n",
    "M3A = data[\"M3A-Q13.png\"][measure] + data[\"M3A-Q14.png\"][measure] + data[\"M3A-Q15.png\"][measure] +data[\"M3A-Q16.png\"][measure] +data[\"M3A-Q17.png\"][measure] +data[\"M3A-Q18.png\"][measure]\n",
    "M3B = data[\"M3B-Q13.png\"][measure] + data[\"M3B-Q14.png\"][measure] + data[\"M3B-Q15.png\"][measure] +data[\"M3B-Q16.png\"][measure] +data[\"M3B-Q17.png\"][measure] +data[\"M3B-Q18.png\"][measure]\n",
    "M4A = data[\"M4A-Q19.png\"][measure] + data[\"M4A-Q20.png\"][measure] + data[\"M4A-Q21.png\"][measure] +data[\"M4A-Q22.png\"][measure] +data[\"M4A-Q23.png\"][measure] +data[\"M4A-Q24.png\"][measure]\n",
    "M4B = data[\"M4B-Q19.png\"][measure] + data[\"M4B-Q20.png\"][measure] + data[\"M4B-Q21.png\"][measure] +data[\"M4B-Q22.png\"][measure] +data[\"M4B-Q23.png\"][measure] +data[\"M4B-Q24.png\"][measure]\n",
    "\n",
    "messyDirection = M1B + M3A\n",
    "nonMessyDirection = M1A + M3B\n",
    "messyVisibility = M2A + M4B\n",
    "nonMessyVisibility = M2B + M4A\n",
    "\n",
    "print len(messyDirection)\n",
    "print measure + \"\\t|Mean\\t\\t|Std. Error of Mean\\t|Standard diviation\"\n",
    "print \"Messy direction \\t|\" + str(np.mean(messyDirection)) + \"\\t|\" + str(stats.sem(messyDirection)) + \"\\t|\" + str(np.std(messyDirection)) + \"\\t\" + str(min(messyDirection)) + \"\\t\" + str(max(messyDirection))\n",
    "print \"Non messy direction \\t|\" + str(np.mean(nonMessyDirection)) + \"\\t|\" + str(stats.sem(nonMessyDirection)) + \"\\t|\" + str(np.std(nonMessyDirection)) + \"\\t\" + str(min(nonMessyDirection)) + \"\\t\" + str(max(nonMessyDirection))\n",
    "print \"Messy visibility \\t|\" + str(np.mean(messyVisibility)) + \"\\t|\" + str(stats.sem(messyVisibility)) + \"\\t|\" + str(np.std(messyVisibility)) + \"\\t\" + str(min(messyVisibility)) + \"\\t\" + str(max(messyVisibility))\n",
    "print \"Non messy visibility \\t|\" + str(np.mean(nonMessyVisibility)) + \"\\t|\" + str(stats.sem(nonMessyVisibility)) + \"\\t|\" + str(np.std(nonMessyVisibility)) + \"\\t\" + str(min(nonMessyVisibility)) + \"\\t\" + str(max(nonMessyVisibility))"
   ]
  },
  {
   "cell_type": "code",
   "execution_count": 107,
   "metadata": {},
   "outputs": [
    {
     "name": "stdout",
     "output_type": "stream",
     "text": [
      "78\n",
      "saccadeVelocityList\t|Mean\t\t|Std. Error of Mean\t|Standard diviation\n",
      "Messy direction \t|4.46702078358\t|0.136420055863\t|1.19708113193\t1.84045454545\t7.97909090909\n",
      "Non messy direction \t|4.73977891648\t|0.150941402675\t|1.32450543306\t1.70230769231\t9.0555952381\n",
      "Messy visibility \t|3.35566538074\t|0.0986177438618\t|0.865367190352\t1.69205128205\t5.44625\n",
      "Non messy visibility \t|3.72666898117\t|0.121954260556\t|1.07014429327\t1.58277777778\t7.24717948718\n"
     ]
    }
   ],
   "source": [
    "measure = \"saccadeVelocityList\"\n",
    "M1A = data[\"M1A-Q01.png\"][measure] + data[\"M1A-Q02.png\"][measure] + data[\"M1A-Q03.png\"][measure] +data[\"M1A-Q04.png\"][measure] +data[\"M1A-Q05.png\"][measure] +data[\"M1A-Q06.png\"][measure]\n",
    "M1B = data[\"M1B-Q01.png\"][measure] + data[\"M1B-Q02.png\"][measure] + data[\"M1B-Q03.png\"][measure] +data[\"M1B-Q04.png\"][measure] +data[\"M1B-Q05.png\"][measure] +data[\"M1B-Q06.png\"][measure]\n",
    "M2A = data[\"M2A-Q07.png\"][measure] + data[\"M2A-Q08.png\"][measure] + data[\"M2A-Q09.png\"][measure] +data[\"M2A-Q10.png\"][measure] +data[\"M2A-Q11.png\"][measure] +data[\"M2A-Q12.png\"][measure]\n",
    "M2B = data[\"M2B-Q07.png\"][measure] + data[\"M2B-Q08.png\"][measure] + data[\"M2B-Q09.png\"][measure] +data[\"M2B-Q10.png\"][measure] +data[\"M2B-Q11.png\"][measure] +data[\"M2B-Q12.png\"][measure]\n",
    "M3A = data[\"M3A-Q13.png\"][measure] + data[\"M3A-Q14.png\"][measure] + data[\"M3A-Q15.png\"][measure] +data[\"M3A-Q16.png\"][measure] +data[\"M3A-Q17.png\"][measure] +data[\"M3A-Q18.png\"][measure]\n",
    "M3B = data[\"M3B-Q13.png\"][measure] + data[\"M3B-Q14.png\"][measure] + data[\"M3B-Q15.png\"][measure] +data[\"M3B-Q16.png\"][measure] +data[\"M3B-Q17.png\"][measure] +data[\"M3B-Q18.png\"][measure]\n",
    "M4A = data[\"M4A-Q19.png\"][measure] + data[\"M4A-Q20.png\"][measure] + data[\"M4A-Q21.png\"][measure] +data[\"M4A-Q22.png\"][measure] +data[\"M4A-Q23.png\"][measure] +data[\"M4A-Q24.png\"][measure]\n",
    "M4B = data[\"M4B-Q19.png\"][measure] + data[\"M4B-Q20.png\"][measure] + data[\"M4B-Q21.png\"][measure] +data[\"M4B-Q22.png\"][measure] +data[\"M4B-Q23.png\"][measure] +data[\"M4B-Q24.png\"][measure]\n",
    "\n",
    "messyDirection = M1B + M3A\n",
    "nonMessyDirection = M1A + M3B\n",
    "messyVisibility = M2A + M4B\n",
    "nonMessyVisibility = M2B + M4A\n",
    "print len(messyDirection)\n",
    "print measure + \"\\t|Mean\\t\\t|Std. Error of Mean\\t|Standard diviation\"\n",
    "print \"Messy direction \\t|\" + str(np.mean(messyDirection)) + \"\\t|\" + str(stats.sem(messyDirection)) + \"\\t|\" + str(np.std(messyDirection)) + \"\\t\" + str(min(messyDirection)) + \"\\t\" + str(max(messyDirection))\n",
    "print \"Non messy direction \\t|\" + str(np.mean(nonMessyDirection)) + \"\\t|\" + str(stats.sem(nonMessyDirection)) + \"\\t|\" + str(np.std(nonMessyDirection)) + \"\\t\" + str(min(nonMessyDirection)) + \"\\t\" + str(max(nonMessyDirection))\n",
    "print \"Messy visibility \\t|\" + str(np.mean(messyVisibility)) + \"\\t|\" + str(stats.sem(messyVisibility)) + \"\\t|\" + str(np.std(messyVisibility)) + \"\\t\" + str(min(messyVisibility)) + \"\\t\" + str(max(messyVisibility))\n",
    "print \"Non messy visibility \\t|\" + str(np.mean(nonMessyVisibility)) + \"\\t|\" + str(stats.sem(nonMessyVisibility)) + \"\\t|\" + str(np.std(nonMessyVisibility)) + \"\\t\" + str(min(nonMessyVisibility)) + \"\\t\" + str(max(nonMessyVisibility))"
   ]
  },
  {
   "cell_type": "code",
   "execution_count": 91,
   "metadata": {},
   "outputs": [
    {
     "name": "stdout",
     "output_type": "stream",
     "text": [
      "78\n",
      "amountOfFixations\t|Mean\t\t|Std. Error of Mean\t|Standard diviation\n",
      "Messy direction \t|72.7435897436\t|4.21861137704\t|37.0181645978\t18\t183\n",
      "Non messy direction \t|62.2435897436\t|3.7662373914\t|33.048598984\t12\t191\n",
      "Messy visibility \t|66.7051282051\t|4.02345392376\t|35.3056648953\t16\t242\n",
      "Non messy visibility \t|54.5256410256\t|4.10269131713\t|36.0009702002\t11\t215\n"
     ]
    }
   ],
   "source": [
    "measure = \"amountOfFixations\"\n",
    "M1A = data[\"M1A-Q01.png\"][measure] + data[\"M1A-Q02.png\"][measure] + data[\"M1A-Q03.png\"][measure] +data[\"M1A-Q04.png\"][measure] +data[\"M1A-Q05.png\"][measure] +data[\"M1A-Q06.png\"][measure]\n",
    "M1B = data[\"M1B-Q01.png\"][measure] + data[\"M1B-Q02.png\"][measure] + data[\"M1B-Q03.png\"][measure] +data[\"M1B-Q04.png\"][measure] +data[\"M1B-Q05.png\"][measure] +data[\"M1B-Q06.png\"][measure]\n",
    "M2A = data[\"M2A-Q07.png\"][measure] + data[\"M2A-Q08.png\"][measure] + data[\"M2A-Q09.png\"][measure] +data[\"M2A-Q10.png\"][measure] +data[\"M2A-Q11.png\"][measure] +data[\"M2A-Q12.png\"][measure]\n",
    "M2B = data[\"M2B-Q07.png\"][measure] + data[\"M2B-Q08.png\"][measure] + data[\"M2B-Q09.png\"][measure] +data[\"M2B-Q10.png\"][measure] +data[\"M2B-Q11.png\"][measure] +data[\"M2B-Q12.png\"][measure]\n",
    "M3A = data[\"M3A-Q13.png\"][measure] + data[\"M3A-Q14.png\"][measure] + data[\"M3A-Q15.png\"][measure] +data[\"M3A-Q16.png\"][measure] +data[\"M3A-Q17.png\"][measure] +data[\"M3A-Q18.png\"][measure]\n",
    "M3B = data[\"M3B-Q13.png\"][measure] + data[\"M3B-Q14.png\"][measure] + data[\"M3B-Q15.png\"][measure] +data[\"M3B-Q16.png\"][measure] +data[\"M3B-Q17.png\"][measure] +data[\"M3B-Q18.png\"][measure]\n",
    "M4A = data[\"M4A-Q19.png\"][measure] + data[\"M4A-Q20.png\"][measure] + data[\"M4A-Q21.png\"][measure] +data[\"M4A-Q22.png\"][measure] +data[\"M4A-Q23.png\"][measure] +data[\"M4A-Q24.png\"][measure]\n",
    "M4B = data[\"M4B-Q19.png\"][measure] + data[\"M4B-Q20.png\"][measure] + data[\"M4B-Q21.png\"][measure] +data[\"M4B-Q22.png\"][measure] +data[\"M4B-Q23.png\"][measure] +data[\"M4B-Q24.png\"][measure]\n",
    "\n",
    "messyDirection = M1B + M3A\n",
    "nonMessyDirection = M1A + M3B\n",
    "messyVisibility = M2A + M4B\n",
    "nonMessyVisibility = M2B + M4A\n",
    "print len(messyDirection)\n",
    "print measure + \"\\t|Mean\\t\\t|Std. Error of Mean\\t|Standard diviation\"\n",
    "print \"Messy direction \\t|\" + str(np.mean(messyDirection)) + \"\\t|\" + str(stats.sem(messyDirection)) + \"\\t|\" + str(np.std(messyDirection)) + \"\\t\" + str(min(messyDirection)) + \"\\t\" + str(max(messyDirection))\n",
    "print \"Non messy direction \\t|\" + str(np.mean(nonMessyDirection)) + \"\\t|\" + str(stats.sem(nonMessyDirection)) + \"\\t|\" + str(np.std(nonMessyDirection)) + \"\\t\" + str(min(nonMessyDirection)) + \"\\t\" + str(max(nonMessyDirection))\n",
    "print \"Messy visibility \\t|\" + str(np.mean(messyVisibility)) + \"\\t|\" + str(stats.sem(messyVisibility)) + \"\\t|\" + str(np.std(messyVisibility)) + \"\\t\" + str(min(messyVisibility)) + \"\\t\" + str(max(messyVisibility))\n",
    "print \"Non messy visibility \\t|\" + str(np.mean(nonMessyVisibility)) + \"\\t|\" + str(stats.sem(nonMessyVisibility)) + \"\\t|\" + str(np.std(nonMessyVisibility)) + \"\\t\" + str(min(nonMessyVisibility)) + \"\\t\" + str(max(nonMessyVisibility))"
   ]
  },
  {
   "cell_type": "code",
   "execution_count": 48,
   "metadata": {},
   "outputs": [
    {
     "ename": "KeyError",
     "evalue": "'TUTX-Q01.png'",
     "output_type": "error",
     "traceback": [
      "\u001b[1;31m\u001b[0m",
      "\u001b[1;31mKeyError\u001b[0mTraceback (most recent call last)",
      "\u001b[1;32m<ipython-input-48-539facc447c4>\u001b[0m in \u001b[0;36m<module>\u001b[1;34m()\u001b[0m\n\u001b[0;32m      9\u001b[0m \u001b[0mM4B\u001b[0m \u001b[1;33m=\u001b[0m \u001b[0mdata\u001b[0m\u001b[1;33m[\u001b[0m\u001b[1;34m\"M4B-Q19.png\"\u001b[0m\u001b[1;33m]\u001b[0m\u001b[1;33m[\u001b[0m\u001b[0mmeasure\u001b[0m\u001b[1;33m]\u001b[0m \u001b[1;33m+\u001b[0m \u001b[0mdata\u001b[0m\u001b[1;33m[\u001b[0m\u001b[1;34m\"M4B-Q20.png\"\u001b[0m\u001b[1;33m]\u001b[0m\u001b[1;33m[\u001b[0m\u001b[0mmeasure\u001b[0m\u001b[1;33m]\u001b[0m \u001b[1;33m+\u001b[0m \u001b[0mdata\u001b[0m\u001b[1;33m[\u001b[0m\u001b[1;34m\"M4B-Q21.png\"\u001b[0m\u001b[1;33m]\u001b[0m\u001b[1;33m[\u001b[0m\u001b[0mmeasure\u001b[0m\u001b[1;33m]\u001b[0m \u001b[1;33m+\u001b[0m\u001b[0mdata\u001b[0m\u001b[1;33m[\u001b[0m\u001b[1;34m\"M4B-Q22.png\"\u001b[0m\u001b[1;33m]\u001b[0m\u001b[1;33m[\u001b[0m\u001b[0mmeasure\u001b[0m\u001b[1;33m]\u001b[0m \u001b[1;33m+\u001b[0m\u001b[0mdata\u001b[0m\u001b[1;33m[\u001b[0m\u001b[1;34m\"M4B-Q23.png\"\u001b[0m\u001b[1;33m]\u001b[0m\u001b[1;33m[\u001b[0m\u001b[0mmeasure\u001b[0m\u001b[1;33m]\u001b[0m \u001b[1;33m+\u001b[0m\u001b[0mdata\u001b[0m\u001b[1;33m[\u001b[0m\u001b[1;34m\"M4B-Q24.png\"\u001b[0m\u001b[1;33m]\u001b[0m\u001b[1;33m[\u001b[0m\u001b[0mmeasure\u001b[0m\u001b[1;33m]\u001b[0m\u001b[1;33m\u001b[0m\u001b[0m\n\u001b[0;32m     10\u001b[0m \u001b[1;33m\u001b[0m\u001b[0m\n\u001b[1;32m---> 11\u001b[1;33m \u001b[0mTUT\u001b[0m \u001b[1;33m=\u001b[0m \u001b[0mdata\u001b[0m\u001b[1;33m[\u001b[0m\u001b[1;34m\"TUTX-Q01.png\"\u001b[0m\u001b[1;33m]\u001b[0m\u001b[1;33m[\u001b[0m\u001b[0mmeasure\u001b[0m\u001b[1;33m]\u001b[0m \u001b[1;33m+\u001b[0m \u001b[0mdata\u001b[0m\u001b[1;33m[\u001b[0m\u001b[1;34m\"TUTX-Q02.png\"\u001b[0m\u001b[1;33m]\u001b[0m\u001b[1;33m[\u001b[0m\u001b[0mmeasure\u001b[0m\u001b[1;33m]\u001b[0m \u001b[1;33m+\u001b[0m \u001b[0mdata\u001b[0m\u001b[1;33m[\u001b[0m\u001b[1;34m\"TUTX-Q03.png\"\u001b[0m\u001b[1;33m]\u001b[0m\u001b[1;33m[\u001b[0m\u001b[0mmeasure\u001b[0m\u001b[1;33m]\u001b[0m\u001b[1;33m\u001b[0m\u001b[0m\n\u001b[0m\u001b[0;32m     12\u001b[0m \u001b[1;33m\u001b[0m\u001b[0m\n\u001b[0;32m     13\u001b[0m \u001b[0mmessyDirection\u001b[0m \u001b[1;33m=\u001b[0m \u001b[0mM1B\u001b[0m \u001b[1;33m+\u001b[0m \u001b[0mM3A\u001b[0m\u001b[1;33m\u001b[0m\u001b[0m\n",
      "\u001b[1;31mKeyError\u001b[0m: 'TUTX-Q01.png'"
     ]
    }
   ],
   "source": [
    "measure = \"pupilDilationMean\"\n",
    "M1A = data[\"M1A-Q01.png\"][measure] + data[\"M1A-Q02.png\"][measure] + data[\"M1A-Q03.png\"][measure] +data[\"M1A-Q04.png\"][measure] +data[\"M1A-Q05.png\"][measure] +data[\"M1A-Q06.png\"][measure]\n",
    "M1B = data[\"M1B-Q01.png\"][measure] + data[\"M1B-Q02.png\"][measure] + data[\"M1B-Q03.png\"][measure] +data[\"M1B-Q04.png\"][measure] +data[\"M1B-Q05.png\"][measure] +data[\"M1B-Q06.png\"][measure]\n",
    "M2A = data[\"M2A-Q07.png\"][measure] + data[\"M2A-Q08.png\"][measure] + data[\"M2A-Q09.png\"][measure] +data[\"M2A-Q10.png\"][measure] +data[\"M2A-Q11.png\"][measure] +data[\"M2A-Q12.png\"][measure]\n",
    "M2B = data[\"M2B-Q07.png\"][measure] + data[\"M2B-Q08.png\"][measure] + data[\"M2B-Q09.png\"][measure] +data[\"M2B-Q10.png\"][measure] +data[\"M2B-Q11.png\"][measure] +data[\"M2B-Q12.png\"][measure]\n",
    "M3A = data[\"M3A-Q13.png\"][measure] + data[\"M3A-Q14.png\"][measure] + data[\"M3A-Q15.png\"][measure] +data[\"M3A-Q16.png\"][measure] +data[\"M3A-Q17.png\"][measure] +data[\"M3A-Q18.png\"][measure]\n",
    "M3B = data[\"M3B-Q13.png\"][measure] + data[\"M3B-Q14.png\"][measure] + data[\"M3B-Q15.png\"][measure] +data[\"M3B-Q16.png\"][measure] +data[\"M3B-Q17.png\"][measure] +data[\"M3B-Q18.png\"][measure]\n",
    "M4A = data[\"M4A-Q19.png\"][measure] + data[\"M4A-Q20.png\"][measure] + data[\"M4A-Q21.png\"][measure] +data[\"M4A-Q22.png\"][measure] +data[\"M4A-Q23.png\"][measure] +data[\"M4A-Q24.png\"][measure]\n",
    "M4B = data[\"M4B-Q19.png\"][measure] + data[\"M4B-Q20.png\"][measure] + data[\"M4B-Q21.png\"][measure] +data[\"M4B-Q22.png\"][measure] +data[\"M4B-Q23.png\"][measure] +data[\"M4B-Q24.png\"][measure]\n",
    "\n",
    "TUT = data[\"TUTX-Q01.png\"][measure] + data[\"TUTX-Q02.png\"][measure] + data[\"TUTX-Q03.png\"][measure]\n",
    "\n",
    "messyDirection = M1B + M3A\n",
    "nonMessyDirection = M1A + M3B\n",
    "messyVisibility = M2A + M4B\n",
    "nonMessyVisibility = M2B + M4A\n",
    "print len(messyDirection)\n",
    "print measure + \"\\t|Mean\\t\\t|Variance\\t|Standard diviation\"\n",
    "print \"Messy direction \\t|\" + str(np.mean(messyDirection)) + \"\\t|\" + str(np.var(messyDirection)) + \"\\t|\" + str(np.std(messyDirection)) + \"\\t\" + str(min(messyDirection)) + \"\\t\" + str(max(messyDirection))\n",
    "print \"Non messy direction \\t|\" + str(np.mean(nonMessyDirection)) + \"\\t|\" + str(np.var(nonMessyDirection)) + \"\\t|\" + str(np.std(nonMessyDirection)) + \"\\t\" + str(min(nonMessyDirection)) + \"\\t\" + str(max(nonMessyDirection))\n",
    "print \"Messy visibility \\t|\" + str(np.mean(messyVisibility)) + \"\\t|\" + str(np.var(messyVisibility)) + \"\\t|\" + str(np.std(messyVisibility)) + \"\\t\" + str(min(messyVisibility)) + \"\\t\" + str(max(messyVisibility))\n",
    "print \"Non messy visibility \\t|\" + str(np.mean(nonMessyVisibility)) + \"\\t|\" + str(np.var(nonMessyVisibility)) + \"\\t|\" + str(np.std(nonMessyVisibility)) + \"\\t\" + str(min(nonMessyVisibility)) + \"\\t\" + str(max(nonMessyVisibility))\n",
    "print \"\"\n",
    "print \"TUT \\t\" + str(np.mean(TUT)) + \"\\t\" + str(np.var(TUT)) + \"\\t\" + str(np.std(TUT)) + \"\\t\" + str(min(nonMessyVisibility)) + \"\\t\" + str(max(nonMessyVisibility))\n"
   ]
  },
  {
   "cell_type": "code",
   "execution_count": 49,
   "metadata": {},
   "outputs": [
    {
     "ename": "KeyError",
     "evalue": "'pupilDilationDiff'",
     "output_type": "error",
     "traceback": [
      "\u001b[1;31m\u001b[0m",
      "\u001b[1;31mKeyError\u001b[0mTraceback (most recent call last)",
      "\u001b[1;32m<ipython-input-49-5532c4ba4f80>\u001b[0m in \u001b[0;36m<module>\u001b[1;34m()\u001b[0m\n\u001b[0;32m      1\u001b[0m \u001b[0mmeasure\u001b[0m \u001b[1;33m=\u001b[0m \u001b[1;34m\"pupilDilationDiff\"\u001b[0m\u001b[1;33m\u001b[0m\u001b[0m\n\u001b[1;32m----> 2\u001b[1;33m \u001b[0mM1A\u001b[0m \u001b[1;33m=\u001b[0m \u001b[0mdata\u001b[0m\u001b[1;33m[\u001b[0m\u001b[1;34m\"M1A-Q01.png\"\u001b[0m\u001b[1;33m]\u001b[0m\u001b[1;33m[\u001b[0m\u001b[0mmeasure\u001b[0m\u001b[1;33m]\u001b[0m \u001b[1;33m+\u001b[0m \u001b[0mdata\u001b[0m\u001b[1;33m[\u001b[0m\u001b[1;34m\"M1A-Q02.png\"\u001b[0m\u001b[1;33m]\u001b[0m\u001b[1;33m[\u001b[0m\u001b[0mmeasure\u001b[0m\u001b[1;33m]\u001b[0m \u001b[1;33m+\u001b[0m \u001b[0mdata\u001b[0m\u001b[1;33m[\u001b[0m\u001b[1;34m\"M1A-Q03.png\"\u001b[0m\u001b[1;33m]\u001b[0m\u001b[1;33m[\u001b[0m\u001b[0mmeasure\u001b[0m\u001b[1;33m]\u001b[0m \u001b[1;33m+\u001b[0m\u001b[0mdata\u001b[0m\u001b[1;33m[\u001b[0m\u001b[1;34m\"M1A-Q04.png\"\u001b[0m\u001b[1;33m]\u001b[0m\u001b[1;33m[\u001b[0m\u001b[0mmeasure\u001b[0m\u001b[1;33m]\u001b[0m \u001b[1;33m+\u001b[0m\u001b[0mdata\u001b[0m\u001b[1;33m[\u001b[0m\u001b[1;34m\"M1A-Q05.png\"\u001b[0m\u001b[1;33m]\u001b[0m\u001b[1;33m[\u001b[0m\u001b[0mmeasure\u001b[0m\u001b[1;33m]\u001b[0m \u001b[1;33m+\u001b[0m\u001b[0mdata\u001b[0m\u001b[1;33m[\u001b[0m\u001b[1;34m\"M1A-Q06.png\"\u001b[0m\u001b[1;33m]\u001b[0m\u001b[1;33m[\u001b[0m\u001b[0mmeasure\u001b[0m\u001b[1;33m]\u001b[0m\u001b[1;33m\u001b[0m\u001b[0m\n\u001b[0m\u001b[0;32m      3\u001b[0m \u001b[0mM1B\u001b[0m \u001b[1;33m=\u001b[0m \u001b[0mdata\u001b[0m\u001b[1;33m[\u001b[0m\u001b[1;34m\"M1B-Q01.png\"\u001b[0m\u001b[1;33m]\u001b[0m\u001b[1;33m[\u001b[0m\u001b[0mmeasure\u001b[0m\u001b[1;33m]\u001b[0m \u001b[1;33m+\u001b[0m \u001b[0mdata\u001b[0m\u001b[1;33m[\u001b[0m\u001b[1;34m\"M1B-Q02.png\"\u001b[0m\u001b[1;33m]\u001b[0m\u001b[1;33m[\u001b[0m\u001b[0mmeasure\u001b[0m\u001b[1;33m]\u001b[0m \u001b[1;33m+\u001b[0m \u001b[0mdata\u001b[0m\u001b[1;33m[\u001b[0m\u001b[1;34m\"M1B-Q03.png\"\u001b[0m\u001b[1;33m]\u001b[0m\u001b[1;33m[\u001b[0m\u001b[0mmeasure\u001b[0m\u001b[1;33m]\u001b[0m \u001b[1;33m+\u001b[0m\u001b[0mdata\u001b[0m\u001b[1;33m[\u001b[0m\u001b[1;34m\"M1B-Q04.png\"\u001b[0m\u001b[1;33m]\u001b[0m\u001b[1;33m[\u001b[0m\u001b[0mmeasure\u001b[0m\u001b[1;33m]\u001b[0m \u001b[1;33m+\u001b[0m\u001b[0mdata\u001b[0m\u001b[1;33m[\u001b[0m\u001b[1;34m\"M1B-Q05.png\"\u001b[0m\u001b[1;33m]\u001b[0m\u001b[1;33m[\u001b[0m\u001b[0mmeasure\u001b[0m\u001b[1;33m]\u001b[0m \u001b[1;33m+\u001b[0m\u001b[0mdata\u001b[0m\u001b[1;33m[\u001b[0m\u001b[1;34m\"M1B-Q06.png\"\u001b[0m\u001b[1;33m]\u001b[0m\u001b[1;33m[\u001b[0m\u001b[0mmeasure\u001b[0m\u001b[1;33m]\u001b[0m\u001b[1;33m\u001b[0m\u001b[0m\n\u001b[0;32m      4\u001b[0m \u001b[0mM2A\u001b[0m \u001b[1;33m=\u001b[0m \u001b[0mdata\u001b[0m\u001b[1;33m[\u001b[0m\u001b[1;34m\"M2A-Q07.png\"\u001b[0m\u001b[1;33m]\u001b[0m\u001b[1;33m[\u001b[0m\u001b[0mmeasure\u001b[0m\u001b[1;33m]\u001b[0m \u001b[1;33m+\u001b[0m \u001b[0mdata\u001b[0m\u001b[1;33m[\u001b[0m\u001b[1;34m\"M2A-Q08.png\"\u001b[0m\u001b[1;33m]\u001b[0m\u001b[1;33m[\u001b[0m\u001b[0mmeasure\u001b[0m\u001b[1;33m]\u001b[0m \u001b[1;33m+\u001b[0m \u001b[0mdata\u001b[0m\u001b[1;33m[\u001b[0m\u001b[1;34m\"M2A-Q09.png\"\u001b[0m\u001b[1;33m]\u001b[0m\u001b[1;33m[\u001b[0m\u001b[0mmeasure\u001b[0m\u001b[1;33m]\u001b[0m \u001b[1;33m+\u001b[0m\u001b[0mdata\u001b[0m\u001b[1;33m[\u001b[0m\u001b[1;34m\"M2A-Q10.png\"\u001b[0m\u001b[1;33m]\u001b[0m\u001b[1;33m[\u001b[0m\u001b[0mmeasure\u001b[0m\u001b[1;33m]\u001b[0m \u001b[1;33m+\u001b[0m\u001b[0mdata\u001b[0m\u001b[1;33m[\u001b[0m\u001b[1;34m\"M2A-Q11.png\"\u001b[0m\u001b[1;33m]\u001b[0m\u001b[1;33m[\u001b[0m\u001b[0mmeasure\u001b[0m\u001b[1;33m]\u001b[0m \u001b[1;33m+\u001b[0m\u001b[0mdata\u001b[0m\u001b[1;33m[\u001b[0m\u001b[1;34m\"M2A-Q12.png\"\u001b[0m\u001b[1;33m]\u001b[0m\u001b[1;33m[\u001b[0m\u001b[0mmeasure\u001b[0m\u001b[1;33m]\u001b[0m\u001b[1;33m\u001b[0m\u001b[0m\n\u001b[0;32m      5\u001b[0m \u001b[0mM2B\u001b[0m \u001b[1;33m=\u001b[0m \u001b[0mdata\u001b[0m\u001b[1;33m[\u001b[0m\u001b[1;34m\"M2B-Q07.png\"\u001b[0m\u001b[1;33m]\u001b[0m\u001b[1;33m[\u001b[0m\u001b[0mmeasure\u001b[0m\u001b[1;33m]\u001b[0m \u001b[1;33m+\u001b[0m \u001b[0mdata\u001b[0m\u001b[1;33m[\u001b[0m\u001b[1;34m\"M2B-Q08.png\"\u001b[0m\u001b[1;33m]\u001b[0m\u001b[1;33m[\u001b[0m\u001b[0mmeasure\u001b[0m\u001b[1;33m]\u001b[0m \u001b[1;33m+\u001b[0m \u001b[0mdata\u001b[0m\u001b[1;33m[\u001b[0m\u001b[1;34m\"M2B-Q09.png\"\u001b[0m\u001b[1;33m]\u001b[0m\u001b[1;33m[\u001b[0m\u001b[0mmeasure\u001b[0m\u001b[1;33m]\u001b[0m \u001b[1;33m+\u001b[0m\u001b[0mdata\u001b[0m\u001b[1;33m[\u001b[0m\u001b[1;34m\"M2B-Q10.png\"\u001b[0m\u001b[1;33m]\u001b[0m\u001b[1;33m[\u001b[0m\u001b[0mmeasure\u001b[0m\u001b[1;33m]\u001b[0m \u001b[1;33m+\u001b[0m\u001b[0mdata\u001b[0m\u001b[1;33m[\u001b[0m\u001b[1;34m\"M2B-Q11.png\"\u001b[0m\u001b[1;33m]\u001b[0m\u001b[1;33m[\u001b[0m\u001b[0mmeasure\u001b[0m\u001b[1;33m]\u001b[0m \u001b[1;33m+\u001b[0m\u001b[0mdata\u001b[0m\u001b[1;33m[\u001b[0m\u001b[1;34m\"M2B-Q12.png\"\u001b[0m\u001b[1;33m]\u001b[0m\u001b[1;33m[\u001b[0m\u001b[0mmeasure\u001b[0m\u001b[1;33m]\u001b[0m\u001b[1;33m\u001b[0m\u001b[0m\n",
      "\u001b[1;31mKeyError\u001b[0m: 'pupilDilationDiff'"
     ]
    }
   ],
   "source": [
    "measure = \"pupilDilationDiff\"\n",
    "M1A = data[\"M1A-Q01.png\"][measure] + data[\"M1A-Q02.png\"][measure] + data[\"M1A-Q03.png\"][measure] +data[\"M1A-Q04.png\"][measure] +data[\"M1A-Q05.png\"][measure] +data[\"M1A-Q06.png\"][measure]\n",
    "M1B = data[\"M1B-Q01.png\"][measure] + data[\"M1B-Q02.png\"][measure] + data[\"M1B-Q03.png\"][measure] +data[\"M1B-Q04.png\"][measure] +data[\"M1B-Q05.png\"][measure] +data[\"M1B-Q06.png\"][measure]\n",
    "M2A = data[\"M2A-Q07.png\"][measure] + data[\"M2A-Q08.png\"][measure] + data[\"M2A-Q09.png\"][measure] +data[\"M2A-Q10.png\"][measure] +data[\"M2A-Q11.png\"][measure] +data[\"M2A-Q12.png\"][measure]\n",
    "M2B = data[\"M2B-Q07.png\"][measure] + data[\"M2B-Q08.png\"][measure] + data[\"M2B-Q09.png\"][measure] +data[\"M2B-Q10.png\"][measure] +data[\"M2B-Q11.png\"][measure] +data[\"M2B-Q12.png\"][measure]\n",
    "M3A = data[\"M3A-Q13.png\"][measure] + data[\"M3A-Q14.png\"][measure] + data[\"M3A-Q15.png\"][measure] +data[\"M3A-Q16.png\"][measure] +data[\"M3A-Q17.png\"][measure] +data[\"M3A-Q18.png\"][measure]\n",
    "M3B = data[\"M3B-Q13.png\"][measure] + data[\"M3B-Q14.png\"][measure] + data[\"M3B-Q15.png\"][measure] +data[\"M3B-Q16.png\"][measure] +data[\"M3B-Q17.png\"][measure] +data[\"M3B-Q18.png\"][measure]\n",
    "M4A = data[\"M4A-Q19.png\"][measure] + data[\"M4A-Q20.png\"][measure] + data[\"M4A-Q21.png\"][measure] +data[\"M4A-Q22.png\"][measure] +data[\"M4A-Q23.png\"][measure] +data[\"M4A-Q24.png\"][measure]\n",
    "M4B = data[\"M4B-Q19.png\"][measure] + data[\"M4B-Q20.png\"][measure] + data[\"M4B-Q21.png\"][measure] +data[\"M4B-Q22.png\"][measure] +data[\"M4B-Q23.png\"][measure] +data[\"M4B-Q24.png\"][measure]\n",
    "\n",
    "messyDirection = M1B + M3A\n",
    "nonMessyDirection = M1A + M3B\n",
    "messyVisibility = M2A + M4B\n",
    "nonMessyVisibility = M2B + M4A\n",
    "print len(messyDirection)\n",
    "print measure + \"\\t|Mean\\t\\t|Variance\\t|Standard diviation\"\n",
    "print \"Messy direction \\t|\" + str(np.mean(messyDirection)) + \"\\t|\" + str(np.var(messyDirection)) + \"\\t|\" + str(np.std(messyDirection)) + \"\\t\" + str(min(messyDirection)) + \"\\t\" + str(max(messyDirection))\n",
    "print \"Non messy direction \\t|\" + str(np.mean(nonMessyDirection)) + \"\\t|\" + str(np.var(nonMessyDirection)) + \"\\t|\" + str(np.std(nonMessyDirection)) + \"\\t\" + str(min(nonMessyDirection)) + \"\\t\" + str(max(nonMessyDirection))\n",
    "print \"Messy visibility \\t|\" + str(np.mean(messyVisibility)) + \"\\t|\" + str(np.var(messyVisibility)) + \"\\t|\" + str(np.std(messyVisibility)) + \"\\t\" + str(min(messyVisibility)) + \"\\t\" + str(max(messyVisibility))\n",
    "print \"Non messy visibility \\t|\" + str(np.mean(nonMessyVisibility)) + \"\\t|\" + str(np.var(nonMessyVisibility)) + \"\\t|\" + str(np.std(nonMessyVisibility)) + \"\\t\" + str(min(nonMessyVisibility)) + \"\\t\" + str(max(nonMessyVisibility))"
   ]
  },
  {
   "cell_type": "code",
   "execution_count": 103,
   "metadata": {},
   "outputs": [
    {
     "name": "stdout",
     "output_type": "stream",
     "text": [
      "78\n",
      "fixationPrecision\t|Mean\t\t|Std. Error of Mean\t|Standard diviation\n",
      "Messy direction \t|58.2608886984\t|2.24336206374\t|19.6854222173\t12.1212121212\t94.3181818182\n",
      "Non messy direction \t|56.0232144555\t|2.68989901679\t|23.603768078\t4.7619047619\t96.0526315789\n",
      "Messy visibility \t|52.6345066747\t|2.56191309946\t|22.4806962114\t1.49253731343\t96.6666666667\n",
      "Non messy visibility \t|42.5675987685\t|2.30036570802\t|20.1856271658\t2.0\t85.9649122807\n"
     ]
    }
   ],
   "source": [
    "measure = \"fixationPrecision\"\n",
    "M1A = data[\"M1A-Q01.png\"][measure] + data[\"M1A-Q02.png\"][measure] + data[\"M1A-Q03.png\"][measure] +data[\"M1A-Q04.png\"][measure] +data[\"M1A-Q05.png\"][measure] +data[\"M1A-Q06.png\"][measure]\n",
    "M1B = data[\"M1B-Q01.png\"][measure] + data[\"M1B-Q02.png\"][measure] + data[\"M1B-Q03.png\"][measure] +data[\"M1B-Q04.png\"][measure] +data[\"M1B-Q05.png\"][measure] +data[\"M1B-Q06.png\"][measure]\n",
    "M2A = data[\"M2A-Q07.png\"][measure] + data[\"M2A-Q08.png\"][measure] + data[\"M2A-Q09.png\"][measure] +data[\"M2A-Q10.png\"][measure] +data[\"M2A-Q11.png\"][measure] +data[\"M2A-Q12.png\"][measure]\n",
    "M2B = data[\"M2B-Q07.png\"][measure] + data[\"M2B-Q08.png\"][measure] + data[\"M2B-Q09.png\"][measure] +data[\"M2B-Q10.png\"][measure] +data[\"M2B-Q11.png\"][measure] +data[\"M2B-Q12.png\"][measure]\n",
    "M3A = data[\"M3A-Q13.png\"][measure] + data[\"M3A-Q14.png\"][measure] + data[\"M3A-Q15.png\"][measure] +data[\"M3A-Q16.png\"][measure] +data[\"M3A-Q17.png\"][measure] +data[\"M3A-Q18.png\"][measure]\n",
    "M3B = data[\"M3B-Q13.png\"][measure] + data[\"M3B-Q14.png\"][measure] + data[\"M3B-Q15.png\"][measure] +data[\"M3B-Q16.png\"][measure] +data[\"M3B-Q17.png\"][measure] +data[\"M3B-Q18.png\"][measure]\n",
    "M4A = data[\"M4A-Q19.png\"][measure] + data[\"M4A-Q20.png\"][measure] + data[\"M4A-Q21.png\"][measure] +data[\"M4A-Q22.png\"][measure] +data[\"M4A-Q23.png\"][measure] +data[\"M4A-Q24.png\"][measure]\n",
    "M4B = data[\"M4B-Q19.png\"][measure] + data[\"M4B-Q20.png\"][measure] + data[\"M4B-Q21.png\"][measure] +data[\"M4B-Q22.png\"][measure] +data[\"M4B-Q23.png\"][measure] +data[\"M4B-Q24.png\"][measure]\n",
    "\n",
    "messyDirection = M1B + M3A\n",
    "nonMessyDirection = M1A + M3B\n",
    "messyVisibility = M2A + M4B\n",
    "nonMessyVisibility = M2B + M4A\n",
    "print len(messyDirection)\n",
    "print measure + \"\\t|Mean\\t\\t|Std. Error of Mean\\t|Standard diviation\"\n",
    "print \"Messy direction \\t|\" + str(np.mean(messyDirection)) + \"\\t|\" + str(stats.sem(messyDirection)) + \"\\t|\" + str(np.std(messyDirection)) + \"\\t\" + str(min(messyDirection)) + \"\\t\" + str(max(messyDirection))\n",
    "print \"Non messy direction \\t|\" + str(np.mean(nonMessyDirection)) + \"\\t|\" + str(stats.sem(nonMessyDirection)) + \"\\t|\" + str(np.std(nonMessyDirection)) + \"\\t\" + str(min(nonMessyDirection)) + \"\\t\" + str(max(nonMessyDirection))\n",
    "print \"Messy visibility \\t|\" + str(np.mean(messyVisibility)) + \"\\t|\" + str(stats.sem(messyVisibility)) + \"\\t|\" + str(np.std(messyVisibility)) + \"\\t\" + str(min(messyVisibility)) + \"\\t\" + str(max(messyVisibility))\n",
    "print \"Non messy visibility \\t|\" + str(np.mean(nonMessyVisibility)) + \"\\t|\" + str(stats.sem(nonMessyVisibility)) + \"\\t|\" + str(np.std(nonMessyVisibility)) + \"\\t\" + str(min(nonMessyVisibility)) + \"\\t\" + str(max(nonMessyVisibility))"
   ]
  },
  {
   "cell_type": "code",
   "execution_count": 97,
   "metadata": {},
   "outputs": [
    {
     "name": "stdout",
     "output_type": "stream",
     "text": [
      "156\n",
      "fixationsPerSecond\t|Mean\t\t|Std Error\t|Standard diviation\n",
      "Messy Global \t\t|2.53430623294\t|0.0490273469297\t|0.430213223317\n",
      "Messy Local \t\t|2.66255548031\t|0.0507000122614\t|0.444890802034\n",
      "Non Messy Global \t|2.54745644738\t|0.0395759194078\t|0.492716223125\t1.20787534726\t3.95577644792\n",
      "Non Messy Local \t|2.68923433297\t|0.0388814606831\t|0.484070281728\t1.48901211748\t3.95341382626\n"
     ]
    }
   ],
   "source": [
    "measure = \"fixationsPerSecond\"\n",
    "M1AL = data[\"M1A-Q01.png\"][measure] + data[\"M1A-Q02.png\"][measure] + data[\"M1A-Q03.png\"][measure] \n",
    "M1AG = data[\"M1A-Q04.png\"][measure] +data[\"M1A-Q05.png\"][measure] +data[\"M1A-Q06.png\"][measure]\n",
    "M1BL = data[\"M1B-Q01.png\"][measure] + data[\"M1B-Q02.png\"][measure] + data[\"M1B-Q03.png\"][measure] \n",
    "M1BG = data[\"M1B-Q04.png\"][measure] +data[\"M1B-Q05.png\"][measure] +data[\"M1B-Q06.png\"][measure]\n",
    "M2AL = data[\"M2A-Q07.png\"][measure] + data[\"M2A-Q08.png\"][measure] + data[\"M2A-Q09.png\"][measure] \n",
    "M2AG = data[\"M2A-Q10.png\"][measure] +data[\"M2A-Q11.png\"][measure] +data[\"M2A-Q12.png\"][measure]\n",
    "M2BL = data[\"M2B-Q07.png\"][measure] + data[\"M2B-Q08.png\"][measure] + data[\"M2B-Q09.png\"][measure] \n",
    "M2BG = data[\"M2B-Q10.png\"][measure] +data[\"M2B-Q11.png\"][measure] +data[\"M2B-Q12.png\"][measure]\n",
    "M3AL = data[\"M3A-Q13.png\"][measure] + data[\"M3A-Q14.png\"][measure] + data[\"M3A-Q15.png\"][measure] \n",
    "M3AG = data[\"M3A-Q16.png\"][measure] +data[\"M3A-Q17.png\"][measure] +data[\"M3A-Q18.png\"][measure]\n",
    "M3BL = data[\"M3B-Q13.png\"][measure] + data[\"M3B-Q14.png\"][measure] + data[\"M3B-Q15.png\"][measure] \n",
    "M3BG = data[\"M3B-Q16.png\"][measure] +data[\"M3B-Q17.png\"][measure] +data[\"M3B-Q18.png\"][measure]\n",
    "M4AL = data[\"M4A-Q19.png\"][measure] + data[\"M4A-Q20.png\"][measure] + data[\"M4A-Q24.png\"][measure] \n",
    "M4AG = data[\"M4A-Q22.png\"][measure] +data[\"M4A-Q23.png\"][measure] +data[\"M4A-Q21.png\"][measure]\n",
    "M4BL = data[\"M4B-Q19.png\"][measure] + data[\"M4B-Q20.png\"][measure] + data[\"M4B-Q24.png\"][measure] \n",
    "M4BG = data[\"M4B-Q22.png\"][measure] +data[\"M4B-Q23.png\"][measure] +data[\"M4B-Q21.png\"][measure]\n",
    "\n",
    "messyL = M1BL + M3AL + M2AL + M4BL\n",
    "messyG = M1BG + M3AG + M2AG + M4BG\n",
    "nonMessyL = M1AL + M3BL + M2BL + M4AL + messyL\n",
    "nonMessyG = M1AG + M3BG + M2BG + M4AG + messyG\n",
    "\n",
    "print len(nonMessyG)\n",
    "print measure + \"\\t|Mean\\t\\t|Std Error\\t|Standard diviation\"\n",
    "print \"Messy Global \\t\\t|\" + str(np.mean(messyG)) + \"\\t|\" + str(stats.sem(messyG)) + \"\\t|\" + str(np.std(messyG))\n",
    "print \"Messy Local \\t\\t|\" + str(np.mean(messyL)) + \"\\t|\" + str(stats.sem(messyL)) + \"\\t|\" + str(np.std(messyL))\n",
    "print \"Non Messy Global \\t|\" + str(np.mean(nonMessyG)) + \"\\t|\" + str(stats.sem(nonMessyG)) + \"\\t|\" + str(np.std(nonMessyG)) + \"\\t\" + str(min(nonMessyG)) + \"\\t\" + str(max(nonMessyG))\n",
    "print \"Non Messy Local \\t|\" + str(np.mean(nonMessyL)) + \"\\t|\" + str(stats.sem(nonMessyL)) + \"\\t|\" + str(np.std(nonMessyL)) + \"\\t\" + str(min(nonMessyL)) + \"\\t\" + str(max(nonMessyL))"
   ]
  },
  {
   "cell_type": "code",
   "execution_count": 100,
   "metadata": {},
   "outputs": [
    {
     "name": "stdout",
     "output_type": "stream",
     "text": [
      "156\n",
      "fixationDuration\t|Mean\t\t|Std Error\t|Standard diviation\n",
      "Messy Global \t\t|7.56366250908\t|0.616779855796\t|5.41222126947\n",
      "Messy Local \t\t|11.2669100936\t|1.05734773636\t|9.27818873164\n",
      "Non Messy Global \t|8.22685180852\t|0.441450423154\t|5.49601344576\t1.32891304348\t32.60612\n",
      "Non Messy Local \t|12.4566333633\t|0.790469618984\t|9.84126739161\t0.604255952381\t52.8528888889\n"
     ]
    }
   ],
   "source": [
    "measure = \"fixationDuration\"\n",
    "M1AL = data[\"M1A-Q01.png\"][measure] + data[\"M1A-Q02.png\"][measure] + data[\"M1A-Q03.png\"][measure] \n",
    "M1AG = data[\"M1A-Q04.png\"][measure] +data[\"M1A-Q05.png\"][measure] +data[\"M1A-Q06.png\"][measure]\n",
    "M1BL = data[\"M1B-Q01.png\"][measure] + data[\"M1B-Q02.png\"][measure] + data[\"M1B-Q03.png\"][measure] \n",
    "M1BG = data[\"M1B-Q04.png\"][measure] +data[\"M1B-Q05.png\"][measure] +data[\"M1B-Q06.png\"][measure]\n",
    "M2AL = data[\"M2A-Q07.png\"][measure] + data[\"M2A-Q08.png\"][measure] + data[\"M2A-Q09.png\"][measure] \n",
    "M2AG = data[\"M2A-Q10.png\"][measure] +data[\"M2A-Q11.png\"][measure] +data[\"M2A-Q12.png\"][measure]\n",
    "M2BL = data[\"M2B-Q07.png\"][measure] + data[\"M2B-Q08.png\"][measure] + data[\"M2B-Q09.png\"][measure] \n",
    "M2BG = data[\"M2B-Q10.png\"][measure] +data[\"M2B-Q11.png\"][measure] +data[\"M2B-Q12.png\"][measure]\n",
    "M3AL = data[\"M3A-Q13.png\"][measure] + data[\"M3A-Q14.png\"][measure] + data[\"M3A-Q15.png\"][measure] \n",
    "M3AG = data[\"M3A-Q16.png\"][measure] +data[\"M3A-Q17.png\"][measure] +data[\"M3A-Q18.png\"][measure]\n",
    "M3BL = data[\"M3B-Q13.png\"][measure] + data[\"M3B-Q14.png\"][measure] + data[\"M3B-Q15.png\"][measure] \n",
    "M3BG = data[\"M3B-Q16.png\"][measure] +data[\"M3B-Q17.png\"][measure] +data[\"M3B-Q18.png\"][measure]\n",
    "M4AL = data[\"M4A-Q19.png\"][measure] + data[\"M4A-Q20.png\"][measure] + data[\"M4A-Q24.png\"][measure] \n",
    "M4AG = data[\"M4A-Q22.png\"][measure] +data[\"M4A-Q23.png\"][measure] +data[\"M4A-Q21.png\"][measure]\n",
    "M4BL = data[\"M4B-Q19.png\"][measure] + data[\"M4B-Q20.png\"][measure] + data[\"M4B-Q24.png\"][measure] \n",
    "M4BG = data[\"M4B-Q22.png\"][measure] +data[\"M4B-Q23.png\"][measure] +data[\"M4B-Q21.png\"][measure]\n",
    "\n",
    "messyL = M1BL + M3AL + M2AL + M4BL\n",
    "messyG = M1BG + M3AG + M2AG + M4BG\n",
    "nonMessyL = M1AL + M3BL + M2BL + M4AL + messyL\n",
    "nonMessyG = M1AG + M3BG + M2BG + M4AG + messyG\n",
    "\n",
    "print len(nonMessyG)\n",
    "print measure + \"\\t|Mean\\t\\t|Std Error\\t|Standard diviation\"\n",
    "print \"Messy Global \\t\\t|\" + str(np.mean(messyG)) + \"\\t|\" + str(stats.sem(messyG)) + \"\\t|\" + str(np.std(messyG))\n",
    "print \"Messy Local \\t\\t|\" + str(np.mean(messyL)) + \"\\t|\" + str(stats.sem(messyL)) + \"\\t|\" + str(np.std(messyL))\n",
    "print \"Non Messy Global \\t|\" + str(np.mean(nonMessyG)) + \"\\t|\" + str(stats.sem(nonMessyG)) + \"\\t|\" + str(np.std(nonMessyG)) + \"\\t\" + str(min(nonMessyG)) + \"\\t\" + str(max(nonMessyG))\n",
    "print \"Non Messy Local \\t|\" + str(np.mean(nonMessyL)) + \"\\t|\" + str(stats.sem(nonMessyL)) + \"\\t|\" + str(np.std(nonMessyL)) + \"\\t\" + str(min(nonMessyL)) + \"\\t\" + str(max(nonMessyL))"
   ]
  },
  {
   "cell_type": "code",
   "execution_count": 108,
   "metadata": {},
   "outputs": [
    {
     "name": "stdout",
     "output_type": "stream",
     "text": [
      "156\n",
      "saccadeVelocityList\t|Mean\t\t|Std Error\t|Standard diviation\n",
      "Messy Global \t\t|4.15620092807\t|0.127393480178\t|1.11787325175\n",
      "Messy Local \t\t|3.66648523625\t|0.136270724143\t|1.1957707514\n",
      "Non Messy Global \t|4.28172548167\t|0.100691059734\t|1.2535935841\t2.053\t9.0555952381\n",
      "Non Messy Local \t|3.86284154931\t|0.0983294026637\t|1.22419119069\t1.58277777778\t7.31032786885\n"
     ]
    }
   ],
   "source": [
    "measure = \"saccadeVelocityList\"\n",
    "M1AL = data[\"M1A-Q01.png\"][measure] + data[\"M1A-Q02.png\"][measure] + data[\"M1A-Q03.png\"][measure] \n",
    "M1AG = data[\"M1A-Q04.png\"][measure] +data[\"M1A-Q05.png\"][measure] +data[\"M1A-Q06.png\"][measure]\n",
    "M1BL = data[\"M1B-Q01.png\"][measure] + data[\"M1B-Q02.png\"][measure] + data[\"M1B-Q03.png\"][measure] \n",
    "M1BG = data[\"M1B-Q04.png\"][measure] +data[\"M1B-Q05.png\"][measure] +data[\"M1B-Q06.png\"][measure]\n",
    "M2AL = data[\"M2A-Q07.png\"][measure] + data[\"M2A-Q08.png\"][measure] + data[\"M2A-Q09.png\"][measure] \n",
    "M2AG = data[\"M2A-Q10.png\"][measure] +data[\"M2A-Q11.png\"][measure] +data[\"M2A-Q12.png\"][measure]\n",
    "M2BL = data[\"M2B-Q07.png\"][measure] + data[\"M2B-Q08.png\"][measure] + data[\"M2B-Q09.png\"][measure] \n",
    "M2BG = data[\"M2B-Q10.png\"][measure] +data[\"M2B-Q11.png\"][measure] +data[\"M2B-Q12.png\"][measure]\n",
    "M3AL = data[\"M3A-Q13.png\"][measure] + data[\"M3A-Q14.png\"][measure] + data[\"M3A-Q15.png\"][measure] \n",
    "M3AG = data[\"M3A-Q16.png\"][measure] +data[\"M3A-Q17.png\"][measure] +data[\"M3A-Q18.png\"][measure]\n",
    "M3BL = data[\"M3B-Q13.png\"][measure] + data[\"M3B-Q14.png\"][measure] + data[\"M3B-Q15.png\"][measure] \n",
    "M3BG = data[\"M3B-Q16.png\"][measure] +data[\"M3B-Q17.png\"][measure] +data[\"M3B-Q18.png\"][measure]\n",
    "M4AL = data[\"M4A-Q19.png\"][measure] + data[\"M4A-Q20.png\"][measure] + data[\"M4A-Q24.png\"][measure] \n",
    "M4AG = data[\"M4A-Q22.png\"][measure] +data[\"M4A-Q23.png\"][measure] +data[\"M4A-Q21.png\"][measure]\n",
    "M4BL = data[\"M4B-Q19.png\"][measure] + data[\"M4B-Q20.png\"][measure] + data[\"M4B-Q24.png\"][measure] \n",
    "M4BG = data[\"M4B-Q22.png\"][measure] +data[\"M4B-Q23.png\"][measure] +data[\"M4B-Q21.png\"][measure]\n",
    "\n",
    "messyL = M1BL + M3AL + M2AL + M4BL\n",
    "messyG = M1BG + M3AG + M2AG + M4BG\n",
    "nonMessyL = M1AL + M3BL + M2BL + M4AL + messyL\n",
    "nonMessyG = M1AG + M3BG + M2BG + M4AG + messyG\n",
    "\n",
    "print len(nonMessyG)\n",
    "print measure + \"\\t|Mean\\t\\t|Std Error\\t|Standard diviation\"\n",
    "print \"Messy Global \\t\\t|\" + str(np.mean(messyG)) + \"\\t|\" + str(stats.sem(messyG)) + \"\\t|\" + str(np.std(messyG))\n",
    "print \"Messy Local \\t\\t|\" + str(np.mean(messyL)) + \"\\t|\" + str(stats.sem(messyL)) + \"\\t|\" + str(np.std(messyL))\n",
    "print \"Non Messy Global \\t|\" + str(np.mean(nonMessyG)) + \"\\t|\" + str(stats.sem(nonMessyG)) + \"\\t|\" + str(np.std(nonMessyG)) + \"\\t\" + str(min(nonMessyG)) + \"\\t\" + str(max(nonMessyG))\n",
    "print \"Non Messy Local \\t|\" + str(np.mean(nonMessyL)) + \"\\t|\" + str(stats.sem(nonMessyL)) + \"\\t|\" + str(np.std(nonMessyL)) + \"\\t\" + str(min(nonMessyL)) + \"\\t\" + str(max(nonMessyL))"
   ]
  },
  {
   "cell_type": "code",
   "execution_count": 54,
   "metadata": {},
   "outputs": [
    {
     "name": "stdout",
     "output_type": "stream",
     "text": [
      "duration\t|Mean\t\t|Variance\t|Standard diviation\n",
      "Messy Global \t\t|34.0361923077\t|199.135913694\t|14.1115524906\n",
      "Messy Local \t\t|20.5900512821\t|95.287150382\t|9.76151373415\n",
      "Non Messy Global \t|29.2739358974\t|237.121197316\t|15.3987401211\n",
      "Non Messy Local \t|16.7408076923\t|97.5008628476\t|9.87425252096\n"
     ]
    }
   ],
   "source": [
    "measure = \"duration\"\n",
    "M1AL = data[\"M1A-Q01.png\"][measure] + data[\"M1A-Q02.png\"][measure] + data[\"M1A-Q03.png\"][measure] \n",
    "M1AG = data[\"M1A-Q04.png\"][measure] +data[\"M1A-Q05.png\"][measure] +data[\"M1A-Q06.png\"][measure]\n",
    "M1BL = data[\"M1B-Q01.png\"][measure] + data[\"M1B-Q02.png\"][measure] + data[\"M1B-Q03.png\"][measure] \n",
    "M1BG = data[\"M1B-Q04.png\"][measure] +data[\"M1B-Q05.png\"][measure] +data[\"M1B-Q06.png\"][measure]\n",
    "M2AL = data[\"M2A-Q07.png\"][measure] + data[\"M2A-Q08.png\"][measure] + data[\"M2A-Q09.png\"][measure] \n",
    "M2AG = data[\"M2A-Q10.png\"][measure] +data[\"M2A-Q11.png\"][measure] +data[\"M2A-Q12.png\"][measure]\n",
    "M2BL = data[\"M2B-Q07.png\"][measure] + data[\"M2B-Q08.png\"][measure] + data[\"M2B-Q09.png\"][measure] \n",
    "M2BG = data[\"M2B-Q10.png\"][measure] +data[\"M2B-Q11.png\"][measure] +data[\"M2B-Q12.png\"][measure]\n",
    "M3AL = data[\"M3A-Q13.png\"][measure] + data[\"M3A-Q14.png\"][measure] + data[\"M3A-Q15.png\"][measure] \n",
    "M3AG = data[\"M3A-Q16.png\"][measure] +data[\"M3A-Q17.png\"][measure] +data[\"M3A-Q18.png\"][measure]\n",
    "M3BL = data[\"M3B-Q13.png\"][measure] + data[\"M3B-Q14.png\"][measure] + data[\"M3B-Q15.png\"][measure] \n",
    "M3BG = data[\"M3B-Q16.png\"][measure] +data[\"M3B-Q17.png\"][measure] +data[\"M3B-Q18.png\"][measure]\n",
    "M4AL = data[\"M4A-Q19.png\"][measure] + data[\"M4A-Q20.png\"][measure] + data[\"M4A-Q24.png\"][measure] \n",
    "M4AG = data[\"M4A-Q22.png\"][measure] +data[\"M4A-Q23.png\"][measure] +data[\"M4A-Q21.png\"][measure]\n",
    "M4BL = data[\"M4B-Q19.png\"][measure] + data[\"M4B-Q20.png\"][measure] + data[\"M4B-Q24.png\"][measure] \n",
    "M4BG = data[\"M4B-Q22.png\"][measure] +data[\"M4B-Q23.png\"][measure] +data[\"M4B-Q21.png\"][measure]\n",
    "\n",
    "messyL = M1BL + M3AL + M2AL + M4BL\n",
    "messyG = M1BG + M3AG + M2AG + M4BG\n",
    "nonMessyL = M1AL + M3BL + M2BL + M4AL\n",
    "nonMessyG = M1AG + M3BG + M2BG + M4AG\n",
    "\n",
    "print measure + \"\\t|Mean\\t\\t|Variance\\t|Standard diviation\"\n",
    "print \"Messy Global \\t\\t|\" + str(np.mean(messyG)) + \"\\t|\" + str(np.var(messyG)) + \"\\t|\" + str(np.std(messyG))\n",
    "print \"Messy Local \\t\\t|\" + str(np.mean(messyL)) + \"\\t|\" + str(np.var(messyL)) + \"\\t|\" + str(np.std(messyL))\n",
    "print \"Non Messy Global \\t|\" + str(np.mean(nonMessyG)) + \"\\t|\" + str(np.var(nonMessyG)) + \"\\t|\" + str(np.std(nonMessyG))\n",
    "print \"Non Messy Local \\t|\" + str(np.mean(nonMessyL)) + \"\\t|\" + str(np.var(nonMessyL)) + \"\\t|\" + str(np.std(nonMessyL))"
   ]
  },
  {
   "cell_type": "code",
   "execution_count": 92,
   "metadata": {},
   "outputs": [
    {
     "name": "stdout",
     "output_type": "stream",
     "text": [
      "156\n",
      "amountOfFixations\t|Mean\t\t|Std Error\t|Standard diviation\n",
      "Messy Global \t\t|85.6025641026\t|4.32073810863\t|37.9143230305\n",
      "Messy Local \t\t|53.8461538462\t|3.00072568219\t|26.3312609975\n",
      "Non Messy Global \t|78.9743589744\t|3.04054417986\t|37.8544697625\t11\t242\n",
      "Non Messy Local \t|49.1346153846\t|2.14429989651\t|26.6963184196\t12\t191\n"
     ]
    }
   ],
   "source": [
    "measure = \"amountOfFixations\"\n",
    "M1AL = data[\"M1A-Q01.png\"][measure] + data[\"M1A-Q02.png\"][measure] + data[\"M1A-Q03.png\"][measure] \n",
    "M1AG = data[\"M1A-Q04.png\"][measure] +data[\"M1A-Q05.png\"][measure] +data[\"M1A-Q06.png\"][measure]\n",
    "M1BL = data[\"M1B-Q01.png\"][measure] + data[\"M1B-Q02.png\"][measure] + data[\"M1B-Q03.png\"][measure] \n",
    "M1BG = data[\"M1B-Q04.png\"][measure] +data[\"M1B-Q05.png\"][measure] +data[\"M1B-Q06.png\"][measure]\n",
    "M2AL = data[\"M2A-Q07.png\"][measure] + data[\"M2A-Q08.png\"][measure] + data[\"M2A-Q09.png\"][measure] \n",
    "M2AG = data[\"M2A-Q10.png\"][measure] +data[\"M2A-Q11.png\"][measure] +data[\"M2A-Q12.png\"][measure]\n",
    "M2BL = data[\"M2B-Q07.png\"][measure] + data[\"M2B-Q08.png\"][measure] + data[\"M2B-Q09.png\"][measure] \n",
    "M2BG = data[\"M2B-Q10.png\"][measure] +data[\"M2B-Q11.png\"][measure] +data[\"M2B-Q12.png\"][measure]\n",
    "M3AL = data[\"M3A-Q13.png\"][measure] + data[\"M3A-Q14.png\"][measure] + data[\"M3A-Q15.png\"][measure] \n",
    "M3AG = data[\"M3A-Q16.png\"][measure] +data[\"M3A-Q17.png\"][measure] +data[\"M3A-Q18.png\"][measure]\n",
    "M3BL = data[\"M3B-Q13.png\"][measure] + data[\"M3B-Q14.png\"][measure] + data[\"M3B-Q15.png\"][measure] \n",
    "M3BG = data[\"M3B-Q16.png\"][measure] +data[\"M3B-Q17.png\"][measure] +data[\"M3B-Q18.png\"][measure]\n",
    "M4AL = data[\"M4A-Q19.png\"][measure] + data[\"M4A-Q20.png\"][measure] + data[\"M4A-Q24.png\"][measure] \n",
    "M4AG = data[\"M4A-Q22.png\"][measure] +data[\"M4A-Q23.png\"][measure] +data[\"M4A-Q21.png\"][measure]\n",
    "M4BL = data[\"M4B-Q19.png\"][measure] + data[\"M4B-Q20.png\"][measure] + data[\"M4B-Q24.png\"][measure] \n",
    "M4BG = data[\"M4B-Q22.png\"][measure] +data[\"M4B-Q23.png\"][measure] +data[\"M4B-Q21.png\"][measure]\n",
    "\n",
    "messyL = M1BL + M3AL + M2AL + M4BL\n",
    "messyG = M1BG + M3AG + M2AG + M4BG\n",
    "nonMessyL = M1AL + M3BL + M2BL + M4AL + messyL\n",
    "nonMessyG = M1AG + M3BG + M2BG + M4AG + messyG\n",
    "print len(nonMessyG)\n",
    "print measure + \"\\t|Mean\\t\\t|Std Error\\t|Standard diviation\"\n",
    "print \"Messy Global \\t\\t|\" + str(np.mean(messyG)) + \"\\t|\" + str(stats.sem(messyG)) + \"\\t|\" + str(np.std(messyG))\n",
    "print \"Messy Local \\t\\t|\" + str(np.mean(messyL)) + \"\\t|\" + str(stats.sem(messyL)) + \"\\t|\" + str(np.std(messyL))\n",
    "print \"Non Messy Global \\t|\" + str(np.mean(nonMessyG)) + \"\\t|\" + str(stats.sem(nonMessyG)) + \"\\t|\" + str(np.std(nonMessyG)) + \"\\t\" + str(min(nonMessyG)) + \"\\t\" + str(max(nonMessyG))\n",
    "print \"Non Messy Local \\t|\" + str(np.mean(nonMessyL)) + \"\\t|\" + str(stats.sem(nonMessyL)) + \"\\t|\" + str(np.std(nonMessyL)) + \"\\t\" + str(min(nonMessyL)) + \"\\t\" + str(max(nonMessyL))"
   ]
  },
  {
   "cell_type": "code",
   "execution_count": null,
   "metadata": {
    "collapsed": true
   },
   "outputs": [],
   "source": [
    "### measure = \"pupilDilationDiff\"\n",
    "M1AL = data[\"M1A-Q01.png\"][measure] + data[\"M1A-Q02.png\"][measure] + data[\"M1A-Q03.png\"][measure] \n",
    "M1AG = data[\"M1A-Q04.png\"][measure] +data[\"M1A-Q05.png\"][measure] +data[\"M1A-Q06.png\"][measure]\n",
    "M1BL = data[\"M1B-Q01.png\"][measure] + data[\"M1B-Q02.png\"][measure] + data[\"M1B-Q03.png\"][measure] \n",
    "M1BG = data[\"M1B-Q04.png\"][measure] +data[\"M1B-Q05.png\"][measure] +data[\"M1B-Q06.png\"][measure]\n",
    "M2AL = data[\"M2A-Q07.png\"][measure] + data[\"M2A-Q08.png\"][measure] + data[\"M2A-Q09.png\"][measure] \n",
    "M2AG = data[\"M2A-Q10.png\"][measure] +data[\"M2A-Q11.png\"][measure] +data[\"M2A-Q12.png\"][measure]\n",
    "M2BL = data[\"M2B-Q07.png\"][measure] + data[\"M2B-Q08.png\"][measure] + data[\"M2B-Q09.png\"][measure] \n",
    "M2BG = data[\"M2B-Q10.png\"][measure] +data[\"M2B-Q11.png\"][measure] +data[\"M2B-Q12.png\"][measure]\n",
    "M3AL = data[\"M3A-Q13.png\"][measure] + data[\"M3A-Q14.png\"][measure] + data[\"M3A-Q15.png\"][measure] \n",
    "M3AG = data[\"M3A-Q16.png\"][measure] +data[\"M3A-Q17.png\"][measure] +data[\"M3A-Q18.png\"][measure]\n",
    "M3BL = data[\"M3B-Q13.png\"][measure] + data[\"M3B-Q14.png\"][measure] + data[\"M3B-Q15.png\"][measure] \n",
    "M3BG = data[\"M3B-Q16.png\"][measure] +data[\"M3B-Q17.png\"][measure] +data[\"M3B-Q18.png\"][measure]\n",
    "M4AL = data[\"M4A-Q19.png\"][measure] + data[\"M4A-Q20.png\"][measure] + data[\"M4A-Q24.png\"][measure] \n",
    "M4AG = data[\"M4A-Q22.png\"][measure] +data[\"M4A-Q23.png\"][measure] +data[\"M4A-Q21.png\"][measure]\n",
    "M4BL = data[\"M4B-Q19.png\"][measure] + data[\"M4B-Q20.png\"][measure] + data[\"M4B-Q24.png\"][measure] \n",
    "M4BG = data[\"M4B-Q22.png\"][measure] +data[\"M4B-Q23.png\"][measure] +data[\"M4B-Q21.png\"][measure]\n",
    "\n",
    "messyL = M1BL + M3AL + M2AL + M4BL\n",
    "messyG = M1BG + M3AG + M2AG + M4BG\n",
    "nonMessyL = M1AL + M3BL + M2BL + M4AL + messyL\n",
    "nonMessyG = M1AG + M3BG + M2BG + M4AG + messyG\n",
    "print len(nonMessyG)\n",
    "print measure + \"\\t|Mean\\t\\t|Variance\\t|Standard diviation\"\n",
    "print \"Messy Global \\t\\t|\" + str(np.mean(messyG)) + \"\\t|\" + str(np.var(messyG)) + \"\\t|\" + str(np.std(messyG))\n",
    "print \"Messy Local \\t\\t|\" + str(np.mean(messyL)) + \"\\t|\" + str(np.var(messyL)) + \"\\t|\" + str(np.std(messyL))\n",
    "print \"Non Messy Global \\t|\" + str(np.mean(nonMessyG)) + \"\\t|\" + str(np.var(nonMessyG)) + \"\\t|\" + str(np.std(nonMessyG)) + \"\\t\" + str(min(nonMessyG)) + \"\\t\" + str(max(nonMessyG))\n",
    "print \"Non Messy Local \\t|\" + str(np.mean(nonMessyL)) + \"\\t|\" + str(np.var(nonMessyL)) + \"\\t|\" + str(np.std(nonMessyL)) + \"\\t\" + str(min(nonMessyL)) + \"\\t\" + str(max(nonMessyL))"
   ]
  },
  {
   "cell_type": "code",
   "execution_count": 104,
   "metadata": {},
   "outputs": [
    {
     "name": "stdout",
     "output_type": "stream",
     "text": [
      "156\n",
      "fixationPrecision\t|Mean\t\t|Std Error\t|Standard diviation\n",
      "Messy Global \t\t|56.5858777402\t|2.42033271593\t|21.2383333879\n",
      "Messy Local \t\t|54.3095176329\t|2.43104361267\t|21.3323211253\n",
      "Non Messy Global \t|54.9430111936\t|1.8268077342\t|22.7435728756\t2.32558139535\t96.0526315789\n",
      "Non Messy Local \t|49.800093105\t|1.74199617642\t|21.6876774965\t1.49253731343\t96.6666666667\n"
     ]
    }
   ],
   "source": [
    "measure = \"fixationPrecision\"\n",
    "M1AL = data[\"M1A-Q01.png\"][measure] + data[\"M1A-Q02.png\"][measure] + data[\"M1A-Q03.png\"][measure] \n",
    "M1AG = data[\"M1A-Q04.png\"][measure] +data[\"M1A-Q05.png\"][measure] +data[\"M1A-Q06.png\"][measure]\n",
    "M1BL = data[\"M1B-Q01.png\"][measure] + data[\"M1B-Q02.png\"][measure] + data[\"M1B-Q03.png\"][measure] \n",
    "M1BG = data[\"M1B-Q04.png\"][measure] +data[\"M1B-Q05.png\"][measure] +data[\"M1B-Q06.png\"][measure]\n",
    "M2AL = data[\"M2A-Q07.png\"][measure] + data[\"M2A-Q08.png\"][measure] + data[\"M2A-Q09.png\"][measure] \n",
    "M2AG = data[\"M2A-Q10.png\"][measure] +data[\"M2A-Q11.png\"][measure] +data[\"M2A-Q12.png\"][measure]\n",
    "M2BL = data[\"M2B-Q07.png\"][measure] + data[\"M2B-Q08.png\"][measure] + data[\"M2B-Q09.png\"][measure] \n",
    "M2BG = data[\"M2B-Q10.png\"][measure] +data[\"M2B-Q11.png\"][measure] +data[\"M2B-Q12.png\"][measure]\n",
    "M3AL = data[\"M3A-Q13.png\"][measure] + data[\"M3A-Q14.png\"][measure] + data[\"M3A-Q15.png\"][measure] \n",
    "M3AG = data[\"M3A-Q16.png\"][measure] +data[\"M3A-Q17.png\"][measure] +data[\"M3A-Q18.png\"][measure]\n",
    "M3BL = data[\"M3B-Q13.png\"][measure] + data[\"M3B-Q14.png\"][measure] + data[\"M3B-Q15.png\"][measure] \n",
    "M3BG = data[\"M3B-Q16.png\"][measure] +data[\"M3B-Q17.png\"][measure] +data[\"M3B-Q18.png\"][measure]\n",
    "M4AL = data[\"M4A-Q19.png\"][measure] + data[\"M4A-Q20.png\"][measure] + data[\"M4A-Q24.png\"][measure] \n",
    "M4AG = data[\"M4A-Q22.png\"][measure] +data[\"M4A-Q23.png\"][measure] +data[\"M4A-Q21.png\"][measure]\n",
    "M4BL = data[\"M4B-Q19.png\"][measure] + data[\"M4B-Q20.png\"][measure] + data[\"M4B-Q24.png\"][measure] \n",
    "M4BG = data[\"M4B-Q22.png\"][measure] +data[\"M4B-Q23.png\"][measure] +data[\"M4B-Q21.png\"][measure]\n",
    "\n",
    "messyL = M1BL + M3AL + M2AL + M4BL\n",
    "messyG = M1BG + M3AG + M2AG + M4BG\n",
    "nonMessyL = M1AL + M3BL + M2BL + M4AL + messyL\n",
    "nonMessyG = M1AG + M3BG + M2BG + M4AG + messyG\n",
    "print len(nonMessyG)\n",
    "print measure + \"\\t|Mean\\t\\t|Std Error\\t|Standard diviation\"\n",
    "print \"Messy Global \\t\\t|\" + str(np.mean(messyG)) + \"\\t|\" + str(stats.sem(messyG)) + \"\\t|\" + str(np.std(messyG))\n",
    "print \"Messy Local \\t\\t|\" + str(np.mean(messyL)) + \"\\t|\" + str(stats.sem(messyL)) + \"\\t|\" + str(np.std(messyL))\n",
    "print \"Non Messy Global \\t|\" + str(np.mean(nonMessyG)) + \"\\t|\" + str(stats.sem(nonMessyG)) + \"\\t|\" + str(np.std(nonMessyG)) + \"\\t\" + str(min(nonMessyG)) + \"\\t\" + str(max(nonMessyG))\n",
    "print \"Non Messy Local \\t|\" + str(np.mean(nonMessyL)) + \"\\t|\" + str(stats.sem(nonMessyL)) + \"\\t|\" + str(np.std(nonMessyL)) + \"\\t\" + str(min(nonMessyL)) + \"\\t\" + str(max(nonMessyL))"
   ]
  },
  {
   "cell_type": "code",
   "execution_count": 105,
   "metadata": {},
   "outputs": [
    {
     "name": "stdout",
     "output_type": "stream",
     "text": [
      "39\n",
      "fixationsPerSecond\t\t|Mean\t\t|Std. error\t|Standard deviation\n",
      "Messy direction global \t\t|2.44965007007\t|0.0808758804935\t|0.498552410217\t1.53830163185\t3.76789751319\n",
      "Non messy direction global \t|2.42643302371\t|0.0804666047773\t|0.496029465261\t1.20787534726\t3.87622363839\n",
      "Messy direction local \t\t|2.79133577916\t|0.0725754334927\t|0.447385018494\t1.59172304019\t3.95341382626\n",
      "Non messy direction local \t|2.87890595882\t|0.0725411536384\t|0.44717370328\t2.06540447504\t3.7459658829\n",
      "Messy visibility global \t|2.61896239581\t|0.0531331489044\t|0.327534727128\t1.82568661692\t3.59020852221\n",
      "Non messy visibility global \t|2.69478029994\t|0.0915032639327\t|0.564064001504\t1.4835461248\t3.95577644792\n",
      "Messy visibility local \t\t|2.53377518145\t|0.0654002989589\t|0.403154518701\t1.48901211748\t3.27715355805\n",
      "Non messy visibility local \t|2.55292041245\t|0.0866778435376\t|0.53431811245\t1.55816331499\t3.58757264835\n"
     ]
    }
   ],
   "source": [
    "measure = \"fixationsPerSecond\"\n",
    "M1AL = data[\"M1A-Q01.png\"][measure] + data[\"M1A-Q02.png\"][measure] + data[\"M1A-Q03.png\"][measure] \n",
    "M1AG = data[\"M1A-Q04.png\"][measure] +data[\"M1A-Q05.png\"][measure] +data[\"M1A-Q06.png\"][measure]\n",
    "M1BL = data[\"M1B-Q01.png\"][measure] + data[\"M1B-Q02.png\"][measure] + data[\"M1B-Q03.png\"][measure] \n",
    "M1BG = data[\"M1B-Q04.png\"][measure] +data[\"M1B-Q05.png\"][measure] +data[\"M1B-Q06.png\"][measure]\n",
    "M2AL = data[\"M2A-Q07.png\"][measure] + data[\"M2A-Q08.png\"][measure] + data[\"M2A-Q09.png\"][measure] \n",
    "M2AG = data[\"M2A-Q10.png\"][measure] +data[\"M2A-Q11.png\"][measure] +data[\"M2A-Q12.png\"][measure]\n",
    "M2BL = data[\"M2B-Q07.png\"][measure] + data[\"M2B-Q08.png\"][measure] + data[\"M2B-Q09.png\"][measure] \n",
    "M2BG = data[\"M2B-Q10.png\"][measure] +data[\"M2B-Q11.png\"][measure] +data[\"M2B-Q12.png\"][measure]\n",
    "M3AL = data[\"M3A-Q13.png\"][measure] + data[\"M3A-Q14.png\"][measure] + data[\"M3A-Q15.png\"][measure] \n",
    "M3AG = data[\"M3A-Q16.png\"][measure] +data[\"M3A-Q17.png\"][measure] +data[\"M3A-Q18.png\"][measure]\n",
    "M3BL = data[\"M3B-Q13.png\"][measure] + data[\"M3B-Q14.png\"][measure] + data[\"M3B-Q15.png\"][measure] \n",
    "M3BG = data[\"M3B-Q16.png\"][measure] +data[\"M3B-Q17.png\"][measure] +data[\"M3B-Q18.png\"][measure]\n",
    "M4AL = data[\"M4A-Q19.png\"][measure] + data[\"M4A-Q20.png\"][measure] + data[\"M4A-Q24.png\"][measure] \n",
    "M4AG = data[\"M4A-Q22.png\"][measure] +data[\"M4A-Q23.png\"][measure] +data[\"M4A-Q21.png\"][measure]\n",
    "M4BL = data[\"M4B-Q19.png\"][measure] + data[\"M4B-Q20.png\"][measure] + data[\"M4B-Q24.png\"][measure] \n",
    "M4BG = data[\"M4B-Q22.png\"][measure] +data[\"M4B-Q23.png\"][measure] +data[\"M4B-Q21.png\"][measure]\n",
    "\n",
    "messyDirectionGlobal = M1BG + M3AG\n",
    "nonMessyDirectionGlobal = M1AG + M3BG\n",
    "messyDirectionLocal = M1BL + M3AL\n",
    "nonMessyDirectionLocal = M1AL + M3BL\n",
    "messyVisibilityGlobal = M2AG + M4BG\n",
    "nonMessyVisibilityGlobal = M2BG + M4AG\n",
    "messyVisibilityLocal = M2AL + M4BL\n",
    "nonMessyVisibilityLocal = M2BL + M4AL\n",
    "print len(messyDirectionGlobal)\n",
    "print measure + \"\\t\\t|Mean\\t\\t|Std. error\\t|Standard deviation\"\n",
    "print \"Messy direction global \\t\\t|\" + str(np.mean(messyDirectionGlobal)) + \"\\t|\" + str(stats.sem(messyDirectionGlobal)) + \"\\t|\" + str(np.std(messyDirectionGlobal)) + \"\\t\" + str(min(messyDirectionGlobal)) + \"\\t\" + str(max(messyDirectionGlobal))\n",
    "print \"Non messy direction global \\t|\" + str(np.mean(nonMessyDirectionGlobal)) + \"\\t|\" + str(stats.sem(nonMessyDirectionGlobal)) + \"\\t|\" + str(np.std(nonMessyDirectionGlobal)) + \"\\t\" + str(min(nonMessyDirectionGlobal)) + \"\\t\" + str(max(nonMessyDirectionGlobal))\n",
    "print \"Messy direction local \\t\\t|\" + str(np.mean(messyDirectionLocal)) + \"\\t|\" + str(stats.sem(messyDirectionLocal)) + \"\\t|\" + str(np.std(messyDirectionLocal)) + \"\\t\" + str(min(messyDirectionLocal)) + \"\\t\" + str(max(messyDirectionLocal))\n",
    "print \"Non messy direction local \\t|\" + str(np.mean(nonMessyDirectionLocal)) + \"\\t|\" + str(stats.sem(nonMessyDirectionLocal)) + \"\\t|\" + str(np.std(nonMessyDirectionLocal)) + \"\\t\" + str(min(nonMessyDirectionLocal)) + \"\\t\" + str(max(nonMessyDirectionLocal))\n",
    "print \"Messy visibility global \\t|\" + str(np.mean(messyVisibilityGlobal)) + \"\\t|\" + str(stats.sem(messyVisibilityGlobal)) + \"\\t|\" + str(np.std(messyVisibilityGlobal)) + \"\\t\" + str(min(messyVisibilityGlobal)) + \"\\t\" + str(max(messyVisibilityGlobal))\n",
    "print \"Non messy visibility global \\t|\" + str(np.mean(nonMessyVisibilityGlobal)) + \"\\t|\" + str(stats.sem(nonMessyVisibilityGlobal)) + \"\\t|\" + str(np.std(nonMessyVisibilityGlobal)) + \"\\t\" + str(min(nonMessyVisibilityGlobal)) + \"\\t\" + str(max(nonMessyVisibilityGlobal))\n",
    "print \"Messy visibility local \\t\\t|\" + str(np.mean(messyVisibilityLocal)) + \"\\t|\" + str(stats.sem(messyVisibilityLocal)) + \"\\t|\" + str(np.std(messyVisibilityLocal)) + \"\\t\" + str(min(messyVisibilityLocal)) + \"\\t\" + str(max(messyVisibilityLocal))\n",
    "print \"Non messy visibility local \\t|\" + str(np.mean(nonMessyVisibilityLocal)) + \"\\t|\" + str(stats.sem(nonMessyVisibilityLocal)) + \"\\t|\" + str(np.std(nonMessyVisibilityLocal)) + \"\\t\" + str(min(nonMessyVisibilityLocal)) + \"\\t\" + str(max(nonMessyVisibilityLocal))"
   ]
  },
  {
   "cell_type": "code",
   "execution_count": 101,
   "metadata": {},
   "outputs": [
    {
     "name": "stdout",
     "output_type": "stream",
     "text": [
      "39\n",
      "fixationDuration\t\t|Mean\t\t|Std. error\t|Standard deviation\n",
      "Messy direction global \t\t|5.85660028061\t|0.520415576208\t|3.20805706534\t1.68221495327\t15.531326087\n",
      "Non messy direction global \t|6.50338898171\t|0.69086770101\t|4.2587945303\t1.32891304348\t15.7563125\n",
      "Messy direction local \t\t|9.88326759108\t|1.42645839605\t|8.79328011124\t0.604255952381\t29.6464444444\n",
      "Non messy direction local \t|9.64555245514\t|1.75488947514\t|10.8178652542\t0.765142857143\t52.8528888889\n",
      "Messy visibility global \t|9.27072473755\t|1.05711281454\t|6.51648103667\t2.1864125\t32.60612\n",
      "Non messy visibility global \t|11.2766932342\t|0.902504545286\t|5.5634116567\t4.18637662338\t28.1388\n",
      "Messy visibility local \t\t|12.650552596\t|1.54765411626\t|9.54038070601\t3.66365625\t43.7795714286\n",
      "Non messy visibility local \t|17.647160811\t|1.26211769178\t|7.78021597258\t5.68232692308\t37.6933529412\n"
     ]
    }
   ],
   "source": [
    "measure = \"fixationDuration\"\n",
    "M1AL = data[\"M1A-Q01.png\"][measure] + data[\"M1A-Q02.png\"][measure] + data[\"M1A-Q03.png\"][measure] \n",
    "M1AG = data[\"M1A-Q04.png\"][measure] +data[\"M1A-Q05.png\"][measure] +data[\"M1A-Q06.png\"][measure]\n",
    "M1BL = data[\"M1B-Q01.png\"][measure] + data[\"M1B-Q02.png\"][measure] + data[\"M1B-Q03.png\"][measure] \n",
    "M1BG = data[\"M1B-Q04.png\"][measure] +data[\"M1B-Q05.png\"][measure] +data[\"M1B-Q06.png\"][measure]\n",
    "M2AL = data[\"M2A-Q07.png\"][measure] + data[\"M2A-Q08.png\"][measure] + data[\"M2A-Q09.png\"][measure] \n",
    "M2AG = data[\"M2A-Q10.png\"][measure] +data[\"M2A-Q11.png\"][measure] +data[\"M2A-Q12.png\"][measure]\n",
    "M2BL = data[\"M2B-Q07.png\"][measure] + data[\"M2B-Q08.png\"][measure] + data[\"M2B-Q09.png\"][measure] \n",
    "M2BG = data[\"M2B-Q10.png\"][measure] +data[\"M2B-Q11.png\"][measure] +data[\"M2B-Q12.png\"][measure]\n",
    "M3AL = data[\"M3A-Q13.png\"][measure] + data[\"M3A-Q14.png\"][measure] + data[\"M3A-Q15.png\"][measure] \n",
    "M3AG = data[\"M3A-Q16.png\"][measure] +data[\"M3A-Q17.png\"][measure] +data[\"M3A-Q18.png\"][measure]\n",
    "M3BL = data[\"M3B-Q13.png\"][measure] + data[\"M3B-Q14.png\"][measure] + data[\"M3B-Q15.png\"][measure] \n",
    "M3BG = data[\"M3B-Q16.png\"][measure] +data[\"M3B-Q17.png\"][measure] +data[\"M3B-Q18.png\"][measure]\n",
    "M4AL = data[\"M4A-Q19.png\"][measure] + data[\"M4A-Q20.png\"][measure] + data[\"M4A-Q24.png\"][measure] \n",
    "M4AG = data[\"M4A-Q22.png\"][measure] +data[\"M4A-Q23.png\"][measure] +data[\"M4A-Q21.png\"][measure]\n",
    "M4BL = data[\"M4B-Q19.png\"][measure] + data[\"M4B-Q20.png\"][measure] + data[\"M4B-Q24.png\"][measure] \n",
    "M4BG = data[\"M4B-Q22.png\"][measure] +data[\"M4B-Q23.png\"][measure] +data[\"M4B-Q21.png\"][measure]\n",
    "\n",
    "messyDirectionGlobal = M1BG + M3AG\n",
    "nonMessyDirectionGlobal = M1AG + M3BG\n",
    "messyDirectionLocal = M1BL + M3AL\n",
    "nonMessyDirectionLocal = M1AL + M3BL\n",
    "messyVisibilityGlobal = M2AG + M4BG\n",
    "nonMessyVisibilityGlobal = M2BG + M4AG\n",
    "messyVisibilityLocal = M2AL + M4BL\n",
    "nonMessyVisibilityLocal = M2BL + M4AL\n",
    "print len(messyDirectionGlobal)\n",
    "print measure + \"\\t\\t|Mean\\t\\t|Std. error\\t|Standard deviation\"\n",
    "print \"Messy direction global \\t\\t|\" + str(np.mean(messyDirectionGlobal)) + \"\\t|\" + str(stats.sem(messyDirectionGlobal)) + \"\\t|\" + str(np.std(messyDirectionGlobal)) + \"\\t\" + str(min(messyDirectionGlobal)) + \"\\t\" + str(max(messyDirectionGlobal))\n",
    "print \"Non messy direction global \\t|\" + str(np.mean(nonMessyDirectionGlobal)) + \"\\t|\" + str(stats.sem(nonMessyDirectionGlobal)) + \"\\t|\" + str(np.std(nonMessyDirectionGlobal)) + \"\\t\" + str(min(nonMessyDirectionGlobal)) + \"\\t\" + str(max(nonMessyDirectionGlobal))\n",
    "print \"Messy direction local \\t\\t|\" + str(np.mean(messyDirectionLocal)) + \"\\t|\" + str(stats.sem(messyDirectionLocal)) + \"\\t|\" + str(np.std(messyDirectionLocal)) + \"\\t\" + str(min(messyDirectionLocal)) + \"\\t\" + str(max(messyDirectionLocal))\n",
    "print \"Non messy direction local \\t|\" + str(np.mean(nonMessyDirectionLocal)) + \"\\t|\" + str(stats.sem(nonMessyDirectionLocal)) + \"\\t|\" + str(np.std(nonMessyDirectionLocal)) + \"\\t\" + str(min(nonMessyDirectionLocal)) + \"\\t\" + str(max(nonMessyDirectionLocal))\n",
    "print \"Messy visibility global \\t|\" + str(np.mean(messyVisibilityGlobal)) + \"\\t|\" + str(stats.sem(messyVisibilityGlobal)) + \"\\t|\" + str(np.std(messyVisibilityGlobal)) + \"\\t\" + str(min(messyVisibilityGlobal)) + \"\\t\" + str(max(messyVisibilityGlobal))\n",
    "print \"Non messy visibility global \\t|\" + str(np.mean(nonMessyVisibilityGlobal)) + \"\\t|\" + str(stats.sem(nonMessyVisibilityGlobal)) + \"\\t|\" + str(np.std(nonMessyVisibilityGlobal)) + \"\\t\" + str(min(nonMessyVisibilityGlobal)) + \"\\t\" + str(max(nonMessyVisibilityGlobal))\n",
    "print \"Messy visibility local \\t\\t|\" + str(np.mean(messyVisibilityLocal)) + \"\\t|\" + str(stats.sem(messyVisibilityLocal)) + \"\\t|\" + str(np.std(messyVisibilityLocal)) + \"\\t\" + str(min(messyVisibilityLocal)) + \"\\t\" + str(max(messyVisibilityLocal))\n",
    "print \"Non messy visibility local \\t|\" + str(np.mean(nonMessyVisibilityLocal)) + \"\\t|\" + str(stats.sem(nonMessyVisibilityLocal)) + \"\\t|\" + str(np.std(nonMessyVisibilityLocal)) + \"\\t\" + str(min(nonMessyVisibilityLocal)) + \"\\t\" + str(max(nonMessyVisibilityLocal))"
   ]
  },
  {
   "cell_type": "code",
   "execution_count": 109,
   "metadata": {},
   "outputs": [
    {
     "name": "stdout",
     "output_type": "stream",
     "text": [
      "39\n",
      "saccadeVelocityList\t\t|Mean\t\t|Std. error\t|Standard deviation\n",
      "Messy direction global \t\t|4.77088711064\t|0.169558523577\t|1.04522893706\t3.16331081081\t7.97909090909\n",
      "Non messy direction global \t|4.97983802922\t|0.221241379321\t|1.36382345672\t2.54871794872\t9.0555952381\n",
      "Messy direction local \t\t|4.16315445653\t|0.204478376963\t|1.26048937025\t1.84045454545\t6.87466666667\n",
      "Non messy direction local \t|4.49971980374\t|0.200876900514\t|1.2382883784\t1.70230769231\t7.31032786885\n",
      "Messy visibility global \t|3.54151474551\t|0.130897657592\t|0.806907353414\t2.06419354839\t5.44625\n",
      "Non messy visibility global \t|3.83466204133\t|0.178292499586\t|1.09906878107\t2.053\t7.24717948718\n",
      "Messy visibility local \t\t|3.16981601596\t|0.143044095015\t|0.881783022354\t1.69205128205\t5.41119402985\n",
      "Non messy visibility local \t|3.61867592102\t|0.166949443122\t|1.02914548497\t1.58277777778\t5.82442307692\n"
     ]
    }
   ],
   "source": [
    "measure = \"saccadeVelocityList\"\n",
    "M1AL = data[\"M1A-Q01.png\"][measure] + data[\"M1A-Q02.png\"][measure] + data[\"M1A-Q03.png\"][measure] \n",
    "M1AG = data[\"M1A-Q04.png\"][measure] +data[\"M1A-Q05.png\"][measure] +data[\"M1A-Q06.png\"][measure]\n",
    "M1BL = data[\"M1B-Q01.png\"][measure] + data[\"M1B-Q02.png\"][measure] + data[\"M1B-Q03.png\"][measure] \n",
    "M1BG = data[\"M1B-Q04.png\"][measure] +data[\"M1B-Q05.png\"][measure] +data[\"M1B-Q06.png\"][measure]\n",
    "M2AL = data[\"M2A-Q07.png\"][measure] + data[\"M2A-Q08.png\"][measure] + data[\"M2A-Q09.png\"][measure] \n",
    "M2AG = data[\"M2A-Q10.png\"][measure] +data[\"M2A-Q11.png\"][measure] +data[\"M2A-Q12.png\"][measure]\n",
    "M2BL = data[\"M2B-Q07.png\"][measure] + data[\"M2B-Q08.png\"][measure] + data[\"M2B-Q09.png\"][measure] \n",
    "M2BG = data[\"M2B-Q10.png\"][measure] +data[\"M2B-Q11.png\"][measure] +data[\"M2B-Q12.png\"][measure]\n",
    "M3AL = data[\"M3A-Q13.png\"][measure] + data[\"M3A-Q14.png\"][measure] + data[\"M3A-Q15.png\"][measure] \n",
    "M3AG = data[\"M3A-Q16.png\"][measure] +data[\"M3A-Q17.png\"][measure] +data[\"M3A-Q18.png\"][measure]\n",
    "M3BL = data[\"M3B-Q13.png\"][measure] + data[\"M3B-Q14.png\"][measure] + data[\"M3B-Q15.png\"][measure] \n",
    "M3BG = data[\"M3B-Q16.png\"][measure] +data[\"M3B-Q17.png\"][measure] +data[\"M3B-Q18.png\"][measure]\n",
    "M4AL = data[\"M4A-Q19.png\"][measure] + data[\"M4A-Q20.png\"][measure] + data[\"M4A-Q24.png\"][measure] \n",
    "M4AG = data[\"M4A-Q22.png\"][measure] +data[\"M4A-Q23.png\"][measure] +data[\"M4A-Q21.png\"][measure]\n",
    "M4BL = data[\"M4B-Q19.png\"][measure] + data[\"M4B-Q20.png\"][measure] + data[\"M4B-Q24.png\"][measure] \n",
    "M4BG = data[\"M4B-Q22.png\"][measure] +data[\"M4B-Q23.png\"][measure] +data[\"M4B-Q21.png\"][measure]\n",
    "\n",
    "messyDirectionGlobal = M1BG + M3AG\n",
    "nonMessyDirectionGlobal = M1AG + M3BG\n",
    "messyDirectionLocal = M1BL + M3AL\n",
    "nonMessyDirectionLocal = M1AL + M3BL\n",
    "messyVisibilityGlobal = M2AG + M4BG\n",
    "nonMessyVisibilityGlobal = M2BG + M4AG\n",
    "messyVisibilityLocal = M2AL + M4BL\n",
    "nonMessyVisibilityLocal = M2BL + M4AL\n",
    "\n",
    "print len(messyDirectionGlobal)\n",
    "print measure + \"\\t\\t|Mean\\t\\t|Std. error\\t|Standard deviation\"\n",
    "print \"Messy direction global \\t\\t|\" + str(np.mean(messyDirectionGlobal)) + \"\\t|\" + str(stats.sem(messyDirectionGlobal)) + \"\\t|\" + str(np.std(messyDirectionGlobal)) + \"\\t\" + str(min(messyDirectionGlobal)) + \"\\t\" + str(max(messyDirectionGlobal))\n",
    "print \"Non messy direction global \\t|\" + str(np.mean(nonMessyDirectionGlobal)) + \"\\t|\" + str(stats.sem(nonMessyDirectionGlobal)) + \"\\t|\" + str(np.std(nonMessyDirectionGlobal)) + \"\\t\" + str(min(nonMessyDirectionGlobal)) + \"\\t\" + str(max(nonMessyDirectionGlobal))\n",
    "print \"Messy direction local \\t\\t|\" + str(np.mean(messyDirectionLocal)) + \"\\t|\" + str(stats.sem(messyDirectionLocal)) + \"\\t|\" + str(np.std(messyDirectionLocal)) + \"\\t\" + str(min(messyDirectionLocal)) + \"\\t\" + str(max(messyDirectionLocal))\n",
    "print \"Non messy direction local \\t|\" + str(np.mean(nonMessyDirectionLocal)) + \"\\t|\" + str(stats.sem(nonMessyDirectionLocal)) + \"\\t|\" + str(np.std(nonMessyDirectionLocal)) + \"\\t\" + str(min(nonMessyDirectionLocal)) + \"\\t\" + str(max(nonMessyDirectionLocal))\n",
    "print \"Messy visibility global \\t|\" + str(np.mean(messyVisibilityGlobal)) + \"\\t|\" + str(stats.sem(messyVisibilityGlobal)) + \"\\t|\" + str(np.std(messyVisibilityGlobal)) + \"\\t\" + str(min(messyVisibilityGlobal)) + \"\\t\" + str(max(messyVisibilityGlobal))\n",
    "print \"Non messy visibility global \\t|\" + str(np.mean(nonMessyVisibilityGlobal)) + \"\\t|\" + str(stats.sem(nonMessyVisibilityGlobal)) + \"\\t|\" + str(np.std(nonMessyVisibilityGlobal)) + \"\\t\" + str(min(nonMessyVisibilityGlobal)) + \"\\t\" + str(max(nonMessyVisibilityGlobal))\n",
    "print \"Messy visibility local \\t\\t|\" + str(np.mean(messyVisibilityLocal)) + \"\\t|\" + str(stats.sem(messyVisibilityLocal)) + \"\\t|\" + str(np.std(messyVisibilityLocal)) + \"\\t\" + str(min(messyVisibilityLocal)) + \"\\t\" + str(max(messyVisibilityLocal))\n",
    "print \"Non messy visibility local \\t|\" + str(np.mean(nonMessyVisibilityLocal)) + \"\\t|\" + str(stats.sem(nonMessyVisibilityLocal)) + \"\\t|\" + str(np.std(nonMessyVisibilityLocal)) + \"\\t\" + str(min(nonMessyVisibilityLocal)) + \"\\t\" + str(max(nonMessyVisibilityLocal))"
   ]
  },
  {
   "cell_type": "code",
   "execution_count": 95,
   "metadata": {},
   "outputs": [
    {
     "name": "stdout",
     "output_type": "stream",
     "text": [
      "39\n",
      "amountOfFixations\t\t|Mean\t\t|Std. error\t|Standard deviation\n",
      "Messy direction global \t\t|89.5641025641\t|5.67433729528\t|34.9789642806\t35\t183\n",
      "Non messy direction global \t|73.8205128205\t|4.78708222912\t|29.5095567266\t27\t140\n",
      "Messy direction local \t\t|55.9230769231\t|5.00342455132\t|30.8431803669\t18\t170\n",
      "Non messy direction local \t|50.6666666667\t|5.24543800679\t|32.3350515007\t12\t191\n",
      "Messy visibility global \t|81.641025641\t|6.52943994055\t|40.2501710011\t23\t242\n",
      "Non messy visibility global \t|70.8717948718\t|6.89385294917\t|42.4965636542\t11\t215\n",
      "Messy visibility local \t\t|51.7692307692\t|3.35112556644\t|20.6577253675\t16\t97\n",
      "Non messy visibility local \t|38.1794871795\t|2.57410330413\t|15.8678384531\t14\t92\n"
     ]
    }
   ],
   "source": [
    "measure = \"amountOfFixations\"\n",
    "M1AL = data[\"M1A-Q01.png\"][measure] + data[\"M1A-Q02.png\"][measure] + data[\"M1A-Q03.png\"][measure] \n",
    "M1AG = data[\"M1A-Q04.png\"][measure] +data[\"M1A-Q05.png\"][measure] +data[\"M1A-Q06.png\"][measure]\n",
    "M1BL = data[\"M1B-Q01.png\"][measure] + data[\"M1B-Q02.png\"][measure] + data[\"M1B-Q03.png\"][measure] \n",
    "M1BG = data[\"M1B-Q04.png\"][measure] +data[\"M1B-Q05.png\"][measure] +data[\"M1B-Q06.png\"][measure]\n",
    "M2AL = data[\"M2A-Q07.png\"][measure] + data[\"M2A-Q08.png\"][measure] + data[\"M2A-Q09.png\"][measure] \n",
    "M2AG = data[\"M2A-Q10.png\"][measure] +data[\"M2A-Q11.png\"][measure] +data[\"M2A-Q12.png\"][measure]\n",
    "M2BL = data[\"M2B-Q07.png\"][measure] + data[\"M2B-Q08.png\"][measure] + data[\"M2B-Q09.png\"][measure] \n",
    "M2BG = data[\"M2B-Q10.png\"][measure] +data[\"M2B-Q11.png\"][measure] +data[\"M2B-Q12.png\"][measure]\n",
    "M3AL = data[\"M3A-Q13.png\"][measure] + data[\"M3A-Q14.png\"][measure] + data[\"M3A-Q15.png\"][measure] \n",
    "M3AG = data[\"M3A-Q16.png\"][measure] +data[\"M3A-Q17.png\"][measure] +data[\"M3A-Q18.png\"][measure]\n",
    "M3BL = data[\"M3B-Q13.png\"][measure] + data[\"M3B-Q14.png\"][measure] + data[\"M3B-Q15.png\"][measure] \n",
    "M3BG = data[\"M3B-Q16.png\"][measure] +data[\"M3B-Q17.png\"][measure] +data[\"M3B-Q18.png\"][measure]\n",
    "M4AL = data[\"M4A-Q19.png\"][measure] + data[\"M4A-Q20.png\"][measure] + data[\"M4A-Q24.png\"][measure] \n",
    "M4AG = data[\"M4A-Q22.png\"][measure] +data[\"M4A-Q23.png\"][measure] +data[\"M4A-Q21.png\"][measure]\n",
    "M4BL = data[\"M4B-Q19.png\"][measure] + data[\"M4B-Q20.png\"][measure] + data[\"M4B-Q24.png\"][measure] \n",
    "M4BG = data[\"M4B-Q22.png\"][measure] +data[\"M4B-Q23.png\"][measure] +data[\"M4B-Q21.png\"][measure]\n",
    "\n",
    "messyDirectionGlobal = M1BG + M3AG\n",
    "nonMessyDirectionGlobal = M1AG + M3BG\n",
    "messyDirectionLocal = M1BL + M3AL\n",
    "nonMessyDirectionLocal = M1AL + M3BL\n",
    "messyVisibilityGlobal = M2AG + M4BG\n",
    "nonMessyVisibilityGlobal = M2BG + M4AG\n",
    "messyVisibilityLocal = M2AL + M4BL\n",
    "nonMessyVisibilityLocal = M2BL + M4AL\n",
    "print len(messyDirectionGlobal)\n",
    "print measure + \"\\t\\t|Mean\\t\\t|Std. error\\t|Standard deviation\"\n",
    "print \"Messy direction global \\t\\t|\" + str(np.mean(messyDirectionGlobal)) + \"\\t|\" + str(stats.sem(messyDirectionGlobal)) + \"\\t|\" + str(np.std(messyDirectionGlobal)) + \"\\t\" + str(min(messyDirectionGlobal)) + \"\\t\" + str(max(messyDirectionGlobal))\n",
    "print \"Non messy direction global \\t|\" + str(np.mean(nonMessyDirectionGlobal)) + \"\\t|\" + str(stats.sem(nonMessyDirectionGlobal)) + \"\\t|\" + str(np.std(nonMessyDirectionGlobal)) + \"\\t\" + str(min(nonMessyDirectionGlobal)) + \"\\t\" + str(max(nonMessyDirectionGlobal))\n",
    "print \"Messy direction local \\t\\t|\" + str(np.mean(messyDirectionLocal)) + \"\\t|\" + str(stats.sem(messyDirectionLocal)) + \"\\t|\" + str(np.std(messyDirectionLocal)) + \"\\t\" + str(min(messyDirectionLocal)) + \"\\t\" + str(max(messyDirectionLocal))\n",
    "print \"Non messy direction local \\t|\" + str(np.mean(nonMessyDirectionLocal)) + \"\\t|\" + str(stats.sem(nonMessyDirectionLocal)) + \"\\t|\" + str(np.std(nonMessyDirectionLocal)) + \"\\t\" + str(min(nonMessyDirectionLocal)) + \"\\t\" + str(max(nonMessyDirectionLocal))\n",
    "print \"Messy visibility global \\t|\" + str(np.mean(messyVisibilityGlobal)) + \"\\t|\" + str(stats.sem(messyVisibilityGlobal)) + \"\\t|\" + str(np.std(messyVisibilityGlobal)) + \"\\t\" + str(min(messyVisibilityGlobal)) + \"\\t\" + str(max(messyVisibilityGlobal))\n",
    "print \"Non messy visibility global \\t|\" + str(np.mean(nonMessyVisibilityGlobal)) + \"\\t|\" + str(stats.sem(nonMessyVisibilityGlobal)) + \"\\t|\" + str(np.std(nonMessyVisibilityGlobal)) + \"\\t\" + str(min(nonMessyVisibilityGlobal)) + \"\\t\" + str(max(nonMessyVisibilityGlobal))\n",
    "print \"Messy visibility local \\t\\t|\" + str(np.mean(messyVisibilityLocal)) + \"\\t|\" + str(stats.sem(messyVisibilityLocal)) + \"\\t|\" + str(np.std(messyVisibilityLocal)) + \"\\t\" + str(min(messyVisibilityLocal)) + \"\\t\" + str(max(messyVisibilityLocal))\n",
    "print \"Non messy visibility local \\t|\" + str(np.mean(nonMessyVisibilityLocal)) + \"\\t|\" + str(stats.sem(nonMessyVisibilityLocal)) + \"\\t|\" + str(np.std(nonMessyVisibilityLocal)) + \"\\t\" + str(min(nonMessyVisibilityLocal)) + \"\\t\" + str(max(nonMessyVisibilityLocal))"
   ]
  },
  {
   "cell_type": "code",
   "execution_count": 62,
   "metadata": {},
   "outputs": [
    {
     "name": "stdout",
     "output_type": "stream",
     "text": [
      "[6.109, 6.301, 8.112, 5.649, 5.81, 10.547]\n"
     ]
    }
   ],
   "source": [
    "print data[\"M3B-Q15.png\"][\"duration\"]"
   ]
  },
  {
   "cell_type": "code",
   "execution_count": 63,
   "metadata": {},
   "outputs": [
    {
     "name": "stdout",
     "output_type": "stream",
     "text": [
      "39\n",
      "duration\t|Mean\t\t|Variance\t|Standard deviation\n",
      "Messy direction global \t|37.2066666667\t|178.059151043\t|13.343880659\t9.289\t70.313\n",
      "Non messy direction global \t|31.4074358974\t|168.78818481\t|12.9918507077\t11.246\t64.504\n",
      "Messy direction local \t|20.4787179487\t|121.513776561\t|11.0233287423\t5.162\t54.807\n",
      "Non messy direction local \t|17.6707179487\t|124.921438305\t|11.1768259495\t5.649\t66.829\n",
      "Messy visibility global \t|30.8657179487\t|200.108861023\t|14.1459839185\t10.154\t84.81\n",
      "Non messy visibility global \t|27.1404358974\t|296.350565323\t|17.2148356171\t5.239\t87.542\n",
      "Messy visibility local \t|20.7013846154\t|69.0357339803\t|8.30877451736\t4.983\t40.268\n",
      "Non messy visibility local \t|15.8108974359\t|68.3508212202\t|8.26745554692\t5.793\t43.841\n"
     ]
    }
   ],
   "source": [
    "measure = \"duration\"\n",
    "M1AL = data[\"M1A-Q01.png\"][measure] + data[\"M1A-Q02.png\"][measure] + data[\"M1A-Q03.png\"][measure] \n",
    "M1AG = data[\"M1A-Q04.png\"][measure] +data[\"M1A-Q05.png\"][measure] +data[\"M1A-Q06.png\"][measure]\n",
    "M1BL = data[\"M1B-Q01.png\"][measure] + data[\"M1B-Q02.png\"][measure] + data[\"M1B-Q03.png\"][measure] \n",
    "M1BG = data[\"M1B-Q04.png\"][measure] +data[\"M1B-Q05.png\"][measure] +data[\"M1B-Q06.png\"][measure]\n",
    "M2AL = data[\"M2A-Q07.png\"][measure] + data[\"M2A-Q08.png\"][measure] + data[\"M2A-Q09.png\"][measure] \n",
    "M2AG = data[\"M2A-Q10.png\"][measure] +data[\"M2A-Q11.png\"][measure] +data[\"M2A-Q12.png\"][measure]\n",
    "M2BL = data[\"M2B-Q07.png\"][measure] + data[\"M2B-Q08.png\"][measure] + data[\"M2B-Q09.png\"][measure] \n",
    "M2BG = data[\"M2B-Q10.png\"][measure] +data[\"M2B-Q11.png\"][measure] +data[\"M2B-Q12.png\"][measure]\n",
    "M3AL = data[\"M3A-Q13.png\"][measure] + data[\"M3A-Q14.png\"][measure] + data[\"M3A-Q15.png\"][measure] \n",
    "M3AG = data[\"M3A-Q16.png\"][measure] +data[\"M3A-Q17.png\"][measure] +data[\"M3A-Q18.png\"][measure]\n",
    "M3BL = data[\"M3B-Q13.png\"][measure] + data[\"M3B-Q14.png\"][measure] + data[\"M3B-Q15.png\"][measure] \n",
    "M3BG = data[\"M3B-Q16.png\"][measure] +data[\"M3B-Q17.png\"][measure] +data[\"M3B-Q18.png\"][measure]\n",
    "M4AL = data[\"M4A-Q19.png\"][measure] + data[\"M4A-Q20.png\"][measure] + data[\"M4A-Q24.png\"][measure] \n",
    "M4AG = data[\"M4A-Q22.png\"][measure] +data[\"M4A-Q23.png\"][measure] +data[\"M4A-Q21.png\"][measure]\n",
    "M4BL = data[\"M4B-Q19.png\"][measure] + data[\"M4B-Q20.png\"][measure] + data[\"M4B-Q24.png\"][measure] \n",
    "M4BG = data[\"M4B-Q22.png\"][measure] +data[\"M4B-Q23.png\"][measure] +data[\"M4B-Q21.png\"][measure]\n",
    "\n",
    "messyDirectionGlobal = M1BG + M3AG\n",
    "nonMessyDirectionGlobal = M1AG + M3BG\n",
    "messyDirectionLocal = M1BL + M3AL\n",
    "nonMessyDirectionLocal = M1AL + M3BL\n",
    "messyVisibilityGlobal = M2AG + M4BG\n",
    "nonMessyVisibilityGlobal = M2BG + M4AG\n",
    "messyVisibilityLocal = M2AL + M4BL\n",
    "nonMessyVisibilityLocal = M2BL + M4AL\n",
    "\n",
    "print len(messyDirectionGlobal)\n",
    "print measure + \"\\t|Mean\\t\\t|Variance\\t|Standard deviation\"\n",
    "print \"Messy direction global \\t|\" + str(np.mean(messyDirectionGlobal)) + \"\\t|\" + str(np.var(messyDirectionGlobal)) + \"\\t|\" + str(np.std(messyDirectionGlobal)) + \"\\t\" + str(min(messyDirectionGlobal)) + \"\\t\" + str(max(messyDirectionGlobal))\n",
    "print \"Non messy direction global \\t|\" + str(np.mean(nonMessyDirectionGlobal)) + \"\\t|\" + str(np.var(nonMessyDirectionGlobal)) + \"\\t|\" + str(np.std(nonMessyDirectionGlobal)) + \"\\t\" + str(min(nonMessyDirectionGlobal)) + \"\\t\" + str(max(nonMessyDirectionGlobal))\n",
    "print \"Messy direction local \\t|\" + str(np.mean(messyDirectionLocal)) + \"\\t|\" + str(np.var(messyDirectionLocal)) + \"\\t|\" + str(np.std(messyDirectionLocal)) + \"\\t\" + str(min(messyDirectionLocal)) + \"\\t\" + str(max(messyDirectionLocal))\n",
    "print \"Non messy direction local \\t|\" + str(np.mean(nonMessyDirectionLocal)) + \"\\t|\" + str(np.var(nonMessyDirectionLocal)) + \"\\t|\" + str(np.std(nonMessyDirectionLocal)) + \"\\t\" + str(min(nonMessyDirectionLocal)) + \"\\t\" + str(max(nonMessyDirectionLocal))\n",
    "print \"Messy visibility global \\t|\" + str(np.mean(messyVisibilityGlobal)) + \"\\t|\" + str(np.var(messyVisibilityGlobal)) + \"\\t|\" + str(np.std(messyVisibilityGlobal)) + \"\\t\" + str(min(messyVisibilityGlobal)) + \"\\t\" + str(max(messyVisibilityGlobal))\n",
    "print \"Non messy visibility global \\t|\" + str(np.mean(nonMessyVisibilityGlobal)) + \"\\t|\" + str(np.var(nonMessyVisibilityGlobal)) + \"\\t|\" + str(np.std(nonMessyVisibilityGlobal)) + \"\\t\" + str(min(nonMessyVisibilityGlobal)) + \"\\t\" + str(max(nonMessyVisibilityGlobal))\n",
    "print \"Messy visibility local \\t|\" + str(np.mean(messyVisibilityLocal)) + \"\\t|\" + str(np.var(messyVisibilityLocal)) + \"\\t|\" + str(np.std(messyVisibilityLocal)) + \"\\t\" + str(min(messyVisibilityLocal)) + \"\\t\" + str(max(messyVisibilityLocal))\n",
    "print \"Non messy visibility local \\t|\" + str(np.mean(nonMessyVisibilityLocal)) + \"\\t|\" + str(np.var(nonMessyVisibilityLocal)) + \"\\t|\" + str(np.std(nonMessyVisibilityLocal)) + \"\\t\" + str(min(nonMessyVisibilityLocal)) + \"\\t\" + str(max(nonMessyVisibilityLocal))"
   ]
  },
  {
   "cell_type": "code",
   "execution_count": 64,
   "metadata": {},
   "outputs": [
    {
     "name": "stdout",
     "output_type": "stream",
     "text": [
      "13\n",
      "accuracy\t|Mean\t\t|Variance\t|Standard deviation\n",
      "Messy direction global \t|2.0\t|1.07692307692\t|1.03774904333\t0\t3\n",
      "Non messy direction global \t|2.0\t|0.615384615385\t|0.784464540553\t1\t3\n",
      "Messy direction local \t|2.61538461538\t|0.698224852071\t|0.835598499323\t0\t3\n",
      "Non messy direction local \t|2.38461538462\t|0.544378698225\t|0.737820234356\t1\t3\n",
      "Messy visibility global \t|2.15384615385\t|0.591715976331\t|0.769230769231\t1\t3\n",
      "Non messy visibility global \t|2.15384615385\t|0.591715976331\t|0.769230769231\t1\t3\n",
      "Messy visibility local \t|2.92307692308\t|0.0710059171598\t|0.266469355011\t2\t3\n",
      "Non messy visibility local \t|2.69230769231\t|0.366863905325\t|0.605692913386\t1\t3\n"
     ]
    }
   ],
   "source": [
    "measure = \"accuracy\"\n",
    "M1AL = []\n",
    "for index in xrange(len(data[\"M1A-Q01.png\"][measure])):\n",
    "    M1AL.append(data[\"M1A-Q01.png\"][measure][index]+data[\"M1A-Q02.png\"][measure][index]+data[\"M1A-Q03.png\"][measure][index])\n",
    "M1AG = []\n",
    "for index in xrange(len(data[\"M1A-Q04.png\"][measure])):\n",
    "    M1AG.append(data[\"M1A-Q04.png\"][measure][index]+data[\"M1A-Q05.png\"][measure][index]+data[\"M1A-Q06.png\"][measure][index])\n",
    "M1BL = []\n",
    "for index in xrange(len(data[\"M1B-Q01.png\"][measure])):\n",
    "    M1BL.append(data[\"M1B-Q01.png\"][measure][index]+data[\"M1B-Q02.png\"][measure][index]+data[\"M1B-Q03.png\"][measure][index])\n",
    "M1BG = []\n",
    "for index in xrange(len(data[\"M1B-Q04.png\"][measure])):\n",
    "    M1BG.append(data[\"M1B-Q04.png\"][measure][index]+data[\"M1B-Q05.png\"][measure][index]+data[\"M1B-Q06.png\"][measure][index])\n",
    "M2AL = []\n",
    "for index in xrange(len(data[\"M2A-Q07.png\"][measure])):\n",
    "    M2AL.append(data[\"M2A-Q07.png\"][measure][index]+data[\"M2A-Q08.png\"][measure][index]+data[\"M2A-Q09.png\"][measure][index])\n",
    "M2AG = []\n",
    "for index in xrange(len(data[\"M2A-Q10.png\"][measure])):\n",
    "    M2AG.append(data[\"M2A-Q10.png\"][measure][index]+data[\"M2A-Q11.png\"][measure][index]+data[\"M2A-Q12.png\"][measure][index])\n",
    "M2BL = []\n",
    "for index in xrange(len(data[\"M2B-Q07.png\"][measure])):\n",
    "    M2BL.append(data[\"M2B-Q07.png\"][measure][index]+data[\"M2B-Q08.png\"][measure][index]+data[\"M2B-Q09.png\"][measure][index])\n",
    "M2BG = []\n",
    "for index in xrange(len(data[\"M2B-Q10.png\"][measure])):\n",
    "    M2BG.append(data[\"M2B-Q10.png\"][measure][index]+data[\"M2B-Q11.png\"][measure][index]+data[\"M2B-Q12.png\"][measure][index])\n",
    "M3AL = []\n",
    "for index in xrange(len(data[\"M3A-Q13.png\"][measure])):\n",
    "    M3AL.append(data[\"M3A-Q13.png\"][measure][index]+data[\"M3A-Q14.png\"][measure][index]+data[\"M3A-Q15.png\"][measure][index])\n",
    "M3AG = []\n",
    "for index in xrange(len(data[\"M3A-Q16.png\"][measure])):\n",
    "    M3AG.append(data[\"M3A-Q16.png\"][measure][index]+data[\"M3A-Q17.png\"][measure][index]+data[\"M3A-Q18.png\"][measure][index])\n",
    "M3BL = []\n",
    "for index in xrange(len(data[\"M3B-Q13.png\"][measure])):\n",
    "    M3BL.append(data[\"M3B-Q13.png\"][measure][index]+data[\"M3B-Q14.png\"][measure][index]+data[\"M3B-Q15.png\"][measure][index])\n",
    "M3BG = []\n",
    "for index in xrange(len(data[\"M3B-Q16.png\"][measure])):\n",
    "    M3BG.append(data[\"M3B-Q16.png\"][measure][index]+data[\"M3B-Q17.png\"][measure][index]+data[\"M3B-Q18.png\"][measure][index])\n",
    "M4AL = []\n",
    "for index in xrange(len(data[\"M4A-Q19.png\"][measure])):\n",
    "    M4AL.append(data[\"M4A-Q19.png\"][measure][index]+data[\"M4A-Q20.png\"][measure][index]+data[\"M4A-Q24.png\"][measure][index])\n",
    "M4AG = []\n",
    "for index in xrange(len(data[\"M4A-Q22.png\"][measure])):\n",
    "    M4AG.append(data[\"M4A-Q22.png\"][measure][index]+data[\"M4A-Q23.png\"][measure][index]+data[\"M4A-Q21.png\"][measure][index])\n",
    "M4BL = []\n",
    "for index in xrange(len(data[\"M4B-Q19.png\"][measure])):\n",
    "    M4BL.append(data[\"M4B-Q19.png\"][measure][index]+data[\"M4B-Q20.png\"][measure][index]+data[\"M4B-Q24.png\"][measure][index])\n",
    "M4BG = []\n",
    "for index in xrange(len(data[\"M4B-Q22.png\"][measure])):\n",
    "    M4BG.append(data[\"M4B-Q22.png\"][measure][index]+data[\"M4B-Q23.png\"][measure][index]+data[\"M4B-Q21.png\"][measure][index])\n",
    "\n",
    "messyDirectionGlobal = M1BG + M3AG\n",
    "nonMessyDirectionGlobal = M1AG + M3BG\n",
    "messyDirectionLocal = M1BL + M3AL\n",
    "nonMessyDirectionLocal = M1AL + M3BL\n",
    "messyVisibilityGlobal = M2AG + M4BG\n",
    "nonMessyVisibilityGlobal = M2BG + M4AG\n",
    "messyVisibilityLocal = M2AL + M4BL\n",
    "nonMessyVisibilityLocal = M2BL + M4AL\n",
    "print len(messyDirectionGlobal)\n",
    "print measure + \"\\t|Mean\\t\\t|Variance\\t|Standard deviation\"\n",
    "print \"Messy direction global \\t|\" + str(np.mean(messyDirectionGlobal)) + \"\\t|\" + str(np.var(messyDirectionGlobal)) + \"\\t|\" + str(np.std(messyDirectionGlobal)) + \"\\t\" + str(min(messyDirectionGlobal)) + \"\\t\" + str(max(messyDirectionGlobal))\n",
    "print \"Non messy direction global \\t|\" + str(np.mean(nonMessyDirectionGlobal)) + \"\\t|\" + str(np.var(nonMessyDirectionGlobal)) + \"\\t|\" + str(np.std(nonMessyDirectionGlobal)) + \"\\t\" + str(min(nonMessyDirectionGlobal)) + \"\\t\" + str(max(nonMessyDirectionGlobal))\n",
    "print \"Messy direction local \\t|\" + str(np.mean(messyDirectionLocal)) + \"\\t|\" + str(np.var(messyDirectionLocal)) + \"\\t|\" + str(np.std(messyDirectionLocal)) + \"\\t\" + str(min(messyDirectionLocal)) + \"\\t\" + str(max(messyDirectionLocal))\n",
    "print \"Non messy direction local \\t|\" + str(np.mean(nonMessyDirectionLocal)) + \"\\t|\" + str(np.var(nonMessyDirectionLocal)) + \"\\t|\" + str(np.std(nonMessyDirectionLocal)) + \"\\t\" + str(min(nonMessyDirectionLocal)) + \"\\t\" + str(max(nonMessyDirectionLocal))\n",
    "print \"Messy visibility global \\t|\" + str(np.mean(messyVisibilityGlobal)) + \"\\t|\" + str(np.var(messyVisibilityGlobal)) + \"\\t|\" + str(np.std(messyVisibilityGlobal)) + \"\\t\" + str(min(messyVisibilityGlobal)) + \"\\t\" + str(max(messyVisibilityGlobal))\n",
    "print \"Non messy visibility global \\t|\" + str(np.mean(nonMessyVisibilityGlobal)) + \"\\t|\" + str(np.var(nonMessyVisibilityGlobal)) + \"\\t|\" + str(np.std(nonMessyVisibilityGlobal)) + \"\\t\" + str(min(nonMessyVisibilityGlobal)) + \"\\t\" + str(max(nonMessyVisibilityGlobal))\n",
    "print \"Messy visibility local \\t|\" + str(np.mean(messyVisibilityLocal)) + \"\\t|\" + str(np.var(messyVisibilityLocal)) + \"\\t|\" + str(np.std(messyVisibilityLocal)) + \"\\t\" + str(min(messyVisibilityLocal)) + \"\\t\" + str(max(messyVisibilityLocal))\n",
    "print \"Non messy visibility local \\t|\" + str(np.mean(nonMessyVisibilityLocal)) + \"\\t|\" + str(np.var(nonMessyVisibilityLocal)) + \"\\t|\" + str(np.std(nonMessyVisibilityLocal)) + \"\\t\" + str(min(nonMessyVisibilityLocal)) + \"\\t\" + str(max(nonMessyVisibilityLocal))"
   ]
  },
  {
   "cell_type": "code",
   "execution_count": 65,
   "metadata": {},
   "outputs": [
    {
     "ename": "KeyError",
     "evalue": "'pupilDilationDiff'",
     "output_type": "error",
     "traceback": [
      "\u001b[1;31m\u001b[0m",
      "\u001b[1;31mKeyError\u001b[0mTraceback (most recent call last)",
      "\u001b[1;32m<ipython-input-65-594945c72316>\u001b[0m in \u001b[0;36m<module>\u001b[1;34m()\u001b[0m\n\u001b[0;32m      1\u001b[0m \u001b[0mmeasure\u001b[0m \u001b[1;33m=\u001b[0m \u001b[1;34m\"pupilDilationDiff\"\u001b[0m\u001b[1;33m\u001b[0m\u001b[0m\n\u001b[1;32m----> 2\u001b[1;33m \u001b[0mM1AL\u001b[0m \u001b[1;33m=\u001b[0m \u001b[0mdata\u001b[0m\u001b[1;33m[\u001b[0m\u001b[1;34m\"M1A-Q01.png\"\u001b[0m\u001b[1;33m]\u001b[0m\u001b[1;33m[\u001b[0m\u001b[0mmeasure\u001b[0m\u001b[1;33m]\u001b[0m \u001b[1;33m+\u001b[0m \u001b[0mdata\u001b[0m\u001b[1;33m[\u001b[0m\u001b[1;34m\"M1A-Q02.png\"\u001b[0m\u001b[1;33m]\u001b[0m\u001b[1;33m[\u001b[0m\u001b[0mmeasure\u001b[0m\u001b[1;33m]\u001b[0m \u001b[1;33m+\u001b[0m \u001b[0mdata\u001b[0m\u001b[1;33m[\u001b[0m\u001b[1;34m\"M1A-Q03.png\"\u001b[0m\u001b[1;33m]\u001b[0m\u001b[1;33m[\u001b[0m\u001b[0mmeasure\u001b[0m\u001b[1;33m]\u001b[0m\u001b[1;33m\u001b[0m\u001b[0m\n\u001b[0m\u001b[0;32m      3\u001b[0m \u001b[0mM1AG\u001b[0m \u001b[1;33m=\u001b[0m \u001b[0mdata\u001b[0m\u001b[1;33m[\u001b[0m\u001b[1;34m\"M1A-Q04.png\"\u001b[0m\u001b[1;33m]\u001b[0m\u001b[1;33m[\u001b[0m\u001b[0mmeasure\u001b[0m\u001b[1;33m]\u001b[0m \u001b[1;33m+\u001b[0m\u001b[0mdata\u001b[0m\u001b[1;33m[\u001b[0m\u001b[1;34m\"M1A-Q05.png\"\u001b[0m\u001b[1;33m]\u001b[0m\u001b[1;33m[\u001b[0m\u001b[0mmeasure\u001b[0m\u001b[1;33m]\u001b[0m \u001b[1;33m+\u001b[0m\u001b[0mdata\u001b[0m\u001b[1;33m[\u001b[0m\u001b[1;34m\"M1A-Q06.png\"\u001b[0m\u001b[1;33m]\u001b[0m\u001b[1;33m[\u001b[0m\u001b[0mmeasure\u001b[0m\u001b[1;33m]\u001b[0m\u001b[1;33m\u001b[0m\u001b[0m\n\u001b[0;32m      4\u001b[0m \u001b[0mM1BL\u001b[0m \u001b[1;33m=\u001b[0m \u001b[0mdata\u001b[0m\u001b[1;33m[\u001b[0m\u001b[1;34m\"M1B-Q01.png\"\u001b[0m\u001b[1;33m]\u001b[0m\u001b[1;33m[\u001b[0m\u001b[0mmeasure\u001b[0m\u001b[1;33m]\u001b[0m \u001b[1;33m+\u001b[0m \u001b[0mdata\u001b[0m\u001b[1;33m[\u001b[0m\u001b[1;34m\"M1B-Q02.png\"\u001b[0m\u001b[1;33m]\u001b[0m\u001b[1;33m[\u001b[0m\u001b[0mmeasure\u001b[0m\u001b[1;33m]\u001b[0m \u001b[1;33m+\u001b[0m \u001b[0mdata\u001b[0m\u001b[1;33m[\u001b[0m\u001b[1;34m\"M1B-Q03.png\"\u001b[0m\u001b[1;33m]\u001b[0m\u001b[1;33m[\u001b[0m\u001b[0mmeasure\u001b[0m\u001b[1;33m]\u001b[0m\u001b[1;33m\u001b[0m\u001b[0m\n\u001b[0;32m      5\u001b[0m \u001b[0mM1BG\u001b[0m \u001b[1;33m=\u001b[0m \u001b[0mdata\u001b[0m\u001b[1;33m[\u001b[0m\u001b[1;34m\"M1B-Q04.png\"\u001b[0m\u001b[1;33m]\u001b[0m\u001b[1;33m[\u001b[0m\u001b[0mmeasure\u001b[0m\u001b[1;33m]\u001b[0m \u001b[1;33m+\u001b[0m\u001b[0mdata\u001b[0m\u001b[1;33m[\u001b[0m\u001b[1;34m\"M1B-Q05.png\"\u001b[0m\u001b[1;33m]\u001b[0m\u001b[1;33m[\u001b[0m\u001b[0mmeasure\u001b[0m\u001b[1;33m]\u001b[0m \u001b[1;33m+\u001b[0m\u001b[0mdata\u001b[0m\u001b[1;33m[\u001b[0m\u001b[1;34m\"M1B-Q06.png\"\u001b[0m\u001b[1;33m]\u001b[0m\u001b[1;33m[\u001b[0m\u001b[0mmeasure\u001b[0m\u001b[1;33m]\u001b[0m\u001b[1;33m\u001b[0m\u001b[0m\n",
      "\u001b[1;31mKeyError\u001b[0m: 'pupilDilationDiff'"
     ]
    }
   ],
   "source": [
    "measure = \"pupilDilationDiff\"\n",
    "M1AL = data[\"M1A-Q01.png\"][measure] + data[\"M1A-Q02.png\"][measure] + data[\"M1A-Q03.png\"][measure] \n",
    "M1AG = data[\"M1A-Q04.png\"][measure] +data[\"M1A-Q05.png\"][measure] +data[\"M1A-Q06.png\"][measure]\n",
    "M1BL = data[\"M1B-Q01.png\"][measure] + data[\"M1B-Q02.png\"][measure] + data[\"M1B-Q03.png\"][measure] \n",
    "M1BG = data[\"M1B-Q04.png\"][measure] +data[\"M1B-Q05.png\"][measure] +data[\"M1B-Q06.png\"][measure]\n",
    "M2AL = data[\"M2A-Q07.png\"][measure] + data[\"M2A-Q08.png\"][measure] + data[\"M2A-Q09.png\"][measure] \n",
    "M2AG = data[\"M2A-Q10.png\"][measure] +data[\"M2A-Q11.png\"][measure] +data[\"M2A-Q12.png\"][measure]\n",
    "M2BL = data[\"M2B-Q07.png\"][measure] + data[\"M2B-Q08.png\"][measure] + data[\"M2B-Q09.png\"][measure] \n",
    "M2BG = data[\"M2B-Q10.png\"][measure] +data[\"M2B-Q11.png\"][measure] +data[\"M2B-Q12.png\"][measure]\n",
    "M3AL = data[\"M3A-Q13.png\"][measure] + data[\"M3A-Q14.png\"][measure] + data[\"M3A-Q15.png\"][measure] \n",
    "M3AG = data[\"M3A-Q16.png\"][measure] +data[\"M3A-Q17.png\"][measure] +data[\"M3A-Q18.png\"][measure]\n",
    "M3BL = data[\"M3B-Q13.png\"][measure] + data[\"M3B-Q14.png\"][measure] + data[\"M3B-Q15.png\"][measure] \n",
    "M3BG = data[\"M3B-Q16.png\"][measure] +data[\"M3B-Q17.png\"][measure] +data[\"M3B-Q18.png\"][measure]\n",
    "M4AL = data[\"M4A-Q19.png\"][measure] + data[\"M4A-Q20.png\"][measure] + data[\"M4A-Q24.png\"][measure] \n",
    "M4AG = data[\"M4A-Q22.png\"][measure] +data[\"M4A-Q23.png\"][measure] +data[\"M4A-Q21.png\"][measure]\n",
    "M4BL = data[\"M4B-Q19.png\"][measure] + data[\"M4B-Q20.png\"][measure] + data[\"M4B-Q24.png\"][measure] \n",
    "M4BG = data[\"M4B-Q22.png\"][measure] +data[\"M4B-Q23.png\"][measure] +data[\"M4B-Q21.png\"][measure]\n",
    "\n",
    "messyDirectionGlobal = M1BG + M3AG\n",
    "nonMessyDirectionGlobal = M1AG + M3BG\n",
    "messyDirectionLocal = M1BL + M3AL\n",
    "nonMessyDirectionLocal = M1AL + M3BL\n",
    "messyVisibilityGlobal = M2AG + M4BG\n",
    "nonMessyVisibilityGlobal = M2BG + M4AG\n",
    "messyVisibilityLocal = M2AL + M4BL\n",
    "nonMessyVisibilityLocal = M2BL + M4AL\n",
    "print len(messyDirectionGlobal)\n",
    "print measure + \"\\t|Mean\\t\\t|Variance\\t|Standard deviation\"\n",
    "print \"Messy direction global \\t|\" + str(np.mean(messyDirectionGlobal)) + \"\\t|\" + str(np.var(messyDirectionGlobal)) + \"\\t|\" + str(np.std(messyDirectionGlobal)) + \"\\t\" + str(min(messyDirectionGlobal)) + \"\\t\" + str(max(messyDirectionGlobal))\n",
    "print \"Non messy direction global \\t|\" + str(np.mean(nonMessyDirectionGlobal)) + \"\\t|\" + str(np.var(nonMessyDirectionGlobal)) + \"\\t|\" + str(np.std(nonMessyDirectionGlobal)) + \"\\t\" + str(min(nonMessyDirectionGlobal)) + \"\\t\" + str(max(nonMessyDirectionGlobal))\n",
    "print \"Messy direction local \\t|\" + str(np.mean(messyDirectionLocal)) + \"\\t|\" + str(np.var(messyDirectionLocal)) + \"\\t|\" + str(np.std(messyDirectionLocal)) + \"\\t\" + str(min(messyDirectionLocal)) + \"\\t\" + str(max(messyDirectionLocal))\n",
    "print \"Non messy direction local \\t|\" + str(np.mean(nonMessyDirectionLocal)) + \"\\t|\" + str(np.var(nonMessyDirectionLocal)) + \"\\t|\" + str(np.std(nonMessyDirectionLocal)) + \"\\t\" + str(min(nonMessyDirectionLocal)) + \"\\t\" + str(max(nonMessyDirectionLocal))\n",
    "print \"Messy visibility global \\t|\" + str(np.mean(messyVisibilityGlobal)) + \"\\t|\" + str(np.var(messyVisibilityGlobal)) + \"\\t|\" + str(np.std(messyVisibilityGlobal)) + \"\\t\" + str(min(messyVisibilityGlobal)) + \"\\t\" + str(max(messyVisibilityGlobal))\n",
    "print \"Non messy visibility global \\t|\" + str(np.mean(nonMessyVisibilityGlobal)) + \"\\t|\" + str(np.var(nonMessyVisibilityGlobal)) + \"\\t|\" + str(np.std(nonMessyVisibilityGlobal)) + \"\\t\" + str(min(nonMessyVisibilityGlobal)) + \"\\t\" + str(max(nonMessyVisibilityGlobal))\n",
    "print \"Messy visibility local \\t|\" + str(np.mean(messyVisibilityLocal)) + \"\\t|\" + str(np.var(messyVisibilityLocal)) + \"\\t|\" + str(np.std(messyVisibilityLocal)) + \"\\t\" + str(min(messyVisibilityLocal)) + \"\\t\" + str(max(messyVisibilityLocal))\n",
    "print \"Non messy visibility local \\t|\" + str(np.mean(nonMessyVisibilityLocal)) + \"\\t|\" + str(np.var(nonMessyVisibilityLocal)) + \"\\t|\" + str(np.std(nonMessyVisibilityLocal)) + \"\\t\" + str(min(nonMessyVisibilityLocal)) + \"\\t\" + str(max(nonMessyVisibilityLocal))"
   ]
  },
  {
   "cell_type": "code",
   "execution_count": 106,
   "metadata": {},
   "outputs": [
    {
     "name": "stdout",
     "output_type": "stream",
     "text": [
      "39\n",
      "fixationPrecision\t\t|Mean\t\t|Std. error\t|Standard deviation\n",
      "Messy direction global \t\t|65.0189941861\t|3.05134880284\t|18.8097772881\t25.3968253968\t94.3181818182\n",
      "Non messy direction global \t|65.5004530617\t|3.81277917526\t|23.5035493382\t9.25925925926\t96.0526315789\n",
      "Messy direction local \t\t|51.5027832108\t|2.94636258602\t|18.1625987831\t12.1212121212\t91.1764705882\n",
      "Non messy direction local \t|46.5459758493\t|3.17151300548\t|19.5505191816\t4.7619047619\t82.9268292683\n",
      "Messy visibility global \t|48.1527612944\t|3.26903729023\t|20.1516992481\t6.25\t82.905982906\n",
      "Non messy visibility global \t|41.0998362322\t|2.83789624691\t|17.4939673634\t2.32558139535\t72.0\n",
      "Messy visibility local \t\t|57.116252055\t|3.85425376217\t|23.7592158625\t1.49253731343\t96.6666666667\n",
      "Non messy visibility local \t|44.0353613048\t|3.64392623819\t|22.4626699285\t2.0\t85.9649122807\n"
     ]
    }
   ],
   "source": [
    "measure = \"fixationPrecision\"\n",
    "M1AL = data[\"M1A-Q01.png\"][measure] + data[\"M1A-Q02.png\"][measure] + data[\"M1A-Q03.png\"][measure] \n",
    "M1AG = data[\"M1A-Q04.png\"][measure] +data[\"M1A-Q05.png\"][measure] +data[\"M1A-Q06.png\"][measure]\n",
    "M1BL = data[\"M1B-Q01.png\"][measure] + data[\"M1B-Q02.png\"][measure] + data[\"M1B-Q03.png\"][measure] \n",
    "M1BG = data[\"M1B-Q04.png\"][measure] +data[\"M1B-Q05.png\"][measure] +data[\"M1B-Q06.png\"][measure]\n",
    "M2AL = data[\"M2A-Q07.png\"][measure] + data[\"M2A-Q08.png\"][measure] + data[\"M2A-Q09.png\"][measure] \n",
    "M2AG = data[\"M2A-Q10.png\"][measure] +data[\"M2A-Q11.png\"][measure] +data[\"M2A-Q12.png\"][measure]\n",
    "M2BL = data[\"M2B-Q07.png\"][measure] + data[\"M2B-Q08.png\"][measure] + data[\"M2B-Q09.png\"][measure] \n",
    "M2BG = data[\"M2B-Q10.png\"][measure] +data[\"M2B-Q11.png\"][measure] +data[\"M2B-Q12.png\"][measure]\n",
    "M3AL = data[\"M3A-Q13.png\"][measure] + data[\"M3A-Q14.png\"][measure] + data[\"M3A-Q15.png\"][measure] \n",
    "M3AG = data[\"M3A-Q16.png\"][measure] +data[\"M3A-Q17.png\"][measure] +data[\"M3A-Q18.png\"][measure]\n",
    "M3BL = data[\"M3B-Q13.png\"][measure] + data[\"M3B-Q14.png\"][measure] + data[\"M3B-Q15.png\"][measure] \n",
    "M3BG = data[\"M3B-Q16.png\"][measure] +data[\"M3B-Q17.png\"][measure] +data[\"M3B-Q18.png\"][measure]\n",
    "M4AL = data[\"M4A-Q19.png\"][measure] + data[\"M4A-Q20.png\"][measure] + data[\"M4A-Q24.png\"][measure] \n",
    "M4AG = data[\"M4A-Q22.png\"][measure] +data[\"M4A-Q23.png\"][measure] +data[\"M4A-Q21.png\"][measure]\n",
    "M4BL = data[\"M4B-Q19.png\"][measure] + data[\"M4B-Q20.png\"][measure] + data[\"M4B-Q24.png\"][measure] \n",
    "M4BG = data[\"M4B-Q22.png\"][measure] +data[\"M4B-Q23.png\"][measure] +data[\"M4B-Q21.png\"][measure]\n",
    "\n",
    "messyDirectionGlobal = M1BG + M3AG\n",
    "nonMessyDirectionGlobal = M1AG + M3BG\n",
    "messyDirectionLocal = M1BL + M3AL\n",
    "nonMessyDirectionLocal = M1AL + M3BL\n",
    "messyVisibilityGlobal = M2AG + M4BG\n",
    "nonMessyVisibilityGlobal = M2BG + M4AG\n",
    "messyVisibilityLocal = M2AL + M4BL\n",
    "nonMessyVisibilityLocal = M2BL + M4AL\n",
    "print len(messyDirectionGlobal)\n",
    "print measure + \"\\t\\t|Mean\\t\\t|Std. error\\t|Standard deviation\"\n",
    "print \"Messy direction global \\t\\t|\" + str(np.mean(messyDirectionGlobal)) + \"\\t|\" + str(stats.sem(messyDirectionGlobal)) + \"\\t|\" + str(np.std(messyDirectionGlobal)) + \"\\t\" + str(min(messyDirectionGlobal)) + \"\\t\" + str(max(messyDirectionGlobal))\n",
    "print \"Non messy direction global \\t|\" + str(np.mean(nonMessyDirectionGlobal)) + \"\\t|\" + str(stats.sem(nonMessyDirectionGlobal)) + \"\\t|\" + str(np.std(nonMessyDirectionGlobal)) + \"\\t\" + str(min(nonMessyDirectionGlobal)) + \"\\t\" + str(max(nonMessyDirectionGlobal))\n",
    "print \"Messy direction local \\t\\t|\" + str(np.mean(messyDirectionLocal)) + \"\\t|\" + str(stats.sem(messyDirectionLocal)) + \"\\t|\" + str(np.std(messyDirectionLocal)) + \"\\t\" + str(min(messyDirectionLocal)) + \"\\t\" + str(max(messyDirectionLocal))\n",
    "print \"Non messy direction local \\t|\" + str(np.mean(nonMessyDirectionLocal)) + \"\\t|\" + str(stats.sem(nonMessyDirectionLocal)) + \"\\t|\" + str(np.std(nonMessyDirectionLocal)) + \"\\t\" + str(min(nonMessyDirectionLocal)) + \"\\t\" + str(max(nonMessyDirectionLocal))\n",
    "print \"Messy visibility global \\t|\" + str(np.mean(messyVisibilityGlobal)) + \"\\t|\" + str(stats.sem(messyVisibilityGlobal)) + \"\\t|\" + str(np.std(messyVisibilityGlobal)) + \"\\t\" + str(min(messyVisibilityGlobal)) + \"\\t\" + str(max(messyVisibilityGlobal))\n",
    "print \"Non messy visibility global \\t|\" + str(np.mean(nonMessyVisibilityGlobal)) + \"\\t|\" + str(stats.sem(nonMessyVisibilityGlobal)) + \"\\t|\" + str(np.std(nonMessyVisibilityGlobal)) + \"\\t\" + str(min(nonMessyVisibilityGlobal)) + \"\\t\" + str(max(nonMessyVisibilityGlobal))\n",
    "print \"Messy visibility local \\t\\t|\" + str(np.mean(messyVisibilityLocal)) + \"\\t|\" + str(stats.sem(messyVisibilityLocal)) + \"\\t|\" + str(np.std(messyVisibilityLocal)) + \"\\t\" + str(min(messyVisibilityLocal)) + \"\\t\" + str(max(messyVisibilityLocal))\n",
    "print \"Non messy visibility local \\t|\" + str(np.mean(nonMessyVisibilityLocal)) + \"\\t|\" + str(stats.sem(nonMessyVisibilityLocal)) + \"\\t|\" + str(np.std(nonMessyVisibilityLocal)) + \"\\t\" + str(min(nonMessyVisibilityLocal)) + \"\\t\" + str(max(nonMessyVisibilityLocal))"
   ]
  },
  {
   "cell_type": "code",
   "execution_count": 67,
   "metadata": {
    "collapsed": true
   },
   "outputs": [],
   "source": [
    "measureList = [\"amountOfFixations\", \"fixationsPerSecond\", \"fixationDuration\", \"saccadeVelocityList\", \"fixationPrecision\", \"pupilDilationDiff\"]"
   ]
  },
  {
   "cell_type": "code",
   "execution_count": 68,
   "metadata": {},
   "outputs": [
    {
     "name": "stdout",
     "output_type": "stream",
     "text": [
      "amountOfFixations\t0.932\t78\t0.000\tNo\n",
      "fixationsPerSecond\t0.984\t78\t0.442\tYes\n",
      "fixationDuration\t0.846\t78\t0.000\tNo\n",
      "saccadeVelocityList\t0.989\t78\t0.728\tYes\n",
      "fixationPrecision\t0.973\t78\t0.092\tYes\n"
     ]
    },
    {
     "ename": "KeyError",
     "evalue": "'pupilDilationDiff'",
     "output_type": "error",
     "traceback": [
      "\u001b[1;31m\u001b[0m",
      "\u001b[1;31mKeyError\u001b[0mTraceback (most recent call last)",
      "\u001b[1;32m<ipython-input-68-90af40715fdc>\u001b[0m in \u001b[0;36m<module>\u001b[1;34m()\u001b[0m\n\u001b[0;32m      5\u001b[0m \u001b[1;32mfor\u001b[0m \u001b[0mmeasurement\u001b[0m \u001b[1;32min\u001b[0m \u001b[0mmeasureList\u001b[0m\u001b[1;33m:\u001b[0m\u001b[1;33m\u001b[0m\u001b[0m\n\u001b[0;32m      6\u001b[0m     \u001b[0mmeasure\u001b[0m \u001b[1;33m=\u001b[0m \u001b[0mmeasurement\u001b[0m\u001b[1;33m\u001b[0m\u001b[0m\n\u001b[1;32m----> 7\u001b[1;33m     \u001b[0mM1A\u001b[0m \u001b[1;33m=\u001b[0m \u001b[0mdata\u001b[0m\u001b[1;33m[\u001b[0m\u001b[1;34m\"M1A-Q01.png\"\u001b[0m\u001b[1;33m]\u001b[0m\u001b[1;33m[\u001b[0m\u001b[0mmeasure\u001b[0m\u001b[1;33m]\u001b[0m \u001b[1;33m+\u001b[0m \u001b[0mdata\u001b[0m\u001b[1;33m[\u001b[0m\u001b[1;34m\"M1A-Q02.png\"\u001b[0m\u001b[1;33m]\u001b[0m\u001b[1;33m[\u001b[0m\u001b[0mmeasure\u001b[0m\u001b[1;33m]\u001b[0m \u001b[1;33m+\u001b[0m \u001b[0mdata\u001b[0m\u001b[1;33m[\u001b[0m\u001b[1;34m\"M1A-Q03.png\"\u001b[0m\u001b[1;33m]\u001b[0m\u001b[1;33m[\u001b[0m\u001b[0mmeasure\u001b[0m\u001b[1;33m]\u001b[0m \u001b[1;33m+\u001b[0m\u001b[0mdata\u001b[0m\u001b[1;33m[\u001b[0m\u001b[1;34m\"M1A-Q04.png\"\u001b[0m\u001b[1;33m]\u001b[0m\u001b[1;33m[\u001b[0m\u001b[0mmeasure\u001b[0m\u001b[1;33m]\u001b[0m \u001b[1;33m+\u001b[0m\u001b[0mdata\u001b[0m\u001b[1;33m[\u001b[0m\u001b[1;34m\"M1A-Q05.png\"\u001b[0m\u001b[1;33m]\u001b[0m\u001b[1;33m[\u001b[0m\u001b[0mmeasure\u001b[0m\u001b[1;33m]\u001b[0m \u001b[1;33m+\u001b[0m\u001b[0mdata\u001b[0m\u001b[1;33m[\u001b[0m\u001b[1;34m\"M1A-Q06.png\"\u001b[0m\u001b[1;33m]\u001b[0m\u001b[1;33m[\u001b[0m\u001b[0mmeasure\u001b[0m\u001b[1;33m]\u001b[0m\u001b[1;33m\u001b[0m\u001b[0m\n\u001b[0m\u001b[0;32m      8\u001b[0m     \u001b[0mM1B\u001b[0m \u001b[1;33m=\u001b[0m \u001b[0mdata\u001b[0m\u001b[1;33m[\u001b[0m\u001b[1;34m\"M1B-Q01.png\"\u001b[0m\u001b[1;33m]\u001b[0m\u001b[1;33m[\u001b[0m\u001b[0mmeasure\u001b[0m\u001b[1;33m]\u001b[0m \u001b[1;33m+\u001b[0m \u001b[0mdata\u001b[0m\u001b[1;33m[\u001b[0m\u001b[1;34m\"M1B-Q02.png\"\u001b[0m\u001b[1;33m]\u001b[0m\u001b[1;33m[\u001b[0m\u001b[0mmeasure\u001b[0m\u001b[1;33m]\u001b[0m \u001b[1;33m+\u001b[0m \u001b[0mdata\u001b[0m\u001b[1;33m[\u001b[0m\u001b[1;34m\"M1B-Q03.png\"\u001b[0m\u001b[1;33m]\u001b[0m\u001b[1;33m[\u001b[0m\u001b[0mmeasure\u001b[0m\u001b[1;33m]\u001b[0m \u001b[1;33m+\u001b[0m\u001b[0mdata\u001b[0m\u001b[1;33m[\u001b[0m\u001b[1;34m\"M1B-Q04.png\"\u001b[0m\u001b[1;33m]\u001b[0m\u001b[1;33m[\u001b[0m\u001b[0mmeasure\u001b[0m\u001b[1;33m]\u001b[0m \u001b[1;33m+\u001b[0m\u001b[0mdata\u001b[0m\u001b[1;33m[\u001b[0m\u001b[1;34m\"M1B-Q05.png\"\u001b[0m\u001b[1;33m]\u001b[0m\u001b[1;33m[\u001b[0m\u001b[0mmeasure\u001b[0m\u001b[1;33m]\u001b[0m \u001b[1;33m+\u001b[0m\u001b[0mdata\u001b[0m\u001b[1;33m[\u001b[0m\u001b[1;34m\"M1B-Q06.png\"\u001b[0m\u001b[1;33m]\u001b[0m\u001b[1;33m[\u001b[0m\u001b[0mmeasure\u001b[0m\u001b[1;33m]\u001b[0m\u001b[1;33m\u001b[0m\u001b[0m\n\u001b[0;32m      9\u001b[0m     \u001b[0mM2A\u001b[0m \u001b[1;33m=\u001b[0m \u001b[0mdata\u001b[0m\u001b[1;33m[\u001b[0m\u001b[1;34m\"M2A-Q07.png\"\u001b[0m\u001b[1;33m]\u001b[0m\u001b[1;33m[\u001b[0m\u001b[0mmeasure\u001b[0m\u001b[1;33m]\u001b[0m \u001b[1;33m+\u001b[0m \u001b[0mdata\u001b[0m\u001b[1;33m[\u001b[0m\u001b[1;34m\"M2A-Q08.png\"\u001b[0m\u001b[1;33m]\u001b[0m\u001b[1;33m[\u001b[0m\u001b[0mmeasure\u001b[0m\u001b[1;33m]\u001b[0m \u001b[1;33m+\u001b[0m \u001b[0mdata\u001b[0m\u001b[1;33m[\u001b[0m\u001b[1;34m\"M2A-Q09.png\"\u001b[0m\u001b[1;33m]\u001b[0m\u001b[1;33m[\u001b[0m\u001b[0mmeasure\u001b[0m\u001b[1;33m]\u001b[0m \u001b[1;33m+\u001b[0m\u001b[0mdata\u001b[0m\u001b[1;33m[\u001b[0m\u001b[1;34m\"M2A-Q10.png\"\u001b[0m\u001b[1;33m]\u001b[0m\u001b[1;33m[\u001b[0m\u001b[0mmeasure\u001b[0m\u001b[1;33m]\u001b[0m \u001b[1;33m+\u001b[0m\u001b[0mdata\u001b[0m\u001b[1;33m[\u001b[0m\u001b[1;34m\"M2A-Q11.png\"\u001b[0m\u001b[1;33m]\u001b[0m\u001b[1;33m[\u001b[0m\u001b[0mmeasure\u001b[0m\u001b[1;33m]\u001b[0m \u001b[1;33m+\u001b[0m\u001b[0mdata\u001b[0m\u001b[1;33m[\u001b[0m\u001b[1;34m\"M2A-Q12.png\"\u001b[0m\u001b[1;33m]\u001b[0m\u001b[1;33m[\u001b[0m\u001b[0mmeasure\u001b[0m\u001b[1;33m]\u001b[0m\u001b[1;33m\u001b[0m\u001b[0m\n",
      "\u001b[1;31mKeyError\u001b[0m: 'pupilDilationDiff'"
     ]
    }
   ],
   "source": [
    "#high change of direction\n",
    "#measure = \"fixationsPerSecond\"\n",
    "#fixationsPerSecond = M1B + M3A\n",
    "\n",
    "for measurement in measureList:\n",
    "    measure = measurement\n",
    "    M1A = data[\"M1A-Q01.png\"][measure] + data[\"M1A-Q02.png\"][measure] + data[\"M1A-Q03.png\"][measure] +data[\"M1A-Q04.png\"][measure] +data[\"M1A-Q05.png\"][measure] +data[\"M1A-Q06.png\"][measure]\n",
    "    M1B = data[\"M1B-Q01.png\"][measure] + data[\"M1B-Q02.png\"][measure] + data[\"M1B-Q03.png\"][measure] +data[\"M1B-Q04.png\"][measure] +data[\"M1B-Q05.png\"][measure] +data[\"M1B-Q06.png\"][measure]\n",
    "    M2A = data[\"M2A-Q07.png\"][measure] + data[\"M2A-Q08.png\"][measure] + data[\"M2A-Q09.png\"][measure] +data[\"M2A-Q10.png\"][measure] +data[\"M2A-Q11.png\"][measure] +data[\"M2A-Q12.png\"][measure]\n",
    "    M2B = data[\"M2B-Q07.png\"][measure] + data[\"M2B-Q08.png\"][measure] + data[\"M2B-Q09.png\"][measure] +data[\"M2B-Q10.png\"][measure] +data[\"M2B-Q11.png\"][measure] +data[\"M2B-Q12.png\"][measure]\n",
    "    M3A = data[\"M3A-Q13.png\"][measure] + data[\"M3A-Q14.png\"][measure] + data[\"M3A-Q15.png\"][measure] +data[\"M3A-Q16.png\"][measure] +data[\"M3A-Q17.png\"][measure] +data[\"M3A-Q18.png\"][measure]\n",
    "    M3B = data[\"M3B-Q13.png\"][measure] + data[\"M3B-Q14.png\"][measure] + data[\"M3B-Q15.png\"][measure] +data[\"M3B-Q16.png\"][measure] +data[\"M3B-Q17.png\"][measure] +data[\"M3B-Q18.png\"][measure]\n",
    "    M4A = data[\"M4A-Q19.png\"][measure] + data[\"M4A-Q20.png\"][measure] + data[\"M4A-Q21.png\"][measure] +data[\"M4A-Q22.png\"][measure] +data[\"M4A-Q23.png\"][measure] +data[\"M4A-Q24.png\"][measure]\n",
    "    M4B = data[\"M4B-Q19.png\"][measure] + data[\"M4B-Q20.png\"][measure] + data[\"M4B-Q21.png\"][measure] +data[\"M4B-Q22.png\"][measure] +data[\"M4B-Q23.png\"][measure] +data[\"M4B-Q24.png\"][measure]\n",
    "\n",
    "    collectedLists = M1B+M3A\n",
    "    statistic, pval = stats.shapiro(collectedLists)\n",
    "    verdict = \"\"\n",
    "    if(pval < 0.055):\n",
    "        verdict = \"No\"\n",
    "    else:\n",
    "        verdict = \"Yes\"\n",
    "    \n",
    "    print measure + \"\\t\" + \"%.3f\" % (statistic,) + \"\\t\" + str(len(collectedLists)) + \"\\t\" + \"%0.3f\" % (pval,) + \"\\t\" + verdict"
   ]
  },
  {
   "cell_type": "code",
   "execution_count": 69,
   "metadata": {},
   "outputs": [
    {
     "name": "stdout",
     "output_type": "stream",
     "text": [
      "amountOfFixations\t0.926\t78\t0.000\tNo\n",
      "fixationsPerSecond\t0.989\t78\t0.773\tYes\n",
      "fixationDuration\t0.745\t78\t0.000\tNo\n",
      "saccadeVelocityList\t0.980\t78\t0.249\tYes\n",
      "fixationPrecision\t0.969\t78\t0.054\tNo\n"
     ]
    },
    {
     "ename": "KeyError",
     "evalue": "'pupilDilationDiff'",
     "output_type": "error",
     "traceback": [
      "\u001b[1;31m\u001b[0m",
      "\u001b[1;31mKeyError\u001b[0mTraceback (most recent call last)",
      "\u001b[1;32m<ipython-input-69-a26b0fc92559>\u001b[0m in \u001b[0;36m<module>\u001b[1;34m()\u001b[0m\n\u001b[0;32m      5\u001b[0m \u001b[1;32mfor\u001b[0m \u001b[0mmeasurement\u001b[0m \u001b[1;32min\u001b[0m \u001b[0mmeasureList\u001b[0m\u001b[1;33m:\u001b[0m\u001b[1;33m\u001b[0m\u001b[0m\n\u001b[0;32m      6\u001b[0m     \u001b[0mmeasure\u001b[0m \u001b[1;33m=\u001b[0m \u001b[0mmeasurement\u001b[0m\u001b[1;33m\u001b[0m\u001b[0m\n\u001b[1;32m----> 7\u001b[1;33m     \u001b[0mM1A\u001b[0m \u001b[1;33m=\u001b[0m \u001b[0mdata\u001b[0m\u001b[1;33m[\u001b[0m\u001b[1;34m\"M1A-Q01.png\"\u001b[0m\u001b[1;33m]\u001b[0m\u001b[1;33m[\u001b[0m\u001b[0mmeasure\u001b[0m\u001b[1;33m]\u001b[0m \u001b[1;33m+\u001b[0m \u001b[0mdata\u001b[0m\u001b[1;33m[\u001b[0m\u001b[1;34m\"M1A-Q02.png\"\u001b[0m\u001b[1;33m]\u001b[0m\u001b[1;33m[\u001b[0m\u001b[0mmeasure\u001b[0m\u001b[1;33m]\u001b[0m \u001b[1;33m+\u001b[0m \u001b[0mdata\u001b[0m\u001b[1;33m[\u001b[0m\u001b[1;34m\"M1A-Q03.png\"\u001b[0m\u001b[1;33m]\u001b[0m\u001b[1;33m[\u001b[0m\u001b[0mmeasure\u001b[0m\u001b[1;33m]\u001b[0m \u001b[1;33m+\u001b[0m\u001b[0mdata\u001b[0m\u001b[1;33m[\u001b[0m\u001b[1;34m\"M1A-Q04.png\"\u001b[0m\u001b[1;33m]\u001b[0m\u001b[1;33m[\u001b[0m\u001b[0mmeasure\u001b[0m\u001b[1;33m]\u001b[0m \u001b[1;33m+\u001b[0m\u001b[0mdata\u001b[0m\u001b[1;33m[\u001b[0m\u001b[1;34m\"M1A-Q05.png\"\u001b[0m\u001b[1;33m]\u001b[0m\u001b[1;33m[\u001b[0m\u001b[0mmeasure\u001b[0m\u001b[1;33m]\u001b[0m \u001b[1;33m+\u001b[0m\u001b[0mdata\u001b[0m\u001b[1;33m[\u001b[0m\u001b[1;34m\"M1A-Q06.png\"\u001b[0m\u001b[1;33m]\u001b[0m\u001b[1;33m[\u001b[0m\u001b[0mmeasure\u001b[0m\u001b[1;33m]\u001b[0m\u001b[1;33m\u001b[0m\u001b[0m\n\u001b[0m\u001b[0;32m      8\u001b[0m     \u001b[0mM1B\u001b[0m \u001b[1;33m=\u001b[0m \u001b[0mdata\u001b[0m\u001b[1;33m[\u001b[0m\u001b[1;34m\"M1B-Q01.png\"\u001b[0m\u001b[1;33m]\u001b[0m\u001b[1;33m[\u001b[0m\u001b[0mmeasure\u001b[0m\u001b[1;33m]\u001b[0m \u001b[1;33m+\u001b[0m \u001b[0mdata\u001b[0m\u001b[1;33m[\u001b[0m\u001b[1;34m\"M1B-Q02.png\"\u001b[0m\u001b[1;33m]\u001b[0m\u001b[1;33m[\u001b[0m\u001b[0mmeasure\u001b[0m\u001b[1;33m]\u001b[0m \u001b[1;33m+\u001b[0m \u001b[0mdata\u001b[0m\u001b[1;33m[\u001b[0m\u001b[1;34m\"M1B-Q03.png\"\u001b[0m\u001b[1;33m]\u001b[0m\u001b[1;33m[\u001b[0m\u001b[0mmeasure\u001b[0m\u001b[1;33m]\u001b[0m \u001b[1;33m+\u001b[0m\u001b[0mdata\u001b[0m\u001b[1;33m[\u001b[0m\u001b[1;34m\"M1B-Q04.png\"\u001b[0m\u001b[1;33m]\u001b[0m\u001b[1;33m[\u001b[0m\u001b[0mmeasure\u001b[0m\u001b[1;33m]\u001b[0m \u001b[1;33m+\u001b[0m\u001b[0mdata\u001b[0m\u001b[1;33m[\u001b[0m\u001b[1;34m\"M1B-Q05.png\"\u001b[0m\u001b[1;33m]\u001b[0m\u001b[1;33m[\u001b[0m\u001b[0mmeasure\u001b[0m\u001b[1;33m]\u001b[0m \u001b[1;33m+\u001b[0m\u001b[0mdata\u001b[0m\u001b[1;33m[\u001b[0m\u001b[1;34m\"M1B-Q06.png\"\u001b[0m\u001b[1;33m]\u001b[0m\u001b[1;33m[\u001b[0m\u001b[0mmeasure\u001b[0m\u001b[1;33m]\u001b[0m\u001b[1;33m\u001b[0m\u001b[0m\n\u001b[0;32m      9\u001b[0m     \u001b[0mM2A\u001b[0m \u001b[1;33m=\u001b[0m \u001b[0mdata\u001b[0m\u001b[1;33m[\u001b[0m\u001b[1;34m\"M2A-Q07.png\"\u001b[0m\u001b[1;33m]\u001b[0m\u001b[1;33m[\u001b[0m\u001b[0mmeasure\u001b[0m\u001b[1;33m]\u001b[0m \u001b[1;33m+\u001b[0m \u001b[0mdata\u001b[0m\u001b[1;33m[\u001b[0m\u001b[1;34m\"M2A-Q08.png\"\u001b[0m\u001b[1;33m]\u001b[0m\u001b[1;33m[\u001b[0m\u001b[0mmeasure\u001b[0m\u001b[1;33m]\u001b[0m \u001b[1;33m+\u001b[0m \u001b[0mdata\u001b[0m\u001b[1;33m[\u001b[0m\u001b[1;34m\"M2A-Q09.png\"\u001b[0m\u001b[1;33m]\u001b[0m\u001b[1;33m[\u001b[0m\u001b[0mmeasure\u001b[0m\u001b[1;33m]\u001b[0m \u001b[1;33m+\u001b[0m\u001b[0mdata\u001b[0m\u001b[1;33m[\u001b[0m\u001b[1;34m\"M2A-Q10.png\"\u001b[0m\u001b[1;33m]\u001b[0m\u001b[1;33m[\u001b[0m\u001b[0mmeasure\u001b[0m\u001b[1;33m]\u001b[0m \u001b[1;33m+\u001b[0m\u001b[0mdata\u001b[0m\u001b[1;33m[\u001b[0m\u001b[1;34m\"M2A-Q11.png\"\u001b[0m\u001b[1;33m]\u001b[0m\u001b[1;33m[\u001b[0m\u001b[0mmeasure\u001b[0m\u001b[1;33m]\u001b[0m \u001b[1;33m+\u001b[0m\u001b[0mdata\u001b[0m\u001b[1;33m[\u001b[0m\u001b[1;34m\"M2A-Q12.png\"\u001b[0m\u001b[1;33m]\u001b[0m\u001b[1;33m[\u001b[0m\u001b[0mmeasure\u001b[0m\u001b[1;33m]\u001b[0m\u001b[1;33m\u001b[0m\u001b[0m\n",
      "\u001b[1;31mKeyError\u001b[0m: 'pupilDilationDiff'"
     ]
    }
   ],
   "source": [
    "#low change of direction\n",
    "#measure = \"fixationsPerSecond\"\n",
    "#fixationsPerSecond = M1B + M3A\n",
    "\n",
    "for measurement in measureList:\n",
    "    measure = measurement\n",
    "    M1A = data[\"M1A-Q01.png\"][measure] + data[\"M1A-Q02.png\"][measure] + data[\"M1A-Q03.png\"][measure] +data[\"M1A-Q04.png\"][measure] +data[\"M1A-Q05.png\"][measure] +data[\"M1A-Q06.png\"][measure]\n",
    "    M1B = data[\"M1B-Q01.png\"][measure] + data[\"M1B-Q02.png\"][measure] + data[\"M1B-Q03.png\"][measure] +data[\"M1B-Q04.png\"][measure] +data[\"M1B-Q05.png\"][measure] +data[\"M1B-Q06.png\"][measure]\n",
    "    M2A = data[\"M2A-Q07.png\"][measure] + data[\"M2A-Q08.png\"][measure] + data[\"M2A-Q09.png\"][measure] +data[\"M2A-Q10.png\"][measure] +data[\"M2A-Q11.png\"][measure] +data[\"M2A-Q12.png\"][measure]\n",
    "    M2B = data[\"M2B-Q07.png\"][measure] + data[\"M2B-Q08.png\"][measure] + data[\"M2B-Q09.png\"][measure] +data[\"M2B-Q10.png\"][measure] +data[\"M2B-Q11.png\"][measure] +data[\"M2B-Q12.png\"][measure]\n",
    "    M3A = data[\"M3A-Q13.png\"][measure] + data[\"M3A-Q14.png\"][measure] + data[\"M3A-Q15.png\"][measure] +data[\"M3A-Q16.png\"][measure] +data[\"M3A-Q17.png\"][measure] +data[\"M3A-Q18.png\"][measure]\n",
    "    M3B = data[\"M3B-Q13.png\"][measure] + data[\"M3B-Q14.png\"][measure] + data[\"M3B-Q15.png\"][measure] +data[\"M3B-Q16.png\"][measure] +data[\"M3B-Q17.png\"][measure] +data[\"M3B-Q18.png\"][measure]\n",
    "    M4A = data[\"M4A-Q19.png\"][measure] + data[\"M4A-Q20.png\"][measure] + data[\"M4A-Q21.png\"][measure] +data[\"M4A-Q22.png\"][measure] +data[\"M4A-Q23.png\"][measure] +data[\"M4A-Q24.png\"][measure]\n",
    "    M4B = data[\"M4B-Q19.png\"][measure] + data[\"M4B-Q20.png\"][measure] + data[\"M4B-Q21.png\"][measure] +data[\"M4B-Q22.png\"][measure] +data[\"M4B-Q23.png\"][measure] +data[\"M4B-Q24.png\"][measure]\n",
    "\n",
    "    collectedLists = M1A + M3B\n",
    "    statistic, pval = stats.shapiro(collectedLists)\n",
    "    verdict = \"\"\n",
    "    if(pval < 0.055):\n",
    "        verdict = \"No\"\n",
    "    else:\n",
    "        verdict = \"Yes\"\n",
    "    \n",
    "    print measure + \"\\t\" + \"%.3f\" % (statistic,) + \"\\t\" + str(len(collectedLists)) + \"\\t\" + \"%0.3f\" % (pval,) + \"\\t\" + verdict"
   ]
  },
  {
   "cell_type": "code",
   "execution_count": 70,
   "metadata": {},
   "outputs": [
    {
     "name": "stdout",
     "output_type": "stream",
     "text": [
      "amountOfFixations\t0.885\t78\t0.000\tNo\n",
      "fixationsPerSecond\t0.989\t78\t0.719\tYes\n",
      "fixationDuration\t0.752\t78\t0.000\tNo\n",
      "saccadeVelocityList\t0.985\t78\t0.471\tYes\n",
      "fixationPrecision\t0.973\t78\t0.103\tYes\n"
     ]
    },
    {
     "ename": "KeyError",
     "evalue": "'pupilDilationDiff'",
     "output_type": "error",
     "traceback": [
      "\u001b[1;31m\u001b[0m",
      "\u001b[1;31mKeyError\u001b[0mTraceback (most recent call last)",
      "\u001b[1;32m<ipython-input-70-465f37fa1330>\u001b[0m in \u001b[0;36m<module>\u001b[1;34m()\u001b[0m\n\u001b[0;32m      5\u001b[0m \u001b[1;32mfor\u001b[0m \u001b[0mmeasurement\u001b[0m \u001b[1;32min\u001b[0m \u001b[0mmeasureList\u001b[0m\u001b[1;33m:\u001b[0m\u001b[1;33m\u001b[0m\u001b[0m\n\u001b[0;32m      6\u001b[0m     \u001b[0mmeasure\u001b[0m \u001b[1;33m=\u001b[0m \u001b[0mmeasurement\u001b[0m\u001b[1;33m\u001b[0m\u001b[0m\n\u001b[1;32m----> 7\u001b[1;33m     \u001b[0mM1A\u001b[0m \u001b[1;33m=\u001b[0m \u001b[0mdata\u001b[0m\u001b[1;33m[\u001b[0m\u001b[1;34m\"M1A-Q01.png\"\u001b[0m\u001b[1;33m]\u001b[0m\u001b[1;33m[\u001b[0m\u001b[0mmeasure\u001b[0m\u001b[1;33m]\u001b[0m \u001b[1;33m+\u001b[0m \u001b[0mdata\u001b[0m\u001b[1;33m[\u001b[0m\u001b[1;34m\"M1A-Q02.png\"\u001b[0m\u001b[1;33m]\u001b[0m\u001b[1;33m[\u001b[0m\u001b[0mmeasure\u001b[0m\u001b[1;33m]\u001b[0m \u001b[1;33m+\u001b[0m \u001b[0mdata\u001b[0m\u001b[1;33m[\u001b[0m\u001b[1;34m\"M1A-Q03.png\"\u001b[0m\u001b[1;33m]\u001b[0m\u001b[1;33m[\u001b[0m\u001b[0mmeasure\u001b[0m\u001b[1;33m]\u001b[0m \u001b[1;33m+\u001b[0m\u001b[0mdata\u001b[0m\u001b[1;33m[\u001b[0m\u001b[1;34m\"M1A-Q04.png\"\u001b[0m\u001b[1;33m]\u001b[0m\u001b[1;33m[\u001b[0m\u001b[0mmeasure\u001b[0m\u001b[1;33m]\u001b[0m \u001b[1;33m+\u001b[0m\u001b[0mdata\u001b[0m\u001b[1;33m[\u001b[0m\u001b[1;34m\"M1A-Q05.png\"\u001b[0m\u001b[1;33m]\u001b[0m\u001b[1;33m[\u001b[0m\u001b[0mmeasure\u001b[0m\u001b[1;33m]\u001b[0m \u001b[1;33m+\u001b[0m\u001b[0mdata\u001b[0m\u001b[1;33m[\u001b[0m\u001b[1;34m\"M1A-Q06.png\"\u001b[0m\u001b[1;33m]\u001b[0m\u001b[1;33m[\u001b[0m\u001b[0mmeasure\u001b[0m\u001b[1;33m]\u001b[0m\u001b[1;33m\u001b[0m\u001b[0m\n\u001b[0m\u001b[0;32m      8\u001b[0m     \u001b[0mM1B\u001b[0m \u001b[1;33m=\u001b[0m \u001b[0mdata\u001b[0m\u001b[1;33m[\u001b[0m\u001b[1;34m\"M1B-Q01.png\"\u001b[0m\u001b[1;33m]\u001b[0m\u001b[1;33m[\u001b[0m\u001b[0mmeasure\u001b[0m\u001b[1;33m]\u001b[0m \u001b[1;33m+\u001b[0m \u001b[0mdata\u001b[0m\u001b[1;33m[\u001b[0m\u001b[1;34m\"M1B-Q02.png\"\u001b[0m\u001b[1;33m]\u001b[0m\u001b[1;33m[\u001b[0m\u001b[0mmeasure\u001b[0m\u001b[1;33m]\u001b[0m \u001b[1;33m+\u001b[0m \u001b[0mdata\u001b[0m\u001b[1;33m[\u001b[0m\u001b[1;34m\"M1B-Q03.png\"\u001b[0m\u001b[1;33m]\u001b[0m\u001b[1;33m[\u001b[0m\u001b[0mmeasure\u001b[0m\u001b[1;33m]\u001b[0m \u001b[1;33m+\u001b[0m\u001b[0mdata\u001b[0m\u001b[1;33m[\u001b[0m\u001b[1;34m\"M1B-Q04.png\"\u001b[0m\u001b[1;33m]\u001b[0m\u001b[1;33m[\u001b[0m\u001b[0mmeasure\u001b[0m\u001b[1;33m]\u001b[0m \u001b[1;33m+\u001b[0m\u001b[0mdata\u001b[0m\u001b[1;33m[\u001b[0m\u001b[1;34m\"M1B-Q05.png\"\u001b[0m\u001b[1;33m]\u001b[0m\u001b[1;33m[\u001b[0m\u001b[0mmeasure\u001b[0m\u001b[1;33m]\u001b[0m \u001b[1;33m+\u001b[0m\u001b[0mdata\u001b[0m\u001b[1;33m[\u001b[0m\u001b[1;34m\"M1B-Q06.png\"\u001b[0m\u001b[1;33m]\u001b[0m\u001b[1;33m[\u001b[0m\u001b[0mmeasure\u001b[0m\u001b[1;33m]\u001b[0m\u001b[1;33m\u001b[0m\u001b[0m\n\u001b[0;32m      9\u001b[0m     \u001b[0mM2A\u001b[0m \u001b[1;33m=\u001b[0m \u001b[0mdata\u001b[0m\u001b[1;33m[\u001b[0m\u001b[1;34m\"M2A-Q07.png\"\u001b[0m\u001b[1;33m]\u001b[0m\u001b[1;33m[\u001b[0m\u001b[0mmeasure\u001b[0m\u001b[1;33m]\u001b[0m \u001b[1;33m+\u001b[0m \u001b[0mdata\u001b[0m\u001b[1;33m[\u001b[0m\u001b[1;34m\"M2A-Q08.png\"\u001b[0m\u001b[1;33m]\u001b[0m\u001b[1;33m[\u001b[0m\u001b[0mmeasure\u001b[0m\u001b[1;33m]\u001b[0m \u001b[1;33m+\u001b[0m \u001b[0mdata\u001b[0m\u001b[1;33m[\u001b[0m\u001b[1;34m\"M2A-Q09.png\"\u001b[0m\u001b[1;33m]\u001b[0m\u001b[1;33m[\u001b[0m\u001b[0mmeasure\u001b[0m\u001b[1;33m]\u001b[0m \u001b[1;33m+\u001b[0m\u001b[0mdata\u001b[0m\u001b[1;33m[\u001b[0m\u001b[1;34m\"M2A-Q10.png\"\u001b[0m\u001b[1;33m]\u001b[0m\u001b[1;33m[\u001b[0m\u001b[0mmeasure\u001b[0m\u001b[1;33m]\u001b[0m \u001b[1;33m+\u001b[0m\u001b[0mdata\u001b[0m\u001b[1;33m[\u001b[0m\u001b[1;34m\"M2A-Q11.png\"\u001b[0m\u001b[1;33m]\u001b[0m\u001b[1;33m[\u001b[0m\u001b[0mmeasure\u001b[0m\u001b[1;33m]\u001b[0m \u001b[1;33m+\u001b[0m\u001b[0mdata\u001b[0m\u001b[1;33m[\u001b[0m\u001b[1;34m\"M2A-Q12.png\"\u001b[0m\u001b[1;33m]\u001b[0m\u001b[1;33m[\u001b[0m\u001b[0mmeasure\u001b[0m\u001b[1;33m]\u001b[0m\u001b[1;33m\u001b[0m\u001b[0m\n",
      "\u001b[1;31mKeyError\u001b[0m: 'pupilDilationDiff'"
     ]
    }
   ],
   "source": [
    "#low block visibility\n",
    "#measure = \"fixationsPerSecond\"\n",
    "#fixationsPerSecond = M1B + M3A\n",
    "\n",
    "for measurement in measureList:\n",
    "    measure = measurement\n",
    "    M1A = data[\"M1A-Q01.png\"][measure] + data[\"M1A-Q02.png\"][measure] + data[\"M1A-Q03.png\"][measure] +data[\"M1A-Q04.png\"][measure] +data[\"M1A-Q05.png\"][measure] +data[\"M1A-Q06.png\"][measure]\n",
    "    M1B = data[\"M1B-Q01.png\"][measure] + data[\"M1B-Q02.png\"][measure] + data[\"M1B-Q03.png\"][measure] +data[\"M1B-Q04.png\"][measure] +data[\"M1B-Q05.png\"][measure] +data[\"M1B-Q06.png\"][measure]\n",
    "    M2A = data[\"M2A-Q07.png\"][measure] + data[\"M2A-Q08.png\"][measure] + data[\"M2A-Q09.png\"][measure] +data[\"M2A-Q10.png\"][measure] +data[\"M2A-Q11.png\"][measure] +data[\"M2A-Q12.png\"][measure]\n",
    "    M2B = data[\"M2B-Q07.png\"][measure] + data[\"M2B-Q08.png\"][measure] + data[\"M2B-Q09.png\"][measure] +data[\"M2B-Q10.png\"][measure] +data[\"M2B-Q11.png\"][measure] +data[\"M2B-Q12.png\"][measure]\n",
    "    M3A = data[\"M3A-Q13.png\"][measure] + data[\"M3A-Q14.png\"][measure] + data[\"M3A-Q15.png\"][measure] +data[\"M3A-Q16.png\"][measure] +data[\"M3A-Q17.png\"][measure] +data[\"M3A-Q18.png\"][measure]\n",
    "    M3B = data[\"M3B-Q13.png\"][measure] + data[\"M3B-Q14.png\"][measure] + data[\"M3B-Q15.png\"][measure] +data[\"M3B-Q16.png\"][measure] +data[\"M3B-Q17.png\"][measure] +data[\"M3B-Q18.png\"][measure]\n",
    "    M4A = data[\"M4A-Q19.png\"][measure] + data[\"M4A-Q20.png\"][measure] + data[\"M4A-Q21.png\"][measure] +data[\"M4A-Q22.png\"][measure] +data[\"M4A-Q23.png\"][measure] +data[\"M4A-Q24.png\"][measure]\n",
    "    M4B = data[\"M4B-Q19.png\"][measure] + data[\"M4B-Q20.png\"][measure] + data[\"M4B-Q21.png\"][measure] +data[\"M4B-Q22.png\"][measure] +data[\"M4B-Q23.png\"][measure] +data[\"M4B-Q24.png\"][measure]\n",
    "\n",
    "    collectedLists = M2A + M4B\n",
    "    statistic, pval = stats.shapiro(collectedLists)\n",
    "    verdict = \"\"\n",
    "    if(pval < 0.055):\n",
    "        verdict = \"No\"\n",
    "    else:\n",
    "        verdict = \"Yes\"\n",
    "    \n",
    "    print measure + \"\\t\" + \"%.3f\" % (statistic,) + \"\\t\" + str(len(collectedLists)) + \"\\t\" + \"%0.3f\" % (pval,) + \"\\t\" + verdict"
   ]
  },
  {
   "cell_type": "code",
   "execution_count": 71,
   "metadata": {},
   "outputs": [
    {
     "name": "stdout",
     "output_type": "stream",
     "text": [
      "amountOfFixations\t0.818\t78\t0.000\tNo\n",
      "fixationsPerSecond\t0.985\t78\t0.499\tYes\n",
      "fixationDuration\t0.933\t78\t0.000\tNo\n",
      "saccadeVelocityList\t0.982\t78\t0.352\tYes\n",
      "fixationPrecision\t0.985\t78\t0.489\tYes\n"
     ]
    },
    {
     "ename": "KeyError",
     "evalue": "'pupilDilationDiff'",
     "output_type": "error",
     "traceback": [
      "\u001b[1;31m\u001b[0m",
      "\u001b[1;31mKeyError\u001b[0mTraceback (most recent call last)",
      "\u001b[1;32m<ipython-input-71-7ccc33677f5f>\u001b[0m in \u001b[0;36m<module>\u001b[1;34m()\u001b[0m\n\u001b[0;32m      5\u001b[0m \u001b[1;32mfor\u001b[0m \u001b[0mmeasurement\u001b[0m \u001b[1;32min\u001b[0m \u001b[0mmeasureList\u001b[0m\u001b[1;33m:\u001b[0m\u001b[1;33m\u001b[0m\u001b[0m\n\u001b[0;32m      6\u001b[0m     \u001b[0mmeasure\u001b[0m \u001b[1;33m=\u001b[0m \u001b[0mmeasurement\u001b[0m\u001b[1;33m\u001b[0m\u001b[0m\n\u001b[1;32m----> 7\u001b[1;33m     \u001b[0mM1A\u001b[0m \u001b[1;33m=\u001b[0m \u001b[0mdata\u001b[0m\u001b[1;33m[\u001b[0m\u001b[1;34m\"M1A-Q01.png\"\u001b[0m\u001b[1;33m]\u001b[0m\u001b[1;33m[\u001b[0m\u001b[0mmeasure\u001b[0m\u001b[1;33m]\u001b[0m \u001b[1;33m+\u001b[0m \u001b[0mdata\u001b[0m\u001b[1;33m[\u001b[0m\u001b[1;34m\"M1A-Q02.png\"\u001b[0m\u001b[1;33m]\u001b[0m\u001b[1;33m[\u001b[0m\u001b[0mmeasure\u001b[0m\u001b[1;33m]\u001b[0m \u001b[1;33m+\u001b[0m \u001b[0mdata\u001b[0m\u001b[1;33m[\u001b[0m\u001b[1;34m\"M1A-Q03.png\"\u001b[0m\u001b[1;33m]\u001b[0m\u001b[1;33m[\u001b[0m\u001b[0mmeasure\u001b[0m\u001b[1;33m]\u001b[0m \u001b[1;33m+\u001b[0m\u001b[0mdata\u001b[0m\u001b[1;33m[\u001b[0m\u001b[1;34m\"M1A-Q04.png\"\u001b[0m\u001b[1;33m]\u001b[0m\u001b[1;33m[\u001b[0m\u001b[0mmeasure\u001b[0m\u001b[1;33m]\u001b[0m \u001b[1;33m+\u001b[0m\u001b[0mdata\u001b[0m\u001b[1;33m[\u001b[0m\u001b[1;34m\"M1A-Q05.png\"\u001b[0m\u001b[1;33m]\u001b[0m\u001b[1;33m[\u001b[0m\u001b[0mmeasure\u001b[0m\u001b[1;33m]\u001b[0m \u001b[1;33m+\u001b[0m\u001b[0mdata\u001b[0m\u001b[1;33m[\u001b[0m\u001b[1;34m\"M1A-Q06.png\"\u001b[0m\u001b[1;33m]\u001b[0m\u001b[1;33m[\u001b[0m\u001b[0mmeasure\u001b[0m\u001b[1;33m]\u001b[0m\u001b[1;33m\u001b[0m\u001b[0m\n\u001b[0m\u001b[0;32m      8\u001b[0m     \u001b[0mM1B\u001b[0m \u001b[1;33m=\u001b[0m \u001b[0mdata\u001b[0m\u001b[1;33m[\u001b[0m\u001b[1;34m\"M1B-Q01.png\"\u001b[0m\u001b[1;33m]\u001b[0m\u001b[1;33m[\u001b[0m\u001b[0mmeasure\u001b[0m\u001b[1;33m]\u001b[0m \u001b[1;33m+\u001b[0m \u001b[0mdata\u001b[0m\u001b[1;33m[\u001b[0m\u001b[1;34m\"M1B-Q02.png\"\u001b[0m\u001b[1;33m]\u001b[0m\u001b[1;33m[\u001b[0m\u001b[0mmeasure\u001b[0m\u001b[1;33m]\u001b[0m \u001b[1;33m+\u001b[0m \u001b[0mdata\u001b[0m\u001b[1;33m[\u001b[0m\u001b[1;34m\"M1B-Q03.png\"\u001b[0m\u001b[1;33m]\u001b[0m\u001b[1;33m[\u001b[0m\u001b[0mmeasure\u001b[0m\u001b[1;33m]\u001b[0m \u001b[1;33m+\u001b[0m\u001b[0mdata\u001b[0m\u001b[1;33m[\u001b[0m\u001b[1;34m\"M1B-Q04.png\"\u001b[0m\u001b[1;33m]\u001b[0m\u001b[1;33m[\u001b[0m\u001b[0mmeasure\u001b[0m\u001b[1;33m]\u001b[0m \u001b[1;33m+\u001b[0m\u001b[0mdata\u001b[0m\u001b[1;33m[\u001b[0m\u001b[1;34m\"M1B-Q05.png\"\u001b[0m\u001b[1;33m]\u001b[0m\u001b[1;33m[\u001b[0m\u001b[0mmeasure\u001b[0m\u001b[1;33m]\u001b[0m \u001b[1;33m+\u001b[0m\u001b[0mdata\u001b[0m\u001b[1;33m[\u001b[0m\u001b[1;34m\"M1B-Q06.png\"\u001b[0m\u001b[1;33m]\u001b[0m\u001b[1;33m[\u001b[0m\u001b[0mmeasure\u001b[0m\u001b[1;33m]\u001b[0m\u001b[1;33m\u001b[0m\u001b[0m\n\u001b[0;32m      9\u001b[0m     \u001b[0mM2A\u001b[0m \u001b[1;33m=\u001b[0m \u001b[0mdata\u001b[0m\u001b[1;33m[\u001b[0m\u001b[1;34m\"M2A-Q07.png\"\u001b[0m\u001b[1;33m]\u001b[0m\u001b[1;33m[\u001b[0m\u001b[0mmeasure\u001b[0m\u001b[1;33m]\u001b[0m \u001b[1;33m+\u001b[0m \u001b[0mdata\u001b[0m\u001b[1;33m[\u001b[0m\u001b[1;34m\"M2A-Q08.png\"\u001b[0m\u001b[1;33m]\u001b[0m\u001b[1;33m[\u001b[0m\u001b[0mmeasure\u001b[0m\u001b[1;33m]\u001b[0m \u001b[1;33m+\u001b[0m \u001b[0mdata\u001b[0m\u001b[1;33m[\u001b[0m\u001b[1;34m\"M2A-Q09.png\"\u001b[0m\u001b[1;33m]\u001b[0m\u001b[1;33m[\u001b[0m\u001b[0mmeasure\u001b[0m\u001b[1;33m]\u001b[0m \u001b[1;33m+\u001b[0m\u001b[0mdata\u001b[0m\u001b[1;33m[\u001b[0m\u001b[1;34m\"M2A-Q10.png\"\u001b[0m\u001b[1;33m]\u001b[0m\u001b[1;33m[\u001b[0m\u001b[0mmeasure\u001b[0m\u001b[1;33m]\u001b[0m \u001b[1;33m+\u001b[0m\u001b[0mdata\u001b[0m\u001b[1;33m[\u001b[0m\u001b[1;34m\"M2A-Q11.png\"\u001b[0m\u001b[1;33m]\u001b[0m\u001b[1;33m[\u001b[0m\u001b[0mmeasure\u001b[0m\u001b[1;33m]\u001b[0m \u001b[1;33m+\u001b[0m\u001b[0mdata\u001b[0m\u001b[1;33m[\u001b[0m\u001b[1;34m\"M2A-Q12.png\"\u001b[0m\u001b[1;33m]\u001b[0m\u001b[1;33m[\u001b[0m\u001b[0mmeasure\u001b[0m\u001b[1;33m]\u001b[0m\u001b[1;33m\u001b[0m\u001b[0m\n",
      "\u001b[1;31mKeyError\u001b[0m: 'pupilDilationDiff'"
     ]
    }
   ],
   "source": [
    "#high block visibility\n",
    "#measure = \"fixationsPerSecond\"\n",
    "#fixationsPerSecond = M1B + M3A\n",
    "\n",
    "for measurement in measureList:\n",
    "    measure = measurement\n",
    "    M1A = data[\"M1A-Q01.png\"][measure] + data[\"M1A-Q02.png\"][measure] + data[\"M1A-Q03.png\"][measure] +data[\"M1A-Q04.png\"][measure] +data[\"M1A-Q05.png\"][measure] +data[\"M1A-Q06.png\"][measure]\n",
    "    M1B = data[\"M1B-Q01.png\"][measure] + data[\"M1B-Q02.png\"][measure] + data[\"M1B-Q03.png\"][measure] +data[\"M1B-Q04.png\"][measure] +data[\"M1B-Q05.png\"][measure] +data[\"M1B-Q06.png\"][measure]\n",
    "    M2A = data[\"M2A-Q07.png\"][measure] + data[\"M2A-Q08.png\"][measure] + data[\"M2A-Q09.png\"][measure] +data[\"M2A-Q10.png\"][measure] +data[\"M2A-Q11.png\"][measure] +data[\"M2A-Q12.png\"][measure]\n",
    "    M2B = data[\"M2B-Q07.png\"][measure] + data[\"M2B-Q08.png\"][measure] + data[\"M2B-Q09.png\"][measure] +data[\"M2B-Q10.png\"][measure] +data[\"M2B-Q11.png\"][measure] +data[\"M2B-Q12.png\"][measure]\n",
    "    M3A = data[\"M3A-Q13.png\"][measure] + data[\"M3A-Q14.png\"][measure] + data[\"M3A-Q15.png\"][measure] +data[\"M3A-Q16.png\"][measure] +data[\"M3A-Q17.png\"][measure] +data[\"M3A-Q18.png\"][measure]\n",
    "    M3B = data[\"M3B-Q13.png\"][measure] + data[\"M3B-Q14.png\"][measure] + data[\"M3B-Q15.png\"][measure] +data[\"M3B-Q16.png\"][measure] +data[\"M3B-Q17.png\"][measure] +data[\"M3B-Q18.png\"][measure]\n",
    "    M4A = data[\"M4A-Q19.png\"][measure] + data[\"M4A-Q20.png\"][measure] + data[\"M4A-Q21.png\"][measure] +data[\"M4A-Q22.png\"][measure] +data[\"M4A-Q23.png\"][measure] +data[\"M4A-Q24.png\"][measure]\n",
    "    M4B = data[\"M4B-Q19.png\"][measure] + data[\"M4B-Q20.png\"][measure] + data[\"M4B-Q21.png\"][measure] +data[\"M4B-Q22.png\"][measure] +data[\"M4B-Q23.png\"][measure] +data[\"M4B-Q24.png\"][measure]\n",
    "\n",
    "    collectedLists = M2B + M4A\n",
    "    statistic, pval = stats.shapiro(collectedLists)\n",
    "    verdict = \"\"\n",
    "    if(pval < 0.055):\n",
    "        verdict = \"No\"\n",
    "    else:\n",
    "        verdict = \"Yes\"\n",
    "    \n",
    "    print measure + \"\\t\" + \"%.3f\" % (statistic,) + \"\\t\" + str(len(collectedLists)) + \"\\t\" + \"%0.3f\" % (pval,) + \"\\t\" + verdict"
   ]
  },
  {
   "cell_type": "code",
   "execution_count": 72,
   "metadata": {},
   "outputs": [
    {
     "name": "stdout",
     "output_type": "stream",
     "text": [
      "amountOfFixations\t0.852\t156\t0.000\tNo\n",
      "fixationsPerSecond\t0.995\t156\t0.891\tYes\n",
      "fixationDuration\t0.909\t156\t0.000\tNo\n",
      "saccadeVelocityList\t0.980\t156\t0.023\tNo\n",
      "fixationPrecision\t0.989\t156\t0.279\tYes\n"
     ]
    },
    {
     "ename": "KeyError",
     "evalue": "'pupilDilationDiff'",
     "output_type": "error",
     "traceback": [
      "\u001b[1;31m\u001b[0m",
      "\u001b[1;31mKeyError\u001b[0mTraceback (most recent call last)",
      "\u001b[1;32m<ipython-input-72-47552dff7487>\u001b[0m in \u001b[0;36m<module>\u001b[1;34m()\u001b[0m\n\u001b[0;32m      5\u001b[0m \u001b[1;32mfor\u001b[0m \u001b[0mmeasurement\u001b[0m \u001b[1;32min\u001b[0m \u001b[0mmeasureList\u001b[0m\u001b[1;33m:\u001b[0m\u001b[1;33m\u001b[0m\u001b[0m\n\u001b[0;32m      6\u001b[0m     \u001b[0mmeasure\u001b[0m \u001b[1;33m=\u001b[0m \u001b[0mmeasurement\u001b[0m\u001b[1;33m\u001b[0m\u001b[0m\n\u001b[1;32m----> 7\u001b[1;33m     \u001b[0mM1AL\u001b[0m \u001b[1;33m=\u001b[0m \u001b[0mdata\u001b[0m\u001b[1;33m[\u001b[0m\u001b[1;34m\"M1A-Q01.png\"\u001b[0m\u001b[1;33m]\u001b[0m\u001b[1;33m[\u001b[0m\u001b[0mmeasure\u001b[0m\u001b[1;33m]\u001b[0m \u001b[1;33m+\u001b[0m \u001b[0mdata\u001b[0m\u001b[1;33m[\u001b[0m\u001b[1;34m\"M1A-Q02.png\"\u001b[0m\u001b[1;33m]\u001b[0m\u001b[1;33m[\u001b[0m\u001b[0mmeasure\u001b[0m\u001b[1;33m]\u001b[0m \u001b[1;33m+\u001b[0m \u001b[0mdata\u001b[0m\u001b[1;33m[\u001b[0m\u001b[1;34m\"M1A-Q03.png\"\u001b[0m\u001b[1;33m]\u001b[0m\u001b[1;33m[\u001b[0m\u001b[0mmeasure\u001b[0m\u001b[1;33m]\u001b[0m\u001b[1;33m\u001b[0m\u001b[0m\n\u001b[0m\u001b[0;32m      8\u001b[0m     \u001b[0mM1AG\u001b[0m \u001b[1;33m=\u001b[0m \u001b[0mdata\u001b[0m\u001b[1;33m[\u001b[0m\u001b[1;34m\"M1A-Q04.png\"\u001b[0m\u001b[1;33m]\u001b[0m\u001b[1;33m[\u001b[0m\u001b[0mmeasure\u001b[0m\u001b[1;33m]\u001b[0m \u001b[1;33m+\u001b[0m\u001b[0mdata\u001b[0m\u001b[1;33m[\u001b[0m\u001b[1;34m\"M1A-Q05.png\"\u001b[0m\u001b[1;33m]\u001b[0m\u001b[1;33m[\u001b[0m\u001b[0mmeasure\u001b[0m\u001b[1;33m]\u001b[0m \u001b[1;33m+\u001b[0m\u001b[0mdata\u001b[0m\u001b[1;33m[\u001b[0m\u001b[1;34m\"M1A-Q06.png\"\u001b[0m\u001b[1;33m]\u001b[0m\u001b[1;33m[\u001b[0m\u001b[0mmeasure\u001b[0m\u001b[1;33m]\u001b[0m\u001b[1;33m\u001b[0m\u001b[0m\n\u001b[0;32m      9\u001b[0m     \u001b[0mM1BL\u001b[0m \u001b[1;33m=\u001b[0m \u001b[0mdata\u001b[0m\u001b[1;33m[\u001b[0m\u001b[1;34m\"M1B-Q01.png\"\u001b[0m\u001b[1;33m]\u001b[0m\u001b[1;33m[\u001b[0m\u001b[0mmeasure\u001b[0m\u001b[1;33m]\u001b[0m \u001b[1;33m+\u001b[0m \u001b[0mdata\u001b[0m\u001b[1;33m[\u001b[0m\u001b[1;34m\"M1B-Q02.png\"\u001b[0m\u001b[1;33m]\u001b[0m\u001b[1;33m[\u001b[0m\u001b[0mmeasure\u001b[0m\u001b[1;33m]\u001b[0m \u001b[1;33m+\u001b[0m \u001b[0mdata\u001b[0m\u001b[1;33m[\u001b[0m\u001b[1;34m\"M1B-Q03.png\"\u001b[0m\u001b[1;33m]\u001b[0m\u001b[1;33m[\u001b[0m\u001b[0mmeasure\u001b[0m\u001b[1;33m]\u001b[0m\u001b[1;33m\u001b[0m\u001b[0m\n",
      "\u001b[1;31mKeyError\u001b[0m: 'pupilDilationDiff'"
     ]
    }
   ],
   "source": [
    "#local questions\n",
    "#measure = \"fixationsPerSecond\"\n",
    "#fixationsPerSecond = M1B + M3A\n",
    "\n",
    "for measurement in measureList:\n",
    "    measure = measurement\n",
    "    M1AL = data[\"M1A-Q01.png\"][measure] + data[\"M1A-Q02.png\"][measure] + data[\"M1A-Q03.png\"][measure] \n",
    "    M1AG = data[\"M1A-Q04.png\"][measure] +data[\"M1A-Q05.png\"][measure] +data[\"M1A-Q06.png\"][measure]\n",
    "    M1BL = data[\"M1B-Q01.png\"][measure] + data[\"M1B-Q02.png\"][measure] + data[\"M1B-Q03.png\"][measure] \n",
    "    M1BG = data[\"M1B-Q04.png\"][measure] +data[\"M1B-Q05.png\"][measure] +data[\"M1B-Q06.png\"][measure]\n",
    "    M2AL = data[\"M2A-Q07.png\"][measure] + data[\"M2A-Q08.png\"][measure] + data[\"M2A-Q09.png\"][measure] \n",
    "    M2AG = data[\"M2A-Q10.png\"][measure] +data[\"M2A-Q11.png\"][measure] +data[\"M2A-Q12.png\"][measure]\n",
    "    M2BL = data[\"M2B-Q07.png\"][measure] + data[\"M2B-Q08.png\"][measure] + data[\"M2B-Q09.png\"][measure] \n",
    "    M2BG = data[\"M2B-Q10.png\"][measure] +data[\"M2B-Q11.png\"][measure] +data[\"M2B-Q12.png\"][measure]\n",
    "    M3AL = data[\"M3A-Q13.png\"][measure] + data[\"M3A-Q14.png\"][measure] + data[\"M3A-Q15.png\"][measure] \n",
    "    M3AG = data[\"M3A-Q16.png\"][measure] +data[\"M3A-Q17.png\"][measure] +data[\"M3A-Q18.png\"][measure]\n",
    "    M3BL = data[\"M3B-Q13.png\"][measure] + data[\"M3B-Q14.png\"][measure] + data[\"M3B-Q15.png\"][measure] \n",
    "    M3BG = data[\"M3B-Q16.png\"][measure] +data[\"M3B-Q17.png\"][measure] +data[\"M3B-Q18.png\"][measure]\n",
    "    M4AL = data[\"M4A-Q19.png\"][measure] + data[\"M4A-Q20.png\"][measure] + data[\"M4A-Q24.png\"][measure] \n",
    "    M4AG = data[\"M4A-Q22.png\"][measure] +data[\"M4A-Q23.png\"][measure] +data[\"M4A-Q21.png\"][measure]\n",
    "    M4BL = data[\"M4B-Q19.png\"][measure] + data[\"M4B-Q20.png\"][measure] + data[\"M4B-Q24.png\"][measure] \n",
    "    M4BG = data[\"M4B-Q22.png\"][measure] +data[\"M4B-Q23.png\"][measure] +data[\"M4B-Q21.png\"][measure]\n",
    "\n",
    "    messyL = M1BL + M3AL + M2AL + M4BL\n",
    "    messyG = M1BG + M3AG + M2AG + M4BG\n",
    "    nonMessyL = M1AL + M3BL + M2BL + M4AL\n",
    "    nonMessyG = M1AG + M3BG + M2BG + M4AG\n",
    "    \n",
    "    collectedLists = messyL + nonMessyL\n",
    "    statistic, pval = stats.shapiro(collectedLists)\n",
    "    verdict = \"\"\n",
    "    if(pval < 0.055):\n",
    "        verdict = \"No\"\n",
    "    else:\n",
    "        verdict = \"Yes\"\n",
    "    \n",
    "    print measure + \"\\t\" + \"%.3f\" % (statistic,) + \"\\t\" + str(len(collectedLists)) + \"\\t\" + \"%0.3f\" % (pval,) + \"\\t\" + verdict"
   ]
  },
  {
   "cell_type": "code",
   "execution_count": 73,
   "metadata": {},
   "outputs": [
    {
     "name": "stdout",
     "output_type": "stream",
     "text": [
      "amountOfFixations\t0.939\t156\t0.000\tNo\n",
      "fixationsPerSecond\t0.983\t156\t0.058\tYes\n",
      "fixationDuration\t0.866\t156\t0.000\tNo\n",
      "saccadeVelocityList\t0.964\t156\t0.000\tNo\n",
      "fixationPrecision\t0.976\t156\t0.009\tNo\n"
     ]
    },
    {
     "ename": "KeyError",
     "evalue": "'pupilDilationDiff'",
     "output_type": "error",
     "traceback": [
      "\u001b[1;31m\u001b[0m",
      "\u001b[1;31mKeyError\u001b[0mTraceback (most recent call last)",
      "\u001b[1;32m<ipython-input-73-6f0a894299ec>\u001b[0m in \u001b[0;36m<module>\u001b[1;34m()\u001b[0m\n\u001b[0;32m      5\u001b[0m \u001b[1;32mfor\u001b[0m \u001b[0mmeasurement\u001b[0m \u001b[1;32min\u001b[0m \u001b[0mmeasureList\u001b[0m\u001b[1;33m:\u001b[0m\u001b[1;33m\u001b[0m\u001b[0m\n\u001b[0;32m      6\u001b[0m     \u001b[0mmeasure\u001b[0m \u001b[1;33m=\u001b[0m \u001b[0mmeasurement\u001b[0m\u001b[1;33m\u001b[0m\u001b[0m\n\u001b[1;32m----> 7\u001b[1;33m     \u001b[0mM1AL\u001b[0m \u001b[1;33m=\u001b[0m \u001b[0mdata\u001b[0m\u001b[1;33m[\u001b[0m\u001b[1;34m\"M1A-Q01.png\"\u001b[0m\u001b[1;33m]\u001b[0m\u001b[1;33m[\u001b[0m\u001b[0mmeasure\u001b[0m\u001b[1;33m]\u001b[0m \u001b[1;33m+\u001b[0m \u001b[0mdata\u001b[0m\u001b[1;33m[\u001b[0m\u001b[1;34m\"M1A-Q02.png\"\u001b[0m\u001b[1;33m]\u001b[0m\u001b[1;33m[\u001b[0m\u001b[0mmeasure\u001b[0m\u001b[1;33m]\u001b[0m \u001b[1;33m+\u001b[0m \u001b[0mdata\u001b[0m\u001b[1;33m[\u001b[0m\u001b[1;34m\"M1A-Q03.png\"\u001b[0m\u001b[1;33m]\u001b[0m\u001b[1;33m[\u001b[0m\u001b[0mmeasure\u001b[0m\u001b[1;33m]\u001b[0m\u001b[1;33m\u001b[0m\u001b[0m\n\u001b[0m\u001b[0;32m      8\u001b[0m     \u001b[0mM1AG\u001b[0m \u001b[1;33m=\u001b[0m \u001b[0mdata\u001b[0m\u001b[1;33m[\u001b[0m\u001b[1;34m\"M1A-Q04.png\"\u001b[0m\u001b[1;33m]\u001b[0m\u001b[1;33m[\u001b[0m\u001b[0mmeasure\u001b[0m\u001b[1;33m]\u001b[0m \u001b[1;33m+\u001b[0m\u001b[0mdata\u001b[0m\u001b[1;33m[\u001b[0m\u001b[1;34m\"M1A-Q05.png\"\u001b[0m\u001b[1;33m]\u001b[0m\u001b[1;33m[\u001b[0m\u001b[0mmeasure\u001b[0m\u001b[1;33m]\u001b[0m \u001b[1;33m+\u001b[0m\u001b[0mdata\u001b[0m\u001b[1;33m[\u001b[0m\u001b[1;34m\"M1A-Q06.png\"\u001b[0m\u001b[1;33m]\u001b[0m\u001b[1;33m[\u001b[0m\u001b[0mmeasure\u001b[0m\u001b[1;33m]\u001b[0m\u001b[1;33m\u001b[0m\u001b[0m\n\u001b[0;32m      9\u001b[0m     \u001b[0mM1BL\u001b[0m \u001b[1;33m=\u001b[0m \u001b[0mdata\u001b[0m\u001b[1;33m[\u001b[0m\u001b[1;34m\"M1B-Q01.png\"\u001b[0m\u001b[1;33m]\u001b[0m\u001b[1;33m[\u001b[0m\u001b[0mmeasure\u001b[0m\u001b[1;33m]\u001b[0m \u001b[1;33m+\u001b[0m \u001b[0mdata\u001b[0m\u001b[1;33m[\u001b[0m\u001b[1;34m\"M1B-Q02.png\"\u001b[0m\u001b[1;33m]\u001b[0m\u001b[1;33m[\u001b[0m\u001b[0mmeasure\u001b[0m\u001b[1;33m]\u001b[0m \u001b[1;33m+\u001b[0m \u001b[0mdata\u001b[0m\u001b[1;33m[\u001b[0m\u001b[1;34m\"M1B-Q03.png\"\u001b[0m\u001b[1;33m]\u001b[0m\u001b[1;33m[\u001b[0m\u001b[0mmeasure\u001b[0m\u001b[1;33m]\u001b[0m\u001b[1;33m\u001b[0m\u001b[0m\n",
      "\u001b[1;31mKeyError\u001b[0m: 'pupilDilationDiff'"
     ]
    }
   ],
   "source": [
    "#global questions\n",
    "#measure = \"fixationsPerSecond\"\n",
    "#fixationsPerSecond = M1B + M3A\n",
    "\n",
    "for measurement in measureList:\n",
    "    measure = measurement\n",
    "    M1AL = data[\"M1A-Q01.png\"][measure] + data[\"M1A-Q02.png\"][measure] + data[\"M1A-Q03.png\"][measure] \n",
    "    M1AG = data[\"M1A-Q04.png\"][measure] +data[\"M1A-Q05.png\"][measure] +data[\"M1A-Q06.png\"][measure]\n",
    "    M1BL = data[\"M1B-Q01.png\"][measure] + data[\"M1B-Q02.png\"][measure] + data[\"M1B-Q03.png\"][measure] \n",
    "    M1BG = data[\"M1B-Q04.png\"][measure] +data[\"M1B-Q05.png\"][measure] +data[\"M1B-Q06.png\"][measure]\n",
    "    M2AL = data[\"M2A-Q07.png\"][measure] + data[\"M2A-Q08.png\"][measure] + data[\"M2A-Q09.png\"][measure] \n",
    "    M2AG = data[\"M2A-Q10.png\"][measure] +data[\"M2A-Q11.png\"][measure] +data[\"M2A-Q12.png\"][measure]\n",
    "    M2BL = data[\"M2B-Q07.png\"][measure] + data[\"M2B-Q08.png\"][measure] + data[\"M2B-Q09.png\"][measure] \n",
    "    M2BG = data[\"M2B-Q10.png\"][measure] +data[\"M2B-Q11.png\"][measure] +data[\"M2B-Q12.png\"][measure]\n",
    "    M3AL = data[\"M3A-Q13.png\"][measure] + data[\"M3A-Q14.png\"][measure] + data[\"M3A-Q15.png\"][measure] \n",
    "    M3AG = data[\"M3A-Q16.png\"][measure] +data[\"M3A-Q17.png\"][measure] +data[\"M3A-Q18.png\"][measure]\n",
    "    M3BL = data[\"M3B-Q13.png\"][measure] + data[\"M3B-Q14.png\"][measure] + data[\"M3B-Q15.png\"][measure] \n",
    "    M3BG = data[\"M3B-Q16.png\"][measure] +data[\"M3B-Q17.png\"][measure] +data[\"M3B-Q18.png\"][measure]\n",
    "    M4AL = data[\"M4A-Q19.png\"][measure] + data[\"M4A-Q20.png\"][measure] + data[\"M4A-Q24.png\"][measure] \n",
    "    M4AG = data[\"M4A-Q22.png\"][measure] +data[\"M4A-Q23.png\"][measure] +data[\"M4A-Q21.png\"][measure]\n",
    "    M4BL = data[\"M4B-Q19.png\"][measure] + data[\"M4B-Q20.png\"][measure] + data[\"M4B-Q24.png\"][measure] \n",
    "    M4BG = data[\"M4B-Q22.png\"][measure] +data[\"M4B-Q23.png\"][measure] +data[\"M4B-Q21.png\"][measure]\n",
    "\n",
    "    messyL = M1BL + M3AL + M2AL + M4BL\n",
    "    messyG = M1BG + M3AG + M2AG + M4BG\n",
    "    nonMessyL = M1AL + M3BL + M2BL + M4AL\n",
    "    nonMessyG = M1AG + M3BG + M2BG + M4AG\n",
    "    \n",
    "    collectedLists = messyG + nonMessyG\n",
    "    statistic, pval = stats.shapiro(collectedLists)\n",
    "    verdict = \"\"\n",
    "    if(pval < 0.055):\n",
    "        verdict = \"No\"\n",
    "    else:\n",
    "        verdict = \"Yes\"\n",
    "    \n",
    "    print measure + \"\\t\" + \"%.3f\" % (statistic,) + \"\\t\" + str(len(collectedLists)) + \"\\t\" + \"%0.3f\" % (pval,) + \"\\t\" + verdict"
   ]
  },
  {
   "cell_type": "code",
   "execution_count": 74,
   "metadata": {},
   "outputs": [
    {
     "name": "stdout",
     "output_type": "stream",
     "text": [
      "amountOfFixations\t0.830\t39\t0.000\tNo\n",
      "fixationsPerSecond\t0.981\t39\t0.724\tYes\n",
      "fixationDuration\t0.862\t39\t0.000\tNo\n",
      "saccadeVelocityList\t0.968\t39\t0.316\tYes\n",
      "fixationPrecision\t0.985\t39\t0.867\tYes\n"
     ]
    },
    {
     "ename": "KeyError",
     "evalue": "'pupilDilationDiff'",
     "output_type": "error",
     "traceback": [
      "\u001b[1;31m\u001b[0m",
      "\u001b[1;31mKeyError\u001b[0mTraceback (most recent call last)",
      "\u001b[1;32m<ipython-input-74-c044de08766a>\u001b[0m in \u001b[0;36m<module>\u001b[1;34m()\u001b[0m\n\u001b[0;32m      5\u001b[0m \u001b[1;32mfor\u001b[0m \u001b[0mmeasurement\u001b[0m \u001b[1;32min\u001b[0m \u001b[0mmeasureList\u001b[0m\u001b[1;33m:\u001b[0m\u001b[1;33m\u001b[0m\u001b[0m\n\u001b[0;32m      6\u001b[0m     \u001b[0mmeasure\u001b[0m \u001b[1;33m=\u001b[0m \u001b[0mmeasurement\u001b[0m\u001b[1;33m\u001b[0m\u001b[0m\n\u001b[1;32m----> 7\u001b[1;33m     \u001b[0mM1AL\u001b[0m \u001b[1;33m=\u001b[0m \u001b[0mdata\u001b[0m\u001b[1;33m[\u001b[0m\u001b[1;34m\"M1A-Q01.png\"\u001b[0m\u001b[1;33m]\u001b[0m\u001b[1;33m[\u001b[0m\u001b[0mmeasure\u001b[0m\u001b[1;33m]\u001b[0m \u001b[1;33m+\u001b[0m \u001b[0mdata\u001b[0m\u001b[1;33m[\u001b[0m\u001b[1;34m\"M1A-Q02.png\"\u001b[0m\u001b[1;33m]\u001b[0m\u001b[1;33m[\u001b[0m\u001b[0mmeasure\u001b[0m\u001b[1;33m]\u001b[0m \u001b[1;33m+\u001b[0m \u001b[0mdata\u001b[0m\u001b[1;33m[\u001b[0m\u001b[1;34m\"M1A-Q03.png\"\u001b[0m\u001b[1;33m]\u001b[0m\u001b[1;33m[\u001b[0m\u001b[0mmeasure\u001b[0m\u001b[1;33m]\u001b[0m\u001b[1;33m\u001b[0m\u001b[0m\n\u001b[0m\u001b[0;32m      8\u001b[0m     \u001b[0mM1AG\u001b[0m \u001b[1;33m=\u001b[0m \u001b[0mdata\u001b[0m\u001b[1;33m[\u001b[0m\u001b[1;34m\"M1A-Q04.png\"\u001b[0m\u001b[1;33m]\u001b[0m\u001b[1;33m[\u001b[0m\u001b[0mmeasure\u001b[0m\u001b[1;33m]\u001b[0m \u001b[1;33m+\u001b[0m\u001b[0mdata\u001b[0m\u001b[1;33m[\u001b[0m\u001b[1;34m\"M1A-Q05.png\"\u001b[0m\u001b[1;33m]\u001b[0m\u001b[1;33m[\u001b[0m\u001b[0mmeasure\u001b[0m\u001b[1;33m]\u001b[0m \u001b[1;33m+\u001b[0m\u001b[0mdata\u001b[0m\u001b[1;33m[\u001b[0m\u001b[1;34m\"M1A-Q06.png\"\u001b[0m\u001b[1;33m]\u001b[0m\u001b[1;33m[\u001b[0m\u001b[0mmeasure\u001b[0m\u001b[1;33m]\u001b[0m\u001b[1;33m\u001b[0m\u001b[0m\n\u001b[0;32m      9\u001b[0m     \u001b[0mM1BL\u001b[0m \u001b[1;33m=\u001b[0m \u001b[0mdata\u001b[0m\u001b[1;33m[\u001b[0m\u001b[1;34m\"M1B-Q01.png\"\u001b[0m\u001b[1;33m]\u001b[0m\u001b[1;33m[\u001b[0m\u001b[0mmeasure\u001b[0m\u001b[1;33m]\u001b[0m \u001b[1;33m+\u001b[0m \u001b[0mdata\u001b[0m\u001b[1;33m[\u001b[0m\u001b[1;34m\"M1B-Q02.png\"\u001b[0m\u001b[1;33m]\u001b[0m\u001b[1;33m[\u001b[0m\u001b[0mmeasure\u001b[0m\u001b[1;33m]\u001b[0m \u001b[1;33m+\u001b[0m \u001b[0mdata\u001b[0m\u001b[1;33m[\u001b[0m\u001b[1;34m\"M1B-Q03.png\"\u001b[0m\u001b[1;33m]\u001b[0m\u001b[1;33m[\u001b[0m\u001b[0mmeasure\u001b[0m\u001b[1;33m]\u001b[0m\u001b[1;33m\u001b[0m\u001b[0m\n",
      "\u001b[1;31mKeyError\u001b[0m: 'pupilDilationDiff'"
     ]
    }
   ],
   "source": [
    "# high change of direction local\n",
    "#measure = \"fixationsPerSecond\"\n",
    "#fixationsPerSecond = M1B + M3A\n",
    "\n",
    "for measurement in measureList:\n",
    "    measure = measurement\n",
    "    M1AL = data[\"M1A-Q01.png\"][measure] + data[\"M1A-Q02.png\"][measure] + data[\"M1A-Q03.png\"][measure] \n",
    "    M1AG = data[\"M1A-Q04.png\"][measure] +data[\"M1A-Q05.png\"][measure] +data[\"M1A-Q06.png\"][measure]\n",
    "    M1BL = data[\"M1B-Q01.png\"][measure] + data[\"M1B-Q02.png\"][measure] + data[\"M1B-Q03.png\"][measure] \n",
    "    M1BG = data[\"M1B-Q04.png\"][measure] +data[\"M1B-Q05.png\"][measure] +data[\"M1B-Q06.png\"][measure]\n",
    "    M2AL = data[\"M2A-Q07.png\"][measure] + data[\"M2A-Q08.png\"][measure] + data[\"M2A-Q09.png\"][measure] \n",
    "    M2AG = data[\"M2A-Q10.png\"][measure] +data[\"M2A-Q11.png\"][measure] +data[\"M2A-Q12.png\"][measure]\n",
    "    M2BL = data[\"M2B-Q07.png\"][measure] + data[\"M2B-Q08.png\"][measure] + data[\"M2B-Q09.png\"][measure] \n",
    "    M2BG = data[\"M2B-Q10.png\"][measure] +data[\"M2B-Q11.png\"][measure] +data[\"M2B-Q12.png\"][measure]\n",
    "    M3AL = data[\"M3A-Q13.png\"][measure] + data[\"M3A-Q14.png\"][measure] + data[\"M3A-Q15.png\"][measure] \n",
    "    M3AG = data[\"M3A-Q16.png\"][measure] +data[\"M3A-Q17.png\"][measure] +data[\"M3A-Q18.png\"][measure]\n",
    "    M3BL = data[\"M3B-Q13.png\"][measure] + data[\"M3B-Q14.png\"][measure] + data[\"M3B-Q15.png\"][measure] \n",
    "    M3BG = data[\"M3B-Q16.png\"][measure] +data[\"M3B-Q17.png\"][measure] +data[\"M3B-Q18.png\"][measure]\n",
    "    M4AL = data[\"M4A-Q19.png\"][measure] + data[\"M4A-Q20.png\"][measure] + data[\"M4A-Q24.png\"][measure] \n",
    "    M4AG = data[\"M4A-Q22.png\"][measure] +data[\"M4A-Q23.png\"][measure] +data[\"M4A-Q21.png\"][measure]\n",
    "    M4BL = data[\"M4B-Q19.png\"][measure] + data[\"M4B-Q20.png\"][measure] + data[\"M4B-Q24.png\"][measure] \n",
    "    M4BG = data[\"M4B-Q22.png\"][measure] +data[\"M4B-Q23.png\"][measure] +data[\"M4B-Q21.png\"][measure]\n",
    "\n",
    "    messyDirectionGlobal = M1BG + M3AG\n",
    "    nonMessyDirectionGlobal = M1AG + M3BG\n",
    "    messyDirectionLocal = M1BL + M3AL\n",
    "    nonMessyDirectionLocal = M1AL + M3BL\n",
    "    messyVisibilityGlobal = M2AG + M4BG\n",
    "    nonMessyVisibilityGlobal = M2BG + M4AG\n",
    "    messyVisibilityLocal = M2AL + M4BL\n",
    "    nonMessyVisibilityLocal = M2BL + M4AL\n",
    "    \n",
    "    collectedLists = M1BL + M3AL\n",
    "    statistic, pval = stats.shapiro(collectedLists)\n",
    "    verdict = \"\"\n",
    "    if(pval < 0.055):\n",
    "        verdict = \"No\"\n",
    "    else:\n",
    "        verdict = \"Yes\"\n",
    "    \n",
    "    print measure + \"\\t\" + \"%.3f\" % (statistic,) + \"\\t\" + str(len(collectedLists)) + \"\\t\" + \"%0.3f\" % (pval,) + \"\\t\" + verdict"
   ]
  },
  {
   "cell_type": "code",
   "execution_count": 75,
   "metadata": {},
   "outputs": [
    {
     "name": "stdout",
     "output_type": "stream",
     "text": [
      "amountOfFixations\t0.959\t39\t0.166\tYes\n",
      "fixationsPerSecond\t0.966\t39\t0.277\tYes\n",
      "fixationDuration\t0.928\t39\t0.015\tNo\n",
      "saccadeVelocityList\t0.951\t39\t0.092\tYes\n",
      "fixationPrecision\t0.924\t39\t0.011\tNo\n"
     ]
    },
    {
     "ename": "KeyError",
     "evalue": "'pupilDilationDiff'",
     "output_type": "error",
     "traceback": [
      "\u001b[1;31m\u001b[0m",
      "\u001b[1;31mKeyError\u001b[0mTraceback (most recent call last)",
      "\u001b[1;32m<ipython-input-75-208d0a52d26f>\u001b[0m in \u001b[0;36m<module>\u001b[1;34m()\u001b[0m\n\u001b[0;32m      5\u001b[0m \u001b[1;32mfor\u001b[0m \u001b[0mmeasurement\u001b[0m \u001b[1;32min\u001b[0m \u001b[0mmeasureList\u001b[0m\u001b[1;33m:\u001b[0m\u001b[1;33m\u001b[0m\u001b[0m\n\u001b[0;32m      6\u001b[0m     \u001b[0mmeasure\u001b[0m \u001b[1;33m=\u001b[0m \u001b[0mmeasurement\u001b[0m\u001b[1;33m\u001b[0m\u001b[0m\n\u001b[1;32m----> 7\u001b[1;33m     \u001b[0mM1AL\u001b[0m \u001b[1;33m=\u001b[0m \u001b[0mdata\u001b[0m\u001b[1;33m[\u001b[0m\u001b[1;34m\"M1A-Q01.png\"\u001b[0m\u001b[1;33m]\u001b[0m\u001b[1;33m[\u001b[0m\u001b[0mmeasure\u001b[0m\u001b[1;33m]\u001b[0m \u001b[1;33m+\u001b[0m \u001b[0mdata\u001b[0m\u001b[1;33m[\u001b[0m\u001b[1;34m\"M1A-Q02.png\"\u001b[0m\u001b[1;33m]\u001b[0m\u001b[1;33m[\u001b[0m\u001b[0mmeasure\u001b[0m\u001b[1;33m]\u001b[0m \u001b[1;33m+\u001b[0m \u001b[0mdata\u001b[0m\u001b[1;33m[\u001b[0m\u001b[1;34m\"M1A-Q03.png\"\u001b[0m\u001b[1;33m]\u001b[0m\u001b[1;33m[\u001b[0m\u001b[0mmeasure\u001b[0m\u001b[1;33m]\u001b[0m\u001b[1;33m\u001b[0m\u001b[0m\n\u001b[0m\u001b[0;32m      8\u001b[0m     \u001b[0mM1AG\u001b[0m \u001b[1;33m=\u001b[0m \u001b[0mdata\u001b[0m\u001b[1;33m[\u001b[0m\u001b[1;34m\"M1A-Q04.png\"\u001b[0m\u001b[1;33m]\u001b[0m\u001b[1;33m[\u001b[0m\u001b[0mmeasure\u001b[0m\u001b[1;33m]\u001b[0m \u001b[1;33m+\u001b[0m\u001b[0mdata\u001b[0m\u001b[1;33m[\u001b[0m\u001b[1;34m\"M1A-Q05.png\"\u001b[0m\u001b[1;33m]\u001b[0m\u001b[1;33m[\u001b[0m\u001b[0mmeasure\u001b[0m\u001b[1;33m]\u001b[0m \u001b[1;33m+\u001b[0m\u001b[0mdata\u001b[0m\u001b[1;33m[\u001b[0m\u001b[1;34m\"M1A-Q06.png\"\u001b[0m\u001b[1;33m]\u001b[0m\u001b[1;33m[\u001b[0m\u001b[0mmeasure\u001b[0m\u001b[1;33m]\u001b[0m\u001b[1;33m\u001b[0m\u001b[0m\n\u001b[0;32m      9\u001b[0m     \u001b[0mM1BL\u001b[0m \u001b[1;33m=\u001b[0m \u001b[0mdata\u001b[0m\u001b[1;33m[\u001b[0m\u001b[1;34m\"M1B-Q01.png\"\u001b[0m\u001b[1;33m]\u001b[0m\u001b[1;33m[\u001b[0m\u001b[0mmeasure\u001b[0m\u001b[1;33m]\u001b[0m \u001b[1;33m+\u001b[0m \u001b[0mdata\u001b[0m\u001b[1;33m[\u001b[0m\u001b[1;34m\"M1B-Q02.png\"\u001b[0m\u001b[1;33m]\u001b[0m\u001b[1;33m[\u001b[0m\u001b[0mmeasure\u001b[0m\u001b[1;33m]\u001b[0m \u001b[1;33m+\u001b[0m \u001b[0mdata\u001b[0m\u001b[1;33m[\u001b[0m\u001b[1;34m\"M1B-Q03.png\"\u001b[0m\u001b[1;33m]\u001b[0m\u001b[1;33m[\u001b[0m\u001b[0mmeasure\u001b[0m\u001b[1;33m]\u001b[0m\u001b[1;33m\u001b[0m\u001b[0m\n",
      "\u001b[1;31mKeyError\u001b[0m: 'pupilDilationDiff'"
     ]
    }
   ],
   "source": [
    "# high change of direction global\n",
    "#measure = \"fixationsPerSecond\"\n",
    "#fixationsPerSecond = M1B + M3A\n",
    "\n",
    "for measurement in measureList:\n",
    "    measure = measurement\n",
    "    M1AL = data[\"M1A-Q01.png\"][measure] + data[\"M1A-Q02.png\"][measure] + data[\"M1A-Q03.png\"][measure] \n",
    "    M1AG = data[\"M1A-Q04.png\"][measure] +data[\"M1A-Q05.png\"][measure] +data[\"M1A-Q06.png\"][measure]\n",
    "    M1BL = data[\"M1B-Q01.png\"][measure] + data[\"M1B-Q02.png\"][measure] + data[\"M1B-Q03.png\"][measure] \n",
    "    M1BG = data[\"M1B-Q04.png\"][measure] +data[\"M1B-Q05.png\"][measure] +data[\"M1B-Q06.png\"][measure]\n",
    "    M2AL = data[\"M2A-Q07.png\"][measure] + data[\"M2A-Q08.png\"][measure] + data[\"M2A-Q09.png\"][measure] \n",
    "    M2AG = data[\"M2A-Q10.png\"][measure] +data[\"M2A-Q11.png\"][measure] +data[\"M2A-Q12.png\"][measure]\n",
    "    M2BL = data[\"M2B-Q07.png\"][measure] + data[\"M2B-Q08.png\"][measure] + data[\"M2B-Q09.png\"][measure] \n",
    "    M2BG = data[\"M2B-Q10.png\"][measure] +data[\"M2B-Q11.png\"][measure] +data[\"M2B-Q12.png\"][measure]\n",
    "    M3AL = data[\"M3A-Q13.png\"][measure] + data[\"M3A-Q14.png\"][measure] + data[\"M3A-Q15.png\"][measure] \n",
    "    M3AG = data[\"M3A-Q16.png\"][measure] +data[\"M3A-Q17.png\"][measure] +data[\"M3A-Q18.png\"][measure]\n",
    "    M3BL = data[\"M3B-Q13.png\"][measure] + data[\"M3B-Q14.png\"][measure] + data[\"M3B-Q15.png\"][measure] \n",
    "    M3BG = data[\"M3B-Q16.png\"][measure] +data[\"M3B-Q17.png\"][measure] +data[\"M3B-Q18.png\"][measure]\n",
    "    M4AL = data[\"M4A-Q19.png\"][measure] + data[\"M4A-Q20.png\"][measure] + data[\"M4A-Q24.png\"][measure] \n",
    "    M4AG = data[\"M4A-Q22.png\"][measure] +data[\"M4A-Q23.png\"][measure] +data[\"M4A-Q21.png\"][measure]\n",
    "    M4BL = data[\"M4B-Q19.png\"][measure] + data[\"M4B-Q20.png\"][measure] + data[\"M4B-Q24.png\"][measure] \n",
    "    M4BG = data[\"M4B-Q22.png\"][measure] +data[\"M4B-Q23.png\"][measure] +data[\"M4B-Q21.png\"][measure]\n",
    "\n",
    "    messyDirectionGlobal = M1BG + M3AG\n",
    "    nonMessyDirectionGlobal = M1AG + M3BG\n",
    "    messyDirectionLocal = M1BL + M3AL\n",
    "    nonMessyDirectionLocal = M1AL + M3BL\n",
    "    messyVisibilityGlobal = M2AG + M4BG\n",
    "    nonMessyVisibilityGlobal = M2BG + M4AG\n",
    "    messyVisibilityLocal = M2AL + M4BL\n",
    "    nonMessyVisibilityLocal = M2BL + M4AL\n",
    "    \n",
    "    collectedLists = M1BG + M3AG\n",
    "    statistic, pval = stats.shapiro(collectedLists)\n",
    "    verdict = \"\"\n",
    "    if(pval < 0.055):\n",
    "        verdict = \"No\"\n",
    "    else:\n",
    "        verdict = \"Yes\"\n",
    "    \n",
    "    print measure + \"\\t\" + \"%.3f\" % (statistic,) + \"\\t\" + str(len(collectedLists)) + \"\\t\" + \"%0.3f\" % (pval,) + \"\\t\" + verdict"
   ]
  },
  {
   "cell_type": "code",
   "execution_count": 76,
   "metadata": {},
   "outputs": [
    {
     "name": "stdout",
     "output_type": "stream",
     "text": [
      "amountOfFixations\t0.808\t39\t0.000\tNo\n",
      "fixationsPerSecond\t0.971\t39\t0.398\tYes\n",
      "fixationDuration\t0.761\t39\t0.000\tNo\n",
      "saccadeVelocityList\t0.988\t39\t0.936\tYes\n",
      "fixationPrecision\t0.964\t39\t0.239\tYes\n"
     ]
    },
    {
     "ename": "KeyError",
     "evalue": "'pupilDilationDiff'",
     "output_type": "error",
     "traceback": [
      "\u001b[1;31m\u001b[0m",
      "\u001b[1;31mKeyError\u001b[0mTraceback (most recent call last)",
      "\u001b[1;32m<ipython-input-76-10e96cbab72c>\u001b[0m in \u001b[0;36m<module>\u001b[1;34m()\u001b[0m\n\u001b[0;32m      5\u001b[0m \u001b[1;32mfor\u001b[0m \u001b[0mmeasurement\u001b[0m \u001b[1;32min\u001b[0m \u001b[0mmeasureList\u001b[0m\u001b[1;33m:\u001b[0m\u001b[1;33m\u001b[0m\u001b[0m\n\u001b[0;32m      6\u001b[0m     \u001b[0mmeasure\u001b[0m \u001b[1;33m=\u001b[0m \u001b[0mmeasurement\u001b[0m\u001b[1;33m\u001b[0m\u001b[0m\n\u001b[1;32m----> 7\u001b[1;33m     \u001b[0mM1AL\u001b[0m \u001b[1;33m=\u001b[0m \u001b[0mdata\u001b[0m\u001b[1;33m[\u001b[0m\u001b[1;34m\"M1A-Q01.png\"\u001b[0m\u001b[1;33m]\u001b[0m\u001b[1;33m[\u001b[0m\u001b[0mmeasure\u001b[0m\u001b[1;33m]\u001b[0m \u001b[1;33m+\u001b[0m \u001b[0mdata\u001b[0m\u001b[1;33m[\u001b[0m\u001b[1;34m\"M1A-Q02.png\"\u001b[0m\u001b[1;33m]\u001b[0m\u001b[1;33m[\u001b[0m\u001b[0mmeasure\u001b[0m\u001b[1;33m]\u001b[0m \u001b[1;33m+\u001b[0m \u001b[0mdata\u001b[0m\u001b[1;33m[\u001b[0m\u001b[1;34m\"M1A-Q03.png\"\u001b[0m\u001b[1;33m]\u001b[0m\u001b[1;33m[\u001b[0m\u001b[0mmeasure\u001b[0m\u001b[1;33m]\u001b[0m\u001b[1;33m\u001b[0m\u001b[0m\n\u001b[0m\u001b[0;32m      8\u001b[0m     \u001b[0mM1AG\u001b[0m \u001b[1;33m=\u001b[0m \u001b[0mdata\u001b[0m\u001b[1;33m[\u001b[0m\u001b[1;34m\"M1A-Q04.png\"\u001b[0m\u001b[1;33m]\u001b[0m\u001b[1;33m[\u001b[0m\u001b[0mmeasure\u001b[0m\u001b[1;33m]\u001b[0m \u001b[1;33m+\u001b[0m\u001b[0mdata\u001b[0m\u001b[1;33m[\u001b[0m\u001b[1;34m\"M1A-Q05.png\"\u001b[0m\u001b[1;33m]\u001b[0m\u001b[1;33m[\u001b[0m\u001b[0mmeasure\u001b[0m\u001b[1;33m]\u001b[0m \u001b[1;33m+\u001b[0m\u001b[0mdata\u001b[0m\u001b[1;33m[\u001b[0m\u001b[1;34m\"M1A-Q06.png\"\u001b[0m\u001b[1;33m]\u001b[0m\u001b[1;33m[\u001b[0m\u001b[0mmeasure\u001b[0m\u001b[1;33m]\u001b[0m\u001b[1;33m\u001b[0m\u001b[0m\n\u001b[0;32m      9\u001b[0m     \u001b[0mM1BL\u001b[0m \u001b[1;33m=\u001b[0m \u001b[0mdata\u001b[0m\u001b[1;33m[\u001b[0m\u001b[1;34m\"M1B-Q01.png\"\u001b[0m\u001b[1;33m]\u001b[0m\u001b[1;33m[\u001b[0m\u001b[0mmeasure\u001b[0m\u001b[1;33m]\u001b[0m \u001b[1;33m+\u001b[0m \u001b[0mdata\u001b[0m\u001b[1;33m[\u001b[0m\u001b[1;34m\"M1B-Q02.png\"\u001b[0m\u001b[1;33m]\u001b[0m\u001b[1;33m[\u001b[0m\u001b[0mmeasure\u001b[0m\u001b[1;33m]\u001b[0m \u001b[1;33m+\u001b[0m \u001b[0mdata\u001b[0m\u001b[1;33m[\u001b[0m\u001b[1;34m\"M1B-Q03.png\"\u001b[0m\u001b[1;33m]\u001b[0m\u001b[1;33m[\u001b[0m\u001b[0mmeasure\u001b[0m\u001b[1;33m]\u001b[0m\u001b[1;33m\u001b[0m\u001b[0m\n",
      "\u001b[1;31mKeyError\u001b[0m: 'pupilDilationDiff'"
     ]
    }
   ],
   "source": [
    "# low change of direction local\n",
    "#measure = \"fixationsPerSecond\"\n",
    "#fixationsPerSecond = M1B + M3A\n",
    "\n",
    "for measurement in measureList:\n",
    "    measure = measurement\n",
    "    M1AL = data[\"M1A-Q01.png\"][measure] + data[\"M1A-Q02.png\"][measure] + data[\"M1A-Q03.png\"][measure] \n",
    "    M1AG = data[\"M1A-Q04.png\"][measure] +data[\"M1A-Q05.png\"][measure] +data[\"M1A-Q06.png\"][measure]\n",
    "    M1BL = data[\"M1B-Q01.png\"][measure] + data[\"M1B-Q02.png\"][measure] + data[\"M1B-Q03.png\"][measure] \n",
    "    M1BG = data[\"M1B-Q04.png\"][measure] +data[\"M1B-Q05.png\"][measure] +data[\"M1B-Q06.png\"][measure]\n",
    "    M2AL = data[\"M2A-Q07.png\"][measure] + data[\"M2A-Q08.png\"][measure] + data[\"M2A-Q09.png\"][measure] \n",
    "    M2AG = data[\"M2A-Q10.png\"][measure] +data[\"M2A-Q11.png\"][measure] +data[\"M2A-Q12.png\"][measure]\n",
    "    M2BL = data[\"M2B-Q07.png\"][measure] + data[\"M2B-Q08.png\"][measure] + data[\"M2B-Q09.png\"][measure] \n",
    "    M2BG = data[\"M2B-Q10.png\"][measure] +data[\"M2B-Q11.png\"][measure] +data[\"M2B-Q12.png\"][measure]\n",
    "    M3AL = data[\"M3A-Q13.png\"][measure] + data[\"M3A-Q14.png\"][measure] + data[\"M3A-Q15.png\"][measure] \n",
    "    M3AG = data[\"M3A-Q16.png\"][measure] +data[\"M3A-Q17.png\"][measure] +data[\"M3A-Q18.png\"][measure]\n",
    "    M3BL = data[\"M3B-Q13.png\"][measure] + data[\"M3B-Q14.png\"][measure] + data[\"M3B-Q15.png\"][measure] \n",
    "    M3BG = data[\"M3B-Q16.png\"][measure] +data[\"M3B-Q17.png\"][measure] +data[\"M3B-Q18.png\"][measure]\n",
    "    M4AL = data[\"M4A-Q19.png\"][measure] + data[\"M4A-Q20.png\"][measure] + data[\"M4A-Q24.png\"][measure] \n",
    "    M4AG = data[\"M4A-Q22.png\"][measure] +data[\"M4A-Q23.png\"][measure] +data[\"M4A-Q21.png\"][measure]\n",
    "    M4BL = data[\"M4B-Q19.png\"][measure] + data[\"M4B-Q20.png\"][measure] + data[\"M4B-Q24.png\"][measure] \n",
    "    M4BG = data[\"M4B-Q22.png\"][measure] +data[\"M4B-Q23.png\"][measure] +data[\"M4B-Q21.png\"][measure]\n",
    "\n",
    "    messyDirectionGlobal = M1BG + M3AG\n",
    "    nonMessyDirectionGlobal = M1AG + M3BG\n",
    "    messyDirectionLocal = M1BL + M3AL\n",
    "    nonMessyDirectionLocal = M1AL + M3BL\n",
    "    messyVisibilityGlobal = M2AG + M4BG\n",
    "    nonMessyVisibilityGlobal = M2BG + M4AG\n",
    "    messyVisibilityLocal = M2AL + M4BL\n",
    "    nonMessyVisibilityLocal = M2BL + M4AL\n",
    "    \n",
    "    collectedLists = M1AL + M3BL\n",
    "    statistic, pval = stats.shapiro(collectedLists)\n",
    "    verdict = \"\"\n",
    "    if(pval < 0.055):\n",
    "        verdict = \"No\"\n",
    "    else:\n",
    "        verdict = \"Yes\"\n",
    "    \n",
    "    print measure + \"\\t\" + \"%.3f\" % (statistic,) + \"\\t\" + str(len(collectedLists)) + \"\\t\" + \"%0.3f\" % (pval,) + \"\\t\" + verdict"
   ]
  },
  {
   "cell_type": "code",
   "execution_count": 77,
   "metadata": {},
   "outputs": [
    {
     "name": "stdout",
     "output_type": "stream",
     "text": [
      "amountOfFixations\t0.954\t39\t0.108\tYes\n",
      "fixationsPerSecond\t0.967\t39\t0.305\tYes\n",
      "fixationDuration\t0.897\t39\t0.002\tNo\n",
      "saccadeVelocityList\t0.953\t39\t0.103\tYes\n",
      "fixationPrecision\t0.915\t39\t0.006\tNo\n"
     ]
    },
    {
     "ename": "KeyError",
     "evalue": "'pupilDilationDiff'",
     "output_type": "error",
     "traceback": [
      "\u001b[1;31m\u001b[0m",
      "\u001b[1;31mKeyError\u001b[0mTraceback (most recent call last)",
      "\u001b[1;32m<ipython-input-77-a7b0fa21a887>\u001b[0m in \u001b[0;36m<module>\u001b[1;34m()\u001b[0m\n\u001b[0;32m      5\u001b[0m \u001b[1;32mfor\u001b[0m \u001b[0mmeasurement\u001b[0m \u001b[1;32min\u001b[0m \u001b[0mmeasureList\u001b[0m\u001b[1;33m:\u001b[0m\u001b[1;33m\u001b[0m\u001b[0m\n\u001b[0;32m      6\u001b[0m     \u001b[0mmeasure\u001b[0m \u001b[1;33m=\u001b[0m \u001b[0mmeasurement\u001b[0m\u001b[1;33m\u001b[0m\u001b[0m\n\u001b[1;32m----> 7\u001b[1;33m     \u001b[0mM1AL\u001b[0m \u001b[1;33m=\u001b[0m \u001b[0mdata\u001b[0m\u001b[1;33m[\u001b[0m\u001b[1;34m\"M1A-Q01.png\"\u001b[0m\u001b[1;33m]\u001b[0m\u001b[1;33m[\u001b[0m\u001b[0mmeasure\u001b[0m\u001b[1;33m]\u001b[0m \u001b[1;33m+\u001b[0m \u001b[0mdata\u001b[0m\u001b[1;33m[\u001b[0m\u001b[1;34m\"M1A-Q02.png\"\u001b[0m\u001b[1;33m]\u001b[0m\u001b[1;33m[\u001b[0m\u001b[0mmeasure\u001b[0m\u001b[1;33m]\u001b[0m \u001b[1;33m+\u001b[0m \u001b[0mdata\u001b[0m\u001b[1;33m[\u001b[0m\u001b[1;34m\"M1A-Q03.png\"\u001b[0m\u001b[1;33m]\u001b[0m\u001b[1;33m[\u001b[0m\u001b[0mmeasure\u001b[0m\u001b[1;33m]\u001b[0m\u001b[1;33m\u001b[0m\u001b[0m\n\u001b[0m\u001b[0;32m      8\u001b[0m     \u001b[0mM1AG\u001b[0m \u001b[1;33m=\u001b[0m \u001b[0mdata\u001b[0m\u001b[1;33m[\u001b[0m\u001b[1;34m\"M1A-Q04.png\"\u001b[0m\u001b[1;33m]\u001b[0m\u001b[1;33m[\u001b[0m\u001b[0mmeasure\u001b[0m\u001b[1;33m]\u001b[0m \u001b[1;33m+\u001b[0m\u001b[0mdata\u001b[0m\u001b[1;33m[\u001b[0m\u001b[1;34m\"M1A-Q05.png\"\u001b[0m\u001b[1;33m]\u001b[0m\u001b[1;33m[\u001b[0m\u001b[0mmeasure\u001b[0m\u001b[1;33m]\u001b[0m \u001b[1;33m+\u001b[0m\u001b[0mdata\u001b[0m\u001b[1;33m[\u001b[0m\u001b[1;34m\"M1A-Q06.png\"\u001b[0m\u001b[1;33m]\u001b[0m\u001b[1;33m[\u001b[0m\u001b[0mmeasure\u001b[0m\u001b[1;33m]\u001b[0m\u001b[1;33m\u001b[0m\u001b[0m\n\u001b[0;32m      9\u001b[0m     \u001b[0mM1BL\u001b[0m \u001b[1;33m=\u001b[0m \u001b[0mdata\u001b[0m\u001b[1;33m[\u001b[0m\u001b[1;34m\"M1B-Q01.png\"\u001b[0m\u001b[1;33m]\u001b[0m\u001b[1;33m[\u001b[0m\u001b[0mmeasure\u001b[0m\u001b[1;33m]\u001b[0m \u001b[1;33m+\u001b[0m \u001b[0mdata\u001b[0m\u001b[1;33m[\u001b[0m\u001b[1;34m\"M1B-Q02.png\"\u001b[0m\u001b[1;33m]\u001b[0m\u001b[1;33m[\u001b[0m\u001b[0mmeasure\u001b[0m\u001b[1;33m]\u001b[0m \u001b[1;33m+\u001b[0m \u001b[0mdata\u001b[0m\u001b[1;33m[\u001b[0m\u001b[1;34m\"M1B-Q03.png\"\u001b[0m\u001b[1;33m]\u001b[0m\u001b[1;33m[\u001b[0m\u001b[0mmeasure\u001b[0m\u001b[1;33m]\u001b[0m\u001b[1;33m\u001b[0m\u001b[0m\n",
      "\u001b[1;31mKeyError\u001b[0m: 'pupilDilationDiff'"
     ]
    }
   ],
   "source": [
    "# low change of direction gobal\n",
    "#measure = \"fixationsPerSecond\"\n",
    "#fixationsPerSecond = M1B + M3A\n",
    "\n",
    "for measurement in measureList:\n",
    "    measure = measurement\n",
    "    M1AL = data[\"M1A-Q01.png\"][measure] + data[\"M1A-Q02.png\"][measure] + data[\"M1A-Q03.png\"][measure] \n",
    "    M1AG = data[\"M1A-Q04.png\"][measure] +data[\"M1A-Q05.png\"][measure] +data[\"M1A-Q06.png\"][measure]\n",
    "    M1BL = data[\"M1B-Q01.png\"][measure] + data[\"M1B-Q02.png\"][measure] + data[\"M1B-Q03.png\"][measure] \n",
    "    M1BG = data[\"M1B-Q04.png\"][measure] +data[\"M1B-Q05.png\"][measure] +data[\"M1B-Q06.png\"][measure]\n",
    "    M2AL = data[\"M2A-Q07.png\"][measure] + data[\"M2A-Q08.png\"][measure] + data[\"M2A-Q09.png\"][measure] \n",
    "    M2AG = data[\"M2A-Q10.png\"][measure] +data[\"M2A-Q11.png\"][measure] +data[\"M2A-Q12.png\"][measure]\n",
    "    M2BL = data[\"M2B-Q07.png\"][measure] + data[\"M2B-Q08.png\"][measure] + data[\"M2B-Q09.png\"][measure] \n",
    "    M2BG = data[\"M2B-Q10.png\"][measure] +data[\"M2B-Q11.png\"][measure] +data[\"M2B-Q12.png\"][measure]\n",
    "    M3AL = data[\"M3A-Q13.png\"][measure] + data[\"M3A-Q14.png\"][measure] + data[\"M3A-Q15.png\"][measure] \n",
    "    M3AG = data[\"M3A-Q16.png\"][measure] +data[\"M3A-Q17.png\"][measure] +data[\"M3A-Q18.png\"][measure]\n",
    "    M3BL = data[\"M3B-Q13.png\"][measure] + data[\"M3B-Q14.png\"][measure] + data[\"M3B-Q15.png\"][measure] \n",
    "    M3BG = data[\"M3B-Q16.png\"][measure] +data[\"M3B-Q17.png\"][measure] +data[\"M3B-Q18.png\"][measure]\n",
    "    M4AL = data[\"M4A-Q19.png\"][measure] + data[\"M4A-Q20.png\"][measure] + data[\"M4A-Q24.png\"][measure] \n",
    "    M4AG = data[\"M4A-Q22.png\"][measure] +data[\"M4A-Q23.png\"][measure] +data[\"M4A-Q21.png\"][measure]\n",
    "    M4BL = data[\"M4B-Q19.png\"][measure] + data[\"M4B-Q20.png\"][measure] + data[\"M4B-Q24.png\"][measure] \n",
    "    M4BG = data[\"M4B-Q22.png\"][measure] +data[\"M4B-Q23.png\"][measure] +data[\"M4B-Q21.png\"][measure]\n",
    "\n",
    "    messyDirectionGlobal = M1BG + M3AG\n",
    "    nonMessyDirectionGlobal = M1AG + M3BG\n",
    "    messyDirectionLocal = M1BL + M3AL\n",
    "    nonMessyDirectionLocal = M1AL + M3BL\n",
    "    messyVisibilityGlobal = M2AG + M4BG\n",
    "    nonMessyVisibilityGlobal = M2BG + M4AG\n",
    "    messyVisibilityLocal = M2AL + M4BL\n",
    "    nonMessyVisibilityLocal = M2BL + M4AL\n",
    "    \n",
    "    collectedLists = M1AG + M3BG\n",
    "    statistic, pval = stats.shapiro(collectedLists)\n",
    "    verdict = \"\"\n",
    "    if(pval < 0.055):\n",
    "        verdict = \"No\"\n",
    "    else:\n",
    "        verdict = \"Yes\"\n",
    "    \n",
    "    print measure + \"\\t\" + \"%.3f\" % (statistic,) + \"\\t\" + str(len(collectedLists)) + \"\\t\" + \"%0.3f\" % (pval,) + \"\\t\" + verdict"
   ]
  },
  {
   "cell_type": "code",
   "execution_count": 78,
   "metadata": {},
   "outputs": [
    {
     "name": "stdout",
     "output_type": "stream",
     "text": [
      "amountOfFixations\t0.976\t39\t0.573\tYes\n",
      "fixationsPerSecond\t0.984\t39\t0.847\tYes\n",
      "fixationDuration\t0.752\t39\t0.000\tNo\n",
      "saccadeVelocityList\t0.967\t39\t0.293\tYes\n",
      "fixationPrecision\t0.945\t39\t0.056\tYes\n"
     ]
    },
    {
     "ename": "KeyError",
     "evalue": "'pupilDilationDiff'",
     "output_type": "error",
     "traceback": [
      "\u001b[1;31m\u001b[0m",
      "\u001b[1;31mKeyError\u001b[0mTraceback (most recent call last)",
      "\u001b[1;32m<ipython-input-78-687a83034837>\u001b[0m in \u001b[0;36m<module>\u001b[1;34m()\u001b[0m\n\u001b[0;32m      5\u001b[0m \u001b[1;32mfor\u001b[0m \u001b[0mmeasurement\u001b[0m \u001b[1;32min\u001b[0m \u001b[0mmeasureList\u001b[0m\u001b[1;33m:\u001b[0m\u001b[1;33m\u001b[0m\u001b[0m\n\u001b[0;32m      6\u001b[0m     \u001b[0mmeasure\u001b[0m \u001b[1;33m=\u001b[0m \u001b[0mmeasurement\u001b[0m\u001b[1;33m\u001b[0m\u001b[0m\n\u001b[1;32m----> 7\u001b[1;33m     \u001b[0mM1AL\u001b[0m \u001b[1;33m=\u001b[0m \u001b[0mdata\u001b[0m\u001b[1;33m[\u001b[0m\u001b[1;34m\"M1A-Q01.png\"\u001b[0m\u001b[1;33m]\u001b[0m\u001b[1;33m[\u001b[0m\u001b[0mmeasure\u001b[0m\u001b[1;33m]\u001b[0m \u001b[1;33m+\u001b[0m \u001b[0mdata\u001b[0m\u001b[1;33m[\u001b[0m\u001b[1;34m\"M1A-Q02.png\"\u001b[0m\u001b[1;33m]\u001b[0m\u001b[1;33m[\u001b[0m\u001b[0mmeasure\u001b[0m\u001b[1;33m]\u001b[0m \u001b[1;33m+\u001b[0m \u001b[0mdata\u001b[0m\u001b[1;33m[\u001b[0m\u001b[1;34m\"M1A-Q03.png\"\u001b[0m\u001b[1;33m]\u001b[0m\u001b[1;33m[\u001b[0m\u001b[0mmeasure\u001b[0m\u001b[1;33m]\u001b[0m\u001b[1;33m\u001b[0m\u001b[0m\n\u001b[0m\u001b[0;32m      8\u001b[0m     \u001b[0mM1AG\u001b[0m \u001b[1;33m=\u001b[0m \u001b[0mdata\u001b[0m\u001b[1;33m[\u001b[0m\u001b[1;34m\"M1A-Q04.png\"\u001b[0m\u001b[1;33m]\u001b[0m\u001b[1;33m[\u001b[0m\u001b[0mmeasure\u001b[0m\u001b[1;33m]\u001b[0m \u001b[1;33m+\u001b[0m\u001b[0mdata\u001b[0m\u001b[1;33m[\u001b[0m\u001b[1;34m\"M1A-Q05.png\"\u001b[0m\u001b[1;33m]\u001b[0m\u001b[1;33m[\u001b[0m\u001b[0mmeasure\u001b[0m\u001b[1;33m]\u001b[0m \u001b[1;33m+\u001b[0m\u001b[0mdata\u001b[0m\u001b[1;33m[\u001b[0m\u001b[1;34m\"M1A-Q06.png\"\u001b[0m\u001b[1;33m]\u001b[0m\u001b[1;33m[\u001b[0m\u001b[0mmeasure\u001b[0m\u001b[1;33m]\u001b[0m\u001b[1;33m\u001b[0m\u001b[0m\n\u001b[0;32m      9\u001b[0m     \u001b[0mM1BL\u001b[0m \u001b[1;33m=\u001b[0m \u001b[0mdata\u001b[0m\u001b[1;33m[\u001b[0m\u001b[1;34m\"M1B-Q01.png\"\u001b[0m\u001b[1;33m]\u001b[0m\u001b[1;33m[\u001b[0m\u001b[0mmeasure\u001b[0m\u001b[1;33m]\u001b[0m \u001b[1;33m+\u001b[0m \u001b[0mdata\u001b[0m\u001b[1;33m[\u001b[0m\u001b[1;34m\"M1B-Q02.png\"\u001b[0m\u001b[1;33m]\u001b[0m\u001b[1;33m[\u001b[0m\u001b[0mmeasure\u001b[0m\u001b[1;33m]\u001b[0m \u001b[1;33m+\u001b[0m \u001b[0mdata\u001b[0m\u001b[1;33m[\u001b[0m\u001b[1;34m\"M1B-Q03.png\"\u001b[0m\u001b[1;33m]\u001b[0m\u001b[1;33m[\u001b[0m\u001b[0mmeasure\u001b[0m\u001b[1;33m]\u001b[0m\u001b[1;33m\u001b[0m\u001b[0m\n",
      "\u001b[1;31mKeyError\u001b[0m: 'pupilDilationDiff'"
     ]
    }
   ],
   "source": [
    "# low block visibility local\n",
    "#measure = \"fixationsPerSecond\"\n",
    "#fixationsPerSecond = M1B + M3A\n",
    "\n",
    "for measurement in measureList:\n",
    "    measure = measurement\n",
    "    M1AL = data[\"M1A-Q01.png\"][measure] + data[\"M1A-Q02.png\"][measure] + data[\"M1A-Q03.png\"][measure] \n",
    "    M1AG = data[\"M1A-Q04.png\"][measure] +data[\"M1A-Q05.png\"][measure] +data[\"M1A-Q06.png\"][measure]\n",
    "    M1BL = data[\"M1B-Q01.png\"][measure] + data[\"M1B-Q02.png\"][measure] + data[\"M1B-Q03.png\"][measure] \n",
    "    M1BG = data[\"M1B-Q04.png\"][measure] +data[\"M1B-Q05.png\"][measure] +data[\"M1B-Q06.png\"][measure]\n",
    "    M2AL = data[\"M2A-Q07.png\"][measure] + data[\"M2A-Q08.png\"][measure] + data[\"M2A-Q09.png\"][measure] \n",
    "    M2AG = data[\"M2A-Q10.png\"][measure] +data[\"M2A-Q11.png\"][measure] +data[\"M2A-Q12.png\"][measure]\n",
    "    M2BL = data[\"M2B-Q07.png\"][measure] + data[\"M2B-Q08.png\"][measure] + data[\"M2B-Q09.png\"][measure] \n",
    "    M2BG = data[\"M2B-Q10.png\"][measure] +data[\"M2B-Q11.png\"][measure] +data[\"M2B-Q12.png\"][measure]\n",
    "    M3AL = data[\"M3A-Q13.png\"][measure] + data[\"M3A-Q14.png\"][measure] + data[\"M3A-Q15.png\"][measure] \n",
    "    M3AG = data[\"M3A-Q16.png\"][measure] +data[\"M3A-Q17.png\"][measure] +data[\"M3A-Q18.png\"][measure]\n",
    "    M3BL = data[\"M3B-Q13.png\"][measure] + data[\"M3B-Q14.png\"][measure] + data[\"M3B-Q15.png\"][measure] \n",
    "    M3BG = data[\"M3B-Q16.png\"][measure] +data[\"M3B-Q17.png\"][measure] +data[\"M3B-Q18.png\"][measure]\n",
    "    M4AL = data[\"M4A-Q19.png\"][measure] + data[\"M4A-Q20.png\"][measure] + data[\"M4A-Q24.png\"][measure] \n",
    "    M4AG = data[\"M4A-Q22.png\"][measure] +data[\"M4A-Q23.png\"][measure] +data[\"M4A-Q21.png\"][measure]\n",
    "    M4BL = data[\"M4B-Q19.png\"][measure] + data[\"M4B-Q20.png\"][measure] + data[\"M4B-Q24.png\"][measure] \n",
    "    M4BG = data[\"M4B-Q22.png\"][measure] +data[\"M4B-Q23.png\"][measure] +data[\"M4B-Q21.png\"][measure]\n",
    "\n",
    "    messyDirectionGlobal = M1BG + M3AG\n",
    "    nonMessyDirectionGlobal = M1AG + M3BG\n",
    "    messyDirectionLocal = M1BL + M3AL\n",
    "    nonMessyDirectionLocal = M1AL + M3BL\n",
    "    messyVisibilityGlobal = M2AG + M4BG\n",
    "    nonMessyVisibilityGlobal = M2BG + M4AG\n",
    "    messyVisibilityLocal = M2AL + M4BL\n",
    "    nonMessyVisibilityLocal = M2BL + M4AL\n",
    "    \n",
    "    collectedLists = M2AL + M4BL\n",
    "    statistic, pval = stats.shapiro(collectedLists)\n",
    "    verdict = \"\"\n",
    "    if(pval < 0.055):\n",
    "        verdict = \"No\"\n",
    "    else:\n",
    "        verdict = \"Yes\"\n",
    "    \n",
    "    print measure + \"\\t\" + \"%.3f\" % (statistic,) + \"\\t\" + str(len(collectedLists)) + \"\\t\" + \"%0.3f\" % (pval,) + \"\\t\" + verdict"
   ]
  },
  {
   "cell_type": "code",
   "execution_count": 79,
   "metadata": {},
   "outputs": [
    {
     "name": "stdout",
     "output_type": "stream",
     "text": [
      "amountOfFixations\t0.892\t39\t0.001\tNo\n",
      "fixationsPerSecond\t0.958\t39\t0.158\tYes\n",
      "fixationDuration\t0.770\t39\t0.000\tNo\n",
      "saccadeVelocityList\t0.981\t39\t0.752\tYes\n",
      "fixationPrecision\t0.973\t39\t0.447\tYes\n"
     ]
    },
    {
     "ename": "KeyError",
     "evalue": "'pupilDilationDiff'",
     "output_type": "error",
     "traceback": [
      "\u001b[1;31m\u001b[0m",
      "\u001b[1;31mKeyError\u001b[0mTraceback (most recent call last)",
      "\u001b[1;32m<ipython-input-79-1f855d49f821>\u001b[0m in \u001b[0;36m<module>\u001b[1;34m()\u001b[0m\n\u001b[0;32m      5\u001b[0m \u001b[1;32mfor\u001b[0m \u001b[0mmeasurement\u001b[0m \u001b[1;32min\u001b[0m \u001b[0mmeasureList\u001b[0m\u001b[1;33m:\u001b[0m\u001b[1;33m\u001b[0m\u001b[0m\n\u001b[0;32m      6\u001b[0m     \u001b[0mmeasure\u001b[0m \u001b[1;33m=\u001b[0m \u001b[0mmeasurement\u001b[0m\u001b[1;33m\u001b[0m\u001b[0m\n\u001b[1;32m----> 7\u001b[1;33m     \u001b[0mM1AL\u001b[0m \u001b[1;33m=\u001b[0m \u001b[0mdata\u001b[0m\u001b[1;33m[\u001b[0m\u001b[1;34m\"M1A-Q01.png\"\u001b[0m\u001b[1;33m]\u001b[0m\u001b[1;33m[\u001b[0m\u001b[0mmeasure\u001b[0m\u001b[1;33m]\u001b[0m \u001b[1;33m+\u001b[0m \u001b[0mdata\u001b[0m\u001b[1;33m[\u001b[0m\u001b[1;34m\"M1A-Q02.png\"\u001b[0m\u001b[1;33m]\u001b[0m\u001b[1;33m[\u001b[0m\u001b[0mmeasure\u001b[0m\u001b[1;33m]\u001b[0m \u001b[1;33m+\u001b[0m \u001b[0mdata\u001b[0m\u001b[1;33m[\u001b[0m\u001b[1;34m\"M1A-Q03.png\"\u001b[0m\u001b[1;33m]\u001b[0m\u001b[1;33m[\u001b[0m\u001b[0mmeasure\u001b[0m\u001b[1;33m]\u001b[0m\u001b[1;33m\u001b[0m\u001b[0m\n\u001b[0m\u001b[0;32m      8\u001b[0m     \u001b[0mM1AG\u001b[0m \u001b[1;33m=\u001b[0m \u001b[0mdata\u001b[0m\u001b[1;33m[\u001b[0m\u001b[1;34m\"M1A-Q04.png\"\u001b[0m\u001b[1;33m]\u001b[0m\u001b[1;33m[\u001b[0m\u001b[0mmeasure\u001b[0m\u001b[1;33m]\u001b[0m \u001b[1;33m+\u001b[0m\u001b[0mdata\u001b[0m\u001b[1;33m[\u001b[0m\u001b[1;34m\"M1A-Q05.png\"\u001b[0m\u001b[1;33m]\u001b[0m\u001b[1;33m[\u001b[0m\u001b[0mmeasure\u001b[0m\u001b[1;33m]\u001b[0m \u001b[1;33m+\u001b[0m\u001b[0mdata\u001b[0m\u001b[1;33m[\u001b[0m\u001b[1;34m\"M1A-Q06.png\"\u001b[0m\u001b[1;33m]\u001b[0m\u001b[1;33m[\u001b[0m\u001b[0mmeasure\u001b[0m\u001b[1;33m]\u001b[0m\u001b[1;33m\u001b[0m\u001b[0m\n\u001b[0;32m      9\u001b[0m     \u001b[0mM1BL\u001b[0m \u001b[1;33m=\u001b[0m \u001b[0mdata\u001b[0m\u001b[1;33m[\u001b[0m\u001b[1;34m\"M1B-Q01.png\"\u001b[0m\u001b[1;33m]\u001b[0m\u001b[1;33m[\u001b[0m\u001b[0mmeasure\u001b[0m\u001b[1;33m]\u001b[0m \u001b[1;33m+\u001b[0m \u001b[0mdata\u001b[0m\u001b[1;33m[\u001b[0m\u001b[1;34m\"M1B-Q02.png\"\u001b[0m\u001b[1;33m]\u001b[0m\u001b[1;33m[\u001b[0m\u001b[0mmeasure\u001b[0m\u001b[1;33m]\u001b[0m \u001b[1;33m+\u001b[0m \u001b[0mdata\u001b[0m\u001b[1;33m[\u001b[0m\u001b[1;34m\"M1B-Q03.png\"\u001b[0m\u001b[1;33m]\u001b[0m\u001b[1;33m[\u001b[0m\u001b[0mmeasure\u001b[0m\u001b[1;33m]\u001b[0m\u001b[1;33m\u001b[0m\u001b[0m\n",
      "\u001b[1;31mKeyError\u001b[0m: 'pupilDilationDiff'"
     ]
    }
   ],
   "source": [
    "# low block visibility global\n",
    "#measure = \"fixationsPerSecond\"\n",
    "#fixationsPerSecond = M1B + M3A\n",
    "\n",
    "for measurement in measureList:\n",
    "    measure = measurement\n",
    "    M1AL = data[\"M1A-Q01.png\"][measure] + data[\"M1A-Q02.png\"][measure] + data[\"M1A-Q03.png\"][measure] \n",
    "    M1AG = data[\"M1A-Q04.png\"][measure] +data[\"M1A-Q05.png\"][measure] +data[\"M1A-Q06.png\"][measure]\n",
    "    M1BL = data[\"M1B-Q01.png\"][measure] + data[\"M1B-Q02.png\"][measure] + data[\"M1B-Q03.png\"][measure] \n",
    "    M1BG = data[\"M1B-Q04.png\"][measure] +data[\"M1B-Q05.png\"][measure] +data[\"M1B-Q06.png\"][measure]\n",
    "    M2AL = data[\"M2A-Q07.png\"][measure] + data[\"M2A-Q08.png\"][measure] + data[\"M2A-Q09.png\"][measure] \n",
    "    M2AG = data[\"M2A-Q10.png\"][measure] +data[\"M2A-Q11.png\"][measure] +data[\"M2A-Q12.png\"][measure]\n",
    "    M2BL = data[\"M2B-Q07.png\"][measure] + data[\"M2B-Q08.png\"][measure] + data[\"M2B-Q09.png\"][measure] \n",
    "    M2BG = data[\"M2B-Q10.png\"][measure] +data[\"M2B-Q11.png\"][measure] +data[\"M2B-Q12.png\"][measure]\n",
    "    M3AL = data[\"M3A-Q13.png\"][measure] + data[\"M3A-Q14.png\"][measure] + data[\"M3A-Q15.png\"][measure] \n",
    "    M3AG = data[\"M3A-Q16.png\"][measure] +data[\"M3A-Q17.png\"][measure] +data[\"M3A-Q18.png\"][measure]\n",
    "    M3BL = data[\"M3B-Q13.png\"][measure] + data[\"M3B-Q14.png\"][measure] + data[\"M3B-Q15.png\"][measure] \n",
    "    M3BG = data[\"M3B-Q16.png\"][measure] +data[\"M3B-Q17.png\"][measure] +data[\"M3B-Q18.png\"][measure]\n",
    "    M4AL = data[\"M4A-Q19.png\"][measure] + data[\"M4A-Q20.png\"][measure] + data[\"M4A-Q24.png\"][measure] \n",
    "    M4AG = data[\"M4A-Q22.png\"][measure] +data[\"M4A-Q23.png\"][measure] +data[\"M4A-Q21.png\"][measure]\n",
    "    M4BL = data[\"M4B-Q19.png\"][measure] + data[\"M4B-Q20.png\"][measure] + data[\"M4B-Q24.png\"][measure] \n",
    "    M4BG = data[\"M4B-Q22.png\"][measure] +data[\"M4B-Q23.png\"][measure] +data[\"M4B-Q21.png\"][measure]\n",
    "\n",
    "    messyDirectionGlobal = M1BG + M3AG\n",
    "    nonMessyDirectionGlobal = M1AG + M3BG\n",
    "    messyDirectionLocal = M1BL + M3AL\n",
    "    nonMessyDirectionLocal = M1AL + M3BL\n",
    "    messyVisibilityGlobal = M2AG + M4BG\n",
    "    nonMessyVisibilityGlobal = M2BG + M4AG\n",
    "    messyVisibilityLocal = M2AL + M4BL\n",
    "    nonMessyVisibilityLocal = M2BL + M4AL\n",
    "    \n",
    "    collectedLists = M2AG + M4BG\n",
    "    statistic, pval = stats.shapiro(collectedLists)\n",
    "    verdict = \"\"\n",
    "    if(pval < 0.055):\n",
    "        verdict = \"No\"\n",
    "    else:\n",
    "        verdict = \"Yes\"\n",
    "    \n",
    "    print measure + \"\\t\" + \"%.3f\" % (statistic,) + \"\\t\" + str(len(collectedLists)) + \"\\t\" + \"%0.3f\" % (pval,) + \"\\t\" + verdict"
   ]
  },
  {
   "cell_type": "code",
   "execution_count": 80,
   "metadata": {},
   "outputs": [
    {
     "name": "stdout",
     "output_type": "stream",
     "text": [
      "amountOfFixations\t0.926\t39\t0.014\tNo\n",
      "fixationsPerSecond\t0.976\t39\t0.568\tYes\n",
      "fixationDuration\t0.965\t39\t0.261\tYes\n",
      "saccadeVelocityList\t0.988\t39\t0.953\tYes\n",
      "fixationPrecision\t0.967\t39\t0.301\tYes\n"
     ]
    },
    {
     "ename": "KeyError",
     "evalue": "'pupilDilationDiff'",
     "output_type": "error",
     "traceback": [
      "\u001b[1;31m\u001b[0m",
      "\u001b[1;31mKeyError\u001b[0mTraceback (most recent call last)",
      "\u001b[1;32m<ipython-input-80-7fff03a79144>\u001b[0m in \u001b[0;36m<module>\u001b[1;34m()\u001b[0m\n\u001b[0;32m      5\u001b[0m \u001b[1;32mfor\u001b[0m \u001b[0mmeasurement\u001b[0m \u001b[1;32min\u001b[0m \u001b[0mmeasureList\u001b[0m\u001b[1;33m:\u001b[0m\u001b[1;33m\u001b[0m\u001b[0m\n\u001b[0;32m      6\u001b[0m     \u001b[0mmeasure\u001b[0m \u001b[1;33m=\u001b[0m \u001b[0mmeasurement\u001b[0m\u001b[1;33m\u001b[0m\u001b[0m\n\u001b[1;32m----> 7\u001b[1;33m     \u001b[0mM1AL\u001b[0m \u001b[1;33m=\u001b[0m \u001b[0mdata\u001b[0m\u001b[1;33m[\u001b[0m\u001b[1;34m\"M1A-Q01.png\"\u001b[0m\u001b[1;33m]\u001b[0m\u001b[1;33m[\u001b[0m\u001b[0mmeasure\u001b[0m\u001b[1;33m]\u001b[0m \u001b[1;33m+\u001b[0m \u001b[0mdata\u001b[0m\u001b[1;33m[\u001b[0m\u001b[1;34m\"M1A-Q02.png\"\u001b[0m\u001b[1;33m]\u001b[0m\u001b[1;33m[\u001b[0m\u001b[0mmeasure\u001b[0m\u001b[1;33m]\u001b[0m \u001b[1;33m+\u001b[0m \u001b[0mdata\u001b[0m\u001b[1;33m[\u001b[0m\u001b[1;34m\"M1A-Q03.png\"\u001b[0m\u001b[1;33m]\u001b[0m\u001b[1;33m[\u001b[0m\u001b[0mmeasure\u001b[0m\u001b[1;33m]\u001b[0m\u001b[1;33m\u001b[0m\u001b[0m\n\u001b[0m\u001b[0;32m      8\u001b[0m     \u001b[0mM1AG\u001b[0m \u001b[1;33m=\u001b[0m \u001b[0mdata\u001b[0m\u001b[1;33m[\u001b[0m\u001b[1;34m\"M1A-Q04.png\"\u001b[0m\u001b[1;33m]\u001b[0m\u001b[1;33m[\u001b[0m\u001b[0mmeasure\u001b[0m\u001b[1;33m]\u001b[0m \u001b[1;33m+\u001b[0m\u001b[0mdata\u001b[0m\u001b[1;33m[\u001b[0m\u001b[1;34m\"M1A-Q05.png\"\u001b[0m\u001b[1;33m]\u001b[0m\u001b[1;33m[\u001b[0m\u001b[0mmeasure\u001b[0m\u001b[1;33m]\u001b[0m \u001b[1;33m+\u001b[0m\u001b[0mdata\u001b[0m\u001b[1;33m[\u001b[0m\u001b[1;34m\"M1A-Q06.png\"\u001b[0m\u001b[1;33m]\u001b[0m\u001b[1;33m[\u001b[0m\u001b[0mmeasure\u001b[0m\u001b[1;33m]\u001b[0m\u001b[1;33m\u001b[0m\u001b[0m\n\u001b[0;32m      9\u001b[0m     \u001b[0mM1BL\u001b[0m \u001b[1;33m=\u001b[0m \u001b[0mdata\u001b[0m\u001b[1;33m[\u001b[0m\u001b[1;34m\"M1B-Q01.png\"\u001b[0m\u001b[1;33m]\u001b[0m\u001b[1;33m[\u001b[0m\u001b[0mmeasure\u001b[0m\u001b[1;33m]\u001b[0m \u001b[1;33m+\u001b[0m \u001b[0mdata\u001b[0m\u001b[1;33m[\u001b[0m\u001b[1;34m\"M1B-Q02.png\"\u001b[0m\u001b[1;33m]\u001b[0m\u001b[1;33m[\u001b[0m\u001b[0mmeasure\u001b[0m\u001b[1;33m]\u001b[0m \u001b[1;33m+\u001b[0m \u001b[0mdata\u001b[0m\u001b[1;33m[\u001b[0m\u001b[1;34m\"M1B-Q03.png\"\u001b[0m\u001b[1;33m]\u001b[0m\u001b[1;33m[\u001b[0m\u001b[0mmeasure\u001b[0m\u001b[1;33m]\u001b[0m\u001b[1;33m\u001b[0m\u001b[0m\n",
      "\u001b[1;31mKeyError\u001b[0m: 'pupilDilationDiff'"
     ]
    }
   ],
   "source": [
    "# high block visibility local\n",
    "#measure = \"fixationsPerSecond\"\n",
    "#fixationsPerSecond = M1B + M3A\n",
    "\n",
    "for measurement in measureList:\n",
    "    measure = measurement\n",
    "    M1AL = data[\"M1A-Q01.png\"][measure] + data[\"M1A-Q02.png\"][measure] + data[\"M1A-Q03.png\"][measure] \n",
    "    M1AG = data[\"M1A-Q04.png\"][measure] +data[\"M1A-Q05.png\"][measure] +data[\"M1A-Q06.png\"][measure]\n",
    "    M1BL = data[\"M1B-Q01.png\"][measure] + data[\"M1B-Q02.png\"][measure] + data[\"M1B-Q03.png\"][measure] \n",
    "    M1BG = data[\"M1B-Q04.png\"][measure] +data[\"M1B-Q05.png\"][measure] +data[\"M1B-Q06.png\"][measure]\n",
    "    M2AL = data[\"M2A-Q07.png\"][measure] + data[\"M2A-Q08.png\"][measure] + data[\"M2A-Q09.png\"][measure] \n",
    "    M2AG = data[\"M2A-Q10.png\"][measure] +data[\"M2A-Q11.png\"][measure] +data[\"M2A-Q12.png\"][measure]\n",
    "    M2BL = data[\"M2B-Q07.png\"][measure] + data[\"M2B-Q08.png\"][measure] + data[\"M2B-Q09.png\"][measure] \n",
    "    M2BG = data[\"M2B-Q10.png\"][measure] +data[\"M2B-Q11.png\"][measure] +data[\"M2B-Q12.png\"][measure]\n",
    "    M3AL = data[\"M3A-Q13.png\"][measure] + data[\"M3A-Q14.png\"][measure] + data[\"M3A-Q15.png\"][measure] \n",
    "    M3AG = data[\"M3A-Q16.png\"][measure] +data[\"M3A-Q17.png\"][measure] +data[\"M3A-Q18.png\"][measure]\n",
    "    M3BL = data[\"M3B-Q13.png\"][measure] + data[\"M3B-Q14.png\"][measure] + data[\"M3B-Q15.png\"][measure] \n",
    "    M3BG = data[\"M3B-Q16.png\"][measure] +data[\"M3B-Q17.png\"][measure] +data[\"M3B-Q18.png\"][measure]\n",
    "    M4AL = data[\"M4A-Q19.png\"][measure] + data[\"M4A-Q20.png\"][measure] + data[\"M4A-Q24.png\"][measure] \n",
    "    M4AG = data[\"M4A-Q22.png\"][measure] +data[\"M4A-Q23.png\"][measure] +data[\"M4A-Q21.png\"][measure]\n",
    "    M4BL = data[\"M4B-Q19.png\"][measure] + data[\"M4B-Q20.png\"][measure] + data[\"M4B-Q24.png\"][measure] \n",
    "    M4BG = data[\"M4B-Q22.png\"][measure] +data[\"M4B-Q23.png\"][measure] +data[\"M4B-Q21.png\"][measure]\n",
    "\n",
    "    messyDirectionGlobal = M1BG + M3AG\n",
    "    nonMessyDirectionGlobal = M1AG + M3BG\n",
    "    messyDirectionLocal = M1BL + M3AL\n",
    "    nonMessyDirectionLocal = M1AL + M3BL\n",
    "    messyVisibilityGlobal = M2AG + M4BG\n",
    "    nonMessyVisibilityGlobal = M2BG + M4AG\n",
    "    messyVisibilityLocal = M2AL + M4BL\n",
    "    nonMessyVisibilityLocal = M2BL + M4AL\n",
    "    \n",
    "    collectedLists = M2BL + M4AL\n",
    "    statistic, pval = stats.shapiro(collectedLists)\n",
    "    verdict = \"\"\n",
    "    if(pval < 0.055):\n",
    "        verdict = \"No\"\n",
    "    else:\n",
    "        verdict = \"Yes\"\n",
    "    \n",
    "    print measure + \"\\t\" + \"%.3f\" % (statistic,) + \"\\t\" + str(len(collectedLists)) + \"\\t\" + \"%0.3f\" % (pval,) + \"\\t\" + verdict"
   ]
  },
  {
   "cell_type": "code",
   "execution_count": 81,
   "metadata": {},
   "outputs": [
    {
     "name": "stdout",
     "output_type": "stream",
     "text": [
      "amountOfFixations\t0.886\t39\t0.001\tNo\n",
      "fixationsPerSecond\t0.965\t39\t0.258\tYes\n",
      "fixationDuration\t0.906\t39\t0.003\tNo\n",
      "saccadeVelocityList\t0.947\t39\t0.067\tYes\n",
      "fixationPrecision\t0.953\t39\t0.103\tYes\n"
     ]
    },
    {
     "ename": "KeyError",
     "evalue": "'pupilDilationDiff'",
     "output_type": "error",
     "traceback": [
      "\u001b[1;31m\u001b[0m",
      "\u001b[1;31mKeyError\u001b[0mTraceback (most recent call last)",
      "\u001b[1;32m<ipython-input-81-a3221a8d92d4>\u001b[0m in \u001b[0;36m<module>\u001b[1;34m()\u001b[0m\n\u001b[0;32m      5\u001b[0m \u001b[1;32mfor\u001b[0m \u001b[0mmeasurement\u001b[0m \u001b[1;32min\u001b[0m \u001b[0mmeasureList\u001b[0m\u001b[1;33m:\u001b[0m\u001b[1;33m\u001b[0m\u001b[0m\n\u001b[0;32m      6\u001b[0m     \u001b[0mmeasure\u001b[0m \u001b[1;33m=\u001b[0m \u001b[0mmeasurement\u001b[0m\u001b[1;33m\u001b[0m\u001b[0m\n\u001b[1;32m----> 7\u001b[1;33m     \u001b[0mM1AL\u001b[0m \u001b[1;33m=\u001b[0m \u001b[0mdata\u001b[0m\u001b[1;33m[\u001b[0m\u001b[1;34m\"M1A-Q01.png\"\u001b[0m\u001b[1;33m]\u001b[0m\u001b[1;33m[\u001b[0m\u001b[0mmeasure\u001b[0m\u001b[1;33m]\u001b[0m \u001b[1;33m+\u001b[0m \u001b[0mdata\u001b[0m\u001b[1;33m[\u001b[0m\u001b[1;34m\"M1A-Q02.png\"\u001b[0m\u001b[1;33m]\u001b[0m\u001b[1;33m[\u001b[0m\u001b[0mmeasure\u001b[0m\u001b[1;33m]\u001b[0m \u001b[1;33m+\u001b[0m \u001b[0mdata\u001b[0m\u001b[1;33m[\u001b[0m\u001b[1;34m\"M1A-Q03.png\"\u001b[0m\u001b[1;33m]\u001b[0m\u001b[1;33m[\u001b[0m\u001b[0mmeasure\u001b[0m\u001b[1;33m]\u001b[0m\u001b[1;33m\u001b[0m\u001b[0m\n\u001b[0m\u001b[0;32m      8\u001b[0m     \u001b[0mM1AG\u001b[0m \u001b[1;33m=\u001b[0m \u001b[0mdata\u001b[0m\u001b[1;33m[\u001b[0m\u001b[1;34m\"M1A-Q04.png\"\u001b[0m\u001b[1;33m]\u001b[0m\u001b[1;33m[\u001b[0m\u001b[0mmeasure\u001b[0m\u001b[1;33m]\u001b[0m \u001b[1;33m+\u001b[0m\u001b[0mdata\u001b[0m\u001b[1;33m[\u001b[0m\u001b[1;34m\"M1A-Q05.png\"\u001b[0m\u001b[1;33m]\u001b[0m\u001b[1;33m[\u001b[0m\u001b[0mmeasure\u001b[0m\u001b[1;33m]\u001b[0m \u001b[1;33m+\u001b[0m\u001b[0mdata\u001b[0m\u001b[1;33m[\u001b[0m\u001b[1;34m\"M1A-Q06.png\"\u001b[0m\u001b[1;33m]\u001b[0m\u001b[1;33m[\u001b[0m\u001b[0mmeasure\u001b[0m\u001b[1;33m]\u001b[0m\u001b[1;33m\u001b[0m\u001b[0m\n\u001b[0;32m      9\u001b[0m     \u001b[0mM1BL\u001b[0m \u001b[1;33m=\u001b[0m \u001b[0mdata\u001b[0m\u001b[1;33m[\u001b[0m\u001b[1;34m\"M1B-Q01.png\"\u001b[0m\u001b[1;33m]\u001b[0m\u001b[1;33m[\u001b[0m\u001b[0mmeasure\u001b[0m\u001b[1;33m]\u001b[0m \u001b[1;33m+\u001b[0m \u001b[0mdata\u001b[0m\u001b[1;33m[\u001b[0m\u001b[1;34m\"M1B-Q02.png\"\u001b[0m\u001b[1;33m]\u001b[0m\u001b[1;33m[\u001b[0m\u001b[0mmeasure\u001b[0m\u001b[1;33m]\u001b[0m \u001b[1;33m+\u001b[0m \u001b[0mdata\u001b[0m\u001b[1;33m[\u001b[0m\u001b[1;34m\"M1B-Q03.png\"\u001b[0m\u001b[1;33m]\u001b[0m\u001b[1;33m[\u001b[0m\u001b[0mmeasure\u001b[0m\u001b[1;33m]\u001b[0m\u001b[1;33m\u001b[0m\u001b[0m\n",
      "\u001b[1;31mKeyError\u001b[0m: 'pupilDilationDiff'"
     ]
    }
   ],
   "source": [
    "# high block visibility global\n",
    "#measure = \"fixationsPerSecond\"\n",
    "#fixationsPerSecond = M1B + M3A\n",
    "\n",
    "for measurement in measureList:\n",
    "    measure = measurement\n",
    "    M1AL = data[\"M1A-Q01.png\"][measure] + data[\"M1A-Q02.png\"][measure] + data[\"M1A-Q03.png\"][measure] \n",
    "    M1AG = data[\"M1A-Q04.png\"][measure] +data[\"M1A-Q05.png\"][measure] +data[\"M1A-Q06.png\"][measure]\n",
    "    M1BL = data[\"M1B-Q01.png\"][measure] + data[\"M1B-Q02.png\"][measure] + data[\"M1B-Q03.png\"][measure] \n",
    "    M1BG = data[\"M1B-Q04.png\"][measure] +data[\"M1B-Q05.png\"][measure] +data[\"M1B-Q06.png\"][measure]\n",
    "    M2AL = data[\"M2A-Q07.png\"][measure] + data[\"M2A-Q08.png\"][measure] + data[\"M2A-Q09.png\"][measure] \n",
    "    M2AG = data[\"M2A-Q10.png\"][measure] +data[\"M2A-Q11.png\"][measure] +data[\"M2A-Q12.png\"][measure]\n",
    "    M2BL = data[\"M2B-Q07.png\"][measure] + data[\"M2B-Q08.png\"][measure] + data[\"M2B-Q09.png\"][measure] \n",
    "    M2BG = data[\"M2B-Q10.png\"][measure] +data[\"M2B-Q11.png\"][measure] +data[\"M2B-Q12.png\"][measure]\n",
    "    M3AL = data[\"M3A-Q13.png\"][measure] + data[\"M3A-Q14.png\"][measure] + data[\"M3A-Q15.png\"][measure] \n",
    "    M3AG = data[\"M3A-Q16.png\"][measure] +data[\"M3A-Q17.png\"][measure] +data[\"M3A-Q18.png\"][measure]\n",
    "    M3BL = data[\"M3B-Q13.png\"][measure] + data[\"M3B-Q14.png\"][measure] + data[\"M3B-Q15.png\"][measure] \n",
    "    M3BG = data[\"M3B-Q16.png\"][measure] +data[\"M3B-Q17.png\"][measure] +data[\"M3B-Q18.png\"][measure]\n",
    "    M4AL = data[\"M4A-Q19.png\"][measure] + data[\"M4A-Q20.png\"][measure] + data[\"M4A-Q24.png\"][measure] \n",
    "    M4AG = data[\"M4A-Q22.png\"][measure] +data[\"M4A-Q23.png\"][measure] +data[\"M4A-Q21.png\"][measure]\n",
    "    M4BL = data[\"M4B-Q19.png\"][measure] + data[\"M4B-Q20.png\"][measure] + data[\"M4B-Q24.png\"][measure] \n",
    "    M4BG = data[\"M4B-Q22.png\"][measure] +data[\"M4B-Q23.png\"][measure] +data[\"M4B-Q21.png\"][measure]\n",
    "\n",
    "    messyDirectionGlobal = M1BG + M3AG\n",
    "    nonMessyDirectionGlobal = M1AG + M3BG\n",
    "    messyDirectionLocal = M1BL + M3AL\n",
    "    nonMessyDirectionLocal = M1AL + M3BL\n",
    "    messyVisibilityGlobal = M2AG + M4BG\n",
    "    nonMessyVisibilityGlobal = M2BG + M4AG\n",
    "    messyVisibilityLocal = M2AL + M4BL\n",
    "    nonMessyVisibilityLocal = M2BL + M4AL\n",
    "    \n",
    "    collectedLists = M2BG + M4AG\n",
    "    statistic, pval = stats.shapiro(collectedLists)\n",
    "    verdict = \"\"\n",
    "    if(pval < 0.055):\n",
    "        verdict = \"No\"\n",
    "    else:\n",
    "        verdict = \"Yes\"\n",
    "    \n",
    "    print measure + \"\\t\" + \"%.3f\" % (statistic,) + \"\\t\" + str(len(collectedLists)) + \"\\t\" + \"%0.3f\" % (pval,) + \"\\t\" + verdict"
   ]
  },
  {
   "cell_type": "code",
   "execution_count": 82,
   "metadata": {},
   "outputs": [
    {
     "data": {
      "text/plain": [
       "(0.9049727916717529, 4.160565392642007e-13)"
      ]
     },
     "execution_count": 82,
     "metadata": {},
     "output_type": "execute_result"
    }
   ],
   "source": [
    "measure = \"amountOfFixations\"\n",
    "M1AL = data[\"M1A-Q01.png\"][measure] + data[\"M1A-Q02.png\"][measure] + data[\"M1A-Q03.png\"][measure] \n",
    "M1AG = data[\"M1A-Q04.png\"][measure] +data[\"M1A-Q05.png\"][measure] +data[\"M1A-Q06.png\"][measure]\n",
    "M1BL = data[\"M1B-Q01.png\"][measure] + data[\"M1B-Q02.png\"][measure] + data[\"M1B-Q03.png\"][measure] \n",
    "M1BG = data[\"M1B-Q04.png\"][measure] +data[\"M1B-Q05.png\"][measure] +data[\"M1B-Q06.png\"][measure]\n",
    "M2AL = data[\"M2A-Q07.png\"][measure] + data[\"M2A-Q08.png\"][measure] + data[\"M2A-Q09.png\"][measure] \n",
    "M2AG = data[\"M2A-Q10.png\"][measure] +data[\"M2A-Q11.png\"][measure] +data[\"M2A-Q12.png\"][measure]\n",
    "M2BL = data[\"M2B-Q07.png\"][measure] + data[\"M2B-Q08.png\"][measure] + data[\"M2B-Q09.png\"][measure] \n",
    "M2BG = data[\"M2B-Q10.png\"][measure] +data[\"M2B-Q11.png\"][measure] +data[\"M2B-Q12.png\"][measure]\n",
    "M3AL = data[\"M3A-Q13.png\"][measure] + data[\"M3A-Q14.png\"][measure] + data[\"M3A-Q15.png\"][measure] \n",
    "M3AG = data[\"M3A-Q16.png\"][measure] +data[\"M3A-Q17.png\"][measure] +data[\"M3A-Q18.png\"][measure]\n",
    "M3BL = data[\"M3B-Q13.png\"][measure] + data[\"M3B-Q14.png\"][measure] + data[\"M3B-Q15.png\"][measure] \n",
    "M3BG = data[\"M3B-Q16.png\"][measure] +data[\"M3B-Q17.png\"][measure] +data[\"M3B-Q18.png\"][measure]\n",
    "M4AL = data[\"M4A-Q19.png\"][measure] + data[\"M4A-Q20.png\"][measure] + data[\"M4A-Q24.png\"][measure] \n",
    "M4AG = data[\"M4A-Q22.png\"][measure] +data[\"M4A-Q23.png\"][measure] +data[\"M4A-Q21.png\"][measure]\n",
    "M4BL = data[\"M4B-Q19.png\"][measure] + data[\"M4B-Q20.png\"][measure] + data[\"M4B-Q24.png\"][measure] \n",
    "M4BG = data[\"M4B-Q22.png\"][measure] +data[\"M4B-Q23.png\"][measure] +data[\"M4B-Q21.png\"][measure]\n",
    "\n",
    "messyL = M1BL + M3AL + M2AL + M4BL\n",
    "messyG = M1BG + M3AG + M2AG + M4BG\n",
    "nonMessyL = M1AL + M3BL + M2BL + M4AL\n",
    "nonMessyG = M1AG + M3BG + M2BG + M4AG\n",
    "allFixations = messyL+messyG+nonMessyL+nonMessyG\n",
    "\n",
    "stats.shapiro(allFixations)"
   ]
  },
  {
   "cell_type": "code",
   "execution_count": 83,
   "metadata": {},
   "outputs": [
    {
     "name": "stdout",
     "output_type": "stream",
     "text": [
      "(0.9895576238632202, 0.971298098564148)\n",
      "(0.8894631862640381, 0.0011157650733366609)\n",
      "(0.9559558033943176, 0.130484476685524)\n",
      "(0.7929585576057434, 6.037895673216553e-06)\n",
      "(0.9103532433509827, 0.0044300551526248455)\n",
      "(0.9730880260467529, 0.4645434319972992)\n",
      "(0.8508116602897644, 0.00011317837925162166)\n",
      "(0.8891229629516602, 0.0010919627966359258)\n"
     ]
    }
   ],
   "source": [
    "measure = \"duration\"\n",
    "M1AL = data[\"M1A-Q01.png\"][measure] + data[\"M1A-Q02.png\"][measure] + data[\"M1A-Q03.png\"][measure] \n",
    "M1AG = data[\"M1A-Q04.png\"][measure] +data[\"M1A-Q05.png\"][measure] +data[\"M1A-Q06.png\"][measure]\n",
    "M1BL = data[\"M1B-Q01.png\"][measure] + data[\"M1B-Q02.png\"][measure] + data[\"M1B-Q03.png\"][measure] \n",
    "M1BG = data[\"M1B-Q04.png\"][measure] +data[\"M1B-Q05.png\"][measure] +data[\"M1B-Q06.png\"][measure]\n",
    "M2AL = data[\"M2A-Q07.png\"][measure] + data[\"M2A-Q08.png\"][measure] + data[\"M2A-Q09.png\"][measure] \n",
    "M2AG = data[\"M2A-Q10.png\"][measure] +data[\"M2A-Q11.png\"][measure] +data[\"M2A-Q12.png\"][measure]\n",
    "M2BL = data[\"M2B-Q07.png\"][measure] + data[\"M2B-Q08.png\"][measure] + data[\"M2B-Q09.png\"][measure] \n",
    "M2BG = data[\"M2B-Q10.png\"][measure] +data[\"M2B-Q11.png\"][measure] +data[\"M2B-Q12.png\"][measure]\n",
    "M3AL = data[\"M3A-Q13.png\"][measure] + data[\"M3A-Q14.png\"][measure] + data[\"M3A-Q15.png\"][measure] \n",
    "M3AG = data[\"M3A-Q16.png\"][measure] +data[\"M3A-Q17.png\"][measure] +data[\"M3A-Q18.png\"][measure]\n",
    "M3BL = data[\"M3B-Q13.png\"][measure] + data[\"M3B-Q14.png\"][measure] + data[\"M3B-Q15.png\"][measure] \n",
    "M3BG = data[\"M3B-Q16.png\"][measure] +data[\"M3B-Q17.png\"][measure] +data[\"M3B-Q18.png\"][measure]\n",
    "M4AL = data[\"M4A-Q19.png\"][measure] + data[\"M4A-Q20.png\"][measure] + data[\"M4A-Q24.png\"][measure] \n",
    "M4AG = data[\"M4A-Q22.png\"][measure] +data[\"M4A-Q23.png\"][measure] +data[\"M4A-Q21.png\"][measure]\n",
    "M4BL = data[\"M4B-Q19.png\"][measure] + data[\"M4B-Q20.png\"][measure] + data[\"M4B-Q24.png\"][measure] \n",
    "M4BG = data[\"M4B-Q22.png\"][measure] +data[\"M4B-Q23.png\"][measure] +data[\"M4B-Q21.png\"][measure]\n",
    "\n",
    "messyDirectionGlobal = M1BG + M3AG\n",
    "nonMessyDirectionGlobal = M1AG + M3BG \n",
    "messyDirectionLocal = M1BL + M3AL\n",
    "nonMessyDirectionLocal = M1AL + M3BL\n",
    "messyVisibilityGlobal = M2AG + M4BG\n",
    "nonMessyVisibilityGlobal = M2BG + M4AG\n",
    "messyVisibilityLocal = M2AL + M4BL\n",
    "nonMessyVisibilityLocal = M2BL + M4AL\n",
    "\n",
    "print stats.shapiro(messyDirectionGlobal)\n",
    "print stats.shapiro(messyDirectionLocal)\n",
    "print stats.shapiro(nonMessyDirectionGlobal)\n",
    "print stats.shapiro(nonMessyDirectionLocal)\n",
    "print stats.shapiro(messyVisibilityGlobal)\n",
    "print stats.shapiro(messyVisibilityLocal)\n",
    "print stats.shapiro(nonMessyVisibilityGlobal)\n",
    "print stats.shapiro(nonMessyVisibilityLocal)"
   ]
  },
  {
   "cell_type": "code",
   "execution_count": 84,
   "metadata": {},
   "outputs": [
    {
     "name": "stdout",
     "output_type": "stream",
     "text": [
      "(0.8114262223243713, 0.009347505867481232)\n",
      "(0.5240042209625244, 1.5539282685494982e-05)\n",
      "(0.8194588422775269, 0.011717051267623901)\n",
      "(0.7558441758155823, 0.002134317997843027)\n",
      "(0.8122488260269165, 0.009564883075654507)\n",
      "(0.31100672483444214, 5.044599902248592e-07)\n",
      "(0.8122488260269165, 0.009564883075654507)\n",
      "(0.5674636363983154, 3.47693930962123e-05)\n"
     ]
    }
   ],
   "source": [
    "measure = \"accuracy\"\n",
    "M1AL = []\n",
    "for index in xrange(len(data[\"M1A-Q01.png\"][measure])):\n",
    "    M1AL.append(data[\"M1A-Q01.png\"][measure][index]+data[\"M1A-Q02.png\"][measure][index]+data[\"M1A-Q03.png\"][measure][index])\n",
    "M1AG = []\n",
    "for index in xrange(len(data[\"M1A-Q04.png\"][measure])):\n",
    "    M1AG.append(data[\"M1A-Q04.png\"][measure][index]+data[\"M1A-Q05.png\"][measure][index]+data[\"M1A-Q06.png\"][measure][index])\n",
    "M1BL = []\n",
    "for index in xrange(len(data[\"M1B-Q01.png\"][measure])):\n",
    "    M1BL.append(data[\"M1B-Q01.png\"][measure][index]+data[\"M1B-Q02.png\"][measure][index]+data[\"M1B-Q03.png\"][measure][index])\n",
    "M1BG = []\n",
    "for index in xrange(len(data[\"M1B-Q04.png\"][measure])):\n",
    "    M1BG.append(data[\"M1B-Q04.png\"][measure][index]+data[\"M1B-Q05.png\"][measure][index]+data[\"M1B-Q06.png\"][measure][index])\n",
    "M2AL = []\n",
    "for index in xrange(len(data[\"M2A-Q07.png\"][measure])):\n",
    "    M2AL.append(data[\"M2A-Q07.png\"][measure][index]+data[\"M2A-Q08.png\"][measure][index]+data[\"M2A-Q09.png\"][measure][index])\n",
    "M2AG = []\n",
    "for index in xrange(len(data[\"M2A-Q10.png\"][measure])):\n",
    "    M2AG.append(data[\"M2A-Q10.png\"][measure][index]+data[\"M2A-Q11.png\"][measure][index]+data[\"M2A-Q12.png\"][measure][index])\n",
    "M2BL = []\n",
    "for index in xrange(len(data[\"M2B-Q07.png\"][measure])):\n",
    "    M2BL.append(data[\"M2B-Q07.png\"][measure][index]+data[\"M2B-Q08.png\"][measure][index]+data[\"M2B-Q09.png\"][measure][index])\n",
    "M2BG = []\n",
    "for index in xrange(len(data[\"M2B-Q10.png\"][measure])):\n",
    "    M2BG.append(data[\"M2B-Q10.png\"][measure][index]+data[\"M2B-Q11.png\"][measure][index]+data[\"M2B-Q12.png\"][measure][index])\n",
    "M3AL = []\n",
    "for index in xrange(len(data[\"M3A-Q13.png\"][measure])):\n",
    "    M3AL.append(data[\"M3A-Q13.png\"][measure][index]+data[\"M3A-Q14.png\"][measure][index]+data[\"M3A-Q15.png\"][measure][index])\n",
    "M3AG = []\n",
    "for index in xrange(len(data[\"M3A-Q16.png\"][measure])):\n",
    "    M3AG.append(data[\"M3A-Q16.png\"][measure][index]+data[\"M3A-Q17.png\"][measure][index]+data[\"M3A-Q18.png\"][measure][index])\n",
    "M3BL = []\n",
    "for index in xrange(len(data[\"M3B-Q13.png\"][measure])):\n",
    "    M3BL.append(data[\"M3B-Q13.png\"][measure][index]+data[\"M3B-Q14.png\"][measure][index]+data[\"M3B-Q15.png\"][measure][index])\n",
    "M3BG = []\n",
    "for index in xrange(len(data[\"M3B-Q16.png\"][measure])):\n",
    "    M3BG.append(data[\"M3B-Q16.png\"][measure][index]+data[\"M3B-Q17.png\"][measure][index]+data[\"M3B-Q18.png\"][measure][index])\n",
    "M4AL = []\n",
    "for index in xrange(len(data[\"M4A-Q19.png\"][measure])):\n",
    "    M4AL.append(data[\"M4A-Q19.png\"][measure][index]+data[\"M4A-Q20.png\"][measure][index]+data[\"M4A-Q24.png\"][measure][index])\n",
    "M4AG = []\n",
    "for index in xrange(len(data[\"M4A-Q22.png\"][measure])):\n",
    "    M4AG.append(data[\"M4A-Q22.png\"][measure][index]+data[\"M4A-Q23.png\"][measure][index]+data[\"M4A-Q21.png\"][measure][index])\n",
    "M4BL = []\n",
    "for index in xrange(len(data[\"M4B-Q19.png\"][measure])):\n",
    "    M4BL.append(data[\"M4B-Q19.png\"][measure][index]+data[\"M4B-Q20.png\"][measure][index]+data[\"M4B-Q24.png\"][measure][index])\n",
    "M4BG = []\n",
    "for index in xrange(len(data[\"M4B-Q22.png\"][measure])):\n",
    "    M4BG.append(data[\"M4B-Q22.png\"][measure][index]+data[\"M4B-Q23.png\"][measure][index]+data[\"M4B-Q21.png\"][measure][index])\n",
    "\n",
    "messyDirectionGlobal = M1BG + M3AG\n",
    "nonMessyDirectionGlobal = M1AG + M3BG\n",
    "messyDirectionLocal = M1BL + M3AL\n",
    "nonMessyDirectionLocal = M1AL + M3BL\n",
    "messyVisibilityGlobal = M2AG + M4BG\n",
    "nonMessyVisibilityGlobal = M2BG + M4AG\n",
    "messyVisibilityLocal = M2AL + M4BL\n",
    "nonMessyVisibilityLocal = M2BL + M4AL\n",
    "\n",
    "print stats.shapiro(messyDirectionGlobal)\n",
    "print stats.shapiro(messyDirectionLocal)\n",
    "print stats.shapiro(nonMessyDirectionGlobal)\n",
    "print stats.shapiro(nonMessyDirectionLocal)\n",
    "print stats.shapiro(messyVisibilityGlobal)\n",
    "print stats.shapiro(messyVisibilityLocal)\n",
    "print stats.shapiro(nonMessyVisibilityGlobal)\n",
    "print stats.shapiro(nonMessyVisibilityLocal)"
   ]
  },
  {
   "cell_type": "code",
   "execution_count": 85,
   "metadata": {},
   "outputs": [
    {
     "ename": "KeyError",
     "evalue": "'pupilDilationDiff'",
     "output_type": "error",
     "traceback": [
      "\u001b[1;31m\u001b[0m",
      "\u001b[1;31mKeyError\u001b[0mTraceback (most recent call last)",
      "\u001b[1;32m<ipython-input-85-99f19cb33b4e>\u001b[0m in \u001b[0;36m<module>\u001b[1;34m()\u001b[0m\n\u001b[1;32m----> 1\u001b[1;33m \u001b[0mdata\u001b[0m\u001b[1;33m[\u001b[0m\u001b[1;34m\"M1A-Q01.png\"\u001b[0m\u001b[1;33m]\u001b[0m\u001b[1;33m[\u001b[0m\u001b[1;34m\"pupilDilationDiff\"\u001b[0m\u001b[1;33m]\u001b[0m\u001b[1;33m\u001b[0m\u001b[0m\n\u001b[0m",
      "\u001b[1;31mKeyError\u001b[0m: 'pupilDilationDiff'"
     ]
    }
   ],
   "source": [
    "data[\"M1A-Q01.png\"][\"pupilDilationDiff\"]"
   ]
  },
  {
   "cell_type": "code",
   "execution_count": 86,
   "metadata": {},
   "outputs": [
    {
     "data": {
      "text/plain": [
       "(0.8301495909690857, 0.000600386701989919)"
      ]
     },
     "execution_count": 86,
     "metadata": {},
     "output_type": "execute_result"
    }
   ],
   "source": [
    "import scipy.stats as stats\n",
    "stats.shapiro(M1BG+M3AG+M1AG+M3BG)"
   ]
  },
  {
   "cell_type": "code",
   "execution_count": 192,
   "metadata": {},
   "outputs": [
    {
     "data": {
      "text/plain": [
       "['fixationDuration',\n",
       " 'fixationPrecision',\n",
       " 'saccadeVelocityList',\n",
       " 'amountOfSaccades',\n",
       " 'pupilDilationLeftList',\n",
       " 'fixationsPerSecond',\n",
       " 'duration',\n",
       " 'pupilDilationMean',\n",
       " 'accuracy',\n",
       " 'saccadeDurationList',\n",
       " 'pupilDilationRightList',\n",
       " 'amountOfFixations']"
      ]
     },
     "execution_count": 192,
     "metadata": {},
     "output_type": "execute_result"
    }
   ],
   "source": [
    "data[\"M1A-Q01.png\"].keys()"
   ]
  },
  {
   "cell_type": "code",
   "execution_count": 193,
   "metadata": {},
   "outputs": [
    {
     "data": {
      "text/plain": [
       "['M4A-Q24.png',\n",
       " 'M4A-Q21.png',\n",
       " 'M4A-Q22.png',\n",
       " 'M4A-Q23.png',\n",
       " 'M4B-Q24.png',\n",
       " 'M3A-Q18.png',\n",
       " 'M2A-Q09.png',\n",
       " 'M3B-Q18.png',\n",
       " 'M1B-Q06.png',\n",
       " 'M3B-Q13.png',\n",
       " 'M2A-Q12.png',\n",
       " 'M2B-Q12.png',\n",
       " 'M2A-Q10.png',\n",
       " 'M3B-Q17.png',\n",
       " 'M4A-Q20.png',\n",
       " 'M4B-Q23.png',\n",
       " 'M4B-Q22.png',\n",
       " 'M4B-Q20.png',\n",
       " 'M1A-Q04.png',\n",
       " 'M1A-Q06.png',\n",
       " 'M2A-Q08.png',\n",
       " 'M1B-Q02.png',\n",
       " 'M4A-Q19.png',\n",
       " 'M2B-Q10.png',\n",
       " 'M2A-Q11.png',\n",
       " 'M3A-Q13.png',\n",
       " 'M1B-Q01.png',\n",
       " 'M1A-Q01.png',\n",
       " 'M1B-Q03.png',\n",
       " 'M4B-Q21.png',\n",
       " 'M1A-Q02.png',\n",
       " 'M1A-Q05.png',\n",
       " 'M4B-Q19.png',\n",
       " 'M1B-Q05.png',\n",
       " 'M3A-Q15.png',\n",
       " 'M3A-Q16.png',\n",
       " 'M3A-Q17.png',\n",
       " 'M2B-Q07.png',\n",
       " 'M1A-Q03.png',\n",
       " 'M1B-Q04.png',\n",
       " 'M2B-Q09.png',\n",
       " 'M2B-Q08.png',\n",
       " 'M2B-Q11.png',\n",
       " 'M3B-Q14.png',\n",
       " 'M3A-Q14.png',\n",
       " 'M3B-Q16.png',\n",
       " 'M3B-Q15.png',\n",
       " 'M2A-Q07.png']"
      ]
     },
     "execution_count": 193,
     "metadata": {},
     "output_type": "execute_result"
    }
   ],
   "source": [
    "data.keys()"
   ]
  },
  {
   "cell_type": "code",
   "execution_count": 194,
   "metadata": {},
   "outputs": [
    {
     "data": {
      "text/plain": [
       "['\\xef\\xbb\\xbfExportDate',\n",
       " 'StudioVersionRec',\n",
       " 'StudioProjectName',\n",
       " 'StudioTestName',\n",
       " 'ParticipantName',\n",
       " '[M1BE-Q1]Value',\n",
       " '[M1BE-Q2]Value',\n",
       " '[M1BE-Q3]Value',\n",
       " '[M1BE-Q4]Value',\n",
       " '[M1BE-Q5]Value',\n",
       " '[M1BE-Q6]Value',\n",
       " '[M1B-Q01]Value',\n",
       " '[M1B-Q02]Value',\n",
       " '[M1B-Q03]Value',\n",
       " '[M1B-Q04]Value',\n",
       " '[M1B-Q05]Value',\n",
       " '[M1B-Q06]Value',\n",
       " '[M2BE-Q10]Value',\n",
       " '[M2BE-Q11]Value',\n",
       " '[M2BE-Q12]Value',\n",
       " '[M2BE-Q7]Value',\n",
       " '[M2BE-Q8]Value',\n",
       " '[M2BE-Q9]Value',\n",
       " '[M2B-Q07]Value',\n",
       " '[M2B-Q08]Value',\n",
       " '[M2B-Q09]Value',\n",
       " '[M2B-Q10]Value',\n",
       " '[M2B-Q11]Value',\n",
       " '[M2B-Q12]Value',\n",
       " '[M3BE-Q13]Value',\n",
       " '[M3BE-Q14]Value',\n",
       " '[M3BE-Q15]Value',\n",
       " '[M3BE-Q16]Value',\n",
       " '[M3BE-Q17]Value',\n",
       " '[M3BE-Q18]Value',\n",
       " '[M3B-Q13]Value',\n",
       " '[M3B-Q14]Value',\n",
       " '[M3B-Q15]Value',\n",
       " '[M3B-Q16]Value',\n",
       " '[M3B-Q17]Value',\n",
       " '[M3B-Q18]Value',\n",
       " '[M4BE-Q19]Value',\n",
       " '[M4BE-Q20]Value',\n",
       " '[M4BE-Q21]Value',\n",
       " '[M4BE-Q22]Value',\n",
       " '[M4BE-Q23]Value',\n",
       " '[M4BE-Q24]Value',\n",
       " '[M4B-Q19]Value',\n",
       " '[M4B-Q20]Value',\n",
       " '[M4B-Q21]Value',\n",
       " '[M4B-Q22]Value',\n",
       " '[M4B-Q23]Value',\n",
       " '[M4B-Q24]Value',\n",
       " '[TUTB-Q01]Value',\n",
       " '[TUTB-Q02]Value',\n",
       " '[TUTB-Q03]Value',\n",
       " '[TUTA-Q01]Value',\n",
       " '[TUTA-Q02]Value',\n",
       " '[TUTA-Q03]Value',\n",
       " '[M1A-Q01]Value',\n",
       " '[M1AE-Q1]Value',\n",
       " '[M1A-Q02]Value',\n",
       " '[M1AE-Q2]Value',\n",
       " '[M1A-Q03]Value',\n",
       " '[M1AE-Q3]Value',\n",
       " '[M1A-Q04]Value',\n",
       " '[M1AE-Q4]Value',\n",
       " '[M1A-Q05]Value',\n",
       " '[M1AE-Q5]Value',\n",
       " '[M1A-Q06]Value',\n",
       " '[M1AE-Q6]Value',\n",
       " '[M2A-Q07]Value',\n",
       " '[M2AE-Q7]Value',\n",
       " '[M2A-Q08]Value',\n",
       " '[M2AE-Q8]Value',\n",
       " '[M2A-Q09]Value',\n",
       " '[M2AE-Q9]Value',\n",
       " '[M2A-Q10]Value',\n",
       " '[M2AE-Q10]Value',\n",
       " '[M2A-Q11]Value',\n",
       " '[M2AE-Q11]Value',\n",
       " '[M2A-Q12]Value',\n",
       " '[M2AE-Q12]Value',\n",
       " '[M3A-Q13]Value',\n",
       " '[M3AE-Q13]Value',\n",
       " '[M3A-Q14]Value',\n",
       " '[M3AE-Q14]Value',\n",
       " '[M3A-Q15]Value',\n",
       " '[M3AE-Q15]Value',\n",
       " '[M3A-Q16]Value',\n",
       " '[M3AE-Q16]Value',\n",
       " '[M3A-Q17]Value',\n",
       " '[M3AE-Q17]Value',\n",
       " '[M3A-Q18]Value',\n",
       " '[M3AE-Q18]Value',\n",
       " '[M4A-Q19]Value',\n",
       " '[M4AE-Q19]Value',\n",
       " '[M4A-Q20]Value',\n",
       " '[M4AE-Q20]Value',\n",
       " '[M4A-Q21]Value',\n",
       " '[M4AE-Q21]Value',\n",
       " '[M4A-Q22]Value',\n",
       " '[M4AE-Q22]Value',\n",
       " '[M4A-Q23]Value',\n",
       " '[M4AE-Q23]Value',\n",
       " '[M4A-Q24]Value',\n",
       " '[M4AE-Q24]Value',\n",
       " 'RecordingName',\n",
       " 'RecordingDate',\n",
       " 'RecordingDuration',\n",
       " 'RecordingResolution',\n",
       " 'PresentationSequence',\n",
       " 'FixationFilter',\n",
       " 'MediaName',\n",
       " 'MediaPosX (ADCSpx)',\n",
       " 'MediaPosY (ADCSpx)',\n",
       " 'MediaWidth',\n",
       " 'MediaHeight',\n",
       " 'SegmentName',\n",
       " 'SegmentStart',\n",
       " 'SegmentEnd',\n",
       " 'SegmentDuration',\n",
       " 'SceneName',\n",
       " 'SceneSegmentStart',\n",
       " 'SceneSegmentEnd',\n",
       " 'SceneSegmentDuration',\n",
       " 'RecordingTimestamp',\n",
       " 'LocalTimeStamp',\n",
       " 'EyeTrackerTimestamp',\n",
       " 'MouseEventIndex',\n",
       " 'MouseEvent',\n",
       " 'MouseEventX (ADCSpx)',\n",
       " 'MouseEventY (ADCSpx)',\n",
       " 'MouseEventX (MCSpx)',\n",
       " 'MouseEventY (MCSpx)',\n",
       " 'KeyPressEventIndex',\n",
       " 'KeyPressEvent',\n",
       " 'StudioEventIndex',\n",
       " 'StudioEvent',\n",
       " 'StudioEventData',\n",
       " 'ExternalEventIndex',\n",
       " 'ExternalEvent',\n",
       " 'ExternalEventValue',\n",
       " 'EventMarkerValue',\n",
       " 'FixationIndex',\n",
       " 'SaccadeIndex',\n",
       " 'GazeEventType',\n",
       " 'GazeEventDuration',\n",
       " 'FixationPointX (MCSpx)',\n",
       " 'FixationPointY (MCSpx)',\n",
       " 'SaccadicAmplitude',\n",
       " 'AbsoluteSaccadicDirection',\n",
       " 'RelativeSaccadicDirection',\n",
       " 'AOI[AOI]Hit',\n",
       " 'AOI[Polygon]Hit',\n",
       " 'AOI[AOI]Hit',\n",
       " 'AOI[Polygon]Hit',\n",
       " 'AOI[AOI]Hit',\n",
       " 'AOI[Polygon]Hit',\n",
       " 'AOI[AOI]Hit',\n",
       " 'AOI[Polygon]Hit',\n",
       " 'AOI[AOI]Hit',\n",
       " 'AOI[Polygon]Hit',\n",
       " 'AOI[AOI]Hit',\n",
       " 'AOI[Polygon 2]Hit',\n",
       " 'AOI[AOI]Hit',\n",
       " 'AOI[Rectangle]Hit',\n",
       " 'AOI[AOI]Hit',\n",
       " 'AOI[Polygon]Hit',\n",
       " 'AOI[AOI]Hit',\n",
       " 'AOI[Polygon]Hit',\n",
       " 'AOI[AOI]Hit',\n",
       " 'AOI[Polygon]Hit',\n",
       " 'AOI[AOI]Hit',\n",
       " 'AOI[Polygon]Hit',\n",
       " 'AOI[AOI]Hit',\n",
       " 'AOI[Polygon]Hit',\n",
       " 'AOI[AOI]Hit',\n",
       " 'AOI[Polygon]Hit',\n",
       " 'AOI[AOI]Hit',\n",
       " 'AOI[Polygon]Hit',\n",
       " 'AOI[AOI]Hit',\n",
       " 'AOI[Polygon]Hit',\n",
       " 'AOI[AOI]Hit',\n",
       " 'AOI[Polygon]Hit',\n",
       " 'AOI[AOI]Hit',\n",
       " 'AOI[Polygon]Hit',\n",
       " 'AOI[AOI]Hit',\n",
       " 'AOI[Polygon]Hit',\n",
       " 'AOI[AOI]Hit',\n",
       " 'AOI[Polygon]Hit',\n",
       " 'AOI[AOI]Hit',\n",
       " 'AOI[Polygon]Hit',\n",
       " 'AOI[AOI]Hit',\n",
       " 'AOI[Polygon]Hit',\n",
       " 'AOI[AOI]Hit',\n",
       " 'AOI[Polygon]Hit',\n",
       " 'AOI[AOI]Hit',\n",
       " 'AOI[Polygon]Hit',\n",
       " 'AOI[AOI]Hit',\n",
       " 'AOI[Polygon]Hit',\n",
       " 'AOI[AOI]Hit',\n",
       " 'AOI[Polygon]Hit',\n",
       " 'AOI[AOI]Hit',\n",
       " 'AOI[Polygon]Hit',\n",
       " 'AOI[AOI]Hit',\n",
       " 'AOI[Polygon]Hit',\n",
       " 'AOI[AOI]Hit',\n",
       " 'AOI[Polygon]Hit',\n",
       " 'AOI[AOI]Hit',\n",
       " 'AOI[Polygon]Hit',\n",
       " 'AOI[AOI]Hit',\n",
       " 'AOI[Polygon]Hit',\n",
       " 'AOI[AOI]Hit',\n",
       " 'AOI[Polygon]Hit',\n",
       " 'AOI[AOI]Hit',\n",
       " 'AOI[Polygon]Hit',\n",
       " 'AOI[AOI]Hit',\n",
       " 'AOI[Polygon]Hit',\n",
       " 'AOI[AOI]Hit',\n",
       " 'AOI[Polygon]Hit',\n",
       " 'AOI[AOI]Hit',\n",
       " 'AOI[Polygon 2]Hit',\n",
       " 'AOI[AOI]Hit',\n",
       " 'AOI[Polygon]Hit',\n",
       " 'AOI[AOI]Hit',\n",
       " 'AOI[Polygon]Hit',\n",
       " 'AOI[AOI]Hit',\n",
       " 'AOI[Polygon]Hit',\n",
       " 'AOI[AOI]Hit',\n",
       " 'AOI[Polygon]Hit',\n",
       " 'AOI[AOI]Hit',\n",
       " 'AOI[Polygon]Hit',\n",
       " 'AOI[AOI]Hit',\n",
       " 'AOI[Polygon]Hit',\n",
       " 'AOI[AOI]Hit',\n",
       " 'AOI[Polygon]Hit',\n",
       " 'AOI[AOI]Hit',\n",
       " 'AOI[Polygon]Hit',\n",
       " 'AOI[AOI]Hit',\n",
       " 'AOI[Polygon]Hit',\n",
       " 'AOI[AOI]Hit',\n",
       " 'AOI[Polygon]Hit',\n",
       " 'AOI[AOI]Hit',\n",
       " 'AOI[Polygon]Hit',\n",
       " 'AOI[AOI]Hit',\n",
       " 'AOI[Polygon]Hit',\n",
       " 'AOI[AOI]Hit',\n",
       " 'AOI[Polygon]Hit',\n",
       " 'GazePointIndex',\n",
       " 'GazePointLeftX (ADCSpx)',\n",
       " 'GazePointLeftY (ADCSpx)',\n",
       " 'GazePointRightX (ADCSpx)',\n",
       " 'GazePointRightY (ADCSpx)',\n",
       " 'GazePointX (ADCSpx)',\n",
       " 'GazePointY (ADCSpx)',\n",
       " 'GazePointX (MCSpx)',\n",
       " 'GazePointY (MCSpx)',\n",
       " 'GazePointLeftX (ADCSmm)',\n",
       " 'GazePointLeftY (ADCSmm)',\n",
       " 'GazePointRightX (ADCSmm)',\n",
       " 'GazePointRightY (ADCSmm)',\n",
       " 'StrictAverageGazePointX (ADCSmm)',\n",
       " 'StrictAverageGazePointY (ADCSmm)',\n",
       " 'EyePosLeftX (ADCSmm)',\n",
       " 'EyePosLeftY (ADCSmm)',\n",
       " 'EyePosLeftZ (ADCSmm)',\n",
       " 'EyePosRightX (ADCSmm)',\n",
       " 'EyePosRightY (ADCSmm)',\n",
       " 'EyePosRightZ (ADCSmm)',\n",
       " 'CamLeftX',\n",
       " 'CamLeftY',\n",
       " 'CamRightX',\n",
       " 'CamRightY',\n",
       " 'DistanceLeft',\n",
       " 'DistanceRight',\n",
       " 'PupilLeft',\n",
       " 'PupilRight',\n",
       " 'ValidityLeft',\n",
       " 'ValidityRight',\n",
       " 'IRMarkerCount',\n",
       " 'IRMarkerID',\n",
       " 'PupilGlassesRight',\n",
       " '']"
      ]
     },
     "execution_count": 194,
     "metadata": {},
     "output_type": "execute_result"
    }
   ],
   "source": [
    "dataHeaders"
   ]
  },
  {
   "cell_type": "code",
   "execution_count": 195,
   "metadata": {},
   "outputs": [
    {
     "ename": "NameError",
     "evalue": "name 'tutMean' is not defined",
     "output_type": "error",
     "traceback": [
      "\u001b[1;31m\u001b[0m",
      "\u001b[1;31mNameError\u001b[0mTraceback (most recent call last)",
      "\u001b[1;32m<ipython-input-195-f9b01c6493b5>\u001b[0m in \u001b[0;36m<module>\u001b[1;34m()\u001b[0m\n\u001b[1;32m----> 1\u001b[1;33m \u001b[1;32mprint\u001b[0m \u001b[0mtutMean\u001b[0m\u001b[1;33m\u001b[0m\u001b[0m\n\u001b[0m",
      "\u001b[1;31mNameError\u001b[0m: name 'tutMean' is not defined"
     ]
    }
   ],
   "source": [
    "print tutMean"
   ]
  },
  {
   "cell_type": "code",
   "execution_count": 196,
   "metadata": {},
   "outputs": [
    {
     "ename": "KeyError",
     "evalue": "'M1'",
     "output_type": "error",
     "traceback": [
      "\u001b[1;31m\u001b[0m",
      "\u001b[1;31mKeyError\u001b[0mTraceback (most recent call last)",
      "\u001b[1;32m<ipython-input-196-3798d03936ca>\u001b[0m in \u001b[0;36m<module>\u001b[1;34m()\u001b[0m\n\u001b[1;32m----> 1\u001b[1;33m \u001b[0mdata\u001b[0m\u001b[1;33m[\u001b[0m\u001b[1;34m\"M1\"\u001b[0m\u001b[1;33m]\u001b[0m\u001b[1;33m\u001b[0m\u001b[0m\n\u001b[0m",
      "\u001b[1;31mKeyError\u001b[0m: 'M1'"
     ]
    }
   ],
   "source": [
    "data[\"M1\"]"
   ]
  },
  {
   "cell_type": "code",
   "execution_count": 197,
   "metadata": {
    "collapsed": true
   },
   "outputs": [],
   "source": [
    "import statsmodels\n"
   ]
  },
  {
   "cell_type": "code",
   "execution_count": 198,
   "metadata": {
    "collapsed": true
   },
   "outputs": [],
   "source": [
    "def changeMeasure(measure):\n",
    "    M1AL = data[\"M1A-Q01.png\"][measure] + data[\"M1A-Q02.png\"][measure] + data[\"M1A-Q03.png\"][measure] \n",
    "    M1AG = data[\"M1A-Q04.png\"][measure] +data[\"M1A-Q05.png\"][measure] +data[\"M1A-Q06.png\"][measure]\n",
    "    M1BL = data[\"M1B-Q01.png\"][measure] + data[\"M1B-Q02.png\"][measure] + data[\"M1B-Q03.png\"][measure] \n",
    "    M1BG = data[\"M1B-Q04.png\"][measure] +data[\"M1B-Q05.png\"][measure] +data[\"M1B-Q06.png\"][measure]\n",
    "    M2AL = data[\"M2A-Q07.png\"][measure] + data[\"M2A-Q08.png\"][measure] + data[\"M2A-Q09.png\"][measure] \n",
    "    M2AG = data[\"M2A-Q10.png\"][measure] +data[\"M2A-Q11.png\"][measure] +data[\"M2A-Q12.png\"][measure]\n",
    "    M2BL = data[\"M2B-Q07.png\"][measure] + data[\"M2B-Q08.png\"][measure] + data[\"M2B-Q09.png\"][measure] \n",
    "    M2BG = data[\"M2B-Q10.png\"][measure] +data[\"M2B-Q11.png\"][measure] +data[\"M2B-Q12.png\"][measure]\n",
    "    M3AL = data[\"M3A-Q13.png\"][measure] + data[\"M3A-Q14.png\"][measure] + data[\"M3A-Q15.png\"][measure] \n",
    "    M3AG = data[\"M3A-Q16.png\"][measure] +data[\"M3A-Q17.png\"][measure] +data[\"M3A-Q18.png\"][measure]\n",
    "    M3BL = data[\"M3B-Q13.png\"][measure] + data[\"M3B-Q14.png\"][measure] + data[\"M3B-Q15.png\"][measure] \n",
    "    M3BG = data[\"M3B-Q16.png\"][measure] +data[\"M3B-Q17.png\"][measure] +data[\"M3B-Q18.png\"][measure]\n",
    "    M4AL = data[\"M4A-Q19.png\"][measure] + data[\"M4A-Q20.png\"][measure] + data[\"M4A-Q24.png\"][measure] \n",
    "    M4AG = data[\"M4A-Q22.png\"][measure] +data[\"M4A-Q23.png\"][measure] +data[\"M4A-Q21.png\"][measure]\n",
    "    M4BL = data[\"M4B-Q19.png\"][measure] + data[\"M4B-Q20.png\"][measure] + data[\"M4B-Q24.png\"][measure] \n",
    "    M4BG = data[\"M4B-Q22.png\"][measure] +data[\"M4B-Q23.png\"][measure] +data[\"M4B-Q21.png\"][measure]\n",
    "\n",
    "    global messyDirectionGlobal\n",
    "    global nonMessyDirectionGlobal\n",
    "    global messyDirectionLocal\n",
    "    global nonMessyDirectionLocal\n",
    "    global messyVisibilityGlobal\n",
    "    global nonMessyVisibilityGlobal\n",
    "    global messyVisibilityLocal\n",
    "    global nonMessyVisibilityLocal\n",
    "    \n",
    "    messyDirectionGlobal = M1BG + M3AG\n",
    "    nonMessyDirectionGlobal = M1AG + M3BG\n",
    "    messyDirectionLocal = M1BL + M3AL\n",
    "    nonMessyDirectionLocal = M1AL + M3BL\n",
    "    messyVisibilityGlobal = M2AG + M4BG\n",
    "    nonMessyVisibilityGlobal = M2BG + M4AG\n",
    "    messyVisibilityLocal = M2AL + M4BL\n",
    "    nonMessyVisibilityLocal = M2BL + M4AL"
   ]
  },
  {
   "cell_type": "code",
   "execution_count": 199,
   "metadata": {
    "collapsed": true
   },
   "outputs": [],
   "source": [
    "def statisticalTest(data1, data2, normalDistributed):       \n",
    "    statistic = 0\n",
    "    pval = 0\n",
    "    if normalDistributed is True:\n",
    "        #Parametric test\n",
    "        #statistic, pval = statsmodels.test(data1,data2,paired=True)\n",
    "        statistic, pval = stats.stats.ttest_rel(data1, data2)\n",
    "    else: \n",
    "        #Non-parametric test\n",
    "        statistic, pval = stats.wilcoxon(data1,data2)\n",
    "    return statistic, pval"
   ]
  },
  {
   "cell_type": "code",
   "execution_count": 200,
   "metadata": {},
   "outputs": [
    {
     "name": "stdout",
     "output_type": "stream",
     "text": [
      "amountOfFixations 252.000 0.054\n",
      "fixationsPerSecond 0.214 0.832\n",
      "fixationDuration 322.000 0.343\n",
      "fixationPrecision -0.132 0.895\n",
      "saccadeVelocityList 327.000 0.379\n"
     ]
    },
    {
     "ename": "KeyError",
     "evalue": "'pupilDilationDiff'",
     "output_type": "error",
     "traceback": [
      "\u001b[1;31m\u001b[0m",
      "\u001b[1;31mKeyError\u001b[0mTraceback (most recent call last)",
      "\u001b[1;32m<ipython-input-200-251299516fab>\u001b[0m in \u001b[0;36m<module>\u001b[1;34m()\u001b[0m\n\u001b[0;32m     27\u001b[0m     \u001b[1;31m#Pupil dilation difference\u001b[0m\u001b[1;33m\u001b[0m\u001b[1;33m\u001b[0m\u001b[0m\n\u001b[0;32m     28\u001b[0m \u001b[0mmeasure\u001b[0m \u001b[1;33m=\u001b[0m \u001b[1;34m\"pupilDilationDiff\"\u001b[0m\u001b[1;33m\u001b[0m\u001b[0m\n\u001b[1;32m---> 29\u001b[1;33m \u001b[0mchangeMeasure\u001b[0m\u001b[1;33m(\u001b[0m\u001b[0mmeasure\u001b[0m\u001b[1;33m)\u001b[0m\u001b[1;33m\u001b[0m\u001b[0m\n\u001b[0m\u001b[0;32m     30\u001b[0m \u001b[0mstatistic\u001b[0m\u001b[1;33m,\u001b[0m \u001b[0mpval\u001b[0m \u001b[1;33m=\u001b[0m \u001b[0mstatisticalTest\u001b[0m\u001b[1;33m(\u001b[0m\u001b[0mmessyDirectionGlobal\u001b[0m\u001b[1;33m,\u001b[0m \u001b[0mnonMessyDirectionGlobal\u001b[0m\u001b[1;33m,\u001b[0m \u001b[0mTrue\u001b[0m\u001b[1;33m)\u001b[0m\u001b[1;33m\u001b[0m\u001b[0m\n\u001b[0;32m     31\u001b[0m \u001b[1;32mprint\u001b[0m \u001b[0mmeasure\u001b[0m\u001b[1;33m,\u001b[0m \u001b[1;34m\"%.3f\"\u001b[0m \u001b[1;33m%\u001b[0m \u001b[1;33m(\u001b[0m\u001b[0mstatistic\u001b[0m\u001b[1;33m,\u001b[0m\u001b[1;33m)\u001b[0m\u001b[1;33m,\u001b[0m \u001b[1;34m\"%.3f\"\u001b[0m \u001b[1;33m%\u001b[0m \u001b[1;33m(\u001b[0m\u001b[0mpval\u001b[0m\u001b[1;33m,\u001b[0m\u001b[1;33m)\u001b[0m\u001b[1;33m\u001b[0m\u001b[0m\n",
      "\u001b[1;32m<ipython-input-198-15f33333e9a5>\u001b[0m in \u001b[0;36mchangeMeasure\u001b[1;34m(measure)\u001b[0m\n\u001b[0;32m      1\u001b[0m \u001b[1;32mdef\u001b[0m \u001b[0mchangeMeasure\u001b[0m\u001b[1;33m(\u001b[0m\u001b[0mmeasure\u001b[0m\u001b[1;33m)\u001b[0m\u001b[1;33m:\u001b[0m\u001b[1;33m\u001b[0m\u001b[0m\n\u001b[1;32m----> 2\u001b[1;33m     \u001b[0mM1AL\u001b[0m \u001b[1;33m=\u001b[0m \u001b[0mdata\u001b[0m\u001b[1;33m[\u001b[0m\u001b[1;34m\"M1A-Q01.png\"\u001b[0m\u001b[1;33m]\u001b[0m\u001b[1;33m[\u001b[0m\u001b[0mmeasure\u001b[0m\u001b[1;33m]\u001b[0m \u001b[1;33m+\u001b[0m \u001b[0mdata\u001b[0m\u001b[1;33m[\u001b[0m\u001b[1;34m\"M1A-Q02.png\"\u001b[0m\u001b[1;33m]\u001b[0m\u001b[1;33m[\u001b[0m\u001b[0mmeasure\u001b[0m\u001b[1;33m]\u001b[0m \u001b[1;33m+\u001b[0m \u001b[0mdata\u001b[0m\u001b[1;33m[\u001b[0m\u001b[1;34m\"M1A-Q03.png\"\u001b[0m\u001b[1;33m]\u001b[0m\u001b[1;33m[\u001b[0m\u001b[0mmeasure\u001b[0m\u001b[1;33m]\u001b[0m\u001b[1;33m\u001b[0m\u001b[0m\n\u001b[0m\u001b[0;32m      3\u001b[0m     \u001b[0mM1AG\u001b[0m \u001b[1;33m=\u001b[0m \u001b[0mdata\u001b[0m\u001b[1;33m[\u001b[0m\u001b[1;34m\"M1A-Q04.png\"\u001b[0m\u001b[1;33m]\u001b[0m\u001b[1;33m[\u001b[0m\u001b[0mmeasure\u001b[0m\u001b[1;33m]\u001b[0m \u001b[1;33m+\u001b[0m\u001b[0mdata\u001b[0m\u001b[1;33m[\u001b[0m\u001b[1;34m\"M1A-Q05.png\"\u001b[0m\u001b[1;33m]\u001b[0m\u001b[1;33m[\u001b[0m\u001b[0mmeasure\u001b[0m\u001b[1;33m]\u001b[0m \u001b[1;33m+\u001b[0m\u001b[0mdata\u001b[0m\u001b[1;33m[\u001b[0m\u001b[1;34m\"M1A-Q06.png\"\u001b[0m\u001b[1;33m]\u001b[0m\u001b[1;33m[\u001b[0m\u001b[0mmeasure\u001b[0m\u001b[1;33m]\u001b[0m\u001b[1;33m\u001b[0m\u001b[0m\n\u001b[0;32m      4\u001b[0m     \u001b[0mM1BL\u001b[0m \u001b[1;33m=\u001b[0m \u001b[0mdata\u001b[0m\u001b[1;33m[\u001b[0m\u001b[1;34m\"M1B-Q01.png\"\u001b[0m\u001b[1;33m]\u001b[0m\u001b[1;33m[\u001b[0m\u001b[0mmeasure\u001b[0m\u001b[1;33m]\u001b[0m \u001b[1;33m+\u001b[0m \u001b[0mdata\u001b[0m\u001b[1;33m[\u001b[0m\u001b[1;34m\"M1B-Q02.png\"\u001b[0m\u001b[1;33m]\u001b[0m\u001b[1;33m[\u001b[0m\u001b[0mmeasure\u001b[0m\u001b[1;33m]\u001b[0m \u001b[1;33m+\u001b[0m \u001b[0mdata\u001b[0m\u001b[1;33m[\u001b[0m\u001b[1;34m\"M1B-Q03.png\"\u001b[0m\u001b[1;33m]\u001b[0m\u001b[1;33m[\u001b[0m\u001b[0mmeasure\u001b[0m\u001b[1;33m]\u001b[0m\u001b[1;33m\u001b[0m\u001b[0m\n\u001b[0;32m      5\u001b[0m     \u001b[0mM1BG\u001b[0m \u001b[1;33m=\u001b[0m \u001b[0mdata\u001b[0m\u001b[1;33m[\u001b[0m\u001b[1;34m\"M1B-Q04.png\"\u001b[0m\u001b[1;33m]\u001b[0m\u001b[1;33m[\u001b[0m\u001b[0mmeasure\u001b[0m\u001b[1;33m]\u001b[0m \u001b[1;33m+\u001b[0m\u001b[0mdata\u001b[0m\u001b[1;33m[\u001b[0m\u001b[1;34m\"M1B-Q05.png\"\u001b[0m\u001b[1;33m]\u001b[0m\u001b[1;33m[\u001b[0m\u001b[0mmeasure\u001b[0m\u001b[1;33m]\u001b[0m \u001b[1;33m+\u001b[0m\u001b[0mdata\u001b[0m\u001b[1;33m[\u001b[0m\u001b[1;34m\"M1B-Q06.png\"\u001b[0m\u001b[1;33m]\u001b[0m\u001b[1;33m[\u001b[0m\u001b[0mmeasure\u001b[0m\u001b[1;33m]\u001b[0m\u001b[1;33m\u001b[0m\u001b[0m\n",
      "\u001b[1;31mKeyError\u001b[0m: 'pupilDilationDiff'"
     ]
    }
   ],
   "source": [
    "#Change of direction - High Global vs Low Global\n",
    "    #Fixation count\n",
    "measure = \"amountOfFixations\"\n",
    "changeMeasure(measure)\n",
    "statistic, pval = statisticalTest(messyDirectionGlobal, nonMessyDirectionGlobal, False)\n",
    "print measure, \"%.3f\" % (statistic,), \"%.3f\" % (pval,)\n",
    "    #Fixations per second\n",
    "measure = \"fixationsPerSecond\"\n",
    "changeMeasure(measure)\n",
    "statistic, pval = statisticalTest(messyDirectionGlobal, nonMessyDirectionGlobal, True)\n",
    "print measure, \"%.3f\" % (statistic,), \"%.3f\" % (pval,)\n",
    "    #Fixation duration\n",
    "measure = \"fixationDuration\"\n",
    "changeMeasure(measure)\n",
    "statistic, pval = statisticalTest(messyDirectionGlobal, nonMessyDirectionGlobal, False)\n",
    "print measure, \"%.3f\" % (statistic,), \"%.3f\" % (pval,)\n",
    "    #Fixation precision\n",
    "measure = \"fixationPrecision\"\n",
    "changeMeasure(measure)\n",
    "statistic, pval = statisticalTest(messyDirectionGlobal, nonMessyDirectionGlobal, True)\n",
    "print measure, \"%.3f\" % (statistic,), \"%.3f\" % (pval,)\n",
    "    #Saccade velocity\n",
    "measure = \"saccadeVelocityList\"\n",
    "changeMeasure(measure)\n",
    "statistic, pval = statisticalTest(messyDirectionGlobal, nonMessyDirectionGlobal, False)\n",
    "print measure, \"%.3f\" % (statistic,), \"%.3f\" % (pval,)\n",
    "    #Pupil dilation difference\n",
    "measure = \"pupilDilationDiff\"\n",
    "changeMeasure(measure)\n",
    "statistic, pval = statisticalTest(messyDirectionGlobal, nonMessyDirectionGlobal, True)\n",
    "print measure, \"%.3f\" % (statistic,), \"%.3f\" % (pval,)"
   ]
  },
  {
   "cell_type": "code",
   "execution_count": 201,
   "metadata": {},
   "outputs": [
    {
     "name": "stdout",
     "output_type": "stream",
     "text": [
      "amountOfFixations 270.000 0.219\n",
      "fixationsPerSecond -0.958 0.344\n",
      "fixationDuration 349.000 0.567\n",
      "fixationPrecision 1.344 0.187\n",
      "saccadeVelocityList -1.360 0.182\n"
     ]
    },
    {
     "ename": "KeyError",
     "evalue": "'pupilDilationDiff'",
     "output_type": "error",
     "traceback": [
      "\u001b[1;31m\u001b[0m",
      "\u001b[1;31mKeyError\u001b[0mTraceback (most recent call last)",
      "\u001b[1;32m<ipython-input-201-0c971756227f>\u001b[0m in \u001b[0;36m<module>\u001b[1;34m()\u001b[0m\n\u001b[0;32m     27\u001b[0m     \u001b[1;31m#Pupil dilation difference\u001b[0m\u001b[1;33m\u001b[0m\u001b[1;33m\u001b[0m\u001b[0m\n\u001b[0;32m     28\u001b[0m \u001b[0mmeasure\u001b[0m \u001b[1;33m=\u001b[0m \u001b[1;34m\"pupilDilationDiff\"\u001b[0m\u001b[1;33m\u001b[0m\u001b[0m\n\u001b[1;32m---> 29\u001b[1;33m \u001b[0mchangeMeasure\u001b[0m\u001b[1;33m(\u001b[0m\u001b[0mmeasure\u001b[0m\u001b[1;33m)\u001b[0m\u001b[1;33m\u001b[0m\u001b[0m\n\u001b[0m\u001b[0;32m     30\u001b[0m \u001b[0mstatistic\u001b[0m\u001b[1;33m,\u001b[0m \u001b[0mpval\u001b[0m \u001b[1;33m=\u001b[0m \u001b[0mstatisticalTest\u001b[0m\u001b[1;33m(\u001b[0m\u001b[0mmessyDirectionLocal\u001b[0m\u001b[1;33m,\u001b[0m \u001b[0mnonMessyDirectionLocal\u001b[0m\u001b[1;33m,\u001b[0m \u001b[0mFalse\u001b[0m\u001b[1;33m)\u001b[0m\u001b[1;33m\u001b[0m\u001b[0m\n\u001b[0;32m     31\u001b[0m \u001b[1;32mprint\u001b[0m \u001b[0mmeasure\u001b[0m\u001b[1;33m,\u001b[0m \u001b[1;34m\"%.3f\"\u001b[0m \u001b[1;33m%\u001b[0m \u001b[1;33m(\u001b[0m\u001b[0mstatistic\u001b[0m\u001b[1;33m,\u001b[0m\u001b[1;33m)\u001b[0m\u001b[1;33m,\u001b[0m \u001b[1;34m\"%.3f\"\u001b[0m \u001b[1;33m%\u001b[0m \u001b[1;33m(\u001b[0m\u001b[0mpval\u001b[0m\u001b[1;33m,\u001b[0m\u001b[1;33m)\u001b[0m\u001b[1;33m\u001b[0m\u001b[0m\n",
      "\u001b[1;32m<ipython-input-198-15f33333e9a5>\u001b[0m in \u001b[0;36mchangeMeasure\u001b[1;34m(measure)\u001b[0m\n\u001b[0;32m      1\u001b[0m \u001b[1;32mdef\u001b[0m \u001b[0mchangeMeasure\u001b[0m\u001b[1;33m(\u001b[0m\u001b[0mmeasure\u001b[0m\u001b[1;33m)\u001b[0m\u001b[1;33m:\u001b[0m\u001b[1;33m\u001b[0m\u001b[0m\n\u001b[1;32m----> 2\u001b[1;33m     \u001b[0mM1AL\u001b[0m \u001b[1;33m=\u001b[0m \u001b[0mdata\u001b[0m\u001b[1;33m[\u001b[0m\u001b[1;34m\"M1A-Q01.png\"\u001b[0m\u001b[1;33m]\u001b[0m\u001b[1;33m[\u001b[0m\u001b[0mmeasure\u001b[0m\u001b[1;33m]\u001b[0m \u001b[1;33m+\u001b[0m \u001b[0mdata\u001b[0m\u001b[1;33m[\u001b[0m\u001b[1;34m\"M1A-Q02.png\"\u001b[0m\u001b[1;33m]\u001b[0m\u001b[1;33m[\u001b[0m\u001b[0mmeasure\u001b[0m\u001b[1;33m]\u001b[0m \u001b[1;33m+\u001b[0m \u001b[0mdata\u001b[0m\u001b[1;33m[\u001b[0m\u001b[1;34m\"M1A-Q03.png\"\u001b[0m\u001b[1;33m]\u001b[0m\u001b[1;33m[\u001b[0m\u001b[0mmeasure\u001b[0m\u001b[1;33m]\u001b[0m\u001b[1;33m\u001b[0m\u001b[0m\n\u001b[0m\u001b[0;32m      3\u001b[0m     \u001b[0mM1AG\u001b[0m \u001b[1;33m=\u001b[0m \u001b[0mdata\u001b[0m\u001b[1;33m[\u001b[0m\u001b[1;34m\"M1A-Q04.png\"\u001b[0m\u001b[1;33m]\u001b[0m\u001b[1;33m[\u001b[0m\u001b[0mmeasure\u001b[0m\u001b[1;33m]\u001b[0m \u001b[1;33m+\u001b[0m\u001b[0mdata\u001b[0m\u001b[1;33m[\u001b[0m\u001b[1;34m\"M1A-Q05.png\"\u001b[0m\u001b[1;33m]\u001b[0m\u001b[1;33m[\u001b[0m\u001b[0mmeasure\u001b[0m\u001b[1;33m]\u001b[0m \u001b[1;33m+\u001b[0m\u001b[0mdata\u001b[0m\u001b[1;33m[\u001b[0m\u001b[1;34m\"M1A-Q06.png\"\u001b[0m\u001b[1;33m]\u001b[0m\u001b[1;33m[\u001b[0m\u001b[0mmeasure\u001b[0m\u001b[1;33m]\u001b[0m\u001b[1;33m\u001b[0m\u001b[0m\n\u001b[0;32m      4\u001b[0m     \u001b[0mM1BL\u001b[0m \u001b[1;33m=\u001b[0m \u001b[0mdata\u001b[0m\u001b[1;33m[\u001b[0m\u001b[1;34m\"M1B-Q01.png\"\u001b[0m\u001b[1;33m]\u001b[0m\u001b[1;33m[\u001b[0m\u001b[0mmeasure\u001b[0m\u001b[1;33m]\u001b[0m \u001b[1;33m+\u001b[0m \u001b[0mdata\u001b[0m\u001b[1;33m[\u001b[0m\u001b[1;34m\"M1B-Q02.png\"\u001b[0m\u001b[1;33m]\u001b[0m\u001b[1;33m[\u001b[0m\u001b[0mmeasure\u001b[0m\u001b[1;33m]\u001b[0m \u001b[1;33m+\u001b[0m \u001b[0mdata\u001b[0m\u001b[1;33m[\u001b[0m\u001b[1;34m\"M1B-Q03.png\"\u001b[0m\u001b[1;33m]\u001b[0m\u001b[1;33m[\u001b[0m\u001b[0mmeasure\u001b[0m\u001b[1;33m]\u001b[0m\u001b[1;33m\u001b[0m\u001b[0m\n\u001b[0;32m      5\u001b[0m     \u001b[0mM1BG\u001b[0m \u001b[1;33m=\u001b[0m \u001b[0mdata\u001b[0m\u001b[1;33m[\u001b[0m\u001b[1;34m\"M1B-Q04.png\"\u001b[0m\u001b[1;33m]\u001b[0m\u001b[1;33m[\u001b[0m\u001b[0mmeasure\u001b[0m\u001b[1;33m]\u001b[0m \u001b[1;33m+\u001b[0m\u001b[0mdata\u001b[0m\u001b[1;33m[\u001b[0m\u001b[1;34m\"M1B-Q05.png\"\u001b[0m\u001b[1;33m]\u001b[0m\u001b[1;33m[\u001b[0m\u001b[0mmeasure\u001b[0m\u001b[1;33m]\u001b[0m \u001b[1;33m+\u001b[0m\u001b[0mdata\u001b[0m\u001b[1;33m[\u001b[0m\u001b[1;34m\"M1B-Q06.png\"\u001b[0m\u001b[1;33m]\u001b[0m\u001b[1;33m[\u001b[0m\u001b[0mmeasure\u001b[0m\u001b[1;33m]\u001b[0m\u001b[1;33m\u001b[0m\u001b[0m\n",
      "\u001b[1;31mKeyError\u001b[0m: 'pupilDilationDiff'"
     ]
    }
   ],
   "source": [
    "#Change of direction - High Local vs Low Local\n",
    "    #Fixation count\n",
    "measure = \"amountOfFixations\"\n",
    "changeMeasure(measure)\n",
    "statistic, pval = statisticalTest(messyDirectionLocal, nonMessyDirectionLocal, False)\n",
    "print measure, \"%.3f\" % (statistic,), \"%.3f\" % (pval,)\n",
    "    #Fixations per second\n",
    "measure = \"fixationsPerSecond\"\n",
    "changeMeasure(measure)\n",
    "statistic, pval = statisticalTest(messyDirectionLocal, nonMessyDirectionLocal, True)\n",
    "print measure, \"%.3f\" % (statistic,), \"%.3f\" % (pval,)\n",
    "    #Fixation duration\n",
    "measure = \"fixationDuration\"\n",
    "changeMeasure(measure)\n",
    "statistic, pval = statisticalTest(messyDirectionLocal, nonMessyDirectionLocal, False)\n",
    "print measure, \"%.3f\" % (statistic,), \"%.3f\" % (pval,)\n",
    "    #Fixation precision\n",
    "measure = \"fixationPrecision\"\n",
    "changeMeasure(measure)\n",
    "statistic, pval = statisticalTest(messyDirectionLocal, nonMessyDirectionLocal, True)\n",
    "print measure, \"%.3f\" % (statistic,), \"%.3f\" % (pval,)\n",
    "    #Saccade velocity\n",
    "measure = \"saccadeVelocityList\"\n",
    "changeMeasure(measure)\n",
    "statistic, pval = statisticalTest(messyDirectionLocal, nonMessyDirectionLocal, True)\n",
    "print measure, \"%.3f\" % (statistic,), \"%.3f\" % (pval,)\n",
    "    #Pupil dilation difference\n",
    "measure = \"pupilDilationDiff\"\n",
    "changeMeasure(measure)\n",
    "statistic, pval = statisticalTest(messyDirectionLocal, nonMessyDirectionLocal, False)\n",
    "print measure, \"%.3f\" % (statistic,), \"%.3f\" % (pval,)"
   ]
  },
  {
   "cell_type": "code",
   "execution_count": 202,
   "metadata": {},
   "outputs": [
    {
     "name": "stdout",
     "output_type": "stream",
     "text": [
      "amountOfFixations 263.500 0.077\n",
      "fixationsPerSecond -0.690 0.494\n",
      "fixationDuration 198.000 0.007\n",
      "fixationPrecision 1.787 0.082\n",
      "saccadeVelocityList -1.323 0.194\n"
     ]
    },
    {
     "ename": "KeyError",
     "evalue": "'pupilDilationDiff'",
     "output_type": "error",
     "traceback": [
      "\u001b[1;31m\u001b[0m",
      "\u001b[1;31mKeyError\u001b[0mTraceback (most recent call last)",
      "\u001b[1;32m<ipython-input-202-ea3a567397fc>\u001b[0m in \u001b[0;36m<module>\u001b[1;34m()\u001b[0m\n\u001b[0;32m     27\u001b[0m     \u001b[1;31m#Pupil dilation difference\u001b[0m\u001b[1;33m\u001b[0m\u001b[1;33m\u001b[0m\u001b[0m\n\u001b[0;32m     28\u001b[0m \u001b[0mmeasure\u001b[0m \u001b[1;33m=\u001b[0m \u001b[1;34m\"pupilDilationDiff\"\u001b[0m\u001b[1;33m\u001b[0m\u001b[0m\n\u001b[1;32m---> 29\u001b[1;33m \u001b[0mchangeMeasure\u001b[0m\u001b[1;33m(\u001b[0m\u001b[0mmeasure\u001b[0m\u001b[1;33m)\u001b[0m\u001b[1;33m\u001b[0m\u001b[0m\n\u001b[0m\u001b[0;32m     30\u001b[0m \u001b[0mstatistic\u001b[0m\u001b[1;33m,\u001b[0m \u001b[0mpval\u001b[0m \u001b[1;33m=\u001b[0m \u001b[0mstatisticalTest\u001b[0m\u001b[1;33m(\u001b[0m\u001b[0mmessyVisibilityGlobal\u001b[0m\u001b[1;33m,\u001b[0m \u001b[0mnonMessyVisibilityGlobal\u001b[0m\u001b[1;33m,\u001b[0m \u001b[0mTrue\u001b[0m\u001b[1;33m)\u001b[0m\u001b[1;33m\u001b[0m\u001b[0m\n\u001b[0;32m     31\u001b[0m \u001b[1;32mprint\u001b[0m \u001b[0mmeasure\u001b[0m\u001b[1;33m,\u001b[0m \u001b[1;34m\"%.3f\"\u001b[0m \u001b[1;33m%\u001b[0m \u001b[1;33m(\u001b[0m\u001b[0mstatistic\u001b[0m\u001b[1;33m,\u001b[0m\u001b[1;33m)\u001b[0m\u001b[1;33m,\u001b[0m \u001b[1;34m\"%.3f\"\u001b[0m \u001b[1;33m%\u001b[0m \u001b[1;33m(\u001b[0m\u001b[0mpval\u001b[0m\u001b[1;33m,\u001b[0m\u001b[1;33m)\u001b[0m\u001b[1;33m\u001b[0m\u001b[0m\n",
      "\u001b[1;32m<ipython-input-198-15f33333e9a5>\u001b[0m in \u001b[0;36mchangeMeasure\u001b[1;34m(measure)\u001b[0m\n\u001b[0;32m      1\u001b[0m \u001b[1;32mdef\u001b[0m \u001b[0mchangeMeasure\u001b[0m\u001b[1;33m(\u001b[0m\u001b[0mmeasure\u001b[0m\u001b[1;33m)\u001b[0m\u001b[1;33m:\u001b[0m\u001b[1;33m\u001b[0m\u001b[0m\n\u001b[1;32m----> 2\u001b[1;33m     \u001b[0mM1AL\u001b[0m \u001b[1;33m=\u001b[0m \u001b[0mdata\u001b[0m\u001b[1;33m[\u001b[0m\u001b[1;34m\"M1A-Q01.png\"\u001b[0m\u001b[1;33m]\u001b[0m\u001b[1;33m[\u001b[0m\u001b[0mmeasure\u001b[0m\u001b[1;33m]\u001b[0m \u001b[1;33m+\u001b[0m \u001b[0mdata\u001b[0m\u001b[1;33m[\u001b[0m\u001b[1;34m\"M1A-Q02.png\"\u001b[0m\u001b[1;33m]\u001b[0m\u001b[1;33m[\u001b[0m\u001b[0mmeasure\u001b[0m\u001b[1;33m]\u001b[0m \u001b[1;33m+\u001b[0m \u001b[0mdata\u001b[0m\u001b[1;33m[\u001b[0m\u001b[1;34m\"M1A-Q03.png\"\u001b[0m\u001b[1;33m]\u001b[0m\u001b[1;33m[\u001b[0m\u001b[0mmeasure\u001b[0m\u001b[1;33m]\u001b[0m\u001b[1;33m\u001b[0m\u001b[0m\n\u001b[0m\u001b[0;32m      3\u001b[0m     \u001b[0mM1AG\u001b[0m \u001b[1;33m=\u001b[0m \u001b[0mdata\u001b[0m\u001b[1;33m[\u001b[0m\u001b[1;34m\"M1A-Q04.png\"\u001b[0m\u001b[1;33m]\u001b[0m\u001b[1;33m[\u001b[0m\u001b[0mmeasure\u001b[0m\u001b[1;33m]\u001b[0m \u001b[1;33m+\u001b[0m\u001b[0mdata\u001b[0m\u001b[1;33m[\u001b[0m\u001b[1;34m\"M1A-Q05.png\"\u001b[0m\u001b[1;33m]\u001b[0m\u001b[1;33m[\u001b[0m\u001b[0mmeasure\u001b[0m\u001b[1;33m]\u001b[0m \u001b[1;33m+\u001b[0m\u001b[0mdata\u001b[0m\u001b[1;33m[\u001b[0m\u001b[1;34m\"M1A-Q06.png\"\u001b[0m\u001b[1;33m]\u001b[0m\u001b[1;33m[\u001b[0m\u001b[0mmeasure\u001b[0m\u001b[1;33m]\u001b[0m\u001b[1;33m\u001b[0m\u001b[0m\n\u001b[0;32m      4\u001b[0m     \u001b[0mM1BL\u001b[0m \u001b[1;33m=\u001b[0m \u001b[0mdata\u001b[0m\u001b[1;33m[\u001b[0m\u001b[1;34m\"M1B-Q01.png\"\u001b[0m\u001b[1;33m]\u001b[0m\u001b[1;33m[\u001b[0m\u001b[0mmeasure\u001b[0m\u001b[1;33m]\u001b[0m \u001b[1;33m+\u001b[0m \u001b[0mdata\u001b[0m\u001b[1;33m[\u001b[0m\u001b[1;34m\"M1B-Q02.png\"\u001b[0m\u001b[1;33m]\u001b[0m\u001b[1;33m[\u001b[0m\u001b[0mmeasure\u001b[0m\u001b[1;33m]\u001b[0m \u001b[1;33m+\u001b[0m \u001b[0mdata\u001b[0m\u001b[1;33m[\u001b[0m\u001b[1;34m\"M1B-Q03.png\"\u001b[0m\u001b[1;33m]\u001b[0m\u001b[1;33m[\u001b[0m\u001b[0mmeasure\u001b[0m\u001b[1;33m]\u001b[0m\u001b[1;33m\u001b[0m\u001b[0m\n\u001b[0;32m      5\u001b[0m     \u001b[0mM1BG\u001b[0m \u001b[1;33m=\u001b[0m \u001b[0mdata\u001b[0m\u001b[1;33m[\u001b[0m\u001b[1;34m\"M1B-Q04.png\"\u001b[0m\u001b[1;33m]\u001b[0m\u001b[1;33m[\u001b[0m\u001b[0mmeasure\u001b[0m\u001b[1;33m]\u001b[0m \u001b[1;33m+\u001b[0m\u001b[0mdata\u001b[0m\u001b[1;33m[\u001b[0m\u001b[1;34m\"M1B-Q05.png\"\u001b[0m\u001b[1;33m]\u001b[0m\u001b[1;33m[\u001b[0m\u001b[0mmeasure\u001b[0m\u001b[1;33m]\u001b[0m \u001b[1;33m+\u001b[0m\u001b[0mdata\u001b[0m\u001b[1;33m[\u001b[0m\u001b[1;34m\"M1B-Q06.png\"\u001b[0m\u001b[1;33m]\u001b[0m\u001b[1;33m[\u001b[0m\u001b[0mmeasure\u001b[0m\u001b[1;33m]\u001b[0m\u001b[1;33m\u001b[0m\u001b[0m\n",
      "\u001b[1;31mKeyError\u001b[0m: 'pupilDilationDiff'"
     ]
    }
   ],
   "source": [
    "#Block visibility - High Global vs Low Global\n",
    "    #Fixation count\n",
    "measure = \"amountOfFixations\"\n",
    "changeMeasure(measure)\n",
    "statistic, pval = statisticalTest(messyVisibilityGlobal, nonMessyVisibilityGlobal, False)\n",
    "print measure, \"%.3f\" % (statistic,), \"%.3f\" % (pval,)\n",
    "    #Fixations per second\n",
    "measure = \"fixationsPerSecond\"\n",
    "changeMeasure(measure)\n",
    "statistic, pval = statisticalTest(messyVisibilityGlobal, nonMessyVisibilityGlobal, True)\n",
    "print measure, \"%.3f\" % (statistic,), \"%.3f\" % (pval,)\n",
    "    #Fixation duration\n",
    "measure = \"fixationDuration\"\n",
    "changeMeasure(measure)\n",
    "statistic, pval = statisticalTest(messyVisibilityGlobal, nonMessyVisibilityGlobal, False)\n",
    "print measure, \"%.3f\" % (statistic,), \"%.3f\" % (pval,)\n",
    "    #Fixation precision\n",
    "measure = \"fixationPrecision\"\n",
    "changeMeasure(measure)\n",
    "statistic, pval = statisticalTest(messyVisibilityGlobal, nonMessyVisibilityGlobal, True)\n",
    "print measure, \"%.3f\" % (statistic,), \"%.3f\" % (pval,)\n",
    "    #Saccade velocity\n",
    "measure = \"saccadeVelocityList\"\n",
    "changeMeasure(measure)\n",
    "statistic, pval = statisticalTest(messyVisibilityGlobal, nonMessyVisibilityGlobal, True)\n",
    "print measure, \"%.3f\" % (statistic,), \"%.3f\" % (pval,)\n",
    "    #Pupil dilation difference\n",
    "measure = \"pupilDilationDiff\"\n",
    "changeMeasure(measure)\n",
    "statistic, pval = statisticalTest(messyVisibilityGlobal, nonMessyVisibilityGlobal, True)\n",
    "print measure, \"%.3f\" % (statistic,), \"%.3f\" % (pval,)"
   ]
  },
  {
   "cell_type": "code",
   "execution_count": 203,
   "metadata": {},
   "outputs": [
    {
     "name": "stdout",
     "output_type": "stream",
     "text": [
      "amountOfFixations 161.000 0.002\n",
      "fixationsPerSecond -0.221 0.826\n",
      "fixationDuration 155.000 0.001\n",
      "fixationPrecision 2.438 0.020\n",
      "saccadeVelocityList -1.959 0.058\n"
     ]
    },
    {
     "ename": "KeyError",
     "evalue": "'pupilDilationDiff'",
     "output_type": "error",
     "traceback": [
      "\u001b[1;31m\u001b[0m",
      "\u001b[1;31mKeyError\u001b[0mTraceback (most recent call last)",
      "\u001b[1;32m<ipython-input-203-4c5f4dcd2a4f>\u001b[0m in \u001b[0;36m<module>\u001b[1;34m()\u001b[0m\n\u001b[0;32m     27\u001b[0m     \u001b[1;31m#Pupil dilation difference\u001b[0m\u001b[1;33m\u001b[0m\u001b[1;33m\u001b[0m\u001b[0m\n\u001b[0;32m     28\u001b[0m \u001b[0mmeasure\u001b[0m \u001b[1;33m=\u001b[0m \u001b[1;34m\"pupilDilationDiff\"\u001b[0m\u001b[1;33m\u001b[0m\u001b[0m\n\u001b[1;32m---> 29\u001b[1;33m \u001b[0mchangeMeasure\u001b[0m\u001b[1;33m(\u001b[0m\u001b[0mmeasure\u001b[0m\u001b[1;33m)\u001b[0m\u001b[1;33m\u001b[0m\u001b[0m\n\u001b[0m\u001b[0;32m     30\u001b[0m \u001b[0mstatistic\u001b[0m\u001b[1;33m,\u001b[0m \u001b[0mpval\u001b[0m \u001b[1;33m=\u001b[0m \u001b[0mstatisticalTest\u001b[0m\u001b[1;33m(\u001b[0m\u001b[0mmessyVisibilityLocal\u001b[0m\u001b[1;33m,\u001b[0m \u001b[0mnonMessyVisibilityLocal\u001b[0m\u001b[1;33m,\u001b[0m \u001b[0mFalse\u001b[0m\u001b[1;33m)\u001b[0m\u001b[1;33m\u001b[0m\u001b[0m\n\u001b[0;32m     31\u001b[0m \u001b[1;32mprint\u001b[0m \u001b[0mmeasure\u001b[0m\u001b[1;33m,\u001b[0m \u001b[1;34m\"%.3f\"\u001b[0m \u001b[1;33m%\u001b[0m \u001b[1;33m(\u001b[0m\u001b[0mstatistic\u001b[0m\u001b[1;33m,\u001b[0m\u001b[1;33m)\u001b[0m\u001b[1;33m,\u001b[0m \u001b[1;34m\"%.3f\"\u001b[0m \u001b[1;33m%\u001b[0m \u001b[1;33m(\u001b[0m\u001b[0mpval\u001b[0m\u001b[1;33m,\u001b[0m\u001b[1;33m)\u001b[0m\u001b[1;33m\u001b[0m\u001b[0m\n",
      "\u001b[1;32m<ipython-input-198-15f33333e9a5>\u001b[0m in \u001b[0;36mchangeMeasure\u001b[1;34m(measure)\u001b[0m\n\u001b[0;32m      1\u001b[0m \u001b[1;32mdef\u001b[0m \u001b[0mchangeMeasure\u001b[0m\u001b[1;33m(\u001b[0m\u001b[0mmeasure\u001b[0m\u001b[1;33m)\u001b[0m\u001b[1;33m:\u001b[0m\u001b[1;33m\u001b[0m\u001b[0m\n\u001b[1;32m----> 2\u001b[1;33m     \u001b[0mM1AL\u001b[0m \u001b[1;33m=\u001b[0m \u001b[0mdata\u001b[0m\u001b[1;33m[\u001b[0m\u001b[1;34m\"M1A-Q01.png\"\u001b[0m\u001b[1;33m]\u001b[0m\u001b[1;33m[\u001b[0m\u001b[0mmeasure\u001b[0m\u001b[1;33m]\u001b[0m \u001b[1;33m+\u001b[0m \u001b[0mdata\u001b[0m\u001b[1;33m[\u001b[0m\u001b[1;34m\"M1A-Q02.png\"\u001b[0m\u001b[1;33m]\u001b[0m\u001b[1;33m[\u001b[0m\u001b[0mmeasure\u001b[0m\u001b[1;33m]\u001b[0m \u001b[1;33m+\u001b[0m \u001b[0mdata\u001b[0m\u001b[1;33m[\u001b[0m\u001b[1;34m\"M1A-Q03.png\"\u001b[0m\u001b[1;33m]\u001b[0m\u001b[1;33m[\u001b[0m\u001b[0mmeasure\u001b[0m\u001b[1;33m]\u001b[0m\u001b[1;33m\u001b[0m\u001b[0m\n\u001b[0m\u001b[0;32m      3\u001b[0m     \u001b[0mM1AG\u001b[0m \u001b[1;33m=\u001b[0m \u001b[0mdata\u001b[0m\u001b[1;33m[\u001b[0m\u001b[1;34m\"M1A-Q04.png\"\u001b[0m\u001b[1;33m]\u001b[0m\u001b[1;33m[\u001b[0m\u001b[0mmeasure\u001b[0m\u001b[1;33m]\u001b[0m \u001b[1;33m+\u001b[0m\u001b[0mdata\u001b[0m\u001b[1;33m[\u001b[0m\u001b[1;34m\"M1A-Q05.png\"\u001b[0m\u001b[1;33m]\u001b[0m\u001b[1;33m[\u001b[0m\u001b[0mmeasure\u001b[0m\u001b[1;33m]\u001b[0m \u001b[1;33m+\u001b[0m\u001b[0mdata\u001b[0m\u001b[1;33m[\u001b[0m\u001b[1;34m\"M1A-Q06.png\"\u001b[0m\u001b[1;33m]\u001b[0m\u001b[1;33m[\u001b[0m\u001b[0mmeasure\u001b[0m\u001b[1;33m]\u001b[0m\u001b[1;33m\u001b[0m\u001b[0m\n\u001b[0;32m      4\u001b[0m     \u001b[0mM1BL\u001b[0m \u001b[1;33m=\u001b[0m \u001b[0mdata\u001b[0m\u001b[1;33m[\u001b[0m\u001b[1;34m\"M1B-Q01.png\"\u001b[0m\u001b[1;33m]\u001b[0m\u001b[1;33m[\u001b[0m\u001b[0mmeasure\u001b[0m\u001b[1;33m]\u001b[0m \u001b[1;33m+\u001b[0m \u001b[0mdata\u001b[0m\u001b[1;33m[\u001b[0m\u001b[1;34m\"M1B-Q02.png\"\u001b[0m\u001b[1;33m]\u001b[0m\u001b[1;33m[\u001b[0m\u001b[0mmeasure\u001b[0m\u001b[1;33m]\u001b[0m \u001b[1;33m+\u001b[0m \u001b[0mdata\u001b[0m\u001b[1;33m[\u001b[0m\u001b[1;34m\"M1B-Q03.png\"\u001b[0m\u001b[1;33m]\u001b[0m\u001b[1;33m[\u001b[0m\u001b[0mmeasure\u001b[0m\u001b[1;33m]\u001b[0m\u001b[1;33m\u001b[0m\u001b[0m\n\u001b[0;32m      5\u001b[0m     \u001b[0mM1BG\u001b[0m \u001b[1;33m=\u001b[0m \u001b[0mdata\u001b[0m\u001b[1;33m[\u001b[0m\u001b[1;34m\"M1B-Q04.png\"\u001b[0m\u001b[1;33m]\u001b[0m\u001b[1;33m[\u001b[0m\u001b[0mmeasure\u001b[0m\u001b[1;33m]\u001b[0m \u001b[1;33m+\u001b[0m\u001b[0mdata\u001b[0m\u001b[1;33m[\u001b[0m\u001b[1;34m\"M1B-Q05.png\"\u001b[0m\u001b[1;33m]\u001b[0m\u001b[1;33m[\u001b[0m\u001b[0mmeasure\u001b[0m\u001b[1;33m]\u001b[0m \u001b[1;33m+\u001b[0m\u001b[0mdata\u001b[0m\u001b[1;33m[\u001b[0m\u001b[1;34m\"M1B-Q06.png\"\u001b[0m\u001b[1;33m]\u001b[0m\u001b[1;33m[\u001b[0m\u001b[0mmeasure\u001b[0m\u001b[1;33m]\u001b[0m\u001b[1;33m\u001b[0m\u001b[0m\n",
      "\u001b[1;31mKeyError\u001b[0m: 'pupilDilationDiff'"
     ]
    }
   ],
   "source": [
    "#Block visibility - High Local vs Low Local\n",
    "    #Fixation count\n",
    "measure = \"amountOfFixations\"\n",
    "changeMeasure(measure)\n",
    "statistic, pval = statisticalTest(messyVisibilityLocal, nonMessyVisibilityLocal, False)\n",
    "print measure, \"%.3f\" % (statistic,), \"%.3f\" % (pval,)\n",
    "    #Fixations per second\n",
    "measure = \"fixationsPerSecond\"\n",
    "changeMeasure(measure)\n",
    "statistic, pval = statisticalTest(messyVisibilityLocal, nonMessyVisibilityLocal, True)\n",
    "print measure, \"%.3f\" % (statistic,), \"%.3f\" % (pval,)\n",
    "    #Fixation duration\n",
    "measure = \"fixationDuration\"\n",
    "changeMeasure(measure)\n",
    "statistic, pval = statisticalTest(messyVisibilityLocal, nonMessyVisibilityLocal, False)\n",
    "print measure, \"%.3f\" % (statistic,), \"%.3f\" % (pval,)\n",
    "    #Fixation precision\n",
    "measure = \"fixationPrecision\"\n",
    "changeMeasure(measure)\n",
    "statistic, pval = statisticalTest(messyVisibilityLocal, nonMessyVisibilityLocal, True)\n",
    "print measure, \"%.3f\" % (statistic,), \"%.3f\" % (pval,)\n",
    "    #Saccade velocity\n",
    "measure = \"saccadeVelocityList\"\n",
    "changeMeasure(measure)\n",
    "statistic, pval = statisticalTest(messyVisibilityLocal, nonMessyVisibilityLocal, True)\n",
    "print measure, \"%.3f\" % (statistic,), \"%.3f\" % (pval,)\n",
    "    #Pupil dilation difference\n",
    "measure = \"pupilDilationDiff\"\n",
    "changeMeasure(measure)\n",
    "statistic, pval = statisticalTest(messyVisibilityLocal, nonMessyVisibilityLocal, False)\n",
    "print measure, \"%.3f\" % (statistic,), \"%.3f\" % (pval,)"
   ]
  },
  {
   "cell_type": "code",
   "execution_count": 206,
   "metadata": {},
   "outputs": [
    {
     "name": "stdout",
     "output_type": "stream",
     "text": [
      "amountOfFixations 135.500 0.000\n",
      "fixationsPerSecond -3.852 0.000\n",
      "fixationDuration 219.000 0.017\n",
      "fixationPrecision 4.154 0.000\n",
      "saccadeVelocityList 230.000 0.026\n"
     ]
    },
    {
     "ename": "KeyError",
     "evalue": "'pupilDilationDiff'",
     "output_type": "error",
     "traceback": [
      "\u001b[1;31m\u001b[0m",
      "\u001b[1;31mKeyError\u001b[0mTraceback (most recent call last)",
      "\u001b[1;32m<ipython-input-206-d9fa0581c6f7>\u001b[0m in \u001b[0;36m<module>\u001b[1;34m()\u001b[0m\n\u001b[0;32m     27\u001b[0m     \u001b[1;31m#Pupil dilation difference\u001b[0m\u001b[1;33m\u001b[0m\u001b[1;33m\u001b[0m\u001b[0m\n\u001b[0;32m     28\u001b[0m \u001b[0mmeasure\u001b[0m \u001b[1;33m=\u001b[0m \u001b[1;34m\"pupilDilationDiff\"\u001b[0m\u001b[1;33m\u001b[0m\u001b[0m\n\u001b[1;32m---> 29\u001b[1;33m \u001b[0mchangeMeasure\u001b[0m\u001b[1;33m(\u001b[0m\u001b[0mmeasure\u001b[0m\u001b[1;33m)\u001b[0m\u001b[1;33m\u001b[0m\u001b[0m\n\u001b[0m\u001b[0;32m     30\u001b[0m \u001b[0mstatistic\u001b[0m\u001b[1;33m,\u001b[0m \u001b[0mpval\u001b[0m \u001b[1;33m=\u001b[0m \u001b[0mstatisticalTest\u001b[0m\u001b[1;33m(\u001b[0m\u001b[0mmessyDirectionGlobal\u001b[0m\u001b[1;33m,\u001b[0m \u001b[0mmessyDirectionLocal\u001b[0m\u001b[1;33m,\u001b[0m \u001b[0mFalse\u001b[0m\u001b[1;33m)\u001b[0m\u001b[1;33m\u001b[0m\u001b[0m\n\u001b[0;32m     31\u001b[0m \u001b[1;32mprint\u001b[0m \u001b[0mmeasure\u001b[0m\u001b[1;33m,\u001b[0m \u001b[1;34m\"%.3f\"\u001b[0m \u001b[1;33m%\u001b[0m \u001b[1;33m(\u001b[0m\u001b[0mstatistic\u001b[0m\u001b[1;33m,\u001b[0m\u001b[1;33m)\u001b[0m\u001b[1;33m,\u001b[0m \u001b[1;34m\"%.3f\"\u001b[0m \u001b[1;33m%\u001b[0m \u001b[1;33m(\u001b[0m\u001b[0mpval\u001b[0m\u001b[1;33m,\u001b[0m\u001b[1;33m)\u001b[0m\u001b[1;33m\u001b[0m\u001b[0m\n",
      "\u001b[1;32m<ipython-input-198-15f33333e9a5>\u001b[0m in \u001b[0;36mchangeMeasure\u001b[1;34m(measure)\u001b[0m\n\u001b[0;32m      1\u001b[0m \u001b[1;32mdef\u001b[0m \u001b[0mchangeMeasure\u001b[0m\u001b[1;33m(\u001b[0m\u001b[0mmeasure\u001b[0m\u001b[1;33m)\u001b[0m\u001b[1;33m:\u001b[0m\u001b[1;33m\u001b[0m\u001b[0m\n\u001b[1;32m----> 2\u001b[1;33m     \u001b[0mM1AL\u001b[0m \u001b[1;33m=\u001b[0m \u001b[0mdata\u001b[0m\u001b[1;33m[\u001b[0m\u001b[1;34m\"M1A-Q01.png\"\u001b[0m\u001b[1;33m]\u001b[0m\u001b[1;33m[\u001b[0m\u001b[0mmeasure\u001b[0m\u001b[1;33m]\u001b[0m \u001b[1;33m+\u001b[0m \u001b[0mdata\u001b[0m\u001b[1;33m[\u001b[0m\u001b[1;34m\"M1A-Q02.png\"\u001b[0m\u001b[1;33m]\u001b[0m\u001b[1;33m[\u001b[0m\u001b[0mmeasure\u001b[0m\u001b[1;33m]\u001b[0m \u001b[1;33m+\u001b[0m \u001b[0mdata\u001b[0m\u001b[1;33m[\u001b[0m\u001b[1;34m\"M1A-Q03.png\"\u001b[0m\u001b[1;33m]\u001b[0m\u001b[1;33m[\u001b[0m\u001b[0mmeasure\u001b[0m\u001b[1;33m]\u001b[0m\u001b[1;33m\u001b[0m\u001b[0m\n\u001b[0m\u001b[0;32m      3\u001b[0m     \u001b[0mM1AG\u001b[0m \u001b[1;33m=\u001b[0m \u001b[0mdata\u001b[0m\u001b[1;33m[\u001b[0m\u001b[1;34m\"M1A-Q04.png\"\u001b[0m\u001b[1;33m]\u001b[0m\u001b[1;33m[\u001b[0m\u001b[0mmeasure\u001b[0m\u001b[1;33m]\u001b[0m \u001b[1;33m+\u001b[0m\u001b[0mdata\u001b[0m\u001b[1;33m[\u001b[0m\u001b[1;34m\"M1A-Q05.png\"\u001b[0m\u001b[1;33m]\u001b[0m\u001b[1;33m[\u001b[0m\u001b[0mmeasure\u001b[0m\u001b[1;33m]\u001b[0m \u001b[1;33m+\u001b[0m\u001b[0mdata\u001b[0m\u001b[1;33m[\u001b[0m\u001b[1;34m\"M1A-Q06.png\"\u001b[0m\u001b[1;33m]\u001b[0m\u001b[1;33m[\u001b[0m\u001b[0mmeasure\u001b[0m\u001b[1;33m]\u001b[0m\u001b[1;33m\u001b[0m\u001b[0m\n\u001b[0;32m      4\u001b[0m     \u001b[0mM1BL\u001b[0m \u001b[1;33m=\u001b[0m \u001b[0mdata\u001b[0m\u001b[1;33m[\u001b[0m\u001b[1;34m\"M1B-Q01.png\"\u001b[0m\u001b[1;33m]\u001b[0m\u001b[1;33m[\u001b[0m\u001b[0mmeasure\u001b[0m\u001b[1;33m]\u001b[0m \u001b[1;33m+\u001b[0m \u001b[0mdata\u001b[0m\u001b[1;33m[\u001b[0m\u001b[1;34m\"M1B-Q02.png\"\u001b[0m\u001b[1;33m]\u001b[0m\u001b[1;33m[\u001b[0m\u001b[0mmeasure\u001b[0m\u001b[1;33m]\u001b[0m \u001b[1;33m+\u001b[0m \u001b[0mdata\u001b[0m\u001b[1;33m[\u001b[0m\u001b[1;34m\"M1B-Q03.png\"\u001b[0m\u001b[1;33m]\u001b[0m\u001b[1;33m[\u001b[0m\u001b[0mmeasure\u001b[0m\u001b[1;33m]\u001b[0m\u001b[1;33m\u001b[0m\u001b[0m\n\u001b[0;32m      5\u001b[0m     \u001b[0mM1BG\u001b[0m \u001b[1;33m=\u001b[0m \u001b[0mdata\u001b[0m\u001b[1;33m[\u001b[0m\u001b[1;34m\"M1B-Q04.png\"\u001b[0m\u001b[1;33m]\u001b[0m\u001b[1;33m[\u001b[0m\u001b[0mmeasure\u001b[0m\u001b[1;33m]\u001b[0m \u001b[1;33m+\u001b[0m\u001b[0mdata\u001b[0m\u001b[1;33m[\u001b[0m\u001b[1;34m\"M1B-Q05.png\"\u001b[0m\u001b[1;33m]\u001b[0m\u001b[1;33m[\u001b[0m\u001b[0mmeasure\u001b[0m\u001b[1;33m]\u001b[0m \u001b[1;33m+\u001b[0m\u001b[0mdata\u001b[0m\u001b[1;33m[\u001b[0m\u001b[1;34m\"M1B-Q06.png\"\u001b[0m\u001b[1;33m]\u001b[0m\u001b[1;33m[\u001b[0m\u001b[0mmeasure\u001b[0m\u001b[1;33m]\u001b[0m\u001b[1;33m\u001b[0m\u001b[0m\n",
      "\u001b[1;31mKeyError\u001b[0m: 'pupilDilationDiff'"
     ]
    }
   ],
   "source": [
    "#Type of question - Change of Direction High Global vs Change of Direction High Local\n",
    "    #Fixation count\n",
    "measure = \"amountOfFixations\"\n",
    "changeMeasure(measure)\n",
    "statistic, pval = statisticalTest(messyDirectionGlobal, messyDirectionLocal, False)\n",
    "print measure, \"%.3f\" % (statistic,), \"%.3f\" % (pval,)\n",
    "    #Fixations per second\n",
    "measure = \"fixationsPerSecond\"\n",
    "changeMeasure(measure)\n",
    "statistic, pval = statisticalTest(messyDirectionGlobal, messyDirectionLocal, True)\n",
    "print measure, \"%.3f\" % (statistic,), \"%.3f\" % (pval,)\n",
    "    #Fixation duration\n",
    "measure = \"fixationDuration\"\n",
    "changeMeasure(measure)\n",
    "statistic, pval = statisticalTest(messyDirectionGlobal, messyDirectionLocal, False)\n",
    "print measure, \"%.3f\" % (statistic,), \"%.3f\" % (pval,)\n",
    "    #Fixation precision\n",
    "measure = \"fixationPrecision\"\n",
    "changeMeasure(measure)\n",
    "statistic, pval = statisticalTest(messyDirectionGlobal, messyDirectionLocal, True)\n",
    "print measure, \"%.3f\" % (statistic,), \"%.3f\" % (pval,)\n",
    "    #Saccade velocity\n",
    "measure = \"saccadeVelocityList\"\n",
    "changeMeasure(measure)\n",
    "statistic, pval = statisticalTest(messyDirectionGlobal, messyDirectionLocal, False)\n",
    "print measure, \"%.3f\" % (statistic,), \"%.3f\" % (pval,)\n",
    "    #Pupil dilation difference\n",
    "measure = \"pupilDilationDiff\"\n",
    "changeMeasure(measure)\n",
    "statistic, pval = statisticalTest(messyDirectionGlobal, messyDirectionLocal, False)\n",
    "print measure, \"%.3f\" % (statistic,), \"%.3f\" % (pval,)"
   ]
  },
  {
   "cell_type": "code",
   "execution_count": 209,
   "metadata": {},
   "outputs": [
    {
     "name": "stdout",
     "output_type": "stream",
     "text": [
      "amountOfFixations 130.500 0.000\n",
      "fixationsPerSecond -5.420 0.000\n",
      "fixationDuration 322.000 0.343\n",
      "fixationPrecision 5.277 0.000\n",
      "saccadeVelocityList 262.000 0.074\n"
     ]
    },
    {
     "ename": "KeyError",
     "evalue": "'pupilDilationDiff'",
     "output_type": "error",
     "traceback": [
      "\u001b[1;31m\u001b[0m",
      "\u001b[1;31mKeyError\u001b[0mTraceback (most recent call last)",
      "\u001b[1;32m<ipython-input-209-cb1705f35b14>\u001b[0m in \u001b[0;36m<module>\u001b[1;34m()\u001b[0m\n\u001b[0;32m     27\u001b[0m     \u001b[1;31m#Pupil dilation difference\u001b[0m\u001b[1;33m\u001b[0m\u001b[1;33m\u001b[0m\u001b[0m\n\u001b[0;32m     28\u001b[0m \u001b[0mmeasure\u001b[0m \u001b[1;33m=\u001b[0m \u001b[1;34m\"pupilDilationDiff\"\u001b[0m\u001b[1;33m\u001b[0m\u001b[0m\n\u001b[1;32m---> 29\u001b[1;33m \u001b[0mchangeMeasure\u001b[0m\u001b[1;33m(\u001b[0m\u001b[0mmeasure\u001b[0m\u001b[1;33m)\u001b[0m\u001b[1;33m\u001b[0m\u001b[0m\n\u001b[0m\u001b[0;32m     30\u001b[0m \u001b[0mstatistic\u001b[0m\u001b[1;33m,\u001b[0m \u001b[0mpval\u001b[0m \u001b[1;33m=\u001b[0m \u001b[0mstatisticalTest\u001b[0m\u001b[1;33m(\u001b[0m\u001b[0mnonMessyDirectionGlobal\u001b[0m\u001b[1;33m,\u001b[0m \u001b[0mnonMessyDirectionLocal\u001b[0m\u001b[1;33m,\u001b[0m \u001b[0mTrue\u001b[0m\u001b[1;33m)\u001b[0m\u001b[1;33m\u001b[0m\u001b[0m\n\u001b[0;32m     31\u001b[0m \u001b[1;32mprint\u001b[0m \u001b[0mmeasure\u001b[0m\u001b[1;33m,\u001b[0m \u001b[1;34m\"%.3f\"\u001b[0m \u001b[1;33m%\u001b[0m \u001b[1;33m(\u001b[0m\u001b[0mstatistic\u001b[0m\u001b[1;33m,\u001b[0m\u001b[1;33m)\u001b[0m\u001b[1;33m,\u001b[0m \u001b[1;34m\"%.3f\"\u001b[0m \u001b[1;33m%\u001b[0m \u001b[1;33m(\u001b[0m\u001b[0mpval\u001b[0m\u001b[1;33m,\u001b[0m\u001b[1;33m)\u001b[0m\u001b[1;33m\u001b[0m\u001b[0m\n",
      "\u001b[1;32m<ipython-input-198-15f33333e9a5>\u001b[0m in \u001b[0;36mchangeMeasure\u001b[1;34m(measure)\u001b[0m\n\u001b[0;32m      1\u001b[0m \u001b[1;32mdef\u001b[0m \u001b[0mchangeMeasure\u001b[0m\u001b[1;33m(\u001b[0m\u001b[0mmeasure\u001b[0m\u001b[1;33m)\u001b[0m\u001b[1;33m:\u001b[0m\u001b[1;33m\u001b[0m\u001b[0m\n\u001b[1;32m----> 2\u001b[1;33m     \u001b[0mM1AL\u001b[0m \u001b[1;33m=\u001b[0m \u001b[0mdata\u001b[0m\u001b[1;33m[\u001b[0m\u001b[1;34m\"M1A-Q01.png\"\u001b[0m\u001b[1;33m]\u001b[0m\u001b[1;33m[\u001b[0m\u001b[0mmeasure\u001b[0m\u001b[1;33m]\u001b[0m \u001b[1;33m+\u001b[0m \u001b[0mdata\u001b[0m\u001b[1;33m[\u001b[0m\u001b[1;34m\"M1A-Q02.png\"\u001b[0m\u001b[1;33m]\u001b[0m\u001b[1;33m[\u001b[0m\u001b[0mmeasure\u001b[0m\u001b[1;33m]\u001b[0m \u001b[1;33m+\u001b[0m \u001b[0mdata\u001b[0m\u001b[1;33m[\u001b[0m\u001b[1;34m\"M1A-Q03.png\"\u001b[0m\u001b[1;33m]\u001b[0m\u001b[1;33m[\u001b[0m\u001b[0mmeasure\u001b[0m\u001b[1;33m]\u001b[0m\u001b[1;33m\u001b[0m\u001b[0m\n\u001b[0m\u001b[0;32m      3\u001b[0m     \u001b[0mM1AG\u001b[0m \u001b[1;33m=\u001b[0m \u001b[0mdata\u001b[0m\u001b[1;33m[\u001b[0m\u001b[1;34m\"M1A-Q04.png\"\u001b[0m\u001b[1;33m]\u001b[0m\u001b[1;33m[\u001b[0m\u001b[0mmeasure\u001b[0m\u001b[1;33m]\u001b[0m \u001b[1;33m+\u001b[0m\u001b[0mdata\u001b[0m\u001b[1;33m[\u001b[0m\u001b[1;34m\"M1A-Q05.png\"\u001b[0m\u001b[1;33m]\u001b[0m\u001b[1;33m[\u001b[0m\u001b[0mmeasure\u001b[0m\u001b[1;33m]\u001b[0m \u001b[1;33m+\u001b[0m\u001b[0mdata\u001b[0m\u001b[1;33m[\u001b[0m\u001b[1;34m\"M1A-Q06.png\"\u001b[0m\u001b[1;33m]\u001b[0m\u001b[1;33m[\u001b[0m\u001b[0mmeasure\u001b[0m\u001b[1;33m]\u001b[0m\u001b[1;33m\u001b[0m\u001b[0m\n\u001b[0;32m      4\u001b[0m     \u001b[0mM1BL\u001b[0m \u001b[1;33m=\u001b[0m \u001b[0mdata\u001b[0m\u001b[1;33m[\u001b[0m\u001b[1;34m\"M1B-Q01.png\"\u001b[0m\u001b[1;33m]\u001b[0m\u001b[1;33m[\u001b[0m\u001b[0mmeasure\u001b[0m\u001b[1;33m]\u001b[0m \u001b[1;33m+\u001b[0m \u001b[0mdata\u001b[0m\u001b[1;33m[\u001b[0m\u001b[1;34m\"M1B-Q02.png\"\u001b[0m\u001b[1;33m]\u001b[0m\u001b[1;33m[\u001b[0m\u001b[0mmeasure\u001b[0m\u001b[1;33m]\u001b[0m \u001b[1;33m+\u001b[0m \u001b[0mdata\u001b[0m\u001b[1;33m[\u001b[0m\u001b[1;34m\"M1B-Q03.png\"\u001b[0m\u001b[1;33m]\u001b[0m\u001b[1;33m[\u001b[0m\u001b[0mmeasure\u001b[0m\u001b[1;33m]\u001b[0m\u001b[1;33m\u001b[0m\u001b[0m\n\u001b[0;32m      5\u001b[0m     \u001b[0mM1BG\u001b[0m \u001b[1;33m=\u001b[0m \u001b[0mdata\u001b[0m\u001b[1;33m[\u001b[0m\u001b[1;34m\"M1B-Q04.png\"\u001b[0m\u001b[1;33m]\u001b[0m\u001b[1;33m[\u001b[0m\u001b[0mmeasure\u001b[0m\u001b[1;33m]\u001b[0m \u001b[1;33m+\u001b[0m\u001b[0mdata\u001b[0m\u001b[1;33m[\u001b[0m\u001b[1;34m\"M1B-Q05.png\"\u001b[0m\u001b[1;33m]\u001b[0m\u001b[1;33m[\u001b[0m\u001b[0mmeasure\u001b[0m\u001b[1;33m]\u001b[0m \u001b[1;33m+\u001b[0m\u001b[0mdata\u001b[0m\u001b[1;33m[\u001b[0m\u001b[1;34m\"M1B-Q06.png\"\u001b[0m\u001b[1;33m]\u001b[0m\u001b[1;33m[\u001b[0m\u001b[0mmeasure\u001b[0m\u001b[1;33m]\u001b[0m\u001b[1;33m\u001b[0m\u001b[0m\n",
      "\u001b[1;31mKeyError\u001b[0m: 'pupilDilationDiff'"
     ]
    }
   ],
   "source": [
    "#Type of question - Change of Direction Low Global vs Change of Direction Low Local\n",
    "    #Fixation count\n",
    "measure = \"amountOfFixations\"\n",
    "changeMeasure(measure)\n",
    "statistic, pval = statisticalTest(nonMessyDirectionGlobal, nonMessyDirectionLocal, False)\n",
    "print measure, \"%.3f\" % (statistic,), \"%.3f\" % (pval,)\n",
    "    #Fixations per second\n",
    "measure = \"fixationsPerSecond\"\n",
    "changeMeasure(measure)\n",
    "statistic, pval = statisticalTest(nonMessyDirectionGlobal, nonMessyDirectionLocal, True)\n",
    "print measure, \"%.3f\" % (statistic,), \"%.3f\" % (pval,)\n",
    "    #Fixation duration\n",
    "measure = \"fixationDuration\"\n",
    "changeMeasure(measure)\n",
    "statistic, pval = statisticalTest(nonMessyDirectionGlobal, nonMessyDirectionLocal, False)\n",
    "print measure, \"%.3f\" % (statistic,), \"%.3f\" % (pval,)\n",
    "    #Fixation precision\n",
    "measure = \"fixationPrecision\"\n",
    "changeMeasure(measure)\n",
    "statistic, pval = statisticalTest(nonMessyDirectionGlobal, nonMessyDirectionLocal, True)\n",
    "print measure, \"%.3f\" % (statistic,), \"%.3f\" % (pval,)\n",
    "    #Saccade velocity\n",
    "measure = \"saccadeVelocityList\"\n",
    "changeMeasure(measure)\n",
    "statistic, pval = statisticalTest(nonMessyDirectionGlobal, nonMessyDirectionLocal, False)\n",
    "print measure, \"%.3f\" % (statistic,), \"%.3f\" % (pval,)\n",
    "    #Pupil dilation difference\n",
    "measure = \"pupilDilationDiff\"\n",
    "changeMeasure(measure)\n",
    "statistic, pval = statisticalTest(nonMessyDirectionGlobal, nonMessyDirectionLocal, True)\n",
    "print measure, \"%.3f\" % (statistic,), \"%.3f\" % (pval,)"
   ]
  },
  {
   "cell_type": "code",
   "execution_count": 210,
   "metadata": {},
   "outputs": [
    {
     "name": "stdout",
     "output_type": "stream",
     "text": [
      "amountOfFixations 69.000 0.000\n",
      "fixationsPerSecond 0.975 0.336\n",
      "fixationDuration 223.000 0.020\n",
      "fixationPrecision -1.802 0.079\n",
      "saccadeVelocityList 2.398 0.022\n"
     ]
    },
    {
     "ename": "KeyError",
     "evalue": "'pupilDilationDiff'",
     "output_type": "error",
     "traceback": [
      "\u001b[1;31m\u001b[0m",
      "\u001b[1;31mKeyError\u001b[0mTraceback (most recent call last)",
      "\u001b[1;32m<ipython-input-210-e6dd45334266>\u001b[0m in \u001b[0;36m<module>\u001b[1;34m()\u001b[0m\n\u001b[0;32m     27\u001b[0m     \u001b[1;31m#Pupil dilation difference\u001b[0m\u001b[1;33m\u001b[0m\u001b[1;33m\u001b[0m\u001b[0m\n\u001b[0;32m     28\u001b[0m \u001b[0mmeasure\u001b[0m \u001b[1;33m=\u001b[0m \u001b[1;34m\"pupilDilationDiff\"\u001b[0m\u001b[1;33m\u001b[0m\u001b[0m\n\u001b[1;32m---> 29\u001b[1;33m \u001b[0mchangeMeasure\u001b[0m\u001b[1;33m(\u001b[0m\u001b[0mmeasure\u001b[0m\u001b[1;33m)\u001b[0m\u001b[1;33m\u001b[0m\u001b[0m\n\u001b[0m\u001b[0;32m     30\u001b[0m \u001b[0mstatistic\u001b[0m\u001b[1;33m,\u001b[0m \u001b[0mpval\u001b[0m \u001b[1;33m=\u001b[0m \u001b[0mstatisticalTest\u001b[0m\u001b[1;33m(\u001b[0m\u001b[0mmessyVisibilityGlobal\u001b[0m\u001b[1;33m,\u001b[0m \u001b[0mmessyVisibilityLocal\u001b[0m\u001b[1;33m,\u001b[0m \u001b[0mTrue\u001b[0m\u001b[1;33m)\u001b[0m\u001b[1;33m\u001b[0m\u001b[0m\n\u001b[0;32m     31\u001b[0m \u001b[1;32mprint\u001b[0m \u001b[0mmeasure\u001b[0m\u001b[1;33m,\u001b[0m \u001b[1;34m\"%.3f\"\u001b[0m \u001b[1;33m%\u001b[0m \u001b[1;33m(\u001b[0m\u001b[0mstatistic\u001b[0m\u001b[1;33m,\u001b[0m\u001b[1;33m)\u001b[0m\u001b[1;33m,\u001b[0m \u001b[1;34m\"%.3f\"\u001b[0m \u001b[1;33m%\u001b[0m \u001b[1;33m(\u001b[0m\u001b[0mpval\u001b[0m\u001b[1;33m,\u001b[0m\u001b[1;33m)\u001b[0m\u001b[1;33m\u001b[0m\u001b[0m\n",
      "\u001b[1;32m<ipython-input-198-15f33333e9a5>\u001b[0m in \u001b[0;36mchangeMeasure\u001b[1;34m(measure)\u001b[0m\n\u001b[0;32m      1\u001b[0m \u001b[1;32mdef\u001b[0m \u001b[0mchangeMeasure\u001b[0m\u001b[1;33m(\u001b[0m\u001b[0mmeasure\u001b[0m\u001b[1;33m)\u001b[0m\u001b[1;33m:\u001b[0m\u001b[1;33m\u001b[0m\u001b[0m\n\u001b[1;32m----> 2\u001b[1;33m     \u001b[0mM1AL\u001b[0m \u001b[1;33m=\u001b[0m \u001b[0mdata\u001b[0m\u001b[1;33m[\u001b[0m\u001b[1;34m\"M1A-Q01.png\"\u001b[0m\u001b[1;33m]\u001b[0m\u001b[1;33m[\u001b[0m\u001b[0mmeasure\u001b[0m\u001b[1;33m]\u001b[0m \u001b[1;33m+\u001b[0m \u001b[0mdata\u001b[0m\u001b[1;33m[\u001b[0m\u001b[1;34m\"M1A-Q02.png\"\u001b[0m\u001b[1;33m]\u001b[0m\u001b[1;33m[\u001b[0m\u001b[0mmeasure\u001b[0m\u001b[1;33m]\u001b[0m \u001b[1;33m+\u001b[0m \u001b[0mdata\u001b[0m\u001b[1;33m[\u001b[0m\u001b[1;34m\"M1A-Q03.png\"\u001b[0m\u001b[1;33m]\u001b[0m\u001b[1;33m[\u001b[0m\u001b[0mmeasure\u001b[0m\u001b[1;33m]\u001b[0m\u001b[1;33m\u001b[0m\u001b[0m\n\u001b[0m\u001b[0;32m      3\u001b[0m     \u001b[0mM1AG\u001b[0m \u001b[1;33m=\u001b[0m \u001b[0mdata\u001b[0m\u001b[1;33m[\u001b[0m\u001b[1;34m\"M1A-Q04.png\"\u001b[0m\u001b[1;33m]\u001b[0m\u001b[1;33m[\u001b[0m\u001b[0mmeasure\u001b[0m\u001b[1;33m]\u001b[0m \u001b[1;33m+\u001b[0m\u001b[0mdata\u001b[0m\u001b[1;33m[\u001b[0m\u001b[1;34m\"M1A-Q05.png\"\u001b[0m\u001b[1;33m]\u001b[0m\u001b[1;33m[\u001b[0m\u001b[0mmeasure\u001b[0m\u001b[1;33m]\u001b[0m \u001b[1;33m+\u001b[0m\u001b[0mdata\u001b[0m\u001b[1;33m[\u001b[0m\u001b[1;34m\"M1A-Q06.png\"\u001b[0m\u001b[1;33m]\u001b[0m\u001b[1;33m[\u001b[0m\u001b[0mmeasure\u001b[0m\u001b[1;33m]\u001b[0m\u001b[1;33m\u001b[0m\u001b[0m\n\u001b[0;32m      4\u001b[0m     \u001b[0mM1BL\u001b[0m \u001b[1;33m=\u001b[0m \u001b[0mdata\u001b[0m\u001b[1;33m[\u001b[0m\u001b[1;34m\"M1B-Q01.png\"\u001b[0m\u001b[1;33m]\u001b[0m\u001b[1;33m[\u001b[0m\u001b[0mmeasure\u001b[0m\u001b[1;33m]\u001b[0m \u001b[1;33m+\u001b[0m \u001b[0mdata\u001b[0m\u001b[1;33m[\u001b[0m\u001b[1;34m\"M1B-Q02.png\"\u001b[0m\u001b[1;33m]\u001b[0m\u001b[1;33m[\u001b[0m\u001b[0mmeasure\u001b[0m\u001b[1;33m]\u001b[0m \u001b[1;33m+\u001b[0m \u001b[0mdata\u001b[0m\u001b[1;33m[\u001b[0m\u001b[1;34m\"M1B-Q03.png\"\u001b[0m\u001b[1;33m]\u001b[0m\u001b[1;33m[\u001b[0m\u001b[0mmeasure\u001b[0m\u001b[1;33m]\u001b[0m\u001b[1;33m\u001b[0m\u001b[0m\n\u001b[0;32m      5\u001b[0m     \u001b[0mM1BG\u001b[0m \u001b[1;33m=\u001b[0m \u001b[0mdata\u001b[0m\u001b[1;33m[\u001b[0m\u001b[1;34m\"M1B-Q04.png\"\u001b[0m\u001b[1;33m]\u001b[0m\u001b[1;33m[\u001b[0m\u001b[0mmeasure\u001b[0m\u001b[1;33m]\u001b[0m \u001b[1;33m+\u001b[0m\u001b[0mdata\u001b[0m\u001b[1;33m[\u001b[0m\u001b[1;34m\"M1B-Q05.png\"\u001b[0m\u001b[1;33m]\u001b[0m\u001b[1;33m[\u001b[0m\u001b[0mmeasure\u001b[0m\u001b[1;33m]\u001b[0m \u001b[1;33m+\u001b[0m\u001b[0mdata\u001b[0m\u001b[1;33m[\u001b[0m\u001b[1;34m\"M1B-Q06.png\"\u001b[0m\u001b[1;33m]\u001b[0m\u001b[1;33m[\u001b[0m\u001b[0mmeasure\u001b[0m\u001b[1;33m]\u001b[0m\u001b[1;33m\u001b[0m\u001b[0m\n",
      "\u001b[1;31mKeyError\u001b[0m: 'pupilDilationDiff'"
     ]
    }
   ],
   "source": [
    "#Type of question - Block Visibility Low Global vs Block Visibility Low Local\n",
    "    #Fixation count\n",
    "measure = \"amountOfFixations\"\n",
    "changeMeasure(measure)\n",
    "statistic, pval = statisticalTest(messyVisibilityGlobal, messyVisibilityLocal, False)\n",
    "print measure, \"%.3f\" % (statistic,), \"%.3f\" % (pval,)\n",
    "    #Fixations per second\n",
    "measure = \"fixationsPerSecond\"\n",
    "changeMeasure(measure)\n",
    "statistic, pval = statisticalTest(messyVisibilityGlobal, messyVisibilityLocal, True)\n",
    "print measure, \"%.3f\" % (statistic,), \"%.3f\" % (pval,)\n",
    "    #Fixation duration\n",
    "measure = \"fixationDuration\"\n",
    "changeMeasure(measure)\n",
    "statistic, pval = statisticalTest(messyVisibilityGlobal, messyVisibilityLocal, False)\n",
    "print measure, \"%.3f\" % (statistic,), \"%.3f\" % (pval,)\n",
    "    #Fixation precision\n",
    "measure = \"fixationPrecision\"\n",
    "changeMeasure(measure)\n",
    "statistic, pval = statisticalTest(messyVisibilityGlobal, messyVisibilityLocal, True)\n",
    "print measure, \"%.3f\" % (statistic,), \"%.3f\" % (pval,)\n",
    "    #Saccade velocity\n",
    "measure = \"saccadeVelocityList\"\n",
    "changeMeasure(measure)\n",
    "statistic, pval = statisticalTest(messyVisibilityGlobal, messyVisibilityLocal, True)\n",
    "print measure, \"%.3f\" % (statistic,), \"%.3f\" % (pval,)\n",
    "    #Pupil dilation difference\n",
    "measure = \"pupilDilationDiff\"\n",
    "changeMeasure(measure)\n",
    "statistic, pval = statisticalTest(messyVisibilityGlobal, messyVisibilityLocal, True)\n",
    "print measure, \"%.3f\" % (statistic,), \"%.3f\" % (pval,)"
   ]
  },
  {
   "cell_type": "code",
   "execution_count": 211,
   "metadata": {},
   "outputs": [
    {
     "name": "stdout",
     "output_type": "stream",
     "text": [
      "amountOfFixations 72.500 0.000\n",
      "fixationsPerSecond 1.300 0.202\n",
      "fixationDuration 123.000 0.000\n",
      "fixationPrecision -0.732 0.469\n",
      "saccadeVelocityList 0.950 0.348\n"
     ]
    },
    {
     "ename": "KeyError",
     "evalue": "'pupilDilationDiff'",
     "output_type": "error",
     "traceback": [
      "\u001b[1;31m\u001b[0m",
      "\u001b[1;31mKeyError\u001b[0mTraceback (most recent call last)",
      "\u001b[1;32m<ipython-input-211-6f21772e3e92>\u001b[0m in \u001b[0;36m<module>\u001b[1;34m()\u001b[0m\n\u001b[0;32m     27\u001b[0m     \u001b[1;31m#Pupil dilation difference\u001b[0m\u001b[1;33m\u001b[0m\u001b[1;33m\u001b[0m\u001b[0m\n\u001b[0;32m     28\u001b[0m \u001b[0mmeasure\u001b[0m \u001b[1;33m=\u001b[0m \u001b[1;34m\"pupilDilationDiff\"\u001b[0m\u001b[1;33m\u001b[0m\u001b[0m\n\u001b[1;32m---> 29\u001b[1;33m \u001b[0mchangeMeasure\u001b[0m\u001b[1;33m(\u001b[0m\u001b[0mmeasure\u001b[0m\u001b[1;33m)\u001b[0m\u001b[1;33m\u001b[0m\u001b[0m\n\u001b[0m\u001b[0;32m     30\u001b[0m \u001b[0mstatistic\u001b[0m\u001b[1;33m,\u001b[0m \u001b[0mpval\u001b[0m \u001b[1;33m=\u001b[0m \u001b[0mstatisticalTest\u001b[0m\u001b[1;33m(\u001b[0m\u001b[0mnonMessyVisibilityGlobal\u001b[0m\u001b[1;33m,\u001b[0m \u001b[0mnonMessyVisibilityLocal\u001b[0m\u001b[1;33m,\u001b[0m \u001b[0mFalse\u001b[0m\u001b[1;33m)\u001b[0m\u001b[1;33m\u001b[0m\u001b[0m\n\u001b[0;32m     31\u001b[0m \u001b[1;32mprint\u001b[0m \u001b[0mmeasure\u001b[0m\u001b[1;33m,\u001b[0m \u001b[1;34m\"%.3f\"\u001b[0m \u001b[1;33m%\u001b[0m \u001b[1;33m(\u001b[0m\u001b[0mstatistic\u001b[0m\u001b[1;33m,\u001b[0m\u001b[1;33m)\u001b[0m\u001b[1;33m,\u001b[0m \u001b[1;34m\"%.3f\"\u001b[0m \u001b[1;33m%\u001b[0m \u001b[1;33m(\u001b[0m\u001b[0mpval\u001b[0m\u001b[1;33m,\u001b[0m\u001b[1;33m)\u001b[0m\u001b[1;33m\u001b[0m\u001b[0m\n",
      "\u001b[1;32m<ipython-input-198-15f33333e9a5>\u001b[0m in \u001b[0;36mchangeMeasure\u001b[1;34m(measure)\u001b[0m\n\u001b[0;32m      1\u001b[0m \u001b[1;32mdef\u001b[0m \u001b[0mchangeMeasure\u001b[0m\u001b[1;33m(\u001b[0m\u001b[0mmeasure\u001b[0m\u001b[1;33m)\u001b[0m\u001b[1;33m:\u001b[0m\u001b[1;33m\u001b[0m\u001b[0m\n\u001b[1;32m----> 2\u001b[1;33m     \u001b[0mM1AL\u001b[0m \u001b[1;33m=\u001b[0m \u001b[0mdata\u001b[0m\u001b[1;33m[\u001b[0m\u001b[1;34m\"M1A-Q01.png\"\u001b[0m\u001b[1;33m]\u001b[0m\u001b[1;33m[\u001b[0m\u001b[0mmeasure\u001b[0m\u001b[1;33m]\u001b[0m \u001b[1;33m+\u001b[0m \u001b[0mdata\u001b[0m\u001b[1;33m[\u001b[0m\u001b[1;34m\"M1A-Q02.png\"\u001b[0m\u001b[1;33m]\u001b[0m\u001b[1;33m[\u001b[0m\u001b[0mmeasure\u001b[0m\u001b[1;33m]\u001b[0m \u001b[1;33m+\u001b[0m \u001b[0mdata\u001b[0m\u001b[1;33m[\u001b[0m\u001b[1;34m\"M1A-Q03.png\"\u001b[0m\u001b[1;33m]\u001b[0m\u001b[1;33m[\u001b[0m\u001b[0mmeasure\u001b[0m\u001b[1;33m]\u001b[0m\u001b[1;33m\u001b[0m\u001b[0m\n\u001b[0m\u001b[0;32m      3\u001b[0m     \u001b[0mM1AG\u001b[0m \u001b[1;33m=\u001b[0m \u001b[0mdata\u001b[0m\u001b[1;33m[\u001b[0m\u001b[1;34m\"M1A-Q04.png\"\u001b[0m\u001b[1;33m]\u001b[0m\u001b[1;33m[\u001b[0m\u001b[0mmeasure\u001b[0m\u001b[1;33m]\u001b[0m \u001b[1;33m+\u001b[0m\u001b[0mdata\u001b[0m\u001b[1;33m[\u001b[0m\u001b[1;34m\"M1A-Q05.png\"\u001b[0m\u001b[1;33m]\u001b[0m\u001b[1;33m[\u001b[0m\u001b[0mmeasure\u001b[0m\u001b[1;33m]\u001b[0m \u001b[1;33m+\u001b[0m\u001b[0mdata\u001b[0m\u001b[1;33m[\u001b[0m\u001b[1;34m\"M1A-Q06.png\"\u001b[0m\u001b[1;33m]\u001b[0m\u001b[1;33m[\u001b[0m\u001b[0mmeasure\u001b[0m\u001b[1;33m]\u001b[0m\u001b[1;33m\u001b[0m\u001b[0m\n\u001b[0;32m      4\u001b[0m     \u001b[0mM1BL\u001b[0m \u001b[1;33m=\u001b[0m \u001b[0mdata\u001b[0m\u001b[1;33m[\u001b[0m\u001b[1;34m\"M1B-Q01.png\"\u001b[0m\u001b[1;33m]\u001b[0m\u001b[1;33m[\u001b[0m\u001b[0mmeasure\u001b[0m\u001b[1;33m]\u001b[0m \u001b[1;33m+\u001b[0m \u001b[0mdata\u001b[0m\u001b[1;33m[\u001b[0m\u001b[1;34m\"M1B-Q02.png\"\u001b[0m\u001b[1;33m]\u001b[0m\u001b[1;33m[\u001b[0m\u001b[0mmeasure\u001b[0m\u001b[1;33m]\u001b[0m \u001b[1;33m+\u001b[0m \u001b[0mdata\u001b[0m\u001b[1;33m[\u001b[0m\u001b[1;34m\"M1B-Q03.png\"\u001b[0m\u001b[1;33m]\u001b[0m\u001b[1;33m[\u001b[0m\u001b[0mmeasure\u001b[0m\u001b[1;33m]\u001b[0m\u001b[1;33m\u001b[0m\u001b[0m\n\u001b[0;32m      5\u001b[0m     \u001b[0mM1BG\u001b[0m \u001b[1;33m=\u001b[0m \u001b[0mdata\u001b[0m\u001b[1;33m[\u001b[0m\u001b[1;34m\"M1B-Q04.png\"\u001b[0m\u001b[1;33m]\u001b[0m\u001b[1;33m[\u001b[0m\u001b[0mmeasure\u001b[0m\u001b[1;33m]\u001b[0m \u001b[1;33m+\u001b[0m\u001b[0mdata\u001b[0m\u001b[1;33m[\u001b[0m\u001b[1;34m\"M1B-Q05.png\"\u001b[0m\u001b[1;33m]\u001b[0m\u001b[1;33m[\u001b[0m\u001b[0mmeasure\u001b[0m\u001b[1;33m]\u001b[0m \u001b[1;33m+\u001b[0m\u001b[0mdata\u001b[0m\u001b[1;33m[\u001b[0m\u001b[1;34m\"M1B-Q06.png\"\u001b[0m\u001b[1;33m]\u001b[0m\u001b[1;33m[\u001b[0m\u001b[0mmeasure\u001b[0m\u001b[1;33m]\u001b[0m\u001b[1;33m\u001b[0m\u001b[0m\n",
      "\u001b[1;31mKeyError\u001b[0m: 'pupilDilationDiff'"
     ]
    }
   ],
   "source": [
    "#Type of question - Block visibility High Global vs Block visibility High Local\n",
    "    #Fixation count\n",
    "measure = \"amountOfFixations\"\n",
    "changeMeasure(measure)\n",
    "statistic, pval = statisticalTest(nonMessyVisibilityGlobal, nonMessyVisibilityLocal, False)\n",
    "print measure, \"%.3f\" % (statistic,), \"%.3f\" % (pval,)\n",
    "    #Fixations per second\n",
    "measure = \"fixationsPerSecond\"\n",
    "changeMeasure(measure)\n",
    "statistic, pval = statisticalTest(nonMessyVisibilityGlobal, nonMessyVisibilityLocal, True)\n",
    "print measure, \"%.3f\" % (statistic,), \"%.3f\" % (pval,)\n",
    "    #Fixation duration\n",
    "measure = \"fixationDuration\"\n",
    "changeMeasure(measure)\n",
    "statistic, pval = statisticalTest(nonMessyVisibilityGlobal, nonMessyVisibilityLocal, False)\n",
    "print measure, \"%.3f\" % (statistic,), \"%.3f\" % (pval,)\n",
    "    #Fixation precision\n",
    "measure = \"fixationPrecision\"\n",
    "changeMeasure(measure)\n",
    "statistic, pval = statisticalTest(nonMessyVisibilityGlobal, nonMessyVisibilityLocal, True)\n",
    "print measure, \"%.3f\" % (statistic,), \"%.3f\" % (pval,)\n",
    "    #Saccade velocity\n",
    "measure = \"saccadeVelocityList\"\n",
    "changeMeasure(measure)\n",
    "statistic, pval = statisticalTest(nonMessyVisibilityGlobal, nonMessyVisibilityLocal, True)\n",
    "print measure, \"%.3f\" % (statistic,), \"%.3f\" % (pval,)\n",
    "    #Pupil dilation difference\n",
    "measure = \"pupilDilationDiff\"\n",
    "changeMeasure(measure)\n",
    "statistic, pval = statisticalTest(nonMessyVisibilityGlobal, nonMessyVisibilityLocal, False)\n",
    "print measure, \"%.3f\" % (statistic,), \"%.3f\" % (pval,)"
   ]
  },
  {
   "cell_type": "code",
   "execution_count": null,
   "metadata": {
    "collapsed": true
   },
   "outputs": [],
   "source": [
    "measure = \"duration\"\n",
    "changeMeasure(measure)\n",
    "statistic, pval = statisticalTest(messyDirectionGlobal, nonMessyDirectionGlobal, True)\n",
    "print measure, \"%.3f\" % (statistic,), \"%.3f\" % (pval,)\n",
    "statistic, pval = statisticalTest(messyDirectionLocal, nonMessyDirectionLocal, False)\n",
    "print measure, \"%.3f\" % (statistic,), \"%.3f\" % (pval,)\n",
    "statistic, pval = statisticalTest(messyVisibilityGlobal, nonMessyVisibilityGlobal, False)\n",
    "print measure, \"%.3f\" % (statistic,), \"%.3f\" % (pval,)\n",
    "statistic, pval = statisticalTest(messyVisibilityLocal, nonMessyVisibilityLocal, False)\n",
    "print measure, \"%.3f\" % (statistic,), \"%.3f\" % (pval,)\n",
    "statistic, pval = statisticalTest(messyDirectionGlobal, messyDirectionLocal, False)\n",
    "print measure, \"%.3f\" % (statistic,), \"%.3f\" % (pval,)\n",
    "statistic, pval = statisticalTest(nonMessyDirectionGlobal, nonMessyDirectionLocal, True)\n",
    "print measure, \"%.3f\" % (statistic,), \"%.3f\" % (pval,)\n",
    "statistic, pval = statisticalTest(messyVisibilityGlobal, messyVisibilityLocal, False)\n",
    "print measure, \"%.3f\" % (statistic,), \"%.3f\" % (pval,)\n",
    "statistic, pval = statisticalTest(nonMessyVisibilityGlobal, nonMessyVisibilityLocal, False)\n",
    "print measure, \"%.3f\" % (statistic,), \"%.3f\" % (pval,)"
   ]
  },
  {
   "cell_type": "code",
   "execution_count": null,
   "metadata": {
    "collapsed": true
   },
   "outputs": [],
   "source": [
    "measure = \"accuracy\"\n",
    "M1AL = []\n",
    "for index in xrange(len(data[\"M1A-Q01.png\"][measure])):\n",
    "    M1AL.append(data[\"M1A-Q01.png\"][measure][index]+data[\"M1A-Q02.png\"][measure][index]+data[\"M1A-Q03.png\"][measure][index])\n",
    "M1AG = []\n",
    "for index in xrange(len(data[\"M1A-Q04.png\"][measure])):\n",
    "    M1AG.append(data[\"M1A-Q04.png\"][measure][index]+data[\"M1A-Q05.png\"][measure][index]+data[\"M1A-Q06.png\"][measure][index])\n",
    "M1BL = []\n",
    "for index in xrange(len(data[\"M1B-Q01.png\"][measure])):\n",
    "    M1BL.append(data[\"M1B-Q01.png\"][measure][index]+data[\"M1B-Q02.png\"][measure][index]+data[\"M1B-Q03.png\"][measure][index])\n",
    "M1BG = []\n",
    "for index in xrange(len(data[\"M1B-Q04.png\"][measure])):\n",
    "    M1BG.append(data[\"M1B-Q04.png\"][measure][index]+data[\"M1B-Q05.png\"][measure][index]+data[\"M1B-Q06.png\"][measure][index])\n",
    "M2AL = []\n",
    "for index in xrange(len(data[\"M2A-Q07.png\"][measure])):\n",
    "    M2AL.append(data[\"M2A-Q07.png\"][measure][index]+data[\"M2A-Q08.png\"][measure][index]+data[\"M2A-Q09.png\"][measure][index])\n",
    "M2AG = []\n",
    "for index in xrange(len(data[\"M2A-Q10.png\"][measure])):\n",
    "    M2AG.append(data[\"M2A-Q10.png\"][measure][index]+data[\"M2A-Q11.png\"][measure][index]+data[\"M2A-Q12.png\"][measure][index])\n",
    "M2BL = []\n",
    "for index in xrange(len(data[\"M2B-Q07.png\"][measure])):\n",
    "    M2BL.append(data[\"M2B-Q07.png\"][measure][index]+data[\"M2B-Q08.png\"][measure][index]+data[\"M2B-Q09.png\"][measure][index])\n",
    "M2BG = []\n",
    "for index in xrange(len(data[\"M2B-Q10.png\"][measure])):\n",
    "    M2BG.append(data[\"M2B-Q10.png\"][measure][index]+data[\"M2B-Q11.png\"][measure][index]+data[\"M2B-Q12.png\"][measure][index])\n",
    "M3AL = []\n",
    "for index in xrange(len(data[\"M3A-Q13.png\"][measure])):\n",
    "    M3AL.append(data[\"M3A-Q13.png\"][measure][index]+data[\"M3A-Q14.png\"][measure][index]+data[\"M3A-Q15.png\"][measure][index])\n",
    "M3AG = []\n",
    "for index in xrange(len(data[\"M3A-Q16.png\"][measure])):\n",
    "    M3AG.append(data[\"M3A-Q16.png\"][measure][index]+data[\"M3A-Q17.png\"][measure][index]+data[\"M3A-Q18.png\"][measure][index])\n",
    "M3BL = []\n",
    "for index in xrange(len(data[\"M3B-Q13.png\"][measure])):\n",
    "    M3BL.append(data[\"M3B-Q13.png\"][measure][index]+data[\"M3B-Q14.png\"][measure][index]+data[\"M3B-Q15.png\"][measure][index])\n",
    "M3BG = []\n",
    "for index in xrange(len(data[\"M3B-Q16.png\"][measure])):\n",
    "    M3BG.append(data[\"M3B-Q16.png\"][measure][index]+data[\"M3B-Q17.png\"][measure][index]+data[\"M3B-Q18.png\"][measure][index])\n",
    "M4AL = []\n",
    "for index in xrange(len(data[\"M4A-Q19.png\"][measure])):\n",
    "    M4AL.append(data[\"M4A-Q19.png\"][measure][index]+data[\"M4A-Q20.png\"][measure][index]+data[\"M4A-Q24.png\"][measure][index])\n",
    "M4AG = []\n",
    "for index in xrange(len(data[\"M4A-Q22.png\"][measure])):\n",
    "    M4AG.append(data[\"M4A-Q22.png\"][measure][index]+data[\"M4A-Q23.png\"][measure][index]+data[\"M4A-Q21.png\"][measure][index])\n",
    "M4BL = []\n",
    "for index in xrange(len(data[\"M4B-Q19.png\"][measure])):\n",
    "    M4BL.append(data[\"M4B-Q19.png\"][measure][index]+data[\"M4B-Q20.png\"][measure][index]+data[\"M4B-Q24.png\"][measure][index])\n",
    "M4BG = []\n",
    "for index in xrange(len(data[\"M4B-Q22.png\"][measure])):\n",
    "    M4BG.append(data[\"M4B-Q22.png\"][measure][index]+data[\"M4B-Q23.png\"][measure][index]+data[\"M4B-Q21.png\"][measure][index])\n",
    "\n",
    "messyDirectionGlobal = M1BG + M3AG\n",
    "nonMessyDirectionGlobal = M1AG + M3BG\n",
    "messyDirectionLocal = M1BL + M3AL\n",
    "nonMessyDirectionLocal = M1AL + M3BL\n",
    "messyVisibilityGlobal = M2AG + M4BG\n",
    "nonMessyVisibilityGlobal = M2BG + M4AG\n",
    "messyVisibilityLocal = M2AL + M4BL\n",
    "nonMessyVisibilityLocal = M2BL + M4AL\n",
    "\n",
    "statistic, pval = statisticalTest(messyDirectionGlobal, nonMessyDirectionGlobal, False)\n",
    "print measure, \"%.3f\" % (statistic,), \"%.3f\" % (pval,)\n",
    "statistic, pval = statisticalTest(messyDirectionLocal, nonMessyDirectionLocal, False)\n",
    "print measure, \"%.3f\" % (statistic,), \"%.3f\" % (pval,)\n",
    "statistic, pval = statisticalTest(messyVisibilityGlobal, nonMessyVisibilityGlobal, False)\n",
    "print measure, \"%.3f\" % (statistic,), \"%.3f\" % (pval,)\n",
    "statistic, pval = statisticalTest(messyVisibilityLocal, nonMessyVisibilityLocal, True)\n",
    "print measure, \"%.3f\" % (statistic,), \"%.3f\" % (pval,)\n",
    "statistic, pval = statisticalTest(messyDirectionGlobal, messyDirectionLocal, False)\n",
    "print measure, \"%.3f\" % (statistic,), \"%.3f\" % (pval,)\n",
    "statistic, pval = statisticalTest(nonMessyDirectionGlobal, nonMessyDirectionLocal, False)\n",
    "print measure, \"%.3f\" % (statistic,), \"%.3f\" % (pval,)\n",
    "statistic, pval = statisticalTest(messyVisibilityGlobal, messyVisibilityLocal, False)\n",
    "print measure, \"%.3f\" % (statistic,), \"%.3f\" % (pval,)\n",
    "statistic, pval = statisticalTest(nonMessyVisibilityGlobal, nonMessyVisibilityLocal, False)\n",
    "print measure, \"%.3f\" % (statistic,), \"%.3f\" % (pval,)"
   ]
  },
  {
   "cell_type": "code",
   "execution_count": null,
   "metadata": {
    "collapsed": true
   },
   "outputs": [],
   "source": [
    "messyDirectionGlobal = M1BG + M3AG\n",
    "nonMessyDirectionGlobal = M1AG + M3BG\n",
    "messyDirectionLocal = M1BL + M3AL\n",
    "nonMessyDirectionLocal = M1AL + M3BL\n",
    "messyVisibilityGlobal = M2AG + M4BG\n",
    "nonMessyVisibilityGlobal = M2BG + M4AG\n",
    "messyVisibilityLocal = M2AL + M4BL\n",
    "nonMessyVisibilityLocal = M2BL + M4AL"
   ]
  },
  {
   "cell_type": "code",
   "execution_count": null,
   "metadata": {
    "collapsed": true
   },
   "outputs": [],
   "source": [
    "aResults = [0,0,0,0,0,0,0]\n",
    "for image in data.keys():\n",
    "    if image[0] != \"T\" and image[2] == \"A\":\n",
    "        for index in xrange(len(data[image][\"accuracy\"])):\n",
    "            aResults[index] += data[image][\"accuracy\"][index]"
   ]
  },
  {
   "cell_type": "code",
   "execution_count": null,
   "metadata": {
    "collapsed": true
   },
   "outputs": [],
   "source": [
    "bResults = [0,0,0,0,0,0]\n",
    "for image in data.keys():\n",
    "    if image[0] != \"T\" and image[2] == \"B\":\n",
    "        for index in xrange(len(data[image][\"accuracy\"])):\n",
    "            bResults[index] += data[image][\"accuracy\"][index]"
   ]
  },
  {
   "cell_type": "code",
   "execution_count": null,
   "metadata": {
    "collapsed": true
   },
   "outputs": [],
   "source": [
    "\n",
    "print aResults\n",
    "print bResults\n",
    "print np.mean(aResults+bResults)\n",
    "print np.median(aResults+bResults)"
   ]
  },
  {
   "cell_type": "code",
   "execution_count": null,
   "metadata": {
    "collapsed": true
   },
   "outputs": [],
   "source": []
  },
  {
   "cell_type": "code",
   "execution_count": null,
   "metadata": {
    "collapsed": true
   },
   "outputs": [],
   "source": []
  },
  {
   "cell_type": "code",
   "execution_count": null,
   "metadata": {
    "collapsed": true
   },
   "outputs": [],
   "source": []
  },
  {
   "cell_type": "code",
   "execution_count": null,
   "metadata": {
    "collapsed": true
   },
   "outputs": [],
   "source": []
  },
  {
   "cell_type": "code",
   "execution_count": null,
   "metadata": {
    "collapsed": true
   },
   "outputs": [],
   "source": []
  },
  {
   "cell_type": "code",
   "execution_count": null,
   "metadata": {
    "collapsed": true
   },
   "outputs": [],
   "source": []
  },
  {
   "cell_type": "code",
   "execution_count": null,
   "metadata": {
    "collapsed": true
   },
   "outputs": [],
   "source": []
  },
  {
   "cell_type": "code",
   "execution_count": null,
   "metadata": {
    "collapsed": true
   },
   "outputs": [],
   "source": []
  },
  {
   "cell_type": "code",
   "execution_count": null,
   "metadata": {
    "collapsed": true
   },
   "outputs": [],
   "source": []
  },
  {
   "cell_type": "code",
   "execution_count": null,
   "metadata": {
    "collapsed": true
   },
   "outputs": [],
   "source": []
  },
  {
   "cell_type": "code",
   "execution_count": null,
   "metadata": {
    "collapsed": true
   },
   "outputs": [],
   "source": []
  },
  {
   "cell_type": "code",
   "execution_count": null,
   "metadata": {
    "collapsed": true
   },
   "outputs": [],
   "source": []
  },
  {
   "cell_type": "code",
   "execution_count": null,
   "metadata": {
    "collapsed": true
   },
   "outputs": [],
   "source": []
  },
  {
   "cell_type": "code",
   "execution_count": null,
   "metadata": {
    "collapsed": true
   },
   "outputs": [],
   "source": []
  },
  {
   "cell_type": "code",
   "execution_count": null,
   "metadata": {
    "collapsed": true
   },
   "outputs": [],
   "source": []
  },
  {
   "cell_type": "code",
   "execution_count": null,
   "metadata": {
    "collapsed": true
   },
   "outputs": [],
   "source": []
  },
  {
   "cell_type": "code",
   "execution_count": null,
   "metadata": {
    "collapsed": true
   },
   "outputs": [],
   "source": []
  },
  {
   "cell_type": "code",
   "execution_count": null,
   "metadata": {
    "collapsed": true
   },
   "outputs": [],
   "source": []
  },
  {
   "cell_type": "code",
   "execution_count": null,
   "metadata": {
    "collapsed": true
   },
   "outputs": [],
   "source": []
  },
  {
   "cell_type": "code",
   "execution_count": null,
   "metadata": {
    "collapsed": true
   },
   "outputs": [],
   "source": []
  },
  {
   "cell_type": "code",
   "execution_count": null,
   "metadata": {
    "collapsed": true
   },
   "outputs": [],
   "source": []
  },
  {
   "cell_type": "code",
   "execution_count": null,
   "metadata": {
    "collapsed": true
   },
   "outputs": [],
   "source": []
  },
  {
   "cell_type": "code",
   "execution_count": null,
   "metadata": {
    "collapsed": true
   },
   "outputs": [],
   "source": []
  },
  {
   "cell_type": "code",
   "execution_count": null,
   "metadata": {
    "collapsed": true
   },
   "outputs": [],
   "source": []
  },
  {
   "cell_type": "code",
   "execution_count": null,
   "metadata": {
    "collapsed": true
   },
   "outputs": [],
   "source": []
  },
  {
   "cell_type": "code",
   "execution_count": null,
   "metadata": {
    "collapsed": true
   },
   "outputs": [],
   "source": []
  }
 ],
 "metadata": {
  "anaconda-cloud": {},
  "kernelspec": {
   "display_name": "Python [conda root]",
   "language": "python",
   "name": "conda-root-py"
  },
  "language_info": {
   "codemirror_mode": {
    "name": "ipython",
    "version": 2
   },
   "file_extension": ".py",
   "mimetype": "text/x-python",
   "name": "python",
   "nbconvert_exporter": "python",
   "pygments_lexer": "ipython2",
   "version": "2.7.13"
  }
 },
 "nbformat": 4,
 "nbformat_minor": 1
}
