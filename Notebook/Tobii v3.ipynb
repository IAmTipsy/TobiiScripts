{
 "cells": [
  {
   "cell_type": "code",
   "execution_count": 1,
   "metadata": {
    "collapsed": true
   },
   "outputs": [],
   "source": [
    "import numpy as np\n",
    "import scipy.stats as stats"
   ]
  },
  {
   "cell_type": "code",
   "execution_count": 2,
   "metadata": {
    "collapsed": true
   },
   "outputs": [],
   "source": [
    "def TSVtoList(tsvFile):\n",
    "    import csv\n",
    "    #Create a container for the tsv\n",
    "    tsvList = []\n",
    "    #Open the .tsv file and append it to a python list\n",
    "    with open(tsvFile,'rb') as tsvIn:\n",
    "        tsvIn = csv.reader(tsvIn, delimiter='\\t')\n",
    "        for row in tsvIn:\n",
    "            tsvList.append(row)\n",
    "    return tsvList"
   ]
  },
  {
   "cell_type": "code",
   "execution_count": 3,
   "metadata": {
    "collapsed": true
   },
   "outputs": [],
   "source": [
    "def ExcludeNonImageRows(tsvList):\n",
    "    index = []\n",
    "    currentIndex = 1\n",
    "    mediaNameIndex = GetIndexForHeader(\"MediaName\")\n",
    "    for row in tsvList[1:]:\n",
    "        if row[mediaNameIndex] == \"\":\n",
    "            index.append(currentIndex)\n",
    "        currentIndex += 1\n",
    "    for row in reversed(index):\n",
    "        del tsvList[row]\n",
    "    return tsvList"
   ]
  },
  {
   "cell_type": "code",
   "execution_count": 4,
   "metadata": {
    "collapsed": true
   },
   "outputs": [],
   "source": [
    "def DivideIntoSeparateImageLists(tsvList):\n",
    "    imageDictionary = {}\n",
    "    mediaNameIndex = GetIndexForHeader(\"MediaName\")\n",
    "    for row in tsvList[1:]:\n",
    "        if row[113] not in imageDictionary:\n",
    "            imageDictionary[row[mediaNameIndex]] = [row]\n",
    "        else:\n",
    "            imageDictionary[row[mediaNameIndex]].append(row)\n",
    "    return imageDictionary"
   ]
  },
  {
   "cell_type": "code",
   "execution_count": 5,
   "metadata": {
    "collapsed": true
   },
   "outputs": [],
   "source": [
    "def CalculateDurationForImage(dataList):\n",
    "    RecordingTimestampIndex = GetIndexForHeader(\"RecordingTimestamp\")\n",
    "    start =  float(dataList[0][RecordingTimestampIndex])\n",
    "    end = float(dataList[-1][RecordingTimestampIndex])\n",
    "    duration = end - start\n",
    "    #Convert to seconds\n",
    "    duration = duration / 1000\n",
    "    return duration"
   ]
  },
  {
   "cell_type": "code",
   "execution_count": 6,
   "metadata": {
    "collapsed": true
   },
   "outputs": [],
   "source": [
    "def CalculateAmountOfFixations(dataList):\n",
    "    index = 0\n",
    "    FixationIndexIndex = GetIndexForHeader(\"FixationIndex\")\n",
    "    for row in dataList:\n",
    "        if dataList[index][FixationIndexIndex] is not \"\":\n",
    "            break\n",
    "        index += 1\n",
    "    start = int(dataList[index][FixationIndexIndex])\n",
    "    index = -1\n",
    "    for row in reversed(dataList):\n",
    "        if dataList[index][FixationIndexIndex] is not \"\":\n",
    "            break\n",
    "        index -= 1\n",
    "    end = int(dataList[index][FixationIndexIndex])\n",
    "    amount = end - start\n",
    "    return amount"
   ]
  },
  {
   "cell_type": "code",
   "execution_count": 7,
   "metadata": {
    "collapsed": true
   },
   "outputs": [],
   "source": [
    "def CalculateFixationDuration(dataList):\n",
    "    index = 0\n",
    "    FixationIndexIndex = GetIndexForHeader(\"FixationIndex\")\n",
    "    RecordingTimestampIndex = GetIndexForHeader(\"RecordingTimestamp\")\n",
    "    prev = \"\"\n",
    "    current = \"\"\n",
    "    start = 0\n",
    "    end = 0\n",
    "    fixationDurations = []\n",
    "    for row in dataList:\n",
    "        prev = current\n",
    "        current = row[FixationIndexIndex]\n",
    "        if prev is \"\" and current is not \"\":\n",
    "            start = row[RecordingTimestampIndex]\n",
    "        elif prev is not \"\" and current is \"\":\n",
    "            end = row[RecordingTimestampIndex]\n",
    "            duration = int(end) - int(start)\n",
    "            duration = float(duration) / 1000\n",
    "            fixationDurations.append(duration)\n",
    "    return fixationDurations"
   ]
  },
  {
   "cell_type": "code",
   "execution_count": 8,
   "metadata": {
    "collapsed": true
   },
   "outputs": [],
   "source": [
    "def CalculateAmountOfFixationsPerSecond(duration, amountOfFixations):\n",
    "    duration = float(duration)\n",
    "    amountOfFixations = float(amountOfFixations)\n",
    "    fixationsPerSecond = amountOfFixations/duration\n",
    "    return fixationsPerSecond"
   ]
  },
  {
   "cell_type": "code",
   "execution_count": 9,
   "metadata": {
    "collapsed": true
   },
   "outputs": [],
   "source": [
    "def CalculateAmountOfSaccades(dataList):\n",
    "    saccadeList = []\n",
    "    SaccadeIndexIndex = GetIndexForHeader(\"SaccadeIndex\")\n",
    "    for row in dataList:\n",
    "        if row[145] is not \"\":\n",
    "            saccadeList.append(row[SaccadeIndexIndex])\n",
    "    start = int(min(saccadeList))\n",
    "    end = int(max(saccadeList))\n",
    "    amountOfSaccades = end - start\n",
    "    return amountOfSaccades"
   ]
  },
  {
   "cell_type": "code",
   "execution_count": 10,
   "metadata": {
    "collapsed": true
   },
   "outputs": [],
   "source": [
    "def CalculateDurationOfSaccades(dataList):\n",
    "    saccadeDurationList = []\n",
    "    tempSaccadeDurationList = []\n",
    "    RecordingTimestampIndex = GetIndexForHeader(\"RecordingTimestamp\")\n",
    "    for row in dataList:\n",
    "        if row[145] is not \"\":\n",
    "            tempSaccadeDurationList.append(int(row[RecordingTimestampIndex]))\n",
    "        else:\n",
    "            if len(tempSaccadeDurationList) is not 0:\n",
    "                saccadeStart = tempSaccadeDurationList[0]\n",
    "                saccadeEnd = tempSaccadeDurationList[-1]\n",
    "                saccadeDuration = saccadeEnd - saccadeStart\n",
    "                saccadeDurationList.append(saccadeDuration)\n",
    "                tempSaccadeDurationList = []\n",
    "    if len(tempSaccadeDurationList) is not 0:\n",
    "        sacadeStart = tempSaccadeDurationList[0]\n",
    "        saccadeEnd = tempSaccadeDurationList[-1]\n",
    "        saccadeDuration = saccadeEnd - saccadeStart\n",
    "        saccadeDurationList.append(saccadeDuration)\n",
    "        \n",
    "    return saccadeDurationList"
   ]
  },
  {
   "cell_type": "code",
   "execution_count": 11,
   "metadata": {
    "collapsed": true
   },
   "outputs": [],
   "source": [
    "def CalculateVelocityOfSaccades(dataList):\n",
    "    listOfVelocities = []\n",
    "    startIndex = 0\n",
    "    SaccadicAmplitudeIndex = GetIndexForHeader(\"SaccadicAmplitude\")\n",
    "    if dataList[0][SaccadicAmplitudeIndex] is not \"\":\n",
    "        for row in dataList:\n",
    "            if row[SaccadicAmplitudeIndex] is \"\":\n",
    "                break\n",
    "            else:\n",
    "                startIndex += 1\n",
    "    previous = \"\"\n",
    "    current = \"\"\n",
    "    for row in dataList[startIndex:]:\n",
    "        previous = current\n",
    "        current = row[SaccadicAmplitudeIndex]\n",
    "        if previous is \"\" and current is not \"\":\n",
    "            #convert number because it uses comma and needs to use punctuation\n",
    "            number = float(row[SaccadicAmplitudeIndex].replace(',','.'))\n",
    "            listOfVelocities.append(number)\n",
    "    return listOfVelocities"
   ]
  },
  {
   "cell_type": "code",
   "execution_count": 12,
   "metadata": {
    "collapsed": true
   },
   "outputs": [],
   "source": [
    "def CalculatePupilDilation(dataList):\n",
    "    pupilLeft = []\n",
    "    pupilRight = []\n",
    "    PupilLeftIndex = GetIndexForHeader(\"PupilLeft\")\n",
    "    for row in dataList:\n",
    "        pupilLeft.append(float(row[PupilLeftIndex].replace(',','.')))\n",
    "        pupilRight.append(float(row[PupilLeftIndex + 1].replace(',','.')))\n",
    "    return pupilLeft, pupilRight"
   ]
  },
  {
   "cell_type": "code",
   "execution_count": 13,
   "metadata": {
    "collapsed": true
   },
   "outputs": [],
   "source": [
    "def GetIndexForHeader(name):\n",
    "    indexForHeader = dataHeaders.index(name)\n",
    "    return indexForHeader"
   ]
  },
  {
   "cell_type": "code",
   "execution_count": 14,
   "metadata": {
    "collapsed": true
   },
   "outputs": [],
   "source": [
    "def CalculateAccuracy(dataList):\n",
    "    print dataList[0]"
   ]
  },
  {
   "cell_type": "code",
   "execution_count": 15,
   "metadata": {},
   "outputs": [
    {
     "ename": "IOError",
     "evalue": "[Errno 2] No such file or directory: 'C:/Users/Simon/Documents/Skole/Master/participants/processed/p764b@pupil@study_data_processed.tsv'",
     "output_type": "error",
     "traceback": [
      "\u001b[1;31m\u001b[0m",
      "\u001b[1;31mIOError\u001b[0mTraceback (most recent call last)",
      "\u001b[1;32m<ipython-input-15-2bef2a5476bf>\u001b[0m in \u001b[0;36m<module>\u001b[1;34m()\u001b[0m\n\u001b[0;32m      1\u001b[0m \u001b[0mfilePath\u001b[0m \u001b[1;33m=\u001b[0m \u001b[1;34m\"C:/Users/Simon/Documents/Skole/Master/participants/processed/p764b@pupil@study_data_processed.tsv\"\u001b[0m\u001b[1;33m\u001b[0m\u001b[0m\n\u001b[0;32m      2\u001b[0m \u001b[1;33m\u001b[0m\u001b[0m\n\u001b[1;32m----> 3\u001b[1;33m \u001b[0mdataList\u001b[0m \u001b[1;33m=\u001b[0m \u001b[0mTSVtoList\u001b[0m\u001b[1;33m(\u001b[0m\u001b[0mfilePath\u001b[0m\u001b[1;33m)\u001b[0m\u001b[1;33m\u001b[0m\u001b[0m\n\u001b[0m\u001b[0;32m      4\u001b[0m \u001b[1;33m\u001b[0m\u001b[0m\n\u001b[0;32m      5\u001b[0m \u001b[0mdataHeaders\u001b[0m \u001b[1;33m=\u001b[0m \u001b[0mdataList\u001b[0m\u001b[1;33m[\u001b[0m\u001b[1;36m0\u001b[0m\u001b[1;33m]\u001b[0m\u001b[1;33m\u001b[0m\u001b[0m\n",
      "\u001b[1;32m<ipython-input-2-40fac2306870>\u001b[0m in \u001b[0;36mTSVtoList\u001b[1;34m(tsvFile)\u001b[0m\n\u001b[0;32m      4\u001b[0m     \u001b[0mtsvList\u001b[0m \u001b[1;33m=\u001b[0m \u001b[1;33m[\u001b[0m\u001b[1;33m]\u001b[0m\u001b[1;33m\u001b[0m\u001b[0m\n\u001b[0;32m      5\u001b[0m     \u001b[1;31m#Open the .tsv file and append it to a python list\u001b[0m\u001b[1;33m\u001b[0m\u001b[1;33m\u001b[0m\u001b[0m\n\u001b[1;32m----> 6\u001b[1;33m     \u001b[1;32mwith\u001b[0m \u001b[0mopen\u001b[0m\u001b[1;33m(\u001b[0m\u001b[0mtsvFile\u001b[0m\u001b[1;33m,\u001b[0m\u001b[1;34m'rb'\u001b[0m\u001b[1;33m)\u001b[0m \u001b[1;32mas\u001b[0m \u001b[0mtsvIn\u001b[0m\u001b[1;33m:\u001b[0m\u001b[1;33m\u001b[0m\u001b[0m\n\u001b[0m\u001b[0;32m      7\u001b[0m         \u001b[0mtsvIn\u001b[0m \u001b[1;33m=\u001b[0m \u001b[0mcsv\u001b[0m\u001b[1;33m.\u001b[0m\u001b[0mreader\u001b[0m\u001b[1;33m(\u001b[0m\u001b[0mtsvIn\u001b[0m\u001b[1;33m,\u001b[0m \u001b[0mdelimiter\u001b[0m\u001b[1;33m=\u001b[0m\u001b[1;34m'\\t'\u001b[0m\u001b[1;33m)\u001b[0m\u001b[1;33m\u001b[0m\u001b[0m\n\u001b[0;32m      8\u001b[0m         \u001b[1;32mfor\u001b[0m \u001b[0mrow\u001b[0m \u001b[1;32min\u001b[0m \u001b[0mtsvIn\u001b[0m\u001b[1;33m:\u001b[0m\u001b[1;33m\u001b[0m\u001b[0m\n",
      "\u001b[1;31mIOError\u001b[0m: [Errno 2] No such file or directory: 'C:/Users/Simon/Documents/Skole/Master/participants/processed/p764b@pupil@study_data_processed.tsv'"
     ]
    }
   ],
   "source": [
    "filePath = \"C:/Users/Simon/Documents/Skole/Master/participants/processed/p764b@pupil@study_data_processed.tsv\"\n",
    "\n",
    "dataList = TSVtoList(filePath)\n",
    "\n",
    "dataHeaders = dataList[0]\n",
    "\n",
    "dataList = ExcludeNonImageRows(dataList)\n",
    "\n",
    "dataDictionary = DivideIntoSeparateImageLists(dataList)\n",
    "\n",
    "print(dataDictionary.keys())"
   ]
  },
  {
   "cell_type": "code",
   "execution_count": 44,
   "metadata": {},
   "outputs": [
    {
     "ename": "NameError",
     "evalue": "name 'dataHeaders' is not defined",
     "output_type": "error",
     "traceback": [
      "\u001b[1;31m\u001b[0m",
      "\u001b[1;31mNameError\u001b[0mTraceback (most recent call last)",
      "\u001b[1;32m<ipython-input-44-0e862058454f>\u001b[0m in \u001b[0;36m<module>\u001b[1;34m()\u001b[0m\n\u001b[0;32m      1\u001b[0m \u001b[0mindex\u001b[0m \u001b[1;33m=\u001b[0m \u001b[1;36m0\u001b[0m\u001b[1;33m\u001b[0m\u001b[0m\n\u001b[1;32m----> 2\u001b[1;33m \u001b[1;32mfor\u001b[0m \u001b[0mheader\u001b[0m \u001b[1;32min\u001b[0m \u001b[0mdataHeaders\u001b[0m\u001b[1;33m:\u001b[0m\u001b[1;33m\u001b[0m\u001b[0m\n\u001b[0m\u001b[0;32m      3\u001b[0m     \u001b[1;32mprint\u001b[0m \u001b[0mstr\u001b[0m\u001b[1;33m(\u001b[0m\u001b[0mindex\u001b[0m\u001b[1;33m)\u001b[0m \u001b[1;33m+\u001b[0m \u001b[1;34m\": \"\u001b[0m \u001b[1;33m+\u001b[0m \u001b[0mheader\u001b[0m\u001b[1;33m\u001b[0m\u001b[0m\n\u001b[0;32m      4\u001b[0m     \u001b[0mindex\u001b[0m \u001b[1;33m+=\u001b[0m \u001b[1;36m1\u001b[0m\u001b[1;33m\u001b[0m\u001b[0m\n",
      "\u001b[1;31mNameError\u001b[0m: name 'dataHeaders' is not defined"
     ]
    }
   ],
   "source": [
    "index = 0\n",
    "for header in dataHeaders:\n",
    "    print str(index) + \": \" + header\n",
    "    index += 1 "
   ]
  },
  {
   "cell_type": "code",
   "execution_count": 45,
   "metadata": {},
   "outputs": [
    {
     "ename": "NameError",
     "evalue": "name 'dataDictionary' is not defined",
     "output_type": "error",
     "traceback": [
      "\u001b[1;31m\u001b[0m",
      "\u001b[1;31mNameError\u001b[0mTraceback (most recent call last)",
      "\u001b[1;32m<ipython-input-45-05d70317c91b>\u001b[0m in \u001b[0;36m<module>\u001b[1;34m()\u001b[0m\n\u001b[1;32m----> 1\u001b[1;33m \u001b[0mduration\u001b[0m \u001b[1;33m=\u001b[0m \u001b[0mCalculateDurationForImage\u001b[0m\u001b[1;33m(\u001b[0m\u001b[0mdataDictionary\u001b[0m\u001b[1;33m[\u001b[0m\u001b[1;34m\"M4A-Q24.png\"\u001b[0m\u001b[1;33m]\u001b[0m\u001b[1;33m)\u001b[0m\u001b[1;33m\u001b[0m\u001b[0m\n\u001b[0m\u001b[0;32m      2\u001b[0m \u001b[1;32mprint\u001b[0m \u001b[0mduration\u001b[0m\u001b[1;33m\u001b[0m\u001b[0m\n",
      "\u001b[1;31mNameError\u001b[0m: name 'dataDictionary' is not defined"
     ]
    }
   ],
   "source": [
    "duration = CalculateDurationForImage(dataDictionary[\"M4A-Q24.png\"])\n",
    "print duration"
   ]
  },
  {
   "cell_type": "code",
   "execution_count": 46,
   "metadata": {},
   "outputs": [
    {
     "ename": "NameError",
     "evalue": "name 'dataDictionary' is not defined",
     "output_type": "error",
     "traceback": [
      "\u001b[1;31m\u001b[0m",
      "\u001b[1;31mNameError\u001b[0mTraceback (most recent call last)",
      "\u001b[1;32m<ipython-input-46-f0050c544f67>\u001b[0m in \u001b[0;36m<module>\u001b[1;34m()\u001b[0m\n\u001b[1;32m----> 1\u001b[1;33m \u001b[0mamountOfFixations\u001b[0m \u001b[1;33m=\u001b[0m \u001b[0mCalculateAmountOfFixations\u001b[0m\u001b[1;33m(\u001b[0m\u001b[0mdataDictionary\u001b[0m\u001b[1;33m[\u001b[0m\u001b[1;34m\"M4A-Q24.png\"\u001b[0m\u001b[1;33m]\u001b[0m\u001b[1;33m)\u001b[0m\u001b[1;33m\u001b[0m\u001b[0m\n\u001b[0m\u001b[0;32m      2\u001b[0m \u001b[1;32mprint\u001b[0m \u001b[0mamountOfFixations\u001b[0m\u001b[1;33m\u001b[0m\u001b[0m\n",
      "\u001b[1;31mNameError\u001b[0m: name 'dataDictionary' is not defined"
     ]
    }
   ],
   "source": [
    "amountOfFixations = CalculateAmountOfFixations(dataDictionary[\"M4A-Q24.png\"])\n",
    "print amountOfFixations"
   ]
  },
  {
   "cell_type": "code",
   "execution_count": 47,
   "metadata": {},
   "outputs": [
    {
     "ename": "NameError",
     "evalue": "name 'dataDictionary' is not defined",
     "output_type": "error",
     "traceback": [
      "\u001b[1;31m\u001b[0m",
      "\u001b[1;31mNameError\u001b[0mTraceback (most recent call last)",
      "\u001b[1;32m<ipython-input-47-4a39bce0a366>\u001b[0m in \u001b[0;36m<module>\u001b[1;34m()\u001b[0m\n\u001b[1;32m----> 1\u001b[1;33m \u001b[0mfixationDuration\u001b[0m \u001b[1;33m=\u001b[0m \u001b[0mCalculateFixationDuration\u001b[0m\u001b[1;33m(\u001b[0m\u001b[0mdataDictionary\u001b[0m\u001b[1;33m[\u001b[0m\u001b[1;34m\"M4A-Q24.png\"\u001b[0m\u001b[1;33m]\u001b[0m\u001b[1;33m)\u001b[0m\u001b[1;33m\u001b[0m\u001b[0m\n\u001b[0m\u001b[0;32m      2\u001b[0m \u001b[1;32mprint\u001b[0m \u001b[0mnp\u001b[0m\u001b[1;33m.\u001b[0m\u001b[0mmean\u001b[0m\u001b[1;33m(\u001b[0m\u001b[0mfixationDuration\u001b[0m\u001b[1;33m)\u001b[0m\u001b[1;33m\u001b[0m\u001b[0m\n",
      "\u001b[1;31mNameError\u001b[0m: name 'dataDictionary' is not defined"
     ]
    }
   ],
   "source": [
    "fixationDuration = CalculateFixationDuration(dataDictionary[\"M4A-Q24.png\"])\n",
    "print np.mean(fixationDuration)"
   ]
  },
  {
   "cell_type": "code",
   "execution_count": 48,
   "metadata": {},
   "outputs": [
    {
     "ename": "NameError",
     "evalue": "name 'duration' is not defined",
     "output_type": "error",
     "traceback": [
      "\u001b[1;31m\u001b[0m",
      "\u001b[1;31mNameError\u001b[0mTraceback (most recent call last)",
      "\u001b[1;32m<ipython-input-48-03506ded2519>\u001b[0m in \u001b[0;36m<module>\u001b[1;34m()\u001b[0m\n\u001b[1;32m----> 1\u001b[1;33m \u001b[0mfixationsPerSecond\u001b[0m \u001b[1;33m=\u001b[0m \u001b[0mCalculateAmountOfFixationsPerSecond\u001b[0m\u001b[1;33m(\u001b[0m\u001b[0mduration\u001b[0m\u001b[1;33m,\u001b[0m \u001b[0mamountOfFixations\u001b[0m\u001b[1;33m)\u001b[0m\u001b[1;33m\u001b[0m\u001b[0m\n\u001b[0m\u001b[0;32m      2\u001b[0m \u001b[1;32mprint\u001b[0m \u001b[0mfixationsPerSecond\u001b[0m\u001b[1;33m\u001b[0m\u001b[0m\n",
      "\u001b[1;31mNameError\u001b[0m: name 'duration' is not defined"
     ]
    }
   ],
   "source": [
    "fixationsPerSecond = CalculateAmountOfFixationsPerSecond(duration, amountOfFixations)\n",
    "print fixationsPerSecond"
   ]
  },
  {
   "cell_type": "code",
   "execution_count": 49,
   "metadata": {},
   "outputs": [
    {
     "ename": "NameError",
     "evalue": "name 'dataDictionary' is not defined",
     "output_type": "error",
     "traceback": [
      "\u001b[1;31m\u001b[0m",
      "\u001b[1;31mNameError\u001b[0mTraceback (most recent call last)",
      "\u001b[1;32m<ipython-input-49-5f864e9e4c2a>\u001b[0m in \u001b[0;36m<module>\u001b[1;34m()\u001b[0m\n\u001b[1;32m----> 1\u001b[1;33m \u001b[0mamountOfSaccades\u001b[0m \u001b[1;33m=\u001b[0m \u001b[0mCalculateAmountOfSaccades\u001b[0m\u001b[1;33m(\u001b[0m\u001b[0mdataDictionary\u001b[0m\u001b[1;33m[\u001b[0m\u001b[1;34m\"M4A-Q24.png\"\u001b[0m\u001b[1;33m]\u001b[0m\u001b[1;33m)\u001b[0m\u001b[1;33m\u001b[0m\u001b[0m\n\u001b[0m\u001b[0;32m      2\u001b[0m \u001b[1;32mprint\u001b[0m \u001b[0mamountOfSaccades\u001b[0m\u001b[1;33m\u001b[0m\u001b[0m\n",
      "\u001b[1;31mNameError\u001b[0m: name 'dataDictionary' is not defined"
     ]
    }
   ],
   "source": [
    "amountOfSaccades = CalculateAmountOfSaccades(dataDictionary[\"M4A-Q24.png\"])\n",
    "print amountOfSaccades"
   ]
  },
  {
   "cell_type": "code",
   "execution_count": 50,
   "metadata": {},
   "outputs": [
    {
     "ename": "NameError",
     "evalue": "name 'dataDictionary' is not defined",
     "output_type": "error",
     "traceback": [
      "\u001b[1;31m\u001b[0m",
      "\u001b[1;31mNameError\u001b[0mTraceback (most recent call last)",
      "\u001b[1;32m<ipython-input-50-8ac39b719b9e>\u001b[0m in \u001b[0;36m<module>\u001b[1;34m()\u001b[0m\n\u001b[1;32m----> 1\u001b[1;33m \u001b[0msaccadeDurationList\u001b[0m \u001b[1;33m=\u001b[0m \u001b[0mCalculateDurationOfSaccades\u001b[0m\u001b[1;33m(\u001b[0m\u001b[0mdataDictionary\u001b[0m\u001b[1;33m[\u001b[0m\u001b[1;34m\"M4A-Q24.png\"\u001b[0m\u001b[1;33m]\u001b[0m\u001b[1;33m)\u001b[0m\u001b[1;33m\u001b[0m\u001b[0m\n\u001b[0m\u001b[0;32m      2\u001b[0m \u001b[1;32mprint\u001b[0m \u001b[0mnp\u001b[0m\u001b[1;33m.\u001b[0m\u001b[0mmean\u001b[0m\u001b[1;33m(\u001b[0m\u001b[0msaccadeDurationList\u001b[0m\u001b[1;33m)\u001b[0m\u001b[1;33m\u001b[0m\u001b[0m\n",
      "\u001b[1;31mNameError\u001b[0m: name 'dataDictionary' is not defined"
     ]
    }
   ],
   "source": [
    "saccadeDurationList = CalculateDurationOfSaccades(dataDictionary[\"M4A-Q24.png\"])\n",
    "print np.mean(saccadeDurationList)"
   ]
  },
  {
   "cell_type": "code",
   "execution_count": 51,
   "metadata": {},
   "outputs": [
    {
     "ename": "NameError",
     "evalue": "name 'dataDictionary' is not defined",
     "output_type": "error",
     "traceback": [
      "\u001b[1;31m\u001b[0m",
      "\u001b[1;31mNameError\u001b[0mTraceback (most recent call last)",
      "\u001b[1;32m<ipython-input-51-c999708fe57c>\u001b[0m in \u001b[0;36m<module>\u001b[1;34m()\u001b[0m\n\u001b[1;32m----> 1\u001b[1;33m \u001b[0msaccadeVelocityList\u001b[0m \u001b[1;33m=\u001b[0m \u001b[0mCalculateVelocityOfSaccades\u001b[0m\u001b[1;33m(\u001b[0m\u001b[0mdataDictionary\u001b[0m\u001b[1;33m[\u001b[0m\u001b[1;34m\"M4A-Q24.png\"\u001b[0m\u001b[1;33m]\u001b[0m\u001b[1;33m)\u001b[0m\u001b[1;33m\u001b[0m\u001b[0m\n\u001b[0m\u001b[0;32m      2\u001b[0m \u001b[1;32mprint\u001b[0m \u001b[0mnp\u001b[0m\u001b[1;33m.\u001b[0m\u001b[0mmean\u001b[0m\u001b[1;33m(\u001b[0m\u001b[0msaccadeVelocityList\u001b[0m\u001b[1;33m)\u001b[0m\u001b[1;33m\u001b[0m\u001b[0m\n",
      "\u001b[1;31mNameError\u001b[0m: name 'dataDictionary' is not defined"
     ]
    }
   ],
   "source": [
    "saccadeVelocityList = CalculateVelocityOfSaccades(dataDictionary[\"M4A-Q24.png\"])\n",
    "print np.mean(saccadeVelocityList)"
   ]
  },
  {
   "cell_type": "code",
   "execution_count": 52,
   "metadata": {},
   "outputs": [
    {
     "ename": "NameError",
     "evalue": "name 'dataDictionary' is not defined",
     "output_type": "error",
     "traceback": [
      "\u001b[1;31m\u001b[0m",
      "\u001b[1;31mNameError\u001b[0mTraceback (most recent call last)",
      "\u001b[1;32m<ipython-input-52-48ce5e233f9c>\u001b[0m in \u001b[0;36m<module>\u001b[1;34m()\u001b[0m\n\u001b[0;32m      1\u001b[0m \u001b[1;32mimport\u001b[0m \u001b[0mnumpy\u001b[0m \u001b[1;32mas\u001b[0m \u001b[0mnp\u001b[0m\u001b[1;33m\u001b[0m\u001b[0m\n\u001b[1;32m----> 2\u001b[1;33m \u001b[0mpupilDilationLeftList\u001b[0m\u001b[1;33m,\u001b[0m \u001b[0mpupilDilationRightList\u001b[0m \u001b[1;33m=\u001b[0m \u001b[0mCalculatePupilDilation\u001b[0m\u001b[1;33m(\u001b[0m\u001b[0mdataDictionary\u001b[0m\u001b[1;33m[\u001b[0m\u001b[1;34m\"M4A-Q24.png\"\u001b[0m\u001b[1;33m]\u001b[0m\u001b[1;33m)\u001b[0m\u001b[1;33m\u001b[0m\u001b[0m\n\u001b[0m\u001b[0;32m      3\u001b[0m \u001b[1;32mprint\u001b[0m \u001b[0mnp\u001b[0m\u001b[1;33m.\u001b[0m\u001b[0mmean\u001b[0m\u001b[1;33m(\u001b[0m\u001b[0mpupilDilationLeftList\u001b[0m\u001b[1;33m)\u001b[0m\u001b[1;33m,\u001b[0m \u001b[0mnp\u001b[0m\u001b[1;33m.\u001b[0m\u001b[0mvar\u001b[0m\u001b[1;33m(\u001b[0m\u001b[0mpupilDilationLeftList\u001b[0m\u001b[1;33m)\u001b[0m\u001b[1;33m,\u001b[0m \u001b[0mnp\u001b[0m\u001b[1;33m.\u001b[0m\u001b[0mstd\u001b[0m\u001b[1;33m(\u001b[0m\u001b[0mpupilDilationLeftList\u001b[0m\u001b[1;33m)\u001b[0m\u001b[1;33m\u001b[0m\u001b[0m\n\u001b[0;32m      4\u001b[0m \u001b[1;32mprint\u001b[0m \u001b[0mnp\u001b[0m\u001b[1;33m.\u001b[0m\u001b[0mmean\u001b[0m\u001b[1;33m(\u001b[0m\u001b[0mpupilDilationRightList\u001b[0m\u001b[1;33m)\u001b[0m\u001b[1;33m,\u001b[0m \u001b[0mnp\u001b[0m\u001b[1;33m.\u001b[0m\u001b[0mvar\u001b[0m\u001b[1;33m(\u001b[0m\u001b[0mpupilDilationRightList\u001b[0m\u001b[1;33m)\u001b[0m\u001b[1;33m,\u001b[0m \u001b[0mnp\u001b[0m\u001b[1;33m.\u001b[0m\u001b[0mstd\u001b[0m\u001b[1;33m(\u001b[0m\u001b[0mpupilDilationRightList\u001b[0m\u001b[1;33m)\u001b[0m\u001b[1;33m\u001b[0m\u001b[0m\n",
      "\u001b[1;31mNameError\u001b[0m: name 'dataDictionary' is not defined"
     ]
    }
   ],
   "source": [
    "import numpy as np\n",
    "pupilDilationLeftList, pupilDilationRightList = CalculatePupilDilation(dataDictionary[\"M4A-Q24.png\"])\n",
    "print np.mean(pupilDilationLeftList), np.var(pupilDilationLeftList), np.std(pupilDilationLeftList)\n",
    "print np.mean(pupilDilationRightList), np.var(pupilDilationRightList), np.std(pupilDilationRightList)"
   ]
  },
  {
   "cell_type": "code",
   "execution_count": null,
   "metadata": {},
   "outputs": [],
   "source": []
  },
  {
   "cell_type": "code",
   "execution_count": 53,
   "metadata": {},
   "outputs": [
    {
     "name": "stdout",
     "output_type": "stream",
     "text": [
      "p024a@pupil@study_data_processed.tsv\n",
      "p057a@pupil@study_data_processed.tsv\n",
      "p335b@pupil@study_data_processed.tsv\n",
      "p338b@pupil@study_data_processed.tsv\n",
      "p465b@pupil@study_data_processed.tsv\n",
      "p551a@pupil@study_data_processed.tsv\n",
      "p665a@pupil@study_data_processed.tsv\n",
      "p741b@pupil@study_data_processed.tsv\n",
      "p768b@pupil@study_data_processed.tsv\n",
      "p786a@pupil@study_data_processed.tsv\n",
      "p846a@pupil@study_data_processed.tsv\n",
      "p847b@pupil@study_data_processed.tsv\n",
      "p876a@pupil@study_data_processed.tsv\n"
     ]
    }
   ],
   "source": [
    "import os\n",
    "\n",
    "#Variables to hold the data\n",
    "data = {}\n",
    "dataHeaders = []\n",
    "\n",
    "filePath = \"C:/Users/Simon/Documents/Skole/Master/participants/processed/\"\n",
    "\n",
    "for participant in os.listdir(filePath):\n",
    "    print participant\n",
    "    participantshort = participant[:5]\n",
    "    \n",
    "    newPath = filePath + participant\n",
    "    \n",
    "    dataList = TSVtoList(newPath)\n",
    "\n",
    "    dataHeaders = dataList[0]\n",
    "\n",
    "    dataListExcluded = ExcludeNonImageRows(dataList)\n",
    "    \n",
    "    dataList = dataList[1:]\n",
    "\n",
    "    dataDictionary = DivideIntoSeparateImageLists(dataListExcluded)\n",
    "    \n",
    "    aORb = participantshort[-1]\n",
    "    dataList = dataList[-1]\n",
    "    \n",
    "    answerKey = {\"M1X-Q01\":\"True\",\n",
    "                \"M1X-Q02\":\"True\",\n",
    "                \"M1X-Q03\":\"True\",\n",
    "                \"M1X-Q04\":\"False\",\n",
    "                \"M1X-Q05\":\"False\",\n",
    "                \"M1X-Q06\":\"False\",\n",
    "                \"M2X-Q07\":\"False\",\n",
    "                \"M2X-Q08\":\"True\",\n",
    "                \"M2X-Q09\":\"True\",\n",
    "                \"M2X-Q10\":\"False\",\n",
    "                \"M2X-Q11\":\"False\",\n",
    "                \"M2X-Q12\":\"False\",\n",
    "                \"M3X-Q13\":\"True\",\n",
    "                \"M3X-Q14\":\"False\",\n",
    "                \"M3X-Q15\":\"True\",\n",
    "                \"M3X-Q16\":\"False\",\n",
    "                \"M3X-Q17\":\"True\",\n",
    "                \"M3X-Q18\":\"False\",\n",
    "                \"M4X-Q19\":\"True\",\n",
    "                \"M4X-Q20\":\"False\",\n",
    "                \"M4X-Q21\":\"True\",\n",
    "                \"M4X-Q22\":\"False\",\n",
    "                \"M4X-Q23\":\"True\",\n",
    "                \"M4X-Q24\":\"False\"}\n",
    "    \n",
    "    for image in dataDictionary:\n",
    "        if image not in data:\n",
    "            data[image] = {}\n",
    "            data[image][\"duration\"] = []\n",
    "            data[image][\"accuracy\"] = []\n",
    "            data[image][\"amountOfFixations\"] = []\n",
    "            data[image][\"fixationDuration\"] = []\n",
    "            data[image][\"fixationsPerSecond\"] = []\n",
    "            data[image][\"amountOfSaccades\"] = []\n",
    "            data[image][\"saccadeDurationList\"] = []\n",
    "            data[image][\"saccadeVelocityList\"] = []\n",
    "            data[image][\"pupilDilationLeftList\"] = []\n",
    "            data[image][\"pupilDilationRightList\"] = []\n",
    "            data[image][\"pupilDilationMean\"] = []\n",
    "        duration = CalculateDurationForImage(dataDictionary[image])\n",
    "        data[image][\"duration\"].append(duration)\n",
    "        amountOfFixations = CalculateAmountOfFixations(dataDictionary[image])\n",
    "        data[image][\"amountOfFixations\"].append(amountOfFixations)\n",
    "        fixationDuration = CalculateFixationDuration(dataDictionary[image])\n",
    "        data[image][\"fixationDuration\"].append(np.mean(fixationDuration))\n",
    "        fixationsPerSecond = CalculateAmountOfFixationsPerSecond(duration, amountOfFixations)\n",
    "        data[image][\"fixationsPerSecond\"].append(fixationsPerSecond)\n",
    "        amountOfSaccades = CalculateAmountOfSaccades(dataDictionary[image])\n",
    "        data[image][\"amountOfSaccades\"].append(amountOfSaccades)\n",
    "        saccadeDurationList = CalculateDurationOfSaccades(dataDictionary[image])\n",
    "        data[image][\"saccadeDurationList\"].append(saccadeDurationList)\n",
    "        saccadeVelocityList = CalculateVelocityOfSaccades(dataDictionary[image])\n",
    "        data[image][\"saccadeVelocityList\"].append(np.mean(saccadeVelocityList))\n",
    "        pupilDilationLeftList, pupilDilationRightList = CalculatePupilDilation(dataDictionary[image])\n",
    "        data[image][\"pupilDilationLeftList\"].append(np.std(pupilDilationLeftList))\n",
    "        data[image][\"pupilDilationRightList\"].append(np.std(pupilDilationRightList))\n",
    "        data[image][\"pupilDilationMean\"].append(np.mean([np.std(pupilDilationLeftList),np.std(pupilDilationRightList)]))\n",
    "        \n",
    "        imageShort = image[:-4]\n",
    "        if imageShort[0] != \"T\":\n",
    "            answer = dataList[GetIndexForHeader(\"[\"+imageShort+\"]Value\")]\n",
    "            if answer[0] == \" \":\n",
    "                answer = answer[1:]\n",
    "            pre = imageShort[:2]\n",
    "            post = imageShort[-4:]\n",
    "            if answerKey[pre+\"X\"+post] == answer:\n",
    "                data[image][\"accuracy\"].append(1)\n",
    "            else:\n",
    "                data[image][\"accuracy\"].append(0)\n"
   ]
  },
  {
   "cell_type": "code",
   "execution_count": 54,
   "metadata": {},
   "outputs": [
    {
     "name": "stdout",
     "output_type": "stream",
     "text": [
      "ExportDate\n",
      "StudioVersionRec\n",
      "StudioProjectName\n",
      "StudioTestName\n",
      "ParticipantName\n",
      "[M1BE-Q1]Value\n",
      "[M1BE-Q2]Value\n",
      "[M1BE-Q3]Value\n",
      "[M1BE-Q4]Value\n",
      "[M1BE-Q5]Value\n",
      "[M1BE-Q6]Value\n",
      "[M1B-Q01]Value\n",
      "[M1B-Q02]Value\n",
      "[M1B-Q03]Value\n",
      "[M1B-Q04]Value\n",
      "[M1B-Q05]Value\n",
      "[M1B-Q06]Value\n",
      "[M2BE-Q10]Value\n",
      "[M2BE-Q11]Value\n",
      "[M2BE-Q12]Value\n",
      "[M2BE-Q7]Value\n",
      "[M2BE-Q8]Value\n",
      "[M2BE-Q9]Value\n",
      "[M2B-Q07]Value\n",
      "[M2B-Q08]Value\n",
      "[M2B-Q09]Value\n",
      "[M2B-Q10]Value\n",
      "[M2B-Q11]Value\n",
      "[M2B-Q12]Value\n",
      "[M3BE-Q13]Value\n",
      "[M3BE-Q14]Value\n",
      "[M3BE-Q15]Value\n",
      "[M3BE-Q16]Value\n",
      "[M3BE-Q17]Value\n",
      "[M3BE-Q18]Value\n",
      "[M3B-Q13]Value\n",
      "[M3B-Q14]Value\n",
      "[M3B-Q15]Value\n",
      "[M3B-Q16]Value\n",
      "[M3B-Q17]Value\n",
      "[M3B-Q18]Value\n",
      "[M4BE-Q19]Value\n",
      "[M4BE-Q20]Value\n",
      "[M4BE-Q21]Value\n",
      "[M4BE-Q22]Value\n",
      "[M4BE-Q23]Value\n",
      "[M4BE-Q24]Value\n",
      "[M4B-Q19]Value\n",
      "[M4B-Q20]Value\n",
      "[M4B-Q21]Value\n",
      "[M4B-Q22]Value\n",
      "[M4B-Q23]Value\n",
      "[M4B-Q24]Value\n",
      "[TUTB-Q01]Value\n",
      "[TUTB-Q02]Value\n",
      "[TUTB-Q03]Value\n",
      "[TUTA-Q01]Value\n",
      "[TUTA-Q02]Value\n",
      "[TUTA-Q03]Value\n",
      "[M1A-Q01]Value\n",
      "[M1AE-Q1]Value\n",
      "[M1A-Q02]Value\n",
      "[M1AE-Q2]Value\n",
      "[M1A-Q03]Value\n",
      "[M1AE-Q3]Value\n",
      "[M1A-Q04]Value\n",
      "[M1AE-Q4]Value\n",
      "[M1A-Q05]Value\n",
      "[M1AE-Q5]Value\n",
      "[M1A-Q06]Value\n",
      "[M1AE-Q6]Value\n",
      "[M2A-Q07]Value\n",
      "[M2AE-Q7]Value\n",
      "[M2A-Q08]Value\n",
      "[M2AE-Q8]Value\n",
      "[M2A-Q09]Value\n",
      "[M2AE-Q9]Value\n",
      "[M2A-Q10]Value\n",
      "[M2AE-Q10]Value\n",
      "[M2A-Q11]Value\n",
      "[M2AE-Q11]Value\n",
      "[M2A-Q12]Value\n",
      "[M2AE-Q12]Value\n",
      "[M3A-Q13]Value\n",
      "[M3AE-Q13]Value\n",
      "[M3A-Q14]Value\n",
      "[M3AE-Q14]Value\n",
      "[M3A-Q15]Value\n",
      "[M3AE-Q15]Value\n",
      "[M3A-Q16]Value\n",
      "[M3AE-Q16]Value\n",
      "[M3A-Q17]Value\n",
      "[M3AE-Q17]Value\n",
      "[M3A-Q18]Value\n",
      "[M3AE-Q18]Value\n",
      "[M4A-Q19]Value\n",
      "[M4AE-Q19]Value\n",
      "[M4A-Q20]Value\n",
      "[M4AE-Q20]Value\n",
      "[M4A-Q21]Value\n",
      "[M4AE-Q21]Value\n",
      "[M4A-Q22]Value\n",
      "[M4AE-Q22]Value\n",
      "[M4A-Q23]Value\n",
      "[M4AE-Q23]Value\n",
      "[M4A-Q24]Value\n",
      "[M4AE-Q24]Value\n",
      "RecordingName\n",
      "RecordingDate\n",
      "RecordingDuration\n",
      "RecordingResolution\n",
      "PresentationSequence\n",
      "FixationFilter\n",
      "MediaName\n",
      "MediaPosX (ADCSpx)\n",
      "MediaPosY (ADCSpx)\n",
      "MediaWidth\n",
      "MediaHeight\n",
      "SegmentName\n",
      "SegmentStart\n",
      "SegmentEnd\n",
      "SegmentDuration\n",
      "SceneName\n",
      "SceneSegmentStart\n",
      "SceneSegmentEnd\n",
      "SceneSegmentDuration\n",
      "RecordingTimestamp\n",
      "LocalTimeStamp\n",
      "EyeTrackerTimestamp\n",
      "MouseEventIndex\n",
      "MouseEvent\n",
      "MouseEventX (ADCSpx)\n",
      "MouseEventY (ADCSpx)\n",
      "MouseEventX (MCSpx)\n",
      "MouseEventY (MCSpx)\n",
      "KeyPressEventIndex\n",
      "KeyPressEvent\n",
      "StudioEventIndex\n",
      "StudioEvent\n",
      "StudioEventData\n",
      "ExternalEventIndex\n",
      "ExternalEvent\n",
      "ExternalEventValue\n",
      "EventMarkerValue\n",
      "FixationIndex\n",
      "SaccadeIndex\n",
      "GazeEventType\n",
      "GazeEventDuration\n",
      "FixationPointX (MCSpx)\n",
      "FixationPointY (MCSpx)\n",
      "SaccadicAmplitude\n",
      "AbsoluteSaccadicDirection\n",
      "RelativeSaccadicDirection\n",
      "GazePointIndex\n",
      "GazePointLeftX (ADCSpx)\n",
      "GazePointLeftY (ADCSpx)\n",
      "GazePointRightX (ADCSpx)\n",
      "GazePointRightY (ADCSpx)\n",
      "GazePointX (ADCSpx)\n",
      "GazePointY (ADCSpx)\n",
      "GazePointX (MCSpx)\n",
      "GazePointY (MCSpx)\n",
      "GazePointLeftX (ADCSmm)\n",
      "GazePointLeftY (ADCSmm)\n",
      "GazePointRightX (ADCSmm)\n",
      "GazePointRightY (ADCSmm)\n",
      "StrictAverageGazePointX (ADCSmm)\n",
      "StrictAverageGazePointY (ADCSmm)\n",
      "EyePosLeftX (ADCSmm)\n",
      "EyePosLeftY (ADCSmm)\n",
      "EyePosLeftZ (ADCSmm)\n",
      "EyePosRightX (ADCSmm)\n",
      "EyePosRightY (ADCSmm)\n",
      "EyePosRightZ (ADCSmm)\n",
      "CamLeftX\n",
      "CamLeftY\n",
      "CamRightX\n",
      "CamRightY\n",
      "DistanceLeft\n",
      "DistanceRight\n",
      "PupilLeft\n",
      "PupilRight\n",
      "ValidityLeft\n",
      "ValidityRight\n",
      "IRMarkerCount\n",
      "IRMarkerID\n",
      "PupilGlassesRight\n",
      "\n",
      "Scene\n",
      "MissingValue\n",
      "GazePointMissing\n",
      "BlinkPedrotti\n"
     ]
    }
   ],
   "source": [
    "for row in dataHeaders:\n",
    "    print row"
   ]
  },
  {
   "cell_type": "code",
   "execution_count": 55,
   "metadata": {
    "collapsed": true
   },
   "outputs": [],
   "source": [
    "measure = \"pupilDilationMean\"\n",
    "TUT = data[\"TUTX-Q01.png\"][measure] + data[\"TUTX-Q02.png\"][measure] + data[\"TUTX-Q03.png\"][measure]\n",
    "tutMean = np.mean(TUT)\n",
    "\n",
    "for image in data.keys():\n",
    "    data[image][\"pupilDilationDiff\"] = []\n",
    "    for index in xrange(len(data[image][\"pupilDilationMean\"])):\n",
    "        data[image][\"pupilDilationDiff\"].append(float(data[image][\"pupilDilationMean\"][index])-float(TUT[index]))"
   ]
  },
  {
   "cell_type": "code",
   "execution_count": 56,
   "metadata": {},
   "outputs": [
    {
     "name": "stdout",
     "output_type": "stream",
     "text": [
      "['fixationDuration', 'pupilDilationDiff', 'saccadeVelocityList', 'amountOfSaccades', 'pupilDilationLeftList', 'fixationsPerSecond', 'duration', 'pupilDilationMean', 'accuracy', 'saccadeDurationList', 'pupilDilationRightList', 'amountOfFixations']\n"
     ]
    }
   ],
   "source": [
    "from pylab import *\n",
    "import matplotlib.pyplot as plt\n",
    "print data['M4A-Q24.png'].keys()"
   ]
  },
  {
   "cell_type": "code",
   "execution_count": 57,
   "metadata": {},
   "outputs": [
    {
     "name": "stdout",
     "output_type": "stream",
     "text": [
      "[14.204, 27.057, 31.202, 15.948, 13.879, 17.058, 25.656, 13.902, 21.611, 31.43, 23.527, 17.685, 23.564, 66.829, 15.668, 37.388, 18.274, 31.222, 31.865, 13.885, 18.284, 33.885, 65.212, 47.067, 33.125, 51.547, 29.663, 48.574, 41.825, 40.825, 35.849, 44.977, 49.454, 35.812, 28.77, 48.87, 43.358, 28.189, 23.49, 47.001, 50.226, 17.028]\n"
     ]
    }
   ],
   "source": [
    "def getModelData(model, measure, localAndGlobal=\"Both\"):\n",
    "    multiplier = int(model[1])\n",
    "    aORb = model[2]\n",
    "    end = 6 * multiplier\n",
    "    start = end - 5\n",
    "    if localAndGlobal is \"Local\":\n",
    "        end = end - 3\n",
    "    elif localAndGlobal is \"Global\":\n",
    "        start = start + 3\n",
    "    prefix = model +\"-\"\n",
    "    questions = []\n",
    "    for index in range(start, end+1):\n",
    "        question = index\n",
    "        question = \"%02d\" % (question,)\n",
    "        question = \"Q\"+question\n",
    "        questions.append(question)\n",
    "    \n",
    "    collecter = []\n",
    "    for question in questions:\n",
    "        collecter += data[prefix+question+\".png\"][measure]\n",
    "    \n",
    "    return collecter\n",
    "\n",
    "print getModelData(\"M1A\", \"duration\")\n",
    "%matplotlib inline"
   ]
  },
  {
   "cell_type": "code",
   "execution_count": 58,
   "metadata": {},
   "outputs": [
    {
     "data": {
      "image/png": "[encoded data removed]",
      "text/plain": [
       "<matplotlib.figure.Figure at 0x9953f60>"
      ]
     },
     "metadata": {},
     "output_type": "display_data"
    },
    {
     "data": {
      "image/png": "[encoded data removed]",
      "text/plain": [
       "<matplotlib.figure.Figure at 0xe883fda0>"
      ]
     },
     "metadata": {},
     "output_type": "display_data"
    },
    {
     "data": {
      "image/png": "[encoded data removed]",
      "text/plain": [
       "<matplotlib.figure.Figure at 0xf66f01d0>"
      ]
     },
     "metadata": {},
     "output_type": "display_data"
    },
    {
     "data": {
      "image/png": "[encoded data removed]",
      "text/plain": [
       "<matplotlib.figure.Figure at 0x110949b38>"
      ]
     },
     "metadata": {},
     "output_type": "display_data"
    }
   ],
   "source": [
    "%matplotlib inline\n",
    "measure = \"duration\"\n",
    "M1A = data[\"M1A-Q01.png\"][measure] + data[\"M1A-Q02.png\"][measure] + data[\"M1A-Q03.png\"][measure] +data[\"M1A-Q04.png\"][measure] +data[\"M1A-Q05.png\"][measure] +data[\"M1A-Q06.png\"][measure]\n",
    "M1B = data[\"M1B-Q01.png\"][measure] + data[\"M1B-Q02.png\"][measure] + data[\"M1B-Q03.png\"][measure] +data[\"M1B-Q04.png\"][measure] +data[\"M1B-Q05.png\"][measure] +data[\"M1B-Q06.png\"][measure]\n",
    "M2A = data[\"M2A-Q07.png\"][measure] + data[\"M2A-Q08.png\"][measure] + data[\"M2A-Q09.png\"][measure] +data[\"M2A-Q10.png\"][measure] +data[\"M2A-Q11.png\"][measure] +data[\"M2A-Q12.png\"][measure]\n",
    "M2B = data[\"M2B-Q07.png\"][measure] + data[\"M2B-Q08.png\"][measure] + data[\"M2B-Q09.png\"][measure] +data[\"M2B-Q10.png\"][measure] +data[\"M2B-Q11.png\"][measure] +data[\"M2B-Q12.png\"][measure]\n",
    "M3A = data[\"M3A-Q13.png\"][measure] + data[\"M3A-Q14.png\"][measure] + data[\"M3A-Q15.png\"][measure] +data[\"M3A-Q16.png\"][measure] +data[\"M3A-Q17.png\"][measure] +data[\"M3A-Q18.png\"][measure]\n",
    "M3B = data[\"M3B-Q13.png\"][measure] + data[\"M3B-Q14.png\"][measure] + data[\"M3B-Q15.png\"][measure] +data[\"M3B-Q16.png\"][measure] +data[\"M3B-Q17.png\"][measure] +data[\"M3B-Q18.png\"][measure]\n",
    "M4A = data[\"M4A-Q19.png\"][measure] + data[\"M4A-Q20.png\"][measure] + data[\"M4A-Q21.png\"][measure] +data[\"M4A-Q22.png\"][measure] +data[\"M4A-Q23.png\"][measure] +data[\"M4A-Q24.png\"][measure]\n",
    "M4B = data[\"M4B-Q19.png\"][measure] + data[\"M4B-Q20.png\"][measure] + data[\"M4B-Q21.png\"][measure] +data[\"M4B-Q22.png\"][measure] +data[\"M4B-Q23.png\"][measure] +data[\"M4B-Q24.png\"][measure]\n",
    "\n",
    "\n",
    "\n",
    "\n",
    "\n",
    "def boxplot(figureSubtitle, ylabel, MA, MB):\n",
    "    fig = plt.figure(figsize=(9,6))\n",
    "    #fig.suptitle(figureSubtitle, fontsize=14, fontweight='bold')\n",
    "\n",
    "    ax1A = fig.add_subplot(121)\n",
    "    ax1A.set_ylabel(ylabel)\n",
    "    ax1A.set_xlabel(\"Group A\")\n",
    "    ax1A.tick_params(axis=\"x\", which=\"both\", bottom=\"off\", top=\"off\", labelbottom=\"off\")\n",
    "    bp1A = ax1A.boxplot(MA)\n",
    "\n",
    "    ax1B = fig.add_subplot(122, sharey = ax1A)\n",
    "    ax1B.set_ylabel(ylabel)\n",
    "    ax1B.set_xlabel(\"Group B\")\n",
    "    ax1B.tick_params(axis=\"x\", which=\"both\", bottom=\"off\", top=\"off\", labelbottom=\"off\")\n",
    "    bp1B = ax1B.boxplot(MB)\n",
    "    \n",
    "    return fig\n",
    "db = \"DurationBoxplot\"    \n",
    "m1 = boxplot(\"Model 1 duration\", \"Time (sec)\", M1A, M1B)\n",
    "m1.savefig(\"M1\"+db)\n",
    "m2 = boxplot(\"Model 2 duration\", \"Time (sec)\", M2A, M2B)\n",
    "m2.savefig(\"M2\"+db)\n",
    "m3 = boxplot(\"Model 3 duration\", \"Time (sec)\", M3A, M3B)\n",
    "m3.savefig(\"M3\"+db)\n",
    "m4 = boxplot(\"Model 4 duration\", \"Time (sec)\", M4A, M4B)\n",
    "m4.savefig(\"M4\"+db)"
   ]
  },
  {
   "cell_type": "code",
   "execution_count": 59,
   "metadata": {},
   "outputs": [
    {
     "data": {
      "image/png": "[encoded data removed]",
      "text/plain": [
       "<matplotlib.figure.Figure at 0x9953b00>"
      ]
     },
     "metadata": {},
     "output_type": "display_data"
    },
    {
     "data": {
      "image/png": "[encoded data removed]",
      "text/plain": [
       "<matplotlib.figure.Figure at 0x1284e66a0>"
      ]
     },
     "metadata": {},
     "output_type": "display_data"
    },
    {
     "data": {
      "image/png": "[encoded data removed]",
      "text/plain": [
       "<matplotlib.figure.Figure at 0x8058c748>"
      ]
     },
     "metadata": {},
     "output_type": "display_data"
    },
    {
     "data": {
      "image/png": "[encoded data removed]",
      "text/plain": [
       "<matplotlib.figure.Figure at 0x4aeffda0>"
      ]
     },
     "metadata": {},
     "output_type": "display_data"
    }
   ],
   "source": [
    "measure = \"amountOfFixations\"\n",
    "M1A = data[\"M1A-Q01.png\"][measure] + data[\"M1A-Q02.png\"][measure] + data[\"M1A-Q03.png\"][measure] +data[\"M1A-Q04.png\"][measure] +data[\"M1A-Q05.png\"][measure] +data[\"M1A-Q06.png\"][measure]\n",
    "M1B = data[\"M1B-Q01.png\"][measure] + data[\"M1B-Q02.png\"][measure] + data[\"M1B-Q03.png\"][measure] +data[\"M1B-Q04.png\"][measure] +data[\"M1B-Q05.png\"][measure] +data[\"M1B-Q06.png\"][measure]\n",
    "M2A = data[\"M2A-Q07.png\"][measure] + data[\"M2A-Q08.png\"][measure] + data[\"M2A-Q09.png\"][measure] +data[\"M2A-Q10.png\"][measure] +data[\"M2A-Q11.png\"][measure] +data[\"M2A-Q12.png\"][measure]\n",
    "M2B = data[\"M2B-Q07.png\"][measure] + data[\"M2B-Q08.png\"][measure] + data[\"M2B-Q09.png\"][measure] +data[\"M2B-Q10.png\"][measure] +data[\"M2B-Q11.png\"][measure] +data[\"M2B-Q12.png\"][measure]\n",
    "M3A = data[\"M3A-Q13.png\"][measure] + data[\"M3A-Q14.png\"][measure] + data[\"M3A-Q15.png\"][measure] +data[\"M3A-Q16.png\"][measure] +data[\"M3A-Q17.png\"][measure] +data[\"M3A-Q18.png\"][measure]\n",
    "M3B = data[\"M3B-Q13.png\"][measure] + data[\"M3B-Q14.png\"][measure] + data[\"M3B-Q15.png\"][measure] +data[\"M3B-Q16.png\"][measure] +data[\"M3B-Q17.png\"][measure] +data[\"M3B-Q18.png\"][measure]\n",
    "M4A = data[\"M4A-Q19.png\"][measure] + data[\"M4A-Q20.png\"][measure] + data[\"M4A-Q21.png\"][measure] +data[\"M4A-Q22.png\"][measure] +data[\"M4A-Q23.png\"][measure] +data[\"M4A-Q24.png\"][measure]\n",
    "M4B = data[\"M4B-Q19.png\"][measure] + data[\"M4B-Q20.png\"][measure] + data[\"M4B-Q21.png\"][measure] +data[\"M4B-Q22.png\"][measure] +data[\"M4B-Q23.png\"][measure] +data[\"M4B-Q24.png\"][measure]\n",
    "\n",
    "\n",
    "db = \"amountOfFixationsBoxplot\"    \n",
    "m1 = boxplot(\"Model 1 fixation amount\", \"Fixations\", M1A, M1B)\n",
    "m1.savefig(\"M1\"+db)\n",
    "m2 = boxplot(\"Model 2 fixation amount\", \"Fixations\", M2A, M2B)\n",
    "m2.savefig(\"M2\"+db)\n",
    "m3 = boxplot(\"Model 3 fixation amount\", \"Fixations\", M3A, M3B)\n",
    "m3.savefig(\"M3\"+db)\n",
    "m4 = boxplot(\"Model 4 fixation amount\", \"Fixations\", M4A, M4B)\n",
    "m4.savefig(\"M4\"+db)"
   ]
  },
  {
   "cell_type": "code",
   "execution_count": 60,
   "metadata": {},
   "outputs": [
    {
     "data": {
      "image/png": "[encoded data removed]",
      "text/plain": [
       "<matplotlib.figure.Figure at 0x4aeffef0>"
      ]
     },
     "metadata": {},
     "output_type": "display_data"
    },
    {
     "data": {
      "image/png": "[encoded data removed]",
      "text/plain": [
       "<matplotlib.figure.Figure at 0x15d31a898>"
      ]
     },
     "metadata": {},
     "output_type": "display_data"
    },
    {
     "data": {
      "image/png": "[encoded data removed]",
      "text/plain": [
       "<matplotlib.figure.Figure at 0x25359d68>"
      ]
     },
     "metadata": {},
     "output_type": "display_data"
    },
    {
     "data": {
      "image/png": "[encoded data removed]",
      "text/plain": [
       "<matplotlib.figure.Figure at 0x1109076a0>"
      ]
     },
     "metadata": {},
     "output_type": "display_data"
    }
   ],
   "source": [
    "measure = \"fixationsPerSecond\"\n",
    "M1A = data[\"M1A-Q01.png\"][measure] + data[\"M1A-Q02.png\"][measure] + data[\"M1A-Q03.png\"][measure] +data[\"M1A-Q04.png\"][measure] +data[\"M1A-Q05.png\"][measure] +data[\"M1A-Q06.png\"][measure]\n",
    "M1B = data[\"M1B-Q01.png\"][measure] + data[\"M1B-Q02.png\"][measure] + data[\"M1B-Q03.png\"][measure] +data[\"M1B-Q04.png\"][measure] +data[\"M1B-Q05.png\"][measure] +data[\"M1B-Q06.png\"][measure]\n",
    "M2A = data[\"M2A-Q07.png\"][measure] + data[\"M2A-Q08.png\"][measure] + data[\"M2A-Q09.png\"][measure] +data[\"M2A-Q10.png\"][measure] +data[\"M2A-Q11.png\"][measure] +data[\"M2A-Q12.png\"][measure]\n",
    "M2B = data[\"M2B-Q07.png\"][measure] + data[\"M2B-Q08.png\"][measure] + data[\"M2B-Q09.png\"][measure] +data[\"M2B-Q10.png\"][measure] +data[\"M2B-Q11.png\"][measure] +data[\"M2B-Q12.png\"][measure]\n",
    "M3A = data[\"M3A-Q13.png\"][measure] + data[\"M3A-Q14.png\"][measure] + data[\"M3A-Q15.png\"][measure] +data[\"M3A-Q16.png\"][measure] +data[\"M3A-Q17.png\"][measure] +data[\"M3A-Q18.png\"][measure]\n",
    "M3B = data[\"M3B-Q13.png\"][measure] + data[\"M3B-Q14.png\"][measure] + data[\"M3B-Q15.png\"][measure] +data[\"M3B-Q16.png\"][measure] +data[\"M3B-Q17.png\"][measure] +data[\"M3B-Q18.png\"][measure]\n",
    "M4A = data[\"M4A-Q19.png\"][measure] + data[\"M4A-Q20.png\"][measure] + data[\"M4A-Q21.png\"][measure] +data[\"M4A-Q22.png\"][measure] +data[\"M4A-Q23.png\"][measure] +data[\"M4A-Q24.png\"][measure]\n",
    "M4B = data[\"M4B-Q19.png\"][measure] + data[\"M4B-Q20.png\"][measure] + data[\"M4B-Q21.png\"][measure] +data[\"M4B-Q22.png\"][measure] +data[\"M4B-Q23.png\"][measure] +data[\"M4B-Q24.png\"][measure]\n",
    "\n",
    "\n",
    "db = \"fixationsPerSecondBoxplot\"    \n",
    "m1 = boxplot(\"Model 1 fixations per second\", \"Fixations (sec)\", M1A, M1B)\n",
    "m1.savefig(\"M1\"+db)\n",
    "m2 = boxplot(\"Model 2 fixations per second\", \"Fixations (sec)\", M2A, M2B)\n",
    "m2.savefig(\"M2\"+db)\n",
    "m3 = boxplot(\"Model 3 fixations per second\", \"Fixations (sec)\", M3A, M3B)\n",
    "m3.savefig(\"M3\"+db)\n",
    "m4 = boxplot(\"Model 4 fixations per second\", \"Fixations (sec)\", M4A, M4B)\n",
    "m4.savefig(\"M4\"+db)"
   ]
  },
  {
   "cell_type": "code",
   "execution_count": 61,
   "metadata": {},
   "outputs": [
    {
     "data": {
      "image/png": "[encoded data removed]",
      "text/plain": [
       "<matplotlib.figure.Figure at 0x16ad1ffd0>"
      ]
     },
     "metadata": {},
     "output_type": "display_data"
    },
    {
     "data": {
      "image/png": "[encoded data removed]",
      "text/plain": [
       "<matplotlib.figure.Figure at 0x646e9b38>"
      ]
     },
     "metadata": {},
     "output_type": "display_data"
    },
    {
     "data": {
      "image/png": "[encoded data removed]",
      "text/plain": [
       "<matplotlib.figure.Figure at 0xe3789ba8>"
      ]
     },
     "metadata": {},
     "output_type": "display_data"
    },
    {
     "data": {
      "image/png": "[encoded data removed]",
      "text/plain": [
       "<matplotlib.figure.Figure at 0xbd81f98>"
      ]
     },
     "metadata": {},
     "output_type": "display_data"
    }
   ],
   "source": [
    "measure = \"amountOfSaccades\"\n",
    "M1A = data[\"M1A-Q01.png\"][measure] + data[\"M1A-Q02.png\"][measure] + data[\"M1A-Q03.png\"][measure] +data[\"M1A-Q04.png\"][measure] +data[\"M1A-Q05.png\"][measure] +data[\"M1A-Q06.png\"][measure]\n",
    "M1B = data[\"M1B-Q01.png\"][measure] + data[\"M1B-Q02.png\"][measure] + data[\"M1B-Q03.png\"][measure] +data[\"M1B-Q04.png\"][measure] +data[\"M1B-Q05.png\"][measure] +data[\"M1B-Q06.png\"][measure]\n",
    "M2A = data[\"M2A-Q07.png\"][measure] + data[\"M2A-Q08.png\"][measure] + data[\"M2A-Q09.png\"][measure] +data[\"M2A-Q10.png\"][measure] +data[\"M2A-Q11.png\"][measure] +data[\"M2A-Q12.png\"][measure]\n",
    "M2B = data[\"M2B-Q07.png\"][measure] + data[\"M2B-Q08.png\"][measure] + data[\"M2B-Q09.png\"][measure] +data[\"M2B-Q10.png\"][measure] +data[\"M2B-Q11.png\"][measure] +data[\"M2B-Q12.png\"][measure]\n",
    "M3A = data[\"M3A-Q13.png\"][measure] + data[\"M3A-Q14.png\"][measure] + data[\"M3A-Q15.png\"][measure] +data[\"M3A-Q16.png\"][measure] +data[\"M3A-Q17.png\"][measure] +data[\"M3A-Q18.png\"][measure]\n",
    "M3B = data[\"M3B-Q13.png\"][measure] + data[\"M3B-Q14.png\"][measure] + data[\"M3B-Q15.png\"][measure] +data[\"M3B-Q16.png\"][measure] +data[\"M3B-Q17.png\"][measure] +data[\"M3B-Q18.png\"][measure]\n",
    "M4A = data[\"M4A-Q19.png\"][measure] + data[\"M4A-Q20.png\"][measure] + data[\"M4A-Q21.png\"][measure] +data[\"M4A-Q22.png\"][measure] +data[\"M4A-Q23.png\"][measure] +data[\"M4A-Q24.png\"][measure]\n",
    "M4B = data[\"M4B-Q19.png\"][measure] + data[\"M4B-Q20.png\"][measure] + data[\"M4B-Q21.png\"][measure] +data[\"M4B-Q22.png\"][measure] +data[\"M4B-Q23.png\"][measure] +data[\"M4B-Q24.png\"][measure]\n",
    "\n",
    "\n",
    "db = \"amountOfSaccadesBoxplot\"    \n",
    "m1 = boxplot(\"Model 1 amount of saccades\", \"Saccades\", M1A, M1B)\n",
    "m1.savefig(\"M1\"+db)\n",
    "m2 = boxplot(\"Model 2 amount of saccades\", \"Saccades\", M2A, M2B)\n",
    "m2.savefig(\"M2\"+db)\n",
    "m3 = boxplot(\"Model 3 amount of saccades\", \"Saccades\", M3A, M3B)\n",
    "m3.savefig(\"M3\"+db)\n",
    "m4 = boxplot(\"Model 4 amount of saccades\", \"Saccades\", M4A, M4B)\n",
    "m4.savefig(\"M4\"+db)"
   ]
  },
  {
   "cell_type": "code",
   "execution_count": 62,
   "metadata": {},
   "outputs": [
    {
     "data": {
      "image/png": "[encoded data removed]",
      "text/plain": [
       "<matplotlib.figure.Figure at 0x83dc7b8>"
      ]
     },
     "metadata": {},
     "output_type": "display_data"
    },
    {
     "data": {
      "image/png": "[encoded data removed]",
      "text/plain": [
       "<matplotlib.figure.Figure at 0x152463e10>"
      ]
     },
     "metadata": {},
     "output_type": "display_data"
    },
    {
     "data": {
      "image/png": "[encoded data removed]",
      "text/plain": [
       "<matplotlib.figure.Figure at 0x96701128>"
      ]
     },
     "metadata": {},
     "output_type": "display_data"
    },
    {
     "data": {
      "image/png": "[encoded data removed]",
      "text/plain": [
       "<matplotlib.figure.Figure at 0x16b1856d8>"
      ]
     },
     "metadata": {},
     "output_type": "display_data"
    }
   ],
   "source": [
    "measure = \"fixationDuration\"\n",
    "M1A = data[\"M1A-Q01.png\"][measure] + data[\"M1A-Q02.png\"][measure] + data[\"M1A-Q03.png\"][measure] +data[\"M1A-Q04.png\"][measure] +data[\"M1A-Q05.png\"][measure] +data[\"M1A-Q06.png\"][measure]\n",
    "M1B = data[\"M1B-Q01.png\"][measure] + data[\"M1B-Q02.png\"][measure] + data[\"M1B-Q03.png\"][measure] +data[\"M1B-Q04.png\"][measure] +data[\"M1B-Q05.png\"][measure] +data[\"M1B-Q06.png\"][measure]\n",
    "M2A = data[\"M2A-Q07.png\"][measure] + data[\"M2A-Q08.png\"][measure] + data[\"M2A-Q09.png\"][measure] +data[\"M2A-Q10.png\"][measure] +data[\"M2A-Q11.png\"][measure] +data[\"M2A-Q12.png\"][measure]\n",
    "M2B = data[\"M2B-Q07.png\"][measure] + data[\"M2B-Q08.png\"][measure] + data[\"M2B-Q09.png\"][measure] +data[\"M2B-Q10.png\"][measure] +data[\"M2B-Q11.png\"][measure] +data[\"M2B-Q12.png\"][measure]\n",
    "M3A = data[\"M3A-Q13.png\"][measure] + data[\"M3A-Q14.png\"][measure] + data[\"M3A-Q15.png\"][measure] +data[\"M3A-Q16.png\"][measure] +data[\"M3A-Q17.png\"][measure] +data[\"M3A-Q18.png\"][measure]\n",
    "M3B = data[\"M3B-Q13.png\"][measure] + data[\"M3B-Q14.png\"][measure] + data[\"M3B-Q15.png\"][measure] +data[\"M3B-Q16.png\"][measure] +data[\"M3B-Q17.png\"][measure] +data[\"M3B-Q18.png\"][measure]\n",
    "M4A = data[\"M4A-Q19.png\"][measure] + data[\"M4A-Q20.png\"][measure] + data[\"M4A-Q21.png\"][measure] +data[\"M4A-Q22.png\"][measure] +data[\"M4A-Q23.png\"][measure] +data[\"M4A-Q24.png\"][measure]\n",
    "M4B = data[\"M4B-Q19.png\"][measure] + data[\"M4B-Q20.png\"][measure] + data[\"M4B-Q21.png\"][measure] +data[\"M4B-Q22.png\"][measure] +data[\"M4B-Q23.png\"][measure] +data[\"M4B-Q24.png\"][measure]\n",
    "\n",
    "\n",
    "db = \"fixationDurationBoxplot\"    \n",
    "m1 = boxplot(\"Model 1 fixation duration\", \"Duration (sec)\", M1A, M1B)\n",
    "m1.savefig(\"M1\"+db)\n",
    "m2 = boxplot(\"Model 2 fixation duration\", \"Duration (sec)\", M2A, M2B)\n",
    "m2.savefig(\"M2\"+db)\n",
    "m3 = boxplot(\"Model 3 fixation duration\", \"Duration (sec)\", M3A, M3B)\n",
    "m3.savefig(\"M3\"+db)\n",
    "m4 = boxplot(\"Model 4 fixation duration\", \"Duration (sec)\", M4A, M4B)\n",
    "m4.savefig(\"M4\"+db)"
   ]
  },
  {
   "cell_type": "code",
   "execution_count": 63,
   "metadata": {},
   "outputs": [
    {
     "data": {
      "image/png": "[encoded data removed]",
      "text/plain": [
       "<matplotlib.figure.Figure at 0x2534be48>"
      ]
     },
     "metadata": {},
     "output_type": "display_data"
    },
    {
     "data": {
      "image/png": "[encoded data removed]",
      "text/plain": [
       "<matplotlib.figure.Figure at 0xc35d9ef0>"
      ]
     },
     "metadata": {},
     "output_type": "display_data"
    },
    {
     "data": {
      "image/png": "[encoded data removed]",
      "text/plain": [
       "<matplotlib.figure.Figure at 0x8454dd68>"
      ]
     },
     "metadata": {},
     "output_type": "display_data"
    },
    {
     "data": {
      "image/png": "[encoded data removed]",
      "text/plain": [
       "<matplotlib.figure.Figure at 0x10e475eb8>"
      ]
     },
     "metadata": {},
     "output_type": "display_data"
    }
   ],
   "source": [
    "measure = \"saccadeVelocityList\"\n",
    "M1A = data[\"M1A-Q01.png\"][measure] + data[\"M1A-Q02.png\"][measure] + data[\"M1A-Q03.png\"][measure] +data[\"M1A-Q04.png\"][measure] +data[\"M1A-Q05.png\"][measure] +data[\"M1A-Q06.png\"][measure]\n",
    "M1B = data[\"M1B-Q01.png\"][measure] + data[\"M1B-Q02.png\"][measure] + data[\"M1B-Q03.png\"][measure] +data[\"M1B-Q04.png\"][measure] +data[\"M1B-Q05.png\"][measure] +data[\"M1B-Q06.png\"][measure]\n",
    "M2A = data[\"M2A-Q07.png\"][measure] + data[\"M2A-Q08.png\"][measure] + data[\"M2A-Q09.png\"][measure] +data[\"M2A-Q10.png\"][measure] +data[\"M2A-Q11.png\"][measure] +data[\"M2A-Q12.png\"][measure]\n",
    "M2B = data[\"M2B-Q07.png\"][measure] + data[\"M2B-Q08.png\"][measure] + data[\"M2B-Q09.png\"][measure] +data[\"M2B-Q10.png\"][measure] +data[\"M2B-Q11.png\"][measure] +data[\"M2B-Q12.png\"][measure]\n",
    "M3A = data[\"M3A-Q13.png\"][measure] + data[\"M3A-Q14.png\"][measure] + data[\"M3A-Q15.png\"][measure] +data[\"M3A-Q16.png\"][measure] +data[\"M3A-Q17.png\"][measure] +data[\"M3A-Q18.png\"][measure]\n",
    "M3B = data[\"M3B-Q13.png\"][measure] + data[\"M3B-Q14.png\"][measure] + data[\"M3B-Q15.png\"][measure] +data[\"M3B-Q16.png\"][measure] +data[\"M3B-Q17.png\"][measure] +data[\"M3B-Q18.png\"][measure]\n",
    "M4A = data[\"M4A-Q19.png\"][measure] + data[\"M4A-Q20.png\"][measure] + data[\"M4A-Q21.png\"][measure] +data[\"M4A-Q22.png\"][measure] +data[\"M4A-Q23.png\"][measure] +data[\"M4A-Q24.png\"][measure]\n",
    "M4B = data[\"M4B-Q19.png\"][measure] + data[\"M4B-Q20.png\"][measure] + data[\"M4B-Q21.png\"][measure] +data[\"M4B-Q22.png\"][measure] +data[\"M4B-Q23.png\"][measure] +data[\"M4B-Q24.png\"][measure]\n",
    "\n",
    "\n",
    "db = \"saccadeVelocityBoxplot\"    \n",
    "m1 = boxplot(\"Model 1 saccade velocity\", \"Velocity\", M1A, M1B)\n",
    "m1.savefig(\"M1\"+db)\n",
    "m2 = boxplot(\"Model 2 saccade velocity\", \"Velocity\", M2A, M2B)\n",
    "m2.savefig(\"M2\"+db)\n",
    "m3 = boxplot(\"Model 3 saccade velocity\", \"Velocity\", M3A, M3B)\n",
    "m3.savefig(\"M3\"+db)\n",
    "m4 = boxplot(\"Model 4 saccade velocity\", \"Velocity\", M4A, M4B)\n",
    "m4.savefig(\"M4\"+db)"
   ]
  },
  {
   "cell_type": "code",
   "execution_count": 64,
   "metadata": {},
   "outputs": [
    {
     "data": {
      "image/png": "[encoded data removed]",
      "text/plain": [
       "<matplotlib.figure.Figure at 0x25323c18>"
      ]
     },
     "metadata": {},
     "output_type": "display_data"
    },
    {
     "data": {
      "image/png": "[encoded data removed]",
      "text/plain": [
       "<matplotlib.figure.Figure at 0x14dc4cc18>"
      ]
     },
     "metadata": {},
     "output_type": "display_data"
    },
    {
     "data": {
      "image/png": "[encoded data removed]",
      "text/plain": [
       "<matplotlib.figure.Figure at 0x12ae52320>"
      ]
     },
     "metadata": {},
     "output_type": "display_data"
    },
    {
     "data": {
      "image/png": "[encoded data removed]",
      "text/plain": [
       "<matplotlib.figure.Figure at 0x1613e390>"
      ]
     },
     "metadata": {},
     "output_type": "display_data"
    }
   ],
   "source": [
    "measure = \"pupilDilationLeftList\"\n",
    "M1A = data[\"M1A-Q01.png\"][measure] + data[\"M1A-Q02.png\"][measure] + data[\"M1A-Q03.png\"][measure] +data[\"M1A-Q04.png\"][measure] +data[\"M1A-Q05.png\"][measure] +data[\"M1A-Q06.png\"][measure]\n",
    "M1B = data[\"M1B-Q01.png\"][measure] + data[\"M1B-Q02.png\"][measure] + data[\"M1B-Q03.png\"][measure] +data[\"M1B-Q04.png\"][measure] +data[\"M1B-Q05.png\"][measure] +data[\"M1B-Q06.png\"][measure]\n",
    "M2A = data[\"M2A-Q07.png\"][measure] + data[\"M2A-Q08.png\"][measure] + data[\"M2A-Q09.png\"][measure] +data[\"M2A-Q10.png\"][measure] +data[\"M2A-Q11.png\"][measure] +data[\"M2A-Q12.png\"][measure]\n",
    "M2B = data[\"M2B-Q07.png\"][measure] + data[\"M2B-Q08.png\"][measure] + data[\"M2B-Q09.png\"][measure] +data[\"M2B-Q10.png\"][measure] +data[\"M2B-Q11.png\"][measure] +data[\"M2B-Q12.png\"][measure]\n",
    "M3A = data[\"M3A-Q13.png\"][measure] + data[\"M3A-Q14.png\"][measure] + data[\"M3A-Q15.png\"][measure] +data[\"M3A-Q16.png\"][measure] +data[\"M3A-Q17.png\"][measure] +data[\"M3A-Q18.png\"][measure]\n",
    "M3B = data[\"M3B-Q13.png\"][measure] + data[\"M3B-Q14.png\"][measure] + data[\"M3B-Q15.png\"][measure] +data[\"M3B-Q16.png\"][measure] +data[\"M3B-Q17.png\"][measure] +data[\"M3B-Q18.png\"][measure]\n",
    "M4A = data[\"M4A-Q19.png\"][measure] + data[\"M4A-Q20.png\"][measure] + data[\"M4A-Q21.png\"][measure] +data[\"M4A-Q22.png\"][measure] +data[\"M4A-Q23.png\"][measure] +data[\"M4A-Q24.png\"][measure]\n",
    "M4B = data[\"M4B-Q19.png\"][measure] + data[\"M4B-Q20.png\"][measure] + data[\"M4B-Q21.png\"][measure] +data[\"M4B-Q22.png\"][measure] +data[\"M4B-Q23.png\"][measure] +data[\"M4B-Q24.png\"][measure]\n",
    "\n",
    "\n",
    "db = \"pupilDilationLeftListBoxplot\"    \n",
    "m1 = boxplot(\"Model 1 pupil dilation (left eye)\", \"Dilation (std)\", M1A, M1B)\n",
    "m1.savefig(\"M1\"+db)\n",
    "m2 = boxplot(\"Model 2 pupil dilation (left eye)\", \"Dilation (std)\", M2A, M2B)\n",
    "m2.savefig(\"M2\"+db)\n",
    "m3 = boxplot(\"Model 3 pupil dilation (left eye)\", \"Dilation (std)\", M3A, M3B)\n",
    "m3.savefig(\"M3\"+db)\n",
    "m4 = boxplot(\"Model 4 pupil dilation (left eye)\", \"Dilation (std)\", M4A, M4B)\n",
    "m4.savefig(\"M4\"+db)"
   ]
  },
  {
   "cell_type": "code",
   "execution_count": 65,
   "metadata": {},
   "outputs": [
    {
     "data": {
      "image/png": "[encoded data removed]",
      "text/plain": [
       "<matplotlib.figure.Figure at 0x1611df60>"
      ]
     },
     "metadata": {},
     "output_type": "display_data"
    },
    {
     "data": {
      "image/png": "[encoded data removed]",
      "text/plain": [
       "<matplotlib.figure.Figure at 0x90195278>"
      ]
     },
     "metadata": {},
     "output_type": "display_data"
    },
    {
     "data": {
      "image/png": "[encoded data removed]",
      "text/plain": [
       "<matplotlib.figure.Figure at 0x2006fd68>"
      ]
     },
     "metadata": {},
     "output_type": "display_data"
    },
    {
     "data": {
      "image/png": "[encoded data removed]",
      "text/plain": [
       "<matplotlib.figure.Figure at 0xbd89e48>"
      ]
     },
     "metadata": {},
     "output_type": "display_data"
    }
   ],
   "source": [
    "measure = \"pupilDilationRightList\"\n",
    "M1A = data[\"M1A-Q01.png\"][measure] + data[\"M1A-Q02.png\"][measure] + data[\"M1A-Q03.png\"][measure] +data[\"M1A-Q04.png\"][measure] +data[\"M1A-Q05.png\"][measure] +data[\"M1A-Q06.png\"][measure]\n",
    "M1B = data[\"M1B-Q01.png\"][measure] + data[\"M1B-Q02.png\"][measure] + data[\"M1B-Q03.png\"][measure] +data[\"M1B-Q04.png\"][measure] +data[\"M1B-Q05.png\"][measure] +data[\"M1B-Q06.png\"][measure]\n",
    "M2A = data[\"M2A-Q07.png\"][measure] + data[\"M2A-Q08.png\"][measure] + data[\"M2A-Q09.png\"][measure] +data[\"M2A-Q10.png\"][measure] +data[\"M2A-Q11.png\"][measure] +data[\"M2A-Q12.png\"][measure]\n",
    "M2B = data[\"M2B-Q07.png\"][measure] + data[\"M2B-Q08.png\"][measure] + data[\"M2B-Q09.png\"][measure] +data[\"M2B-Q10.png\"][measure] +data[\"M2B-Q11.png\"][measure] +data[\"M2B-Q12.png\"][measure]\n",
    "M3A = data[\"M3A-Q13.png\"][measure] + data[\"M3A-Q14.png\"][measure] + data[\"M3A-Q15.png\"][measure] +data[\"M3A-Q16.png\"][measure] +data[\"M3A-Q17.png\"][measure] +data[\"M3A-Q18.png\"][measure]\n",
    "M3B = data[\"M3B-Q13.png\"][measure] + data[\"M3B-Q14.png\"][measure] + data[\"M3B-Q15.png\"][measure] +data[\"M3B-Q16.png\"][measure] +data[\"M3B-Q17.png\"][measure] +data[\"M3B-Q18.png\"][measure]\n",
    "M4A = data[\"M4A-Q19.png\"][measure] + data[\"M4A-Q20.png\"][measure] + data[\"M4A-Q21.png\"][measure] +data[\"M4A-Q22.png\"][measure] +data[\"M4A-Q23.png\"][measure] +data[\"M4A-Q24.png\"][measure]\n",
    "M4B = data[\"M4B-Q19.png\"][measure] + data[\"M4B-Q20.png\"][measure] + data[\"M4B-Q21.png\"][measure] +data[\"M4B-Q22.png\"][measure] +data[\"M4B-Q23.png\"][measure] +data[\"M4B-Q24.png\"][measure]\n",
    "\n",
    "\n",
    "db = \"pupilDilationRightListBoxplot\"    \n",
    "m1 = boxplot(\"Model 1 pupil dilation (right eye)\", \"Dilation (std)\", M1A, M1B)\n",
    "m1.savefig(\"M1\"+db)\n",
    "m2 = boxplot(\"Model 2 pupil dilation (right eye)\", \"Dilation (std)\", M2A, M2B)\n",
    "m2.savefig(\"M2\"+db)\n",
    "m3 = boxplot(\"Model 3 pupil dilation (right eye)\", \"Dilation (std)\", M3A, M3B)\n",
    "m3.savefig(\"M3\"+db)\n",
    "m4 = boxplot(\"Model 4 pupil dilation (right eye)\", \"Dilation (std)\", M4A, M4B)\n",
    "m4.savefig(\"M4\"+db)"
   ]
  },
  {
   "cell_type": "code",
   "execution_count": 66,
   "metadata": {},
   "outputs": [
    {
     "data": {
      "image/png": "[encoded data removed]",
      "text/plain": [
       "<matplotlib.figure.Figure at 0xc8523fd0>"
      ]
     },
     "metadata": {},
     "output_type": "display_data"
    },
    {
     "data": {
      "image/png": "[encoded data removed]",
      "text/plain": [
       "<matplotlib.figure.Figure at 0x5efc0400>"
      ]
     },
     "metadata": {},
     "output_type": "display_data"
    },
    {
     "data": {
      "image/png": "[encoded data removed]",
      "text/plain": [
       "<matplotlib.figure.Figure at 0x974bd748>"
      ]
     },
     "metadata": {},
     "output_type": "display_data"
    },
    {
     "data": {
      "image/png": "[encoded data removed]",
      "text/plain": [
       "<matplotlib.figure.Figure at 0x165024a8>"
      ]
     },
     "metadata": {},
     "output_type": "display_data"
    }
   ],
   "source": [
    "measure = \"pupilDilationMean\"\n",
    "M1A = data[\"M1A-Q01.png\"][measure] + data[\"M1A-Q02.png\"][measure] + data[\"M1A-Q03.png\"][measure] +data[\"M1A-Q04.png\"][measure] +data[\"M1A-Q05.png\"][measure] +data[\"M1A-Q06.png\"][measure]\n",
    "M1B = data[\"M1B-Q01.png\"][measure] + data[\"M1B-Q02.png\"][measure] + data[\"M1B-Q03.png\"][measure] +data[\"M1B-Q04.png\"][measure] +data[\"M1B-Q05.png\"][measure] +data[\"M1B-Q06.png\"][measure]\n",
    "M2A = data[\"M2A-Q07.png\"][measure] + data[\"M2A-Q08.png\"][measure] + data[\"M2A-Q09.png\"][measure] +data[\"M2A-Q10.png\"][measure] +data[\"M2A-Q11.png\"][measure] +data[\"M2A-Q12.png\"][measure]\n",
    "M2B = data[\"M2B-Q07.png\"][measure] + data[\"M2B-Q08.png\"][measure] + data[\"M2B-Q09.png\"][measure] +data[\"M2B-Q10.png\"][measure] +data[\"M2B-Q11.png\"][measure] +data[\"M2B-Q12.png\"][measure]\n",
    "M3A = data[\"M3A-Q13.png\"][measure] + data[\"M3A-Q14.png\"][measure] + data[\"M3A-Q15.png\"][measure] +data[\"M3A-Q16.png\"][measure] +data[\"M3A-Q17.png\"][measure] +data[\"M3A-Q18.png\"][measure]\n",
    "M3B = data[\"M3B-Q13.png\"][measure] + data[\"M3B-Q14.png\"][measure] + data[\"M3B-Q15.png\"][measure] +data[\"M3B-Q16.png\"][measure] +data[\"M3B-Q17.png\"][measure] +data[\"M3B-Q18.png\"][measure]\n",
    "M4A = data[\"M4A-Q19.png\"][measure] + data[\"M4A-Q20.png\"][measure] + data[\"M4A-Q21.png\"][measure] +data[\"M4A-Q22.png\"][measure] +data[\"M4A-Q23.png\"][measure] +data[\"M4A-Q24.png\"][measure]\n",
    "M4B = data[\"M4B-Q19.png\"][measure] + data[\"M4B-Q20.png\"][measure] + data[\"M4B-Q21.png\"][measure] +data[\"M4B-Q22.png\"][measure] +data[\"M4B-Q23.png\"][measure] +data[\"M4B-Q24.png\"][measure]\n",
    "\n",
    "\n",
    "db = \"pupilDilationMeanBoxplot\"    \n",
    "m1 = boxplot(\"Model 1 pupil dilation\", \"Dilation (std)\", M1A, M1B)\n",
    "m1.savefig(\"M1\"+db)\n",
    "m2 = boxplot(\"Model 2 pupil dilation\", \"Dilation (std)\", M2A, M2B)\n",
    "m2.savefig(\"M2\"+db)\n",
    "m3 = boxplot(\"Model 3 pupil dilation\", \"Dilation (std)\", M3A, M3B)\n",
    "m3.savefig(\"M3\"+db)\n",
    "m4 = boxplot(\"Model 4 pupil dilation\", \"Dilation (std)\", M4A, M4B)\n",
    "m4.savefig(\"M4\"+db)"
   ]
  },
  {
   "cell_type": "code",
   "execution_count": 67,
   "metadata": {},
   "outputs": [
    {
     "data": {
      "image/png": "[encoded data removed]",
      "text/plain": [
       "<matplotlib.figure.Figure at 0x1108f74e0>"
      ]
     },
     "metadata": {},
     "output_type": "display_data"
    },
    {
     "data": {
      "image/png": "[encoded data removed]",
      "text/plain": [
       "<matplotlib.figure.Figure at 0xada707f0>"
      ]
     },
     "metadata": {},
     "output_type": "display_data"
    },
    {
     "data": {
      "image/png": "[encoded data removed]",
      "text/plain": [
       "<matplotlib.figure.Figure at 0x4fb6ab70>"
      ]
     },
     "metadata": {},
     "output_type": "display_data"
    },
    {
     "data": {
      "image/png": "[encoded data removed]",
      "text/plain": [
       "<matplotlib.figure.Figure at 0xa7aa4f60>"
      ]
     },
     "metadata": {},
     "output_type": "display_data"
    }
   ],
   "source": [
    "measure = \"pupilDilationDiff\"\n",
    "M1A = data[\"M1A-Q01.png\"][measure] + data[\"M1A-Q02.png\"][measure] + data[\"M1A-Q03.png\"][measure] +data[\"M1A-Q04.png\"][measure] +data[\"M1A-Q05.png\"][measure] +data[\"M1A-Q06.png\"][measure]\n",
    "M1B = data[\"M1B-Q01.png\"][measure] + data[\"M1B-Q02.png\"][measure] + data[\"M1B-Q03.png\"][measure] +data[\"M1B-Q04.png\"][measure] +data[\"M1B-Q05.png\"][measure] +data[\"M1B-Q06.png\"][measure]\n",
    "M2A = data[\"M2A-Q07.png\"][measure] + data[\"M2A-Q08.png\"][measure] + data[\"M2A-Q09.png\"][measure] +data[\"M2A-Q10.png\"][measure] +data[\"M2A-Q11.png\"][measure] +data[\"M2A-Q12.png\"][measure]\n",
    "M2B = data[\"M2B-Q07.png\"][measure] + data[\"M2B-Q08.png\"][measure] + data[\"M2B-Q09.png\"][measure] +data[\"M2B-Q10.png\"][measure] +data[\"M2B-Q11.png\"][measure] +data[\"M2B-Q12.png\"][measure]\n",
    "M3A = data[\"M3A-Q13.png\"][measure] + data[\"M3A-Q14.png\"][measure] + data[\"M3A-Q15.png\"][measure] +data[\"M3A-Q16.png\"][measure] +data[\"M3A-Q17.png\"][measure] +data[\"M3A-Q18.png\"][measure]\n",
    "M3B = data[\"M3B-Q13.png\"][measure] + data[\"M3B-Q14.png\"][measure] + data[\"M3B-Q15.png\"][measure] +data[\"M3B-Q16.png\"][measure] +data[\"M3B-Q17.png\"][measure] +data[\"M3B-Q18.png\"][measure]\n",
    "M4A = data[\"M4A-Q19.png\"][measure] + data[\"M4A-Q20.png\"][measure] + data[\"M4A-Q21.png\"][measure] +data[\"M4A-Q22.png\"][measure] +data[\"M4A-Q23.png\"][measure] +data[\"M4A-Q24.png\"][measure]\n",
    "M4B = data[\"M4B-Q19.png\"][measure] + data[\"M4B-Q20.png\"][measure] + data[\"M4B-Q21.png\"][measure] +data[\"M4B-Q22.png\"][measure] +data[\"M4B-Q23.png\"][measure] +data[\"M4B-Q24.png\"][measure]\n",
    "\n",
    "\n",
    "db = \"pupilDilationDiffBoxplot\"    \n",
    "m1 = boxplot(\"Model 1 pupil dilation\", \"Dilation difference\", M1A, M1B)\n",
    "m1.savefig(\"M1\"+db)\n",
    "m2 = boxplot(\"Model 2 pupil dilation\", \"Dilation difference\", M2A, M2B)\n",
    "m2.savefig(\"M2\"+db)\n",
    "m3 = boxplot(\"Model 3 pupil dilation\", \"Dilation difference\", M3A, M3B)\n",
    "m3.savefig(\"M3\"+db)\n",
    "m4 = boxplot(\"Model 4 pupil dilation\", \"Dilation difference\", M4A, M4B)\n",
    "m4.savefig(\"M4\"+db)"
   ]
  },
  {
   "cell_type": "code",
   "execution_count": 68,
   "metadata": {},
   "outputs": [
    {
     "name": "stdout",
     "output_type": "stream",
     "text": [
      "78\n",
      "fixationsPerSecond\t|Mean\t\t|Variance\t|Standard diviation\n",
      "Messy direction \t|3.45699826732\t|0.172253985791\t|0.415034921171\t1.94463259554\t5.0202948088\n",
      "Non messy direction \t|3.53261485975\t|0.181061376069\t|0.425513073911\t2.51148719998\t4.42791356713\n",
      "Messy visibility \t|3.29366997219\t|0.166489083489\t|0.408030738412\t1.8936275317\t4.21966731898\n",
      "Non messy visibility \t|3.44421753067\t|0.217658173741\t|0.466538501885\t1.75262894342\t4.59286192709\n"
     ]
    }
   ],
   "source": [
    "measure = \"fixationsPerSecond\"\n",
    "M1A = data[\"M1A-Q01.png\"][measure] + data[\"M1A-Q02.png\"][measure] + data[\"M1A-Q03.png\"][measure] +data[\"M1A-Q04.png\"][measure] +data[\"M1A-Q05.png\"][measure] +data[\"M1A-Q06.png\"][measure]\n",
    "M1B = data[\"M1B-Q01.png\"][measure] + data[\"M1B-Q02.png\"][measure] + data[\"M1B-Q03.png\"][measure] +data[\"M1B-Q04.png\"][measure] +data[\"M1B-Q05.png\"][measure] +data[\"M1B-Q06.png\"][measure]\n",
    "M2A = data[\"M2A-Q07.png\"][measure] + data[\"M2A-Q08.png\"][measure] + data[\"M2A-Q09.png\"][measure] +data[\"M2A-Q10.png\"][measure] +data[\"M2A-Q11.png\"][measure] +data[\"M2A-Q12.png\"][measure]\n",
    "M2B = data[\"M2B-Q07.png\"][measure] + data[\"M2B-Q08.png\"][measure] + data[\"M2B-Q09.png\"][measure] +data[\"M2B-Q10.png\"][measure] +data[\"M2B-Q11.png\"][measure] +data[\"M2B-Q12.png\"][measure]\n",
    "M3A = data[\"M3A-Q13.png\"][measure] + data[\"M3A-Q14.png\"][measure] + data[\"M3A-Q15.png\"][measure] +data[\"M3A-Q16.png\"][measure] +data[\"M3A-Q17.png\"][measure] +data[\"M3A-Q18.png\"][measure]\n",
    "M3B = data[\"M3B-Q13.png\"][measure] + data[\"M3B-Q14.png\"][measure] + data[\"M3B-Q15.png\"][measure] +data[\"M3B-Q16.png\"][measure] +data[\"M3B-Q17.png\"][measure] +data[\"M3B-Q18.png\"][measure]\n",
    "M4A = data[\"M4A-Q19.png\"][measure] + data[\"M4A-Q20.png\"][measure] + data[\"M4A-Q21.png\"][measure] +data[\"M4A-Q22.png\"][measure] +data[\"M4A-Q23.png\"][measure] +data[\"M4A-Q24.png\"][measure]\n",
    "M4B = data[\"M4B-Q19.png\"][measure] + data[\"M4B-Q20.png\"][measure] + data[\"M4B-Q21.png\"][measure] +data[\"M4B-Q22.png\"][measure] +data[\"M4B-Q23.png\"][measure] +data[\"M4B-Q24.png\"][measure]\n",
    "\n",
    "messyDirection = M1B + M3A\n",
    "nonMessyDirection = M1A + M3B\n",
    "messyVisibility = M2A + M4B\n",
    "nonMessyVisibility = M2B + M4A\n",
    "\n",
    "print len(messyDirection)\n",
    "print measure + \"\\t|Mean\\t\\t|Variance\\t|Standard diviation\"\n",
    "print \"Messy direction \\t|\" + str(np.mean(messyDirection)) + \"\\t|\" + str(np.var(messyDirection)) + \"\\t|\" + str(np.std(messyDirection)) + \"\\t\" + str(min(messyDirection)) + \"\\t\" + str(max(messyDirection))\n",
    "print \"Non messy direction \\t|\" + str(np.mean(nonMessyDirection)) + \"\\t|\" + str(np.var(nonMessyDirection)) + \"\\t|\" + str(np.std(nonMessyDirection)) + \"\\t\" + str(min(nonMessyDirection)) + \"\\t\" + str(max(nonMessyDirection))\n",
    "print \"Messy visibility \\t|\" + str(np.mean(messyVisibility)) + \"\\t|\" + str(np.var(messyVisibility)) + \"\\t|\" + str(np.std(messyVisibility)) + \"\\t\" + str(min(messyVisibility)) + \"\\t\" + str(max(messyVisibility))\n",
    "print \"Non messy visibility \\t|\" + str(np.mean(nonMessyVisibility)) + \"\\t|\" + str(np.var(nonMessyVisibility)) + \"\\t|\" + str(np.std(nonMessyVisibility)) + \"\\t\" + str(min(nonMessyVisibility)) + \"\\t\" + str(max(nonMessyVisibility))"
   ]
  },
  {
   "cell_type": "code",
   "execution_count": 69,
   "metadata": {},
   "outputs": [
    {
     "name": "stdout",
     "output_type": "stream",
     "text": [
      "78\n",
      "fixationDuration\t|Mean\t\t|Variance\t|Standard diviation\n",
      "Messy direction \t|0.23052422907\t|0.00096860133686\t|0.0311223607212\t0.149520833333\t0.293\n",
      "Non messy direction \t|0.223091764728\t|0.00098653576443\t|0.0314091668853\t0.166638297872\t0.300745098039\n",
      "Messy visibility \t|0.241842860951\t|0.00139187227824\t|0.0373078045219\t0.169347826087\t0.35656122449\n",
      "Non messy visibility \t|0.233450438009\t|0.00137354569833\t|0.0370613774478\t0.130833333333\t0.309149253731\n"
     ]
    }
   ],
   "source": [
    "measure = \"fixationDuration\"\n",
    "M1A = data[\"M1A-Q01.png\"][measure] + data[\"M1A-Q02.png\"][measure] + data[\"M1A-Q03.png\"][measure] +data[\"M1A-Q04.png\"][measure] +data[\"M1A-Q05.png\"][measure] +data[\"M1A-Q06.png\"][measure]\n",
    "M1B = data[\"M1B-Q01.png\"][measure] + data[\"M1B-Q02.png\"][measure] + data[\"M1B-Q03.png\"][measure] +data[\"M1B-Q04.png\"][measure] +data[\"M1B-Q05.png\"][measure] +data[\"M1B-Q06.png\"][measure]\n",
    "M2A = data[\"M2A-Q07.png\"][measure] + data[\"M2A-Q08.png\"][measure] + data[\"M2A-Q09.png\"][measure] +data[\"M2A-Q10.png\"][measure] +data[\"M2A-Q11.png\"][measure] +data[\"M2A-Q12.png\"][measure]\n",
    "M2B = data[\"M2B-Q07.png\"][measure] + data[\"M2B-Q08.png\"][measure] + data[\"M2B-Q09.png\"][measure] +data[\"M2B-Q10.png\"][measure] +data[\"M2B-Q11.png\"][measure] +data[\"M2B-Q12.png\"][measure]\n",
    "M3A = data[\"M3A-Q13.png\"][measure] + data[\"M3A-Q14.png\"][measure] + data[\"M3A-Q15.png\"][measure] +data[\"M3A-Q16.png\"][measure] +data[\"M3A-Q17.png\"][measure] +data[\"M3A-Q18.png\"][measure]\n",
    "M3B = data[\"M3B-Q13.png\"][measure] + data[\"M3B-Q14.png\"][measure] + data[\"M3B-Q15.png\"][measure] +data[\"M3B-Q16.png\"][measure] +data[\"M3B-Q17.png\"][measure] +data[\"M3B-Q18.png\"][measure]\n",
    "M4A = data[\"M4A-Q19.png\"][measure] + data[\"M4A-Q20.png\"][measure] + data[\"M4A-Q21.png\"][measure] +data[\"M4A-Q22.png\"][measure] +data[\"M4A-Q23.png\"][measure] +data[\"M4A-Q24.png\"][measure]\n",
    "M4B = data[\"M4B-Q19.png\"][measure] + data[\"M4B-Q20.png\"][measure] + data[\"M4B-Q21.png\"][measure] +data[\"M4B-Q22.png\"][measure] +data[\"M4B-Q23.png\"][measure] +data[\"M4B-Q24.png\"][measure]\n",
    "\n",
    "messyDirection = M1B + M3A\n",
    "nonMessyDirection = M1A + M3B\n",
    "messyVisibility = M2A + M4B\n",
    "nonMessyVisibility = M2B + M4A\n",
    "\n",
    "print len(messyDirection)\n",
    "print measure + \"\\t|Mean\\t\\t|Variance\\t|Standard diviation\"\n",
    "print \"Messy direction \\t|\" + str(np.mean(messyDirection)) + \"\\t|\" + str(np.var(messyDirection)) + \"\\t|\" + str(np.std(messyDirection)) + \"\\t\" + str(min(messyDirection)) + \"\\t\" + str(max(messyDirection))\n",
    "print \"Non messy direction \\t|\" + str(np.mean(nonMessyDirection)) + \"\\t|\" + str(np.var(nonMessyDirection)) + \"\\t|\" + str(np.std(nonMessyDirection)) + \"\\t\" + str(min(nonMessyDirection)) + \"\\t\" + str(max(nonMessyDirection))\n",
    "print \"Messy visibility \\t|\" + str(np.mean(messyVisibility)) + \"\\t|\" + str(np.var(messyVisibility)) + \"\\t|\" + str(np.std(messyVisibility)) + \"\\t\" + str(min(messyVisibility)) + \"\\t\" + str(max(messyVisibility))\n",
    "print \"Non messy visibility \\t|\" + str(np.mean(nonMessyVisibility)) + \"\\t|\" + str(np.var(nonMessyVisibility)) + \"\\t|\" + str(np.std(nonMessyVisibility)) + \"\\t\" + str(min(nonMessyVisibility)) + \"\\t\" + str(max(nonMessyVisibility))"
   ]
  },
  {
   "cell_type": "code",
   "execution_count": 70,
   "metadata": {},
   "outputs": [
    {
     "name": "stdout",
     "output_type": "stream",
     "text": [
      "78\n",
      "saccadeVelocityList\t|Mean\t\t|Variance\t|Standard diviation\n",
      "Messy direction \t|4.62813466957\t|1.25761182354\t|1.12143293314\t2.56\t7.89471698113\n",
      "Non messy direction \t|4.86215144808\t|1.27918149276\t|1.13100905954\t2.98181818182\t7.47135135135\n",
      "Messy visibility \t|3.79540915362\t|0.705986190379\t|0.84022984378\t2.28357142857\t5.97259259259\n",
      "Non messy visibility \t|4.14350663887\t|1.18410020009\t|1.08816368258\t2.26119402985\t7.85952380952\n"
     ]
    }
   ],
   "source": [
    "measure = \"saccadeVelocityList\"\n",
    "M1A = data[\"M1A-Q01.png\"][measure] + data[\"M1A-Q02.png\"][measure] + data[\"M1A-Q03.png\"][measure] +data[\"M1A-Q04.png\"][measure] +data[\"M1A-Q05.png\"][measure] +data[\"M1A-Q06.png\"][measure]\n",
    "M1B = data[\"M1B-Q01.png\"][measure] + data[\"M1B-Q02.png\"][measure] + data[\"M1B-Q03.png\"][measure] +data[\"M1B-Q04.png\"][measure] +data[\"M1B-Q05.png\"][measure] +data[\"M1B-Q06.png\"][measure]\n",
    "M2A = data[\"M2A-Q07.png\"][measure] + data[\"M2A-Q08.png\"][measure] + data[\"M2A-Q09.png\"][measure] +data[\"M2A-Q10.png\"][measure] +data[\"M2A-Q11.png\"][measure] +data[\"M2A-Q12.png\"][measure]\n",
    "M2B = data[\"M2B-Q07.png\"][measure] + data[\"M2B-Q08.png\"][measure] + data[\"M2B-Q09.png\"][measure] +data[\"M2B-Q10.png\"][measure] +data[\"M2B-Q11.png\"][measure] +data[\"M2B-Q12.png\"][measure]\n",
    "M3A = data[\"M3A-Q13.png\"][measure] + data[\"M3A-Q14.png\"][measure] + data[\"M3A-Q15.png\"][measure] +data[\"M3A-Q16.png\"][measure] +data[\"M3A-Q17.png\"][measure] +data[\"M3A-Q18.png\"][measure]\n",
    "M3B = data[\"M3B-Q13.png\"][measure] + data[\"M3B-Q14.png\"][measure] + data[\"M3B-Q15.png\"][measure] +data[\"M3B-Q16.png\"][measure] +data[\"M3B-Q17.png\"][measure] +data[\"M3B-Q18.png\"][measure]\n",
    "M4A = data[\"M4A-Q19.png\"][measure] + data[\"M4A-Q20.png\"][measure] + data[\"M4A-Q21.png\"][measure] +data[\"M4A-Q22.png\"][measure] +data[\"M4A-Q23.png\"][measure] +data[\"M4A-Q24.png\"][measure]\n",
    "M4B = data[\"M4B-Q19.png\"][measure] + data[\"M4B-Q20.png\"][measure] + data[\"M4B-Q21.png\"][measure] +data[\"M4B-Q22.png\"][measure] +data[\"M4B-Q23.png\"][measure] +data[\"M4B-Q24.png\"][measure]\n",
    "\n",
    "messyDirection = M1B + M3A\n",
    "nonMessyDirection = M1A + M3B\n",
    "messyVisibility = M2A + M4B\n",
    "nonMessyVisibility = M2B + M4A\n",
    "print len(messyDirection)\n",
    "print measure + \"\\t|Mean\\t\\t|Variance\\t|Standard diviation\"\n",
    "print \"Messy direction \\t|\" + str(np.mean(messyDirection)) + \"\\t|\" + str(np.var(messyDirection)) + \"\\t|\" + str(np.std(messyDirection)) + \"\\t\" + str(min(messyDirection)) + \"\\t\" + str(max(messyDirection))\n",
    "print \"Non messy direction \\t|\" + str(np.mean(nonMessyDirection)) + \"\\t|\" + str(np.var(nonMessyDirection)) + \"\\t|\" + str(np.std(nonMessyDirection)) + \"\\t\" + str(min(nonMessyDirection)) + \"\\t\" + str(max(nonMessyDirection))\n",
    "print \"Messy visibility \\t|\" + str(np.mean(messyVisibility)) + \"\\t|\" + str(np.var(messyVisibility)) + \"\\t|\" + str(np.std(messyVisibility)) + \"\\t\" + str(min(messyVisibility)) + \"\\t\" + str(max(messyVisibility))\n",
    "print \"Non messy visibility \\t|\" + str(np.mean(nonMessyVisibility)) + \"\\t|\" + str(np.var(nonMessyVisibility)) + \"\\t|\" + str(np.std(nonMessyVisibility)) + \"\\t\" + str(min(nonMessyVisibility)) + \"\\t\" + str(max(nonMessyVisibility))"
   ]
  },
  {
   "cell_type": "code",
   "execution_count": 71,
   "metadata": {},
   "outputs": [
    {
     "name": "stdout",
     "output_type": "stream",
     "text": [
      "78\n",
      "amountOfFixations\t|Mean\t\t|Variance\t|Standard diviation\n",
      "Messy direction \t|100.384615385\t|2537.41617357\t|50.372772145\t25\t240\n",
      "Non messy direction \t|88.9743589744\t|2167.28139382\t|46.5540695731\t19\t221\n",
      "Messy visibility \t|85.3076923077\t|1585.34122288\t|39.8163436654\t23\t270\n",
      "Non messy visibility \t|74.0512820513\t|1960.48454964\t|44.2773593345\t20\t243\n"
     ]
    }
   ],
   "source": [
    "measure = \"amountOfFixations\"\n",
    "M1A = data[\"M1A-Q01.png\"][measure] + data[\"M1A-Q02.png\"][measure] + data[\"M1A-Q03.png\"][measure] +data[\"M1A-Q04.png\"][measure] +data[\"M1A-Q05.png\"][measure] +data[\"M1A-Q06.png\"][measure]\n",
    "M1B = data[\"M1B-Q01.png\"][measure] + data[\"M1B-Q02.png\"][measure] + data[\"M1B-Q03.png\"][measure] +data[\"M1B-Q04.png\"][measure] +data[\"M1B-Q05.png\"][measure] +data[\"M1B-Q06.png\"][measure]\n",
    "M2A = data[\"M2A-Q07.png\"][measure] + data[\"M2A-Q08.png\"][measure] + data[\"M2A-Q09.png\"][measure] +data[\"M2A-Q10.png\"][measure] +data[\"M2A-Q11.png\"][measure] +data[\"M2A-Q12.png\"][measure]\n",
    "M2B = data[\"M2B-Q07.png\"][measure] + data[\"M2B-Q08.png\"][measure] + data[\"M2B-Q09.png\"][measure] +data[\"M2B-Q10.png\"][measure] +data[\"M2B-Q11.png\"][measure] +data[\"M2B-Q12.png\"][measure]\n",
    "M3A = data[\"M3A-Q13.png\"][measure] + data[\"M3A-Q14.png\"][measure] + data[\"M3A-Q15.png\"][measure] +data[\"M3A-Q16.png\"][measure] +data[\"M3A-Q17.png\"][measure] +data[\"M3A-Q18.png\"][measure]\n",
    "M3B = data[\"M3B-Q13.png\"][measure] + data[\"M3B-Q14.png\"][measure] + data[\"M3B-Q15.png\"][measure] +data[\"M3B-Q16.png\"][measure] +data[\"M3B-Q17.png\"][measure] +data[\"M3B-Q18.png\"][measure]\n",
    "M4A = data[\"M4A-Q19.png\"][measure] + data[\"M4A-Q20.png\"][measure] + data[\"M4A-Q21.png\"][measure] +data[\"M4A-Q22.png\"][measure] +data[\"M4A-Q23.png\"][measure] +data[\"M4A-Q24.png\"][measure]\n",
    "M4B = data[\"M4B-Q19.png\"][measure] + data[\"M4B-Q20.png\"][measure] + data[\"M4B-Q21.png\"][measure] +data[\"M4B-Q22.png\"][measure] +data[\"M4B-Q23.png\"][measure] +data[\"M4B-Q24.png\"][measure]\n",
    "\n",
    "messyDirection = M1B + M3A\n",
    "nonMessyDirection = M1A + M3B\n",
    "messyVisibility = M2A + M4B\n",
    "nonMessyVisibility = M2B + M4A\n",
    "print len(messyDirection)\n",
    "print measure + \"\\t|Mean\\t\\t|Variance\\t|Standard diviation\"\n",
    "print \"Messy direction \\t|\" + str(np.mean(messyDirection)) + \"\\t|\" + str(np.var(messyDirection)) + \"\\t|\" + str(np.std(messyDirection)) + \"\\t\" + str(min(messyDirection)) + \"\\t\" + str(max(messyDirection))\n",
    "print \"Non messy direction \\t|\" + str(np.mean(nonMessyDirection)) + \"\\t|\" + str(np.var(nonMessyDirection)) + \"\\t|\" + str(np.std(nonMessyDirection)) + \"\\t\" + str(min(nonMessyDirection)) + \"\\t\" + str(max(nonMessyDirection))\n",
    "print \"Messy visibility \\t|\" + str(np.mean(messyVisibility)) + \"\\t|\" + str(np.var(messyVisibility)) + \"\\t|\" + str(np.std(messyVisibility)) + \"\\t\" + str(min(messyVisibility)) + \"\\t\" + str(max(messyVisibility))\n",
    "print \"Non messy visibility \\t|\" + str(np.mean(nonMessyVisibility)) + \"\\t|\" + str(np.var(nonMessyVisibility)) + \"\\t|\" + str(np.std(nonMessyVisibility)) + \"\\t\" + str(min(nonMessyVisibility)) + \"\\t\" + str(max(nonMessyVisibility))"
   ]
  },
  {
   "cell_type": "code",
   "execution_count": 72,
   "metadata": {},
   "outputs": [
    {
     "name": "stdout",
     "output_type": "stream",
     "text": [
      "78\n",
      "pupilDilationMean\t|Mean\t\t|Variance\t|Standard diviation\n",
      "Messy direction \t|0.134346224337\t|0.00117373177869\t|0.0342597690986\t0.0823820249338\t0.24311391347\n",
      "Non messy direction \t|0.135976349293\t|0.00139554750472\t|0.0373570275146\t0.0466114574949\t0.231709188667\n",
      "Messy visibility \t|0.13268463306\t|0.00142432658391\t|0.0377402515083\t0.0762652293737\t0.23244161892\n",
      "Non messy visibility \t|0.138523020833\t|0.00189528882892\t|0.0435349150558\t0.00650587752933\t0.243114919595\n",
      "\n",
      "TUT \t0.161363067347\t0.00115775540166\t0.0340258049377\t0.00650587752933\t0.243114919595\n"
     ]
    }
   ],
   "source": [
    "measure = \"pupilDilationMean\"\n",
    "M1A = data[\"M1A-Q01.png\"][measure] + data[\"M1A-Q02.png\"][measure] + data[\"M1A-Q03.png\"][measure] +data[\"M1A-Q04.png\"][measure] +data[\"M1A-Q05.png\"][measure] +data[\"M1A-Q06.png\"][measure]\n",
    "M1B = data[\"M1B-Q01.png\"][measure] + data[\"M1B-Q02.png\"][measure] + data[\"M1B-Q03.png\"][measure] +data[\"M1B-Q04.png\"][measure] +data[\"M1B-Q05.png\"][measure] +data[\"M1B-Q06.png\"][measure]\n",
    "M2A = data[\"M2A-Q07.png\"][measure] + data[\"M2A-Q08.png\"][measure] + data[\"M2A-Q09.png\"][measure] +data[\"M2A-Q10.png\"][measure] +data[\"M2A-Q11.png\"][measure] +data[\"M2A-Q12.png\"][measure]\n",
    "M2B = data[\"M2B-Q07.png\"][measure] + data[\"M2B-Q08.png\"][measure] + data[\"M2B-Q09.png\"][measure] +data[\"M2B-Q10.png\"][measure] +data[\"M2B-Q11.png\"][measure] +data[\"M2B-Q12.png\"][measure]\n",
    "M3A = data[\"M3A-Q13.png\"][measure] + data[\"M3A-Q14.png\"][measure] + data[\"M3A-Q15.png\"][measure] +data[\"M3A-Q16.png\"][measure] +data[\"M3A-Q17.png\"][measure] +data[\"M3A-Q18.png\"][measure]\n",
    "M3B = data[\"M3B-Q13.png\"][measure] + data[\"M3B-Q14.png\"][measure] + data[\"M3B-Q15.png\"][measure] +data[\"M3B-Q16.png\"][measure] +data[\"M3B-Q17.png\"][measure] +data[\"M3B-Q18.png\"][measure]\n",
    "M4A = data[\"M4A-Q19.png\"][measure] + data[\"M4A-Q20.png\"][measure] + data[\"M4A-Q21.png\"][measure] +data[\"M4A-Q22.png\"][measure] +data[\"M4A-Q23.png\"][measure] +data[\"M4A-Q24.png\"][measure]\n",
    "M4B = data[\"M4B-Q19.png\"][measure] + data[\"M4B-Q20.png\"][measure] + data[\"M4B-Q21.png\"][measure] +data[\"M4B-Q22.png\"][measure] +data[\"M4B-Q23.png\"][measure] +data[\"M4B-Q24.png\"][measure]\n",
    "\n",
    "TUT = data[\"TUTX-Q01.png\"][measure] + data[\"TUTX-Q02.png\"][measure] + data[\"TUTX-Q03.png\"][measure]\n",
    "\n",
    "messyDirection = M1B + M3A\n",
    "nonMessyDirection = M1A + M3B\n",
    "messyVisibility = M2A + M4B\n",
    "nonMessyVisibility = M2B + M4A\n",
    "print len(messyDirection)\n",
    "print measure + \"\\t|Mean\\t\\t|Variance\\t|Standard diviation\"\n",
    "print \"Messy direction \\t|\" + str(np.mean(messyDirection)) + \"\\t|\" + str(np.var(messyDirection)) + \"\\t|\" + str(np.std(messyDirection)) + \"\\t\" + str(min(messyDirection)) + \"\\t\" + str(max(messyDirection))\n",
    "print \"Non messy direction \\t|\" + str(np.mean(nonMessyDirection)) + \"\\t|\" + str(np.var(nonMessyDirection)) + \"\\t|\" + str(np.std(nonMessyDirection)) + \"\\t\" + str(min(nonMessyDirection)) + \"\\t\" + str(max(nonMessyDirection))\n",
    "print \"Messy visibility \\t|\" + str(np.mean(messyVisibility)) + \"\\t|\" + str(np.var(messyVisibility)) + \"\\t|\" + str(np.std(messyVisibility)) + \"\\t\" + str(min(messyVisibility)) + \"\\t\" + str(max(messyVisibility))\n",
    "print \"Non messy visibility \\t|\" + str(np.mean(nonMessyVisibility)) + \"\\t|\" + str(np.var(nonMessyVisibility)) + \"\\t|\" + str(np.std(nonMessyVisibility)) + \"\\t\" + str(min(nonMessyVisibility)) + \"\\t\" + str(max(nonMessyVisibility))\n",
    "print \"\"\n",
    "print \"TUT \\t\" + str(np.mean(TUT)) + \"\\t\" + str(np.var(TUT)) + \"\\t\" + str(np.std(TUT)) + \"\\t\" + str(min(nonMessyVisibility)) + \"\\t\" + str(max(nonMessyVisibility))\n"
   ]
  },
  {
   "cell_type": "code",
   "execution_count": 73,
   "metadata": {},
   "outputs": [
    {
     "name": "stdout",
     "output_type": "stream",
     "text": [
      "78\n",
      "pupilDilationDiff\t|Mean\t\t|Variance\t|Standard diviation\n",
      "Messy direction \t|-0.019856521304\t|0.00141575843897\t|0.0376265656016\t-0.0783148689804\t0.103035594916\n",
      "Non messy direction \t|-0.0182263963479\t|0.00167501786697\t|0.0409269821386\t-0.113839140197\t0.074071989268\n",
      "Messy visibility \t|-0.0215181125813\t|0.00166239919062\t|0.0407725298531\t-0.0878631051106\t0.0777301720729\n",
      "Non messy visibility \t|-0.0156797248077\t|0.00228362644513\t|0.0477873042254\t-0.128987727743\t0.107621314323\n"
     ]
    }
   ],
   "source": [
    "measure = \"pupilDilationDiff\"\n",
    "M1A = data[\"M1A-Q01.png\"][measure] + data[\"M1A-Q02.png\"][measure] + data[\"M1A-Q03.png\"][measure] +data[\"M1A-Q04.png\"][measure] +data[\"M1A-Q05.png\"][measure] +data[\"M1A-Q06.png\"][measure]\n",
    "M1B = data[\"M1B-Q01.png\"][measure] + data[\"M1B-Q02.png\"][measure] + data[\"M1B-Q03.png\"][measure] +data[\"M1B-Q04.png\"][measure] +data[\"M1B-Q05.png\"][measure] +data[\"M1B-Q06.png\"][measure]\n",
    "M2A = data[\"M2A-Q07.png\"][measure] + data[\"M2A-Q08.png\"][measure] + data[\"M2A-Q09.png\"][measure] +data[\"M2A-Q10.png\"][measure] +data[\"M2A-Q11.png\"][measure] +data[\"M2A-Q12.png\"][measure]\n",
    "M2B = data[\"M2B-Q07.png\"][measure] + data[\"M2B-Q08.png\"][measure] + data[\"M2B-Q09.png\"][measure] +data[\"M2B-Q10.png\"][measure] +data[\"M2B-Q11.png\"][measure] +data[\"M2B-Q12.png\"][measure]\n",
    "M3A = data[\"M3A-Q13.png\"][measure] + data[\"M3A-Q14.png\"][measure] + data[\"M3A-Q15.png\"][measure] +data[\"M3A-Q16.png\"][measure] +data[\"M3A-Q17.png\"][measure] +data[\"M3A-Q18.png\"][measure]\n",
    "M3B = data[\"M3B-Q13.png\"][measure] + data[\"M3B-Q14.png\"][measure] + data[\"M3B-Q15.png\"][measure] +data[\"M3B-Q16.png\"][measure] +data[\"M3B-Q17.png\"][measure] +data[\"M3B-Q18.png\"][measure]\n",
    "M4A = data[\"M4A-Q19.png\"][measure] + data[\"M4A-Q20.png\"][measure] + data[\"M4A-Q21.png\"][measure] +data[\"M4A-Q22.png\"][measure] +data[\"M4A-Q23.png\"][measure] +data[\"M4A-Q24.png\"][measure]\n",
    "M4B = data[\"M4B-Q19.png\"][measure] + data[\"M4B-Q20.png\"][measure] + data[\"M4B-Q21.png\"][measure] +data[\"M4B-Q22.png\"][measure] +data[\"M4B-Q23.png\"][measure] +data[\"M4B-Q24.png\"][measure]\n",
    "\n",
    "messyDirection = M1B + M3A\n",
    "nonMessyDirection = M1A + M3B\n",
    "messyVisibility = M2A + M4B\n",
    "nonMessyVisibility = M2B + M4A\n",
    "print len(messyDirection)\n",
    "print measure + \"\\t|Mean\\t\\t|Variance\\t|Standard diviation\"\n",
    "print \"Messy direction \\t|\" + str(np.mean(messyDirection)) + \"\\t|\" + str(np.var(messyDirection)) + \"\\t|\" + str(np.std(messyDirection)) + \"\\t\" + str(min(messyDirection)) + \"\\t\" + str(max(messyDirection))\n",
    "print \"Non messy direction \\t|\" + str(np.mean(nonMessyDirection)) + \"\\t|\" + str(np.var(nonMessyDirection)) + \"\\t|\" + str(np.std(nonMessyDirection)) + \"\\t\" + str(min(nonMessyDirection)) + \"\\t\" + str(max(nonMessyDirection))\n",
    "print \"Messy visibility \\t|\" + str(np.mean(messyVisibility)) + \"\\t|\" + str(np.var(messyVisibility)) + \"\\t|\" + str(np.std(messyVisibility)) + \"\\t\" + str(min(messyVisibility)) + \"\\t\" + str(max(messyVisibility))\n",
    "print \"Non messy visibility \\t|\" + str(np.mean(nonMessyVisibility)) + \"\\t|\" + str(np.var(nonMessyVisibility)) + \"\\t|\" + str(np.std(nonMessyVisibility)) + \"\\t\" + str(min(nonMessyVisibility)) + \"\\t\" + str(max(nonMessyVisibility))"
   ]
  },
  {
   "cell_type": "code",
   "execution_count": 74,
   "metadata": {},
   "outputs": [
    {
     "name": "stdout",
     "output_type": "stream",
     "text": [
      "fixationsPerSecond\t|Mean\t\t|Variance\t|Standard diviation\n",
      "Messy Global \t\t|3.41175784243\t|0.134525327585\t|0.366776945275\n",
      "Messy Local \t\t|3.33891039707\t|0.214902432543\t|0.463575703141\n",
      "Non Messy Global \t|3.44494876937\t|0.180155739839\t|0.424447570189\t1.75262894342\t4.43915973048\n",
      "Non Messy Local \t|3.41880154559\t|0.20325006389\t|0.450832634012\t1.8936275317\t5.0202948088\n"
     ]
    }
   ],
   "source": [
    "measure = \"fixationsPerSecond\"\n",
    "M1AL = data[\"M1A-Q01.png\"][measure] + data[\"M1A-Q02.png\"][measure] + data[\"M1A-Q03.png\"][measure] \n",
    "M1AG = data[\"M1A-Q04.png\"][measure] +data[\"M1A-Q05.png\"][measure] +data[\"M1A-Q06.png\"][measure]\n",
    "M1BL = data[\"M1B-Q01.png\"][measure] + data[\"M1B-Q02.png\"][measure] + data[\"M1B-Q03.png\"][measure] \n",
    "M1BG = data[\"M1B-Q04.png\"][measure] +data[\"M1B-Q05.png\"][measure] +data[\"M1B-Q06.png\"][measure]\n",
    "M2AL = data[\"M2A-Q07.png\"][measure] + data[\"M2A-Q08.png\"][measure] + data[\"M2A-Q09.png\"][measure] \n",
    "M2AG = data[\"M2A-Q10.png\"][measure] +data[\"M2A-Q11.png\"][measure] +data[\"M2A-Q12.png\"][measure]\n",
    "M2BL = data[\"M2B-Q07.png\"][measure] + data[\"M2B-Q08.png\"][measure] + data[\"M2B-Q09.png\"][measure] \n",
    "M2BG = data[\"M2B-Q10.png\"][measure] +data[\"M2B-Q11.png\"][measure] +data[\"M2B-Q12.png\"][measure]\n",
    "M3AL = data[\"M3A-Q13.png\"][measure] + data[\"M3A-Q14.png\"][measure] + data[\"M3A-Q15.png\"][measure] \n",
    "M3AG = data[\"M3A-Q16.png\"][measure] +data[\"M3A-Q17.png\"][measure] +data[\"M3A-Q18.png\"][measure]\n",
    "M3BL = data[\"M3B-Q13.png\"][measure] + data[\"M3B-Q14.png\"][measure] + data[\"M3B-Q15.png\"][measure] \n",
    "M3BG = data[\"M3B-Q16.png\"][measure] +data[\"M3B-Q17.png\"][measure] +data[\"M3B-Q18.png\"][measure]\n",
    "M4AL = data[\"M4A-Q19.png\"][measure] + data[\"M4A-Q20.png\"][measure] + data[\"M4A-Q24.png\"][measure] \n",
    "M4AG = data[\"M4A-Q22.png\"][measure] +data[\"M4A-Q23.png\"][measure] +data[\"M4A-Q21.png\"][measure]\n",
    "M4BL = data[\"M4B-Q19.png\"][measure] + data[\"M4B-Q20.png\"][measure] + data[\"M4B-Q24.png\"][measure] \n",
    "M4BG = data[\"M4B-Q22.png\"][measure] +data[\"M4B-Q23.png\"][measure] +data[\"M4B-Q21.png\"][measure]\n",
    "\n",
    "messyL = M1BL + M3AL + M2AL + M4BL\n",
    "messyG = M1BG + M3AG + M2AG + M4BG\n",
    "nonMessyL = M1AL + M3BL + M2BL + M4AL + messyL\n",
    "nonMessyG = M1AG + M3BG + M2BG + M4AG + messyG\n",
    "\n",
    "print measure + \"\\t|Mean\\t\\t|Variance\\t|Standard diviation\"\n",
    "print \"Messy Global \\t\\t|\" + str(np.mean(messyG)) + \"\\t|\" + str(np.var(messyG)) + \"\\t|\" + str(np.std(messyG))\n",
    "print \"Messy Local \\t\\t|\" + str(np.mean(messyL)) + \"\\t|\" + str(np.var(messyL)) + \"\\t|\" + str(np.std(messyL))\n",
    "print \"Non Messy Global \\t|\" + str(np.mean(nonMessyG)) + \"\\t|\" + str(np.var(nonMessyG)) + \"\\t|\" + str(np.std(nonMessyG)) + \"\\t\" + str(min(nonMessyG)) + \"\\t\" + str(max(nonMessyG))\n",
    "print \"Non Messy Local \\t|\" + str(np.mean(nonMessyL)) + \"\\t|\" + str(np.var(nonMessyL)) + \"\\t|\" + str(np.std(nonMessyL)) + \"\\t\" + str(min(nonMessyL)) + \"\\t\" + str(max(nonMessyL))"
   ]
  },
  {
   "cell_type": "code",
   "execution_count": 75,
   "metadata": {},
   "outputs": [
    {
     "name": "stdout",
     "output_type": "stream",
     "text": [
      "fixationDuration\t|Mean\t\t|Variance\t\t|Standard diviation\n",
      "Messy Global \t\t|0.232352192983\t|0.0009056954186\t|0.0300947739417\n",
      "Messy Local \t\t|0.240014897038\t|0.00148947539362\t|0.0385937222048\n",
      "Non Messy Global \t|0.229121449047\t|0.0010777518694\t|0.032829131414\t0.130833333333\t0.308814814815\n",
      "Non Messy Local \t|0.235333197332\t|0.0013533895283\t|0.0367884428632\t0.149520833333\t0.35656122449\n"
     ]
    }
   ],
   "source": [
    "measure = \"fixationDuration\"\n",
    "M1AL = data[\"M1A-Q01.png\"][measure] + data[\"M1A-Q02.png\"][measure] + data[\"M1A-Q03.png\"][measure] \n",
    "M1AG = data[\"M1A-Q04.png\"][measure] +data[\"M1A-Q05.png\"][measure] +data[\"M1A-Q06.png\"][measure]\n",
    "M1BL = data[\"M1B-Q01.png\"][measure] + data[\"M1B-Q02.png\"][measure] + data[\"M1B-Q03.png\"][measure] \n",
    "M1BG = data[\"M1B-Q04.png\"][measure] +data[\"M1B-Q05.png\"][measure] +data[\"M1B-Q06.png\"][measure]\n",
    "M2AL = data[\"M2A-Q07.png\"][measure] + data[\"M2A-Q08.png\"][measure] + data[\"M2A-Q09.png\"][measure] \n",
    "M2AG = data[\"M2A-Q10.png\"][measure] +data[\"M2A-Q11.png\"][measure] +data[\"M2A-Q12.png\"][measure]\n",
    "M2BL = data[\"M2B-Q07.png\"][measure] + data[\"M2B-Q08.png\"][measure] + data[\"M2B-Q09.png\"][measure] \n",
    "M2BG = data[\"M2B-Q10.png\"][measure] +data[\"M2B-Q11.png\"][measure] +data[\"M2B-Q12.png\"][measure]\n",
    "M3AL = data[\"M3A-Q13.png\"][measure] + data[\"M3A-Q14.png\"][measure] + data[\"M3A-Q15.png\"][measure] \n",
    "M3AG = data[\"M3A-Q16.png\"][measure] +data[\"M3A-Q17.png\"][measure] +data[\"M3A-Q18.png\"][measure]\n",
    "M3BL = data[\"M3B-Q13.png\"][measure] + data[\"M3B-Q14.png\"][measure] + data[\"M3B-Q15.png\"][measure] \n",
    "M3BG = data[\"M3B-Q16.png\"][measure] +data[\"M3B-Q17.png\"][measure] +data[\"M3B-Q18.png\"][measure]\n",
    "M4AL = data[\"M4A-Q19.png\"][measure] + data[\"M4A-Q20.png\"][measure] + data[\"M4A-Q24.png\"][measure] \n",
    "M4AG = data[\"M4A-Q22.png\"][measure] +data[\"M4A-Q23.png\"][measure] +data[\"M4A-Q21.png\"][measure]\n",
    "M4BL = data[\"M4B-Q19.png\"][measure] + data[\"M4B-Q20.png\"][measure] + data[\"M4B-Q24.png\"][measure] \n",
    "M4BG = data[\"M4B-Q22.png\"][measure] +data[\"M4B-Q23.png\"][measure] +data[\"M4B-Q21.png\"][measure]\n",
    "\n",
    "messyL = M1BL + M3AL + M2AL + M4BL\n",
    "messyG = M1BG + M3AG + M2AG + M4BG\n",
    "nonMessyL = M1AL + M3BL + M2BL + M4AL + messyL\n",
    "nonMessyG = M1AG + M3BG + M2BG + M4AG + messyG\n",
    "\n",
    "print measure + \"\\t|Mean\\t\\t|Variance\\t\\t|Standard diviation\"\n",
    "print \"Messy Global \\t\\t|\" + str(np.mean(messyG)) + \"\\t|\" + str(np.var(messyG)) + \"\\t|\" + str(np.std(messyG))\n",
    "print \"Messy Local \\t\\t|\" + str(np.mean(messyL)) + \"\\t|\" + str(np.var(messyL)) + \"\\t|\" + str(np.std(messyL))\n",
    "print \"Non Messy Global \\t|\" + str(np.mean(nonMessyG)) + \"\\t|\" + str(np.var(nonMessyG)) + \"\\t|\" + str(np.std(nonMessyG)) + \"\\t\" + str(min(nonMessyG)) + \"\\t\" + str(max(nonMessyG))\n",
    "print \"Non Messy Local \\t|\" + str(np.mean(nonMessyL)) + \"\\t|\" + str(np.var(nonMessyL)) + \"\\t|\" + str(np.std(nonMessyL)) + \"\\t\" + str(min(nonMessyL)) + \"\\t\" + str(max(nonMessyL))"
   ]
  },
  {
   "cell_type": "code",
   "execution_count": 76,
   "metadata": {},
   "outputs": [
    {
     "name": "stdout",
     "output_type": "stream",
     "text": [
      "saccadeVelocityList\t|Mean\t\t|Variance\t|Standard diviation\n",
      "Messy Global \t\t|4.34426196832\t|1.07072551433\t|1.03475867444\n",
      "Messy Local \t\t|4.07928185487\t|1.20448116179\t|1.09748857023\n",
      "Non Messy Global \t|4.46739793903\t|1.27556973508\t|1.12941123382\t2.4856626506\t7.89471698113\n",
      "Non Messy Local \t|4.24720301604\t|1.25845487994\t|1.12180875373\t2.26119402985\t7.52828125\n"
     ]
    }
   ],
   "source": [
    "measure = \"saccadeVelocityList\"\n",
    "M1AL = data[\"M1A-Q01.png\"][measure] + data[\"M1A-Q02.png\"][measure] + data[\"M1A-Q03.png\"][measure] \n",
    "M1AG = data[\"M1A-Q04.png\"][measure] +data[\"M1A-Q05.png\"][measure] +data[\"M1A-Q06.png\"][measure]\n",
    "M1BL = data[\"M1B-Q01.png\"][measure] + data[\"M1B-Q02.png\"][measure] + data[\"M1B-Q03.png\"][measure] \n",
    "M1BG = data[\"M1B-Q04.png\"][measure] +data[\"M1B-Q05.png\"][measure] +data[\"M1B-Q06.png\"][measure]\n",
    "M2AL = data[\"M2A-Q07.png\"][measure] + data[\"M2A-Q08.png\"][measure] + data[\"M2A-Q09.png\"][measure] \n",
    "M2AG = data[\"M2A-Q10.png\"][measure] +data[\"M2A-Q11.png\"][measure] +data[\"M2A-Q12.png\"][measure]\n",
    "M2BL = data[\"M2B-Q07.png\"][measure] + data[\"M2B-Q08.png\"][measure] + data[\"M2B-Q09.png\"][measure] \n",
    "M2BG = data[\"M2B-Q10.png\"][measure] +data[\"M2B-Q11.png\"][measure] +data[\"M2B-Q12.png\"][measure]\n",
    "M3AL = data[\"M3A-Q13.png\"][measure] + data[\"M3A-Q14.png\"][measure] + data[\"M3A-Q15.png\"][measure] \n",
    "M3AG = data[\"M3A-Q16.png\"][measure] +data[\"M3A-Q17.png\"][measure] +data[\"M3A-Q18.png\"][measure]\n",
    "M3BL = data[\"M3B-Q13.png\"][measure] + data[\"M3B-Q14.png\"][measure] + data[\"M3B-Q15.png\"][measure] \n",
    "M3BG = data[\"M3B-Q16.png\"][measure] +data[\"M3B-Q17.png\"][measure] +data[\"M3B-Q18.png\"][measure]\n",
    "M4AL = data[\"M4A-Q19.png\"][measure] + data[\"M4A-Q20.png\"][measure] + data[\"M4A-Q24.png\"][measure] \n",
    "M4AG = data[\"M4A-Q22.png\"][measure] +data[\"M4A-Q23.png\"][measure] +data[\"M4A-Q21.png\"][measure]\n",
    "M4BL = data[\"M4B-Q19.png\"][measure] + data[\"M4B-Q20.png\"][measure] + data[\"M4B-Q24.png\"][measure] \n",
    "M4BG = data[\"M4B-Q22.png\"][measure] +data[\"M4B-Q23.png\"][measure] +data[\"M4B-Q21.png\"][measure]\n",
    "\n",
    "messyL = M1BL + M3AL + M2AL + M4BL\n",
    "messyG = M1BG + M3AG + M2AG + M4BG\n",
    "nonMessyL = M1AL + M3BL + M2BL + M4AL + messyL\n",
    "nonMessyG = M1AG + M3BG + M2BG + M4AG + messyG\n",
    "\n",
    "print measure + \"\\t|Mean\\t\\t|Variance\\t|Standard diviation\"\n",
    "print \"Messy Global \\t\\t|\" + str(np.mean(messyG)) + \"\\t|\" + str(np.var(messyG)) + \"\\t|\" + str(np.std(messyG))\n",
    "print \"Messy Local \\t\\t|\" + str(np.mean(messyL)) + \"\\t|\" + str(np.var(messyL)) + \"\\t|\" + str(np.std(messyL))\n",
    "print \"Non Messy Global \\t|\" + str(np.mean(nonMessyG)) + \"\\t|\" + str(np.var(nonMessyG)) + \"\\t|\" + str(np.std(nonMessyG)) + \"\\t\" + str(min(nonMessyG)) + \"\\t\" + str(max(nonMessyG))\n",
    "print \"Non Messy Local \\t|\" + str(np.mean(nonMessyL)) + \"\\t|\" + str(np.var(nonMessyL)) + \"\\t|\" + str(np.std(nonMessyL)) + \"\\t\" + str(min(nonMessyL)) + \"\\t\" + str(max(nonMessyL))"
   ]
  },
  {
   "cell_type": "code",
   "execution_count": 77,
   "metadata": {},
   "outputs": [
    {
     "name": "stdout",
     "output_type": "stream",
     "text": [
      "duration\t|Mean\t\t|Variance\t|Standard diviation\n",
      "Messy Global \t\t|34.6147564103\t|198.77947203\t|14.0989174063\n",
      "Messy Local \t\t|21.0708333333\t|94.7407549594\t|9.73348626954\n",
      "Non Messy Global \t|30.4807307692\t|232.705635581\t|15.254692248\n",
      "Non Messy Local \t|17.4070897436\t|95.725089774\t|9.7839199595\n"
     ]
    }
   ],
   "source": [
    "measure = \"duration\"\n",
    "M1AL = data[\"M1A-Q01.png\"][measure] + data[\"M1A-Q02.png\"][measure] + data[\"M1A-Q03.png\"][measure] \n",
    "M1AG = data[\"M1A-Q04.png\"][measure] +data[\"M1A-Q05.png\"][measure] +data[\"M1A-Q06.png\"][measure]\n",
    "M1BL = data[\"M1B-Q01.png\"][measure] + data[\"M1B-Q02.png\"][measure] + data[\"M1B-Q03.png\"][measure] \n",
    "M1BG = data[\"M1B-Q04.png\"][measure] +data[\"M1B-Q05.png\"][measure] +data[\"M1B-Q06.png\"][measure]\n",
    "M2AL = data[\"M2A-Q07.png\"][measure] + data[\"M2A-Q08.png\"][measure] + data[\"M2A-Q09.png\"][measure] \n",
    "M2AG = data[\"M2A-Q10.png\"][measure] +data[\"M2A-Q11.png\"][measure] +data[\"M2A-Q12.png\"][measure]\n",
    "M2BL = data[\"M2B-Q07.png\"][measure] + data[\"M2B-Q08.png\"][measure] + data[\"M2B-Q09.png\"][measure] \n",
    "M2BG = data[\"M2B-Q10.png\"][measure] +data[\"M2B-Q11.png\"][measure] +data[\"M2B-Q12.png\"][measure]\n",
    "M3AL = data[\"M3A-Q13.png\"][measure] + data[\"M3A-Q14.png\"][measure] + data[\"M3A-Q15.png\"][measure] \n",
    "M3AG = data[\"M3A-Q16.png\"][measure] +data[\"M3A-Q17.png\"][measure] +data[\"M3A-Q18.png\"][measure]\n",
    "M3BL = data[\"M3B-Q13.png\"][measure] + data[\"M3B-Q14.png\"][measure] + data[\"M3B-Q15.png\"][measure] \n",
    "M3BG = data[\"M3B-Q16.png\"][measure] +data[\"M3B-Q17.png\"][measure] +data[\"M3B-Q18.png\"][measure]\n",
    "M4AL = data[\"M4A-Q19.png\"][measure] + data[\"M4A-Q20.png\"][measure] + data[\"M4A-Q24.png\"][measure] \n",
    "M4AG = data[\"M4A-Q22.png\"][measure] +data[\"M4A-Q23.png\"][measure] +data[\"M4A-Q21.png\"][measure]\n",
    "M4BL = data[\"M4B-Q19.png\"][measure] + data[\"M4B-Q20.png\"][measure] + data[\"M4B-Q24.png\"][measure] \n",
    "M4BG = data[\"M4B-Q22.png\"][measure] +data[\"M4B-Q23.png\"][measure] +data[\"M4B-Q21.png\"][measure]\n",
    "\n",
    "messyL = M1BL + M3AL + M2AL + M4BL\n",
    "messyG = M1BG + M3AG + M2AG + M4BG\n",
    "nonMessyL = M1AL + M3BL + M2BL + M4AL\n",
    "nonMessyG = M1AG + M3BG + M2BG + M4AG\n",
    "\n",
    "print measure + \"\\t|Mean\\t\\t|Variance\\t|Standard diviation\"\n",
    "print \"Messy Global \\t\\t|\" + str(np.mean(messyG)) + \"\\t|\" + str(np.var(messyG)) + \"\\t|\" + str(np.std(messyG))\n",
    "print \"Messy Local \\t\\t|\" + str(np.mean(messyL)) + \"\\t|\" + str(np.var(messyL)) + \"\\t|\" + str(np.std(messyL))\n",
    "print \"Non Messy Global \\t|\" + str(np.mean(nonMessyG)) + \"\\t|\" + str(np.var(nonMessyG)) + \"\\t|\" + str(np.std(nonMessyG))\n",
    "print \"Non Messy Local \\t|\" + str(np.mean(nonMessyL)) + \"\\t|\" + str(np.var(nonMessyL)) + \"\\t|\" + str(np.std(nonMessyL))"
   ]
  },
  {
   "cell_type": "code",
   "execution_count": 78,
   "metadata": {},
   "outputs": [
    {
     "name": "stdout",
     "output_type": "stream",
     "text": [
      "156\n",
      "amountOfFixations\t|Mean\t\t|Variance\t|Standard diviation\n",
      "Messy Global \t\t|116.576923077\t|2136.75690335\t|46.2250679107\n",
      "Messy Local \t\t|69.1153846154\t|973.358481262\t|31.1986935826\n",
      "Non Messy Global \t|109.897435897\t|2252.83563445\t|47.4640457025\t21\t270\n",
      "Non Messy Local \t|64.4615384615\t|1016.9408284\t|31.8895096921\t19\t221\n"
     ]
    }
   ],
   "source": [
    "measure = \"amountOfFixations\"\n",
    "M1AL = data[\"M1A-Q01.png\"][measure] + data[\"M1A-Q02.png\"][measure] + data[\"M1A-Q03.png\"][measure] \n",
    "M1AG = data[\"M1A-Q04.png\"][measure] +data[\"M1A-Q05.png\"][measure] +data[\"M1A-Q06.png\"][measure]\n",
    "M1BL = data[\"M1B-Q01.png\"][measure] + data[\"M1B-Q02.png\"][measure] + data[\"M1B-Q03.png\"][measure] \n",
    "M1BG = data[\"M1B-Q04.png\"][measure] +data[\"M1B-Q05.png\"][measure] +data[\"M1B-Q06.png\"][measure]\n",
    "M2AL = data[\"M2A-Q07.png\"][measure] + data[\"M2A-Q08.png\"][measure] + data[\"M2A-Q09.png\"][measure] \n",
    "M2AG = data[\"M2A-Q10.png\"][measure] +data[\"M2A-Q11.png\"][measure] +data[\"M2A-Q12.png\"][measure]\n",
    "M2BL = data[\"M2B-Q07.png\"][measure] + data[\"M2B-Q08.png\"][measure] + data[\"M2B-Q09.png\"][measure] \n",
    "M2BG = data[\"M2B-Q10.png\"][measure] +data[\"M2B-Q11.png\"][measure] +data[\"M2B-Q12.png\"][measure]\n",
    "M3AL = data[\"M3A-Q13.png\"][measure] + data[\"M3A-Q14.png\"][measure] + data[\"M3A-Q15.png\"][measure] \n",
    "M3AG = data[\"M3A-Q16.png\"][measure] +data[\"M3A-Q17.png\"][measure] +data[\"M3A-Q18.png\"][measure]\n",
    "M3BL = data[\"M3B-Q13.png\"][measure] + data[\"M3B-Q14.png\"][measure] + data[\"M3B-Q15.png\"][measure] \n",
    "M3BG = data[\"M3B-Q16.png\"][measure] +data[\"M3B-Q17.png\"][measure] +data[\"M3B-Q18.png\"][measure]\n",
    "M4AL = data[\"M4A-Q19.png\"][measure] + data[\"M4A-Q20.png\"][measure] + data[\"M4A-Q24.png\"][measure] \n",
    "M4AG = data[\"M4A-Q22.png\"][measure] +data[\"M4A-Q23.png\"][measure] +data[\"M4A-Q21.png\"][measure]\n",
    "M4BL = data[\"M4B-Q19.png\"][measure] + data[\"M4B-Q20.png\"][measure] + data[\"M4B-Q24.png\"][measure] \n",
    "M4BG = data[\"M4B-Q22.png\"][measure] +data[\"M4B-Q23.png\"][measure] +data[\"M4B-Q21.png\"][measure]\n",
    "\n",
    "messyL = M1BL + M3AL + M2AL + M4BL\n",
    "messyG = M1BG + M3AG + M2AG + M4BG\n",
    "nonMessyL = M1AL + M3BL + M2BL + M4AL + messyL\n",
    "nonMessyG = M1AG + M3BG + M2BG + M4AG + messyG\n",
    "print len(nonMessyG)\n",
    "print measure + \"\\t|Mean\\t\\t|Variance\\t|Standard diviation\"\n",
    "print \"Messy Global \\t\\t|\" + str(np.mean(messyG)) + \"\\t|\" + str(np.var(messyG)) + \"\\t|\" + str(np.std(messyG))\n",
    "print \"Messy Local \\t\\t|\" + str(np.mean(messyL)) + \"\\t|\" + str(np.var(messyL)) + \"\\t|\" + str(np.std(messyL))\n",
    "print \"Non Messy Global \\t|\" + str(np.mean(nonMessyG)) + \"\\t|\" + str(np.var(nonMessyG)) + \"\\t|\" + str(np.std(nonMessyG)) + \"\\t\" + str(min(nonMessyG)) + \"\\t\" + str(max(nonMessyG))\n",
    "print \"Non Messy Local \\t|\" + str(np.mean(nonMessyL)) + \"\\t|\" + str(np.var(nonMessyL)) + \"\\t|\" + str(np.std(nonMessyL)) + \"\\t\" + str(min(nonMessyL)) + \"\\t\" + str(max(nonMessyL))"
   ]
  },
  {
   "cell_type": "code",
   "execution_count": 79,
   "metadata": {},
   "outputs": [
    {
     "name": "stdout",
     "output_type": "stream",
     "text": [
      "156\n",
      "pupilDilationDiff\t|Mean\t\t|Variance\t|Standard diviation\n",
      "Messy Global \t\t|-0.0176702742802\t|0.00151119460841\t|0.0388740865926\n",
      "Messy Local \t\t|-0.0237043596051\t|0.00155013837111\t|0.0393717966457\n",
      "Non Messy Global \t|-0.0167247718928\t|0.00167159311898\t|0.0408851209975\t-0.128987727743\t0.0975164396708\n",
      "Non Messy Local \t|-0.0209156056276\t|0.00184731024884\t|0.0429803472397\t-0.113839140197\t0.107621314323\n"
     ]
    }
   ],
   "source": [
    "measure = \"pupilDilationDiff\"\n",
    "M1AL = data[\"M1A-Q01.png\"][measure] + data[\"M1A-Q02.png\"][measure] + data[\"M1A-Q03.png\"][measure] \n",
    "M1AG = data[\"M1A-Q04.png\"][measure] +data[\"M1A-Q05.png\"][measure] +data[\"M1A-Q06.png\"][measure]\n",
    "M1BL = data[\"M1B-Q01.png\"][measure] + data[\"M1B-Q02.png\"][measure] + data[\"M1B-Q03.png\"][measure] \n",
    "M1BG = data[\"M1B-Q04.png\"][measure] +data[\"M1B-Q05.png\"][measure] +data[\"M1B-Q06.png\"][measure]\n",
    "M2AL = data[\"M2A-Q07.png\"][measure] + data[\"M2A-Q08.png\"][measure] + data[\"M2A-Q09.png\"][measure] \n",
    "M2AG = data[\"M2A-Q10.png\"][measure] +data[\"M2A-Q11.png\"][measure] +data[\"M2A-Q12.png\"][measure]\n",
    "M2BL = data[\"M2B-Q07.png\"][measure] + data[\"M2B-Q08.png\"][measure] + data[\"M2B-Q09.png\"][measure] \n",
    "M2BG = data[\"M2B-Q10.png\"][measure] +data[\"M2B-Q11.png\"][measure] +data[\"M2B-Q12.png\"][measure]\n",
    "M3AL = data[\"M3A-Q13.png\"][measure] + data[\"M3A-Q14.png\"][measure] + data[\"M3A-Q15.png\"][measure] \n",
    "M3AG = data[\"M3A-Q16.png\"][measure] +data[\"M3A-Q17.png\"][measure] +data[\"M3A-Q18.png\"][measure]\n",
    "M3BL = data[\"M3B-Q13.png\"][measure] + data[\"M3B-Q14.png\"][measure] + data[\"M3B-Q15.png\"][measure] \n",
    "M3BG = data[\"M3B-Q16.png\"][measure] +data[\"M3B-Q17.png\"][measure] +data[\"M3B-Q18.png\"][measure]\n",
    "M4AL = data[\"M4A-Q19.png\"][measure] + data[\"M4A-Q20.png\"][measure] + data[\"M4A-Q24.png\"][measure] \n",
    "M4AG = data[\"M4A-Q22.png\"][measure] +data[\"M4A-Q23.png\"][measure] +data[\"M4A-Q21.png\"][measure]\n",
    "M4BL = data[\"M4B-Q19.png\"][measure] + data[\"M4B-Q20.png\"][measure] + data[\"M4B-Q24.png\"][measure] \n",
    "M4BG = data[\"M4B-Q22.png\"][measure] +data[\"M4B-Q23.png\"][measure] +data[\"M4B-Q21.png\"][measure]\n",
    "\n",
    "messyL = M1BL + M3AL + M2AL + M4BL\n",
    "messyG = M1BG + M3AG + M2AG + M4BG\n",
    "nonMessyL = M1AL + M3BL + M2BL + M4AL + messyL\n",
    "nonMessyG = M1AG + M3BG + M2BG + M4AG + messyG\n",
    "print len(nonMessyG)\n",
    "print measure + \"\\t|Mean\\t\\t|Variance\\t|Standard diviation\"\n",
    "print \"Messy Global \\t\\t|\" + str(np.mean(messyG)) + \"\\t|\" + str(np.var(messyG)) + \"\\t|\" + str(np.std(messyG))\n",
    "print \"Messy Local \\t\\t|\" + str(np.mean(messyL)) + \"\\t|\" + str(np.var(messyL)) + \"\\t|\" + str(np.std(messyL))\n",
    "print \"Non Messy Global \\t|\" + str(np.mean(nonMessyG)) + \"\\t|\" + str(np.var(nonMessyG)) + \"\\t|\" + str(np.std(nonMessyG)) + \"\\t\" + str(min(nonMessyG)) + \"\\t\" + str(max(nonMessyG))\n",
    "print \"Non Messy Local \\t|\" + str(np.mean(nonMessyL)) + \"\\t|\" + str(np.var(nonMessyL)) + \"\\t|\" + str(np.std(nonMessyL)) + \"\\t\" + str(min(nonMessyL)) + \"\\t\" + str(max(nonMessyL))"
   ]
  },
  {
   "cell_type": "code",
   "execution_count": 80,
   "metadata": {},
   "outputs": [
    {
     "name": "stdout",
     "output_type": "stream",
     "text": [
      "39\n",
      "fixationsPerSecond\t|Mean\t\t|Variance\t|Standard deviation\n",
      "Messy direction global \t|3.47454283925\t|0.145758404347\t|0.381783190236\t2.20163287772\t4.37268752102\n",
      "Non messy direction global \t|3.51311474226\t|0.187966651048\t|0.433551209256\t2.51148719998\t4.29400516622\n",
      "Messy direction local \t|3.43945369539\t|0.198133943227\t|0.44512239129\t1.94463259554\t5.0202948088\n",
      "Non messy direction local \t|3.55211497724\t|0.173395591926\t|0.416407963332\t2.65617314314\t4.42791356713\n",
      "Messy visibility global \t|3.34897284561\t|0.115408339172\t|0.339718028918\t2.4597811643\t4.21966731898\n",
      "Non messy visibility global \t|3.44316465035\t|0.256752594936\t|0.506707602998\t1.75262894342\t4.43915973048\n",
      "Messy visibility local \t|3.23836709876\t|0.211453012187\t|0.459840202883\t1.8936275317\t3.97292525015\n",
      "Non messy visibility local \t|3.44527041099\t|0.178561535433\t|0.422565421482\t2.60117052674\t4.59286192709\n"
     ]
    }
   ],
   "source": [
    "measure = \"fixationsPerSecond\"\n",
    "M1AL = data[\"M1A-Q01.png\"][measure] + data[\"M1A-Q02.png\"][measure] + data[\"M1A-Q03.png\"][measure] \n",
    "M1AG = data[\"M1A-Q04.png\"][measure] +data[\"M1A-Q05.png\"][measure] +data[\"M1A-Q06.png\"][measure]\n",
    "M1BL = data[\"M1B-Q01.png\"][measure] + data[\"M1B-Q02.png\"][measure] + data[\"M1B-Q03.png\"][measure] \n",
    "M1BG = data[\"M1B-Q04.png\"][measure] +data[\"M1B-Q05.png\"][measure] +data[\"M1B-Q06.png\"][measure]\n",
    "M2AL = data[\"M2A-Q07.png\"][measure] + data[\"M2A-Q08.png\"][measure] + data[\"M2A-Q09.png\"][measure] \n",
    "M2AG = data[\"M2A-Q10.png\"][measure] +data[\"M2A-Q11.png\"][measure] +data[\"M2A-Q12.png\"][measure]\n",
    "M2BL = data[\"M2B-Q07.png\"][measure] + data[\"M2B-Q08.png\"][measure] + data[\"M2B-Q09.png\"][measure] \n",
    "M2BG = data[\"M2B-Q10.png\"][measure] +data[\"M2B-Q11.png\"][measure] +data[\"M2B-Q12.png\"][measure]\n",
    "M3AL = data[\"M3A-Q13.png\"][measure] + data[\"M3A-Q14.png\"][measure] + data[\"M3A-Q15.png\"][measure] \n",
    "M3AG = data[\"M3A-Q16.png\"][measure] +data[\"M3A-Q17.png\"][measure] +data[\"M3A-Q18.png\"][measure]\n",
    "M3BL = data[\"M3B-Q13.png\"][measure] + data[\"M3B-Q14.png\"][measure] + data[\"M3B-Q15.png\"][measure] \n",
    "M3BG = data[\"M3B-Q16.png\"][measure] +data[\"M3B-Q17.png\"][measure] +data[\"M3B-Q18.png\"][measure]\n",
    "M4AL = data[\"M4A-Q19.png\"][measure] + data[\"M4A-Q20.png\"][measure] + data[\"M4A-Q24.png\"][measure] \n",
    "M4AG = data[\"M4A-Q22.png\"][measure] +data[\"M4A-Q23.png\"][measure] +data[\"M4A-Q21.png\"][measure]\n",
    "M4BL = data[\"M4B-Q19.png\"][measure] + data[\"M4B-Q20.png\"][measure] + data[\"M4B-Q24.png\"][measure] \n",
    "M4BG = data[\"M4B-Q22.png\"][measure] +data[\"M4B-Q23.png\"][measure] +data[\"M4B-Q21.png\"][measure]\n",
    "\n",
    "messyDirectionGlobal = M1BG + M3AG\n",
    "nonMessyDirectionGlobal = M1AG + M3BG\n",
    "messyDirectionLocal = M1BL + M3AL\n",
    "nonMessyDirectionLocal = M1AL + M3BL\n",
    "messyVisibilityGlobal = M2AG + M4BG\n",
    "nonMessyVisibilityGlobal = M2BG + M4AG\n",
    "messyVisibilityLocal = M2AL + M4BL\n",
    "nonMessyVisibilityLocal = M2BL + M4AL\n",
    "print len(messyDirectionGlobal)\n",
    "print measure + \"\\t|Mean\\t\\t|Variance\\t|Standard deviation\"\n",
    "print \"Messy direction global \\t|\" + str(np.mean(messyDirectionGlobal)) + \"\\t|\" + str(np.var(messyDirectionGlobal)) + \"\\t|\" + str(np.std(messyDirectionGlobal)) + \"\\t\" + str(min(messyDirectionGlobal)) + \"\\t\" + str(max(messyDirectionGlobal))\n",
    "print \"Non messy direction global \\t|\" + str(np.mean(nonMessyDirectionGlobal)) + \"\\t|\" + str(np.var(nonMessyDirectionGlobal)) + \"\\t|\" + str(np.std(nonMessyDirectionGlobal)) + \"\\t\" + str(min(nonMessyDirectionGlobal)) + \"\\t\" + str(max(nonMessyDirectionGlobal))\n",
    "print \"Messy direction local \\t|\" + str(np.mean(messyDirectionLocal)) + \"\\t|\" + str(np.var(messyDirectionLocal)) + \"\\t|\" + str(np.std(messyDirectionLocal)) + \"\\t\" + str(min(messyDirectionLocal)) + \"\\t\" + str(max(messyDirectionLocal))\n",
    "print \"Non messy direction local \\t|\" + str(np.mean(nonMessyDirectionLocal)) + \"\\t|\" + str(np.var(nonMessyDirectionLocal)) + \"\\t|\" + str(np.std(nonMessyDirectionLocal)) + \"\\t\" + str(min(nonMessyDirectionLocal)) + \"\\t\" + str(max(nonMessyDirectionLocal))\n",
    "print \"Messy visibility global \\t|\" + str(np.mean(messyVisibilityGlobal)) + \"\\t|\" + str(np.var(messyVisibilityGlobal)) + \"\\t|\" + str(np.std(messyVisibilityGlobal)) + \"\\t\" + str(min(messyVisibilityGlobal)) + \"\\t\" + str(max(messyVisibilityGlobal))\n",
    "print \"Non messy visibility global \\t|\" + str(np.mean(nonMessyVisibilityGlobal)) + \"\\t|\" + str(np.var(nonMessyVisibilityGlobal)) + \"\\t|\" + str(np.std(nonMessyVisibilityGlobal)) + \"\\t\" + str(min(nonMessyVisibilityGlobal)) + \"\\t\" + str(max(nonMessyVisibilityGlobal))\n",
    "print \"Messy visibility local \\t|\" + str(np.mean(messyVisibilityLocal)) + \"\\t|\" + str(np.var(messyVisibilityLocal)) + \"\\t|\" + str(np.std(messyVisibilityLocal)) + \"\\t\" + str(min(messyVisibilityLocal)) + \"\\t\" + str(max(messyVisibilityLocal))\n",
    "print \"Non messy visibility local \\t|\" + str(np.mean(nonMessyVisibilityLocal)) + \"\\t|\" + str(np.var(nonMessyVisibilityLocal)) + \"\\t|\" + str(np.std(nonMessyVisibilityLocal)) + \"\\t\" + str(min(nonMessyVisibilityLocal)) + \"\\t\" + str(max(nonMessyVisibilityLocal))"
   ]
  },
  {
   "cell_type": "code",
   "execution_count": 81,
   "metadata": {},
   "outputs": [
    {
     "name": "stdout",
     "output_type": "stream",
     "text": [
      "39\n",
      "fixationDuration\t|Mean\t\t|Variance\t|Standard deviation\n",
      "Messy direction global \t|0.226199930783\t|0.000829151726158\t|0.0287949948109\t0.159569230769\t0.281832116788\n",
      "Non messy direction global \t|0.221255096893\t|0.000888565956031\t|0.0298088234594\t0.1735859375\t0.280363636364\n",
      "Messy direction local \t|0.234848527358\t|0.0010706518362\t|0.0327208165577\t0.149520833333\t0.293\n",
      "Non messy direction local \t|0.224928432564\t|0.00107775887535\t|0.0328292381171\t0.166638297872\t0.300745098039\n",
      "Messy visibility global \t|0.238504455184\t|0.000906538450668\t|0.0301087769706\t0.169347826087\t0.292092307692\n",
      "Non messy visibility global \t|0.23052631333\t|0.00152632213173\t|0.0390681728742\t0.130833333333\t0.308814814815\n",
      "Messy visibility local \t|0.245181266719\t|0.00185491619969\t|0.0430687380786\t0.171666666667\t0.35656122449\n",
      "Non messy visibility local \t|0.236374562687\t|0.00120366825466\t|0.0346939224456\t0.166655737705\t0.309149253731\n"
     ]
    }
   ],
   "source": [
    "measure = \"fixationDuration\"\n",
    "M1AL = data[\"M1A-Q01.png\"][measure] + data[\"M1A-Q02.png\"][measure] + data[\"M1A-Q03.png\"][measure] \n",
    "M1AG = data[\"M1A-Q04.png\"][measure] +data[\"M1A-Q05.png\"][measure] +data[\"M1A-Q06.png\"][measure]\n",
    "M1BL = data[\"M1B-Q01.png\"][measure] + data[\"M1B-Q02.png\"][measure] + data[\"M1B-Q03.png\"][measure] \n",
    "M1BG = data[\"M1B-Q04.png\"][measure] +data[\"M1B-Q05.png\"][measure] +data[\"M1B-Q06.png\"][measure]\n",
    "M2AL = data[\"M2A-Q07.png\"][measure] + data[\"M2A-Q08.png\"][measure] + data[\"M2A-Q09.png\"][measure] \n",
    "M2AG = data[\"M2A-Q10.png\"][measure] +data[\"M2A-Q11.png\"][measure] +data[\"M2A-Q12.png\"][measure]\n",
    "M2BL = data[\"M2B-Q07.png\"][measure] + data[\"M2B-Q08.png\"][measure] + data[\"M2B-Q09.png\"][measure] \n",
    "M2BG = data[\"M2B-Q10.png\"][measure] +data[\"M2B-Q11.png\"][measure] +data[\"M2B-Q12.png\"][measure]\n",
    "M3AL = data[\"M3A-Q13.png\"][measure] + data[\"M3A-Q14.png\"][measure] + data[\"M3A-Q15.png\"][measure] \n",
    "M3AG = data[\"M3A-Q16.png\"][measure] +data[\"M3A-Q17.png\"][measure] +data[\"M3A-Q18.png\"][measure]\n",
    "M3BL = data[\"M3B-Q13.png\"][measure] + data[\"M3B-Q14.png\"][measure] + data[\"M3B-Q15.png\"][measure] \n",
    "M3BG = data[\"M3B-Q16.png\"][measure] +data[\"M3B-Q17.png\"][measure] +data[\"M3B-Q18.png\"][measure]\n",
    "M4AL = data[\"M4A-Q19.png\"][measure] + data[\"M4A-Q20.png\"][measure] + data[\"M4A-Q24.png\"][measure] \n",
    "M4AG = data[\"M4A-Q22.png\"][measure] +data[\"M4A-Q23.png\"][measure] +data[\"M4A-Q21.png\"][measure]\n",
    "M4BL = data[\"M4B-Q19.png\"][measure] + data[\"M4B-Q20.png\"][measure] + data[\"M4B-Q24.png\"][measure] \n",
    "M4BG = data[\"M4B-Q22.png\"][measure] +data[\"M4B-Q23.png\"][measure] +data[\"M4B-Q21.png\"][measure]\n",
    "\n",
    "messyDirectionGlobal = M1BG + M3AG\n",
    "nonMessyDirectionGlobal = M1AG + M3BG\n",
    "messyDirectionLocal = M1BL + M3AL\n",
    "nonMessyDirectionLocal = M1AL + M3BL\n",
    "messyVisibilityGlobal = M2AG + M4BG\n",
    "nonMessyVisibilityGlobal = M2BG + M4AG\n",
    "messyVisibilityLocal = M2AL + M4BL\n",
    "nonMessyVisibilityLocal = M2BL + M4AL\n",
    "print len(messyDirectionGlobal)\n",
    "print measure + \"\\t|Mean\\t\\t|Variance\\t|Standard deviation\"\n",
    "print \"Messy direction global \\t|\" + str(np.mean(messyDirectionGlobal)) + \"\\t|\" + str(np.var(messyDirectionGlobal)) + \"\\t|\" + str(np.std(messyDirectionGlobal)) + \"\\t\" + str(min(messyDirectionGlobal)) + \"\\t\" + str(max(messyDirectionGlobal))\n",
    "print \"Non messy direction global \\t|\" + str(np.mean(nonMessyDirectionGlobal)) + \"\\t|\" + str(np.var(nonMessyDirectionGlobal)) + \"\\t|\" + str(np.std(nonMessyDirectionGlobal)) + \"\\t\" + str(min(nonMessyDirectionGlobal)) + \"\\t\" + str(max(nonMessyDirectionGlobal))\n",
    "print \"Messy direction local \\t|\" + str(np.mean(messyDirectionLocal)) + \"\\t|\" + str(np.var(messyDirectionLocal)) + \"\\t|\" + str(np.std(messyDirectionLocal)) + \"\\t\" + str(min(messyDirectionLocal)) + \"\\t\" + str(max(messyDirectionLocal))\n",
    "print \"Non messy direction local \\t|\" + str(np.mean(nonMessyDirectionLocal)) + \"\\t|\" + str(np.var(nonMessyDirectionLocal)) + \"\\t|\" + str(np.std(nonMessyDirectionLocal)) + \"\\t\" + str(min(nonMessyDirectionLocal)) + \"\\t\" + str(max(nonMessyDirectionLocal))\n",
    "print \"Messy visibility global \\t|\" + str(np.mean(messyVisibilityGlobal)) + \"\\t|\" + str(np.var(messyVisibilityGlobal)) + \"\\t|\" + str(np.std(messyVisibilityGlobal)) + \"\\t\" + str(min(messyVisibilityGlobal)) + \"\\t\" + str(max(messyVisibilityGlobal))\n",
    "print \"Non messy visibility global \\t|\" + str(np.mean(nonMessyVisibilityGlobal)) + \"\\t|\" + str(np.var(nonMessyVisibilityGlobal)) + \"\\t|\" + str(np.std(nonMessyVisibilityGlobal)) + \"\\t\" + str(min(nonMessyVisibilityGlobal)) + \"\\t\" + str(max(nonMessyVisibilityGlobal))\n",
    "print \"Messy visibility local \\t|\" + str(np.mean(messyVisibilityLocal)) + \"\\t|\" + str(np.var(messyVisibilityLocal)) + \"\\t|\" + str(np.std(messyVisibilityLocal)) + \"\\t\" + str(min(messyVisibilityLocal)) + \"\\t\" + str(max(messyVisibilityLocal))\n",
    "print \"Non messy visibility local \\t|\" + str(np.mean(nonMessyVisibilityLocal)) + \"\\t|\" + str(np.var(nonMessyVisibilityLocal)) + \"\\t|\" + str(np.std(nonMessyVisibilityLocal)) + \"\\t\" + str(min(nonMessyVisibilityLocal)) + \"\\t\" + str(max(nonMessyVisibilityLocal))"
   ]
  },
  {
   "cell_type": "code",
   "execution_count": 82,
   "metadata": {},
   "outputs": [
    {
     "name": "stdout",
     "output_type": "stream",
     "text": [
      "39\n",
      "saccadeVelocityList\t|Mean\t\t|Variance\t|Standard deviation\n",
      "Messy direction global \t|4.76000976254\t|1.09945339109\t|1.04854823022\t3.27571428571\t7.89471698113\n",
      "Non messy direction global \t|5.00075376293\t|1.27708813616\t|1.13008324302\t2.98181818182\t7.47135135135\n",
      "Messy direction local \t|4.49625957661\t|1.3809881757\t|1.17515453269\t2.56\t7.52828125\n",
      "Non messy direction local \t|4.72354913323\t|1.242853646\t|1.11483346111\t3.06391304348\t7.09164705882\n",
      "Messy visibility global \t|3.92851417409\t|0.696305180766\t|0.834449028261\t2.4856626506\t5.97259259259\n",
      "Non messy visibility global \t|4.18031405655\t|1.28652925047\t|1.13425272778\t2.51059322034\t7.85952380952\n",
      "Messy visibility local \t|3.66230413314\t|0.68023330704\t|0.824762576163\t2.28357142857\t5.33434782609\n",
      "Non messy visibility local \t|4.1066992212\t|1.07896157772\t|1.03873075323\t2.26119402985\t6.70702702703\n"
     ]
    }
   ],
   "source": [
    "measure = \"saccadeVelocityList\"\n",
    "M1AL = data[\"M1A-Q01.png\"][measure] + data[\"M1A-Q02.png\"][measure] + data[\"M1A-Q03.png\"][measure] \n",
    "M1AG = data[\"M1A-Q04.png\"][measure] +data[\"M1A-Q05.png\"][measure] +data[\"M1A-Q06.png\"][measure]\n",
    "M1BL = data[\"M1B-Q01.png\"][measure] + data[\"M1B-Q02.png\"][measure] + data[\"M1B-Q03.png\"][measure] \n",
    "M1BG = data[\"M1B-Q04.png\"][measure] +data[\"M1B-Q05.png\"][measure] +data[\"M1B-Q06.png\"][measure]\n",
    "M2AL = data[\"M2A-Q07.png\"][measure] + data[\"M2A-Q08.png\"][measure] + data[\"M2A-Q09.png\"][measure] \n",
    "M2AG = data[\"M2A-Q10.png\"][measure] +data[\"M2A-Q11.png\"][measure] +data[\"M2A-Q12.png\"][measure]\n",
    "M2BL = data[\"M2B-Q07.png\"][measure] + data[\"M2B-Q08.png\"][measure] + data[\"M2B-Q09.png\"][measure] \n",
    "M2BG = data[\"M2B-Q10.png\"][measure] +data[\"M2B-Q11.png\"][measure] +data[\"M2B-Q12.png\"][measure]\n",
    "M3AL = data[\"M3A-Q13.png\"][measure] + data[\"M3A-Q14.png\"][measure] + data[\"M3A-Q15.png\"][measure] \n",
    "M3AG = data[\"M3A-Q16.png\"][measure] +data[\"M3A-Q17.png\"][measure] +data[\"M3A-Q18.png\"][measure]\n",
    "M3BL = data[\"M3B-Q13.png\"][measure] + data[\"M3B-Q14.png\"][measure] + data[\"M3B-Q15.png\"][measure] \n",
    "M3BG = data[\"M3B-Q16.png\"][measure] +data[\"M3B-Q17.png\"][measure] +data[\"M3B-Q18.png\"][measure]\n",
    "M4AL = data[\"M4A-Q19.png\"][measure] + data[\"M4A-Q20.png\"][measure] + data[\"M4A-Q24.png\"][measure] \n",
    "M4AG = data[\"M4A-Q22.png\"][measure] +data[\"M4A-Q23.png\"][measure] +data[\"M4A-Q21.png\"][measure]\n",
    "M4BL = data[\"M4B-Q19.png\"][measure] + data[\"M4B-Q20.png\"][measure] + data[\"M4B-Q24.png\"][measure] \n",
    "M4BG = data[\"M4B-Q22.png\"][measure] +data[\"M4B-Q23.png\"][measure] +data[\"M4B-Q21.png\"][measure]\n",
    "\n",
    "messyDirectionGlobal = M1BG + M3AG\n",
    "nonMessyDirectionGlobal = M1AG + M3BG\n",
    "messyDirectionLocal = M1BL + M3AL\n",
    "nonMessyDirectionLocal = M1AL + M3BL\n",
    "messyVisibilityGlobal = M2AG + M4BG\n",
    "nonMessyVisibilityGlobal = M2BG + M4AG\n",
    "messyVisibilityLocal = M2AL + M4BL\n",
    "nonMessyVisibilityLocal = M2BL + M4AL\n",
    "\n",
    "print len(messyDirectionGlobal)\n",
    "print measure + \"\\t|Mean\\t\\t|Variance\\t|Standard deviation\"\n",
    "print \"Messy direction global \\t|\" + str(np.mean(messyDirectionGlobal)) + \"\\t|\" + str(np.var(messyDirectionGlobal)) + \"\\t|\" + str(np.std(messyDirectionGlobal)) + \"\\t\" + str(min(messyDirectionGlobal)) + \"\\t\" + str(max(messyDirectionGlobal))\n",
    "print \"Non messy direction global \\t|\" + str(np.mean(nonMessyDirectionGlobal)) + \"\\t|\" + str(np.var(nonMessyDirectionGlobal)) + \"\\t|\" + str(np.std(nonMessyDirectionGlobal)) + \"\\t\" + str(min(nonMessyDirectionGlobal)) + \"\\t\" + str(max(nonMessyDirectionGlobal))\n",
    "print \"Messy direction local \\t|\" + str(np.mean(messyDirectionLocal)) + \"\\t|\" + str(np.var(messyDirectionLocal)) + \"\\t|\" + str(np.std(messyDirectionLocal)) + \"\\t\" + str(min(messyDirectionLocal)) + \"\\t\" + str(max(messyDirectionLocal))\n",
    "print \"Non messy direction local \\t|\" + str(np.mean(nonMessyDirectionLocal)) + \"\\t|\" + str(np.var(nonMessyDirectionLocal)) + \"\\t|\" + str(np.std(nonMessyDirectionLocal)) + \"\\t\" + str(min(nonMessyDirectionLocal)) + \"\\t\" + str(max(nonMessyDirectionLocal))\n",
    "print \"Messy visibility global \\t|\" + str(np.mean(messyVisibilityGlobal)) + \"\\t|\" + str(np.var(messyVisibilityGlobal)) + \"\\t|\" + str(np.std(messyVisibilityGlobal)) + \"\\t\" + str(min(messyVisibilityGlobal)) + \"\\t\" + str(max(messyVisibilityGlobal))\n",
    "print \"Non messy visibility global \\t|\" + str(np.mean(nonMessyVisibilityGlobal)) + \"\\t|\" + str(np.var(nonMessyVisibilityGlobal)) + \"\\t|\" + str(np.std(nonMessyVisibilityGlobal)) + \"\\t\" + str(min(nonMessyVisibilityGlobal)) + \"\\t\" + str(max(nonMessyVisibilityGlobal))\n",
    "print \"Messy visibility local \\t|\" + str(np.mean(messyVisibilityLocal)) + \"\\t|\" + str(np.var(messyVisibilityLocal)) + \"\\t|\" + str(np.std(messyVisibilityLocal)) + \"\\t\" + str(min(messyVisibilityLocal)) + \"\\t\" + str(max(messyVisibilityLocal))\n",
    "print \"Non messy visibility local \\t|\" + str(np.mean(nonMessyVisibilityLocal)) + \"\\t|\" + str(np.var(nonMessyVisibilityLocal)) + \"\\t|\" + str(np.std(nonMessyVisibilityLocal)) + \"\\t\" + str(min(nonMessyVisibilityLocal)) + \"\\t\" + str(max(nonMessyVisibilityLocal))"
   ]
  },
  {
   "cell_type": "code",
   "execution_count": 83,
   "metadata": {},
   "outputs": [
    {
     "name": "stdout",
     "output_type": "stream",
     "text": [
      "39\n",
      "amountOfFixations\t|Mean\t\t|Variance\t|Standard deviation\n",
      "Messy direction global \t|130.538461538\t|2003.17159763\t|44.7568050427\t57\t240\n",
      "Non messy direction global \t|113.948717949\t|1714.76660092\t|41.4097404112\t38\t202\n",
      "Messy direction local \t|70.2307692308\t|1253.15187377\t|35.3998852225\t25\t208\n",
      "Non messy direction local \t|64.0\t|1372.35897436\t|37.0453637364\t19\t221\n",
      "Messy visibility global \t|102.615384615\t|1880.49309665\t|43.3646526176\t37\t270\n",
      "Non messy visibility global \t|92.4871794872\t|2614.30111769\t|51.1302368241\t21\t243\n",
      "Messy visibility local \t|68.0\t|691.076923077\t|26.2883419614\t23\t122\n",
      "Non messy visibility local \t|55.6153846154\t|626.903353057\t|25.0380381232\t20\t122\n"
     ]
    }
   ],
   "source": [
    "measure = \"amountOfFixations\"\n",
    "M1AL = data[\"M1A-Q01.png\"][measure] + data[\"M1A-Q02.png\"][measure] + data[\"M1A-Q03.png\"][measure] \n",
    "M1AG = data[\"M1A-Q04.png\"][measure] +data[\"M1A-Q05.png\"][measure] +data[\"M1A-Q06.png\"][measure]\n",
    "M1BL = data[\"M1B-Q01.png\"][measure] + data[\"M1B-Q02.png\"][measure] + data[\"M1B-Q03.png\"][measure] \n",
    "M1BG = data[\"M1B-Q04.png\"][measure] +data[\"M1B-Q05.png\"][measure] +data[\"M1B-Q06.png\"][measure]\n",
    "M2AL = data[\"M2A-Q07.png\"][measure] + data[\"M2A-Q08.png\"][measure] + data[\"M2A-Q09.png\"][measure] \n",
    "M2AG = data[\"M2A-Q10.png\"][measure] +data[\"M2A-Q11.png\"][measure] +data[\"M2A-Q12.png\"][measure]\n",
    "M2BL = data[\"M2B-Q07.png\"][measure] + data[\"M2B-Q08.png\"][measure] + data[\"M2B-Q09.png\"][measure] \n",
    "M2BG = data[\"M2B-Q10.png\"][measure] +data[\"M2B-Q11.png\"][measure] +data[\"M2B-Q12.png\"][measure]\n",
    "M3AL = data[\"M3A-Q13.png\"][measure] + data[\"M3A-Q14.png\"][measure] + data[\"M3A-Q15.png\"][measure] \n",
    "M3AG = data[\"M3A-Q16.png\"][measure] +data[\"M3A-Q17.png\"][measure] +data[\"M3A-Q18.png\"][measure]\n",
    "M3BL = data[\"M3B-Q13.png\"][measure] + data[\"M3B-Q14.png\"][measure] + data[\"M3B-Q15.png\"][measure] \n",
    "M3BG = data[\"M3B-Q16.png\"][measure] +data[\"M3B-Q17.png\"][measure] +data[\"M3B-Q18.png\"][measure]\n",
    "M4AL = data[\"M4A-Q19.png\"][measure] + data[\"M4A-Q20.png\"][measure] + data[\"M4A-Q24.png\"][measure] \n",
    "M4AG = data[\"M4A-Q22.png\"][measure] +data[\"M4A-Q23.png\"][measure] +data[\"M4A-Q21.png\"][measure]\n",
    "M4BL = data[\"M4B-Q19.png\"][measure] + data[\"M4B-Q20.png\"][measure] + data[\"M4B-Q24.png\"][measure] \n",
    "M4BG = data[\"M4B-Q22.png\"][measure] +data[\"M4B-Q23.png\"][measure] +data[\"M4B-Q21.png\"][measure]\n",
    "\n",
    "messyDirectionGlobal = M1BG + M3AG\n",
    "nonMessyDirectionGlobal = M1AG + M3BG\n",
    "messyDirectionLocal = M1BL + M3AL\n",
    "nonMessyDirectionLocal = M1AL + M3BL\n",
    "messyVisibilityGlobal = M2AG + M4BG\n",
    "nonMessyVisibilityGlobal = M2BG + M4AG\n",
    "messyVisibilityLocal = M2AL + M4BL\n",
    "nonMessyVisibilityLocal = M2BL + M4AL\n",
    "print len(messyDirectionGlobal)\n",
    "print measure + \"\\t|Mean\\t\\t|Variance\\t|Standard deviation\"\n",
    "print \"Messy direction global \\t|\" + str(np.mean(messyDirectionGlobal)) + \"\\t|\" + str(np.var(messyDirectionGlobal)) + \"\\t|\" + str(np.std(messyDirectionGlobal)) + \"\\t\" + str(min(messyDirectionGlobal)) + \"\\t\" + str(max(messyDirectionGlobal))\n",
    "print \"Non messy direction global \\t|\" + str(np.mean(nonMessyDirectionGlobal)) + \"\\t|\" + str(np.var(nonMessyDirectionGlobal)) + \"\\t|\" + str(np.std(nonMessyDirectionGlobal)) + \"\\t\" + str(min(nonMessyDirectionGlobal)) + \"\\t\" + str(max(nonMessyDirectionGlobal))\n",
    "print \"Messy direction local \\t|\" + str(np.mean(messyDirectionLocal)) + \"\\t|\" + str(np.var(messyDirectionLocal)) + \"\\t|\" + str(np.std(messyDirectionLocal)) + \"\\t\" + str(min(messyDirectionLocal)) + \"\\t\" + str(max(messyDirectionLocal))\n",
    "print \"Non messy direction local \\t|\" + str(np.mean(nonMessyDirectionLocal)) + \"\\t|\" + str(np.var(nonMessyDirectionLocal)) + \"\\t|\" + str(np.std(nonMessyDirectionLocal)) + \"\\t\" + str(min(nonMessyDirectionLocal)) + \"\\t\" + str(max(nonMessyDirectionLocal))\n",
    "print \"Messy visibility global \\t|\" + str(np.mean(messyVisibilityGlobal)) + \"\\t|\" + str(np.var(messyVisibilityGlobal)) + \"\\t|\" + str(np.std(messyVisibilityGlobal)) + \"\\t\" + str(min(messyVisibilityGlobal)) + \"\\t\" + str(max(messyVisibilityGlobal))\n",
    "print \"Non messy visibility global \\t|\" + str(np.mean(nonMessyVisibilityGlobal)) + \"\\t|\" + str(np.var(nonMessyVisibilityGlobal)) + \"\\t|\" + str(np.std(nonMessyVisibilityGlobal)) + \"\\t\" + str(min(nonMessyVisibilityGlobal)) + \"\\t\" + str(max(nonMessyVisibilityGlobal))\n",
    "print \"Messy visibility local \\t|\" + str(np.mean(messyVisibilityLocal)) + \"\\t|\" + str(np.var(messyVisibilityLocal)) + \"\\t|\" + str(np.std(messyVisibilityLocal)) + \"\\t\" + str(min(messyVisibilityLocal)) + \"\\t\" + str(max(messyVisibilityLocal))\n",
    "print \"Non messy visibility local \\t|\" + str(np.mean(nonMessyVisibilityLocal)) + \"\\t|\" + str(np.var(nonMessyVisibilityLocal)) + \"\\t|\" + str(np.std(nonMessyVisibilityLocal)) + \"\\t\" + str(min(nonMessyVisibilityLocal)) + \"\\t\" + str(max(nonMessyVisibilityLocal))"
   ]
  },
  {
   "cell_type": "code",
   "execution_count": 84,
   "metadata": {},
   "outputs": [
    {
     "name": "stdout",
     "output_type": "stream",
     "text": [
      "[8.419, 5.806, 6.3, 5.646, 11.145, 8.269]\n"
     ]
    }
   ],
   "source": [
    "print data[\"M3B-Q15.png\"][\"duration\"]"
   ]
  },
  {
   "cell_type": "code",
   "execution_count": 85,
   "metadata": {},
   "outputs": [
    {
     "name": "stdout",
     "output_type": "stream",
     "text": [
      "39\n",
      "duration\t|Mean\t\t|Variance\t|Standard deviation\n",
      "Messy direction global \t|38.0456153846\t|176.813718339\t|13.2971319592\t14.518\t71.298\n",
      "Non messy direction global \t|32.9828717949\t|160.841944419\t|12.6823477487\t11.241\t65.212\n",
      "Messy direction local \t|20.9642307692\t|121.941980229\t|11.0427342732\t7.093\t55.02\n",
      "Non messy direction local \t|18.3203846154\t|125.023174698\t|11.1813762435\t5.646\t66.829\n",
      "Messy visibility global \t|31.1838974359\t|197.203639118\t|14.0429213171\t10.152\t84.806\n",
      "Non messy visibility global \t|27.9785897436\t|292.047907319\t|17.089409215\t5.915\t87.622\n",
      "Messy visibility local \t|21.1774358974\t|67.5168014767\t|8.21686080426\t6.796\t41.118\n",
      "Non messy visibility local \t|16.4937948718\t|64.7587898041\t|8.04728462303\t5.966\t43.838\n"
     ]
    }
   ],
   "source": [
    "measure = \"duration\"\n",
    "M1AL = data[\"M1A-Q01.png\"][measure] + data[\"M1A-Q02.png\"][measure] + data[\"M1A-Q03.png\"][measure] \n",
    "M1AG = data[\"M1A-Q04.png\"][measure] +data[\"M1A-Q05.png\"][measure] +data[\"M1A-Q06.png\"][measure]\n",
    "M1BL = data[\"M1B-Q01.png\"][measure] + data[\"M1B-Q02.png\"][measure] + data[\"M1B-Q03.png\"][measure] \n",
    "M1BG = data[\"M1B-Q04.png\"][measure] +data[\"M1B-Q05.png\"][measure] +data[\"M1B-Q06.png\"][measure]\n",
    "M2AL = data[\"M2A-Q07.png\"][measure] + data[\"M2A-Q08.png\"][measure] + data[\"M2A-Q09.png\"][measure] \n",
    "M2AG = data[\"M2A-Q10.png\"][measure] +data[\"M2A-Q11.png\"][measure] +data[\"M2A-Q12.png\"][measure]\n",
    "M2BL = data[\"M2B-Q07.png\"][measure] + data[\"M2B-Q08.png\"][measure] + data[\"M2B-Q09.png\"][measure] \n",
    "M2BG = data[\"M2B-Q10.png\"][measure] +data[\"M2B-Q11.png\"][measure] +data[\"M2B-Q12.png\"][measure]\n",
    "M3AL = data[\"M3A-Q13.png\"][measure] + data[\"M3A-Q14.png\"][measure] + data[\"M3A-Q15.png\"][measure] \n",
    "M3AG = data[\"M3A-Q16.png\"][measure] +data[\"M3A-Q17.png\"][measure] +data[\"M3A-Q18.png\"][measure]\n",
    "M3BL = data[\"M3B-Q13.png\"][measure] + data[\"M3B-Q14.png\"][measure] + data[\"M3B-Q15.png\"][measure] \n",
    "M3BG = data[\"M3B-Q16.png\"][measure] +data[\"M3B-Q17.png\"][measure] +data[\"M3B-Q18.png\"][measure]\n",
    "M4AL = data[\"M4A-Q19.png\"][measure] + data[\"M4A-Q20.png\"][measure] + data[\"M4A-Q24.png\"][measure] \n",
    "M4AG = data[\"M4A-Q22.png\"][measure] +data[\"M4A-Q23.png\"][measure] +data[\"M4A-Q21.png\"][measure]\n",
    "M4BL = data[\"M4B-Q19.png\"][measure] + data[\"M4B-Q20.png\"][measure] + data[\"M4B-Q24.png\"][measure] \n",
    "M4BG = data[\"M4B-Q22.png\"][measure] +data[\"M4B-Q23.png\"][measure] +data[\"M4B-Q21.png\"][measure]\n",
    "\n",
    "messyDirectionGlobal = M1BG + M3AG\n",
    "nonMessyDirectionGlobal = M1AG + M3BG\n",
    "messyDirectionLocal = M1BL + M3AL\n",
    "nonMessyDirectionLocal = M1AL + M3BL\n",
    "messyVisibilityGlobal = M2AG + M4BG\n",
    "nonMessyVisibilityGlobal = M2BG + M4AG\n",
    "messyVisibilityLocal = M2AL + M4BL\n",
    "nonMessyVisibilityLocal = M2BL + M4AL\n",
    "\n",
    "print len(messyDirectionGlobal)\n",
    "print measure + \"\\t|Mean\\t\\t|Variance\\t|Standard deviation\"\n",
    "print \"Messy direction global \\t|\" + str(np.mean(messyDirectionGlobal)) + \"\\t|\" + str(np.var(messyDirectionGlobal)) + \"\\t|\" + str(np.std(messyDirectionGlobal)) + \"\\t\" + str(min(messyDirectionGlobal)) + \"\\t\" + str(max(messyDirectionGlobal))\n",
    "print \"Non messy direction global \\t|\" + str(np.mean(nonMessyDirectionGlobal)) + \"\\t|\" + str(np.var(nonMessyDirectionGlobal)) + \"\\t|\" + str(np.std(nonMessyDirectionGlobal)) + \"\\t\" + str(min(nonMessyDirectionGlobal)) + \"\\t\" + str(max(nonMessyDirectionGlobal))\n",
    "print \"Messy direction local \\t|\" + str(np.mean(messyDirectionLocal)) + \"\\t|\" + str(np.var(messyDirectionLocal)) + \"\\t|\" + str(np.std(messyDirectionLocal)) + \"\\t\" + str(min(messyDirectionLocal)) + \"\\t\" + str(max(messyDirectionLocal))\n",
    "print \"Non messy direction local \\t|\" + str(np.mean(nonMessyDirectionLocal)) + \"\\t|\" + str(np.var(nonMessyDirectionLocal)) + \"\\t|\" + str(np.std(nonMessyDirectionLocal)) + \"\\t\" + str(min(nonMessyDirectionLocal)) + \"\\t\" + str(max(nonMessyDirectionLocal))\n",
    "print \"Messy visibility global \\t|\" + str(np.mean(messyVisibilityGlobal)) + \"\\t|\" + str(np.var(messyVisibilityGlobal)) + \"\\t|\" + str(np.std(messyVisibilityGlobal)) + \"\\t\" + str(min(messyVisibilityGlobal)) + \"\\t\" + str(max(messyVisibilityGlobal))\n",
    "print \"Non messy visibility global \\t|\" + str(np.mean(nonMessyVisibilityGlobal)) + \"\\t|\" + str(np.var(nonMessyVisibilityGlobal)) + \"\\t|\" + str(np.std(nonMessyVisibilityGlobal)) + \"\\t\" + str(min(nonMessyVisibilityGlobal)) + \"\\t\" + str(max(nonMessyVisibilityGlobal))\n",
    "print \"Messy visibility local \\t|\" + str(np.mean(messyVisibilityLocal)) + \"\\t|\" + str(np.var(messyVisibilityLocal)) + \"\\t|\" + str(np.std(messyVisibilityLocal)) + \"\\t\" + str(min(messyVisibilityLocal)) + \"\\t\" + str(max(messyVisibilityLocal))\n",
    "print \"Non messy visibility local \\t|\" + str(np.mean(nonMessyVisibilityLocal)) + \"\\t|\" + str(np.var(nonMessyVisibilityLocal)) + \"\\t|\" + str(np.std(nonMessyVisibilityLocal)) + \"\\t\" + str(min(nonMessyVisibilityLocal)) + \"\\t\" + str(max(nonMessyVisibilityLocal))"
   ]
  },
  {
   "cell_type": "code",
   "execution_count": 86,
   "metadata": {},
   "outputs": [
    {
     "name": "stdout",
     "output_type": "stream",
     "text": [
      "13\n",
      "accuracy\t|Mean\t\t|Variance\t|Standard deviation\n",
      "Messy direction global \t|2.0\t|1.07692307692\t|1.03774904333\t0\t3\n",
      "Non messy direction global \t|2.0\t|0.615384615385\t|0.784464540553\t1\t3\n",
      "Messy direction local \t|2.61538461538\t|0.698224852071\t|0.835598499323\t0\t3\n",
      "Non messy direction local \t|2.38461538462\t|0.544378698225\t|0.737820234356\t1\t3\n",
      "Messy visibility global \t|2.15384615385\t|0.591715976331\t|0.769230769231\t1\t3\n",
      "Non messy visibility global \t|2.15384615385\t|0.591715976331\t|0.769230769231\t1\t3\n",
      "Messy visibility local \t|2.92307692308\t|0.0710059171598\t|0.266469355011\t2\t3\n",
      "Non messy visibility local \t|2.69230769231\t|0.366863905325\t|0.605692913386\t1\t3\n"
     ]
    }
   ],
   "source": [
    "measure = \"accuracy\"\n",
    "M1AL = []\n",
    "for index in xrange(len(data[\"M1A-Q01.png\"][measure])):\n",
    "    M1AL.append(data[\"M1A-Q01.png\"][measure][index]+data[\"M1A-Q02.png\"][measure][index]+data[\"M1A-Q03.png\"][measure][index])\n",
    "M1AG = []\n",
    "for index in xrange(len(data[\"M1A-Q04.png\"][measure])):\n",
    "    M1AG.append(data[\"M1A-Q04.png\"][measure][index]+data[\"M1A-Q05.png\"][measure][index]+data[\"M1A-Q06.png\"][measure][index])\n",
    "M1BL = []\n",
    "for index in xrange(len(data[\"M1B-Q01.png\"][measure])):\n",
    "    M1BL.append(data[\"M1B-Q01.png\"][measure][index]+data[\"M1B-Q02.png\"][measure][index]+data[\"M1B-Q03.png\"][measure][index])\n",
    "M1BG = []\n",
    "for index in xrange(len(data[\"M1B-Q04.png\"][measure])):\n",
    "    M1BG.append(data[\"M1B-Q04.png\"][measure][index]+data[\"M1B-Q05.png\"][measure][index]+data[\"M1B-Q06.png\"][measure][index])\n",
    "M2AL = []\n",
    "for index in xrange(len(data[\"M2A-Q07.png\"][measure])):\n",
    "    M2AL.append(data[\"M2A-Q07.png\"][measure][index]+data[\"M2A-Q08.png\"][measure][index]+data[\"M2A-Q09.png\"][measure][index])\n",
    "M2AG = []\n",
    "for index in xrange(len(data[\"M2A-Q10.png\"][measure])):\n",
    "    M2AG.append(data[\"M2A-Q10.png\"][measure][index]+data[\"M2A-Q11.png\"][measure][index]+data[\"M2A-Q12.png\"][measure][index])\n",
    "M2BL = []\n",
    "for index in xrange(len(data[\"M2B-Q07.png\"][measure])):\n",
    "    M2BL.append(data[\"M2B-Q07.png\"][measure][index]+data[\"M2B-Q08.png\"][measure][index]+data[\"M2B-Q09.png\"][measure][index])\n",
    "M2BG = []\n",
    "for index in xrange(len(data[\"M2B-Q10.png\"][measure])):\n",
    "    M2BG.append(data[\"M2B-Q10.png\"][measure][index]+data[\"M2B-Q11.png\"][measure][index]+data[\"M2B-Q12.png\"][measure][index])\n",
    "M3AL = []\n",
    "for index in xrange(len(data[\"M3A-Q13.png\"][measure])):\n",
    "    M3AL.append(data[\"M3A-Q13.png\"][measure][index]+data[\"M3A-Q14.png\"][measure][index]+data[\"M3A-Q15.png\"][measure][index])\n",
    "M3AG = []\n",
    "for index in xrange(len(data[\"M3A-Q16.png\"][measure])):\n",
    "    M3AG.append(data[\"M3A-Q16.png\"][measure][index]+data[\"M3A-Q17.png\"][measure][index]+data[\"M3A-Q18.png\"][measure][index])\n",
    "M3BL = []\n",
    "for index in xrange(len(data[\"M3B-Q13.png\"][measure])):\n",
    "    M3BL.append(data[\"M3B-Q13.png\"][measure][index]+data[\"M3B-Q14.png\"][measure][index]+data[\"M3B-Q15.png\"][measure][index])\n",
    "M3BG = []\n",
    "for index in xrange(len(data[\"M3B-Q16.png\"][measure])):\n",
    "    M3BG.append(data[\"M3B-Q16.png\"][measure][index]+data[\"M3B-Q17.png\"][measure][index]+data[\"M3B-Q18.png\"][measure][index])\n",
    "M4AL = []\n",
    "for index in xrange(len(data[\"M4A-Q19.png\"][measure])):\n",
    "    M4AL.append(data[\"M4A-Q19.png\"][measure][index]+data[\"M4A-Q20.png\"][measure][index]+data[\"M4A-Q24.png\"][measure][index])\n",
    "M4AG = []\n",
    "for index in xrange(len(data[\"M4A-Q22.png\"][measure])):\n",
    "    M4AG.append(data[\"M4A-Q22.png\"][measure][index]+data[\"M4A-Q23.png\"][measure][index]+data[\"M4A-Q21.png\"][measure][index])\n",
    "M4BL = []\n",
    "for index in xrange(len(data[\"M4B-Q19.png\"][measure])):\n",
    "    M4BL.append(data[\"M4B-Q19.png\"][measure][index]+data[\"M4B-Q20.png\"][measure][index]+data[\"M4B-Q24.png\"][measure][index])\n",
    "M4BG = []\n",
    "for index in xrange(len(data[\"M4B-Q22.png\"][measure])):\n",
    "    M4BG.append(data[\"M4B-Q22.png\"][measure][index]+data[\"M4B-Q23.png\"][measure][index]+data[\"M4B-Q21.png\"][measure][index])\n",
    "\n",
    "messyDirectionGlobal = M1BG + M3AG\n",
    "nonMessyDirectionGlobal = M1AG + M3BG\n",
    "messyDirectionLocal = M1BL + M3AL\n",
    "nonMessyDirectionLocal = M1AL + M3BL\n",
    "messyVisibilityGlobal = M2AG + M4BG\n",
    "nonMessyVisibilityGlobal = M2BG + M4AG\n",
    "messyVisibilityLocal = M2AL + M4BL\n",
    "nonMessyVisibilityLocal = M2BL + M4AL\n",
    "print len(messyDirectionGlobal)\n",
    "print measure + \"\\t|Mean\\t\\t|Variance\\t|Standard deviation\"\n",
    "print \"Messy direction global \\t|\" + str(np.mean(messyDirectionGlobal)) + \"\\t|\" + str(np.var(messyDirectionGlobal)) + \"\\t|\" + str(np.std(messyDirectionGlobal)) + \"\\t\" + str(min(messyDirectionGlobal)) + \"\\t\" + str(max(messyDirectionGlobal))\n",
    "print \"Non messy direction global \\t|\" + str(np.mean(nonMessyDirectionGlobal)) + \"\\t|\" + str(np.var(nonMessyDirectionGlobal)) + \"\\t|\" + str(np.std(nonMessyDirectionGlobal)) + \"\\t\" + str(min(nonMessyDirectionGlobal)) + \"\\t\" + str(max(nonMessyDirectionGlobal))\n",
    "print \"Messy direction local \\t|\" + str(np.mean(messyDirectionLocal)) + \"\\t|\" + str(np.var(messyDirectionLocal)) + \"\\t|\" + str(np.std(messyDirectionLocal)) + \"\\t\" + str(min(messyDirectionLocal)) + \"\\t\" + str(max(messyDirectionLocal))\n",
    "print \"Non messy direction local \\t|\" + str(np.mean(nonMessyDirectionLocal)) + \"\\t|\" + str(np.var(nonMessyDirectionLocal)) + \"\\t|\" + str(np.std(nonMessyDirectionLocal)) + \"\\t\" + str(min(nonMessyDirectionLocal)) + \"\\t\" + str(max(nonMessyDirectionLocal))\n",
    "print \"Messy visibility global \\t|\" + str(np.mean(messyVisibilityGlobal)) + \"\\t|\" + str(np.var(messyVisibilityGlobal)) + \"\\t|\" + str(np.std(messyVisibilityGlobal)) + \"\\t\" + str(min(messyVisibilityGlobal)) + \"\\t\" + str(max(messyVisibilityGlobal))\n",
    "print \"Non messy visibility global \\t|\" + str(np.mean(nonMessyVisibilityGlobal)) + \"\\t|\" + str(np.var(nonMessyVisibilityGlobal)) + \"\\t|\" + str(np.std(nonMessyVisibilityGlobal)) + \"\\t\" + str(min(nonMessyVisibilityGlobal)) + \"\\t\" + str(max(nonMessyVisibilityGlobal))\n",
    "print \"Messy visibility local \\t|\" + str(np.mean(messyVisibilityLocal)) + \"\\t|\" + str(np.var(messyVisibilityLocal)) + \"\\t|\" + str(np.std(messyVisibilityLocal)) + \"\\t\" + str(min(messyVisibilityLocal)) + \"\\t\" + str(max(messyVisibilityLocal))\n",
    "print \"Non messy visibility local \\t|\" + str(np.mean(nonMessyVisibilityLocal)) + \"\\t|\" + str(np.var(nonMessyVisibilityLocal)) + \"\\t|\" + str(np.std(nonMessyVisibilityLocal)) + \"\\t\" + str(min(nonMessyVisibilityLocal)) + \"\\t\" + str(max(nonMessyVisibilityLocal))"
   ]
  },
  {
   "cell_type": "code",
   "execution_count": 87,
   "metadata": {},
   "outputs": [
    {
     "name": "stdout",
     "output_type": "stream",
     "text": [
      "39\n",
      "pupilDilationDiff\t|Mean\t\t|Variance\t|Standard deviation\n",
      "Messy direction global \t|-0.0188954008698\t|0.00121063798489\t|0.0347942234415\t-0.0688772956045\t0.0575381189814\n",
      "Non messy direction global \t|-0.00991245270177\t|0.00152881375174\t|0.0391000479761\t-0.0737180240181\t0.074071989268\n",
      "Messy direction local \t|-0.0208176417381\t|0.00161903138807\t|0.0402371891174\t-0.0783148689804\t0.103035594916\n",
      "Non messy direction local \t|-0.026540339994\t|0.00168297866431\t|0.041024122956\t-0.113839140197\t0.0705694946415\n",
      "Messy visibility global \t|-0.0164451476905\t|0.00180874936161\t|0.0425293940894\t-0.0821425904969\t0.0741998238684\n",
      "Non messy visibility global \t|-0.0216460863091\t|0.00206275452949\t|0.0454175575025\t-0.128987727743\t0.0975164396708\n",
      "Messy visibility local \t|-0.0265910774721\t|0.00146457907407\t|0.0382698193629\t-0.0878631051106\t0.0777301720729\n",
      "Non messy visibility local \t|-0.0097133633063\t|0.00243330342164\t|0.0493285254355\t-0.0847961704307\t0.107621314323\n"
     ]
    }
   ],
   "source": [
    "measure = \"pupilDilationDiff\"\n",
    "M1AL = data[\"M1A-Q01.png\"][measure] + data[\"M1A-Q02.png\"][measure] + data[\"M1A-Q03.png\"][measure] \n",
    "M1AG = data[\"M1A-Q04.png\"][measure] +data[\"M1A-Q05.png\"][measure] +data[\"M1A-Q06.png\"][measure]\n",
    "M1BL = data[\"M1B-Q01.png\"][measure] + data[\"M1B-Q02.png\"][measure] + data[\"M1B-Q03.png\"][measure] \n",
    "M1BG = data[\"M1B-Q04.png\"][measure] +data[\"M1B-Q05.png\"][measure] +data[\"M1B-Q06.png\"][measure]\n",
    "M2AL = data[\"M2A-Q07.png\"][measure] + data[\"M2A-Q08.png\"][measure] + data[\"M2A-Q09.png\"][measure] \n",
    "M2AG = data[\"M2A-Q10.png\"][measure] +data[\"M2A-Q11.png\"][measure] +data[\"M2A-Q12.png\"][measure]\n",
    "M2BL = data[\"M2B-Q07.png\"][measure] + data[\"M2B-Q08.png\"][measure] + data[\"M2B-Q09.png\"][measure] \n",
    "M2BG = data[\"M2B-Q10.png\"][measure] +data[\"M2B-Q11.png\"][measure] +data[\"M2B-Q12.png\"][measure]\n",
    "M3AL = data[\"M3A-Q13.png\"][measure] + data[\"M3A-Q14.png\"][measure] + data[\"M3A-Q15.png\"][measure] \n",
    "M3AG = data[\"M3A-Q16.png\"][measure] +data[\"M3A-Q17.png\"][measure] +data[\"M3A-Q18.png\"][measure]\n",
    "M3BL = data[\"M3B-Q13.png\"][measure] + data[\"M3B-Q14.png\"][measure] + data[\"M3B-Q15.png\"][measure] \n",
    "M3BG = data[\"M3B-Q16.png\"][measure] +data[\"M3B-Q17.png\"][measure] +data[\"M3B-Q18.png\"][measure]\n",
    "M4AL = data[\"M4A-Q19.png\"][measure] + data[\"M4A-Q20.png\"][measure] + data[\"M4A-Q24.png\"][measure] \n",
    "M4AG = data[\"M4A-Q22.png\"][measure] +data[\"M4A-Q23.png\"][measure] +data[\"M4A-Q21.png\"][measure]\n",
    "M4BL = data[\"M4B-Q19.png\"][measure] + data[\"M4B-Q20.png\"][measure] + data[\"M4B-Q24.png\"][measure] \n",
    "M4BG = data[\"M4B-Q22.png\"][measure] +data[\"M4B-Q23.png\"][measure] +data[\"M4B-Q21.png\"][measure]\n",
    "\n",
    "messyDirectionGlobal = M1BG + M3AG\n",
    "nonMessyDirectionGlobal = M1AG + M3BG\n",
    "messyDirectionLocal = M1BL + M3AL\n",
    "nonMessyDirectionLocal = M1AL + M3BL\n",
    "messyVisibilityGlobal = M2AG + M4BG\n",
    "nonMessyVisibilityGlobal = M2BG + M4AG\n",
    "messyVisibilityLocal = M2AL + M4BL\n",
    "nonMessyVisibilityLocal = M2BL + M4AL\n",
    "print len(messyDirectionGlobal)\n",
    "print measure + \"\\t|Mean\\t\\t|Variance\\t|Standard deviation\"\n",
    "print \"Messy direction global \\t|\" + str(np.mean(messyDirectionGlobal)) + \"\\t|\" + str(np.var(messyDirectionGlobal)) + \"\\t|\" + str(np.std(messyDirectionGlobal)) + \"\\t\" + str(min(messyDirectionGlobal)) + \"\\t\" + str(max(messyDirectionGlobal))\n",
    "print \"Non messy direction global \\t|\" + str(np.mean(nonMessyDirectionGlobal)) + \"\\t|\" + str(np.var(nonMessyDirectionGlobal)) + \"\\t|\" + str(np.std(nonMessyDirectionGlobal)) + \"\\t\" + str(min(nonMessyDirectionGlobal)) + \"\\t\" + str(max(nonMessyDirectionGlobal))\n",
    "print \"Messy direction local \\t|\" + str(np.mean(messyDirectionLocal)) + \"\\t|\" + str(np.var(messyDirectionLocal)) + \"\\t|\" + str(np.std(messyDirectionLocal)) + \"\\t\" + str(min(messyDirectionLocal)) + \"\\t\" + str(max(messyDirectionLocal))\n",
    "print \"Non messy direction local \\t|\" + str(np.mean(nonMessyDirectionLocal)) + \"\\t|\" + str(np.var(nonMessyDirectionLocal)) + \"\\t|\" + str(np.std(nonMessyDirectionLocal)) + \"\\t\" + str(min(nonMessyDirectionLocal)) + \"\\t\" + str(max(nonMessyDirectionLocal))\n",
    "print \"Messy visibility global \\t|\" + str(np.mean(messyVisibilityGlobal)) + \"\\t|\" + str(np.var(messyVisibilityGlobal)) + \"\\t|\" + str(np.std(messyVisibilityGlobal)) + \"\\t\" + str(min(messyVisibilityGlobal)) + \"\\t\" + str(max(messyVisibilityGlobal))\n",
    "print \"Non messy visibility global \\t|\" + str(np.mean(nonMessyVisibilityGlobal)) + \"\\t|\" + str(np.var(nonMessyVisibilityGlobal)) + \"\\t|\" + str(np.std(nonMessyVisibilityGlobal)) + \"\\t\" + str(min(nonMessyVisibilityGlobal)) + \"\\t\" + str(max(nonMessyVisibilityGlobal))\n",
    "print \"Messy visibility local \\t|\" + str(np.mean(messyVisibilityLocal)) + \"\\t|\" + str(np.var(messyVisibilityLocal)) + \"\\t|\" + str(np.std(messyVisibilityLocal)) + \"\\t\" + str(min(messyVisibilityLocal)) + \"\\t\" + str(max(messyVisibilityLocal))\n",
    "print \"Non messy visibility local \\t|\" + str(np.mean(nonMessyVisibilityLocal)) + \"\\t|\" + str(np.var(nonMessyVisibilityLocal)) + \"\\t|\" + str(np.std(nonMessyVisibilityLocal)) + \"\\t\" + str(min(nonMessyVisibilityLocal)) + \"\\t\" + str(max(nonMessyVisibilityLocal))"
   ]
  },
  {
   "cell_type": "code",
   "execution_count": 88,
   "metadata": {
    "collapsed": true
   },
   "outputs": [],
   "source": [
    "measureList = [\"amountOfFixations\", \"fixationsPerSecond\", \"fixationDuration\", \"saccadeVelocityList\", \"pupilDilationDiff\"]"
   ]
  },
  {
   "cell_type": "code",
   "execution_count": 89,
   "metadata": {},
   "outputs": [
    {
     "name": "stdout",
     "output_type": "stream",
     "text": [
      "amountOfFixations\t0.943\t78\t0.002\tNo\n",
      "fixationsPerSecond\t0.906\t78\t0.000\tNo\n",
      "fixationDuration\t0.959\t78\t0.013\tNo\n",
      "saccadeVelocityList\t0.964\t78\t0.025\tNo\n",
      "pupilDilationDiff\t0.952\t78\t0.005\tNo\n"
     ]
    }
   ],
   "source": [
    "#high change of direction\n",
    "#measure = \"fixationsPerSecond\"\n",
    "#fixationsPerSecond = M1B + M3A\n",
    "\n",
    "for measurement in measureList:\n",
    "    measure = measurement\n",
    "    M1A = data[\"M1A-Q01.png\"][measure] + data[\"M1A-Q02.png\"][measure] + data[\"M1A-Q03.png\"][measure] +data[\"M1A-Q04.png\"][measure] +data[\"M1A-Q05.png\"][measure] +data[\"M1A-Q06.png\"][measure]\n",
    "    M1B = data[\"M1B-Q01.png\"][measure] + data[\"M1B-Q02.png\"][measure] + data[\"M1B-Q03.png\"][measure] +data[\"M1B-Q04.png\"][measure] +data[\"M1B-Q05.png\"][measure] +data[\"M1B-Q06.png\"][measure]\n",
    "    M2A = data[\"M2A-Q07.png\"][measure] + data[\"M2A-Q08.png\"][measure] + data[\"M2A-Q09.png\"][measure] +data[\"M2A-Q10.png\"][measure] +data[\"M2A-Q11.png\"][measure] +data[\"M2A-Q12.png\"][measure]\n",
    "    M2B = data[\"M2B-Q07.png\"][measure] + data[\"M2B-Q08.png\"][measure] + data[\"M2B-Q09.png\"][measure] +data[\"M2B-Q10.png\"][measure] +data[\"M2B-Q11.png\"][measure] +data[\"M2B-Q12.png\"][measure]\n",
    "    M3A = data[\"M3A-Q13.png\"][measure] + data[\"M3A-Q14.png\"][measure] + data[\"M3A-Q15.png\"][measure] +data[\"M3A-Q16.png\"][measure] +data[\"M3A-Q17.png\"][measure] +data[\"M3A-Q18.png\"][measure]\n",
    "    M3B = data[\"M3B-Q13.png\"][measure] + data[\"M3B-Q14.png\"][measure] + data[\"M3B-Q15.png\"][measure] +data[\"M3B-Q16.png\"][measure] +data[\"M3B-Q17.png\"][measure] +data[\"M3B-Q18.png\"][measure]\n",
    "    M4A = data[\"M4A-Q19.png\"][measure] + data[\"M4A-Q20.png\"][measure] + data[\"M4A-Q21.png\"][measure] +data[\"M4A-Q22.png\"][measure] +data[\"M4A-Q23.png\"][measure] +data[\"M4A-Q24.png\"][measure]\n",
    "    M4B = data[\"M4B-Q19.png\"][measure] + data[\"M4B-Q20.png\"][measure] + data[\"M4B-Q21.png\"][measure] +data[\"M4B-Q22.png\"][measure] +data[\"M4B-Q23.png\"][measure] +data[\"M4B-Q24.png\"][measure]\n",
    "\n",
    "    collectedLists = M1B+M3A\n",
    "    statistic, pval = stats.shapiro(collectedLists)\n",
    "    verdict = \"\"\n",
    "    if(pval < 0.055):\n",
    "        verdict = \"No\"\n",
    "    else:\n",
    "        verdict = \"Yes\"\n",
    "    \n",
    "    print measure + \"\\t\" + \"%.3f\" % (statistic,) + \"\\t\" + str(len(collectedLists)) + \"\\t\" + \"%0.3f\" % (pval,) + \"\\t\" + verdict"
   ]
  },
  {
   "cell_type": "code",
   "execution_count": 90,
   "metadata": {},
   "outputs": [
    {
     "name": "stdout",
     "output_type": "stream",
     "text": [
      "amountOfFixations\t0.947\t78\t0.003\tNo\n",
      "fixationsPerSecond\t0.986\t78\t0.583\tYes\n",
      "fixationDuration\t0.970\t78\t0.059\tYes\n",
      "saccadeVelocityList\t0.969\t78\t0.053\tNo\n",
      "pupilDilationDiff\t0.984\t78\t0.436\tYes\n"
     ]
    }
   ],
   "source": [
    "#low change of direction\n",
    "#measure = \"fixationsPerSecond\"\n",
    "#fixationsPerSecond = M1B + M3A\n",
    "\n",
    "for measurement in measureList:\n",
    "    measure = measurement\n",
    "    M1A = data[\"M1A-Q01.png\"][measure] + data[\"M1A-Q02.png\"][measure] + data[\"M1A-Q03.png\"][measure] +data[\"M1A-Q04.png\"][measure] +data[\"M1A-Q05.png\"][measure] +data[\"M1A-Q06.png\"][measure]\n",
    "    M1B = data[\"M1B-Q01.png\"][measure] + data[\"M1B-Q02.png\"][measure] + data[\"M1B-Q03.png\"][measure] +data[\"M1B-Q04.png\"][measure] +data[\"M1B-Q05.png\"][measure] +data[\"M1B-Q06.png\"][measure]\n",
    "    M2A = data[\"M2A-Q07.png\"][measure] + data[\"M2A-Q08.png\"][measure] + data[\"M2A-Q09.png\"][measure] +data[\"M2A-Q10.png\"][measure] +data[\"M2A-Q11.png\"][measure] +data[\"M2A-Q12.png\"][measure]\n",
    "    M2B = data[\"M2B-Q07.png\"][measure] + data[\"M2B-Q08.png\"][measure] + data[\"M2B-Q09.png\"][measure] +data[\"M2B-Q10.png\"][measure] +data[\"M2B-Q11.png\"][measure] +data[\"M2B-Q12.png\"][measure]\n",
    "    M3A = data[\"M3A-Q13.png\"][measure] + data[\"M3A-Q14.png\"][measure] + data[\"M3A-Q15.png\"][measure] +data[\"M3A-Q16.png\"][measure] +data[\"M3A-Q17.png\"][measure] +data[\"M3A-Q18.png\"][measure]\n",
    "    M3B = data[\"M3B-Q13.png\"][measure] + data[\"M3B-Q14.png\"][measure] + data[\"M3B-Q15.png\"][measure] +data[\"M3B-Q16.png\"][measure] +data[\"M3B-Q17.png\"][measure] +data[\"M3B-Q18.png\"][measure]\n",
    "    M4A = data[\"M4A-Q19.png\"][measure] + data[\"M4A-Q20.png\"][measure] + data[\"M4A-Q21.png\"][measure] +data[\"M4A-Q22.png\"][measure] +data[\"M4A-Q23.png\"][measure] +data[\"M4A-Q24.png\"][measure]\n",
    "    M4B = data[\"M4B-Q19.png\"][measure] + data[\"M4B-Q20.png\"][measure] + data[\"M4B-Q21.png\"][measure] +data[\"M4B-Q22.png\"][measure] +data[\"M4B-Q23.png\"][measure] +data[\"M4B-Q24.png\"][measure]\n",
    "\n",
    "    collectedLists = M1A + M3B\n",
    "    statistic, pval = stats.shapiro(collectedLists)\n",
    "    verdict = \"\"\n",
    "    if(pval < 0.055):\n",
    "        verdict = \"No\"\n",
    "    else:\n",
    "        verdict = \"Yes\"\n",
    "    \n",
    "    print measure + \"\\t\" + \"%.3f\" % (statistic,) + \"\\t\" + str(len(collectedLists)) + \"\\t\" + \"%0.3f\" % (pval,) + \"\\t\" + verdict"
   ]
  },
  {
   "cell_type": "code",
   "execution_count": 91,
   "metadata": {},
   "outputs": [
    {
     "name": "stdout",
     "output_type": "stream",
     "text": [
      "amountOfFixations\t0.914\t78\t0.000\tNo\n",
      "fixationsPerSecond\t0.984\t78\t0.425\tYes\n",
      "fixationDuration\t0.978\t78\t0.183\tYes\n",
      "saccadeVelocityList\t0.976\t78\t0.147\tYes\n",
      "pupilDilationDiff\t0.964\t78\t0.028\tNo\n"
     ]
    }
   ],
   "source": [
    "#low block visibility\n",
    "#measure = \"fixationsPerSecond\"\n",
    "#fixationsPerSecond = M1B + M3A\n",
    "\n",
    "for measurement in measureList:\n",
    "    measure = measurement\n",
    "    M1A = data[\"M1A-Q01.png\"][measure] + data[\"M1A-Q02.png\"][measure] + data[\"M1A-Q03.png\"][measure] +data[\"M1A-Q04.png\"][measure] +data[\"M1A-Q05.png\"][measure] +data[\"M1A-Q06.png\"][measure]\n",
    "    M1B = data[\"M1B-Q01.png\"][measure] + data[\"M1B-Q02.png\"][measure] + data[\"M1B-Q03.png\"][measure] +data[\"M1B-Q04.png\"][measure] +data[\"M1B-Q05.png\"][measure] +data[\"M1B-Q06.png\"][measure]\n",
    "    M2A = data[\"M2A-Q07.png\"][measure] + data[\"M2A-Q08.png\"][measure] + data[\"M2A-Q09.png\"][measure] +data[\"M2A-Q10.png\"][measure] +data[\"M2A-Q11.png\"][measure] +data[\"M2A-Q12.png\"][measure]\n",
    "    M2B = data[\"M2B-Q07.png\"][measure] + data[\"M2B-Q08.png\"][measure] + data[\"M2B-Q09.png\"][measure] +data[\"M2B-Q10.png\"][measure] +data[\"M2B-Q11.png\"][measure] +data[\"M2B-Q12.png\"][measure]\n",
    "    M3A = data[\"M3A-Q13.png\"][measure] + data[\"M3A-Q14.png\"][measure] + data[\"M3A-Q15.png\"][measure] +data[\"M3A-Q16.png\"][measure] +data[\"M3A-Q17.png\"][measure] +data[\"M3A-Q18.png\"][measure]\n",
    "    M3B = data[\"M3B-Q13.png\"][measure] + data[\"M3B-Q14.png\"][measure] + data[\"M3B-Q15.png\"][measure] +data[\"M3B-Q16.png\"][measure] +data[\"M3B-Q17.png\"][measure] +data[\"M3B-Q18.png\"][measure]\n",
    "    M4A = data[\"M4A-Q19.png\"][measure] + data[\"M4A-Q20.png\"][measure] + data[\"M4A-Q21.png\"][measure] +data[\"M4A-Q22.png\"][measure] +data[\"M4A-Q23.png\"][measure] +data[\"M4A-Q24.png\"][measure]\n",
    "    M4B = data[\"M4B-Q19.png\"][measure] + data[\"M4B-Q20.png\"][measure] + data[\"M4B-Q21.png\"][measure] +data[\"M4B-Q22.png\"][measure] +data[\"M4B-Q23.png\"][measure] +data[\"M4B-Q24.png\"][measure]\n",
    "\n",
    "    collectedLists = M2A + M4B\n",
    "    statistic, pval = stats.shapiro(collectedLists)\n",
    "    verdict = \"\"\n",
    "    if(pval < 0.055):\n",
    "        verdict = \"No\"\n",
    "    else:\n",
    "        verdict = \"Yes\"\n",
    "    \n",
    "    print measure + \"\\t\" + \"%.3f\" % (statistic,) + \"\\t\" + str(len(collectedLists)) + \"\\t\" + \"%0.3f\" % (pval,) + \"\\t\" + verdict"
   ]
  },
  {
   "cell_type": "code",
   "execution_count": 92,
   "metadata": {},
   "outputs": [
    {
     "name": "stdout",
     "output_type": "stream",
     "text": [
      "amountOfFixations\t0.827\t78\t0.000\tNo\n",
      "fixationsPerSecond\t0.980\t78\t0.274\tYes\n",
      "fixationDuration\t0.989\t78\t0.745\tYes\n",
      "saccadeVelocityList\t0.948\t78\t0.003\tNo\n",
      "pupilDilationDiff\t0.972\t78\t0.080\tYes\n"
     ]
    }
   ],
   "source": [
    "#high block visibility\n",
    "#measure = \"fixationsPerSecond\"\n",
    "#fixationsPerSecond = M1B + M3A\n",
    "\n",
    "for measurement in measureList:\n",
    "    measure = measurement\n",
    "    M1A = data[\"M1A-Q01.png\"][measure] + data[\"M1A-Q02.png\"][measure] + data[\"M1A-Q03.png\"][measure] +data[\"M1A-Q04.png\"][measure] +data[\"M1A-Q05.png\"][measure] +data[\"M1A-Q06.png\"][measure]\n",
    "    M1B = data[\"M1B-Q01.png\"][measure] + data[\"M1B-Q02.png\"][measure] + data[\"M1B-Q03.png\"][measure] +data[\"M1B-Q04.png\"][measure] +data[\"M1B-Q05.png\"][measure] +data[\"M1B-Q06.png\"][measure]\n",
    "    M2A = data[\"M2A-Q07.png\"][measure] + data[\"M2A-Q08.png\"][measure] + data[\"M2A-Q09.png\"][measure] +data[\"M2A-Q10.png\"][measure] +data[\"M2A-Q11.png\"][measure] +data[\"M2A-Q12.png\"][measure]\n",
    "    M2B = data[\"M2B-Q07.png\"][measure] + data[\"M2B-Q08.png\"][measure] + data[\"M2B-Q09.png\"][measure] +data[\"M2B-Q10.png\"][measure] +data[\"M2B-Q11.png\"][measure] +data[\"M2B-Q12.png\"][measure]\n",
    "    M3A = data[\"M3A-Q13.png\"][measure] + data[\"M3A-Q14.png\"][measure] + data[\"M3A-Q15.png\"][measure] +data[\"M3A-Q16.png\"][measure] +data[\"M3A-Q17.png\"][measure] +data[\"M3A-Q18.png\"][measure]\n",
    "    M3B = data[\"M3B-Q13.png\"][measure] + data[\"M3B-Q14.png\"][measure] + data[\"M3B-Q15.png\"][measure] +data[\"M3B-Q16.png\"][measure] +data[\"M3B-Q17.png\"][measure] +data[\"M3B-Q18.png\"][measure]\n",
    "    M4A = data[\"M4A-Q19.png\"][measure] + data[\"M4A-Q20.png\"][measure] + data[\"M4A-Q21.png\"][measure] +data[\"M4A-Q22.png\"][measure] +data[\"M4A-Q23.png\"][measure] +data[\"M4A-Q24.png\"][measure]\n",
    "    M4B = data[\"M4B-Q19.png\"][measure] + data[\"M4B-Q20.png\"][measure] + data[\"M4B-Q21.png\"][measure] +data[\"M4B-Q22.png\"][measure] +data[\"M4B-Q23.png\"][measure] +data[\"M4B-Q24.png\"][measure]\n",
    "\n",
    "    collectedLists = M2B + M4A\n",
    "    statistic, pval = stats.shapiro(collectedLists)\n",
    "    verdict = \"\"\n",
    "    if(pval < 0.055):\n",
    "        verdict = \"No\"\n",
    "    else:\n",
    "        verdict = \"Yes\"\n",
    "    \n",
    "    print measure + \"\\t\" + \"%.3f\" % (statistic,) + \"\\t\" + str(len(collectedLists)) + \"\\t\" + \"%0.3f\" % (pval,) + \"\\t\" + verdict"
   ]
  },
  {
   "cell_type": "code",
   "execution_count": 93,
   "metadata": {},
   "outputs": [
    {
     "name": "stdout",
     "output_type": "stream",
     "text": [
      "amountOfFixations\t0.880\t156\t0.000\tNo\n",
      "fixationsPerSecond\t0.983\t156\t0.049\tNo\n",
      "fixationDuration\t0.990\t156\t0.303\tYes\n",
      "saccadeVelocityList\t0.965\t156\t0.001\tNo\n",
      "pupilDilationDiff\t0.968\t156\t0.001\tNo\n"
     ]
    }
   ],
   "source": [
    "#local questions\n",
    "#measure = \"fixationsPerSecond\"\n",
    "#fixationsPerSecond = M1B + M3A\n",
    "\n",
    "for measurement in measureList:\n",
    "    measure = measurement\n",
    "    M1AL = data[\"M1A-Q01.png\"][measure] + data[\"M1A-Q02.png\"][measure] + data[\"M1A-Q03.png\"][measure] \n",
    "    M1AG = data[\"M1A-Q04.png\"][measure] +data[\"M1A-Q05.png\"][measure] +data[\"M1A-Q06.png\"][measure]\n",
    "    M1BL = data[\"M1B-Q01.png\"][measure] + data[\"M1B-Q02.png\"][measure] + data[\"M1B-Q03.png\"][measure] \n",
    "    M1BG = data[\"M1B-Q04.png\"][measure] +data[\"M1B-Q05.png\"][measure] +data[\"M1B-Q06.png\"][measure]\n",
    "    M2AL = data[\"M2A-Q07.png\"][measure] + data[\"M2A-Q08.png\"][measure] + data[\"M2A-Q09.png\"][measure] \n",
    "    M2AG = data[\"M2A-Q10.png\"][measure] +data[\"M2A-Q11.png\"][measure] +data[\"M2A-Q12.png\"][measure]\n",
    "    M2BL = data[\"M2B-Q07.png\"][measure] + data[\"M2B-Q08.png\"][measure] + data[\"M2B-Q09.png\"][measure] \n",
    "    M2BG = data[\"M2B-Q10.png\"][measure] +data[\"M2B-Q11.png\"][measure] +data[\"M2B-Q12.png\"][measure]\n",
    "    M3AL = data[\"M3A-Q13.png\"][measure] + data[\"M3A-Q14.png\"][measure] + data[\"M3A-Q15.png\"][measure] \n",
    "    M3AG = data[\"M3A-Q16.png\"][measure] +data[\"M3A-Q17.png\"][measure] +data[\"M3A-Q18.png\"][measure]\n",
    "    M3BL = data[\"M3B-Q13.png\"][measure] + data[\"M3B-Q14.png\"][measure] + data[\"M3B-Q15.png\"][measure] \n",
    "    M3BG = data[\"M3B-Q16.png\"][measure] +data[\"M3B-Q17.png\"][measure] +data[\"M3B-Q18.png\"][measure]\n",
    "    M4AL = data[\"M4A-Q19.png\"][measure] + data[\"M4A-Q20.png\"][measure] + data[\"M4A-Q24.png\"][measure] \n",
    "    M4AG = data[\"M4A-Q22.png\"][measure] +data[\"M4A-Q23.png\"][measure] +data[\"M4A-Q21.png\"][measure]\n",
    "    M4BL = data[\"M4B-Q19.png\"][measure] + data[\"M4B-Q20.png\"][measure] + data[\"M4B-Q24.png\"][measure] \n",
    "    M4BG = data[\"M4B-Q22.png\"][measure] +data[\"M4B-Q23.png\"][measure] +data[\"M4B-Q21.png\"][measure]\n",
    "\n",
    "    messyL = M1BL + M3AL + M2AL + M4BL\n",
    "    messyG = M1BG + M3AG + M2AG + M4BG\n",
    "    nonMessyL = M1AL + M3BL + M2BL + M4AL\n",
    "    nonMessyG = M1AG + M3BG + M2BG + M4AG\n",
    "    \n",
    "    collectedLists = messyL + nonMessyL\n",
    "    statistic, pval = stats.shapiro(collectedLists)\n",
    "    verdict = \"\"\n",
    "    if(pval < 0.055):\n",
    "        verdict = \"No\"\n",
    "    else:\n",
    "        verdict = \"Yes\"\n",
    "    \n",
    "    print measure + \"\\t\" + \"%.3f\" % (statistic,) + \"\\t\" + str(len(collectedLists)) + \"\\t\" + \"%0.3f\" % (pval,) + \"\\t\" + verdict"
   ]
  },
  {
   "cell_type": "code",
   "execution_count": 94,
   "metadata": {},
   "outputs": [
    {
     "name": "stdout",
     "output_type": "stream",
     "text": [
      "amountOfFixations\t0.960\t156\t0.000\tNo\n",
      "fixationsPerSecond\t0.975\t156\t0.007\tNo\n",
      "fixationDuration\t0.988\t156\t0.201\tYes\n",
      "saccadeVelocityList\t0.968\t156\t0.001\tNo\n",
      "pupilDilationDiff\t0.991\t156\t0.433\tYes\n"
     ]
    }
   ],
   "source": [
    "#global questions\n",
    "#measure = \"fixationsPerSecond\"\n",
    "#fixationsPerSecond = M1B + M3A\n",
    "\n",
    "for measurement in measureList:\n",
    "    measure = measurement\n",
    "    M1AL = data[\"M1A-Q01.png\"][measure] + data[\"M1A-Q02.png\"][measure] + data[\"M1A-Q03.png\"][measure] \n",
    "    M1AG = data[\"M1A-Q04.png\"][measure] +data[\"M1A-Q05.png\"][measure] +data[\"M1A-Q06.png\"][measure]\n",
    "    M1BL = data[\"M1B-Q01.png\"][measure] + data[\"M1B-Q02.png\"][measure] + data[\"M1B-Q03.png\"][measure] \n",
    "    M1BG = data[\"M1B-Q04.png\"][measure] +data[\"M1B-Q05.png\"][measure] +data[\"M1B-Q06.png\"][measure]\n",
    "    M2AL = data[\"M2A-Q07.png\"][measure] + data[\"M2A-Q08.png\"][measure] + data[\"M2A-Q09.png\"][measure] \n",
    "    M2AG = data[\"M2A-Q10.png\"][measure] +data[\"M2A-Q11.png\"][measure] +data[\"M2A-Q12.png\"][measure]\n",
    "    M2BL = data[\"M2B-Q07.png\"][measure] + data[\"M2B-Q08.png\"][measure] + data[\"M2B-Q09.png\"][measure] \n",
    "    M2BG = data[\"M2B-Q10.png\"][measure] +data[\"M2B-Q11.png\"][measure] +data[\"M2B-Q12.png\"][measure]\n",
    "    M3AL = data[\"M3A-Q13.png\"][measure] + data[\"M3A-Q14.png\"][measure] + data[\"M3A-Q15.png\"][measure] \n",
    "    M3AG = data[\"M3A-Q16.png\"][measure] +data[\"M3A-Q17.png\"][measure] +data[\"M3A-Q18.png\"][measure]\n",
    "    M3BL = data[\"M3B-Q13.png\"][measure] + data[\"M3B-Q14.png\"][measure] + data[\"M3B-Q15.png\"][measure] \n",
    "    M3BG = data[\"M3B-Q16.png\"][measure] +data[\"M3B-Q17.png\"][measure] +data[\"M3B-Q18.png\"][measure]\n",
    "    M4AL = data[\"M4A-Q19.png\"][measure] + data[\"M4A-Q20.png\"][measure] + data[\"M4A-Q24.png\"][measure] \n",
    "    M4AG = data[\"M4A-Q22.png\"][measure] +data[\"M4A-Q23.png\"][measure] +data[\"M4A-Q21.png\"][measure]\n",
    "    M4BL = data[\"M4B-Q19.png\"][measure] + data[\"M4B-Q20.png\"][measure] + data[\"M4B-Q24.png\"][measure] \n",
    "    M4BG = data[\"M4B-Q22.png\"][measure] +data[\"M4B-Q23.png\"][measure] +data[\"M4B-Q21.png\"][measure]\n",
    "\n",
    "    messyL = M1BL + M3AL + M2AL + M4BL\n",
    "    messyG = M1BG + M3AG + M2AG + M4BG\n",
    "    nonMessyL = M1AL + M3BL + M2BL + M4AL\n",
    "    nonMessyG = M1AG + M3BG + M2BG + M4AG\n",
    "    \n",
    "    collectedLists = messyG + nonMessyG\n",
    "    statistic, pval = stats.shapiro(collectedLists)\n",
    "    verdict = \"\"\n",
    "    if(pval < 0.055):\n",
    "        verdict = \"No\"\n",
    "    else:\n",
    "        verdict = \"Yes\"\n",
    "    \n",
    "    print measure + \"\\t\" + \"%.3f\" % (statistic,) + \"\\t\" + str(len(collectedLists)) + \"\\t\" + \"%0.3f\" % (pval,) + \"\\t\" + verdict"
   ]
  },
  {
   "cell_type": "code",
   "execution_count": 95,
   "metadata": {},
   "outputs": [
    {
     "name": "stdout",
     "output_type": "stream",
     "text": [
      "amountOfFixations\t0.830\t39\t0.000\tNo\n",
      "fixationsPerSecond\t0.876\t39\t0.000\tNo\n",
      "fixationDuration\t0.937\t39\t0.031\tNo\n",
      "saccadeVelocityList\t0.954\t39\t0.113\tYes\n",
      "pupilDilationDiff\t0.934\t39\t0.025\tNo\n"
     ]
    }
   ],
   "source": [
    "# high change of direction local\n",
    "#measure = \"fixationsPerSecond\"\n",
    "#fixationsPerSecond = M1B + M3A\n",
    "\n",
    "for measurement in measureList:\n",
    "    measure = measurement\n",
    "    M1AL = data[\"M1A-Q01.png\"][measure] + data[\"M1A-Q02.png\"][measure] + data[\"M1A-Q03.png\"][measure] \n",
    "    M1AG = data[\"M1A-Q04.png\"][measure] +data[\"M1A-Q05.png\"][measure] +data[\"M1A-Q06.png\"][measure]\n",
    "    M1BL = data[\"M1B-Q01.png\"][measure] + data[\"M1B-Q02.png\"][measure] + data[\"M1B-Q03.png\"][measure] \n",
    "    M1BG = data[\"M1B-Q04.png\"][measure] +data[\"M1B-Q05.png\"][measure] +data[\"M1B-Q06.png\"][measure]\n",
    "    M2AL = data[\"M2A-Q07.png\"][measure] + data[\"M2A-Q08.png\"][measure] + data[\"M2A-Q09.png\"][measure] \n",
    "    M2AG = data[\"M2A-Q10.png\"][measure] +data[\"M2A-Q11.png\"][measure] +data[\"M2A-Q12.png\"][measure]\n",
    "    M2BL = data[\"M2B-Q07.png\"][measure] + data[\"M2B-Q08.png\"][measure] + data[\"M2B-Q09.png\"][measure] \n",
    "    M2BG = data[\"M2B-Q10.png\"][measure] +data[\"M2B-Q11.png\"][measure] +data[\"M2B-Q12.png\"][measure]\n",
    "    M3AL = data[\"M3A-Q13.png\"][measure] + data[\"M3A-Q14.png\"][measure] + data[\"M3A-Q15.png\"][measure] \n",
    "    M3AG = data[\"M3A-Q16.png\"][measure] +data[\"M3A-Q17.png\"][measure] +data[\"M3A-Q18.png\"][measure]\n",
    "    M3BL = data[\"M3B-Q13.png\"][measure] + data[\"M3B-Q14.png\"][measure] + data[\"M3B-Q15.png\"][measure] \n",
    "    M3BG = data[\"M3B-Q16.png\"][measure] +data[\"M3B-Q17.png\"][measure] +data[\"M3B-Q18.png\"][measure]\n",
    "    M4AL = data[\"M4A-Q19.png\"][measure] + data[\"M4A-Q20.png\"][measure] + data[\"M4A-Q24.png\"][measure] \n",
    "    M4AG = data[\"M4A-Q22.png\"][measure] +data[\"M4A-Q23.png\"][measure] +data[\"M4A-Q21.png\"][measure]\n",
    "    M4BL = data[\"M4B-Q19.png\"][measure] + data[\"M4B-Q20.png\"][measure] + data[\"M4B-Q24.png\"][measure] \n",
    "    M4BG = data[\"M4B-Q22.png\"][measure] +data[\"M4B-Q23.png\"][measure] +data[\"M4B-Q21.png\"][measure]\n",
    "\n",
    "    messyDirectionGlobal = M1BG + M3AG\n",
    "    nonMessyDirectionGlobal = M1AG + M3BG\n",
    "    messyDirectionLocal = M1BL + M3AL\n",
    "    nonMessyDirectionLocal = M1AL + M3BL\n",
    "    messyVisibilityGlobal = M2AG + M4BG\n",
    "    nonMessyVisibilityGlobal = M2BG + M4AG\n",
    "    messyVisibilityLocal = M2AL + M4BL\n",
    "    nonMessyVisibilityLocal = M2BL + M4AL\n",
    "    \n",
    "    collectedLists = M1BL + M3AL\n",
    "    statistic, pval = stats.shapiro(collectedLists)\n",
    "    verdict = \"\"\n",
    "    if(pval < 0.055):\n",
    "        verdict = \"No\"\n",
    "    else:\n",
    "        verdict = \"Yes\"\n",
    "    \n",
    "    print measure + \"\\t\" + \"%.3f\" % (statistic,) + \"\\t\" + str(len(collectedLists)) + \"\\t\" + \"%0.3f\" % (pval,) + \"\\t\" + verdict"
   ]
  },
  {
   "cell_type": "code",
   "execution_count": 96,
   "metadata": {},
   "outputs": [
    {
     "name": "stdout",
     "output_type": "stream",
     "text": [
      "amountOfFixations\t0.975\t39\t0.517\tYes\n",
      "fixationsPerSecond\t0.920\t39\t0.009\tNo\n",
      "fixationDuration\t0.956\t39\t0.128\tYes\n",
      "saccadeVelocityList\t0.939\t39\t0.035\tNo\n",
      "pupilDilationDiff\t0.950\t39\t0.080\tYes\n"
     ]
    }
   ],
   "source": [
    "# high change of direction global\n",
    "#measure = \"fixationsPerSecond\"\n",
    "#fixationsPerSecond = M1B + M3A\n",
    "\n",
    "for measurement in measureList:\n",
    "    measure = measurement\n",
    "    M1AL = data[\"M1A-Q01.png\"][measure] + data[\"M1A-Q02.png\"][measure] + data[\"M1A-Q03.png\"][measure] \n",
    "    M1AG = data[\"M1A-Q04.png\"][measure] +data[\"M1A-Q05.png\"][measure] +data[\"M1A-Q06.png\"][measure]\n",
    "    M1BL = data[\"M1B-Q01.png\"][measure] + data[\"M1B-Q02.png\"][measure] + data[\"M1B-Q03.png\"][measure] \n",
    "    M1BG = data[\"M1B-Q04.png\"][measure] +data[\"M1B-Q05.png\"][measure] +data[\"M1B-Q06.png\"][measure]\n",
    "    M2AL = data[\"M2A-Q07.png\"][measure] + data[\"M2A-Q08.png\"][measure] + data[\"M2A-Q09.png\"][measure] \n",
    "    M2AG = data[\"M2A-Q10.png\"][measure] +data[\"M2A-Q11.png\"][measure] +data[\"M2A-Q12.png\"][measure]\n",
    "    M2BL = data[\"M2B-Q07.png\"][measure] + data[\"M2B-Q08.png\"][measure] + data[\"M2B-Q09.png\"][measure] \n",
    "    M2BG = data[\"M2B-Q10.png\"][measure] +data[\"M2B-Q11.png\"][measure] +data[\"M2B-Q12.png\"][measure]\n",
    "    M3AL = data[\"M3A-Q13.png\"][measure] + data[\"M3A-Q14.png\"][measure] + data[\"M3A-Q15.png\"][measure] \n",
    "    M3AG = data[\"M3A-Q16.png\"][measure] +data[\"M3A-Q17.png\"][measure] +data[\"M3A-Q18.png\"][measure]\n",
    "    M3BL = data[\"M3B-Q13.png\"][measure] + data[\"M3B-Q14.png\"][measure] + data[\"M3B-Q15.png\"][measure] \n",
    "    M3BG = data[\"M3B-Q16.png\"][measure] +data[\"M3B-Q17.png\"][measure] +data[\"M3B-Q18.png\"][measure]\n",
    "    M4AL = data[\"M4A-Q19.png\"][measure] + data[\"M4A-Q20.png\"][measure] + data[\"M4A-Q24.png\"][measure] \n",
    "    M4AG = data[\"M4A-Q22.png\"][measure] +data[\"M4A-Q23.png\"][measure] +data[\"M4A-Q21.png\"][measure]\n",
    "    M4BL = data[\"M4B-Q19.png\"][measure] + data[\"M4B-Q20.png\"][measure] + data[\"M4B-Q24.png\"][measure] \n",
    "    M4BG = data[\"M4B-Q22.png\"][measure] +data[\"M4B-Q23.png\"][measure] +data[\"M4B-Q21.png\"][measure]\n",
    "\n",
    "    messyDirectionGlobal = M1BG + M3AG\n",
    "    nonMessyDirectionGlobal = M1AG + M3BG\n",
    "    messyDirectionLocal = M1BL + M3AL\n",
    "    nonMessyDirectionLocal = M1AL + M3BL\n",
    "    messyVisibilityGlobal = M2AG + M4BG\n",
    "    nonMessyVisibilityGlobal = M2BG + M4AG\n",
    "    messyVisibilityLocal = M2AL + M4BL\n",
    "    nonMessyVisibilityLocal = M2BL + M4AL\n",
    "    \n",
    "    collectedLists = M1BG + M3AG\n",
    "    statistic, pval = stats.shapiro(collectedLists)\n",
    "    verdict = \"\"\n",
    "    if(pval < 0.055):\n",
    "        verdict = \"No\"\n",
    "    else:\n",
    "        verdict = \"Yes\"\n",
    "    \n",
    "    print measure + \"\\t\" + \"%.3f\" % (statistic,) + \"\\t\" + str(len(collectedLists)) + \"\\t\" + \"%0.3f\" % (pval,) + \"\\t\" + verdict"
   ]
  },
  {
   "cell_type": "code",
   "execution_count": 97,
   "metadata": {},
   "outputs": [
    {
     "name": "stdout",
     "output_type": "stream",
     "text": [
      "amountOfFixations\t0.831\t39\t0.000\tNo\n",
      "fixationsPerSecond\t0.974\t39\t0.506\tYes\n",
      "fixationDuration\t0.964\t39\t0.246\tYes\n",
      "saccadeVelocityList\t0.951\t39\t0.091\tYes\n",
      "pupilDilationDiff\t0.987\t39\t0.935\tYes\n"
     ]
    }
   ],
   "source": [
    "# low change of direction local\n",
    "#measure = \"fixationsPerSecond\"\n",
    "#fixationsPerSecond = M1B + M3A\n",
    "\n",
    "for measurement in measureList:\n",
    "    measure = measurement\n",
    "    M1AL = data[\"M1A-Q01.png\"][measure] + data[\"M1A-Q02.png\"][measure] + data[\"M1A-Q03.png\"][measure] \n",
    "    M1AG = data[\"M1A-Q04.png\"][measure] +data[\"M1A-Q05.png\"][measure] +data[\"M1A-Q06.png\"][measure]\n",
    "    M1BL = data[\"M1B-Q01.png\"][measure] + data[\"M1B-Q02.png\"][measure] + data[\"M1B-Q03.png\"][measure] \n",
    "    M1BG = data[\"M1B-Q04.png\"][measure] +data[\"M1B-Q05.png\"][measure] +data[\"M1B-Q06.png\"][measure]\n",
    "    M2AL = data[\"M2A-Q07.png\"][measure] + data[\"M2A-Q08.png\"][measure] + data[\"M2A-Q09.png\"][measure] \n",
    "    M2AG = data[\"M2A-Q10.png\"][measure] +data[\"M2A-Q11.png\"][measure] +data[\"M2A-Q12.png\"][measure]\n",
    "    M2BL = data[\"M2B-Q07.png\"][measure] + data[\"M2B-Q08.png\"][measure] + data[\"M2B-Q09.png\"][measure] \n",
    "    M2BG = data[\"M2B-Q10.png\"][measure] +data[\"M2B-Q11.png\"][measure] +data[\"M2B-Q12.png\"][measure]\n",
    "    M3AL = data[\"M3A-Q13.png\"][measure] + data[\"M3A-Q14.png\"][measure] + data[\"M3A-Q15.png\"][measure] \n",
    "    M3AG = data[\"M3A-Q16.png\"][measure] +data[\"M3A-Q17.png\"][measure] +data[\"M3A-Q18.png\"][measure]\n",
    "    M3BL = data[\"M3B-Q13.png\"][measure] + data[\"M3B-Q14.png\"][measure] + data[\"M3B-Q15.png\"][measure] \n",
    "    M3BG = data[\"M3B-Q16.png\"][measure] +data[\"M3B-Q17.png\"][measure] +data[\"M3B-Q18.png\"][measure]\n",
    "    M4AL = data[\"M4A-Q19.png\"][measure] + data[\"M4A-Q20.png\"][measure] + data[\"M4A-Q24.png\"][measure] \n",
    "    M4AG = data[\"M4A-Q22.png\"][measure] +data[\"M4A-Q23.png\"][measure] +data[\"M4A-Q21.png\"][measure]\n",
    "    M4BL = data[\"M4B-Q19.png\"][measure] + data[\"M4B-Q20.png\"][measure] + data[\"M4B-Q24.png\"][measure] \n",
    "    M4BG = data[\"M4B-Q22.png\"][measure] +data[\"M4B-Q23.png\"][measure] +data[\"M4B-Q21.png\"][measure]\n",
    "\n",
    "    messyDirectionGlobal = M1BG + M3AG\n",
    "    nonMessyDirectionGlobal = M1AG + M3BG\n",
    "    messyDirectionLocal = M1BL + M3AL\n",
    "    nonMessyDirectionLocal = M1AL + M3BL\n",
    "    messyVisibilityGlobal = M2AG + M4BG\n",
    "    nonMessyVisibilityGlobal = M2BG + M4AG\n",
    "    messyVisibilityLocal = M2AL + M4BL\n",
    "    nonMessyVisibilityLocal = M2BL + M4AL\n",
    "    \n",
    "    collectedLists = M1AL + M3BL\n",
    "    statistic, pval = stats.shapiro(collectedLists)\n",
    "    verdict = \"\"\n",
    "    if(pval < 0.055):\n",
    "        verdict = \"No\"\n",
    "    else:\n",
    "        verdict = \"Yes\"\n",
    "    \n",
    "    print measure + \"\\t\" + \"%.3f\" % (statistic,) + \"\\t\" + str(len(collectedLists)) + \"\\t\" + \"%0.3f\" % (pval,) + \"\\t\" + verdict"
   ]
  },
  {
   "cell_type": "code",
   "execution_count": 98,
   "metadata": {},
   "outputs": [
    {
     "name": "stdout",
     "output_type": "stream",
     "text": [
      "amountOfFixations\t0.970\t39\t0.363\tYes\n",
      "fixationsPerSecond\t0.978\t39\t0.647\tYes\n",
      "fixationDuration\t0.962\t39\t0.207\tYes\n",
      "saccadeVelocityList\t0.975\t39\t0.527\tYes\n",
      "pupilDilationDiff\t0.956\t39\t0.132\tYes\n"
     ]
    }
   ],
   "source": [
    "# low change of direction gobal\n",
    "#measure = \"fixationsPerSecond\"\n",
    "#fixationsPerSecond = M1B + M3A\n",
    "\n",
    "for measurement in measureList:\n",
    "    measure = measurement\n",
    "    M1AL = data[\"M1A-Q01.png\"][measure] + data[\"M1A-Q02.png\"][measure] + data[\"M1A-Q03.png\"][measure] \n",
    "    M1AG = data[\"M1A-Q04.png\"][measure] +data[\"M1A-Q05.png\"][measure] +data[\"M1A-Q06.png\"][measure]\n",
    "    M1BL = data[\"M1B-Q01.png\"][measure] + data[\"M1B-Q02.png\"][measure] + data[\"M1B-Q03.png\"][measure] \n",
    "    M1BG = data[\"M1B-Q04.png\"][measure] +data[\"M1B-Q05.png\"][measure] +data[\"M1B-Q06.png\"][measure]\n",
    "    M2AL = data[\"M2A-Q07.png\"][measure] + data[\"M2A-Q08.png\"][measure] + data[\"M2A-Q09.png\"][measure] \n",
    "    M2AG = data[\"M2A-Q10.png\"][measure] +data[\"M2A-Q11.png\"][measure] +data[\"M2A-Q12.png\"][measure]\n",
    "    M2BL = data[\"M2B-Q07.png\"][measure] + data[\"M2B-Q08.png\"][measure] + data[\"M2B-Q09.png\"][measure] \n",
    "    M2BG = data[\"M2B-Q10.png\"][measure] +data[\"M2B-Q11.png\"][measure] +data[\"M2B-Q12.png\"][measure]\n",
    "    M3AL = data[\"M3A-Q13.png\"][measure] + data[\"M3A-Q14.png\"][measure] + data[\"M3A-Q15.png\"][measure] \n",
    "    M3AG = data[\"M3A-Q16.png\"][measure] +data[\"M3A-Q17.png\"][measure] +data[\"M3A-Q18.png\"][measure]\n",
    "    M3BL = data[\"M3B-Q13.png\"][measure] + data[\"M3B-Q14.png\"][measure] + data[\"M3B-Q15.png\"][measure] \n",
    "    M3BG = data[\"M3B-Q16.png\"][measure] +data[\"M3B-Q17.png\"][measure] +data[\"M3B-Q18.png\"][measure]\n",
    "    M4AL = data[\"M4A-Q19.png\"][measure] + data[\"M4A-Q20.png\"][measure] + data[\"M4A-Q24.png\"][measure] \n",
    "    M4AG = data[\"M4A-Q22.png\"][measure] +data[\"M4A-Q23.png\"][measure] +data[\"M4A-Q21.png\"][measure]\n",
    "    M4BL = data[\"M4B-Q19.png\"][measure] + data[\"M4B-Q20.png\"][measure] + data[\"M4B-Q24.png\"][measure] \n",
    "    M4BG = data[\"M4B-Q22.png\"][measure] +data[\"M4B-Q23.png\"][measure] +data[\"M4B-Q21.png\"][measure]\n",
    "\n",
    "    messyDirectionGlobal = M1BG + M3AG\n",
    "    nonMessyDirectionGlobal = M1AG + M3BG\n",
    "    messyDirectionLocal = M1BL + M3AL\n",
    "    nonMessyDirectionLocal = M1AL + M3BL\n",
    "    messyVisibilityGlobal = M2AG + M4BG\n",
    "    nonMessyVisibilityGlobal = M2BG + M4AG\n",
    "    messyVisibilityLocal = M2AL + M4BL\n",
    "    nonMessyVisibilityLocal = M2BL + M4AL\n",
    "    \n",
    "    collectedLists = M1AG + M3BG\n",
    "    statistic, pval = stats.shapiro(collectedLists)\n",
    "    verdict = \"\"\n",
    "    if(pval < 0.055):\n",
    "        verdict = \"No\"\n",
    "    else:\n",
    "        verdict = \"Yes\"\n",
    "    \n",
    "    print measure + \"\\t\" + \"%.3f\" % (statistic,) + \"\\t\" + str(len(collectedLists)) + \"\\t\" + \"%0.3f\" % (pval,) + \"\\t\" + verdict"
   ]
  },
  {
   "cell_type": "code",
   "execution_count": 99,
   "metadata": {},
   "outputs": [
    {
     "name": "stdout",
     "output_type": "stream",
     "text": [
      "amountOfFixations\t0.972\t39\t0.438\tYes\n",
      "fixationsPerSecond\t0.965\t39\t0.253\tYes\n",
      "fixationDuration\t0.964\t39\t0.235\tYes\n",
      "saccadeVelocityList\t0.958\t39\t0.158\tYes\n",
      "pupilDilationDiff\t0.960\t39\t0.182\tYes\n"
     ]
    }
   ],
   "source": [
    "# low block visibility local\n",
    "#measure = \"fixationsPerSecond\"\n",
    "#fixationsPerSecond = M1B + M3A\n",
    "\n",
    "for measurement in measureList:\n",
    "    measure = measurement\n",
    "    M1AL = data[\"M1A-Q01.png\"][measure] + data[\"M1A-Q02.png\"][measure] + data[\"M1A-Q03.png\"][measure] \n",
    "    M1AG = data[\"M1A-Q04.png\"][measure] +data[\"M1A-Q05.png\"][measure] +data[\"M1A-Q06.png\"][measure]\n",
    "    M1BL = data[\"M1B-Q01.png\"][measure] + data[\"M1B-Q02.png\"][measure] + data[\"M1B-Q03.png\"][measure] \n",
    "    M1BG = data[\"M1B-Q04.png\"][measure] +data[\"M1B-Q05.png\"][measure] +data[\"M1B-Q06.png\"][measure]\n",
    "    M2AL = data[\"M2A-Q07.png\"][measure] + data[\"M2A-Q08.png\"][measure] + data[\"M2A-Q09.png\"][measure] \n",
    "    M2AG = data[\"M2A-Q10.png\"][measure] +data[\"M2A-Q11.png\"][measure] +data[\"M2A-Q12.png\"][measure]\n",
    "    M2BL = data[\"M2B-Q07.png\"][measure] + data[\"M2B-Q08.png\"][measure] + data[\"M2B-Q09.png\"][measure] \n",
    "    M2BG = data[\"M2B-Q10.png\"][measure] +data[\"M2B-Q11.png\"][measure] +data[\"M2B-Q12.png\"][measure]\n",
    "    M3AL = data[\"M3A-Q13.png\"][measure] + data[\"M3A-Q14.png\"][measure] + data[\"M3A-Q15.png\"][measure] \n",
    "    M3AG = data[\"M3A-Q16.png\"][measure] +data[\"M3A-Q17.png\"][measure] +data[\"M3A-Q18.png\"][measure]\n",
    "    M3BL = data[\"M3B-Q13.png\"][measure] + data[\"M3B-Q14.png\"][measure] + data[\"M3B-Q15.png\"][measure] \n",
    "    M3BG = data[\"M3B-Q16.png\"][measure] +data[\"M3B-Q17.png\"][measure] +data[\"M3B-Q18.png\"][measure]\n",
    "    M4AL = data[\"M4A-Q19.png\"][measure] + data[\"M4A-Q20.png\"][measure] + data[\"M4A-Q24.png\"][measure] \n",
    "    M4AG = data[\"M4A-Q22.png\"][measure] +data[\"M4A-Q23.png\"][measure] +data[\"M4A-Q21.png\"][measure]\n",
    "    M4BL = data[\"M4B-Q19.png\"][measure] + data[\"M4B-Q20.png\"][measure] + data[\"M4B-Q24.png\"][measure] \n",
    "    M4BG = data[\"M4B-Q22.png\"][measure] +data[\"M4B-Q23.png\"][measure] +data[\"M4B-Q21.png\"][measure]\n",
    "\n",
    "    messyDirectionGlobal = M1BG + M3AG\n",
    "    nonMessyDirectionGlobal = M1AG + M3BG\n",
    "    messyDirectionLocal = M1BL + M3AL\n",
    "    nonMessyDirectionLocal = M1AL + M3BL\n",
    "    messyVisibilityGlobal = M2AG + M4BG\n",
    "    nonMessyVisibilityGlobal = M2BG + M4AG\n",
    "    messyVisibilityLocal = M2AL + M4BL\n",
    "    nonMessyVisibilityLocal = M2BL + M4AL\n",
    "    \n",
    "    collectedLists = M2AL + M4BL\n",
    "    statistic, pval = stats.shapiro(collectedLists)\n",
    "    verdict = \"\"\n",
    "    if(pval < 0.055):\n",
    "        verdict = \"No\"\n",
    "    else:\n",
    "        verdict = \"Yes\"\n",
    "    \n",
    "    print measure + \"\\t\" + \"%.3f\" % (statistic,) + \"\\t\" + str(len(collectedLists)) + \"\\t\" + \"%0.3f\" % (pval,) + \"\\t\" + verdict"
   ]
  },
  {
   "cell_type": "code",
   "execution_count": 100,
   "metadata": {},
   "outputs": [
    {
     "name": "stdout",
     "output_type": "stream",
     "text": [
      "amountOfFixations\t0.906\t39\t0.003\tNo\n",
      "fixationsPerSecond\t0.982\t39\t0.780\tYes\n",
      "fixationDuration\t0.967\t39\t0.311\tYes\n",
      "saccadeVelocityList\t0.974\t39\t0.504\tYes\n",
      "pupilDilationDiff\t0.962\t39\t0.201\tYes\n"
     ]
    }
   ],
   "source": [
    "# low block visibility global\n",
    "#measure = \"fixationsPerSecond\"\n",
    "#fixationsPerSecond = M1B + M3A\n",
    "\n",
    "for measurement in measureList:\n",
    "    measure = measurement\n",
    "    M1AL = data[\"M1A-Q01.png\"][measure] + data[\"M1A-Q02.png\"][measure] + data[\"M1A-Q03.png\"][measure] \n",
    "    M1AG = data[\"M1A-Q04.png\"][measure] +data[\"M1A-Q05.png\"][measure] +data[\"M1A-Q06.png\"][measure]\n",
    "    M1BL = data[\"M1B-Q01.png\"][measure] + data[\"M1B-Q02.png\"][measure] + data[\"M1B-Q03.png\"][measure] \n",
    "    M1BG = data[\"M1B-Q04.png\"][measure] +data[\"M1B-Q05.png\"][measure] +data[\"M1B-Q06.png\"][measure]\n",
    "    M2AL = data[\"M2A-Q07.png\"][measure] + data[\"M2A-Q08.png\"][measure] + data[\"M2A-Q09.png\"][measure] \n",
    "    M2AG = data[\"M2A-Q10.png\"][measure] +data[\"M2A-Q11.png\"][measure] +data[\"M2A-Q12.png\"][measure]\n",
    "    M2BL = data[\"M2B-Q07.png\"][measure] + data[\"M2B-Q08.png\"][measure] + data[\"M2B-Q09.png\"][measure] \n",
    "    M2BG = data[\"M2B-Q10.png\"][measure] +data[\"M2B-Q11.png\"][measure] +data[\"M2B-Q12.png\"][measure]\n",
    "    M3AL = data[\"M3A-Q13.png\"][measure] + data[\"M3A-Q14.png\"][measure] + data[\"M3A-Q15.png\"][measure] \n",
    "    M3AG = data[\"M3A-Q16.png\"][measure] +data[\"M3A-Q17.png\"][measure] +data[\"M3A-Q18.png\"][measure]\n",
    "    M3BL = data[\"M3B-Q13.png\"][measure] + data[\"M3B-Q14.png\"][measure] + data[\"M3B-Q15.png\"][measure] \n",
    "    M3BG = data[\"M3B-Q16.png\"][measure] +data[\"M3B-Q17.png\"][measure] +data[\"M3B-Q18.png\"][measure]\n",
    "    M4AL = data[\"M4A-Q19.png\"][measure] + data[\"M4A-Q20.png\"][measure] + data[\"M4A-Q24.png\"][measure] \n",
    "    M4AG = data[\"M4A-Q22.png\"][measure] +data[\"M4A-Q23.png\"][measure] +data[\"M4A-Q21.png\"][measure]\n",
    "    M4BL = data[\"M4B-Q19.png\"][measure] + data[\"M4B-Q20.png\"][measure] + data[\"M4B-Q24.png\"][measure] \n",
    "    M4BG = data[\"M4B-Q22.png\"][measure] +data[\"M4B-Q23.png\"][measure] +data[\"M4B-Q21.png\"][measure]\n",
    "\n",
    "    messyDirectionGlobal = M1BG + M3AG\n",
    "    nonMessyDirectionGlobal = M1AG + M3BG\n",
    "    messyDirectionLocal = M1BL + M3AL\n",
    "    nonMessyDirectionLocal = M1AL + M3BL\n",
    "    messyVisibilityGlobal = M2AG + M4BG\n",
    "    nonMessyVisibilityGlobal = M2BG + M4AG\n",
    "    messyVisibilityLocal = M2AL + M4BL\n",
    "    nonMessyVisibilityLocal = M2BL + M4AL\n",
    "    \n",
    "    collectedLists = M2AG + M4BG\n",
    "    statistic, pval = stats.shapiro(collectedLists)\n",
    "    verdict = \"\"\n",
    "    if(pval < 0.055):\n",
    "        verdict = \"No\"\n",
    "    else:\n",
    "        verdict = \"Yes\"\n",
    "    \n",
    "    print measure + \"\\t\" + \"%.3f\" % (statistic,) + \"\\t\" + str(len(collectedLists)) + \"\\t\" + \"%0.3f\" % (pval,) + \"\\t\" + verdict"
   ]
  },
  {
   "cell_type": "code",
   "execution_count": 101,
   "metadata": {},
   "outputs": [
    {
     "name": "stdout",
     "output_type": "stream",
     "text": [
      "amountOfFixations\t0.888\t39\t0.001\tNo\n",
      "fixationsPerSecond\t0.983\t39\t0.819\tYes\n",
      "fixationDuration\t0.981\t39\t0.731\tYes\n",
      "saccadeVelocityList\t0.943\t39\t0.047\tNo\n",
      "pupilDilationDiff\t0.929\t39\t0.017\tNo\n"
     ]
    }
   ],
   "source": [
    "# high block visibility local\n",
    "#measure = \"fixationsPerSecond\"\n",
    "#fixationsPerSecond = M1B + M3A\n",
    "\n",
    "for measurement in measureList:\n",
    "    measure = measurement\n",
    "    M1AL = data[\"M1A-Q01.png\"][measure] + data[\"M1A-Q02.png\"][measure] + data[\"M1A-Q03.png\"][measure] \n",
    "    M1AG = data[\"M1A-Q04.png\"][measure] +data[\"M1A-Q05.png\"][measure] +data[\"M1A-Q06.png\"][measure]\n",
    "    M1BL = data[\"M1B-Q01.png\"][measure] + data[\"M1B-Q02.png\"][measure] + data[\"M1B-Q03.png\"][measure] \n",
    "    M1BG = data[\"M1B-Q04.png\"][measure] +data[\"M1B-Q05.png\"][measure] +data[\"M1B-Q06.png\"][measure]\n",
    "    M2AL = data[\"M2A-Q07.png\"][measure] + data[\"M2A-Q08.png\"][measure] + data[\"M2A-Q09.png\"][measure] \n",
    "    M2AG = data[\"M2A-Q10.png\"][measure] +data[\"M2A-Q11.png\"][measure] +data[\"M2A-Q12.png\"][measure]\n",
    "    M2BL = data[\"M2B-Q07.png\"][measure] + data[\"M2B-Q08.png\"][measure] + data[\"M2B-Q09.png\"][measure] \n",
    "    M2BG = data[\"M2B-Q10.png\"][measure] +data[\"M2B-Q11.png\"][measure] +data[\"M2B-Q12.png\"][measure]\n",
    "    M3AL = data[\"M3A-Q13.png\"][measure] + data[\"M3A-Q14.png\"][measure] + data[\"M3A-Q15.png\"][measure] \n",
    "    M3AG = data[\"M3A-Q16.png\"][measure] +data[\"M3A-Q17.png\"][measure] +data[\"M3A-Q18.png\"][measure]\n",
    "    M3BL = data[\"M3B-Q13.png\"][measure] + data[\"M3B-Q14.png\"][measure] + data[\"M3B-Q15.png\"][measure] \n",
    "    M3BG = data[\"M3B-Q16.png\"][measure] +data[\"M3B-Q17.png\"][measure] +data[\"M3B-Q18.png\"][measure]\n",
    "    M4AL = data[\"M4A-Q19.png\"][measure] + data[\"M4A-Q20.png\"][measure] + data[\"M4A-Q24.png\"][measure] \n",
    "    M4AG = data[\"M4A-Q22.png\"][measure] +data[\"M4A-Q23.png\"][measure] +data[\"M4A-Q21.png\"][measure]\n",
    "    M4BL = data[\"M4B-Q19.png\"][measure] + data[\"M4B-Q20.png\"][measure] + data[\"M4B-Q24.png\"][measure] \n",
    "    M4BG = data[\"M4B-Q22.png\"][measure] +data[\"M4B-Q23.png\"][measure] +data[\"M4B-Q21.png\"][measure]\n",
    "\n",
    "    messyDirectionGlobal = M1BG + M3AG\n",
    "    nonMessyDirectionGlobal = M1AG + M3BG\n",
    "    messyDirectionLocal = M1BL + M3AL\n",
    "    nonMessyDirectionLocal = M1AL + M3BL\n",
    "    messyVisibilityGlobal = M2AG + M4BG\n",
    "    nonMessyVisibilityGlobal = M2BG + M4AG\n",
    "    messyVisibilityLocal = M2AL + M4BL\n",
    "    nonMessyVisibilityLocal = M2BL + M4AL\n",
    "    \n",
    "    collectedLists = M2BL + M4AL\n",
    "    statistic, pval = stats.shapiro(collectedLists)\n",
    "    verdict = \"\"\n",
    "    if(pval < 0.055):\n",
    "        verdict = \"No\"\n",
    "    else:\n",
    "        verdict = \"Yes\"\n",
    "    \n",
    "    print measure + \"\\t\" + \"%.3f\" % (statistic,) + \"\\t\" + str(len(collectedLists)) + \"\\t\" + \"%0.3f\" % (pval,) + \"\\t\" + verdict"
   ]
  },
  {
   "cell_type": "code",
   "execution_count": 102,
   "metadata": {},
   "outputs": [
    {
     "name": "stdout",
     "output_type": "stream",
     "text": [
      "amountOfFixations\t0.857\t39\t0.000\tNo\n",
      "fixationsPerSecond\t0.951\t39\t0.087\tYes\n",
      "fixationDuration\t0.981\t39\t0.754\tYes\n",
      "saccadeVelocityList\t0.936\t39\t0.027\tNo\n",
      "pupilDilationDiff\t0.987\t39\t0.923\tYes\n"
     ]
    }
   ],
   "source": [
    "# high block visibility global\n",
    "#measure = \"fixationsPerSecond\"\n",
    "#fixationsPerSecond = M1B + M3A\n",
    "\n",
    "for measurement in measureList:\n",
    "    measure = measurement\n",
    "    M1AL = data[\"M1A-Q01.png\"][measure] + data[\"M1A-Q02.png\"][measure] + data[\"M1A-Q03.png\"][measure] \n",
    "    M1AG = data[\"M1A-Q04.png\"][measure] +data[\"M1A-Q05.png\"][measure] +data[\"M1A-Q06.png\"][measure]\n",
    "    M1BL = data[\"M1B-Q01.png\"][measure] + data[\"M1B-Q02.png\"][measure] + data[\"M1B-Q03.png\"][measure] \n",
    "    M1BG = data[\"M1B-Q04.png\"][measure] +data[\"M1B-Q05.png\"][measure] +data[\"M1B-Q06.png\"][measure]\n",
    "    M2AL = data[\"M2A-Q07.png\"][measure] + data[\"M2A-Q08.png\"][measure] + data[\"M2A-Q09.png\"][measure] \n",
    "    M2AG = data[\"M2A-Q10.png\"][measure] +data[\"M2A-Q11.png\"][measure] +data[\"M2A-Q12.png\"][measure]\n",
    "    M2BL = data[\"M2B-Q07.png\"][measure] + data[\"M2B-Q08.png\"][measure] + data[\"M2B-Q09.png\"][measure] \n",
    "    M2BG = data[\"M2B-Q10.png\"][measure] +data[\"M2B-Q11.png\"][measure] +data[\"M2B-Q12.png\"][measure]\n",
    "    M3AL = data[\"M3A-Q13.png\"][measure] + data[\"M3A-Q14.png\"][measure] + data[\"M3A-Q15.png\"][measure] \n",
    "    M3AG = data[\"M3A-Q16.png\"][measure] +data[\"M3A-Q17.png\"][measure] +data[\"M3A-Q18.png\"][measure]\n",
    "    M3BL = data[\"M3B-Q13.png\"][measure] + data[\"M3B-Q14.png\"][measure] + data[\"M3B-Q15.png\"][measure] \n",
    "    M3BG = data[\"M3B-Q16.png\"][measure] +data[\"M3B-Q17.png\"][measure] +data[\"M3B-Q18.png\"][measure]\n",
    "    M4AL = data[\"M4A-Q19.png\"][measure] + data[\"M4A-Q20.png\"][measure] + data[\"M4A-Q24.png\"][measure] \n",
    "    M4AG = data[\"M4A-Q22.png\"][measure] +data[\"M4A-Q23.png\"][measure] +data[\"M4A-Q21.png\"][measure]\n",
    "    M4BL = data[\"M4B-Q19.png\"][measure] + data[\"M4B-Q20.png\"][measure] + data[\"M4B-Q24.png\"][measure] \n",
    "    M4BG = data[\"M4B-Q22.png\"][measure] +data[\"M4B-Q23.png\"][measure] +data[\"M4B-Q21.png\"][measure]\n",
    "\n",
    "    messyDirectionGlobal = M1BG + M3AG\n",
    "    nonMessyDirectionGlobal = M1AG + M3BG\n",
    "    messyDirectionLocal = M1BL + M3AL\n",
    "    nonMessyDirectionLocal = M1AL + M3BL\n",
    "    messyVisibilityGlobal = M2AG + M4BG\n",
    "    nonMessyVisibilityGlobal = M2BG + M4AG\n",
    "    messyVisibilityLocal = M2AL + M4BL\n",
    "    nonMessyVisibilityLocal = M2BL + M4AL\n",
    "    \n",
    "    collectedLists = M2BG + M4AG\n",
    "    statistic, pval = stats.shapiro(collectedLists)\n",
    "    verdict = \"\"\n",
    "    if(pval < 0.055):\n",
    "        verdict = \"No\"\n",
    "    else:\n",
    "        verdict = \"Yes\"\n",
    "    \n",
    "    print measure + \"\\t\" + \"%.3f\" % (statistic,) + \"\\t\" + str(len(collectedLists)) + \"\\t\" + \"%0.3f\" % (pval,) + \"\\t\" + verdict"
   ]
  },
  {
   "cell_type": "code",
   "execution_count": 103,
   "metadata": {},
   "outputs": [
    {
     "data": {
      "text/plain": [
       "(0.9227743148803711, 1.2971980260789717e-11)"
      ]
     },
     "execution_count": 103,
     "metadata": {},
     "output_type": "execute_result"
    }
   ],
   "source": [
    "measure = \"amountOfFixations\"\n",
    "M1AL = data[\"M1A-Q01.png\"][measure] + data[\"M1A-Q02.png\"][measure] + data[\"M1A-Q03.png\"][measure] \n",
    "M1AG = data[\"M1A-Q04.png\"][measure] +data[\"M1A-Q05.png\"][measure] +data[\"M1A-Q06.png\"][measure]\n",
    "M1BL = data[\"M1B-Q01.png\"][measure] + data[\"M1B-Q02.png\"][measure] + data[\"M1B-Q03.png\"][measure] \n",
    "M1BG = data[\"M1B-Q04.png\"][measure] +data[\"M1B-Q05.png\"][measure] +data[\"M1B-Q06.png\"][measure]\n",
    "M2AL = data[\"M2A-Q07.png\"][measure] + data[\"M2A-Q08.png\"][measure] + data[\"M2A-Q09.png\"][measure] \n",
    "M2AG = data[\"M2A-Q10.png\"][measure] +data[\"M2A-Q11.png\"][measure] +data[\"M2A-Q12.png\"][measure]\n",
    "M2BL = data[\"M2B-Q07.png\"][measure] + data[\"M2B-Q08.png\"][measure] + data[\"M2B-Q09.png\"][measure] \n",
    "M2BG = data[\"M2B-Q10.png\"][measure] +data[\"M2B-Q11.png\"][measure] +data[\"M2B-Q12.png\"][measure]\n",
    "M3AL = data[\"M3A-Q13.png\"][measure] + data[\"M3A-Q14.png\"][measure] + data[\"M3A-Q15.png\"][measure] \n",
    "M3AG = data[\"M3A-Q16.png\"][measure] +data[\"M3A-Q17.png\"][measure] +data[\"M3A-Q18.png\"][measure]\n",
    "M3BL = data[\"M3B-Q13.png\"][measure] + data[\"M3B-Q14.png\"][measure] + data[\"M3B-Q15.png\"][measure] \n",
    "M3BG = data[\"M3B-Q16.png\"][measure] +data[\"M3B-Q17.png\"][measure] +data[\"M3B-Q18.png\"][measure]\n",
    "M4AL = data[\"M4A-Q19.png\"][measure] + data[\"M4A-Q20.png\"][measure] + data[\"M4A-Q24.png\"][measure] \n",
    "M4AG = data[\"M4A-Q22.png\"][measure] +data[\"M4A-Q23.png\"][measure] +data[\"M4A-Q21.png\"][measure]\n",
    "M4BL = data[\"M4B-Q19.png\"][measure] + data[\"M4B-Q20.png\"][measure] + data[\"M4B-Q24.png\"][measure] \n",
    "M4BG = data[\"M4B-Q22.png\"][measure] +data[\"M4B-Q23.png\"][measure] +data[\"M4B-Q21.png\"][measure]\n",
    "\n",
    "messyL = M1BL + M3AL + M2AL + M4BL\n",
    "messyG = M1BG + M3AG + M2AG + M4BG\n",
    "nonMessyL = M1AL + M3BL + M2BL + M4AL\n",
    "nonMessyG = M1AG + M3BG + M2BG + M4AG\n",
    "allFixations = messyL+messyG+nonMessyL+nonMessyG\n",
    "\n",
    "stats.shapiro(allFixations)"
   ]
  },
  {
   "cell_type": "code",
   "execution_count": 104,
   "metadata": {},
   "outputs": [
    {
     "name": "stdout",
     "output_type": "stream",
     "text": [
      "(0.9793298244476318, 0.6792047619819641)\n",
      "(0.8735974431037903, 0.0004198381502646953)\n",
      "(0.9717991352081299, 0.4257155954837799)\n",
      "(0.8059395551681519, 1.116790826927172e-05)\n",
      "(0.9106124639511108, 0.004509653430432081)\n",
      "(0.9671781063079834, 0.30637937784194946)\n",
      "(0.8525561690330505, 0.00012468286149669439)\n",
      "(0.8882962465286255, 0.0010363312903791666)\n"
     ]
    }
   ],
   "source": [
    "measure = \"duration\"\n",
    "M1AL = data[\"M1A-Q01.png\"][measure] + data[\"M1A-Q02.png\"][measure] + data[\"M1A-Q03.png\"][measure] \n",
    "M1AG = data[\"M1A-Q04.png\"][measure] +data[\"M1A-Q05.png\"][measure] +data[\"M1A-Q06.png\"][measure]\n",
    "M1BL = data[\"M1B-Q01.png\"][measure] + data[\"M1B-Q02.png\"][measure] + data[\"M1B-Q03.png\"][measure] \n",
    "M1BG = data[\"M1B-Q04.png\"][measure] +data[\"M1B-Q05.png\"][measure] +data[\"M1B-Q06.png\"][measure]\n",
    "M2AL = data[\"M2A-Q07.png\"][measure] + data[\"M2A-Q08.png\"][measure] + data[\"M2A-Q09.png\"][measure] \n",
    "M2AG = data[\"M2A-Q10.png\"][measure] +data[\"M2A-Q11.png\"][measure] +data[\"M2A-Q12.png\"][measure]\n",
    "M2BL = data[\"M2B-Q07.png\"][measure] + data[\"M2B-Q08.png\"][measure] + data[\"M2B-Q09.png\"][measure] \n",
    "M2BG = data[\"M2B-Q10.png\"][measure] +data[\"M2B-Q11.png\"][measure] +data[\"M2B-Q12.png\"][measure]\n",
    "M3AL = data[\"M3A-Q13.png\"][measure] + data[\"M3A-Q14.png\"][measure] + data[\"M3A-Q15.png\"][measure] \n",
    "M3AG = data[\"M3A-Q16.png\"][measure] +data[\"M3A-Q17.png\"][measure] +data[\"M3A-Q18.png\"][measure]\n",
    "M3BL = data[\"M3B-Q13.png\"][measure] + data[\"M3B-Q14.png\"][measure] + data[\"M3B-Q15.png\"][measure] \n",
    "M3BG = data[\"M3B-Q16.png\"][measure] +data[\"M3B-Q17.png\"][measure] +data[\"M3B-Q18.png\"][measure]\n",
    "M4AL = data[\"M4A-Q19.png\"][measure] + data[\"M4A-Q20.png\"][measure] + data[\"M4A-Q24.png\"][measure] \n",
    "M4AG = data[\"M4A-Q22.png\"][measure] +data[\"M4A-Q23.png\"][measure] +data[\"M4A-Q21.png\"][measure]\n",
    "M4BL = data[\"M4B-Q19.png\"][measure] + data[\"M4B-Q20.png\"][measure] + data[\"M4B-Q24.png\"][measure] \n",
    "M4BG = data[\"M4B-Q22.png\"][measure] +data[\"M4B-Q23.png\"][measure] +data[\"M4B-Q21.png\"][measure]\n",
    "\n",
    "messyDirectionGlobal = M1BG + M3AG\n",
    "nonMessyDirectionGlobal = M1AG + M3BG \n",
    "messyDirectionLocal = M1BL + M3AL\n",
    "nonMessyDirectionLocal = M1AL + M3BL\n",
    "messyVisibilityGlobal = M2AG + M4BG\n",
    "nonMessyVisibilityGlobal = M2BG + M4AG\n",
    "messyVisibilityLocal = M2AL + M4BL\n",
    "nonMessyVisibilityLocal = M2BL + M4AL\n",
    "\n",
    "print stats.shapiro(messyDirectionGlobal)\n",
    "print stats.shapiro(messyDirectionLocal)\n",
    "print stats.shapiro(nonMessyDirectionGlobal)\n",
    "print stats.shapiro(nonMessyDirectionLocal)\n",
    "print stats.shapiro(messyVisibilityGlobal)\n",
    "print stats.shapiro(messyVisibilityLocal)\n",
    "print stats.shapiro(nonMessyVisibilityGlobal)\n",
    "print stats.shapiro(nonMessyVisibilityLocal)"
   ]
  },
  {
   "cell_type": "code",
   "execution_count": 107,
   "metadata": {},
   "outputs": [
    {
     "name": "stdout",
     "output_type": "stream",
     "text": [
      "(0.8114262223243713, 0.009347505867481232)\n",
      "(0.5240042209625244, 1.5539282685494982e-05)\n",
      "(0.8194588422775269, 0.011717051267623901)\n",
      "(0.7558441758155823, 0.002134317997843027)\n",
      "(0.8122488260269165, 0.009564883075654507)\n",
      "(0.31100672483444214, 5.044599902248592e-07)\n",
      "(0.8122488260269165, 0.009564883075654507)\n",
      "(0.5674636363983154, 3.47693930962123e-05)\n"
     ]
    }
   ],
   "source": [
    "measure = \"accuracy\"\n",
    "M1AL = []\n",
    "for index in xrange(len(data[\"M1A-Q01.png\"][measure])):\n",
    "    M1AL.append(data[\"M1A-Q01.png\"][measure][index]+data[\"M1A-Q02.png\"][measure][index]+data[\"M1A-Q03.png\"][measure][index])\n",
    "M1AG = []\n",
    "for index in xrange(len(data[\"M1A-Q04.png\"][measure])):\n",
    "    M1AG.append(data[\"M1A-Q04.png\"][measure][index]+data[\"M1A-Q05.png\"][measure][index]+data[\"M1A-Q06.png\"][measure][index])\n",
    "M1BL = []\n",
    "for index in xrange(len(data[\"M1B-Q01.png\"][measure])):\n",
    "    M1BL.append(data[\"M1B-Q01.png\"][measure][index]+data[\"M1B-Q02.png\"][measure][index]+data[\"M1B-Q03.png\"][measure][index])\n",
    "M1BG = []\n",
    "for index in xrange(len(data[\"M1B-Q04.png\"][measure])):\n",
    "    M1BG.append(data[\"M1B-Q04.png\"][measure][index]+data[\"M1B-Q05.png\"][measure][index]+data[\"M1B-Q06.png\"][measure][index])\n",
    "M2AL = []\n",
    "for index in xrange(len(data[\"M2A-Q07.png\"][measure])):\n",
    "    M2AL.append(data[\"M2A-Q07.png\"][measure][index]+data[\"M2A-Q08.png\"][measure][index]+data[\"M2A-Q09.png\"][measure][index])\n",
    "M2AG = []\n",
    "for index in xrange(len(data[\"M2A-Q10.png\"][measure])):\n",
    "    M2AG.append(data[\"M2A-Q10.png\"][measure][index]+data[\"M2A-Q11.png\"][measure][index]+data[\"M2A-Q12.png\"][measure][index])\n",
    "M2BL = []\n",
    "for index in xrange(len(data[\"M2B-Q07.png\"][measure])):\n",
    "    M2BL.append(data[\"M2B-Q07.png\"][measure][index]+data[\"M2B-Q08.png\"][measure][index]+data[\"M2B-Q09.png\"][measure][index])\n",
    "M2BG = []\n",
    "for index in xrange(len(data[\"M2B-Q10.png\"][measure])):\n",
    "    M2BG.append(data[\"M2B-Q10.png\"][measure][index]+data[\"M2B-Q11.png\"][measure][index]+data[\"M2B-Q12.png\"][measure][index])\n",
    "M3AL = []\n",
    "for index in xrange(len(data[\"M3A-Q13.png\"][measure])):\n",
    "    M3AL.append(data[\"M3A-Q13.png\"][measure][index]+data[\"M3A-Q14.png\"][measure][index]+data[\"M3A-Q15.png\"][measure][index])\n",
    "M3AG = []\n",
    "for index in xrange(len(data[\"M3A-Q16.png\"][measure])):\n",
    "    M3AG.append(data[\"M3A-Q16.png\"][measure][index]+data[\"M3A-Q17.png\"][measure][index]+data[\"M3A-Q18.png\"][measure][index])\n",
    "M3BL = []\n",
    "for index in xrange(len(data[\"M3B-Q13.png\"][measure])):\n",
    "    M3BL.append(data[\"M3B-Q13.png\"][measure][index]+data[\"M3B-Q14.png\"][measure][index]+data[\"M3B-Q15.png\"][measure][index])\n",
    "M3BG = []\n",
    "for index in xrange(len(data[\"M3B-Q16.png\"][measure])):\n",
    "    M3BG.append(data[\"M3B-Q16.png\"][measure][index]+data[\"M3B-Q17.png\"][measure][index]+data[\"M3B-Q18.png\"][measure][index])\n",
    "M4AL = []\n",
    "for index in xrange(len(data[\"M4A-Q19.png\"][measure])):\n",
    "    M4AL.append(data[\"M4A-Q19.png\"][measure][index]+data[\"M4A-Q20.png\"][measure][index]+data[\"M4A-Q24.png\"][measure][index])\n",
    "M4AG = []\n",
    "for index in xrange(len(data[\"M4A-Q22.png\"][measure])):\n",
    "    M4AG.append(data[\"M4A-Q22.png\"][measure][index]+data[\"M4A-Q23.png\"][measure][index]+data[\"M4A-Q21.png\"][measure][index])\n",
    "M4BL = []\n",
    "for index in xrange(len(data[\"M4B-Q19.png\"][measure])):\n",
    "    M4BL.append(data[\"M4B-Q19.png\"][measure][index]+data[\"M4B-Q20.png\"][measure][index]+data[\"M4B-Q24.png\"][measure][index])\n",
    "M4BG = []\n",
    "for index in xrange(len(data[\"M4B-Q22.png\"][measure])):\n",
    "    M4BG.append(data[\"M4B-Q22.png\"][measure][index]+data[\"M4B-Q23.png\"][measure][index]+data[\"M4B-Q21.png\"][measure][index])\n",
    "\n",
    "messyDirectionGlobal = M1BG + M3AG\n",
    "nonMessyDirectionGlobal = M1AG + M3BG\n",
    "messyDirectionLocal = M1BL + M3AL\n",
    "nonMessyDirectionLocal = M1AL + M3BL\n",
    "messyVisibilityGlobal = M2AG + M4BG\n",
    "nonMessyVisibilityGlobal = M2BG + M4AG\n",
    "messyVisibilityLocal = M2AL + M4BL\n",
    "nonMessyVisibilityLocal = M2BL + M4AL\n",
    "\n",
    "print stats.shapiro(messyDirectionGlobal)\n",
    "print stats.shapiro(messyDirectionLocal)\n",
    "print stats.shapiro(nonMessyDirectionGlobal)\n",
    "print stats.shapiro(nonMessyDirectionLocal)\n",
    "print stats.shapiro(messyVisibilityGlobal)\n",
    "print stats.shapiro(messyVisibilityLocal)\n",
    "print stats.shapiro(nonMessyVisibilityGlobal)\n",
    "print stats.shapiro(nonMessyVisibilityLocal)"
   ]
  },
  {
   "cell_type": "code",
   "execution_count": 108,
   "metadata": {},
   "outputs": [
    {
     "data": {
      "text/plain": [
       "[0.0190496218291914,\n",
       " -0.017628606395732258,\n",
       " -0.031152849965814022,\n",
       " -0.040236037215392734,\n",
       " -0.09770197296632653,\n",
       " 0.057454027202650665,\n",
       " 0.00624381703768373]"
      ]
     },
     "execution_count": 108,
     "metadata": {},
     "output_type": "execute_result"
    }
   ],
   "source": [
    "data[\"M1A-Q01.png\"][\"pupilDilationDiff\"]"
   ]
  },
  {
   "cell_type": "code",
   "execution_count": 109,
   "metadata": {},
   "outputs": [
    {
     "data": {
      "text/plain": [
       "(0.8301495909690857, 0.000600386701989919)"
      ]
     },
     "execution_count": 109,
     "metadata": {},
     "output_type": "execute_result"
    }
   ],
   "source": [
    "import scipy.stats as stats\n",
    "stats.shapiro(M1BG+M3AG+M1AG+M3BG)"
   ]
  },
  {
   "cell_type": "code",
   "execution_count": 110,
   "metadata": {},
   "outputs": [
    {
     "data": {
      "text/plain": [
       "['fixationDuration',\n",
       " 'pupilDilationDiff',\n",
       " 'saccadeVelocityList',\n",
       " 'amountOfSaccades',\n",
       " 'pupilDilationLeftList',\n",
       " 'fixationsPerSecond',\n",
       " 'duration',\n",
       " 'pupilDilationMean',\n",
       " 'accuracy',\n",
       " 'saccadeDurationList',\n",
       " 'pupilDilationRightList',\n",
       " 'amountOfFixations']"
      ]
     },
     "execution_count": 110,
     "metadata": {},
     "output_type": "execute_result"
    }
   ],
   "source": [
    "data[\"M1A-Q01.png\"].keys()"
   ]
  },
  {
   "cell_type": "code",
   "execution_count": 111,
   "metadata": {},
   "outputs": [
    {
     "data": {
      "text/plain": [
       "['M4A-Q24.png',\n",
       " 'M4A-Q21.png',\n",
       " 'M4A-Q22.png',\n",
       " 'M4A-Q23.png',\n",
       " 'M4B-Q24.png',\n",
       " 'M3A-Q18.png',\n",
       " 'M2A-Q09.png',\n",
       " 'M3B-Q18.png',\n",
       " 'M1B-Q06.png',\n",
       " 'TUTX-Q03.png',\n",
       " 'M3B-Q13.png',\n",
       " 'M2A-Q12.png',\n",
       " 'M2B-Q12.png',\n",
       " 'M2A-Q10.png',\n",
       " 'M3B-Q17.png',\n",
       " 'M4A-Q20.png',\n",
       " 'M4B-Q23.png',\n",
       " 'M4B-Q22.png',\n",
       " 'M4B-Q20.png',\n",
       " 'M1A-Q04.png',\n",
       " 'M1A-Q06.png',\n",
       " 'M2A-Q08.png',\n",
       " 'M1B-Q02.png',\n",
       " 'M4A-Q19.png',\n",
       " 'M2B-Q10.png',\n",
       " 'M2A-Q11.png',\n",
       " 'M3A-Q13.png',\n",
       " 'M1B-Q01.png',\n",
       " 'M1A-Q01.png',\n",
       " 'M1B-Q03.png',\n",
       " 'M4B-Q21.png',\n",
       " 'M1A-Q02.png',\n",
       " 'M1A-Q05.png',\n",
       " 'M4B-Q19.png',\n",
       " 'M1B-Q05.png',\n",
       " 'M3A-Q15.png',\n",
       " 'M3A-Q16.png',\n",
       " 'M3A-Q17.png',\n",
       " 'M2B-Q07.png',\n",
       " 'M1A-Q03.png',\n",
       " 'M1B-Q04.png',\n",
       " 'M2B-Q09.png',\n",
       " 'M2B-Q08.png',\n",
       " 'TUTX-Q01.png',\n",
       " 'TUTX-Q02.png',\n",
       " 'M2B-Q11.png',\n",
       " 'M3B-Q14.png',\n",
       " 'M3A-Q14.png',\n",
       " 'M3B-Q16.png',\n",
       " 'M3B-Q15.png',\n",
       " 'M2A-Q07.png']"
      ]
     },
     "execution_count": 111,
     "metadata": {},
     "output_type": "execute_result"
    }
   ],
   "source": [
    "data.keys()"
   ]
  },
  {
   "cell_type": "code",
   "execution_count": 112,
   "metadata": {},
   "outputs": [
    {
     "data": {
      "text/plain": [
       "['ExportDate',\n",
       " 'StudioVersionRec',\n",
       " 'StudioProjectName',\n",
       " 'StudioTestName',\n",
       " 'ParticipantName',\n",
       " '[M1BE-Q1]Value',\n",
       " '[M1BE-Q2]Value',\n",
       " '[M1BE-Q3]Value',\n",
       " '[M1BE-Q4]Value',\n",
       " '[M1BE-Q5]Value',\n",
       " '[M1BE-Q6]Value',\n",
       " '[M1B-Q01]Value',\n",
       " '[M1B-Q02]Value',\n",
       " '[M1B-Q03]Value',\n",
       " '[M1B-Q04]Value',\n",
       " '[M1B-Q05]Value',\n",
       " '[M1B-Q06]Value',\n",
       " '[M2BE-Q10]Value',\n",
       " '[M2BE-Q11]Value',\n",
       " '[M2BE-Q12]Value',\n",
       " '[M2BE-Q7]Value',\n",
       " '[M2BE-Q8]Value',\n",
       " '[M2BE-Q9]Value',\n",
       " '[M2B-Q07]Value',\n",
       " '[M2B-Q08]Value',\n",
       " '[M2B-Q09]Value',\n",
       " '[M2B-Q10]Value',\n",
       " '[M2B-Q11]Value',\n",
       " '[M2B-Q12]Value',\n",
       " '[M3BE-Q13]Value',\n",
       " '[M3BE-Q14]Value',\n",
       " '[M3BE-Q15]Value',\n",
       " '[M3BE-Q16]Value',\n",
       " '[M3BE-Q17]Value',\n",
       " '[M3BE-Q18]Value',\n",
       " '[M3B-Q13]Value',\n",
       " '[M3B-Q14]Value',\n",
       " '[M3B-Q15]Value',\n",
       " '[M3B-Q16]Value',\n",
       " '[M3B-Q17]Value',\n",
       " '[M3B-Q18]Value',\n",
       " '[M4BE-Q19]Value',\n",
       " '[M4BE-Q20]Value',\n",
       " '[M4BE-Q21]Value',\n",
       " '[M4BE-Q22]Value',\n",
       " '[M4BE-Q23]Value',\n",
       " '[M4BE-Q24]Value',\n",
       " '[M4B-Q19]Value',\n",
       " '[M4B-Q20]Value',\n",
       " '[M4B-Q21]Value',\n",
       " '[M4B-Q22]Value',\n",
       " '[M4B-Q23]Value',\n",
       " '[M4B-Q24]Value',\n",
       " '[TUTB-Q01]Value',\n",
       " '[TUTB-Q02]Value',\n",
       " '[TUTB-Q03]Value',\n",
       " '[TUTA-Q01]Value',\n",
       " '[TUTA-Q02]Value',\n",
       " '[TUTA-Q03]Value',\n",
       " '[M1A-Q01]Value',\n",
       " '[M1AE-Q1]Value',\n",
       " '[M1A-Q02]Value',\n",
       " '[M1AE-Q2]Value',\n",
       " '[M1A-Q03]Value',\n",
       " '[M1AE-Q3]Value',\n",
       " '[M1A-Q04]Value',\n",
       " '[M1AE-Q4]Value',\n",
       " '[M1A-Q05]Value',\n",
       " '[M1AE-Q5]Value',\n",
       " '[M1A-Q06]Value',\n",
       " '[M1AE-Q6]Value',\n",
       " '[M2A-Q07]Value',\n",
       " '[M2AE-Q7]Value',\n",
       " '[M2A-Q08]Value',\n",
       " '[M2AE-Q8]Value',\n",
       " '[M2A-Q09]Value',\n",
       " '[M2AE-Q9]Value',\n",
       " '[M2A-Q10]Value',\n",
       " '[M2AE-Q10]Value',\n",
       " '[M2A-Q11]Value',\n",
       " '[M2AE-Q11]Value',\n",
       " '[M2A-Q12]Value',\n",
       " '[M2AE-Q12]Value',\n",
       " '[M3A-Q13]Value',\n",
       " '[M3AE-Q13]Value',\n",
       " '[M3A-Q14]Value',\n",
       " '[M3AE-Q14]Value',\n",
       " '[M3A-Q15]Value',\n",
       " '[M3AE-Q15]Value',\n",
       " '[M3A-Q16]Value',\n",
       " '[M3AE-Q16]Value',\n",
       " '[M3A-Q17]Value',\n",
       " '[M3AE-Q17]Value',\n",
       " '[M3A-Q18]Value',\n",
       " '[M3AE-Q18]Value',\n",
       " '[M4A-Q19]Value',\n",
       " '[M4AE-Q19]Value',\n",
       " '[M4A-Q20]Value',\n",
       " '[M4AE-Q20]Value',\n",
       " '[M4A-Q21]Value',\n",
       " '[M4AE-Q21]Value',\n",
       " '[M4A-Q22]Value',\n",
       " '[M4AE-Q22]Value',\n",
       " '[M4A-Q23]Value',\n",
       " '[M4AE-Q23]Value',\n",
       " '[M4A-Q24]Value',\n",
       " '[M4AE-Q24]Value',\n",
       " 'RecordingName',\n",
       " 'RecordingDate',\n",
       " 'RecordingDuration',\n",
       " 'RecordingResolution',\n",
       " 'PresentationSequence',\n",
       " 'FixationFilter',\n",
       " 'MediaName',\n",
       " 'MediaPosX (ADCSpx)',\n",
       " 'MediaPosY (ADCSpx)',\n",
       " 'MediaWidth',\n",
       " 'MediaHeight',\n",
       " 'SegmentName',\n",
       " 'SegmentStart',\n",
       " 'SegmentEnd',\n",
       " 'SegmentDuration',\n",
       " 'SceneName',\n",
       " 'SceneSegmentStart',\n",
       " 'SceneSegmentEnd',\n",
       " 'SceneSegmentDuration',\n",
       " 'RecordingTimestamp',\n",
       " 'LocalTimeStamp',\n",
       " 'EyeTrackerTimestamp',\n",
       " 'MouseEventIndex',\n",
       " 'MouseEvent',\n",
       " 'MouseEventX (ADCSpx)',\n",
       " 'MouseEventY (ADCSpx)',\n",
       " 'MouseEventX (MCSpx)',\n",
       " 'MouseEventY (MCSpx)',\n",
       " 'KeyPressEventIndex',\n",
       " 'KeyPressEvent',\n",
       " 'StudioEventIndex',\n",
       " 'StudioEvent',\n",
       " 'StudioEventData',\n",
       " 'ExternalEventIndex',\n",
       " 'ExternalEvent',\n",
       " 'ExternalEventValue',\n",
       " 'EventMarkerValue',\n",
       " 'FixationIndex',\n",
       " 'SaccadeIndex',\n",
       " 'GazeEventType',\n",
       " 'GazeEventDuration',\n",
       " 'FixationPointX (MCSpx)',\n",
       " 'FixationPointY (MCSpx)',\n",
       " 'SaccadicAmplitude',\n",
       " 'AbsoluteSaccadicDirection',\n",
       " 'RelativeSaccadicDirection',\n",
       " 'GazePointIndex',\n",
       " 'GazePointLeftX (ADCSpx)',\n",
       " 'GazePointLeftY (ADCSpx)',\n",
       " 'GazePointRightX (ADCSpx)',\n",
       " 'GazePointRightY (ADCSpx)',\n",
       " 'GazePointX (ADCSpx)',\n",
       " 'GazePointY (ADCSpx)',\n",
       " 'GazePointX (MCSpx)',\n",
       " 'GazePointY (MCSpx)',\n",
       " 'GazePointLeftX (ADCSmm)',\n",
       " 'GazePointLeftY (ADCSmm)',\n",
       " 'GazePointRightX (ADCSmm)',\n",
       " 'GazePointRightY (ADCSmm)',\n",
       " 'StrictAverageGazePointX (ADCSmm)',\n",
       " 'StrictAverageGazePointY (ADCSmm)',\n",
       " 'EyePosLeftX (ADCSmm)',\n",
       " 'EyePosLeftY (ADCSmm)',\n",
       " 'EyePosLeftZ (ADCSmm)',\n",
       " 'EyePosRightX (ADCSmm)',\n",
       " 'EyePosRightY (ADCSmm)',\n",
       " 'EyePosRightZ (ADCSmm)',\n",
       " 'CamLeftX',\n",
       " 'CamLeftY',\n",
       " 'CamRightX',\n",
       " 'CamRightY',\n",
       " 'DistanceLeft',\n",
       " 'DistanceRight',\n",
       " 'PupilLeft',\n",
       " 'PupilRight',\n",
       " 'ValidityLeft',\n",
       " 'ValidityRight',\n",
       " 'IRMarkerCount',\n",
       " 'IRMarkerID',\n",
       " 'PupilGlassesRight',\n",
       " '',\n",
       " 'Scene',\n",
       " 'MissingValue',\n",
       " 'GazePointMissing',\n",
       " 'BlinkPedrotti']"
      ]
     },
     "execution_count": 112,
     "metadata": {},
     "output_type": "execute_result"
    }
   ],
   "source": [
    "dataHeaders"
   ]
  },
  {
   "cell_type": "code",
   "execution_count": 113,
   "metadata": {},
   "outputs": [
    {
     "name": "stdout",
     "output_type": "stream",
     "text": [
      "0.161363067347\n"
     ]
    }
   ],
   "source": [
    "print tutMean"
   ]
  },
  {
   "cell_type": "code",
   "execution_count": 114,
   "metadata": {},
   "outputs": [
    {
     "ename": "KeyError",
     "evalue": "'M1'",
     "output_type": "error",
     "traceback": [
      "\u001b[1;31m\u001b[0m",
      "\u001b[1;31mKeyError\u001b[0mTraceback (most recent call last)",
      "\u001b[1;32m<ipython-input-114-3798d03936ca>\u001b[0m in \u001b[0;36m<module>\u001b[1;34m()\u001b[0m\n\u001b[1;32m----> 1\u001b[1;33m \u001b[0mdata\u001b[0m\u001b[1;33m[\u001b[0m\u001b[1;34m\"M1\"\u001b[0m\u001b[1;33m]\u001b[0m\u001b[1;33m\u001b[0m\u001b[0m\n\u001b[0m",
      "\u001b[1;31mKeyError\u001b[0m: 'M1'"
     ]
    }
   ],
   "source": [
    "data[\"M1\"]"
   ]
  },
  {
   "cell_type": "code",
   "execution_count": 115,
   "metadata": {
    "collapsed": true
   },
   "outputs": [],
   "source": [
    "import statsmodels\n"
   ]
  },
  {
   "cell_type": "code",
   "execution_count": 116,
   "metadata": {
    "collapsed": true
   },
   "outputs": [],
   "source": [
    "def changeMeasure(measure):\n",
    "    M1AL = data[\"M1A-Q01.png\"][measure] + data[\"M1A-Q02.png\"][measure] + data[\"M1A-Q03.png\"][measure] \n",
    "    M1AG = data[\"M1A-Q04.png\"][measure] +data[\"M1A-Q05.png\"][measure] +data[\"M1A-Q06.png\"][measure]\n",
    "    M1BL = data[\"M1B-Q01.png\"][measure] + data[\"M1B-Q02.png\"][measure] + data[\"M1B-Q03.png\"][measure] \n",
    "    M1BG = data[\"M1B-Q04.png\"][measure] +data[\"M1B-Q05.png\"][measure] +data[\"M1B-Q06.png\"][measure]\n",
    "    M2AL = data[\"M2A-Q07.png\"][measure] + data[\"M2A-Q08.png\"][measure] + data[\"M2A-Q09.png\"][measure] \n",
    "    M2AG = data[\"M2A-Q10.png\"][measure] +data[\"M2A-Q11.png\"][measure] +data[\"M2A-Q12.png\"][measure]\n",
    "    M2BL = data[\"M2B-Q07.png\"][measure] + data[\"M2B-Q08.png\"][measure] + data[\"M2B-Q09.png\"][measure] \n",
    "    M2BG = data[\"M2B-Q10.png\"][measure] +data[\"M2B-Q11.png\"][measure] +data[\"M2B-Q12.png\"][measure]\n",
    "    M3AL = data[\"M3A-Q13.png\"][measure] + data[\"M3A-Q14.png\"][measure] + data[\"M3A-Q15.png\"][measure] \n",
    "    M3AG = data[\"M3A-Q16.png\"][measure] +data[\"M3A-Q17.png\"][measure] +data[\"M3A-Q18.png\"][measure]\n",
    "    M3BL = data[\"M3B-Q13.png\"][measure] + data[\"M3B-Q14.png\"][measure] + data[\"M3B-Q15.png\"][measure] \n",
    "    M3BG = data[\"M3B-Q16.png\"][measure] +data[\"M3B-Q17.png\"][measure] +data[\"M3B-Q18.png\"][measure]\n",
    "    M4AL = data[\"M4A-Q19.png\"][measure] + data[\"M4A-Q20.png\"][measure] + data[\"M4A-Q24.png\"][measure] \n",
    "    M4AG = data[\"M4A-Q22.png\"][measure] +data[\"M4A-Q23.png\"][measure] +data[\"M4A-Q21.png\"][measure]\n",
    "    M4BL = data[\"M4B-Q19.png\"][measure] + data[\"M4B-Q20.png\"][measure] + data[\"M4B-Q24.png\"][measure] \n",
    "    M4BG = data[\"M4B-Q22.png\"][measure] +data[\"M4B-Q23.png\"][measure] +data[\"M4B-Q21.png\"][measure]\n",
    "\n",
    "    global messyDirectionGlobal\n",
    "    global nonMessyDirectionGlobal\n",
    "    global messyDirectionLocal\n",
    "    global nonMessyDirectionLocal\n",
    "    global messyVisibilityGlobal\n",
    "    global nonMessyVisibilityGlobal\n",
    "    global messyVisibilityLocal\n",
    "    global nonMessyVisibilityLocal\n",
    "    \n",
    "    messyDirectionGlobal = M1BG + M3AG\n",
    "    nonMessyDirectionGlobal = M1AG + M3BG\n",
    "    messyDirectionLocal = M1BL + M3AL\n",
    "    nonMessyDirectionLocal = M1AL + M3BL\n",
    "    messyVisibilityGlobal = M2AG + M4BG\n",
    "    nonMessyVisibilityGlobal = M2BG + M4AG\n",
    "    messyVisibilityLocal = M2AL + M4BL\n",
    "    nonMessyVisibilityLocal = M2BL + M4AL"
   ]
  },
  {
   "cell_type": "code",
   "execution_count": 117,
   "metadata": {
    "collapsed": true
   },
   "outputs": [],
   "source": [
    "def statisticalTest(data1, data2, normalDistributed):       \n",
    "    statistic = 0\n",
    "    pval = 0\n",
    "    if normalDistributed is True:\n",
    "        #Parametric test\n",
    "        #statistic, pval = statsmodels.test(data1,data2,paired=True)\n",
    "        statistic, pval = stats.stats.ttest_rel(data1, data2)\n",
    "    else: \n",
    "        #Non-parametric test\n",
    "        statistic, pval = stats.wilcoxon(data1,data2)\n",
    "    return statistic, pval"
   ]
  },
  {
   "cell_type": "code",
   "execution_count": 118,
   "metadata": {},
   "outputs": [
    {
     "name": "stdout",
     "output_type": "stream",
     "text": [
      "amountOfFixations 1.415 0.165\n",
      "fixationsPerSecond 370.000 0.780\n",
      "fixationDuration 0.658 0.514\n",
      "saccadeVelocityList 326.000 0.372\n",
      "pupilDilationDiff -1.125 0.268\n"
     ]
    }
   ],
   "source": [
    "#Change of direction - High Global vs Low Global\n",
    "    #Fixation count\n",
    "measure = \"amountOfFixations\"\n",
    "changeMeasure(measure)\n",
    "statistic, pval = statisticalTest(messyDirectionGlobal, nonMessyDirectionGlobal, True)\n",
    "print measure, \"%.3f\" % (statistic,), \"%.3f\" % (pval,)\n",
    "    #Fixations per second\n",
    "measure = \"fixationsPerSecond\"\n",
    "changeMeasure(measure)\n",
    "statistic, pval = statisticalTest(messyDirectionGlobal, nonMessyDirectionGlobal, False)\n",
    "print measure, \"%.3f\" % (statistic,), \"%.3f\" % (pval,)\n",
    "    #Fixation duration\n",
    "measure = \"fixationDuration\"\n",
    "changeMeasure(measure)\n",
    "statistic, pval = statisticalTest(messyDirectionGlobal, nonMessyDirectionGlobal, True)\n",
    "print measure, \"%.3f\" % (statistic,), \"%.3f\" % (pval,)\n",
    "    #Saccade velocity\n",
    "measure = \"saccadeVelocityList\"\n",
    "changeMeasure(measure)\n",
    "statistic, pval = statisticalTest(messyDirectionGlobal, nonMessyDirectionGlobal, False)\n",
    "print measure, \"%.3f\" % (statistic,), \"%.3f\" % (pval,)\n",
    "    #Pupil dilation difference\n",
    "measure = \"pupilDilationDiff\"\n",
    "changeMeasure(measure)\n",
    "statistic, pval = statisticalTest(messyDirectionGlobal, nonMessyDirectionGlobal, True)\n",
    "print measure, \"%.3f\" % (statistic,), \"%.3f\" % (pval,)"
   ]
  },
  {
   "cell_type": "code",
   "execution_count": 119,
   "metadata": {},
   "outputs": [
    {
     "name": "stdout",
     "output_type": "stream",
     "text": [
      "amountOfFixations 288.000 0.231\n",
      "fixationsPerSecond 296.000 0.190\n",
      "fixationDuration 278.000 0.118\n",
      "saccadeVelocityList -0.970 0.338\n",
      "pupilDilationDiff 370.000 0.780\n"
     ]
    }
   ],
   "source": [
    "#Change of direction - High Local vs Low Local\n",
    "    #Fixation count\n",
    "measure = \"amountOfFixations\"\n",
    "changeMeasure(measure)\n",
    "statistic, pval = statisticalTest(messyDirectionLocal, nonMessyDirectionLocal, False)\n",
    "print measure, \"%.3f\" % (statistic,), \"%.3f\" % (pval,)\n",
    "    #Fixations per second\n",
    "measure = \"fixationsPerSecond\"\n",
    "changeMeasure(measure)\n",
    "statistic, pval = statisticalTest(messyDirectionLocal, nonMessyDirectionLocal, False)\n",
    "print measure, \"%.3f\" % (statistic,), \"%.3f\" % (pval,)\n",
    "    #Fixation duration\n",
    "measure = \"fixationDuration\"\n",
    "changeMeasure(measure)\n",
    "statistic, pval = statisticalTest(messyDirectionLocal, nonMessyDirectionLocal, False)\n",
    "print measure, \"%.3f\" % (statistic,), \"%.3f\" % (pval,)\n",
    "    #Saccade velocity\n",
    "measure = \"saccadeVelocityList\"\n",
    "changeMeasure(measure)\n",
    "statistic, pval = statisticalTest(messyDirectionLocal, nonMessyDirectionLocal, True)\n",
    "print measure, \"%.3f\" % (statistic,), \"%.3f\" % (pval,)\n",
    "    #Pupil dilation difference\n",
    "measure = \"pupilDilationDiff\"\n",
    "changeMeasure(measure)\n",
    "statistic, pval = statisticalTest(messyDirectionLocal, nonMessyDirectionLocal, False)\n",
    "print measure, \"%.3f\" % (statistic,), \"%.3f\" % (pval,)"
   ]
  },
  {
   "cell_type": "code",
   "execution_count": 120,
   "metadata": {},
   "outputs": [
    {
     "name": "stdout",
     "output_type": "stream",
     "text": [
      "amountOfFixations 306.500 0.244\n",
      "fixationsPerSecond -0.929 0.359\n",
      "fixationDuration 0.897 0.375\n",
      "saccadeVelocityList 344.000 0.521\n",
      "pupilDilationDiff 0.473 0.639\n"
     ]
    }
   ],
   "source": [
    "#Block visibility - High Global vs Low Global\n",
    "    #Fixation count\n",
    "measure = \"amountOfFixations\"\n",
    "changeMeasure(measure)\n",
    "statistic, pval = statisticalTest(messyVisibilityGlobal, nonMessyVisibilityGlobal, False)\n",
    "print measure, \"%.3f\" % (statistic,), \"%.3f\" % (pval,)\n",
    "    #Fixations per second\n",
    "measure = \"fixationsPerSecond\"\n",
    "changeMeasure(measure)\n",
    "statistic, pval = statisticalTest(messyVisibilityGlobal, nonMessyVisibilityGlobal, True)\n",
    "print measure, \"%.3f\" % (statistic,), \"%.3f\" % (pval,)\n",
    "    #Fixation duration\n",
    "measure = \"fixationDuration\"\n",
    "changeMeasure(measure)\n",
    "statistic, pval = statisticalTest(messyVisibilityGlobal, nonMessyVisibilityGlobal, True)\n",
    "print measure, \"%.3f\" % (statistic,), \"%.3f\" % (pval,)\n",
    "    #Saccade velocity\n",
    "measure = \"saccadeVelocityList\"\n",
    "changeMeasure(measure)\n",
    "statistic, pval = statisticalTest(messyVisibilityGlobal, nonMessyVisibilityGlobal, False)\n",
    "print measure, \"%.3f\" % (statistic,), \"%.3f\" % (pval,)\n",
    "    #Pupil dilation difference\n",
    "measure = \"pupilDilationDiff\"\n",
    "changeMeasure(measure)\n",
    "statistic, pval = statisticalTest(messyVisibilityGlobal, nonMessyVisibilityGlobal, True)\n",
    "print measure, \"%.3f\" % (statistic,), \"%.3f\" % (pval,)"
   ]
  },
  {
   "cell_type": "code",
   "execution_count": 121,
   "metadata": {},
   "outputs": [
    {
     "name": "stdout",
     "output_type": "stream",
     "text": [
      "amountOfFixations 226.500 0.037\n",
      "fixationsPerSecond -2.047 0.048\n",
      "fixationDuration 0.890 0.379\n",
      "saccadeVelocityList 269.000 0.091\n",
      "pupilDilationDiff 268.000 0.089\n"
     ]
    }
   ],
   "source": [
    "#Change of direction - High Local vs Low Local\n",
    "    #Fixation count\n",
    "measure = \"amountOfFixations\"\n",
    "changeMeasure(measure)\n",
    "statistic, pval = statisticalTest(messyVisibilityLocal, nonMessyVisibilityLocal, False)\n",
    "print measure, \"%.3f\" % (statistic,), \"%.3f\" % (pval,)\n",
    "    #Fixations per second\n",
    "measure = \"fixationsPerSecond\"\n",
    "changeMeasure(measure)\n",
    "statistic, pval = statisticalTest(messyVisibilityLocal, nonMessyVisibilityLocal, True)\n",
    "print measure, \"%.3f\" % (statistic,), \"%.3f\" % (pval,)\n",
    "    #Fixation duration\n",
    "measure = \"fixationDuration\"\n",
    "changeMeasure(measure)\n",
    "statistic, pval = statisticalTest(messyVisibilityLocal, nonMessyVisibilityLocal, True)\n",
    "print measure, \"%.3f\" % (statistic,), \"%.3f\" % (pval,)\n",
    "    #Saccade velocity\n",
    "measure = \"saccadeVelocityList\"\n",
    "changeMeasure(measure)\n",
    "statistic, pval = statisticalTest(messyVisibilityLocal, nonMessyVisibilityLocal, False)\n",
    "print measure, \"%.3f\" % (statistic,), \"%.3f\" % (pval,)\n",
    "    #Pupil dilation difference\n",
    "measure = \"pupilDilationDiff\"\n",
    "changeMeasure(measure)\n",
    "statistic, pval = statisticalTest(messyVisibilityLocal, nonMessyVisibilityLocal, False)\n",
    "print measure, \"%.3f\" % (statistic,), \"%.3f\" % (pval,)"
   ]
  },
  {
   "cell_type": "code",
   "execution_count": 122,
   "metadata": {},
   "outputs": [
    {
     "name": "stdout",
     "output_type": "stream",
     "text": [
      "amountOfFixations 74.000 0.000\n",
      "fixationsPerSecond 347.000 0.548\n",
      "fixationDuration 213.000 0.014\n",
      "saccadeVelocityList 306.000 0.241\n",
      "pupilDilationDiff 322.000 0.343\n"
     ]
    }
   ],
   "source": [
    "#Type of question - Change of Direction High Global vs Change of Direction High Local\n",
    "    #Fixation count\n",
    "measure = \"amountOfFixations\"\n",
    "changeMeasure(measure)\n",
    "statistic, pval = statisticalTest(messyDirectionGlobal, messyDirectionLocal, False)\n",
    "print measure, \"%.3f\" % (statistic,), \"%.3f\" % (pval,)\n",
    "    #Fixations per second\n",
    "measure = \"fixationsPerSecond\"\n",
    "changeMeasure(measure)\n",
    "statistic, pval = statisticalTest(messyDirectionGlobal, messyDirectionLocal, False)\n",
    "print measure, \"%.3f\" % (statistic,), \"%.3f\" % (pval,)\n",
    "    #Fixation duration\n",
    "measure = \"fixationDuration\"\n",
    "changeMeasure(measure)\n",
    "statistic, pval = statisticalTest(messyDirectionGlobal, messyDirectionLocal, False)\n",
    "print measure, \"%.3f\" % (statistic,), \"%.3f\" % (pval,)\n",
    "    #Saccade velocity\n",
    "measure = \"saccadeVelocityList\"\n",
    "changeMeasure(measure)\n",
    "statistic, pval = statisticalTest(messyDirectionGlobal, messyDirectionLocal, False)\n",
    "print measure, \"%.3f\" % (statistic,), \"%.3f\" % (pval,)\n",
    "    #Pupil dilation difference\n",
    "measure = \"pupilDilationDiff\"\n",
    "changeMeasure(measure)\n",
    "statistic, pval = statisticalTest(messyDirectionGlobal, messyDirectionLocal, False)\n",
    "print measure, \"%.3f\" % (statistic,), \"%.3f\" % (pval,)"
   ]
  },
  {
   "cell_type": "code",
   "execution_count": 123,
   "metadata": {},
   "outputs": [
    {
     "name": "stdout",
     "output_type": "stream",
     "text": [
      "amountOfFixations 59.000 0.000\n",
      "fixationsPerSecond -0.526 0.602\n",
      "fixationDuration -0.722 0.475\n",
      "saccadeVelocityList 1.658 0.106\n",
      "pupilDilationDiff 2.211 0.033\n"
     ]
    }
   ],
   "source": [
    "#Type of question - Change of Direction Low Global vs Change of Direction Low Local\n",
    "    #Fixation count\n",
    "measure = \"amountOfFixations\"\n",
    "changeMeasure(measure)\n",
    "statistic, pval = statisticalTest(nonMessyDirectionGlobal, nonMessyDirectionLocal, False)\n",
    "print measure, \"%.3f\" % (statistic,), \"%.3f\" % (pval,)\n",
    "    #Fixations per second\n",
    "measure = \"fixationsPerSecond\"\n",
    "changeMeasure(measure)\n",
    "statistic, pval = statisticalTest(nonMessyDirectionGlobal, nonMessyDirectionLocal, True)\n",
    "print measure, \"%.3f\" % (statistic,), \"%.3f\" % (pval,)\n",
    "    #Fixation duration\n",
    "measure = \"fixationDuration\"\n",
    "changeMeasure(measure)\n",
    "statistic, pval = statisticalTest(nonMessyDirectionGlobal, nonMessyDirectionLocal, True)\n",
    "print measure, \"%.3f\" % (statistic,), \"%.3f\" % (pval,)\n",
    "    #Saccade velocity\n",
    "measure = \"saccadeVelocityList\"\n",
    "changeMeasure(measure)\n",
    "statistic, pval = statisticalTest(nonMessyDirectionGlobal, nonMessyDirectionLocal, True)\n",
    "print measure, \"%.3f\" % (statistic,), \"%.3f\" % (pval,)\n",
    "    #Pupil dilation difference\n",
    "measure = \"pupilDilationDiff\"\n",
    "changeMeasure(measure)\n",
    "statistic, pval = statisticalTest(nonMessyDirectionGlobal, nonMessyDirectionLocal, True)\n",
    "print measure, \"%.3f\" % (statistic,), \"%.3f\" % (pval,)"
   ]
  },
  {
   "cell_type": "code",
   "execution_count": 124,
   "metadata": {},
   "outputs": [
    {
     "name": "stdout",
     "output_type": "stream",
     "text": [
      "amountOfFixations 88.000 0.000\n",
      "fixationsPerSecond 1.311 0.198\n",
      "fixationDuration -0.966 0.340\n",
      "saccadeVelocityList 1.835 0.074\n",
      "pupilDilationDiff 1.669 0.103\n"
     ]
    }
   ],
   "source": [
    "#Type of question - Block Visibility Low Global vs Block Visibility Low Local\n",
    "    #Fixation count\n",
    "measure = \"amountOfFixations\"\n",
    "changeMeasure(measure)\n",
    "statistic, pval = statisticalTest(messyVisibilityGlobal, messyVisibilityLocal, False)\n",
    "print measure, \"%.3f\" % (statistic,), \"%.3f\" % (pval,)\n",
    "    #Fixations per second\n",
    "measure = \"fixationsPerSecond\"\n",
    "changeMeasure(measure)\n",
    "statistic, pval = statisticalTest(messyVisibilityGlobal, messyVisibilityLocal, True)\n",
    "print measure, \"%.3f\" % (statistic,), \"%.3f\" % (pval,)\n",
    "    #Fixation duration\n",
    "measure = \"fixationDuration\"\n",
    "changeMeasure(measure)\n",
    "statistic, pval = statisticalTest(messyVisibilityGlobal, messyVisibilityLocal, True)\n",
    "print measure, \"%.3f\" % (statistic,), \"%.3f\" % (pval,)\n",
    "    #Saccade velocity\n",
    "measure = \"saccadeVelocityList\"\n",
    "changeMeasure(measure)\n",
    "statistic, pval = statisticalTest(messyVisibilityGlobal, messyVisibilityLocal, True)\n",
    "print measure, \"%.3f\" % (statistic,), \"%.3f\" % (pval,)\n",
    "    #Pupil dilation difference\n",
    "measure = \"pupilDilationDiff\"\n",
    "changeMeasure(measure)\n",
    "statistic, pval = statisticalTest(messyVisibilityGlobal, messyVisibilityLocal, True)\n",
    "print measure, \"%.3f\" % (statistic,), \"%.3f\" % (pval,)"
   ]
  },
  {
   "cell_type": "code",
   "execution_count": 125,
   "metadata": {},
   "outputs": [
    {
     "name": "stdout",
     "output_type": "stream",
     "text": [
      "amountOfFixations 91.500 0.000\n",
      "fixationsPerSecond -0.035 0.973\n",
      "fixationDuration -1.176 0.247\n",
      "saccadeVelocityList 389.000 0.989\n",
      "pupilDilationDiff 307.000 0.247\n"
     ]
    }
   ],
   "source": [
    "#Type of question - Block visibility High Global vs Block visibility High Local\n",
    "    #Fixation count\n",
    "measure = \"amountOfFixations\"\n",
    "changeMeasure(measure)\n",
    "statistic, pval = statisticalTest(nonMessyVisibilityGlobal, nonMessyVisibilityLocal, False)\n",
    "print measure, \"%.3f\" % (statistic,), \"%.3f\" % (pval,)\n",
    "    #Fixations per second\n",
    "measure = \"fixationsPerSecond\"\n",
    "changeMeasure(measure)\n",
    "statistic, pval = statisticalTest(nonMessyVisibilityGlobal, nonMessyVisibilityLocal, True)\n",
    "print measure, \"%.3f\" % (statistic,), \"%.3f\" % (pval,)\n",
    "    #Fixation duration\n",
    "measure = \"fixationDuration\"\n",
    "changeMeasure(measure)\n",
    "statistic, pval = statisticalTest(nonMessyVisibilityGlobal, nonMessyVisibilityLocal, True)\n",
    "print measure, \"%.3f\" % (statistic,), \"%.3f\" % (pval,)\n",
    "    #Saccade velocity\n",
    "measure = \"saccadeVelocityList\"\n",
    "changeMeasure(measure)\n",
    "statistic, pval = statisticalTest(nonMessyVisibilityGlobal, nonMessyVisibilityLocal, False)\n",
    "print measure, \"%.3f\" % (statistic,), \"%.3f\" % (pval,)\n",
    "    #Pupil dilation difference\n",
    "measure = \"pupilDilationDiff\"\n",
    "changeMeasure(measure)\n",
    "statistic, pval = statisticalTest(nonMessyVisibilityGlobal, nonMessyVisibilityLocal, False)\n",
    "print measure, \"%.3f\" % (statistic,), \"%.3f\" % (pval,)"
   ]
  },
  {
   "cell_type": "code",
   "execution_count": 126,
   "metadata": {},
   "outputs": [
    {
     "name": "stdout",
     "output_type": "stream",
     "text": [
      "duration 1.469 0.150\n",
      "duration 276.000 0.112\n",
      "duration 307.000 0.247\n",
      "duration 237.000 0.033\n",
      "duration 70.000 0.000\n",
      "duration 6.240 0.000\n",
      "duration 98.000 0.000\n",
      "duration 81.000 0.000\n"
     ]
    }
   ],
   "source": [
    "measure = \"duration\"\n",
    "changeMeasure(measure)\n",
    "statistic, pval = statisticalTest(messyDirectionGlobal, nonMessyDirectionGlobal, True)\n",
    "print measure, \"%.3f\" % (statistic,), \"%.3f\" % (pval,)\n",
    "statistic, pval = statisticalTest(messyDirectionLocal, nonMessyDirectionLocal, False)\n",
    "print measure, \"%.3f\" % (statistic,), \"%.3f\" % (pval,)\n",
    "statistic, pval = statisticalTest(messyVisibilityGlobal, nonMessyVisibilityGlobal, False)\n",
    "print measure, \"%.3f\" % (statistic,), \"%.3f\" % (pval,)\n",
    "statistic, pval = statisticalTest(messyVisibilityLocal, nonMessyVisibilityLocal, False)\n",
    "print measure, \"%.3f\" % (statistic,), \"%.3f\" % (pval,)\n",
    "statistic, pval = statisticalTest(messyDirectionGlobal, messyDirectionLocal, False)\n",
    "print measure, \"%.3f\" % (statistic,), \"%.3f\" % (pval,)\n",
    "statistic, pval = statisticalTest(nonMessyDirectionGlobal, nonMessyDirectionLocal, True)\n",
    "print measure, \"%.3f\" % (statistic,), \"%.3f\" % (pval,)\n",
    "statistic, pval = statisticalTest(messyVisibilityGlobal, messyVisibilityLocal, False)\n",
    "print measure, \"%.3f\" % (statistic,), \"%.3f\" % (pval,)\n",
    "statistic, pval = statisticalTest(nonMessyVisibilityGlobal, nonMessyVisibilityLocal, False)\n",
    "print measure, \"%.3f\" % (statistic,), \"%.3f\" % (pval,)"
   ]
  },
  {
   "cell_type": "code",
   "execution_count": 127,
   "metadata": {},
   "outputs": [
    {
     "name": "stdout",
     "output_type": "stream",
     "text": [
      "accuracy 22.500 1.000\n",
      "accuracy 7.000 0.453\n",
      "accuracy 22.000 0.951\n",
      "accuracy 1.897 0.082\n",
      "accuracy 0.000 0.046\n",
      "accuracy 15.000 0.166\n",
      "accuracy 0.000 0.008\n",
      "accuracy 4.000 0.035\n"
     ]
    },
    {
     "name": "stderr",
     "output_type": "stream",
     "text": [
      "C:\\Users\\Simon\\Anaconda2\\lib\\site-packages\\scipy\\stats\\morestats.py:2397: UserWarning: Warning: sample size too small for normal approximation.\n",
      "  warnings.warn(\"Warning: sample size too small for normal approximation.\")\n"
     ]
    }
   ],
   "source": [
    "measure = \"accuracy\"\n",
    "M1AL = []\n",
    "for index in xrange(len(data[\"M1A-Q01.png\"][measure])):\n",
    "    M1AL.append(data[\"M1A-Q01.png\"][measure][index]+data[\"M1A-Q02.png\"][measure][index]+data[\"M1A-Q03.png\"][measure][index])\n",
    "M1AG = []\n",
    "for index in xrange(len(data[\"M1A-Q04.png\"][measure])):\n",
    "    M1AG.append(data[\"M1A-Q04.png\"][measure][index]+data[\"M1A-Q05.png\"][measure][index]+data[\"M1A-Q06.png\"][measure][index])\n",
    "M1BL = []\n",
    "for index in xrange(len(data[\"M1B-Q01.png\"][measure])):\n",
    "    M1BL.append(data[\"M1B-Q01.png\"][measure][index]+data[\"M1B-Q02.png\"][measure][index]+data[\"M1B-Q03.png\"][measure][index])\n",
    "M1BG = []\n",
    "for index in xrange(len(data[\"M1B-Q04.png\"][measure])):\n",
    "    M1BG.append(data[\"M1B-Q04.png\"][measure][index]+data[\"M1B-Q05.png\"][measure][index]+data[\"M1B-Q06.png\"][measure][index])\n",
    "M2AL = []\n",
    "for index in xrange(len(data[\"M2A-Q07.png\"][measure])):\n",
    "    M2AL.append(data[\"M2A-Q07.png\"][measure][index]+data[\"M2A-Q08.png\"][measure][index]+data[\"M2A-Q09.png\"][measure][index])\n",
    "M2AG = []\n",
    "for index in xrange(len(data[\"M2A-Q10.png\"][measure])):\n",
    "    M2AG.append(data[\"M2A-Q10.png\"][measure][index]+data[\"M2A-Q11.png\"][measure][index]+data[\"M2A-Q12.png\"][measure][index])\n",
    "M2BL = []\n",
    "for index in xrange(len(data[\"M2B-Q07.png\"][measure])):\n",
    "    M2BL.append(data[\"M2B-Q07.png\"][measure][index]+data[\"M2B-Q08.png\"][measure][index]+data[\"M2B-Q09.png\"][measure][index])\n",
    "M2BG = []\n",
    "for index in xrange(len(data[\"M2B-Q10.png\"][measure])):\n",
    "    M2BG.append(data[\"M2B-Q10.png\"][measure][index]+data[\"M2B-Q11.png\"][measure][index]+data[\"M2B-Q12.png\"][measure][index])\n",
    "M3AL = []\n",
    "for index in xrange(len(data[\"M3A-Q13.png\"][measure])):\n",
    "    M3AL.append(data[\"M3A-Q13.png\"][measure][index]+data[\"M3A-Q14.png\"][measure][index]+data[\"M3A-Q15.png\"][measure][index])\n",
    "M3AG = []\n",
    "for index in xrange(len(data[\"M3A-Q16.png\"][measure])):\n",
    "    M3AG.append(data[\"M3A-Q16.png\"][measure][index]+data[\"M3A-Q17.png\"][measure][index]+data[\"M3A-Q18.png\"][measure][index])\n",
    "M3BL = []\n",
    "for index in xrange(len(data[\"M3B-Q13.png\"][measure])):\n",
    "    M3BL.append(data[\"M3B-Q13.png\"][measure][index]+data[\"M3B-Q14.png\"][measure][index]+data[\"M3B-Q15.png\"][measure][index])\n",
    "M3BG = []\n",
    "for index in xrange(len(data[\"M3B-Q16.png\"][measure])):\n",
    "    M3BG.append(data[\"M3B-Q16.png\"][measure][index]+data[\"M3B-Q17.png\"][measure][index]+data[\"M3B-Q18.png\"][measure][index])\n",
    "M4AL = []\n",
    "for index in xrange(len(data[\"M4A-Q19.png\"][measure])):\n",
    "    M4AL.append(data[\"M4A-Q19.png\"][measure][index]+data[\"M4A-Q20.png\"][measure][index]+data[\"M4A-Q24.png\"][measure][index])\n",
    "M4AG = []\n",
    "for index in xrange(len(data[\"M4A-Q22.png\"][measure])):\n",
    "    M4AG.append(data[\"M4A-Q22.png\"][measure][index]+data[\"M4A-Q23.png\"][measure][index]+data[\"M4A-Q21.png\"][measure][index])\n",
    "M4BL = []\n",
    "for index in xrange(len(data[\"M4B-Q19.png\"][measure])):\n",
    "    M4BL.append(data[\"M4B-Q19.png\"][measure][index]+data[\"M4B-Q20.png\"][measure][index]+data[\"M4B-Q24.png\"][measure][index])\n",
    "M4BG = []\n",
    "for index in xrange(len(data[\"M4B-Q22.png\"][measure])):\n",
    "    M4BG.append(data[\"M4B-Q22.png\"][measure][index]+data[\"M4B-Q23.png\"][measure][index]+data[\"M4B-Q21.png\"][measure][index])\n",
    "\n",
    "messyDirectionGlobal = M1BG + M3AG\n",
    "nonMessyDirectionGlobal = M1AG + M3BG\n",
    "messyDirectionLocal = M1BL + M3AL\n",
    "nonMessyDirectionLocal = M1AL + M3BL\n",
    "messyVisibilityGlobal = M2AG + M4BG\n",
    "nonMessyVisibilityGlobal = M2BG + M4AG\n",
    "messyVisibilityLocal = M2AL + M4BL\n",
    "nonMessyVisibilityLocal = M2BL + M4AL\n",
    "\n",
    "statistic, pval = statisticalTest(messyDirectionGlobal, nonMessyDirectionGlobal, False)\n",
    "print measure, \"%.3f\" % (statistic,), \"%.3f\" % (pval,)\n",
    "statistic, pval = statisticalTest(messyDirectionLocal, nonMessyDirectionLocal, False)\n",
    "print measure, \"%.3f\" % (statistic,), \"%.3f\" % (pval,)\n",
    "statistic, pval = statisticalTest(messyVisibilityGlobal, nonMessyVisibilityGlobal, False)\n",
    "print measure, \"%.3f\" % (statistic,), \"%.3f\" % (pval,)\n",
    "statistic, pval = statisticalTest(messyVisibilityLocal, nonMessyVisibilityLocal, True)\n",
    "print measure, \"%.3f\" % (statistic,), \"%.3f\" % (pval,)\n",
    "statistic, pval = statisticalTest(messyDirectionGlobal, messyDirectionLocal, False)\n",
    "print measure, \"%.3f\" % (statistic,), \"%.3f\" % (pval,)\n",
    "statistic, pval = statisticalTest(nonMessyDirectionGlobal, nonMessyDirectionLocal, False)\n",
    "print measure, \"%.3f\" % (statistic,), \"%.3f\" % (pval,)\n",
    "statistic, pval = statisticalTest(messyVisibilityGlobal, messyVisibilityLocal, False)\n",
    "print measure, \"%.3f\" % (statistic,), \"%.3f\" % (pval,)\n",
    "statistic, pval = statisticalTest(nonMessyVisibilityGlobal, nonMessyVisibilityLocal, False)\n",
    "print measure, \"%.3f\" % (statistic,), \"%.3f\" % (pval,)"
   ]
  },
  {
   "cell_type": "code",
   "execution_count": 128,
   "metadata": {
    "collapsed": true
   },
   "outputs": [],
   "source": [
    "messyDirectionGlobal = M1BG + M3AG\n",
    "nonMessyDirectionGlobal = M1AG + M3BG\n",
    "messyDirectionLocal = M1BL + M3AL\n",
    "nonMessyDirectionLocal = M1AL + M3BL\n",
    "messyVisibilityGlobal = M2AG + M4BG\n",
    "nonMessyVisibilityGlobal = M2BG + M4AG\n",
    "messyVisibilityLocal = M2AL + M4BL\n",
    "nonMessyVisibilityLocal = M2BL + M4AL"
   ]
  },
  {
   "cell_type": "code",
   "execution_count": 151,
   "metadata": {},
   "outputs": [],
   "source": [
    "aResults = [0,0,0,0,0,0,0]\n",
    "for image in data.keys():\n",
    "    if image[0] != \"T\" and image[2] == \"A\":\n",
    "        for index in xrange(len(data[image][\"accuracy\"])):\n",
    "            aResults[index] += data[image][\"accuracy\"][index]"
   ]
  },
  {
   "cell_type": "code",
   "execution_count": 152,
   "metadata": {
    "collapsed": true
   },
   "outputs": [],
   "source": [
    "bResults = [0,0,0,0,0,0]\n",
    "for image in data.keys():\n",
    "    if image[0] != \"T\" and image[2] == \"B\":\n",
    "        for index in xrange(len(data[image][\"accuracy\"])):\n",
    "            bResults[index] += data[image][\"accuracy\"][index]"
   ]
  },
  {
   "cell_type": "code",
   "execution_count": 162,
   "metadata": {},
   "outputs": [
    {
     "name": "stdout",
     "output_type": "stream",
     "text": [
      "[17, 15, 20, 23, 23, 20, 17]\n",
      "[10, 22, 19, 21, 20, 19]\n",
      "18.9230769231\n",
      "20.0\n"
     ]
    }
   ],
   "source": [
    "\n",
    "print aResults\n",
    "print bResults\n",
    "print np.mean(aResults+bResults)\n",
    "print np.median(aResults+bResults)"
   ]
  },
  {
   "cell_type": "code",
   "execution_count": null,
   "metadata": {
    "collapsed": true
   },
   "outputs": [],
   "source": []
  },
  {
   "cell_type": "code",
   "execution_count": null,
   "metadata": {
    "collapsed": true
   },
   "outputs": [],
   "source": []
  },
  {
   "cell_type": "code",
   "execution_count": null,
   "metadata": {
    "collapsed": true
   },
   "outputs": [],
   "source": []
  },
  {
   "cell_type": "code",
   "execution_count": null,
   "metadata": {
    "collapsed": true
   },
   "outputs": [],
   "source": []
  },
  {
   "cell_type": "code",
   "execution_count": null,
   "metadata": {
    "collapsed": true
   },
   "outputs": [],
   "source": []
  },
  {
   "cell_type": "code",
   "execution_count": null,
   "metadata": {
    "collapsed": true
   },
   "outputs": [],
   "source": []
  },
  {
   "cell_type": "code",
   "execution_count": null,
   "metadata": {
    "collapsed": true
   },
   "outputs": [],
   "source": []
  },
  {
   "cell_type": "code",
   "execution_count": null,
   "metadata": {
    "collapsed": true
   },
   "outputs": [],
   "source": []
  },
  {
   "cell_type": "code",
   "execution_count": null,
   "metadata": {
    "collapsed": true
   },
   "outputs": [],
   "source": []
  },
  {
   "cell_type": "code",
   "execution_count": null,
   "metadata": {
    "collapsed": true
   },
   "outputs": [],
   "source": []
  },
  {
   "cell_type": "code",
   "execution_count": null,
   "metadata": {
    "collapsed": true
   },
   "outputs": [],
   "source": []
  },
  {
   "cell_type": "code",
   "execution_count": null,
   "metadata": {
    "collapsed": true
   },
   "outputs": [],
   "source": []
  },
  {
   "cell_type": "code",
   "execution_count": null,
   "metadata": {
    "collapsed": true
   },
   "outputs": [],
   "source": []
  },
  {
   "cell_type": "code",
   "execution_count": null,
   "metadata": {
    "collapsed": true
   },
   "outputs": [],
   "source": []
  },
  {
   "cell_type": "code",
   "execution_count": null,
   "metadata": {
    "collapsed": true
   },
   "outputs": [],
   "source": []
  },
  {
   "cell_type": "code",
   "execution_count": null,
   "metadata": {
    "collapsed": true
   },
   "outputs": [],
   "source": []
  },
  {
   "cell_type": "code",
   "execution_count": null,
   "metadata": {
    "collapsed": true
   },
   "outputs": [],
   "source": []
  },
  {
   "cell_type": "code",
   "execution_count": null,
   "metadata": {
    "collapsed": true
   },
   "outputs": [],
   "source": []
  },
  {
   "cell_type": "code",
   "execution_count": null,
   "metadata": {
    "collapsed": true
   },
   "outputs": [],
   "source": []
  },
  {
   "cell_type": "code",
   "execution_count": null,
   "metadata": {
    "collapsed": true
   },
   "outputs": [],
   "source": []
  },
  {
   "cell_type": "code",
   "execution_count": null,
   "metadata": {
    "collapsed": true
   },
   "outputs": [],
   "source": []
  },
  {
   "cell_type": "code",
   "execution_count": null,
   "metadata": {
    "collapsed": true
   },
   "outputs": [],
   "source": []
  },
  {
   "cell_type": "code",
   "execution_count": null,
   "metadata": {
    "collapsed": true
   },
   "outputs": [],
   "source": []
  },
  {
   "cell_type": "code",
   "execution_count": null,
   "metadata": {
    "collapsed": true
   },
   "outputs": [],
   "source": []
  },
  {
   "cell_type": "code",
   "execution_count": null,
   "metadata": {
    "collapsed": true
   },
   "outputs": [],
   "source": []
  },
  {
   "cell_type": "code",
   "execution_count": null,
   "metadata": {
    "collapsed": true
   },
   "outputs": [],
   "source": []
  }
 ],
 "metadata": {
  "anaconda-cloud": {},
  "kernelspec": {
   "display_name": "Python [default]",
   "language": "python",
   "name": "python2"
  },
  "language_info": {
   "codemirror_mode": {
    "name": "ipython",
    "version": 2
   },
   "file_extension": ".py",
   "mimetype": "text/x-python",
   "name": "python",
   "nbconvert_exporter": "python",
   "pygments_lexer": "ipython2",
   "version": "2.7.13"
  }
 },
 "nbformat": 4,
 "nbformat_minor": 1
}
